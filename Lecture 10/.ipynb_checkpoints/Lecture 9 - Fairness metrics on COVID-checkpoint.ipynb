{
 "cells": [
  {
   "cell_type": "markdown",
   "id": "df2ce2d0-3fb3-4c2e-8bb2-6020fb010e7e",
   "metadata": {},
   "source": [
    "# Lecture 9 - metrics used for fairness with Random Forests on COVID data\n",
    "\n",
    "## Begin with loading packages we need for this example"
   ]
  },
  {
   "cell_type": "code",
   "execution_count": 489,
   "id": "1f541dfe-f00f-4284-96a6-43c9c542eb3b",
   "metadata": {
    "tags": []
   },
   "outputs": [],
   "source": [
    "library(magrittr)\n",
    "library(caret)\n",
    "library(splitTools)\n",
    "library(ROSE)\n",
    "library(rpart)\n",
    "library(caret)\n",
    "library(randomForest)"
   ]
  },
  {
   "cell_type": "markdown",
   "id": "e7758c03-efec-4943-b8f6-28bb5dfb02aa",
   "metadata": {},
   "source": [
    "## Copy the COVID data with complete rows"
   ]
  },
  {
   "cell_type": "code",
   "execution_count": 490,
   "id": "cbebf7a9-1660-404d-9359-bac7f6f685d8",
   "metadata": {
    "tags": []
   },
   "outputs": [
    {
     "data": {
      "text/html": [
       "<table class=\"dataframe\">\n",
       "<caption>A data.frame: 6 × 6</caption>\n",
       "<thead>\n",
       "\t<tr><th></th><th scope=col>case_status</th><th scope=col>age_group</th><th scope=col>gender</th><th scope=col>date_reported</th><th scope=col>exposure</th><th scope=col>health_region</th></tr>\n",
       "\t<tr><th></th><th scope=col>&lt;fct&gt;</th><th scope=col>&lt;fct&gt;</th><th scope=col>&lt;fct&gt;</th><th scope=col>&lt;dbl&gt;</th><th scope=col>&lt;fct&gt;</th><th scope=col>&lt;fct&gt;</th></tr>\n",
       "</thead>\n",
       "<tbody>\n",
       "\t<tr><th scope=row>1</th><td>0</td><td>40-49</td><td>Female</td><td>285.4583</td><td>Close Contact</td><td>York Region Public Health Services      </td></tr>\n",
       "\t<tr><th scope=row>2</th><td>0</td><td><span style=white-space:pre-wrap>&lt;20  </span></td><td><span style=white-space:pre-wrap>Male  </span></td><td>297.4583</td><td>Close Contact</td><td><span style=white-space:pre-wrap>York Region Public Health Services      </span></td></tr>\n",
       "\t<tr><th scope=row>3</th><td>0</td><td>50-59</td><td>Male  </td><td>274.4583</td><td>Not Reported </td><td>Peel Public Health                      </td></tr>\n",
       "\t<tr><th scope=row>4</th><td>0</td><td>20-29</td><td>Female</td><td>260.4583</td><td>Close Contact</td><td>Halton Region Health Department         </td></tr>\n",
       "\t<tr><th scope=row>5</th><td>0</td><td>30-39</td><td>Female</td><td>307.5000</td><td>Not Reported </td><td>Wellington-Dufferin-Guelph Public Health</td></tr>\n",
       "\t<tr><th scope=row>6</th><td>0</td><td>40-49</td><td>Female</td><td>306.5000</td><td>Close Contact</td><td>Halton Region Health Department         </td></tr>\n",
       "</tbody>\n",
       "</table>\n"
      ],
      "text/latex": [
       "A data.frame: 6 × 6\n",
       "\\begin{tabular}{r|llllll}\n",
       "  & case\\_status & age\\_group & gender & date\\_reported & exposure & health\\_region\\\\\n",
       "  & <fct> & <fct> & <fct> & <dbl> & <fct> & <fct>\\\\\n",
       "\\hline\n",
       "\t1 & 0 & 40-49 & Female & 285.4583 & Close Contact & York Region Public Health Services      \\\\\n",
       "\t2 & 0 & <20   & Male   & 297.4583 & Close Contact & York Region Public Health Services      \\\\\n",
       "\t3 & 0 & 50-59 & Male   & 274.4583 & Not Reported  & Peel Public Health                      \\\\\n",
       "\t4 & 0 & 20-29 & Female & 260.4583 & Close Contact & Halton Region Health Department         \\\\\n",
       "\t5 & 0 & 30-39 & Female & 307.5000 & Not Reported  & Wellington-Dufferin-Guelph Public Health\\\\\n",
       "\t6 & 0 & 40-49 & Female & 306.5000 & Close Contact & Halton Region Health Department         \\\\\n",
       "\\end{tabular}\n"
      ],
      "text/markdown": [
       "\n",
       "A data.frame: 6 × 6\n",
       "\n",
       "| <!--/--> | case_status &lt;fct&gt; | age_group &lt;fct&gt; | gender &lt;fct&gt; | date_reported &lt;dbl&gt; | exposure &lt;fct&gt; | health_region &lt;fct&gt; |\n",
       "|---|---|---|---|---|---|---|\n",
       "| 1 | 0 | 40-49 | Female | 285.4583 | Close Contact | York Region Public Health Services       |\n",
       "| 2 | 0 | &lt;20   | Male   | 297.4583 | Close Contact | York Region Public Health Services       |\n",
       "| 3 | 0 | 50-59 | Male   | 274.4583 | Not Reported  | Peel Public Health                       |\n",
       "| 4 | 0 | 20-29 | Female | 260.4583 | Close Contact | Halton Region Health Department          |\n",
       "| 5 | 0 | 30-39 | Female | 307.5000 | Not Reported  | Wellington-Dufferin-Guelph Public Health |\n",
       "| 6 | 0 | 40-49 | Female | 306.5000 | Close Contact | Halton Region Health Department          |\n",
       "\n"
      ],
      "text/plain": [
       "  case_status age_group gender date_reported exposure     \n",
       "1 0           40-49     Female 285.4583      Close Contact\n",
       "2 0           <20       Male   297.4583      Close Contact\n",
       "3 0           50-59     Male   274.4583      Not Reported \n",
       "4 0           20-29     Female 260.4583      Close Contact\n",
       "5 0           30-39     Female 307.5000      Not Reported \n",
       "6 0           40-49     Female 306.5000      Close Contact\n",
       "  health_region                           \n",
       "1 York Region Public Health Services      \n",
       "2 York Region Public Health Services      \n",
       "3 Peel Public Health                      \n",
       "4 Halton Region Health Department         \n",
       "5 Wellington-Dufferin-Guelph Public Health\n",
       "6 Halton Region Health Department         "
      ]
     },
     "metadata": {},
     "output_type": "display_data"
    }
   ],
   "source": [
    "df <- sdgd::oncovid \n",
    "df <- df[complete.cases(df),]\n",
    "df$case_status <- as.factor(df$case_status)\n",
    "outcome = \"case_status\"\n",
    "head(df)"
   ]
  },
  {
   "cell_type": "markdown",
   "id": "582a28cd-75a9-4458-92e6-5a0c42810885",
   "metadata": {},
   "source": [
    "## Split the data into 60/40 train/test proportions"
   ]
  },
  {
   "cell_type": "code",
   "execution_count": 491,
   "id": "ad93e9ba-60c6-4a7c-8da4-0aa58f9d2ae8",
   "metadata": {
    "tags": []
   },
   "outputs": [],
   "source": [
    "# split to 60% training and 40% testing\n",
    "inds <- splitTools::partition(df$case_status, p = c(train = 0.6, test = 0.4))"
   ]
  },
  {
   "cell_type": "markdown",
   "id": "669448aa-8e05-4a48-bda8-ab436a4290a8",
   "metadata": {},
   "source": [
    "## Balance the training data"
   ]
  },
  {
   "cell_type": "code",
   "execution_count": 492,
   "id": "59305707-a7f6-41ee-8a2b-3a9fe761f9c6",
   "metadata": {
    "tags": []
   },
   "outputs": [],
   "source": [
    "# balance the training data\n",
    "# df_train <- df[inds$train,]\n",
    "df_train <- ROSE::ovun.sample(case_status ~., data=df[inds$train,], p=0.5, seed=11, method=\"both\")$data"
   ]
  },
  {
   "cell_type": "markdown",
   "id": "c6910869-1a25-495d-8da0-b338f2dede20",
   "metadata": {},
   "source": [
    "## Construct the random forest classifier of 100 trees and obtain prediction scores for the test data\n",
    "\n",
    "### then examine the results…\n"
   ]
  },
  {
   "cell_type": "code",
   "execution_count": 493,
   "id": "4c8987e1-592f-48f0-b896-484da11de0a8",
   "metadata": {
    "tags": []
   },
   "outputs": [],
   "source": [
    "# build the random forest rf\n",
    "rf <- randomForest(case_status ~., data= df_train, ntree=100, importance=T)"
   ]
  },
  {
   "cell_type": "markdown",
   "id": "8c05e63e-dbbc-4988-b0b1-0685de4c1439",
   "metadata": {},
   "source": [
    "## Check the classification performance on the test data"
   ]
  },
  {
   "cell_type": "code",
   "execution_count": 494,
   "id": "722b6823-521d-4be0-a09e-4832745fc4b7",
   "metadata": {
    "tags": []
   },
   "outputs": [
    {
     "data": {
      "text/plain": [
       "Confusion Matrix and Statistics\n",
       "\n",
       "          Reference\n",
       "Prediction     0     1\n",
       "         0 30887   152\n",
       "         1  4111  1242\n",
       "                                          \n",
       "               Accuracy : 0.8829          \n",
       "                 95% CI : (0.8795, 0.8861)\n",
       "    No Information Rate : 0.9617          \n",
       "    P-Value [Acc > NIR] : 1               \n",
       "                                          \n",
       "                  Kappa : 0.3273          \n",
       "                                          \n",
       " Mcnemar's Test P-Value : <2e-16          \n",
       "                                          \n",
       "            Sensitivity : 0.89096         \n",
       "            Specificity : 0.88254         \n",
       "         Pos Pred Value : 0.23202         \n",
       "         Neg Pred Value : 0.99510         \n",
       "             Prevalence : 0.03831         \n",
       "         Detection Rate : 0.03413         \n",
       "   Detection Prevalence : 0.14709         \n",
       "      Balanced Accuracy : 0.88675         \n",
       "                                          \n",
       "       'Positive' Class : 1               \n",
       "                                          "
      ]
     },
     "metadata": {},
     "output_type": "display_data"
    }
   ],
   "source": [
    "# obtain predictions scrores from the random forest for the test data\n",
    "p1 <- predict(rf, df[inds$test,], 'prob')\n",
    "\n",
    "# define the desired positive class \n",
    "positive_class = \"1\"\n",
    "\n",
    "# convert classification scores to decision labels\n",
    "decisions <- as.factor(ifelse(p1[,positive_class] > 0.5, 1, 0))\n",
    "\n",
    "# build the confusion matrix\n",
    "caret::confusionMatrix(decisions, df[inds$test,\"case_status\"], positive = positive_class)"
   ]
  },
  {
   "cell_type": "code",
   "execution_count": 495,
   "id": "615d8872-39b5-438d-b75f-6ea1c9ba4a8f",
   "metadata": {
    "tags": []
   },
   "outputs": [
    {
     "data": {
      "text/html": [
       "<table class=\"dataframe\">\n",
       "<caption>A matrix: 6 × 2 of type dbl</caption>\n",
       "<thead>\n",
       "\t<tr><th></th><th scope=col>0</th><th scope=col>1</th></tr>\n",
       "</thead>\n",
       "<tbody>\n",
       "\t<tr><th scope=row>4</th><td>1.00</td><td>0.00</td></tr>\n",
       "\t<tr><th scope=row>5</th><td>1.00</td><td>0.00</td></tr>\n",
       "\t<tr><th scope=row>9</th><td>1.00</td><td>0.00</td></tr>\n",
       "\t<tr><th scope=row>12</th><td>1.00</td><td>0.00</td></tr>\n",
       "\t<tr><th scope=row>13</th><td>1.00</td><td>0.00</td></tr>\n",
       "\t<tr><th scope=row>17</th><td>0.89</td><td>0.11</td></tr>\n",
       "</tbody>\n",
       "</table>\n"
      ],
      "text/latex": [
       "A matrix: 6 × 2 of type dbl\n",
       "\\begin{tabular}{r|ll}\n",
       "  & 0 & 1\\\\\n",
       "\\hline\n",
       "\t4 & 1.00 & 0.00\\\\\n",
       "\t5 & 1.00 & 0.00\\\\\n",
       "\t9 & 1.00 & 0.00\\\\\n",
       "\t12 & 1.00 & 0.00\\\\\n",
       "\t13 & 1.00 & 0.00\\\\\n",
       "\t17 & 0.89 & 0.11\\\\\n",
       "\\end{tabular}\n"
      ],
      "text/markdown": [
       "\n",
       "A matrix: 6 × 2 of type dbl\n",
       "\n",
       "| <!--/--> | 0 | 1 |\n",
       "|---|---|---|\n",
       "| 4 | 1.00 | 0.00 |\n",
       "| 5 | 1.00 | 0.00 |\n",
       "| 9 | 1.00 | 0.00 |\n",
       "| 12 | 1.00 | 0.00 |\n",
       "| 13 | 1.00 | 0.00 |\n",
       "| 17 | 0.89 | 0.11 |\n",
       "\n"
      ],
      "text/plain": [
       "   0    1   \n",
       "4  1.00 0.00\n",
       "5  1.00 0.00\n",
       "9  1.00 0.00\n",
       "12 1.00 0.00\n",
       "13 1.00 0.00\n",
       "17 0.89 0.11"
      ]
     },
     "metadata": {},
     "output_type": "display_data"
    }
   ],
   "source": [
    "# Inspect what p1 returns -- so you know!\n",
    "head(p1)"
   ]
  },
  {
   "cell_type": "markdown",
   "id": "861e38fb-4efd-45cc-b7e4-182900aa3f1e",
   "metadata": {},
   "source": [
    "## Define a function spd() to calculate Statistical Parity Difference "
   ]
  },
  {
   "cell_type": "code",
   "execution_count": 496,
   "id": "53272d81-7a08-4856-b4ee-3ca1304a2868",
   "metadata": {
    "tags": []
   },
   "outputs": [],
   "source": [
    "# spd() calcualtes Statistical Parity Difference for \n",
    "#       group = grp along column = features in data using pos as the positive class label\n",
    "spd <- function(data, preds, feature, grp, pos){\n",
    "    \n",
    "  grp1 <- which(data[c(feature)]==grp)\n",
    "  grp2 <- which(data[c(feature)]!=grp)\n",
    "  mean(preds[grp1,pos]) - mean(preds[grp2,pos])\n",
    "}"
   ]
  },
  {
   "cell_type": "markdown",
   "id": "3299a618-8c7a-4407-af06-de248aa2ea6b",
   "metadata": {},
   "source": [
    "## Define a function eod() to calculate Equal Opportunuty Difference"
   ]
  },
  {
   "cell_type": "code",
   "execution_count": 497,
   "id": "aed010a3-d52d-4fda-96cb-84baffb960bd",
   "metadata": {
    "tags": []
   },
   "outputs": [],
   "source": [
    "# eod() calcualtes Equal Opportunuty Difference for \n",
    "#       group = grp along column = features in data using pos as a class label in outcome column\n",
    "eod <- function(data, preds, feature, grp, pos){\n",
    "\n",
    "  # Find rows where the original label is positve    \n",
    "  x <- which(data[,c(outcome)]== pos)\n",
    "\n",
    "  # Calcualte spd() difference in predictions for those rows with postive labels\n",
    "  spd(data[x,],preds[x,],feature,grp,pos)\n",
    "}"
   ]
  },
  {
   "cell_type": "markdown",
   "id": "5f74c9ef-d0e8-4eed-84c1-cc2e6d101086",
   "metadata": {},
   "source": [
    "## Define a function aod() to calculate Average Odds Difference"
   ]
  },
  {
   "cell_type": "code",
   "execution_count": 498,
   "id": "a62d8c36-0923-4630-99ec-dc4da010199a",
   "metadata": {
    "tags": []
   },
   "outputs": [],
   "source": [
    "# aod() calcualtes Average Odds Difference for \n",
    "#       group = grp along column = features in data using pos as a class label in outcome column\n",
    "aod <- function(data, preds, feature, grp, pos){\n",
    "\n",
    "  # find the rows of positives in the desired group\n",
    "  x <- which(data[,c(outcome)]==positive_class & data[,c(feature)]==grp)\n",
    "\n",
    "  # find the rows of positives NOT in the desired group\n",
    "  y <- which(data[,c(outcome)]==positive_class & data[,c(feature)]!=grp)\n",
    "\n",
    "  # find the rows of negatives in the desired group\n",
    "  z <- which(data[,c(outcome)]!=positive_class & data[,c(feature)]==grp)\n",
    "\n",
    "  # find the rows of negatives NOT in the desired group\n",
    "  w <- which(data[,c(outcome)]!=positive_class & data[,c(feature)]!=grp)\n",
    "\n",
    "  # return the average difference of their odds\n",
    "  abs((mean(preds[x,pos]) - mean(preds[y,pos])) + (mean(preds[z,pos]) - mean(preds[w,pos])))/2\n",
    "}"
   ]
  },
  {
   "cell_type": "markdown",
   "id": "43e200d3-1c32-42fe-8691-c17687cf599e",
   "metadata": {},
   "source": [
    "## Calculate spd(), eod() and aod() for predictions of grp = \"80+\" in column = \"age_group\" on the original test data"
   ]
  },
  {
   "cell_type": "code",
   "execution_count": 505,
   "id": "58e60b86-f599-4fff-b739-7933afdd8154",
   "metadata": {
    "tags": []
   },
   "outputs": [
    {
     "data": {
      "text/plain": [
       "              case_status\n",
       "age_group         0    1\n",
       "  <20          4035    0\n",
       "  20-29        7459    3\n",
       "  30-39        5648    2\n",
       "  40-49        5052   10\n",
       "  50-59        5345   41\n",
       "  60-69        3306  120\n",
       "  70-79        1726  233\n",
       "  80+          2425  985\n",
       "  Not Reported    2    0"
      ]
     },
     "metadata": {},
     "output_type": "display_data"
    }
   ],
   "source": [
    "# define target feature (column)\n",
    "feature=\"age_group\"\n",
    "\n",
    "# define target groyp\n",
    "grp =\"80+\"\n",
    "\n",
    "# pp1 <- ifelse(p1 > 0.5, 1, 0)\n",
    "# SPD() value of age_group = \"80+\" vs. other age_groups\n",
    "v11 <- spd(df[inds$test,],p1,feature,grp,positive_class)\n",
    "v12 <- eod(df[inds$test,],p1,feature,grp,positive_class)\n",
    "v13 <- aod(df[inds$test,],p1,feature,grp,positive_class)\n",
    "\n",
    "table(df[inds$test,c(feature,outcome)])"
   ]
  },
  {
   "cell_type": "markdown",
   "id": "a9e7ad1e-c413-4647-aa5e-93c7053e29c4",
   "metadata": {
    "tags": []
   },
   "source": [
    "## Induce some bias into age_group = 80+ by removing (excluding) 50% of the those"
   ]
  },
  {
   "cell_type": "code",
   "execution_count": 500,
   "id": "cd3e315a-c5ac-44f2-a239-ca975d6241db",
   "metadata": {
    "tags": []
   },
   "outputs": [
    {
     "data": {
      "text/plain": [
       "              case_status\n",
       "age_group         0    1\n",
       "  <20          4035    0\n",
       "  20-29        7459    3\n",
       "  30-39        5648    2\n",
       "  40-49        5052   10\n",
       "  50-59        5345   41\n",
       "  60-69        3306  120\n",
       "  70-79        1726  233\n",
       "  80+          1205  500\n",
       "  Not Reported    2    0"
      ]
     },
     "metadata": {},
     "output_type": "display_data"
    }
   ],
   "source": [
    "df_test = df[inds$test,]\n",
    "\n",
    "# Find which rows in the test data are in age_group = 80+\n",
    "inds_z = which(df_test[,c(feature)]==grp)\n",
    "\n",
    "# Find which rows in the test data are NOT in age_group = 80+\n",
    "inds_notz = which(df_test[,c(feature)]!=grp)\n",
    "\n",
    "# induce a bias by removing 0.5 of the 80+ age group -- randomly sample 0.5 of those in the group without replacement\n",
    "inds_nz <- sample(inds_z, size= 0.5 *length(inds_z),replace=F)\n",
    "\n",
    "# reconstruct the new test data, this is the \"biased\" test data\n",
    "new_test_data <- rbind(df_test[inds_nz,], df_test[inds_notz,])\n",
    "\n",
    "table(new_test_data[,c(feature,outcome)])"
   ]
  },
  {
   "cell_type": "markdown",
   "id": "d52b4056-5c6e-4939-bcfb-3ca3da41dd68",
   "metadata": {},
   "source": [
    "## Now, obtain classification scores for the newly modified \"biased\" test data"
   ]
  },
  {
   "cell_type": "code",
   "execution_count": 501,
   "id": "afa47268-4328-476d-a4ce-ed21266dbad5",
   "metadata": {},
   "outputs": [
    {
     "data": {
      "text/plain": [
       "Confusion Matrix and Statistics\n",
       "\n",
       "          Reference\n",
       "Prediction     0     1\n",
       "         0 30792   142\n",
       "         1  2986   767\n",
       "                                          \n",
       "               Accuracy : 0.9098          \n",
       "                 95% CI : (0.9068, 0.9128)\n",
       "    No Information Rate : 0.9738          \n",
       "    P-Value [Acc > NIR] : 1               \n",
       "                                          \n",
       "                  Kappa : 0.2995          \n",
       "                                          \n",
       " Mcnemar's Test P-Value : <2e-16          \n",
       "                                          \n",
       "            Sensitivity : 0.84378         \n",
       "            Specificity : 0.91160         \n",
       "         Pos Pred Value : 0.20437         \n",
       "         Neg Pred Value : 0.99541         \n",
       "             Prevalence : 0.02621         \n",
       "         Detection Rate : 0.02211         \n",
       "   Detection Prevalence : 0.10820         \n",
       "      Balanced Accuracy : 0.87769         \n",
       "                                          \n",
       "       'Positive' Class : 1               \n",
       "                                          "
      ]
     },
     "metadata": {},
     "output_type": "display_data"
    }
   ],
   "source": [
    "# obtain predictions scrores from the random forest for the test data\n",
    "p2 <- predict(rf, new_test_data, 'prob')\n",
    "\n",
    "# convert classification scores to decision labels\n",
    "decisions2 <- as.factor(ifelse(p2[,positive_class] > 0.5, 1, 0))\n",
    "\n",
    "# build the confusion matrix\n",
    "caret::confusionMatrix(decisions2, new_test_data[,outcome], positive = positive_class)"
   ]
  },
  {
   "cell_type": "markdown",
   "id": "40464ed4-756b-4d43-87be-9fa6d946a004",
   "metadata": {},
   "source": [
    "## Compare values of all faireness three metrics"
   ]
  },
  {
   "cell_type": "code",
   "execution_count": 507,
   "id": "377997c7-cc40-4b72-b149-effa28326e78",
   "metadata": {
    "tags": []
   },
   "outputs": [
    {
     "data": {
      "text/html": [
       "<table class=\"dataframe\">\n",
       "<caption>A data.frame: 3 × 2</caption>\n",
       "<thead>\n",
       "\t<tr><th></th><th scope=col>Original</th><th scope=col>Modified</th></tr>\n",
       "\t<tr><th></th><th scope=col>&lt;dbl&gt;</th><th scope=col>&lt;dbl&gt;</th></tr>\n",
       "</thead>\n",
       "<tbody>\n",
       "\t<tr><th scope=row>SPD</th><td>0.8199094</td><td>0.8213288</td></tr>\n",
       "\t<tr><th scope=row>EOD</th><td>0.2983202</td><td>0.3050032</td></tr>\n",
       "\t<tr><th scope=row>AOD</th><td>0.5540420</td><td>0.5568155</td></tr>\n",
       "</tbody>\n",
       "</table>\n"
      ],
      "text/latex": [
       "A data.frame: 3 × 2\n",
       "\\begin{tabular}{r|ll}\n",
       "  & Original & Modified\\\\\n",
       "  & <dbl> & <dbl>\\\\\n",
       "\\hline\n",
       "\tSPD & 0.8199094 & 0.8213288\\\\\n",
       "\tEOD & 0.2983202 & 0.3050032\\\\\n",
       "\tAOD & 0.5540420 & 0.5568155\\\\\n",
       "\\end{tabular}\n"
      ],
      "text/markdown": [
       "\n",
       "A data.frame: 3 × 2\n",
       "\n",
       "| <!--/--> | Original &lt;dbl&gt; | Modified &lt;dbl&gt; |\n",
       "|---|---|---|\n",
       "| SPD | 0.8199094 | 0.8213288 |\n",
       "| EOD | 0.2983202 | 0.3050032 |\n",
       "| AOD | 0.5540420 | 0.5568155 |\n",
       "\n"
      ],
      "text/plain": [
       "    Original  Modified \n",
       "SPD 0.8199094 0.8213288\n",
       "EOD 0.2983202 0.3050032\n",
       "AOD 0.5540420 0.5568155"
      ]
     },
     "metadata": {},
     "output_type": "display_data"
    }
   ],
   "source": [
    "\n",
    "# Fairness metrics values of age_group = \"80+\" vs. other age_groups\n",
    "v21 <- spd(new_test_data,p2,feature,grp,positive_class)\n",
    "v22 <- eod(new_test_data,p2,feature,grp,positive_class)\n",
    "v23 <- aod(new_test_data,p2,feature,grp,positive_class)\n",
    "\n",
    "dd <- data.frame(c(v11,v12,v13), c(v21,v22,v23))\n",
    "\n",
    "colnames(dd) <- c(\"Original\",\"Modified\")\n",
    "rownames(dd) <- c(\"SPD\",\"EOD\",\"AOD\")\n",
    "\n",
    "dd"
   ]
  },
  {
   "cell_type": "code",
   "execution_count": null,
   "id": "8448fbf2-dcf2-485e-89fb-4ab0732cee40",
   "metadata": {},
   "outputs": [],
   "source": []
  }
 ],
 "metadata": {
  "kernelspec": {
   "display_name": "R",
   "language": "R",
   "name": "ir"
  },
  "language_info": {
   "codemirror_mode": "r",
   "file_extension": ".r",
   "mimetype": "text/x-r-source",
   "name": "R",
   "pygments_lexer": "r",
   "version": "4.3.1"
  },
  "widgets": {
   "application/vnd.jupyter.widget-state+json": {
    "state": {},
    "version_major": 2,
    "version_minor": 0
   }
  }
 },
 "nbformat": 4,
 "nbformat_minor": 5
}
