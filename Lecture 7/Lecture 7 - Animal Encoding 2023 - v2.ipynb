{
 "cells": [
  {
   "cell_type": "markdown",
   "id": "b3a1ed4b-a23a-4898-8dbf-6bc31f55a0bb",
   "metadata": {},
   "source": [
    "# Lecture 7: Animal encoding example from slides\n",
    "\n",
    "## First, define a prob_category()\n",
    "\n",
    "### **prob_category()** is a generic function that calculates the probability estimate for one specific label.\n",
    "\n",
    "-   ### Input:\n",
    "\n",
    "    -   ### category = a specific label to encode\n",
    "\n",
    "    -   ### data = a data frame\n",
    "\n",
    "    -   ### encode_col = column name to be encoded in data\n",
    "\n",
    "    -   ### target_col = column name of the target in data\n",
    "\n",
    "    -   ### target_value = the target value to use for encoding\n",
    "\n",
    "-   ### Returns: the number of rows that contain the category where target column entry is equal to target_vale, divided by the total number of rows that have the category label.\n",
    "\n"
   ]
  },
  {
   "cell_type": "code",
   "execution_count": 14,
   "id": "49d122ed-a4f0-44c1-9ca9-f9705e4b2f63",
   "metadata": {
    "tags": []
   },
   "outputs": [],
   "source": [
    "# define a prob_category() function to calculate the probability \n",
    "# estimate for one specific label.\n",
    "# Input: category= a specific label to encode\n",
    "#        data= a dataframe\n",
    "#        encode_col= column name to be encoded in data\n",
    "#        target_col= column name of the target in data\n",
    "#        target_value= the target value to use for encoding\n",
    "# Returns: number of rows that contain category where target column\n",
    "# is equal to target_vale divided by the total number of rows that\n",
    "# have the category label\n",
    "prob_category <- function(category, data, encode_col,\n",
    "                                    target_col, target_value){\n",
    "   n_category_at_target_value <-\n",
    "     sum(table(df[,c(encode_col,target_col)])[category,target_value])\n",
    "\n",
    "   n_category <- sum(table(df[,c(encode_col,target_col)])[category,])\n",
    "\n",
    "   return( n_category_at_target_value / n_category )\n",
    "}\n"
   ]
  },
  {
   "cell_type": "markdown",
   "id": "81813fd6-6765-4db5-9f8f-37f9f8b7614e",
   "metadata": {},
   "source": [
    "## Second, define the sample 'Animal' data\n",
    "\n",
    "### Build the data frame for encoding the feature 'Animal' with 'Target'\n"
   ]
  },
  {
   "cell_type": "code",
   "execution_count": 15,
   "id": "53319387-ecb5-498f-81e8-354b9b848097",
   "metadata": {
    "tags": []
   },
   "outputs": [
    {
     "name": "stdout",
     "output_type": "stream",
     "text": [
      "    Animal Target\n",
      "1      cat      1\n",
      "2  hamster      0\n",
      "3      cat      0\n",
      "4      cat      1\n",
      "5      dog      1\n",
      "6  hamster      1\n",
      "7      cat      0\n",
      "8      dog      1\n",
      "9      cat      0\n",
      "10     dog      0\n"
     ]
    }
   ],
   "source": [
    "# build the data frame\n",
    "\n",
    "# define Animal data\n",
    "Animal <- \n",
    "     as.factor(c(\"cat\",\"hamster\",\"cat\",\"cat\",\"dog\",\"hamster\",\"cat\",\"dog\",\"cat\",\"dog\"))\n",
    "\n",
    "# define target data\n",
    "Target <- c(1,0,0,1,1,1,0,1,0,0)\n",
    "\n",
    "# build the sample data frame\n",
    "df <- data.frame(Animal,Target)\n",
    "\n",
    "# inspect it\n",
    "print(df)\n"
   ]
  },
  {
   "cell_type": "code",
   "execution_count": 16,
   "id": "765607ca-03b5-454b-b22f-d654f0f233e0",
   "metadata": {
    "tags": []
   },
   "outputs": [
    {
     "name": "stdout",
     "output_type": "stream",
     "text": [
      "'data.frame':\t10 obs. of  2 variables:\n",
      " $ Animal: Factor w/ 3 levels \"cat\",\"dog\",\"hamster\": 1 3 1 1 2 3 1 2 1 2\n",
      " $ Target: num  1 0 0 1 1 1 0 1 0 0\n"
     ]
    }
   ],
   "source": [
    "str(df)"
   ]
  },
  {
   "cell_type": "code",
   "execution_count": 17,
   "id": "fc313065-eec9-43a2-89d8-1a3f06e6c49c",
   "metadata": {
    "tags": []
   },
   "outputs": [
    {
     "name": "stderr",
     "output_type": "stream",
     "text": [
      "Installing package into ‘/home/jupyter-sabdu070/R/x86_64-pc-linux-gnu-library/4.3’\n",
      "(as ‘lib’ is unspecified)\n",
      "\n"
     ]
    }
   ],
   "source": [
    "install.packages(\"dataPreparation\")\n",
    "library(dataPreparation)\n",
    "require(dataPreparation)"
   ]
  },
  {
   "cell_type": "markdown",
   "id": "843c73f7-0ef1-49a8-9751-0e20eb4d77c9",
   "metadata": {},
   "source": [
    "## Third, build the encoding table\n",
    "\n",
    "### use the function build_target_encoding()\n",
    "\n"
   ]
  },
  {
   "cell_type": "code",
   "execution_count": 18,
   "id": "d57d0122-8f8f-488d-b408-9465be7fa210",
   "metadata": {
    "tags": []
   },
   "outputs": [
    {
     "name": "stdout",
     "output_type": "stream",
     "text": [
      "[1] \"build_target_encoding: Start to compute encoding for target_encoding according to col: Target.\"\n",
      "$Animal\n",
      "    Animal Target_mean_by_Animal Target_sum_by_Animal\n",
      "1:     cat             0.4000000                    2\n",
      "2: hamster             0.5000000                    1\n",
      "3:     dog             0.6666667                    2\n",
      "\n"
     ]
    }
   ],
   "source": [
    "target_encoding <- dataPreparation::build_target_encoding(df, cols_to_encode = \"Animal\",\n",
    "                                         target_col = \"Target\", functions = c(\"mean\", \"sum\"))\n",
    "\n",
    "print(target_encoding)"
   ]
  },
  {
   "cell_type": "markdown",
   "id": "1eb6f0e4-295f-41aa-8320-a3158330bf04",
   "metadata": {},
   "source": [
    "## Finally, update the new encoding of Animal feature\n",
    "\n",
    "### Use sapply() to call a look-up function to assign in each row of df, the correct new encoding value based on the category of 'Animal'\n"
   ]
  },
  {
   "cell_type": "code",
   "execution_count": 19,
   "id": "85c06371-15a1-4d0e-9ba2-e36f3261b0c5",
   "metadata": {
    "tags": []
   },
   "outputs": [
    {
     "name": "stdout",
     "output_type": "stream",
     "text": [
      "[1] \"target_encode: Start to encode columns according to target.\"\n",
      "     Animal Target Target_mean_by_Animal Target_sum_by_Animal\n",
      " 1:     cat      1             0.4000000                    2\n",
      " 2: hamster      0             0.5000000                    1\n",
      " 3:     cat      0             0.4000000                    2\n",
      " 4:     cat      1             0.4000000                    2\n",
      " 5:     dog      1             0.6666667                    2\n",
      " 6: hamster      1             0.5000000                    1\n",
      " 7:     cat      0             0.4000000                    2\n",
      " 8:     dog      1             0.6666667                    2\n",
      " 9:     cat      0             0.4000000                    2\n",
      "10:     dog      0             0.6666667                    2\n"
     ]
    }
   ],
   "source": [
    "# update the data frame by adding Encoded_Animal column by looking up the\n",
    "# new encoded value for each Animal in encoding_table\n",
    "Encoded_Animals <- dataPreparation::target_encode(df, target_encoding = target_encoding)\n",
    "\n",
    "# inspect it\n",
    "print(Encoded_Animals)\n"
   ]
  },
  {
   "cell_type": "code",
   "execution_count": null,
   "id": "444bce5a-7dc6-4083-839c-f8b50d82aa00",
   "metadata": {},
   "outputs": [],
   "source": []
  },
  {
   "cell_type": "code",
   "execution_count": null,
   "id": "02ab452e-de5c-41c9-ab90-763c71f4da86",
   "metadata": {},
   "outputs": [],
   "source": []
  }
 ],
 "metadata": {
  "kernelspec": {
   "display_name": "R",
   "language": "R",
   "name": "ir"
  },
  "language_info": {
   "codemirror_mode": "r",
   "file_extension": ".r",
   "mimetype": "text/x-r-source",
   "name": "R",
   "pygments_lexer": "r",
   "version": "4.3.1"
  },
  "widgets": {
   "application/vnd.jupyter.widget-state+json": {
    "state": {},
    "version_major": 2,
    "version_minor": 0
   }
  }
 },
 "nbformat": 4,
 "nbformat_minor": 5
}
