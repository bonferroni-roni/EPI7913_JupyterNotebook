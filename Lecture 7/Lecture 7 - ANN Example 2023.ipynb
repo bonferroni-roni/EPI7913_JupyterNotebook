{
 "cells": [
  {
   "cell_type": "markdown",
   "id": "152e5d36-dd6e-4f57-a3ec-655b0d757b1f",
   "metadata": {},
   "source": [
    "# Lecture 7 : Neural Network (ANN) example\n",
    "\n",
    "## This is an example of how to train and test a neural network\n",
    "\n",
    "### **Note:** this package requires that the input variables to the ANN model to be numeric, i.e., cannot handle categorical labels but integers only!"
   ]
  },
  {
   "cell_type": "code",
   "execution_count": 11,
   "id": "156c0c16-b6f3-47c8-a3b3-d57acc12fb9e",
   "metadata": {
    "tags": []
   },
   "outputs": [
    {
     "name": "stderr",
     "output_type": "stream",
     "text": [
      "Warning message in file(con, \"rb\"):\n",
      "“cannot open file 'Lecture 7 - Student Placement Table.png': No such file or directory”\n"
     ]
    },
    {
     "ename": "ERROR",
     "evalue": "Error in file(con, \"rb\"): cannot open the connection\n",
     "output_type": "error",
     "traceback": [
      "Error in file(con, \"rb\"): cannot open the connection\nTraceback:\n",
      "1. display_png(file = \"Lecture 7 - Student Placement Table.png\", \n .     width = 600)",
      "2. display_img(\"image/png\", TRUE, data, file, width, height)",
      "3. display_raw(mime, binary, data, file, img_metadata(mime, width, \n .     height))",
      "4. prepare_content(isbinary, data, file)",
      "5. read_all(file, isbinary)",
      "6. read(size)",
      "7. readBin(file, \"raw\", s)",
      "8. file(con, \"rb\")"
     ]
    }
   ],
   "source": [
    "library(IRdisplay)\n",
    "display_png(file=\"Lecture 7 - Student Placement Table.png\", width=600) "
   ]
  },
  {
   "cell_type": "code",
   "execution_count": 2,
   "id": "5467af8d-9592-4945-a019-00cc39587041",
   "metadata": {
    "tags": []
   },
   "outputs": [
    {
     "name": "stdout",
     "output_type": "stream",
     "text": [
      "  TKS CSS Placed\n",
      "1  20  90      1\n",
      "2  10  20      0\n",
      "3  30  40      0\n",
      "4  20  50      0\n",
      "5  80  50      1\n",
      "6  30  80      1\n"
     ]
    }
   ],
   "source": [
    "# creating training data set\n",
    "TKS=c(20,10,30,20,80,30)\n",
    "CSS=c(90,20,40,50,50,80)\n",
    "Placed=c(1,0,0,0,1,1)\n",
    "\n",
    "# Here, you will combine multiple columns or features into a single set of data\n",
    "df=data.frame(TKS,CSS,Placed)\n",
    "\n",
    "# check\n",
    "print(df)\n"
   ]
  },
  {
   "cell_type": "markdown",
   "id": "9c02aa43-f97a-4ae5-855c-50b97410a28b",
   "metadata": {
    "tags": []
   },
   "source": [
    "## Construct the artificial neural network model\n"
   ]
  },
  {
   "cell_type": "code",
   "execution_count": 3,
   "id": "ea0e285c-a56a-4450-8d04-72f113f97e67",
   "metadata": {
    "tags": []
   },
   "outputs": [
    {
     "name": "stderr",
     "output_type": "stream",
     "text": [
      "Loading required package: neuralnet\n",
      "\n"
     ]
    }
   ],
   "source": [
    "# load library\n",
    "require(neuralnet)\n",
    "\n",
    "set.seed(171)\n",
    "\n",
    "# fit neural network\n",
    "nn=neuralnet(Placed~TKS+CSS,data=df, hidden=3,act.fct = \"logistic\",\n",
    "                linear.output = FALSE)"
   ]
  },
  {
   "cell_type": "markdown",
   "id": "bdc818bd-cd4a-41a6-9171-83c4da515ee8",
   "metadata": {
    "tags": []
   },
   "source": [
    "## Check the resulting neuralnet model"
   ]
  },
  {
   "cell_type": "code",
   "execution_count": 4,
   "id": "fafd2067-b0ae-497d-b410-bda2a29fd9d9",
   "metadata": {
    "tags": []
   },
   "outputs": [
    {
     "name": "stdout",
     "output_type": "stream",
     "text": [
      "$call\n",
      "neuralnet(formula = Placed ~ TKS + CSS, data = df, hidden = 3, \n",
      "    act.fct = \"logistic\", linear.output = FALSE)\n",
      "\n",
      "$response\n",
      "  Placed\n",
      "1      1\n",
      "2      0\n",
      "3      0\n",
      "4      0\n",
      "5      1\n",
      "6      1\n",
      "\n",
      "$covariate\n",
      "     TKS CSS\n",
      "[1,]  20  90\n",
      "[2,]  10  20\n",
      "[3,]  30  40\n",
      "[4,]  20  50\n",
      "[5,]  80  50\n",
      "[6,]  30  80\n",
      "\n",
      "$model.list\n",
      "$model.list$response\n",
      "[1] \"Placed\"\n",
      "\n",
      "$model.list$variables\n",
      "[1] \"TKS\" \"CSS\"\n",
      "\n",
      "\n",
      "$err.fct\n",
      "function (x, y) \n",
      "{\n",
      "    1/2 * (y - x)^2\n",
      "}\n",
      "<bytecode: 0x5654514c7518>\n",
      "<environment: 0x5654514cbbe0>\n",
      "attr(,\"type\")\n",
      "[1] \"sse\"\n",
      "\n",
      "$act.fct\n",
      "function (x) \n",
      "{\n",
      "    1/(1 + exp(-x))\n",
      "}\n",
      "<bytecode: 0x5654514c69e0>\n",
      "<environment: 0x5654514c60e8>\n",
      "attr(,\"type\")\n",
      "[1] \"logistic\"\n",
      "\n",
      "$linear.output\n",
      "[1] FALSE\n",
      "\n",
      "$data\n",
      "  TKS CSS Placed\n",
      "1  20  90      1\n",
      "2  10  20      0\n",
      "3  30  40      0\n",
      "4  20  50      0\n",
      "5  80  50      1\n",
      "6  30  80      1\n",
      "\n",
      "$exclude\n",
      "NULL\n",
      "\n",
      "$net.result\n",
      "$net.result[[1]]\n",
      "          [,1]\n",
      "[1,] 0.4942406\n",
      "[2,] 0.4941436\n",
      "[3,] 0.4942405\n",
      "[4,] 0.4942406\n",
      "[5,] 0.4941083\n",
      "[6,] 0.4942406\n",
      "\n",
      "\n",
      "$weights\n",
      "$weights[[1]]\n",
      "$weights[[1]][[1]]\n",
      "           [,1]       [,2]       [,3]\n",
      "[1,] -1.6476872 -0.2825058 -2.0390588\n",
      "[2,] -0.2604191  1.9587979  0.5385502\n",
      "[3,]  0.5972872  0.9590630  2.1039576\n",
      "\n",
      "$weights[[1]][[2]]\n",
      "           [,1]\n",
      "[1,]  0.7231929\n",
      "[2,]  0.8523362\n",
      "[3,] -1.8491512\n",
      "[4,]  0.2505836\n",
      "\n",
      "\n",
      "\n",
      "$generalized.weights\n",
      "$generalized.weights[[1]]\n",
      "              [,1]         [,2]\n",
      "[1,]  0.000000e+00 0.000000e+00\n",
      "[2,] -1.010379e-04 2.317367e-04\n",
      "[3,] -1.199169e-07 2.750368e-07\n",
      "[4,] -2.258967e-11 5.181080e-11\n",
      "[5,] -1.378113e-04 3.160788e-04\n",
      "[6,]  0.000000e+00 0.000000e+00\n",
      "\n",
      "\n",
      "$startweights\n",
      "$startweights[[1]]\n",
      "$startweights[[1]][[1]]\n",
      "           [,1]        [,2]       [,3]\n",
      "[1,] -0.9792872 -1.18250583 -2.0390588\n",
      "[2,]  0.1945809  1.05879789  0.5385502\n",
      "[3,]  1.0522872  0.05906299  2.1039576\n",
      "\n",
      "$startweights[[1]][[2]]\n",
      "            [,1]\n",
      "[1,]  0.41069287\n",
      "[2,]  0.53983625\n",
      "[3,] -2.16165123\n",
      "[4,] -0.06191639\n",
      "\n",
      "\n",
      "\n",
      "$result.matrix\n",
      "                              [,1]\n",
      "error                  0.750118456\n",
      "reached.threshold      0.008695052\n",
      "steps                 11.000000000\n",
      "Intercept.to.1layhid1 -1.647687195\n",
      "TKS.to.1layhid1       -0.260419119\n",
      "CSS.to.1layhid1        0.597287232\n",
      "Intercept.to.1layhid2 -0.282505826\n",
      "TKS.to.1layhid2        1.958797894\n",
      "CSS.to.1layhid2        0.959062990\n",
      "Intercept.to.1layhid3 -2.039058772\n",
      "TKS.to.1layhid3        0.538550155\n",
      "CSS.to.1layhid3        2.103957560\n",
      "Intercept.to.Placed    0.723192871\n",
      "1layhid1.to.Placed     0.852336249\n",
      "1layhid2.to.Placed    -1.849151227\n",
      "1layhid3.to.Placed     0.250583614\n",
      "\n",
      "attr(,\"class\")\n",
      "[1] \"nn\"\n"
     ]
    }
   ],
   "source": [
    "# inspect the resulting network\n",
    "print(nn)"
   ]
  },
  {
   "cell_type": "markdown",
   "id": "62f84dc1-191a-4165-88ec-d22f6d7950d3",
   "metadata": {
    "tags": []
   },
   "source": [
    "## Plot the neural network"
   ]
  },
  {
   "cell_type": "code",
   "execution_count": 5,
   "id": "446a31b8-690d-4439-8697-12764eaf5a2a",
   "metadata": {
    "tags": []
   },
   "outputs": [
    {
     "data": {
      "text/html": [
       "<strong>png:</strong> 2"
      ],
      "text/latex": [
       "\\textbf{png:} 2"
      ],
      "text/markdown": [
       "**png:** 2"
      ],
      "text/plain": [
       "png \n",
       "  2 "
      ]
     },
     "metadata": {},
     "output_type": "display_data"
    }
   ],
   "source": [
    "# redirect plot to a PNG file\n",
    "png(filename = \"nn_plot.png\", width = 480, height = 480)\n",
    "\n",
    "# plot neural network\n",
    "plot(nn,rep=\"best\")\n",
    "dev.off()"
   ]
  },
  {
   "cell_type": "code",
   "execution_count": 6,
   "id": "6a15cae7-498c-4b27-92cf-25a23e52d426",
   "metadata": {
    "tags": []
   },
   "outputs": [
    {
     "data": {
      "image/png": "[encoded data removed]"
     },
     "metadata": {},
     "output_type": "display_data"
    }
   ],
   "source": [
    "library(\"IRdisplay\")\n",
    "display_png(file=\"nn_plot.png\") "
   ]
  },
  {
   "cell_type": "markdown",
   "id": "09128210-f0a3-4234-bcd7-02dc318d7f42",
   "metadata": {},
   "source": [
    "## Look at the weights of the network at input layer (A) and hidden layer (B)"
   ]
  },
  {
   "cell_type": "code",
   "execution_count": 7,
   "id": "c8d8332d-3e2b-4b37-8904-1d292619fc19",
   "metadata": {
    "tags": []
   },
   "outputs": [
    {
     "data": {
      "text/html": [
       "<ol>\n",
       "\t<li><ol>\n",
       "\t<li><table class=\"dataframe\">\n",
       "<caption>A matrix: 3 × 3 of type dbl</caption>\n",
       "<tbody>\n",
       "\t<tr><td>-1.6476872</td><td>-0.2825058</td><td>-2.0390588</td></tr>\n",
       "\t<tr><td>-0.2604191</td><td> 1.9587979</td><td> 0.5385502</td></tr>\n",
       "\t<tr><td> 0.5972872</td><td> 0.9590630</td><td> 2.1039576</td></tr>\n",
       "</tbody>\n",
       "</table>\n",
       "</li>\n",
       "\t<li><table class=\"dataframe\">\n",
       "<caption>A matrix: 4 × 1 of type dbl</caption>\n",
       "<tbody>\n",
       "\t<tr><td> 0.7231929</td></tr>\n",
       "\t<tr><td> 0.8523362</td></tr>\n",
       "\t<tr><td>-1.8491512</td></tr>\n",
       "\t<tr><td> 0.2505836</td></tr>\n",
       "</tbody>\n",
       "</table>\n",
       "</li>\n",
       "</ol>\n",
       "</li>\n",
       "</ol>\n"
      ],
      "text/latex": [
       "\\begin{enumerate}\n",
       "\\item \\begin{enumerate}\n",
       "\\item A matrix: 3 × 3 of type dbl\n",
       "\\begin{tabular}{lll}\n",
       "\t -1.6476872 & -0.2825058 & -2.0390588\\\\\n",
       "\t -0.2604191 &  1.9587979 &  0.5385502\\\\\n",
       "\t  0.5972872 &  0.9590630 &  2.1039576\\\\\n",
       "\\end{tabular}\n",
       "\n",
       "\\item A matrix: 4 × 1 of type dbl\n",
       "\\begin{tabular}{l}\n",
       "\t  0.7231929\\\\\n",
       "\t  0.8523362\\\\\n",
       "\t -1.8491512\\\\\n",
       "\t  0.2505836\\\\\n",
       "\\end{tabular}\n",
       "\n",
       "\\end{enumerate}\n",
       "\n",
       "\\end{enumerate}\n"
      ],
      "text/markdown": [
       "1. 1. \n",
       "A matrix: 3 × 3 of type dbl\n",
       "\n",
       "| -1.6476872 | -0.2825058 | -2.0390588 |\n",
       "| -0.2604191 |  1.9587979 |  0.5385502 |\n",
       "|  0.5972872 |  0.9590630 |  2.1039576 |\n",
       "\n",
       "\n",
       "2. \n",
       "A matrix: 4 × 1 of type dbl\n",
       "\n",
       "|  0.7231929 |\n",
       "|  0.8523362 |\n",
       "| -1.8491512 |\n",
       "|  0.2505836 |\n",
       "\n",
       "\n",
       "\n",
       "\n",
       "\n",
       "\n",
       "\n"
      ],
      "text/plain": [
       "[[1]]\n",
       "[[1]][[1]]\n",
       "           [,1]       [,2]       [,3]\n",
       "[1,] -1.6476872 -0.2825058 -2.0390588\n",
       "[2,] -0.2604191  1.9587979  0.5385502\n",
       "[3,]  0.5972872  0.9590630  2.1039576\n",
       "\n",
       "[[1]][[2]]\n",
       "           [,1]\n",
       "[1,]  0.7231929\n",
       "[2,]  0.8523362\n",
       "[3,] -1.8491512\n",
       "[4,]  0.2505836\n",
       "\n"
      ]
     },
     "metadata": {},
     "output_type": "display_data"
    }
   ],
   "source": [
    "nn$weights"
   ]
  },
  {
   "cell_type": "markdown",
   "id": "fb76b34b-dc99-44bb-a4ed-3263d9ea9f0b",
   "metadata": {
    "tags": []
   },
   "source": [
    "## Test the neural network model on test data\n"
   ]
  },
  {
   "cell_type": "code",
   "execution_count": 8,
   "id": "6eef9689-15ea-48d3-b82e-9b3d01fc1dc4",
   "metadata": {
    "tags": []
   },
   "outputs": [
    {
     "name": "stdout",
     "output_type": "stream",
     "text": [
      "  TKS CSS\n",
      "1  30  85\n",
      "2  40  50\n",
      "3  85  40\n"
     ]
    }
   ],
   "source": [
    "\n",
    "# creating test set\n",
    "TKS = c(30,40,85)\n",
    "CSS = c(85,50,40)\n",
    "test = data.frame(TKS,CSS)\n",
    "\n",
    "# inspect it\n",
    "print(test)\n",
    "\n"
   ]
  },
  {
   "cell_type": "markdown",
   "id": "78247c75-0731-47a8-a260-6832498e1185",
   "metadata": {},
   "source": [
    "## Obtain predictions for test data"
   ]
  },
  {
   "cell_type": "code",
   "execution_count": 9,
   "id": "d30a51c1-9e52-450e-9af5-c691b8ed7f32",
   "metadata": {
    "tags": []
   },
   "outputs": [
    {
     "name": "stdout",
     "output_type": "stream",
     "text": [
      "          [,1]\n",
      "[1,] 0.4942406\n",
      "[2,] 0.4942406\n",
      "[3,] 0.3950393\n"
     ]
    }
   ],
   "source": [
    "## Prediction using neural network\n",
    "preds=predict(nn,test)\n",
    "print(preds)"
   ]
  },
  {
   "cell_type": "markdown",
   "id": "71b561ea-21fb-4e50-abcc-89ee1b6305a3",
   "metadata": {
    "tags": []
   },
   "source": [
    "## Convert prediction scores to classification decisions\n",
    "\n",
    "### In this case, the classification threshold is 0.5"
   ]
  },
  {
   "cell_type": "code",
   "execution_count": 10,
   "id": "c82e8306-2329-4e7e-ab76-69d6873b23d5",
   "metadata": {
    "tags": []
   },
   "outputs": [
    {
     "data": {
      "text/html": [
       "<table class=\"dataframe\">\n",
       "<caption>A data.frame: 3 × 2</caption>\n",
       "<thead>\n",
       "\t<tr><th scope=col>preds</th><th scope=col>decision</th></tr>\n",
       "\t<tr><th scope=col>&lt;dbl&gt;</th><th scope=col>&lt;dbl&gt;</th></tr>\n",
       "</thead>\n",
       "<tbody>\n",
       "\t<tr><td>0.4942406</td><td>0</td></tr>\n",
       "\t<tr><td>0.4942406</td><td>0</td></tr>\n",
       "\t<tr><td>0.3950393</td><td>0</td></tr>\n",
       "</tbody>\n",
       "</table>\n"
      ],
      "text/latex": [
       "A data.frame: 3 × 2\n",
       "\\begin{tabular}{ll}\n",
       " preds & decision\\\\\n",
       " <dbl> & <dbl>\\\\\n",
       "\\hline\n",
       "\t 0.4942406 & 0\\\\\n",
       "\t 0.4942406 & 0\\\\\n",
       "\t 0.3950393 & 0\\\\\n",
       "\\end{tabular}\n"
      ],
      "text/markdown": [
       "\n",
       "A data.frame: 3 × 2\n",
       "\n",
       "| preds &lt;dbl&gt; | decision &lt;dbl&gt; |\n",
       "|---|---|\n",
       "| 0.4942406 | 0 |\n",
       "| 0.4942406 | 0 |\n",
       "| 0.3950393 | 0 |\n",
       "\n"
      ],
      "text/plain": [
       "  preds     decision\n",
       "1 0.4942406 0       \n",
       "2 0.4942406 0       \n",
       "3 0.3950393 0       "
      ]
     },
     "metadata": {},
     "output_type": "display_data"
    }
   ],
   "source": [
    "decision <- ifelse(preds>0.5, 1,0)\n",
    "data.frame(preds,decision)"
   ]
  },
  {
   "cell_type": "code",
   "execution_count": null,
   "id": "49a1df32-9cf6-42d8-a111-d7a0ec538085",
   "metadata": {
    "tags": []
   },
   "outputs": [],
   "source": []
  },
  {
   "cell_type": "code",
   "execution_count": null,
   "id": "10e7e69b-0234-452f-9752-cd8bb00eabf4",
   "metadata": {},
   "outputs": [],
   "source": []
  }
 ],
 "metadata": {
  "kernelspec": {
   "display_name": "R",
   "language": "R",
   "name": "ir"
  },
  "language_info": {
   "codemirror_mode": "r",
   "file_extension": ".r",
   "mimetype": "text/x-r-source",
   "name": "R",
   "pygments_lexer": "r",
   "version": "4.3.1"
  },
  "widgets": {
   "application/vnd.jupyter.widget-state+json": {
    "state": {},
    "version_major": 2,
    "version_minor": 0
   }
  }
 },
 "nbformat": 4,
 "nbformat_minor": 5
}
