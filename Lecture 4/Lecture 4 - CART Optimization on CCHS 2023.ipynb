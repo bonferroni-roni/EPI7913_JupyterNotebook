{
 "cells": [
  {
   "cell_type": "markdown",
   "id": "f45f201e-a62f-49a9-b382-d6cc12498743",
   "metadata": {},
   "source": [
    "# Lecture 4 - Hyperparameter tuning (optimization) for CART model\n",
    "\n",
    "## Load the CCHS data form epi7913A package"
   ]
  },
  {
   "cell_type": "code",
   "execution_count": 29,
   "id": "fddf0d72-bd59-46f4-b977-6f0b354f96a0",
   "metadata": {
    "tags": []
   },
   "outputs": [
    {
     "data": {
      "text/html": [
       "<table class=\"dataframe\">\n",
       "<caption>A data.frame: 6 × 8</caption>\n",
       "<thead>\n",
       "\t<tr><th></th><th scope=col>age</th><th scope=col>sex</th><th scope=col>CANHEARTbin</th><th scope=col>householdsize</th><th scope=col>education</th><th scope=col>maritalstatus</th><th scope=col>immigration</th><th scope=col>houseincome</th></tr>\n",
       "\t<tr><th></th><th scope=col>&lt;fct&gt;</th><th scope=col>&lt;fct&gt;</th><th scope=col>&lt;int&gt;</th><th scope=col>&lt;fct&gt;</th><th scope=col>&lt;fct&gt;</th><th scope=col>&lt;fct&gt;</th><th scope=col>&lt;int&gt;</th><th scope=col>&lt;fct&gt;</th></tr>\n",
       "</thead>\n",
       "<tbody>\n",
       "\t<tr><th scope=row>1</th><td>4</td><td>2</td><td>0</td><td>1</td><td>1</td><td>1</td><td>0</td><td>3</td></tr>\n",
       "\t<tr><th scope=row>2</th><td>7</td><td>2</td><td>1</td><td>1</td><td>4</td><td>2</td><td>0</td><td>1</td></tr>\n",
       "\t<tr><th scope=row>3</th><td>2</td><td>2</td><td>0</td><td>2</td><td>4</td><td>3</td><td>1</td><td>1</td></tr>\n",
       "\t<tr><th scope=row>4</th><td>3</td><td>1</td><td>1</td><td>2</td><td>4</td><td>1</td><td>0</td><td>1</td></tr>\n",
       "\t<tr><th scope=row>5</th><td>7</td><td>1</td><td>1</td><td>2</td><td>2</td><td>3</td><td>0</td><td>2</td></tr>\n",
       "\t<tr><th scope=row>6</th><td>6</td><td>1</td><td>0</td><td>5</td><td>2</td><td>3</td><td>0</td><td>1</td></tr>\n",
       "</tbody>\n",
       "</table>\n"
      ],
      "text/latex": [
       "A data.frame: 6 × 8\n",
       "\\begin{tabular}{r|llllllll}\n",
       "  & age & sex & CANHEARTbin & householdsize & education & maritalstatus & immigration & houseincome\\\\\n",
       "  & <fct> & <fct> & <int> & <fct> & <fct> & <fct> & <int> & <fct>\\\\\n",
       "\\hline\n",
       "\t1 & 4 & 2 & 0 & 1 & 1 & 1 & 0 & 3\\\\\n",
       "\t2 & 7 & 2 & 1 & 1 & 4 & 2 & 0 & 1\\\\\n",
       "\t3 & 2 & 2 & 0 & 2 & 4 & 3 & 1 & 1\\\\\n",
       "\t4 & 3 & 1 & 1 & 2 & 4 & 1 & 0 & 1\\\\\n",
       "\t5 & 7 & 1 & 1 & 2 & 2 & 3 & 0 & 2\\\\\n",
       "\t6 & 6 & 1 & 0 & 5 & 2 & 3 & 0 & 1\\\\\n",
       "\\end{tabular}\n"
      ],
      "text/markdown": [
       "\n",
       "A data.frame: 6 × 8\n",
       "\n",
       "| <!--/--> | age &lt;fct&gt; | sex &lt;fct&gt; | CANHEARTbin &lt;int&gt; | householdsize &lt;fct&gt; | education &lt;fct&gt; | maritalstatus &lt;fct&gt; | immigration &lt;int&gt; | houseincome &lt;fct&gt; |\n",
       "|---|---|---|---|---|---|---|---|---|\n",
       "| 1 | 4 | 2 | 0 | 1 | 1 | 1 | 0 | 3 |\n",
       "| 2 | 7 | 2 | 1 | 1 | 4 | 2 | 0 | 1 |\n",
       "| 3 | 2 | 2 | 0 | 2 | 4 | 3 | 1 | 1 |\n",
       "| 4 | 3 | 1 | 1 | 2 | 4 | 1 | 0 | 1 |\n",
       "| 5 | 7 | 1 | 1 | 2 | 2 | 3 | 0 | 2 |\n",
       "| 6 | 6 | 1 | 0 | 5 | 2 | 3 | 0 | 1 |\n",
       "\n"
      ],
      "text/plain": [
       "  age sex CANHEARTbin householdsize education maritalstatus immigration\n",
       "1 4   2   0           1             1         1             0          \n",
       "2 7   2   1           1             4         2             0          \n",
       "3 2   2   0           2             4         3             1          \n",
       "4 3   1   1           2             4         1             0          \n",
       "5 7   1   1           2             2         3             0          \n",
       "6 6   1   0           5             2         3             0          \n",
       "  houseincome\n",
       "1 3          \n",
       "2 1          \n",
       "3 1          \n",
       "4 1          \n",
       "5 2          \n",
       "6 1          "
      ]
     },
     "metadata": {},
     "output_type": "display_data"
    }
   ],
   "source": [
    "library(magrittr)\n",
    "\n",
    "full_data<-epi7913A::cchs %>% dplyr::slice_sample(prop=0.1)\n",
    "head(full_data)"
   ]
  },
  {
   "cell_type": "markdown",
   "id": "cb15f79f-f0d7-456a-8eca-bd9bb4d234bf",
   "metadata": {},
   "source": [
    "## Split the data into training and testing proportions"
   ]
  },
  {
   "cell_type": "code",
   "execution_count": 24,
   "id": "17e030fe-4c84-4774-a47c-0dcca05f4bc2",
   "metadata": {
    "tags": []
   },
   "outputs": [],
   "source": [
    "# create train and test data\n",
    "idx <- splitTools::partition(rep(0,nrow(full_data)), p=c(train=0.7, test=0.3), type=\"stratified\")\n",
    "train_data <- full_data[idx$train,]\n",
    "test_data <- full_data[idx$test,]"
   ]
  },
  {
   "cell_type": "markdown",
   "id": "a3e8ac5c-5ad1-4828-9809-8c861cbedcbd",
   "metadata": {
    "tags": []
   },
   "source": [
    "## Define the outcome variable"
   ]
  },
  {
   "cell_type": "code",
   "execution_count": 25,
   "id": "b7d47f5b-3385-41ce-8ba5-33cef07822a7",
   "metadata": {
    "tags": []
   },
   "outputs": [],
   "source": [
    "# define the outcome variable\n",
    "voutcome <- \"CANHEARTbin\""
   ]
  },
  {
   "cell_type": "markdown",
   "id": "64ba6ff9-4e8b-4766-b811-958593346abc",
   "metadata": {},
   "source": [
    "## Train a CART model with optimal hyperparameters"
   ]
  },
  {
   "cell_type": "code",
   "execution_count": 26,
   "id": "1f1c8562-b8ff-45dc-98dd-187ae5a08841",
   "metadata": {
    "tags": []
   },
   "outputs": [
    {
     "name": "stdout",
     "output_type": "stream",
     "text": [
      "\n",
      " Best Parameters Found: \n",
      "Round = 36\tminsplit = 5.0000\tminbucket = 5.0000\tcp = 0.0010\tmaxdepth = 4.0000\tValue = -0.5982682 \n"
     ]
    }
   ],
   "source": [
    "# train a model with optimal hyperparameters\n",
    "best_model<-sdgm::cart.bestmodel.bin(train_data, voutcome)\n",
    "lr_model<-sdgm::lr.bestmodel.bin(train_data, voutcom)"
   ]
  },
  {
   "cell_type": "markdown",
   "id": "c6a59926-5327-40a3-9a38-ed86edeb3b60",
   "metadata": {},
   "source": [
    "## predict on the test data; this is a generic predict function"
   ]
  },
  {
   "cell_type": "code",
   "execution_count": 27,
   "id": "2e133b3e-428a-4284-b7e2-c1d9250432bd",
   "metadata": {
    "tags": []
   },
   "outputs": [],
   "source": [
    "# predict on the test data; this is a generic predict function\n",
    "preds <- predict(best_model, test_data)"
   ]
  },
  {
   "cell_type": "markdown",
   "id": "43fc60c4-1c96-4df4-b8a2-8a01dfbfe1f8",
   "metadata": {},
   "source": [
    "## Calculate the logloss of prediction made on test data"
   ]
  },
  {
   "cell_type": "code",
   "execution_count": 28,
   "id": "01604892-fd28-4c5f-8623-d8be26bd71ef",
   "metadata": {
    "tags": []
   },
   "outputs": [
    {
     "name": "stdout",
     "output_type": "stream",
     "text": [
      "[1] \"Logloss on CCHS Data is: 0.598588742692058\"\n"
     ]
    }
   ],
   "source": [
    "# logloss\n",
    "if (!is.null(preds))\n",
    "{\n",
    "        test_logloss<- MLmetrics::LogLoss(preds, test_data[,voutcome] )\n",
    "} else {\n",
    "  test_logloss <- NA\n",
    "  print(\"Logloss calculation failed because there are no predicted values\")\n",
    "}\n",
    " \n",
    "print(paste0(\"Logloss on CCHS Data is: \", test_logloss))"
   ]
  },
  {
   "cell_type": "code",
   "execution_count": null,
   "id": "e3cdb110-b2cc-494f-b8de-5f3e8e32f21d",
   "metadata": {},
   "outputs": [],
   "source": []
  }
 ],
 "metadata": {
  "kernelspec": {
   "display_name": "R",
   "language": "R",
   "name": "ir"
  },
  "language_info": {
   "codemirror_mode": "r",
   "file_extension": ".r",
   "mimetype": "text/x-r-source",
   "name": "R",
   "pygments_lexer": "r",
   "version": "4.3.1"
  },
  "widgets": {
   "application/vnd.jupyter.widget-state+json": {
    "state": {},
    "version_major": 2,
    "version_minor": 0
   }
  }
 },
 "nbformat": 4,
 "nbformat_minor": 5
}
