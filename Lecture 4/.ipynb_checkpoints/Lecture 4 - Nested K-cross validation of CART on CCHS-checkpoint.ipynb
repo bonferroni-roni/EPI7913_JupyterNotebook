{
 "cells": [
  {
   "cell_type": "markdown",
   "id": "f45f201e-a62f-49a9-b382-d6cc12498743",
   "metadata": {},
   "source": [
    "# Lecture 4 - Nested CV for CART model\n",
    "\n",
    "## Load the CCHS data form epi7913A package"
   ]
  },
  {
   "cell_type": "code",
   "execution_count": 5,
   "id": "fddf0d72-bd59-46f4-b977-6f0b354f96a0",
   "metadata": {
    "tags": []
   },
   "outputs": [
    {
     "data": {
      "text/html": [
       "<table class=\"dataframe\">\n",
       "<caption>A data.frame: 6 × 8</caption>\n",
       "<thead>\n",
       "\t<tr><th></th><th scope=col>age</th><th scope=col>sex</th><th scope=col>CANHEARTbin</th><th scope=col>householdsize</th><th scope=col>education</th><th scope=col>maritalstatus</th><th scope=col>immigration</th><th scope=col>houseincome</th></tr>\n",
       "\t<tr><th></th><th scope=col>&lt;fct&gt;</th><th scope=col>&lt;fct&gt;</th><th scope=col>&lt;int&gt;</th><th scope=col>&lt;fct&gt;</th><th scope=col>&lt;fct&gt;</th><th scope=col>&lt;fct&gt;</th><th scope=col>&lt;int&gt;</th><th scope=col>&lt;fct&gt;</th></tr>\n",
       "</thead>\n",
       "<tbody>\n",
       "\t<tr><th scope=row>1</th><td>6</td><td>1</td><td>1</td><td>1</td><td>4</td><td>2</td><td>0</td><td>1</td></tr>\n",
       "\t<tr><th scope=row>2</th><td>3</td><td>2</td><td>0</td><td>4</td><td>2</td><td>3</td><td>0</td><td>3</td></tr>\n",
       "\t<tr><th scope=row>3</th><td>6</td><td>1</td><td>0</td><td>2</td><td>2</td><td>3</td><td>0</td><td>1</td></tr>\n",
       "\t<tr><th scope=row>4</th><td>1</td><td>2</td><td>1</td><td>3</td><td>2</td><td>2</td><td>1</td><td>2</td></tr>\n",
       "\t<tr><th scope=row>5</th><td>1</td><td>2</td><td>1</td><td>3</td><td>1</td><td>1</td><td>1</td><td>3</td></tr>\n",
       "\t<tr><th scope=row>6</th><td>4</td><td>1</td><td>0</td><td>4</td><td>4</td><td>3</td><td>0</td><td>1</td></tr>\n",
       "</tbody>\n",
       "</table>\n"
      ],
      "text/latex": [
       "A data.frame: 6 × 8\n",
       "\\begin{tabular}{r|llllllll}\n",
       "  & age & sex & CANHEARTbin & householdsize & education & maritalstatus & immigration & houseincome\\\\\n",
       "  & <fct> & <fct> & <int> & <fct> & <fct> & <fct> & <int> & <fct>\\\\\n",
       "\\hline\n",
       "\t1 & 6 & 1 & 1 & 1 & 4 & 2 & 0 & 1\\\\\n",
       "\t2 & 3 & 2 & 0 & 4 & 2 & 3 & 0 & 3\\\\\n",
       "\t3 & 6 & 1 & 0 & 2 & 2 & 3 & 0 & 1\\\\\n",
       "\t4 & 1 & 2 & 1 & 3 & 2 & 2 & 1 & 2\\\\\n",
       "\t5 & 1 & 2 & 1 & 3 & 1 & 1 & 1 & 3\\\\\n",
       "\t6 & 4 & 1 & 0 & 4 & 4 & 3 & 0 & 1\\\\\n",
       "\\end{tabular}\n"
      ],
      "text/markdown": [
       "\n",
       "A data.frame: 6 × 8\n",
       "\n",
       "| <!--/--> | age &lt;fct&gt; | sex &lt;fct&gt; | CANHEARTbin &lt;int&gt; | householdsize &lt;fct&gt; | education &lt;fct&gt; | maritalstatus &lt;fct&gt; | immigration &lt;int&gt; | houseincome &lt;fct&gt; |\n",
       "|---|---|---|---|---|---|---|---|---|\n",
       "| 1 | 6 | 1 | 1 | 1 | 4 | 2 | 0 | 1 |\n",
       "| 2 | 3 | 2 | 0 | 4 | 2 | 3 | 0 | 3 |\n",
       "| 3 | 6 | 1 | 0 | 2 | 2 | 3 | 0 | 1 |\n",
       "| 4 | 1 | 2 | 1 | 3 | 2 | 2 | 1 | 2 |\n",
       "| 5 | 1 | 2 | 1 | 3 | 1 | 1 | 1 | 3 |\n",
       "| 6 | 4 | 1 | 0 | 4 | 4 | 3 | 0 | 1 |\n",
       "\n"
      ],
      "text/plain": [
       "  age sex CANHEARTbin householdsize education maritalstatus immigration\n",
       "1 6   1   1           1             4         2             0          \n",
       "2 3   2   0           4             2         3             0          \n",
       "3 6   1   0           2             2         3             0          \n",
       "4 1   2   1           3             2         2             1          \n",
       "5 1   2   1           3             1         1             1          \n",
       "6 4   1   0           4             4         3             0          \n",
       "  houseincome\n",
       "1 1          \n",
       "2 3          \n",
       "3 1          \n",
       "4 2          \n",
       "5 3          \n",
       "6 1          "
      ]
     },
     "metadata": {},
     "output_type": "display_data"
    }
   ],
   "source": [
    "library(magrittr)\n",
    "\n",
    "full_data<-epi7913A::cchs %>% dplyr::slice_sample(prop=0.1)\n",
    "head(full_data)"
   ]
  },
  {
   "cell_type": "markdown",
   "id": "a3e8ac5c-5ad1-4828-9809-8c861cbedcbd",
   "metadata": {
    "tags": []
   },
   "source": [
    "## Define the outcome variable"
   ]
  },
  {
   "cell_type": "code",
   "execution_count": 6,
   "id": "b7d47f5b-3385-41ce-8ba5-33cef07822a7",
   "metadata": {
    "tags": []
   },
   "outputs": [],
   "source": [
    "# define the outcome variable\n",
    "voutcome <- \"CANHEARTbin\""
   ]
  },
  {
   "cell_type": "markdown",
   "id": "64ba6ff9-4e8b-4766-b811-958593346abc",
   "metadata": {},
   "source": [
    "## Iterate using 5-fold cross validation (outer loop) calling the 5-fold CV to tune the model each time (inner loop)"
   ]
  },
  {
   "cell_type": "code",
   "execution_count": null,
   "id": "1f1c8562-b8ff-45dc-98dd-187ae5a08841",
   "metadata": {
    "tags": []
   },
   "outputs": [],
   "source": [
    "ll.mean<-mean(sapply(caret::createFolds(full_data[, voutcome], k=5), function(x)\n",
    "{\n",
    "  testInds <- x\n",
    "  trnInds <- setdiff(1:nrow(full_data), testInds)\n",
    "  \n",
    "  train_data <- full_data[trnInds,] \n",
    "  test_data <- full_data[testInds,]\n",
    "  \n",
    "  best_model<-sdgm::cart.bestmodel.bin(train_data, voutcome, n_iter=5)\n",
    "\n",
    "  preds<-predict(best_model, test_data)\n",
    "  \n",
    "  if (!is.null(preds))\n",
    "  {\n",
    "    test_ll<- MLmetrics::LogLoss(preds, test_data[,voutcome] ) \n",
    "  } else  {\n",
    "    test_ll<-NA\n",
    "    print(\"Logloss calculation failed\")\n",
    "  }\n",
    "}))\n",
    "print(ll.mean, na.rm=T)"
   ]
  },
  {
   "cell_type": "markdown",
   "id": "ad206b30-42c8-4716-8d16-66d8a41fd274",
   "metadata": {},
   "source": [
    "## Now train the final model"
   ]
  },
  {
   "cell_type": "code",
   "execution_count": 6,
   "id": "01604892-fd28-4c5f-8623-d8be26bd71ef",
   "metadata": {
    "tags": []
   },
   "outputs": [
    {
     "name": "stdout",
     "output_type": "stream",
     "text": [
      "[1] \"Logloss on CCHS Data is: 0.622235019456334\"\n"
     ]
    }
   ],
   "source": [
    "  final_model<-sdgm::cart.bestmodel.bin(full_data, voutcome, n_iter=5)"
   ]
  },
  {
   "cell_type": "code",
   "execution_count": null,
   "id": "e3cdb110-b2cc-494f-b8de-5f3e8e32f21d",
   "metadata": {},
   "outputs": [],
   "source": []
  }
 ],
 "metadata": {
  "kernelspec": {
   "display_name": "R",
   "language": "R",
   "name": "ir"
  },
  "language_info": {
   "codemirror_mode": "r",
   "file_extension": ".r",
   "mimetype": "text/x-r-source",
   "name": "R",
   "pygments_lexer": "r",
   "version": "4.3.1"
  },
  "widgets": {
   "application/vnd.jupyter.widget-state+json": {
    "state": {},
    "version_major": 2,
    "version_minor": 0
   }
  }
 },
 "nbformat": 4,
 "nbformat_minor": 5
}
