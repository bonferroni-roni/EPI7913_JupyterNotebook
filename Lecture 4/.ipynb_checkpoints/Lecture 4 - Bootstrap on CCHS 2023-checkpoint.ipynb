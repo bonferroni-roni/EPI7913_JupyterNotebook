{
 "cells": [
  {
   "cell_type": "markdown",
   "id": "81d8431c-cdf0-40e1-9724-9ef112dc79e0",
   "metadata": {},
   "source": [
    "# Lecture 4 - Bootstrap testing on the CCHS dataset CART model\n"
   ]
  },
  {
   "cell_type": "markdown",
   "id": "03eef247-e88b-4d31-9b17-08f241c6d0e4",
   "metadata": {},
   "source": [
    "## Retrieve the data from the course package\n",
    "\n",
    "### The Canadian Community Health Survey CCHS was designed to gather health-related data at the sub-provincial levels of geography (health region or combined health regions). \n",
    "\n",
    "### **Please note:** data provided here is a synthetic version designed specifically for the educational purpose of this course."
   ]
  },
  {
   "cell_type": "code",
   "execution_count": 8,
   "id": "ba0dc77d-0d1b-44b0-96ef-0e29ec436510",
   "metadata": {
    "tags": []
   },
   "outputs": [
    {
     "data": {
      "text/html": [
       "<table class=\"dataframe\">\n",
       "<caption>A data.frame: 6 × 8</caption>\n",
       "<thead>\n",
       "\t<tr><th></th><th scope=col>age</th><th scope=col>sex</th><th scope=col>CANHEARTbin</th><th scope=col>householdsize</th><th scope=col>education</th><th scope=col>maritalstatus</th><th scope=col>immigration</th><th scope=col>houseincome</th></tr>\n",
       "\t<tr><th></th><th scope=col>&lt;fct&gt;</th><th scope=col>&lt;fct&gt;</th><th scope=col>&lt;int&gt;</th><th scope=col>&lt;fct&gt;</th><th scope=col>&lt;fct&gt;</th><th scope=col>&lt;fct&gt;</th><th scope=col>&lt;int&gt;</th><th scope=col>&lt;fct&gt;</th></tr>\n",
       "</thead>\n",
       "<tbody>\n",
       "\t<tr><th scope=row>1</th><td>5</td><td>1</td><td>0</td><td>2</td><td>2</td><td>3</td><td>0</td><td>1</td></tr>\n",
       "\t<tr><th scope=row>2</th><td>4</td><td>1</td><td>1</td><td>1</td><td>2</td><td>1</td><td>0</td><td>3</td></tr>\n",
       "\t<tr><th scope=row>3</th><td>7</td><td>2</td><td>1</td><td>2</td><td>1</td><td>3</td><td>0</td><td>2</td></tr>\n",
       "\t<tr><th scope=row>4</th><td>5</td><td>2</td><td>1</td><td>2</td><td>4</td><td>2</td><td>0</td><td>2</td></tr>\n",
       "\t<tr><th scope=row>5</th><td>6</td><td>2</td><td>0</td><td>2</td><td>2</td><td>3</td><td>0</td><td>2</td></tr>\n",
       "\t<tr><th scope=row>6</th><td>4</td><td>2</td><td>0</td><td>1</td><td>1</td><td>1</td><td>0</td><td>3</td></tr>\n",
       "</tbody>\n",
       "</table>\n"
      ],
      "text/latex": [
       "A data.frame: 6 × 8\n",
       "\\begin{tabular}{r|llllllll}\n",
       "  & age & sex & CANHEARTbin & householdsize & education & maritalstatus & immigration & houseincome\\\\\n",
       "  & <fct> & <fct> & <int> & <fct> & <fct> & <fct> & <int> & <fct>\\\\\n",
       "\\hline\n",
       "\t1 & 5 & 1 & 0 & 2 & 2 & 3 & 0 & 1\\\\\n",
       "\t2 & 4 & 1 & 1 & 1 & 2 & 1 & 0 & 3\\\\\n",
       "\t3 & 7 & 2 & 1 & 2 & 1 & 3 & 0 & 2\\\\\n",
       "\t4 & 5 & 2 & 1 & 2 & 4 & 2 & 0 & 2\\\\\n",
       "\t5 & 6 & 2 & 0 & 2 & 2 & 3 & 0 & 2\\\\\n",
       "\t6 & 4 & 2 & 0 & 1 & 1 & 1 & 0 & 3\\\\\n",
       "\\end{tabular}\n"
      ],
      "text/markdown": [
       "\n",
       "A data.frame: 6 × 8\n",
       "\n",
       "| <!--/--> | age &lt;fct&gt; | sex &lt;fct&gt; | CANHEARTbin &lt;int&gt; | householdsize &lt;fct&gt; | education &lt;fct&gt; | maritalstatus &lt;fct&gt; | immigration &lt;int&gt; | houseincome &lt;fct&gt; |\n",
       "|---|---|---|---|---|---|---|---|---|\n",
       "| 1 | 5 | 1 | 0 | 2 | 2 | 3 | 0 | 1 |\n",
       "| 2 | 4 | 1 | 1 | 1 | 2 | 1 | 0 | 3 |\n",
       "| 3 | 7 | 2 | 1 | 2 | 1 | 3 | 0 | 2 |\n",
       "| 4 | 5 | 2 | 1 | 2 | 4 | 2 | 0 | 2 |\n",
       "| 5 | 6 | 2 | 0 | 2 | 2 | 3 | 0 | 2 |\n",
       "| 6 | 4 | 2 | 0 | 1 | 1 | 1 | 0 | 3 |\n",
       "\n"
      ],
      "text/plain": [
       "  age sex CANHEARTbin householdsize education maritalstatus immigration\n",
       "1 5   1   0           2             2         3             0          \n",
       "2 4   1   1           1             2         1             0          \n",
       "3 7   2   1           2             1         3             0          \n",
       "4 5   2   1           2             4         2             0          \n",
       "5 6   2   0           2             2         3             0          \n",
       "6 4   2   0           1             1         1             0          \n",
       "  houseincome\n",
       "1 1          \n",
       "2 3          \n",
       "3 2          \n",
       "4 2          \n",
       "5 2          \n",
       "6 3          "
      ]
     },
     "metadata": {},
     "output_type": "display_data"
    }
   ],
   "source": [
    "library(magrittr)\n",
    "\n",
    "df <- epi7913A::cchs %>% dplyr::slice_sample(prop=0.1)\n",
    "head(df)"
   ]
  },
  {
   "cell_type": "markdown",
   "id": "86156ccb-c083-4983-b41d-58cbf12045ac",
   "metadata": {},
   "source": [
    "## The following R code, implements a bootstrap sampling method to test a CART model\n",
    "\n",
    "### - Remove incomplete rows (containing NAs) and set the random seed."
   ]
  },
  {
   "cell_type": "code",
   "execution_count": 9,
   "id": "a60373b4-b076-4a67-a2bd-ec0dae33be86",
   "metadata": {
    "tags": []
   },
   "outputs": [],
   "source": [
    "df <- df[complete.cases(df),] #remove rows with NAs\n",
    "set.seed(17)  # set a random seed"
   ]
  },
  {
   "cell_type": "markdown",
   "id": "a016e9f0-0fa4-4a29-8933-e5c4a241d4c4",
   "metadata": {},
   "source": [
    "### - Define a function that builds a decision tree  (CART) model with default hyperparameters"
   ]
  },
  {
   "cell_type": "code",
   "execution_count": 10,
   "id": "9d66f4de-8c00-4985-98ff-9def43c7b7f7",
   "metadata": {
    "tags": []
   },
   "outputs": [],
   "source": [
    "# function build a tree model with default hyperparameters\n",
    "buildTree <- function(train) \n",
    "{\n",
    "    tree_model <- rpart::rpart(CANHEARTbin ~ ., data = train, method = \"class\")\n",
    "    return(tree_model)\n",
    "}"
   ]
  },
  {
   "cell_type": "markdown",
   "id": "bfc1550c-87fc-42b5-ab98-7b39082d2251",
   "metadata": {},
   "source": [
    "### - Define a function to evaluate the tree (CART) model on test data"
   ]
  },
  {
   "cell_type": "code",
   "execution_count": 11,
   "id": "c7a394f0-fbbe-4abc-956d-8d5552743be6",
   "metadata": {
    "tags": []
   },
   "outputs": [],
   "source": [
    "# function to evaluate tree model on test data\n",
    "evalTree <- function(tree_model, train, test)\n",
    "{\n",
    "  tree_predictions <- tryCatch(error=function(cnd) {print(cnd); cbind(rep(NA, 10), rep(NA, 10)) }, \n",
    "                               { predict(tree_model, test, type = 'prob') } )\n",
    "\n",
    "  if (sum(is.na(tree_predictions[,2]))==0)\n",
    "      r1 <- MLmetrics::LogLoss(tree_predictions[,2], as.numeric(as.character(train$CANHEARTbin)))\n",
    "  else\n",
    "      r1 <- NA\n",
    "  \n",
    "  return(r1)\n",
    "} "
   ]
  },
  {
   "cell_type": "markdown",
   "id": "2a13cf3a",
   "metadata": {},
   "source": [
    "## Now we are going to estimate the error using a bootstrap method of __Harrell et al. (https://www4.stat.ncsu.edu/~lu/ST745/sim_modelchecking.pdf)__. \n",
    "\n",
    "### **Note:** we are dealing with logloss, therefore, the calculations are adjusted from the original paper (as opposed to a performance metric).\n",
    "\n",
    "### - First, compute the error on the original data"
   ]
  },
  {
   "cell_type": "code",
   "execution_count": 12,
   "id": "ec7755a0",
   "metadata": {
    "tags": []
   },
   "outputs": [
    {
     "name": "stdout",
     "output_type": "stream",
     "text": [
      "\n",
      " Original error: 0.6231971 \n"
     ]
    }
   ],
   "source": [
    "# first compute the error on the original data\n",
    "orig.tree <- buildTree(df)\n",
    "e.orig <- evalTree(orig.tree, df, df)\n",
    "cat(\"\\n\",\"Original error:\", e.orig, \"\\n\")"
   ]
  },
  {
   "cell_type": "markdown",
   "id": "9f72e7eb-6532-419f-b6f5-c80099bfc25e",
   "metadata": {},
   "source": [
    "### - Then compute the bootstrap optimism"
   ]
  },
  {
   "cell_type": "code",
   "execution_count": 13,
   "id": "15cdf1c6-b7b9-472e-8227-157920de9f17",
   "metadata": {
    "tags": []
   },
   "outputs": [
    {
     "name": "stdout",
     "output_type": "stream",
     "text": [
      "\n",
      "Optimisim: 0.2029782 \n"
     ]
    }
   ],
   "source": [
    "# then compute the bootstrap optimism\n",
    "opt <- mean(sapply(seq(100), function(i) {\n",
    "    boot.sample<-df[sample(nrow(df), replace=T),]\n",
    "    boot.model<-buildTree(boot.sample)\n",
    "    e.orig.i<-evalTree(boot.model, boot.sample, df)\n",
    "    e.boot.i<-evalTree(boot.model, boot.sample, boot.sample)\n",
    "    return(e.orig.i - e.boot.i) # since it is an error reverse\n",
    "    }), na.rm=T)\n",
    "\n",
    "cat(\"\\nOptimisim:\", opt, \"\\n\")"
   ]
  },
  {
   "cell_type": "markdown",
   "id": "b37a6d57-04db-4daf-8028-6ae30b13b228",
   "metadata": {},
   "source": [
    "### - Then add bootstrap optimism to original error"
   ]
  },
  {
   "cell_type": "code",
   "execution_count": 14,
   "id": "f9a84bc3-0b71-48db-a1eb-d11af0527176",
   "metadata": {
    "tags": []
   },
   "outputs": [
    {
     "name": "stdout",
     "output_type": "stream",
     "text": [
      "\n",
      "Overall error: 0.8261753 \n"
     ]
    }
   ],
   "source": [
    "cat(\"\\nOverall error:\", e.orig + opt , \"\\n\")"
   ]
  },
  {
   "cell_type": "markdown",
   "id": "81ed2c6a",
   "metadata": {},
   "source": [
    "### There are other bootstrapping approaches that can be used to compute the error but in general this approach provides quite a robust result."
   ]
  }
 ],
 "metadata": {
  "kernelspec": {
   "display_name": "R",
   "language": "R",
   "name": "ir"
  },
  "language_info": {
   "codemirror_mode": "r",
   "file_extension": ".r",
   "mimetype": "text/x-r-source",
   "name": "R",
   "pygments_lexer": "r",
   "version": "4.3.1"
  },
  "widgets": {
   "application/vnd.jupyter.widget-state+json": {
    "state": {},
    "version_major": 2,
    "version_minor": 0
   }
  }
 },
 "nbformat": 4,
 "nbformat_minor": 5
}
