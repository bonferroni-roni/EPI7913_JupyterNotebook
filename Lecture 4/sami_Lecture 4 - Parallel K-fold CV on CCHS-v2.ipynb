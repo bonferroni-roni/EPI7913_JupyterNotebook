{
 "cells": [
  {
   "cell_type": "markdown",
   "id": "f45f201e-a62f-49a9-b382-d6cc12498743",
   "metadata": {},
   "source": [
    "# Lecture 4 - K-fold CV for CART model\n",
    "\n",
    "## Load the CCHS data form epi7913A package"
   ]
  },
  {
   "cell_type": "code",
   "execution_count": 12,
   "id": "fddf0d72-bd59-46f4-b977-6f0b354f96a0",
   "metadata": {
    "tags": []
   },
   "outputs": [
    {
     "data": {
      "text/html": [
       "<table class=\"dataframe\">\n",
       "<caption>A data.frame: 6 × 8</caption>\n",
       "<thead>\n",
       "\t<tr><th></th><th scope=col>age</th><th scope=col>sex</th><th scope=col>CANHEARTbin</th><th scope=col>householdsize</th><th scope=col>education</th><th scope=col>maritalstatus</th><th scope=col>immigration</th><th scope=col>houseincome</th></tr>\n",
       "\t<tr><th></th><th scope=col>&lt;fct&gt;</th><th scope=col>&lt;fct&gt;</th><th scope=col>&lt;int&gt;</th><th scope=col>&lt;fct&gt;</th><th scope=col>&lt;fct&gt;</th><th scope=col>&lt;fct&gt;</th><th scope=col>&lt;int&gt;</th><th scope=col>&lt;fct&gt;</th></tr>\n",
       "</thead>\n",
       "<tbody>\n",
       "\t<tr><th scope=row>1</th><td>7</td><td>2</td><td>0</td><td>1</td><td>4</td><td>2</td><td>0</td><td>2</td></tr>\n",
       "\t<tr><th scope=row>2</th><td>4</td><td>1</td><td>0</td><td>4</td><td>2</td><td>3</td><td>0</td><td>1</td></tr>\n",
       "\t<tr><th scope=row>3</th><td>6</td><td>2</td><td>1</td><td>1</td><td>4</td><td>1</td><td>0</td><td>2</td></tr>\n",
       "\t<tr><th scope=row>4</th><td>7</td><td>2</td><td>1</td><td>2</td><td>1</td><td>3</td><td>0</td><td>1</td></tr>\n",
       "\t<tr><th scope=row>5</th><td>2</td><td>2</td><td>1</td><td>2</td><td>4</td><td>1</td><td>0</td><td>3</td></tr>\n",
       "\t<tr><th scope=row>6</th><td>4</td><td>1</td><td>1</td><td>5</td><td>4</td><td>3</td><td>0</td><td>1</td></tr>\n",
       "</tbody>\n",
       "</table>\n"
      ],
      "text/latex": [
       "A data.frame: 6 × 8\n",
       "\\begin{tabular}{r|llllllll}\n",
       "  & age & sex & CANHEARTbin & householdsize & education & maritalstatus & immigration & houseincome\\\\\n",
       "  & <fct> & <fct> & <int> & <fct> & <fct> & <fct> & <int> & <fct>\\\\\n",
       "\\hline\n",
       "\t1 & 7 & 2 & 0 & 1 & 4 & 2 & 0 & 2\\\\\n",
       "\t2 & 4 & 1 & 0 & 4 & 2 & 3 & 0 & 1\\\\\n",
       "\t3 & 6 & 2 & 1 & 1 & 4 & 1 & 0 & 2\\\\\n",
       "\t4 & 7 & 2 & 1 & 2 & 1 & 3 & 0 & 1\\\\\n",
       "\t5 & 2 & 2 & 1 & 2 & 4 & 1 & 0 & 3\\\\\n",
       "\t6 & 4 & 1 & 1 & 5 & 4 & 3 & 0 & 1\\\\\n",
       "\\end{tabular}\n"
      ],
      "text/markdown": [
       "\n",
       "A data.frame: 6 × 8\n",
       "\n",
       "| <!--/--> | age &lt;fct&gt; | sex &lt;fct&gt; | CANHEARTbin &lt;int&gt; | householdsize &lt;fct&gt; | education &lt;fct&gt; | maritalstatus &lt;fct&gt; | immigration &lt;int&gt; | houseincome &lt;fct&gt; |\n",
       "|---|---|---|---|---|---|---|---|---|\n",
       "| 1 | 7 | 2 | 0 | 1 | 4 | 2 | 0 | 2 |\n",
       "| 2 | 4 | 1 | 0 | 4 | 2 | 3 | 0 | 1 |\n",
       "| 3 | 6 | 2 | 1 | 1 | 4 | 1 | 0 | 2 |\n",
       "| 4 | 7 | 2 | 1 | 2 | 1 | 3 | 0 | 1 |\n",
       "| 5 | 2 | 2 | 1 | 2 | 4 | 1 | 0 | 3 |\n",
       "| 6 | 4 | 1 | 1 | 5 | 4 | 3 | 0 | 1 |\n",
       "\n"
      ],
      "text/plain": [
       "  age sex CANHEARTbin householdsize education maritalstatus immigration\n",
       "1 7   2   0           1             4         2             0          \n",
       "2 4   1   0           4             2         3             0          \n",
       "3 6   2   1           1             4         1             0          \n",
       "4 7   2   1           2             1         3             0          \n",
       "5 2   2   1           2             4         1             0          \n",
       "6 4   1   1           5             4         3             0          \n",
       "  houseincome\n",
       "1 2          \n",
       "2 1          \n",
       "3 2          \n",
       "4 1          \n",
       "5 3          \n",
       "6 1          "
      ]
     },
     "metadata": {},
     "output_type": "display_data"
    },
    {
     "data": {
      "text/html": [
       "<style>\n",
       ".list-inline {list-style: none; margin:0; padding: 0}\n",
       ".list-inline>li {display: inline-block}\n",
       ".list-inline>li:not(:last-child)::after {content: \"\\00b7\"; padding: 0 .5ex}\n",
       "</style>\n",
       "<ol class=list-inline><li>100</li><li>8</li></ol>\n"
      ],
      "text/latex": [
       "\\begin{enumerate*}\n",
       "\\item 100\n",
       "\\item 8\n",
       "\\end{enumerate*}\n"
      ],
      "text/markdown": [
       "1. 100\n",
       "2. 8\n",
       "\n",
       "\n"
      ],
      "text/plain": [
       "[1] 100   8"
      ]
     },
     "metadata": {},
     "output_type": "display_data"
    }
   ],
   "source": [
    "library(magrittr)\n",
    "\n",
    "full_data<-epi7913A::cchs %>% dplyr::slice_sample(prop=0.01)\n",
    "head(full_data)\n",
    "dim(full_data)"
   ]
  },
  {
   "cell_type": "markdown",
   "id": "a3e8ac5c-5ad1-4828-9809-8c861cbedcbd",
   "metadata": {
    "tags": []
   },
   "source": [
    "## Define the outcome variable"
   ]
  },
  {
   "cell_type": "code",
   "execution_count": 13,
   "id": "b7d47f5b-3385-41ce-8ba5-33cef07822a7",
   "metadata": {
    "tags": []
   },
   "outputs": [],
   "source": [
    "# define the outcome variable\n",
    "voutcome <- \"CANHEARTbin\""
   ]
  },
  {
   "cell_type": "markdown",
   "id": "ea8a4eed-2de4-42da-8959-fd93e291244a",
   "metadata": {},
   "source": [
    "## Define the parallelisation parameters:\n",
    "### - makeCluster(5) allocates 5 CPUs\n",
    "### - clusterExport() sets the parallel environment to share *full_data* and *voutcome* variables"
   ]
  },
  {
   "cell_type": "code",
   "execution_count": 14,
   "id": "42ffcfa7-9528-4d40-bce5-0a8f0afb955f",
   "metadata": {
    "tags": []
   },
   "outputs": [],
   "source": [
    "cl<-parallel::makeCluster(5)\n",
    "parallel::clusterExport(cl, c(\"full_data\", \"voutcome\"), envir = environment() )"
   ]
  },
  {
   "cell_type": "markdown",
   "id": "64ba6ff9-4e8b-4766-b811-958593346abc",
   "metadata": {},
   "source": [
    "## Calculate the mean performance of K-fold cross validation:\n",
    "#### - Create K folds\n",
    "#### - For each fold i, designate data in the remaining K-1 folds for training and those in fold i for testing\n",
    "#### - Perform model optimization on the training data\n",
    "#### - Obtain predictions on the test fold using the optimal model found\n",
    "#### - Calculate the logloss of predictions made"
   ]
  },
  {
   "cell_type": "code",
   "execution_count": 15,
   "id": "1f1c8562-b8ff-45dc-98dd-187ae5a08841",
   "metadata": {
    "tags": []
   },
   "outputs": [],
   "source": [
    "# this remains the same as the serial code (the previous notebook)\n",
    "ll.mean<-mean(parallel::parSapply(cl, caret::createFolds(full_data[, voutcome], k=5), function(x)\n",
    "{\n",
    "  testInds <- x\n",
    "  trnInds <- setdiff(1:nrow(full_data), testInds)\n",
    "  \n",
    "  train_data <- full_data[trnInds,] \n",
    "  test_data <- full_data[testInds,]\n",
    "  \n",
    "  best_model<-sdgm::cart.bestmodel.bin(train_data, voutcome, n_iter=5)\n",
    "\n",
    "  preds<-predict(best_model, test_data)\n",
    "\n",
    "  if (!is.null(preds))\n",
    "  {\n",
    "    test_ll<- MLmetrics::LogLoss(preds, test_data[,voutcome] ) \n",
    "  } else  {\n",
    "    test_ll<-NA\n",
    "    print(\"Logloss calculation failed\")\n",
    "  }\n",
    "}))"
   ]
  },
  {
   "cell_type": "markdown",
   "id": "66d25564-9974-40e8-af46-45a71da4d2f9",
   "metadata": {
    "tags": []
   },
   "source": [
    "## shutdown the parallel environment when done"
   ]
  },
  {
   "cell_type": "code",
   "execution_count": 11,
   "id": "0cd000f2-e629-4194-8abc-cceecf2c2572",
   "metadata": {
    "tags": []
   },
   "outputs": [
    {
     "ename": "ERROR",
     "evalue": "Error in summary.connection(connection): invalid connection\n",
     "output_type": "error",
     "traceback": [
      "Error in summary.connection(connection): invalid connection\nTraceback:\n",
      "1. parallel::stopCluster(cl)",
      "2. stopCluster.default(cl)",
      "3. stopNode(n)",
      "4. postNode(n, \"DONE\")",
      "5. sendData(con, list(type = type, data = value, tag = tag))",
      "6. sendData.SOCKnode(con, list(type = type, data = value, tag = tag))",
      "7. serialize(data, node$con)",
      "8. summary(connection)",
      "9. summary.connection(connection)"
     ]
    }
   ],
   "source": [
    "# shutdown the parallel environment when done\n",
    "parallel::stopCluster(cl)"
   ]
  },
  {
   "cell_type": "markdown",
   "id": "9e037343-0cf5-4108-b48f-b9fa72310a3f",
   "metadata": {},
   "source": [
    "## Printout the results"
   ]
  },
  {
   "cell_type": "code",
   "execution_count": 7,
   "id": "f4da4f50-bf6f-4a7a-9284-7d5721c5dbbb",
   "metadata": {
    "tags": []
   },
   "outputs": [
    {
     "name": "stdout",
     "output_type": "stream",
     "text": [
      "[1] 0.6828715\n"
     ]
    }
   ],
   "source": [
    "print(ll.mean, na.rm=T)"
   ]
  },
  {
   "cell_type": "markdown",
   "id": "ad206b30-42c8-4716-8d16-66d8a41fd274",
   "metadata": {},
   "source": [
    "## Now train the final model"
   ]
  },
  {
   "cell_type": "code",
   "execution_count": 8,
   "id": "01604892-fd28-4c5f-8623-d8be26bd71ef",
   "metadata": {
    "tags": []
   },
   "outputs": [
    {
     "name": "stdout",
     "output_type": "stream",
     "text": [
      "\n",
      " Best Parameters Found: \n",
      "Round = 4\tminsplit = 17.0000\tminbucket = 10.0000\tcp = 0.02574797\tmaxdepth = 13.0000\tValue = -0.6281097 \n"
     ]
    }
   ],
   "source": [
    "  final_model<-sdgm::cart.bestmodel.bin(full_data, voutcome, n_iter=5)"
   ]
  },
  {
   "cell_type": "markdown",
   "id": "b9a853a0-70a5-4516-8282-5c143fdf4cdf",
   "metadata": {},
   "source": [
    "## Show the final model"
   ]
  },
  {
   "cell_type": "code",
   "execution_count": 9,
   "id": "a10d399e-220c-4ecc-a994-c55d52641174",
   "metadata": {
    "tags": []
   },
   "outputs": [
    {
     "name": "stdout",
     "output_type": "stream",
     "text": [
      "$model\n",
      "n= 100 \n",
      "\n",
      "node), split, n, deviance, yval\n",
      "      * denotes terminal node\n",
      "\n",
      " 1) root 100 24.840000 0.5400000  \n",
      "   2) age=6,7 46 10.717390 0.3695652 *\n",
      "   3) age=1,2,3,4,5 54 11.648150 0.6851852  \n",
      "     6) householdsize=1,3 24  5.958333 0.5416667 *\n",
      "     7) householdsize=2,4,5 30  4.800000 0.8000000  \n",
      "      14) age=3,4,5 18  4.000000 0.6666667 *\n",
      "      15) age=1,2 12  0.000000 1.0000000 *\n",
      "\n",
      "$params\n",
      "$params$perf\n",
      "[1] -0.6281097\n",
      "\n",
      "$params$minsplit\n",
      "minsplit \n",
      "      17 \n",
      "\n",
      "$params$minbucket\n",
      "minbucket \n",
      "       10 \n",
      "\n",
      "$params$maxdepth\n",
      "maxdepth \n",
      "      13 \n",
      "\n",
      "$params$cp\n",
      "        cp \n",
      "0.02574797 \n",
      "\n",
      "\n",
      "$outcome\n",
      "[1] \"CANHEARTbin\"\n",
      "\n",
      "$factorList\n",
      "$factorList$age\n",
      "[1] \"1\" \"2\" \"3\" \"4\" \"5\" \"6\" \"7\"\n",
      "\n",
      "$factorList$sex\n",
      "[1] \"1\" \"2\"\n",
      "\n",
      "$factorList$householdsize\n",
      "[1] \"1\" \"2\" \"3\" \"4\" \"5\"\n",
      "\n",
      "$factorList$education\n",
      "[1] \"1\" \"2\" \"3\" \"4\"\n",
      "\n",
      "$factorList$maritalstatus\n",
      "[1] \"1\" \"2\" \"3\"\n",
      "\n",
      "$factorList$houseincome\n",
      "[1] \"1\" \"2\" \"3\"\n",
      "\n",
      "\n",
      "$predictors\n",
      "[1] \"age\"           \"sex\"           \"householdsize\" \"education\"    \n",
      "[5] \"maritalstatus\" \"immigration\"   \"houseincome\"  \n",
      "\n",
      "attr(,\"class\")\n",
      "[1] \"cart.bin\"\n"
     ]
    }
   ],
   "source": [
    "print(final_model)"
   ]
  },
  {
   "cell_type": "code",
   "execution_count": 10,
   "id": "a7c137bd-d65a-4a6a-950e-400813968ffa",
   "metadata": {
    "tags": []
   },
   "outputs": [
    {
     "data": {
      "image/png": "[encoded data removed]",
      "text/plain": [
       "plot without title"
      ]
     },
     "metadata": {
      "image/png": {
       "height": 420,
       "width": 420
      }
     },
     "output_type": "display_data"
    }
   ],
   "source": [
    "rpart.plot::rpart.plot(final_model$model, roundint=FALSE)"
   ]
  },
  {
   "cell_type": "code",
   "execution_count": null,
   "id": "fef840d2-3b0d-4e51-8585-01fdcf1f0d9e",
   "metadata": {},
   "outputs": [],
   "source": []
  }
 ],
 "metadata": {
  "kernelspec": {
   "display_name": "R",
   "language": "R",
   "name": "ir"
  },
  "language_info": {
   "codemirror_mode": "r",
   "file_extension": ".r",
   "mimetype": "text/x-r-source",
   "name": "R",
   "pygments_lexer": "r",
   "version": "4.3.1"
  },
  "widgets": {
   "application/vnd.jupyter.widget-state+json": {
    "state": {},
    "version_major": 2,
    "version_minor": 0
   }
  }
 },
 "nbformat": 4,
 "nbformat_minor": 5
}
