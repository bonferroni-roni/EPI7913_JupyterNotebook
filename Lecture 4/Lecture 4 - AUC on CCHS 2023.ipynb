{
 "cells": [
  {
   "cell_type": "markdown",
   "id": "795c7d3a-beda-49d7-8450-8097db4c2bb9",
   "metadata": {},
   "source": [
    "# Lecture 4 - Calculate AUC for CART on CCHS\n",
    "\n",
    "## Load the dataset"
   ]
  },
  {
   "cell_type": "code",
   "execution_count": 15,
   "id": "5f1b496e-a947-4991-862d-a812c00d0774",
   "metadata": {},
   "outputs": [
    {
     "data": {
      "text/html": [
       "<table class=\"dataframe\">\n",
       "<caption>A data.frame: 6 × 8</caption>\n",
       "<thead>\n",
       "\t<tr><th></th><th scope=col>age</th><th scope=col>sex</th><th scope=col>CANHEARTbin</th><th scope=col>householdsize</th><th scope=col>education</th><th scope=col>maritalstatus</th><th scope=col>immigration</th><th scope=col>houseincome</th></tr>\n",
       "\t<tr><th></th><th scope=col>&lt;fct&gt;</th><th scope=col>&lt;fct&gt;</th><th scope=col>&lt;int&gt;</th><th scope=col>&lt;fct&gt;</th><th scope=col>&lt;fct&gt;</th><th scope=col>&lt;fct&gt;</th><th scope=col>&lt;int&gt;</th><th scope=col>&lt;fct&gt;</th></tr>\n",
       "</thead>\n",
       "<tbody>\n",
       "\t<tr><th scope=row>1</th><td>5</td><td>1</td><td>0</td><td>1</td><td>1</td><td>2</td><td>0</td><td>2</td></tr>\n",
       "\t<tr><th scope=row>2</th><td>4</td><td>2</td><td>0</td><td>1</td><td>4</td><td>2</td><td>1</td><td>1</td></tr>\n",
       "\t<tr><th scope=row>3</th><td>5</td><td>2</td><td>1</td><td>2</td><td>4</td><td>3</td><td>0</td><td>1</td></tr>\n",
       "\t<tr><th scope=row>4</th><td>5</td><td>2</td><td>0</td><td>2</td><td>1</td><td>3</td><td>0</td><td>2</td></tr>\n",
       "\t<tr><th scope=row>5</th><td>3</td><td>2</td><td>1</td><td>4</td><td>4</td><td>1</td><td>0</td><td>1</td></tr>\n",
       "\t<tr><th scope=row>6</th><td>2</td><td>1</td><td>1</td><td>5</td><td>4</td><td>2</td><td>1</td><td>1</td></tr>\n",
       "</tbody>\n",
       "</table>\n"
      ],
      "text/latex": [
       "A data.frame: 6 × 8\n",
       "\\begin{tabular}{r|llllllll}\n",
       "  & age & sex & CANHEARTbin & householdsize & education & maritalstatus & immigration & houseincome\\\\\n",
       "  & <fct> & <fct> & <int> & <fct> & <fct> & <fct> & <int> & <fct>\\\\\n",
       "\\hline\n",
       "\t1 & 5 & 1 & 0 & 1 & 1 & 2 & 0 & 2\\\\\n",
       "\t2 & 4 & 2 & 0 & 1 & 4 & 2 & 1 & 1\\\\\n",
       "\t3 & 5 & 2 & 1 & 2 & 4 & 3 & 0 & 1\\\\\n",
       "\t4 & 5 & 2 & 0 & 2 & 1 & 3 & 0 & 2\\\\\n",
       "\t5 & 3 & 2 & 1 & 4 & 4 & 1 & 0 & 1\\\\\n",
       "\t6 & 2 & 1 & 1 & 5 & 4 & 2 & 1 & 1\\\\\n",
       "\\end{tabular}\n"
      ],
      "text/markdown": [
       "\n",
       "A data.frame: 6 × 8\n",
       "\n",
       "| <!--/--> | age &lt;fct&gt; | sex &lt;fct&gt; | CANHEARTbin &lt;int&gt; | householdsize &lt;fct&gt; | education &lt;fct&gt; | maritalstatus &lt;fct&gt; | immigration &lt;int&gt; | houseincome &lt;fct&gt; |\n",
       "|---|---|---|---|---|---|---|---|---|\n",
       "| 1 | 5 | 1 | 0 | 1 | 1 | 2 | 0 | 2 |\n",
       "| 2 | 4 | 2 | 0 | 1 | 4 | 2 | 1 | 1 |\n",
       "| 3 | 5 | 2 | 1 | 2 | 4 | 3 | 0 | 1 |\n",
       "| 4 | 5 | 2 | 0 | 2 | 1 | 3 | 0 | 2 |\n",
       "| 5 | 3 | 2 | 1 | 4 | 4 | 1 | 0 | 1 |\n",
       "| 6 | 2 | 1 | 1 | 5 | 4 | 2 | 1 | 1 |\n",
       "\n"
      ],
      "text/plain": [
       "  age sex CANHEARTbin householdsize education maritalstatus immigration\n",
       "1 5   1   0           1             1         2             0          \n",
       "2 4   2   0           1             4         2             1          \n",
       "3 5   2   1           2             4         3             0          \n",
       "4 5   2   0           2             1         3             0          \n",
       "5 3   2   1           4             4         1             0          \n",
       "6 2   1   1           5             4         2             1          \n",
       "  houseincome\n",
       "1 2          \n",
       "2 1          \n",
       "3 1          \n",
       "4 2          \n",
       "5 1          \n",
       "6 1          "
      ]
     },
     "metadata": {},
     "output_type": "display_data"
    }
   ],
   "source": [
    "library(magrittr)\n",
    "\n",
    "full_data <- epi7913A::cchs %>% dplyr::slice_sample(prop=0.1)\n",
    "voutcome  <- \"CANHEARTbin\"\n",
    "head(full_data)"
   ]
  },
  {
   "cell_type": "markdown",
   "id": "cbf50d41-7265-42a0-bb8e-6bc171bebed7",
   "metadata": {},
   "source": [
    "## Train, tune and test the model using 70/30 percent split data"
   ]
  },
  {
   "cell_type": "code",
   "execution_count": 18,
   "id": "ed9513ac-a378-49f7-8d7e-106867d6df6c",
   "metadata": {},
   "outputs": [
    {
     "name": "stdout",
     "output_type": "stream",
     "text": [
      "\n",
      " Best Parameters Found: \n",
      "Round = 11\tminsplit = 9.0000\tminbucket = 9.0000\tcp = 0.03886249\tmaxdepth = 5.0000\tValue = -0.6191085 \n"
     ]
    }
   ],
   "source": [
    "# create train and test data\n",
    "idx<-splitTools::partition(rep(0,nrow(full_data)), p=c(train=0.7, test=0.3), type=\"stratified\")\n",
    "\n",
    "train_data <- full_data[idx$train,]\n",
    "test_data <- full_data[idx$test,]\n",
    " \n",
    "# train a model with optimal hyperparameters\n",
    "best_model<-sdgm::cart.bestmodel.bin(train_data, voutcome)\n",
    " \n",
    "# predict on the test data; this is a generic predict function\n",
    "preds<-predict(best_model, test_data)"
   ]
  },
  {
   "cell_type": "markdown",
   "id": "5f872e15-f86c-4645-b68b-22c8e4495043",
   "metadata": {},
   "source": [
    "## Calculate the AUC on the test data"
   ]
  },
  {
   "cell_type": "code",
   "execution_count": 24,
   "id": "2f845537-872b-422a-ace5-12b2eefca82a",
   "metadata": {
    "tags": []
   },
   "outputs": [
    {
     "name": "stdout",
     "output_type": "stream",
     "text": [
      "[1] \"AUC on CCHS Data: 0.607900585976965\"\n"
     ]
    }
   ],
   "source": [
    "# AUC\n",
    "if (!is.null(preds))\n",
    "{\n",
    "  test_auc <- sdgm::auc(preds, test_data[,voutcome] ) \n",
    "} else {\n",
    "  test_auc <- NA\n",
    "  print(\"AUC calculation failed because there are no predicted values\")\n",
    "}\n",
    "print(paste0(\"AUC on CCHS Data: \", test_auc))"
   ]
  }
 ],
 "metadata": {
  "kernelspec": {
   "display_name": "R",
   "language": "R",
   "name": "ir"
  },
  "language_info": {
   "codemirror_mode": "r",
   "file_extension": ".r",
   "mimetype": "text/x-r-source",
   "name": "R",
   "pygments_lexer": "r",
   "version": "4.3.1"
  },
  "widgets": {
   "application/vnd.jupyter.widget-state+json": {
    "state": {},
    "version_major": 2,
    "version_minor": 0
   }
  }
 },
 "nbformat": 4,
 "nbformat_minor": 5
}
