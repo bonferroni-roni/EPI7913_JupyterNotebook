{
 "cells": [
  {
   "cell_type": "markdown",
   "metadata": {},
   "source": [
    "Welcome to the first assignment of EPI7913!\n",
    "\n",
    "# Overview of the Assignment\n",
    "In this assignment, you'll do some exploratory / descriptive analysis of the dataset.\n",
    "\n",
    "In this assignment, we will test your knowledge about the following topics:\n",
    "\n",
    "- Data exploration\n",
    "  - Have a first look of the data and get the summary information of each variables.\n",
    "  - Tabulate the data for categorical variables.\n",
    "  - Generate violin plots for the continuous variables.\n",
    "  \n",
    "- Data descriptive analysis, _i.e._ Identify problematic variables:\n",
    "  - High missingness\n",
    "  - Highly imbalanced data\n",
    "  - Extreme outliers\n",
    "  - Inconsistent coding\n",
    "  - Data redundancy\n",
    "\n",
    "## N0147 data: the control arm of a colon cancer trial\n",
    "\n",
    "For this assignment, we will use a synthetic version of the `N0147` data with some introduced data problems. More details about this data can be found [here](https://pubmed.ncbi.nlm.nih.gov/30297240/)\n",
    "\n",
    "# Import Packages\n",
    "\n",
    "We'll first import all the packages that we need for this assignment.\n",
    "\n",
    "- `dplyr` is what we'll use to manipulate our data. For more details, see [dplyr](https://dplyr.tidyverse.org/)\n",
    "- `ggplot2` is a plotting library. For more details, see [ggplot2](https://ggplot2.tidyverse.org/)\n"
   ]
  },
  {
   "cell_type": "code",
   "execution_count": null,
   "metadata": {},
   "outputs": [],
   "source": [
    "library(dplyr)\n",
    "library(ggplot2)"
   ]
  },
  {
   "cell_type": "markdown",
   "metadata": {},
   "source": [
    "# Load Data\n",
    "\n",
    "First we will load in the dataset that we will use for training and testing our model.\n"
   ]
  },
  {
   "cell_type": "code",
   "execution_count": null,
   "metadata": {},
   "outputs": [],
   "source": [
    "data <- read.csv(\"n0147_syn_issue.csv\", header = T, stringsAsFactors = TRUE)"
   ]
  },
  {
   "cell_type": "markdown",
   "metadata": {},
   "source": [
    "# Explore the Dataset\n",
    "\n",
    "## Summary table\n",
    "\n",
    "The dataset include the following fields (you can view this as a data dictionary):\n",
    "\n",
    "- `arm`: Labels of experimental arms, this dataset contains arms A, B, and C.\n",
    "- `ps`: ECOG Performance Status: 0 = 0, 1 = 1, 2 = 2+.\n",
    "- `stage_g`: Clinical T Stage: 1 = T1 or T2, 2 = T3, 3 = T4.\n",
    "- `wild`: Biomarker KRAS: 0 = Mutant, 1 = Wild-type, Missing = indeterminate.\n",
    "- `histo_g`: Histology: 1=High (poorly differentiated or undifferentiated), 2=Low (well or moderately differentiated).\n",
    "- `nodes`: Positive lymph node involvement: 1 = 1-3, 2 = >=4.\n",
    "- `bwl_obs`: Bowel obstruction : 1=Yes, 2=No.\n",
    "- `age`: Age.\n",
    "- `agecat`: Age category: < 40, 40-69, >=70.\n",
    "- `sex`: Sex: m=Male, f=Female.\n",
    "- `bmi2`: Body mass index (BMI).\n",
    "- `logbmi`: The logarithm of `bmi2`.\n",
    "- `racecat`: Race: b=black, w=white, oth=other.\n",
    "- `numcycle`: Total Number of Cycles Given.\n",
    "- `dfsstat5`: Disease free survival status (5yr censor): 0 = Event-Free, 1 = Event.\n",
    "- `fustat8`: Overall survival status (8 year censor): 0 = Alive, 1 = Dead.\n",
    "- `dfstime5`: Time in days of disease free survival.\n",
    "- `futime8`: Time in days of overall survival.\n",
    "\n",
    "We first get the number of subjects (`nSub`) and number of variables (`nVar`) of this dataset.\n"
   ]
  },
  {
   "cell_type": "code",
   "execution_count": null,
   "metadata": {},
   "outputs": [],
   "source": [
    "nSub <- nrow(data)\n",
    "nVar <- ncol(data)\n",
    "\n",
    "nSub\n",
    "nVar"
   ]
  },
  {
   "cell_type": "markdown",
   "metadata": {},
   "source": [
    "We can use the `head()` method to display the first six records of each. \n",
    "\n"
   ]
  },
  {
   "cell_type": "code",
   "execution_count": null,
   "metadata": {},
   "outputs": [],
   "source": [
    "head(data)"
   ]
  },
  {
   "cell_type": "markdown",
   "metadata": {},
   "source": [
    "We can use the `summary()` method to display the summary information. \n",
    "\n"
   ]
  },
  {
   "cell_type": "code",
   "execution_count": null,
   "metadata": {},
   "outputs": [],
   "source": [
    "summary(data)"
   ]
  },
  {
   "cell_type": "markdown",
   "metadata": {},
   "source": [
    "The function `str()` is another helpful one to display the summary information, especially data type of each variable. \n",
    "\n"
   ]
  },
  {
   "cell_type": "code",
   "execution_count": null,
   "metadata": {},
   "outputs": [],
   "source": [
    "str(data)"
   ]
  },
  {
   "cell_type": "markdown",
   "metadata": {},
   "source": [
    "You can see that by setting `stringsAsFactors = TRUE` when we read in the data, variables `arm`, `agecat`, `sex`, and `racecat` have been recognized as categorical variables automatically (data type as `Factor`). However, there are a few categorical variables still in `int`, and we need to transform them into `Factor`.\n",
    "\n",
    "__Question 1: __ Follow the example we have in the below cell, identify other variables that need to be transformed and do the transformation. Don't forget to use `str()` afterwards to make sure you have done it properly.\n",
    "\n",
    "_Hint: _ Please read the data dictionary carefully to determine the right type of each variable.\n"
   ]
  },
  {
   "cell_type": "code",
   "execution_count": null,
   "metadata": {},
   "outputs": [],
   "source": [
    "# Example for Question 1\n",
    "data$fustat8 <- as.factor(data$fustat8)"
   ]
  },
  {
   "cell_type": "markdown",
   "metadata": {},
   "source": [
    "\n"
   ]
  },
  {
   "cell_type": "code",
   "execution_count": null,
   "metadata": {},
   "outputs": [],
   "source": [
    "### START CODE HERE ###  \n",
    "\n",
    "### END CODE HERE ###"
   ]
  },
  {
   "cell_type": "markdown",
   "metadata": {},
   "source": [
    "Re-run the `summary()` method to display the summary information of current dataframe. You will need this summary table to answer some of the questions below.\n",
    "\n"
   ]
  },
  {
   "cell_type": "code",
   "execution_count": null,
   "metadata": {},
   "outputs": [],
   "source": [
    "summary(data)"
   ]
  },
  {
   "cell_type": "markdown",
   "metadata": {},
   "source": [
    "## Data issues\n",
    "\n",
    "### Missing data\n",
    "\n",
    "We have talked about missing data and different types of missingness in the class.\n",
    "\n",
    "__Question 2: __ Calculate the percentage of missing data in each variable and rank them (from high to low).\n",
    "\n",
    "_Hint: _\n",
    "\n",
    "- For calculating the percentage of missing data in each variable, [see here](https://stackoverflow.com/questions/33512837/calculate-using-dplyr-percentage-of-nas-in-each-column).\n",
    "- We only consider `NA` as missing at this step.\n",
    "- For sorting vector, [see here](https://www.rdocumentation.org/packages/base/versions/3.6.2/topics/sort).\n"
   ]
  },
  {
   "cell_type": "code",
   "execution_count": null,
   "metadata": {},
   "outputs": [],
   "source": [
    "### START CODE HERE ###  \n",
    "\n",
    "### END CODE HERE ###"
   ]
  },
  {
   "cell_type": "markdown",
   "metadata": {},
   "source": [
    "### Highly imbalanced data\n",
    "\n",
    "__Question 3: __ Looking at the summary table above, do you think the dataset is highly imbalanced? If yes, which variable(s) is/are imbalanced? Please just add your answer in this cell.\n",
    "\n",
    "_Answer: _ \n",
    "\n",
    "### Extreme outliers\n",
    "\n",
    "__Question 4: __ Can you identify a variable that contains extreme outliers? Please remove the outliers.\n",
    "\n",
    "_Hint: _ It is a common practice in clinical trials that missing data of continuous variables are labeled as `9999`.\n"
   ]
  },
  {
   "cell_type": "code",
   "execution_count": null,
   "metadata": {},
   "outputs": [],
   "source": [
    "### START CODE HERE  (REPLACE INSTANCES OF 'None' with your code) ###  \n",
    "\n",
    "# Define the maximum allowed value of the variable you find.\n",
    "max <- None\n",
    "\n",
    "# set values above max as NA\n",
    "\n",
    "data$None[which(data$None >= max)] <- NA\n",
    "\n",
    "### END CODE HERE ###"
   ]
  },
  {
   "cell_type": "markdown",
   "metadata": {},
   "source": [
    "__Question 5: __ A variable in this dataset is derived from the above variable with outliers. Please update the derived variable in the cell below.\n",
    "\n"
   ]
  },
  {
   "cell_type": "code",
   "execution_count": null,
   "metadata": {},
   "outputs": [],
   "source": [
    "### START CODE HERE ###  \n",
    "\n",
    "\n",
    "### END CODE HERE ###"
   ]
  },
  {
   "cell_type": "markdown",
   "metadata": {},
   "source": [
    "### Inconsistent coding\n",
    "\n",
    "__Question 6: __ Looking at the summary table above, can you identify a variable that has inconsistent coding/categories comparing with the data dictionary? Modify the variable in the cell below. Don't forget to call `summary()` on this variable to make sure that you have done it properly.\n"
   ]
  },
  {
   "cell_type": "code",
   "execution_count": null,
   "metadata": {},
   "outputs": [],
   "source": [
    "### START CODE HERE (REPLACE INSTANCES OF 'None' with your code) ###  \n",
    "\n",
    "# Repeat below code until you correct all the inconsistent categories of the problematic variable.\n",
    "data$None[which(data$None == None)] <- None\n",
    "\n",
    "summary(data$None)\n",
    "\n",
    "### END CODE HERE ###"
   ]
  },
  {
   "cell_type": "markdown",
   "metadata": {},
   "source": [
    "__Note: __ to remove the empty categories, you can use the function `droplevels()`.\n",
    "\n"
   ]
  },
  {
   "cell_type": "code",
   "execution_count": null,
   "metadata": {},
   "outputs": [],
   "source": [
    "data <- droplevels(data)"
   ]
  },
  {
   "cell_type": "markdown",
   "metadata": {},
   "source": [
    "### Redundant variable\n",
    "\n",
    "__Question 7: __ Looking at the summary table above, can you identify a redundant variable that has no variance at all? If yes, replace `None` in the cell below with the variable name. \n",
    "\n",
    "_Hint: _ If you need help with the `dplyr::select` function, [see here](https://dplyr.tidyverse.org/reference/select.html).\n"
   ]
  },
  {
   "cell_type": "code",
   "execution_count": null,
   "metadata": {},
   "outputs": [],
   "source": [
    "### START CODE HERE (REPLACE INSTANCES OF 'None' with your code) ###  \n",
    "\n",
    "data <- data %>% select(- None)\n",
    "\n",
    "### END CODE HERE ###"
   ]
  },
  {
   "cell_type": "markdown",
   "metadata": {},
   "source": [
    "We can also examine bivariate correlations and see if there is redundancy.\n",
    "\n",
    "__Note: __ \n",
    "\n",
    "- The function `cor()` only works on continuous variables. For correlations between two categorical variables, and a categorical variable and continuous variable, see [here](https://datascience.stackexchange.com/questions/893/how-to-get-correlation-between-two-categorical-variable-and-a-categorical-variab) and [here](https://medium.com/@outside2SDs/an-overview-of-correlation-measures-between-categorical-and-continuous-variables-4c7f85610365)\n",
    "- Your answer of Question 1 will affect the results of below cell, please make sure to re-run the cell.\n"
   ]
  },
  {
   "cell_type": "code",
   "execution_count": null,
   "metadata": {},
   "outputs": [],
   "source": [
    "data_cnt <- data %>% select(where(is.numeric))\n",
    "cor(data_cnt, use = \"complete.obs\")"
   ]
  },
  {
   "cell_type": "markdown",
   "metadata": {},
   "source": [
    "__Question 8: __ Looking at the correlation matrix above, which variable is redundant? Remove it in the cell below.\n",
    "\n"
   ]
  },
  {
   "cell_type": "code",
   "execution_count": null,
   "metadata": {},
   "outputs": [],
   "source": [
    "### START CODE HERE (REPLACE INSTANCES OF 'None' with your code) ###  \n",
    "\n",
    "data <- data %>% select(- None)\n",
    "\n",
    "### END CODE HERE ###"
   ]
  },
  {
   "cell_type": "markdown",
   "metadata": {},
   "source": [
    "__Question 9: __ Can you identify any other data issues beyond the ones raised in the questions above? Please name the variable and explain its issue in this cell.\n",
    "\n",
    "_Answer: _\n",
    "\n",
    "Variable name:\n",
    "Issue:\n",
    "\n",
    "## Data visualization \n",
    "\n",
    "Here we will use two types of plots:\n",
    "\n",
    "- [Bar plot](https://ggplot2.tidyverse.org/reference/geom_bar.html) for categorical variables\n",
    "- [Violin plot](https://ggplot2.tidyverse.org/reference/geom_violin.html) for continuous variables. For more details about violin plot, [see here](https://mode.com/blog/violin-plot-examples/)\n",
    "\n",
    "__Question 10: __ Follow the example below, find another _categorical_ variable and plot the bar plot.\n"
   ]
  },
  {
   "cell_type": "code",
   "execution_count": null,
   "metadata": {},
   "outputs": [],
   "source": [
    "# Example for Question 10\n",
    "ggplot(data, aes(arm)) + geom_bar()"
   ]
  },
  {
   "cell_type": "markdown",
   "metadata": {},
   "source": [
    "\n"
   ]
  },
  {
   "cell_type": "code",
   "execution_count": null,
   "metadata": {},
   "outputs": [],
   "source": [
    "### START CODE HERE ###  \n",
    "\n",
    "### END CODE HERE ###"
   ]
  },
  {
   "cell_type": "markdown",
   "metadata": {},
   "source": [
    "__Question 11: __ Follow the example below, find another _continuous_ variable and plot the violin plot.\n",
    "\n"
   ]
  },
  {
   "cell_type": "code",
   "execution_count": null,
   "metadata": {},
   "outputs": [],
   "source": [
    "# Example for Question 11\n",
    "ggplot(data, aes(fustat8, age)) + geom_violin(draw_quantiles = c(0.25, 0.5, 0.75))"
   ]
  },
  {
   "cell_type": "markdown",
   "metadata": {},
   "source": [
    "\n"
   ]
  },
  {
   "cell_type": "code",
   "execution_count": null,
   "metadata": {},
   "outputs": [],
   "source": [
    "### START CODE HERE ###  \n",
    "\n",
    "### END CODE HERE ###"
   ]
  },
  {
   "cell_type": "markdown",
   "metadata": {},
   "source": [
    "# Congratulations!\n",
    "\n",
    "You have finished the first assignment of EPI7913.\n"
   ]
  }
 ],
 "metadata": {
  "anaconda-cloud": "",
  "kernelspec": {
   "display_name": "R",
   "language": "R",
   "name": "ir"
  },
  "language_info": {
   "codemirror_mode": "r",
   "file_extension": ".r",
   "mimetype": "text/x-r-source",
   "name": "R",
   "pygments_lexer": "r",
   "version": "4.3.1"
  }
 },
 "nbformat": 4,
 "nbformat_minor": 4
}
