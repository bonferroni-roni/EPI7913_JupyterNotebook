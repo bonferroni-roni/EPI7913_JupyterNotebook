{
 "cells": [
  {
   "cell_type": "markdown",
   "metadata": {},
   "source": [
    "Welcome to the first assignment of EPI7913!\n",
    "\n",
    "# Overview of the Assignment\n",
    "In this assignment, you'll do some exploratory / descriptive analysis of the dataset.\n",
    "\n",
    "In this assignment, we will test your knowledge about the following topics:\n",
    "\n",
    "- Data exploration\n",
    "  - Have a first look of the data and get the summary information of each variables.\n",
    "  - Tabulate the data for categorical variables.\n",
    "  - Generate violin plots for the continuous variables.\n",
    "  \n",
    "- Data descriptive analysis, _i.e._ Identify problematic variables:\n",
    "  - High missingness\n",
    "  - Highly imbalanced data\n",
    "  - Extreme outliers\n",
    "  - Inconsistent coding\n",
    "  - Data redundancy\n",
    "\n",
    "## N0147 data: the control arm of a colon cancer trial\n",
    "\n",
    "For this assignment, we will use a synthetic version of the `N0147` data with some introduced data problems. More details about this data can be found [here](https://pubmed.ncbi.nlm.nih.gov/30297240/)\n",
    "\n",
    "# Import Packages\n",
    "\n",
    "We'll first import all the packages that we need for this assignment.\n",
    "\n",
    "- `dplyr` is what we'll use to manipulate our data. For more details, see [dplyr](https://dplyr.tidyverse.org/)\n",
    "- `ggplot2` is a plotting library. For more details, see [ggplot2](https://ggplot2.tidyverse.org/)\n"
   ]
  },
  {
   "cell_type": "code",
   "execution_count": 5,
   "metadata": {},
   "outputs": [
    {
     "name": "stderr",
     "output_type": "stream",
     "text": [
      "Installing package into ‘/home/jupyter-sabdu070/R/x86_64-pc-linux-gnu-library/4.3’\n",
      "(as ‘lib’ is unspecified)\n",
      "\n",
      "\n",
      "Attaching package: ‘dplyr’\n",
      "\n",
      "\n",
      "The following objects are masked from ‘package:stats’:\n",
      "\n",
      "    filter, lag\n",
      "\n",
      "\n",
      "The following objects are masked from ‘package:base’:\n",
      "\n",
      "    intersect, setdiff, setequal, union\n",
      "\n",
      "\n"
     ]
    }
   ],
   "source": [
    "install.packages(\"tidyverse\")\n",
    "library(dplyr)\n",
    "library(ggplot2)"
   ]
  },
  {
   "cell_type": "markdown",
   "metadata": {},
   "source": [
    "# Load Data\n",
    "\n",
    "First we will load in the dataset that we will use for training and testing our model.\n"
   ]
  },
  {
   "cell_type": "code",
   "execution_count": 6,
   "metadata": {},
   "outputs": [],
   "source": [
    "data <- read.csv(\"n0147_syn_issue.csv\", header = T, stringsAsFactors = TRUE)"
   ]
  },
  {
   "cell_type": "markdown",
   "metadata": {},
   "source": [
    "# Explore the Dataset\n",
    "\n",
    "## Summary table\n",
    "\n",
    "The dataset include the following fields (you can view this as a data dictionary):\n",
    "\n",
    "- `arm`: Labels of experimental arms, this dataset contains arms A, B, and C.\n",
    "- `ps`: ECOG Performance Status: 0 = 0, 1 = 1, 2 = 2+.\n",
    "- `stage_g`: Clinical T Stage: 1 = T1 or T2, 2 = T3, 3 = T4.\n",
    "- `wild`: Biomarker KRAS: 0 = Mutant, 1 = Wild-type, Missing = indeterminate.\n",
    "- `histo_g`: Histology: 1=High (poorly differentiated or undifferentiated), 2=Low (well or moderately differentiated).\n",
    "- `nodes`: Positive lymph node involvement: 1 = 1-3, 2 = >=4.\n",
    "- `bwl_obs`: Bowel obstruction : 1=Yes, 2=No.\n",
    "- `age`: Age.\n",
    "- `agecat`: Age category: < 40, 40-69, >=70.\n",
    "- `sex`: Sex: m=Male, f=Female.\n",
    "- `bmi2`: Body mass index (BMI).\n",
    "- `logbmi`: The logarithm of `bmi2`.\n",
    "- `racecat`: Race: b=black, w=white, oth=other.\n",
    "- `numcycle`: Total Number of Cycles Given.\n",
    "- `dfsstat5`: Disease free survival status (5yr censor): 0 = Event-Free, 1 = Event.\n",
    "- `fustat8`: Overall survival status (8 year censor): 0 = Alive, 1 = Dead.\n",
    "- `dfstime5`: Time in days of disease free survival.\n",
    "- `futime8`: Time in days of overall survival.\n",
    "\n",
    "We first get the number of subjects (`nSub`) and number of variables (`nVar`) of this dataset.\n"
   ]
  },
  {
   "cell_type": "code",
   "execution_count": 7,
   "metadata": {},
   "outputs": [
    {
     "data": {
      "text/html": [
       "1467"
      ],
      "text/latex": [
       "1467"
      ],
      "text/markdown": [
       "1467"
      ],
      "text/plain": [
       "[1] 1467"
      ]
     },
     "metadata": {},
     "output_type": "display_data"
    },
    {
     "data": {
      "text/html": [
       "18"
      ],
      "text/latex": [
       "18"
      ],
      "text/markdown": [
       "18"
      ],
      "text/plain": [
       "[1] 18"
      ]
     },
     "metadata": {},
     "output_type": "display_data"
    }
   ],
   "source": [
    "nSub <- nrow(data)\n",
    "nVar <- ncol(data)\n",
    "\n",
    "nSub\n",
    "nVar"
   ]
  },
  {
   "cell_type": "markdown",
   "metadata": {},
   "source": [
    "We can use the `head()` method to display the first six records of each. \n",
    "\n"
   ]
  },
  {
   "cell_type": "code",
   "execution_count": 17,
   "metadata": {},
   "outputs": [
    {
     "data": {
      "text/html": [
       "<table class=\"dataframe\">\n",
       "<caption>A data.frame: 6 × 18</caption>\n",
       "<thead>\n",
       "\t<tr><th></th><th scope=col>arm</th><th scope=col>ps</th><th scope=col>stage_g</th><th scope=col>wild</th><th scope=col>histo_g</th><th scope=col>nodes</th><th scope=col>bwl_obs</th><th scope=col>age</th><th scope=col>agecat</th><th scope=col>sex</th><th scope=col>bmi2</th><th scope=col>logbmi</th><th scope=col>racecat</th><th scope=col>numcycle</th><th scope=col>dfsstat5</th><th scope=col>fustat8</th><th scope=col>dfstime5</th><th scope=col>futime8</th></tr>\n",
       "\t<tr><th></th><th scope=col>&lt;fct&gt;</th><th scope=col>&lt;int&gt;</th><th scope=col>&lt;int&gt;</th><th scope=col>&lt;int&gt;</th><th scope=col>&lt;int&gt;</th><th scope=col>&lt;int&gt;</th><th scope=col>&lt;int&gt;</th><th scope=col>&lt;int&gt;</th><th scope=col>&lt;fct&gt;</th><th scope=col>&lt;fct&gt;</th><th scope=col>&lt;dbl&gt;</th><th scope=col>&lt;dbl&gt;</th><th scope=col>&lt;fct&gt;</th><th scope=col>&lt;int&gt;</th><th scope=col>&lt;int&gt;</th><th scope=col>&lt;fct&gt;</th><th scope=col>&lt;dbl&gt;</th><th scope=col>&lt;int&gt;</th></tr>\n",
       "</thead>\n",
       "<tbody>\n",
       "\t<tr><th scope=row>1</th><td>A</td><td>0</td><td>2</td><td>NA</td><td>1</td><td>NA</td><td>2</td><td>58</td><td>40-69</td><td>m</td><td>24.11677</td><td>3.182907</td><td>w  </td><td>12</td><td>0</td><td>0</td><td> 932.7177</td><td> 931</td></tr>\n",
       "\t<tr><th scope=row>2</th><td>A</td><td>0</td><td>1</td><td>NA</td><td>2</td><td> 1</td><td>2</td><td>60</td><td>40-69</td><td>f</td><td>29.61410</td><td>3.388251</td><td>w  </td><td>12</td><td>0</td><td>0</td><td> 408.6510</td><td> 460</td></tr>\n",
       "\t<tr><th scope=row>3</th><td>C</td><td>1</td><td>3</td><td>NA</td><td>1</td><td> 2</td><td>2</td><td>41</td><td>40-69</td><td>m</td><td>      NA</td><td>      NA</td><td>oth</td><td>12</td><td>0</td><td>0</td><td>1666.3546</td><td>2341</td></tr>\n",
       "\t<tr><th scope=row>4</th><td>A</td><td>0</td><td>2</td><td>NA</td><td>2</td><td>NA</td><td>2</td><td>70</td><td>&gt;= 70</td><td>f</td><td>21.22169</td><td>3.055024</td><td><span style=white-space:pre-wrap>w  </span></td><td>12</td><td>0</td><td>0</td><td> 896.0984</td><td> 899</td></tr>\n",
       "\t<tr><th scope=row>5</th><td>B</td><td>1</td><td>2</td><td>NA</td><td>2</td><td> 1</td><td>2</td><td>64</td><td>40-69</td><td>f</td><td>27.30312</td><td>3.307001</td><td>w  </td><td>12</td><td>1</td><td>1</td><td> 451.0786</td><td> 990</td></tr>\n",
       "\t<tr><th scope=row>6</th><td>A</td><td>0</td><td>2</td><td> 1</td><td>2</td><td> 2</td><td>2</td><td>46</td><td>40-69</td><td>f</td><td>      NA</td><td>      NA</td><td>w  </td><td>12</td><td>0</td><td>0</td><td> 971.9287</td><td> 981</td></tr>\n",
       "</tbody>\n",
       "</table>\n"
      ],
      "text/latex": [
       "A data.frame: 6 × 18\n",
       "\\begin{tabular}{r|llllllllllllllllll}\n",
       "  & arm & ps & stage\\_g & wild & histo\\_g & nodes & bwl\\_obs & age & agecat & sex & bmi2 & logbmi & racecat & numcycle & dfsstat5 & fustat8 & dfstime5 & futime8\\\\\n",
       "  & <fct> & <int> & <int> & <int> & <int> & <int> & <int> & <int> & <fct> & <fct> & <dbl> & <dbl> & <fct> & <int> & <int> & <fct> & <dbl> & <int>\\\\\n",
       "\\hline\n",
       "\t1 & A & 0 & 2 & NA & 1 & NA & 2 & 58 & 40-69 & m & 24.11677 & 3.182907 & w   & 12 & 0 & 0 &  932.7177 &  931\\\\\n",
       "\t2 & A & 0 & 1 & NA & 2 &  1 & 2 & 60 & 40-69 & f & 29.61410 & 3.388251 & w   & 12 & 0 & 0 &  408.6510 &  460\\\\\n",
       "\t3 & C & 1 & 3 & NA & 1 &  2 & 2 & 41 & 40-69 & m &       NA &       NA & oth & 12 & 0 & 0 & 1666.3546 & 2341\\\\\n",
       "\t4 & A & 0 & 2 & NA & 2 & NA & 2 & 70 & >= 70 & f & 21.22169 & 3.055024 & w   & 12 & 0 & 0 &  896.0984 &  899\\\\\n",
       "\t5 & B & 1 & 2 & NA & 2 &  1 & 2 & 64 & 40-69 & f & 27.30312 & 3.307001 & w   & 12 & 1 & 1 &  451.0786 &  990\\\\\n",
       "\t6 & A & 0 & 2 &  1 & 2 &  2 & 2 & 46 & 40-69 & f &       NA &       NA & w   & 12 & 0 & 0 &  971.9287 &  981\\\\\n",
       "\\end{tabular}\n"
      ],
      "text/markdown": [
       "\n",
       "A data.frame: 6 × 18\n",
       "\n",
       "| <!--/--> | arm &lt;fct&gt; | ps &lt;int&gt; | stage_g &lt;int&gt; | wild &lt;int&gt; | histo_g &lt;int&gt; | nodes &lt;int&gt; | bwl_obs &lt;int&gt; | age &lt;int&gt; | agecat &lt;fct&gt; | sex &lt;fct&gt; | bmi2 &lt;dbl&gt; | logbmi &lt;dbl&gt; | racecat &lt;fct&gt; | numcycle &lt;int&gt; | dfsstat5 &lt;int&gt; | fustat8 &lt;fct&gt; | dfstime5 &lt;dbl&gt; | futime8 &lt;int&gt; |\n",
       "|---|---|---|---|---|---|---|---|---|---|---|---|---|---|---|---|---|---|---|\n",
       "| 1 | A | 0 | 2 | NA | 1 | NA | 2 | 58 | 40-69 | m | 24.11677 | 3.182907 | w   | 12 | 0 | 0 |  932.7177 |  931 |\n",
       "| 2 | A | 0 | 1 | NA | 2 |  1 | 2 | 60 | 40-69 | f | 29.61410 | 3.388251 | w   | 12 | 0 | 0 |  408.6510 |  460 |\n",
       "| 3 | C | 1 | 3 | NA | 1 |  2 | 2 | 41 | 40-69 | m |       NA |       NA | oth | 12 | 0 | 0 | 1666.3546 | 2341 |\n",
       "| 4 | A | 0 | 2 | NA | 2 | NA | 2 | 70 | &gt;= 70 | f | 21.22169 | 3.055024 | w   | 12 | 0 | 0 |  896.0984 |  899 |\n",
       "| 5 | B | 1 | 2 | NA | 2 |  1 | 2 | 64 | 40-69 | f | 27.30312 | 3.307001 | w   | 12 | 1 | 1 |  451.0786 |  990 |\n",
       "| 6 | A | 0 | 2 |  1 | 2 |  2 | 2 | 46 | 40-69 | f |       NA |       NA | w   | 12 | 0 | 0 |  971.9287 |  981 |\n",
       "\n"
      ],
      "text/plain": [
       "  arm ps stage_g wild histo_g nodes bwl_obs age agecat sex bmi2     logbmi  \n",
       "1 A   0  2       NA   1       NA    2       58  40-69  m   24.11677 3.182907\n",
       "2 A   0  1       NA   2        1    2       60  40-69  f   29.61410 3.388251\n",
       "3 C   1  3       NA   1        2    2       41  40-69  m         NA       NA\n",
       "4 A   0  2       NA   2       NA    2       70  >= 70  f   21.22169 3.055024\n",
       "5 B   1  2       NA   2        1    2       64  40-69  f   27.30312 3.307001\n",
       "6 A   0  2        1   2        2    2       46  40-69  f         NA       NA\n",
       "  racecat numcycle dfsstat5 fustat8 dfstime5  futime8\n",
       "1 w       12       0        0        932.7177  931   \n",
       "2 w       12       0        0        408.6510  460   \n",
       "3 oth     12       0        0       1666.3546 2341   \n",
       "4 w       12       0        0        896.0984  899   \n",
       "5 w       12       1        1        451.0786  990   \n",
       "6 w       12       0        0        971.9287  981   "
      ]
     },
     "metadata": {},
     "output_type": "display_data"
    }
   ],
   "source": [
    "head(data)"
   ]
  },
  {
   "cell_type": "markdown",
   "metadata": {},
   "source": [
    "We can use the `summary()` method to display the summary information. \n",
    "\n"
   ]
  },
  {
   "cell_type": "code",
   "execution_count": 16,
   "metadata": {},
   "outputs": [
    {
     "data": {
      "text/plain": [
       " arm            ps            stage_g           wild           histo_g     \n",
       " A:1272   Min.   :0.0000   Min.   :1.000   Min.   :0.0000   Min.   :1.000  \n",
       " B: 105   1st Qu.:0.0000   1st Qu.:2.000   1st Qu.:0.0000   1st Qu.:2.000  \n",
       " C:  90   Median :0.0000   Median :2.000   Median :1.0000   Median :2.000  \n",
       "          Mean   :0.2461   Mean   :1.955   Mean   :0.6835   Mean   :1.755  \n",
       "          3rd Qu.:0.0000   3rd Qu.:2.000   3rd Qu.:1.0000   3rd Qu.:2.000  \n",
       "          Max.   :2.0000   Max.   :3.000   Max.   :1.0000   Max.   :2.000  \n",
       "                           NA's   :293     NA's   :734      NA's   :147    \n",
       "     nodes          bwl_obs           age          agecat         sex     \n",
       " Min.   :1.000   Min.   :1.000   Min.   :20.00   < 40 :  84   f     :597  \n",
       " 1st Qu.:1.000   1st Qu.:2.000   1st Qu.:47.00   >= 70: 177   F     : 54  \n",
       " Median :1.000   Median :2.000   Median :56.00   40-69:1206   female:  6  \n",
       " Mean   :1.429   Mean   :1.836   Mean   :56.83                m     :775  \n",
       " 3rd Qu.:2.000   3rd Qu.:2.000   3rd Qu.:65.00                M     : 20  \n",
       " Max.   :2.000   Max.   :2.000   Max.   :99.00                male  : 15  \n",
       " NA's   :440                                                              \n",
       "      bmi2             logbmi      racecat       numcycle     dfsstat5     \n",
       " Min.   :  17.15   Min.   :2.842   b  :  95   Min.   :12   Min.   :0.0000  \n",
       " 1st Qu.:  23.60   1st Qu.:3.161   oth: 118   1st Qu.:12   1st Qu.:0.0000  \n",
       " Median :  26.90   Median :3.292   w  :1254   Median :12   Median :0.0000  \n",
       " Mean   : 220.46   Mean   :3.400              Mean   :12   Mean   :0.2168  \n",
       " 3rd Qu.:  30.42   3rd Qu.:3.415              3rd Qu.:12   3rd Qu.:0.0000  \n",
       " Max.   :9999.00   Max.   :9.210              Max.   :12   Max.   :1.0000  \n",
       " NA's   :435       NA's   :435                                             \n",
       " fustat8     dfstime5         futime8      \n",
       " 0:1310   Min.   : 365.3   Min.   : 391.0  \n",
       " 1: 157   1st Qu.: 437.3   1st Qu.: 780.0  \n",
       "          Median : 873.8   Median : 902.0  \n",
       "          Mean   : 845.1   Mean   : 995.0  \n",
       "          3rd Qu.: 964.1   3rd Qu.: 983.5  \n",
       "          Max.   :1666.4   Max.   :2857.0  \n",
       "                                           "
      ]
     },
     "metadata": {},
     "output_type": "display_data"
    }
   ],
   "source": [
    "summary(data)"
   ]
  },
  {
   "cell_type": "markdown",
   "metadata": {},
   "source": [
    "The function `str()` is another helpful one to display the summary information, especially data type of each variable. \n",
    "\n"
   ]
  },
  {
   "cell_type": "code",
   "execution_count": 23,
   "metadata": {},
   "outputs": [
    {
     "name": "stdout",
     "output_type": "stream",
     "text": [
      "'data.frame':\t1467 obs. of  18 variables:\n",
      " $ arm     : Factor w/ 3 levels \"A\",\"B\",\"C\": 1 1 3 1 2 1 1 1 2 1 ...\n",
      " $ ps      : Factor w/ 3 levels \"0\",\"1\",\"2\": 1 1 2 1 2 1 1 1 2 1 ...\n",
      " $ stage_g : Factor w/ 3 levels \"1\",\"2\",\"3\": 2 1 3 2 2 2 2 NA NA 1 ...\n",
      " $ wild    : int  NA NA NA NA NA 1 NA NA NA 1 ...\n",
      " $ histo_g : int  1 2 1 2 2 2 2 2 2 2 ...\n",
      " $ nodes   : int  NA 1 2 NA 1 2 2 2 NA 1 ...\n",
      " $ bwl_obs : int  2 2 2 2 2 2 1 2 2 2 ...\n",
      " $ age     : int  58 60 41 70 64 46 69 99 43 56 ...\n",
      " $ agecat  : Factor w/ 3 levels \"< 40\",\">= 70\",..: 3 3 3 2 3 3 3 2 3 3 ...\n",
      " $ sex     : Factor w/ 6 levels \"f\",\"F\",\"female\",..: 4 1 4 1 1 1 1 1 1 1 ...\n",
      " $ bmi2    : num  24.1 29.6 NA 21.2 27.3 ...\n",
      " $ logbmi  : num  3.18 3.39 NA 3.06 3.31 ...\n",
      " $ racecat : Factor w/ 3 levels \"b\",\"oth\",\"w\": 3 3 2 3 3 3 3 3 3 3 ...\n",
      " $ numcycle: int  12 12 12 12 12 12 12 12 12 12 ...\n",
      " $ dfsstat5: int  0 0 0 0 1 0 0 0 0 1 ...\n",
      " $ fustat8 : Factor w/ 2 levels \"0\",\"1\": 1 1 1 1 2 1 1 1 1 1 ...\n",
      " $ dfstime5: num  933 409 1666 896 451 ...\n",
      " $ futime8 : int  931 460 2341 899 990 981 503 502 2341 803 ...\n"
     ]
    }
   ],
   "source": [
    "str(data)"
   ]
  },
  {
   "cell_type": "markdown",
   "metadata": {},
   "source": [
    "You can see that by setting `stringsAsFactors = TRUE` when we read in the data, variables `arm`, `agecat`, `sex`, and `racecat` have been recognized as categorical variables automatically (data type as `Factor`). However, there are a few categorical variables still in `int`, and we need to transform them into `Factor`.\n",
    "\n",
    "__Question 1: __ Follow the example we have in the below cell, identify other variables that need to be transformed and do the transformation. Don't forget to use `str()` afterwards to make sure you have done it properly.\n",
    "\n",
    "_Hint: _ Please read the data dictionary carefully to determine the right type of each variable.\n"
   ]
  },
  {
   "cell_type": "code",
   "execution_count": 15,
   "metadata": {},
   "outputs": [
    {
     "data": {
      "text/html": [
       "<style>\n",
       ".dl-inline {width: auto; margin:0; padding: 0}\n",
       ".dl-inline>dt, .dl-inline>dd {float: none; width: auto; display: inline-block}\n",
       ".dl-inline>dt::after {content: \":\\0020\"; padding-right: .5ex}\n",
       ".dl-inline>dt:not(:first-of-type) {padding-left: .5ex}\n",
       "</style><dl class=dl-inline><dt>0</dt><dd>1310</dd><dt>1</dt><dd>157</dd></dl>\n"
      ],
      "text/latex": [
       "\\begin{description*}\n",
       "\\item[0] 1310\n",
       "\\item[1] 157\n",
       "\\end{description*}\n"
      ],
      "text/markdown": [
       "0\n",
       ":   13101\n",
       ":   157\n",
       "\n"
      ],
      "text/plain": [
       "   0    1 \n",
       "1310  157 "
      ]
     },
     "metadata": {},
     "output_type": "display_data"
    }
   ],
   "source": [
    "# Example for Question 1\n",
    "data$fustat8 <- as.factor(data$fustat8)"
   ]
  },
  {
   "cell_type": "code",
   "execution_count": 28,
   "metadata": {},
   "outputs": [],
   "source": [
    "### START CODE HERE ###  \n",
    "data$ps <- as.factor(data$ps)\n",
    "data$stage_g <- as.factor(data$stage_g)\n",
    "data$wild <- as.factor(data$wild)\n",
    "data$histo_g <- as.factor(data$histo_g)\n",
    "data$nodes <- as.factor(data$nodes)\n",
    "data$bwl_obs <- as.factor(data$bwl_obs)\n",
    "data$dfsstat5 <- as.factor(data$dfsstat5)\n",
    "data$dfsstat5 <- as.factor(data$dfsstat5)\n",
    "### END CODE HERE ###"
   ]
  },
  {
   "cell_type": "markdown",
   "metadata": {},
   "source": [
    "Re-run the `summary()` method to display the summary information of current dataframe. You will need this summary table to answer some of the questions below.\n",
    "\n"
   ]
  },
  {
   "cell_type": "code",
   "execution_count": 29,
   "metadata": {},
   "outputs": [
    {
     "data": {
      "text/plain": [
       " arm      ps       stage_g      wild     histo_g     nodes     bwl_obs \n",
       " A:1272   0:1111   1   :169   0   :232   1   :323   1   :586   1: 241  \n",
       " B: 105   1: 351   2   :889   1   :501   2   :997   2   :441   2:1226  \n",
       " C:  90   2:   5   3   :116   NA's:734   NA's:147   NA's:440           \n",
       "                   NA's:293                                            \n",
       "                                                                       \n",
       "                                                                       \n",
       "                                                                       \n",
       "      age          agecat         sex           bmi2             logbmi     \n",
       " Min.   :20.00   < 40 :  84   f     :597   Min.   :  17.15   Min.   :2.842  \n",
       " 1st Qu.:47.00   >= 70: 177   F     : 54   1st Qu.:  23.60   1st Qu.:3.161  \n",
       " Median :56.00   40-69:1206   female:  6   Median :  26.90   Median :3.292  \n",
       " Mean   :56.83                m     :775   Mean   : 220.46   Mean   :3.400  \n",
       " 3rd Qu.:65.00                M     : 20   3rd Qu.:  30.42   3rd Qu.:3.415  \n",
       " Max.   :99.00                male  : 15   Max.   :9999.00   Max.   :9.210  \n",
       "                                           NA's   :435       NA's   :435    \n",
       " racecat       numcycle  dfsstat5 fustat8     dfstime5         futime8      \n",
       " b  :  95   Min.   :12   0:1149   0:1310   Min.   : 365.3   Min.   : 391.0  \n",
       " oth: 118   1st Qu.:12   1: 318   1: 157   1st Qu.: 437.3   1st Qu.: 780.0  \n",
       " w  :1254   Median :12                     Median : 873.8   Median : 902.0  \n",
       "            Mean   :12                     Mean   : 845.1   Mean   : 995.0  \n",
       "            3rd Qu.:12                     3rd Qu.: 964.1   3rd Qu.: 983.5  \n",
       "            Max.   :12                     Max.   :1666.4   Max.   :2857.0  \n",
       "                                                                            "
      ]
     },
     "metadata": {},
     "output_type": "display_data"
    }
   ],
   "source": [
    "summary(data)"
   ]
  },
  {
   "cell_type": "markdown",
   "metadata": {},
   "source": [
    "## Data issues\n",
    "\n",
    "### Missing data\n",
    "\n",
    "We have talked about missing data and different types of missingness in the class.\n",
    "\n",
    "__Question 2: __ Calculate the percentage of missing data in each variable and rank them (from high to low).\n",
    "\n",
    "_Hint: _\n",
    "\n",
    "- For calculating the percentage of missing data in each variable, [see here](https://stackoverflow.com/questions/33512837/calculate-using-dplyr-percentage-of-nas-in-each-column).\n",
    "- We only consider `NA` as missing at this step.\n",
    "- For sorting vector, [see here](https://www.rdocumentation.org/packages/base/versions/3.6.2/topics/sort).\n"
   ]
  },
  {
   "cell_type": "code",
   "execution_count": null,
   "metadata": {},
   "outputs": [],
   "source": [
    "### START CODE HERE ###  \n",
    "\n",
    "### END CODE HERE ###"
   ]
  },
  {
   "cell_type": "markdown",
   "metadata": {},
   "source": [
    "### Highly imbalanced data\n",
    "\n",
    "__Question 3: __ Looking at the summary table above, do you think the dataset is highly imbalanced? If yes, which variable(s) is/are imbalanced? Please just add your answer in this cell.\n",
    "\n",
    "_Answer: _ \n",
    "\n",
    "### Extreme outliers\n",
    "\n",
    "__Question 4: __ Can you identify a variable that contains extreme outliers? Please remove the outliers.\n",
    "\n",
    "_Hint: _ It is a common practice in clinical trials that missing data of continuous variables are labeled as `9999`.\n"
   ]
  },
  {
   "cell_type": "code",
   "execution_count": null,
   "metadata": {},
   "outputs": [],
   "source": [
    "### START CODE HERE  (REPLACE INSTANCES OF 'None' with your code) ###  \n",
    "\n",
    "# Define the maximum allowed value of the variable you find.\n",
    "max <- None\n",
    "\n",
    "# set values above max as NA\n",
    "\n",
    "data$None[which(data$None >= max)] <- NA\n",
    "\n",
    "### END CODE HERE ###"
   ]
  },
  {
   "cell_type": "markdown",
   "metadata": {},
   "source": [
    "__Question 5: __ A variable in this dataset is derived from the above variable with outliers. Please update the derived variable in the cell below.\n",
    "\n"
   ]
  },
  {
   "cell_type": "code",
   "execution_count": null,
   "metadata": {},
   "outputs": [],
   "source": [
    "### START CODE HERE ###  \n",
    "\n",
    "\n",
    "### END CODE HERE ###"
   ]
  },
  {
   "cell_type": "markdown",
   "metadata": {},
   "source": [
    "### Inconsistent coding\n",
    "\n",
    "__Question 6: __ Looking at the summary table above, can you identify a variable that has inconsistent coding/categories comparing with the data dictionary? Modify the variable in the cell below. Don't forget to call `summary()` on this variable to make sure that you have done it properly.\n"
   ]
  },
  {
   "cell_type": "code",
   "execution_count": null,
   "metadata": {},
   "outputs": [],
   "source": [
    "### START CODE HERE (REPLACE INSTANCES OF 'None' with your code) ###  \n",
    "\n",
    "# Repeat below code until you correct all the inconsistent categories of the problematic variable.\n",
    "data$None[which(data$None == None)] <- None\n",
    "\n",
    "summary(data$None)\n",
    "\n",
    "### END CODE HERE ###"
   ]
  },
  {
   "cell_type": "markdown",
   "metadata": {},
   "source": [
    "__Note: __ to remove the empty categories, you can use the function `droplevels()`.\n",
    "\n"
   ]
  },
  {
   "cell_type": "code",
   "execution_count": null,
   "metadata": {},
   "outputs": [],
   "source": [
    "data <- droplevels(data)"
   ]
  },
  {
   "cell_type": "markdown",
   "metadata": {},
   "source": [
    "### Redundant variable\n",
    "\n",
    "__Question 7: __ Looking at the summary table above, can you identify a redundant variable that has no variance at all? If yes, replace `None` in the cell below with the variable name. \n",
    "\n",
    "_Hint: _ If you need help with the `dplyr::select` function, [see here](https://dplyr.tidyverse.org/reference/select.html).\n"
   ]
  },
  {
   "cell_type": "code",
   "execution_count": null,
   "metadata": {},
   "outputs": [],
   "source": [
    "### START CODE HERE (REPLACE INSTANCES OF 'None' with your code) ###  \n",
    "\n",
    "data <- data %>% select(- None)\n",
    "\n",
    "### END CODE HERE ###"
   ]
  },
  {
   "cell_type": "markdown",
   "metadata": {},
   "source": [
    "We can also examine bivariate correlations and see if there is redundancy.\n",
    "\n",
    "__Note: __ \n",
    "\n",
    "- The function `cor()` only works on continuous variables. For correlations between two categorical variables, and a categorical variable and continuous variable, see [here](https://datascience.stackexchange.com/questions/893/how-to-get-correlation-between-two-categorical-variable-and-a-categorical-variab) and [here](https://medium.com/@outside2SDs/an-overview-of-correlation-measures-between-categorical-and-continuous-variables-4c7f85610365)\n",
    "- Your answer of Question 1 will affect the results of below cell, please make sure to re-run the cell.\n"
   ]
  },
  {
   "cell_type": "code",
   "execution_count": null,
   "metadata": {},
   "outputs": [],
   "source": [
    "data_cnt <- data %>% select(where(is.numeric))\n",
    "cor(data_cnt, use = \"complete.obs\")"
   ]
  },
  {
   "cell_type": "markdown",
   "metadata": {},
   "source": [
    "__Question 8: __ Looking at the correlation matrix above, which variable is redundant? Remove it in the cell below.\n",
    "\n"
   ]
  },
  {
   "cell_type": "code",
   "execution_count": null,
   "metadata": {},
   "outputs": [],
   "source": [
    "### START CODE HERE (REPLACE INSTANCES OF 'None' with your code) ###  \n",
    "\n",
    "data <- data %>% select(- None)\n",
    "\n",
    "### END CODE HERE ###"
   ]
  },
  {
   "cell_type": "markdown",
   "metadata": {},
   "source": [
    "__Question 9: __ Can you identify any other data issues beyond the ones raised in the questions above? Please name the variable and explain its issue in this cell.\n",
    "\n",
    "_Answer: _\n",
    "\n",
    "Variable name:\n",
    "Issue:\n",
    "\n",
    "## Data visualization \n",
    "\n",
    "Here we will use two types of plots:\n",
    "\n",
    "- [Bar plot](https://ggplot2.tidyverse.org/reference/geom_bar.html) for categorical variables\n",
    "- [Violin plot](https://ggplot2.tidyverse.org/reference/geom_violin.html) for continuous variables. For more details about violin plot, [see here](https://mode.com/blog/violin-plot-examples/)\n",
    "\n",
    "__Question 10: __ Follow the example below, find another _categorical_ variable and plot the bar plot.\n"
   ]
  },
  {
   "cell_type": "code",
   "execution_count": 18,
   "metadata": {},
   "outputs": [
    {
     "data": {
      "image/png": "[encoded data removed]",
      "text/plain": [
       "plot without title"
      ]
     },
     "metadata": {
      "image/png": {
       "height": 420,
       "width": 420
      }
     },
     "output_type": "display_data"
    }
   ],
   "source": [
    "# Example for Question 10\n",
    "ggplot(data, aes(arm)) + geom_bar()"
   ]
  },
  {
   "cell_type": "markdown",
   "metadata": {},
   "source": [
    "\n"
   ]
  },
  {
   "cell_type": "code",
   "execution_count": null,
   "metadata": {},
   "outputs": [],
   "source": [
    "### START CODE HERE ###  \n",
    "\n",
    "### END CODE HERE ###"
   ]
  },
  {
   "cell_type": "markdown",
   "metadata": {},
   "source": [
    "__Question 11: __ Follow the example below, find another _continuous_ variable and plot the violin plot.\n",
    "\n"
   ]
  },
  {
   "cell_type": "code",
   "execution_count": 19,
   "metadata": {},
   "outputs": [
    {
     "data": {
      "image/png": "[encoded data removed]",
      "text/plain": [
       "plot without title"
      ]
     },
     "metadata": {
      "image/png": {
       "height": 420,
       "width": 420
      }
     },
     "output_type": "display_data"
    }
   ],
   "source": [
    "# Example for Question 11\n",
    "ggplot(data, aes(fustat8, age)) + geom_violin(draw_quantiles = c(0.25, 0.5, 0.75))"
   ]
  },
  {
   "cell_type": "markdown",
   "metadata": {},
   "source": [
    "\n"
   ]
  },
  {
   "cell_type": "code",
   "execution_count": 20,
   "metadata": {},
   "outputs": [],
   "source": [
    "### START CODE HERE ###  \n",
    "\n",
    "### END CODE HERE ###"
   ]
  },
  {
   "cell_type": "markdown",
   "metadata": {},
   "source": [
    "# Congratulations!\n",
    "\n",
    "You have finished the first assignment of EPI7913.\n"
   ]
  }
 ],
 "metadata": {
  "anaconda-cloud": "",
  "kernelspec": {
   "display_name": "R",
   "language": "R",
   "name": "ir"
  },
  "language_info": {
   "codemirror_mode": "r",
   "file_extension": ".r",
   "mimetype": "text/x-r-source",
   "name": "R",
   "pygments_lexer": "r",
   "version": "4.3.1"
  }
 },
 "nbformat": 4,
 "nbformat_minor": 4
}
