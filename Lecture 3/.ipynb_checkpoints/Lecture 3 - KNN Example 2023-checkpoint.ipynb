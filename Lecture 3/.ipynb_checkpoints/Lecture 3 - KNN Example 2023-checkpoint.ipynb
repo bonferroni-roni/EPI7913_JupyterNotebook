{
 "cells": [
  {
   "cell_type": "markdown",
   "id": "eb87a0a3-4aa4-4c85-b99c-79c67649ae67",
   "metadata": {},
   "source": [
    "# Lecture 3 - Build a K-nearest neighbors model from the lung dataset"
   ]
  },
  {
   "cell_type": "markdown",
   "id": "605bceef-7f70-403f-a8d7-1c435359736a",
   "metadata": {
    "tags": []
   },
   "source": [
    "## Consider the *lung* data set available form the EPI7913A package\n",
    "### Load the lung data set form last class"
   ]
  },
  {
   "cell_type": "code",
   "execution_count": 1,
   "id": "5af6989d-ad76-4619-ab39-6e45e84c0106",
   "metadata": {
    "tags": []
   },
   "outputs": [
    {
     "data": {
      "text/html": [
       "<table class=\"dataframe\">\n",
       "<caption>A data.frame: 6 × 12</caption>\n",
       "<thead>\n",
       "\t<tr><th></th><th scope=col>inst</th><th scope=col>time</th><th scope=col>status</th><th scope=col>age</th><th scope=col>sex</th><th scope=col>ph.ecog</th><th scope=col>ph.karno</th><th scope=col>pat.karno</th><th scope=col>meal.cal</th><th scope=col>wt.loss</th><th scope=col>status.category</th><th scope=col>sex.category</th></tr>\n",
       "\t<tr><th></th><th scope=col>&lt;int&gt;</th><th scope=col>&lt;int&gt;</th><th scope=col>&lt;int&gt;</th><th scope=col>&lt;int&gt;</th><th scope=col>&lt;int&gt;</th><th scope=col>&lt;int&gt;</th><th scope=col>&lt;int&gt;</th><th scope=col>&lt;int&gt;</th><th scope=col>&lt;int&gt;</th><th scope=col>&lt;int&gt;</th><th scope=col>&lt;chr&gt;</th><th scope=col>&lt;chr&gt;</th></tr>\n",
       "</thead>\n",
       "<tbody>\n",
       "\t<tr><th scope=row>1</th><td> 3</td><td> 306</td><td>2</td><td>74</td><td>1</td><td>1</td><td> 90</td><td>100</td><td>1175</td><td>NA</td><td>dead    </td><td>Male</td></tr>\n",
       "\t<tr><th scope=row>2</th><td> 3</td><td> 455</td><td>2</td><td>68</td><td>1</td><td>0</td><td> 90</td><td> 90</td><td>1225</td><td>15</td><td>dead    </td><td>Male</td></tr>\n",
       "\t<tr><th scope=row>3</th><td> 3</td><td>1010</td><td>1</td><td>56</td><td>1</td><td>0</td><td> 90</td><td> 90</td><td>  NA</td><td>15</td><td>censored</td><td>Male</td></tr>\n",
       "\t<tr><th scope=row>4</th><td> 5</td><td> 210</td><td>2</td><td>57</td><td>1</td><td>1</td><td> 90</td><td> 60</td><td>1150</td><td>11</td><td>dead    </td><td>Male</td></tr>\n",
       "\t<tr><th scope=row>5</th><td> 1</td><td> 883</td><td>2</td><td>60</td><td>1</td><td>0</td><td>100</td><td> 90</td><td>  NA</td><td> 0</td><td>dead    </td><td>Male</td></tr>\n",
       "\t<tr><th scope=row>6</th><td>12</td><td>1022</td><td>1</td><td>74</td><td>1</td><td>1</td><td> 50</td><td> 80</td><td> 513</td><td> 0</td><td>censored</td><td>Male</td></tr>\n",
       "</tbody>\n",
       "</table>\n"
      ],
      "text/latex": [
       "A data.frame: 6 × 12\n",
       "\\begin{tabular}{r|llllllllllll}\n",
       "  & inst & time & status & age & sex & ph.ecog & ph.karno & pat.karno & meal.cal & wt.loss & status.category & sex.category\\\\\n",
       "  & <int> & <int> & <int> & <int> & <int> & <int> & <int> & <int> & <int> & <int> & <chr> & <chr>\\\\\n",
       "\\hline\n",
       "\t1 &  3 &  306 & 2 & 74 & 1 & 1 &  90 & 100 & 1175 & NA & dead     & Male\\\\\n",
       "\t2 &  3 &  455 & 2 & 68 & 1 & 0 &  90 &  90 & 1225 & 15 & dead     & Male\\\\\n",
       "\t3 &  3 & 1010 & 1 & 56 & 1 & 0 &  90 &  90 &   NA & 15 & censored & Male\\\\\n",
       "\t4 &  5 &  210 & 2 & 57 & 1 & 1 &  90 &  60 & 1150 & 11 & dead     & Male\\\\\n",
       "\t5 &  1 &  883 & 2 & 60 & 1 & 0 & 100 &  90 &   NA &  0 & dead     & Male\\\\\n",
       "\t6 & 12 & 1022 & 1 & 74 & 1 & 1 &  50 &  80 &  513 &  0 & censored & Male\\\\\n",
       "\\end{tabular}\n"
      ],
      "text/markdown": [
       "\n",
       "A data.frame: 6 × 12\n",
       "\n",
       "| <!--/--> | inst &lt;int&gt; | time &lt;int&gt; | status &lt;int&gt; | age &lt;int&gt; | sex &lt;int&gt; | ph.ecog &lt;int&gt; | ph.karno &lt;int&gt; | pat.karno &lt;int&gt; | meal.cal &lt;int&gt; | wt.loss &lt;int&gt; | status.category &lt;chr&gt; | sex.category &lt;chr&gt; |\n",
       "|---|---|---|---|---|---|---|---|---|---|---|---|---|\n",
       "| 1 |  3 |  306 | 2 | 74 | 1 | 1 |  90 | 100 | 1175 | NA | dead     | Male |\n",
       "| 2 |  3 |  455 | 2 | 68 | 1 | 0 |  90 |  90 | 1225 | 15 | dead     | Male |\n",
       "| 3 |  3 | 1010 | 1 | 56 | 1 | 0 |  90 |  90 |   NA | 15 | censored | Male |\n",
       "| 4 |  5 |  210 | 2 | 57 | 1 | 1 |  90 |  60 | 1150 | 11 | dead     | Male |\n",
       "| 5 |  1 |  883 | 2 | 60 | 1 | 0 | 100 |  90 |   NA |  0 | dead     | Male |\n",
       "| 6 | 12 | 1022 | 1 | 74 | 1 | 1 |  50 |  80 |  513 |  0 | censored | Male |\n",
       "\n"
      ],
      "text/plain": [
       "  inst time status age sex ph.ecog ph.karno pat.karno meal.cal wt.loss\n",
       "1  3    306 2      74  1   1        90      100       1175     NA     \n",
       "2  3    455 2      68  1   0        90       90       1225     15     \n",
       "3  3   1010 1      56  1   0        90       90         NA     15     \n",
       "4  5    210 2      57  1   1        90       60       1150     11     \n",
       "5  1    883 2      60  1   0       100       90         NA      0     \n",
       "6 12   1022 1      74  1   1        50       80        513      0     \n",
       "  status.category sex.category\n",
       "1 dead            Male        \n",
       "2 dead            Male        \n",
       "3 censored        Male        \n",
       "4 dead            Male        \n",
       "5 dead            Male        \n",
       "6 censored        Male        "
      ]
     },
     "metadata": {},
     "output_type": "display_data"
    }
   ],
   "source": [
    "clung <- epi7913A::lung\n",
    "head(clung)"
   ]
  },
  {
   "cell_type": "markdown",
   "id": "d84ce3b8-fee3-4bde-a64f-50a8ffbb8cec",
   "metadata": {},
   "source": [
    "### Remove the two categorical columns we added last time!"
   ]
  },
  {
   "cell_type": "code",
   "execution_count": 2,
   "id": "f24fa2fe-bdb8-48b1-873f-a04a026cddfa",
   "metadata": {
    "tags": []
   },
   "outputs": [
    {
     "data": {
      "text/html": [
       "<table class=\"dataframe\">\n",
       "<caption>A data.frame: 6 × 10</caption>\n",
       "<thead>\n",
       "\t<tr><th></th><th scope=col>inst</th><th scope=col>time</th><th scope=col>status</th><th scope=col>age</th><th scope=col>sex</th><th scope=col>ph.ecog</th><th scope=col>ph.karno</th><th scope=col>pat.karno</th><th scope=col>meal.cal</th><th scope=col>wt.loss</th></tr>\n",
       "\t<tr><th></th><th scope=col>&lt;int&gt;</th><th scope=col>&lt;int&gt;</th><th scope=col>&lt;int&gt;</th><th scope=col>&lt;int&gt;</th><th scope=col>&lt;int&gt;</th><th scope=col>&lt;int&gt;</th><th scope=col>&lt;int&gt;</th><th scope=col>&lt;int&gt;</th><th scope=col>&lt;int&gt;</th><th scope=col>&lt;int&gt;</th></tr>\n",
       "</thead>\n",
       "<tbody>\n",
       "\t<tr><th scope=row>2</th><td> 3</td><td> 455</td><td>2</td><td>68</td><td>1</td><td>0</td><td>90</td><td>90</td><td>1225</td><td>15</td></tr>\n",
       "\t<tr><th scope=row>4</th><td> 5</td><td> 210</td><td>2</td><td>57</td><td>1</td><td>1</td><td>90</td><td>60</td><td>1150</td><td>11</td></tr>\n",
       "\t<tr><th scope=row>6</th><td>12</td><td>1022</td><td>1</td><td>74</td><td>1</td><td>1</td><td>50</td><td>80</td><td> 513</td><td> 0</td></tr>\n",
       "\t<tr><th scope=row>7</th><td> 7</td><td> 310</td><td>2</td><td>68</td><td>2</td><td>2</td><td>70</td><td>60</td><td> 384</td><td>10</td></tr>\n",
       "\t<tr><th scope=row>8</th><td>11</td><td> 361</td><td>2</td><td>71</td><td>2</td><td>2</td><td>60</td><td>80</td><td> 538</td><td> 1</td></tr>\n",
       "\t<tr><th scope=row>9</th><td> 1</td><td> 218</td><td>2</td><td>53</td><td>1</td><td>1</td><td>70</td><td>80</td><td> 825</td><td>16</td></tr>\n",
       "</tbody>\n",
       "</table>\n"
      ],
      "text/latex": [
       "A data.frame: 6 × 10\n",
       "\\begin{tabular}{r|llllllllll}\n",
       "  & inst & time & status & age & sex & ph.ecog & ph.karno & pat.karno & meal.cal & wt.loss\\\\\n",
       "  & <int> & <int> & <int> & <int> & <int> & <int> & <int> & <int> & <int> & <int>\\\\\n",
       "\\hline\n",
       "\t2 &  3 &  455 & 2 & 68 & 1 & 0 & 90 & 90 & 1225 & 15\\\\\n",
       "\t4 &  5 &  210 & 2 & 57 & 1 & 1 & 90 & 60 & 1150 & 11\\\\\n",
       "\t6 & 12 & 1022 & 1 & 74 & 1 & 1 & 50 & 80 &  513 &  0\\\\\n",
       "\t7 &  7 &  310 & 2 & 68 & 2 & 2 & 70 & 60 &  384 & 10\\\\\n",
       "\t8 & 11 &  361 & 2 & 71 & 2 & 2 & 60 & 80 &  538 &  1\\\\\n",
       "\t9 &  1 &  218 & 2 & 53 & 1 & 1 & 70 & 80 &  825 & 16\\\\\n",
       "\\end{tabular}\n"
      ],
      "text/markdown": [
       "\n",
       "A data.frame: 6 × 10\n",
       "\n",
       "| <!--/--> | inst &lt;int&gt; | time &lt;int&gt; | status &lt;int&gt; | age &lt;int&gt; | sex &lt;int&gt; | ph.ecog &lt;int&gt; | ph.karno &lt;int&gt; | pat.karno &lt;int&gt; | meal.cal &lt;int&gt; | wt.loss &lt;int&gt; |\n",
       "|---|---|---|---|---|---|---|---|---|---|---|\n",
       "| 2 |  3 |  455 | 2 | 68 | 1 | 0 | 90 | 90 | 1225 | 15 |\n",
       "| 4 |  5 |  210 | 2 | 57 | 1 | 1 | 90 | 60 | 1150 | 11 |\n",
       "| 6 | 12 | 1022 | 1 | 74 | 1 | 1 | 50 | 80 |  513 |  0 |\n",
       "| 7 |  7 |  310 | 2 | 68 | 2 | 2 | 70 | 60 |  384 | 10 |\n",
       "| 8 | 11 |  361 | 2 | 71 | 2 | 2 | 60 | 80 |  538 |  1 |\n",
       "| 9 |  1 |  218 | 2 | 53 | 1 | 1 | 70 | 80 |  825 | 16 |\n",
       "\n"
      ],
      "text/plain": [
       "  inst time status age sex ph.ecog ph.karno pat.karno meal.cal wt.loss\n",
       "2  3    455 2      68  1   0       90       90        1225     15     \n",
       "4  5    210 2      57  1   1       90       60        1150     11     \n",
       "6 12   1022 1      74  1   1       50       80         513      0     \n",
       "7  7    310 2      68  2   2       70       60         384     10     \n",
       "8 11    361 2      71  2   2       60       80         538      1     \n",
       "9  1    218 2      53  1   1       70       80         825     16     "
      ]
     },
     "metadata": {},
     "output_type": "display_data"
    }
   ],
   "source": [
    "# clean up – remove the extra columns we added in the previous class!\n",
    "# and make a copy of data to clung and remove and rows that contain NA\n",
    "clung <- clung[,-11:-12]\n",
    "clung <- clung[complete.cases(clung),]\n",
    "head(clung)"
   ]
  },
  {
   "cell_type": "markdown",
   "id": "b2e80731-c656-4378-bea0-3f36e7a2ccad",
   "metadata": {
    "tags": []
   },
   "source": [
    "## Initialize data splitting ratio, the number of iterations to randomly repeat the experiment "
   ]
  },
  {
   "cell_type": "code",
   "execution_count": 3,
   "id": "694263c6-dc0a-4602-832b-f7ba80efb6f7",
   "metadata": {
    "tags": []
   },
   "outputs": [],
   "source": [
    "# initialize parameters for the experiment\n",
    "train_data_split = 0.6   # 0.6 for training and 1-0.6 for testing\n",
    "iterations = 1000        # 10 repeated runs -- this is set to 1000 in the notes!"
   ]
  },
  {
   "cell_type": "markdown",
   "id": "681f3de9-bbcf-49a8-946a-07535409674c",
   "metadata": {},
   "source": [
    "## Initialize the outcome (alive_at_cutoff) as binary indicating if survival >= survival_cutoff "
   ]
  },
  {
   "cell_type": "code",
   "execution_count": 4,
   "id": "584b11fc-07d4-4c05-91e6-53aed38d686c",
   "metadata": {
    "tags": []
   },
   "outputs": [
    {
     "data": {
      "text/html": [
       "<table class=\"dataframe\">\n",
       "<caption>A data.frame: 6 × 11</caption>\n",
       "<thead>\n",
       "\t<tr><th></th><th scope=col>inst</th><th scope=col>time</th><th scope=col>status</th><th scope=col>age</th><th scope=col>sex</th><th scope=col>ph.ecog</th><th scope=col>ph.karno</th><th scope=col>pat.karno</th><th scope=col>meal.cal</th><th scope=col>wt.loss</th><th scope=col>alive_at_cutoff</th></tr>\n",
       "\t<tr><th></th><th scope=col>&lt;int&gt;</th><th scope=col>&lt;int&gt;</th><th scope=col>&lt;int&gt;</th><th scope=col>&lt;int&gt;</th><th scope=col>&lt;int&gt;</th><th scope=col>&lt;int&gt;</th><th scope=col>&lt;int&gt;</th><th scope=col>&lt;int&gt;</th><th scope=col>&lt;int&gt;</th><th scope=col>&lt;int&gt;</th><th scope=col>&lt;dbl&gt;</th></tr>\n",
       "</thead>\n",
       "<tbody>\n",
       "\t<tr><th scope=row>2</th><td> 3</td><td> 455</td><td>2</td><td>68</td><td>1</td><td>0</td><td>90</td><td>90</td><td>1225</td><td>15</td><td>1</td></tr>\n",
       "\t<tr><th scope=row>4</th><td> 5</td><td> 210</td><td>2</td><td>57</td><td>1</td><td>1</td><td>90</td><td>60</td><td>1150</td><td>11</td><td>0</td></tr>\n",
       "\t<tr><th scope=row>6</th><td>12</td><td>1022</td><td>1</td><td>74</td><td>1</td><td>1</td><td>50</td><td>80</td><td> 513</td><td> 0</td><td>1</td></tr>\n",
       "\t<tr><th scope=row>7</th><td> 7</td><td> 310</td><td>2</td><td>68</td><td>2</td><td>2</td><td>70</td><td>60</td><td> 384</td><td>10</td><td>0</td></tr>\n",
       "\t<tr><th scope=row>8</th><td>11</td><td> 361</td><td>2</td><td>71</td><td>2</td><td>2</td><td>60</td><td>80</td><td> 538</td><td> 1</td><td>0</td></tr>\n",
       "\t<tr><th scope=row>9</th><td> 1</td><td> 218</td><td>2</td><td>53</td><td>1</td><td>1</td><td>70</td><td>80</td><td> 825</td><td>16</td><td>0</td></tr>\n",
       "</tbody>\n",
       "</table>\n"
      ],
      "text/latex": [
       "A data.frame: 6 × 11\n",
       "\\begin{tabular}{r|lllllllllll}\n",
       "  & inst & time & status & age & sex & ph.ecog & ph.karno & pat.karno & meal.cal & wt.loss & alive\\_at\\_cutoff\\\\\n",
       "  & <int> & <int> & <int> & <int> & <int> & <int> & <int> & <int> & <int> & <int> & <dbl>\\\\\n",
       "\\hline\n",
       "\t2 &  3 &  455 & 2 & 68 & 1 & 0 & 90 & 90 & 1225 & 15 & 1\\\\\n",
       "\t4 &  5 &  210 & 2 & 57 & 1 & 1 & 90 & 60 & 1150 & 11 & 0\\\\\n",
       "\t6 & 12 & 1022 & 1 & 74 & 1 & 1 & 50 & 80 &  513 &  0 & 1\\\\\n",
       "\t7 &  7 &  310 & 2 & 68 & 2 & 2 & 70 & 60 &  384 & 10 & 0\\\\\n",
       "\t8 & 11 &  361 & 2 & 71 & 2 & 2 & 60 & 80 &  538 &  1 & 0\\\\\n",
       "\t9 &  1 &  218 & 2 & 53 & 1 & 1 & 70 & 80 &  825 & 16 & 0\\\\\n",
       "\\end{tabular}\n"
      ],
      "text/markdown": [
       "\n",
       "A data.frame: 6 × 11\n",
       "\n",
       "| <!--/--> | inst &lt;int&gt; | time &lt;int&gt; | status &lt;int&gt; | age &lt;int&gt; | sex &lt;int&gt; | ph.ecog &lt;int&gt; | ph.karno &lt;int&gt; | pat.karno &lt;int&gt; | meal.cal &lt;int&gt; | wt.loss &lt;int&gt; | alive_at_cutoff &lt;dbl&gt; |\n",
       "|---|---|---|---|---|---|---|---|---|---|---|---|\n",
       "| 2 |  3 |  455 | 2 | 68 | 1 | 0 | 90 | 90 | 1225 | 15 | 1 |\n",
       "| 4 |  5 |  210 | 2 | 57 | 1 | 1 | 90 | 60 | 1150 | 11 | 0 |\n",
       "| 6 | 12 | 1022 | 1 | 74 | 1 | 1 | 50 | 80 |  513 |  0 | 1 |\n",
       "| 7 |  7 |  310 | 2 | 68 | 2 | 2 | 70 | 60 |  384 | 10 | 0 |\n",
       "| 8 | 11 |  361 | 2 | 71 | 2 | 2 | 60 | 80 |  538 |  1 | 0 |\n",
       "| 9 |  1 |  218 | 2 | 53 | 1 | 1 | 70 | 80 |  825 | 16 | 0 |\n",
       "\n"
      ],
      "text/plain": [
       "  inst time status age sex ph.ecog ph.karno pat.karno meal.cal wt.loss\n",
       "2  3    455 2      68  1   0       90       90        1225     15     \n",
       "4  5    210 2      57  1   1       90       60        1150     11     \n",
       "6 12   1022 1      74  1   1       50       80         513      0     \n",
       "7  7    310 2      68  2   2       70       60         384     10     \n",
       "8 11    361 2      71  2   2       60       80         538      1     \n",
       "9  1    218 2      53  1   1       70       80         825     16     \n",
       "  alive_at_cutoff\n",
       "2 1              \n",
       "4 0              \n",
       "6 1              \n",
       "7 0              \n",
       "8 0              \n",
       "9 0              "
      ]
     },
     "metadata": {},
     "output_type": "display_data"
    }
   ],
   "source": [
    "survival_cutoff = 365  # survival cutoff is 1 year = 365 days\n",
    "# construct the outcome of 1 for those who survive on or above \n",
    "# the cutoff value, 0 otherwise\n",
    "clung <- within(clung, { \n",
    "  alive_at_cutoff <- NA; #initialize a new column\n",
    "  alive_at_cutoff[time >= survival_cutoff] <- 1\n",
    "  alive_at_cutoff[time < survival_cutoff ] <- 0 \n",
    "} )\n",
    "\n",
    "head(clung)"
   ]
  },
  {
   "cell_type": "markdown",
   "id": "cbb35e89-7e51-4ff5-a3c9-c4fabbf5fef5",
   "metadata": {},
   "source": [
    "## set the random seed for reproducability and allocate the results table"
   ]
  },
  {
   "cell_type": "code",
   "execution_count": 5,
   "id": "151db272-0312-4fc8-b96e-cdda0ebbba08",
   "metadata": {
    "tags": []
   },
   "outputs": [],
   "source": [
    "# set the random seed for reproducibility \n",
    "set.seed(17) "
   ]
  },
  {
   "cell_type": "markdown",
   "id": "3c5a1ca3-9547-42c4-bf98-411479328bfe",
   "metadata": {
    "tags": []
   },
   "source": [
    "## KNN Model Construction:\n",
    "- ### Initialize local variables to capture results and counters\n",
    "- ### Start the loop over K-nearest neighbours values 1 to 15\n",
    "    - ### For the number of iterations:\n",
    "        - ### Partition *clung* into train and test portions as defined by train_data_split and stratified to the ratio of *Yes:No* in alive_at_cutoff\n",
    "        - ### Retrieve train and test data\n",
    "        - ### Construct KNN model from \"alive_at_cutoff ~ age + sex\"  \n",
    "        - ### Calculate the log loss of predicted probabilities to actual values in training data (find goodness of fit)\n",
    "        - ### Using the resulting model, predict the probabilities on the test data\n",
    "        - ### Calculate how well predicted probabilities fit actual values for test data\n",
    "        - ### Record the goodness of fit on training and logloss on test"
   ]
  },
  {
   "cell_type": "code",
   "execution_count": 6,
   "id": "dc1cd7b4-3f8d-402e-82ac-4fb71f82d3ae",
   "metadata": {
    "tags": []
   },
   "outputs": [
    {
     "data": {
      "text/html": [
       "<table class=\"dataframe\">\n",
       "<caption>A data.frame: 6 × 3</caption>\n",
       "<thead>\n",
       "\t<tr><th></th><th scope=col>logloss</th><th scope=col>tags</th><th scope=col>ks</th></tr>\n",
       "\t<tr><th></th><th scope=col>&lt;dbl&gt;</th><th scope=col>&lt;chr&gt;</th><th scope=col>&lt;int&gt;</th></tr>\n",
       "</thead>\n",
       "<tbody>\n",
       "\t<tr><th scope=row>1</th><td>24.28030</td><td>train</td><td>1</td></tr>\n",
       "\t<tr><th scope=row>2</th><td>23.62341</td><td>test </td><td>1</td></tr>\n",
       "\t<tr><th scope=row>3</th><td>24.28030</td><td>train</td><td>1</td></tr>\n",
       "\t<tr><th scope=row>4</th><td>19.56235</td><td>test </td><td>1</td></tr>\n",
       "\t<tr><th scope=row>5</th><td>24.42192</td><td>train</td><td>1</td></tr>\n",
       "\t<tr><th scope=row>6</th><td>20.94561</td><td>test </td><td>1</td></tr>\n",
       "</tbody>\n",
       "</table>\n"
      ],
      "text/latex": [
       "A data.frame: 6 × 3\n",
       "\\begin{tabular}{r|lll}\n",
       "  & logloss & tags & ks\\\\\n",
       "  & <dbl> & <chr> & <int>\\\\\n",
       "\\hline\n",
       "\t1 & 24.28030 & train & 1\\\\\n",
       "\t2 & 23.62341 & test  & 1\\\\\n",
       "\t3 & 24.28030 & train & 1\\\\\n",
       "\t4 & 19.56235 & test  & 1\\\\\n",
       "\t5 & 24.42192 & train & 1\\\\\n",
       "\t6 & 20.94561 & test  & 1\\\\\n",
       "\\end{tabular}\n"
      ],
      "text/markdown": [
       "\n",
       "A data.frame: 6 × 3\n",
       "\n",
       "| <!--/--> | logloss &lt;dbl&gt; | tags &lt;chr&gt; | ks &lt;int&gt; |\n",
       "|---|---|---|---|\n",
       "| 1 | 24.28030 | train | 1 |\n",
       "| 2 | 23.62341 | test  | 1 |\n",
       "| 3 | 24.28030 | train | 1 |\n",
       "| 4 | 19.56235 | test  | 1 |\n",
       "| 5 | 24.42192 | train | 1 |\n",
       "| 6 | 20.94561 | test  | 1 |\n",
       "\n"
      ],
      "text/plain": [
       "  logloss  tags  ks\n",
       "1 24.28030 train 1 \n",
       "2 23.62341 test  1 \n",
       "3 24.28030 train 1 \n",
       "4 19.56235 test  1 \n",
       "5 24.42192 train 1 \n",
       "6 20.94561 test  1 "
      ]
     },
     "metadata": {},
     "output_type": "display_data"
    }
   ],
   "source": [
    "# initialize local variables to capture results and counters\n",
    "logloss <- NA\n",
    "ks <- NA\n",
    "tags <- \"\"\n",
    "cnt =1\n",
    "\n",
    "# start the loop over K values 1 to 15\n",
    "for (k in 1:15){\n",
    "\n",
    "  # for the number of iterations:\n",
    "  for (i in 1:iterations) {\n",
    "  \n",
    "    #     partition clung into train and test portions as defined by train_data_split and stratified to the ratio of Yes:No in alive_at_cutoff\n",
    "    inds <- splitTools::partition(clung$alive_at_cutoff, p = c(train = train_data_split, test = (1 - train_data_split)), type=\"stratified\")\n",
    "  \n",
    "    #     retrieve train and test data\n",
    "    train <- clung[inds$train, ]\n",
    "    test  <- clung[inds$test, ]\n",
    "  \n",
    "    # construct KNN model from \"alive_at_cutoff ~ age + sex\"  \n",
    "    knn_model <- class::knn(train[,c(4,5,11)],train[,c(4,5,11)], train$alive_at_cutoff, k, prob=T)\n",
    "  \n",
    "    # calculate the log loss of predicted probabilities to actual values in training data (find goodness of fit)\n",
    "    r1 <- MLmetrics::LogLoss(attributes(knn_model)$prob, train$alive_at_cutoff)\n",
    "    logloss[cnt] <- r1\n",
    "    tags[cnt] <- \"train\"\n",
    "    ks[cnt] <- k\n",
    "    cnt <- cnt + 1\n",
    "  \n",
    "    # using th resulting model, predict the probabilities on the test data\n",
    "    knn_model <- class::knn(train[,c(4,5,11)],test[,c(4,5,11)], train$alive_at_cutoff, k, prob=T)\n",
    "  \n",
    "    # calculate how well predicted probabilities fit actual values for test data\n",
    "    r2 <- MLmetrics::LogLoss(attributes(knn_model)$prob, test$alive_at_cutoff)\n",
    "  \n",
    "    # record the goodness of fit on training and logloss on test\n",
    "    logloss[cnt] <- r2\n",
    "    tags[cnt] <- \"test\"\n",
    "    ks[cnt] <- k\n",
    "    cnt <- cnt + 1\n",
    "  }\n",
    "}\n",
    "\n",
    "head(data.frame(logloss,tags,ks))"
   ]
  },
  {
   "cell_type": "markdown",
   "id": "090cd56a-9a9d-4cd4-b7b3-850d11a8464e",
   "metadata": {},
   "source": [
    "## plot the boxplots of log(loss) values for train and test data as collected in the runs"
   ]
  },
  {
   "cell_type": "markdown",
   "id": "34fd6de0-15a9-4342-a28b-d147817893bb",
   "metadata": {
    "tags": []
   },
   "source": [
    "##### graphics::boxplot(logloss ~ ks, sub = tags == \"train\", at = 1:15 - 0.2, col = \"green\", boxwex = 0.25, xlab =\"K\", ylab=\"logLoss\")\n",
    "graphics::boxplot(logloss ~ ks, sub = tags == \"test\", at = 1:15 + 0.2, col = \"blue\", add = T, boxwex = 0.25)\n",
    "graphics::legend(\"topright\", c(\"train\",\"test\"), fill = c(\"green\",\"blue\"))"
   ]
  },
  {
   "cell_type": "code",
   "execution_count": null,
   "id": "64738b97-5ce7-4a2a-8203-80c2993209d7",
   "metadata": {},
   "outputs": [],
   "source": []
  }
 ],
 "metadata": {
  "kernelspec": {
   "display_name": "R",
   "language": "R",
   "name": "ir"
  },
  "language_info": {
   "codemirror_mode": "r",
   "file_extension": ".r",
   "mimetype": "text/x-r-source",
   "name": "R",
   "pygments_lexer": "r",
   "version": "4.3.1"
  },
  "widgets": {
   "application/vnd.jupyter.widget-state+json": {
    "state": {},
    "version_major": 2,
    "version_minor": 0
   }
  }
 },
 "nbformat": 4,
 "nbformat_minor": 5
}
