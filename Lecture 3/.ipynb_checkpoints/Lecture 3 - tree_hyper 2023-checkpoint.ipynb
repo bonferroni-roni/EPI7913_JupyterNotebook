{
 "cells": [
  {
   "cell_type": "markdown",
   "id": "b51641d7-3ea6-4bce-8675-ecf4ac0adbe2",
   "metadata": {},
   "source": [
    "# Lecture 3 - Hyperparameter tuning for the lung dataset CART model\n",
    "\n",
    "## Again, use the *lung* dataset from the EPI7913A package"
   ]
  },
  {
   "cell_type": "code",
   "execution_count": 9,
   "id": "52f9a906-d1a9-451d-a7d9-5e53b148ffbb",
   "metadata": {
    "tags": []
   },
   "outputs": [
    {
     "data": {
      "text/html": [
       "<table class=\"dataframe\">\n",
       "<caption>A data.frame: 6 × 12</caption>\n",
       "<thead>\n",
       "\t<tr><th></th><th scope=col>inst</th><th scope=col>time</th><th scope=col>status</th><th scope=col>age</th><th scope=col>sex</th><th scope=col>ph.ecog</th><th scope=col>ph.karno</th><th scope=col>pat.karno</th><th scope=col>meal.cal</th><th scope=col>wt.loss</th><th scope=col>status.category</th><th scope=col>sex.category</th></tr>\n",
       "\t<tr><th></th><th scope=col>&lt;int&gt;</th><th scope=col>&lt;int&gt;</th><th scope=col>&lt;int&gt;</th><th scope=col>&lt;int&gt;</th><th scope=col>&lt;int&gt;</th><th scope=col>&lt;int&gt;</th><th scope=col>&lt;int&gt;</th><th scope=col>&lt;int&gt;</th><th scope=col>&lt;int&gt;</th><th scope=col>&lt;int&gt;</th><th scope=col>&lt;chr&gt;</th><th scope=col>&lt;chr&gt;</th></tr>\n",
       "</thead>\n",
       "<tbody>\n",
       "\t<tr><th scope=row>1</th><td> 3</td><td> 306</td><td>2</td><td>74</td><td>1</td><td>1</td><td> 90</td><td>100</td><td>1175</td><td>NA</td><td>dead    </td><td>Male</td></tr>\n",
       "\t<tr><th scope=row>2</th><td> 3</td><td> 455</td><td>2</td><td>68</td><td>1</td><td>0</td><td> 90</td><td> 90</td><td>1225</td><td>15</td><td>dead    </td><td>Male</td></tr>\n",
       "\t<tr><th scope=row>3</th><td> 3</td><td>1010</td><td>1</td><td>56</td><td>1</td><td>0</td><td> 90</td><td> 90</td><td>  NA</td><td>15</td><td>censored</td><td>Male</td></tr>\n",
       "\t<tr><th scope=row>4</th><td> 5</td><td> 210</td><td>2</td><td>57</td><td>1</td><td>1</td><td> 90</td><td> 60</td><td>1150</td><td>11</td><td>dead    </td><td>Male</td></tr>\n",
       "\t<tr><th scope=row>5</th><td> 1</td><td> 883</td><td>2</td><td>60</td><td>1</td><td>0</td><td>100</td><td> 90</td><td>  NA</td><td> 0</td><td>dead    </td><td>Male</td></tr>\n",
       "\t<tr><th scope=row>6</th><td>12</td><td>1022</td><td>1</td><td>74</td><td>1</td><td>1</td><td> 50</td><td> 80</td><td> 513</td><td> 0</td><td>censored</td><td>Male</td></tr>\n",
       "</tbody>\n",
       "</table>\n"
      ],
      "text/latex": [
       "A data.frame: 6 × 12\n",
       "\\begin{tabular}{r|llllllllllll}\n",
       "  & inst & time & status & age & sex & ph.ecog & ph.karno & pat.karno & meal.cal & wt.loss & status.category & sex.category\\\\\n",
       "  & <int> & <int> & <int> & <int> & <int> & <int> & <int> & <int> & <int> & <int> & <chr> & <chr>\\\\\n",
       "\\hline\n",
       "\t1 &  3 &  306 & 2 & 74 & 1 & 1 &  90 & 100 & 1175 & NA & dead     & Male\\\\\n",
       "\t2 &  3 &  455 & 2 & 68 & 1 & 0 &  90 &  90 & 1225 & 15 & dead     & Male\\\\\n",
       "\t3 &  3 & 1010 & 1 & 56 & 1 & 0 &  90 &  90 &   NA & 15 & censored & Male\\\\\n",
       "\t4 &  5 &  210 & 2 & 57 & 1 & 1 &  90 &  60 & 1150 & 11 & dead     & Male\\\\\n",
       "\t5 &  1 &  883 & 2 & 60 & 1 & 0 & 100 &  90 &   NA &  0 & dead     & Male\\\\\n",
       "\t6 & 12 & 1022 & 1 & 74 & 1 & 1 &  50 &  80 &  513 &  0 & censored & Male\\\\\n",
       "\\end{tabular}\n"
      ],
      "text/markdown": [
       "\n",
       "A data.frame: 6 × 12\n",
       "\n",
       "| <!--/--> | inst &lt;int&gt; | time &lt;int&gt; | status &lt;int&gt; | age &lt;int&gt; | sex &lt;int&gt; | ph.ecog &lt;int&gt; | ph.karno &lt;int&gt; | pat.karno &lt;int&gt; | meal.cal &lt;int&gt; | wt.loss &lt;int&gt; | status.category &lt;chr&gt; | sex.category &lt;chr&gt; |\n",
       "|---|---|---|---|---|---|---|---|---|---|---|---|---|\n",
       "| 1 |  3 |  306 | 2 | 74 | 1 | 1 |  90 | 100 | 1175 | NA | dead     | Male |\n",
       "| 2 |  3 |  455 | 2 | 68 | 1 | 0 |  90 |  90 | 1225 | 15 | dead     | Male |\n",
       "| 3 |  3 | 1010 | 1 | 56 | 1 | 0 |  90 |  90 |   NA | 15 | censored | Male |\n",
       "| 4 |  5 |  210 | 2 | 57 | 1 | 1 |  90 |  60 | 1150 | 11 | dead     | Male |\n",
       "| 5 |  1 |  883 | 2 | 60 | 1 | 0 | 100 |  90 |   NA |  0 | dead     | Male |\n",
       "| 6 | 12 | 1022 | 1 | 74 | 1 | 1 |  50 |  80 |  513 |  0 | censored | Male |\n",
       "\n"
      ],
      "text/plain": [
       "  inst time status age sex ph.ecog ph.karno pat.karno meal.cal wt.loss\n",
       "1  3    306 2      74  1   1        90      100       1175     NA     \n",
       "2  3    455 2      68  1   0        90       90       1225     15     \n",
       "3  3   1010 1      56  1   0        90       90         NA     15     \n",
       "4  5    210 2      57  1   1        90       60       1150     11     \n",
       "5  1    883 2      60  1   0       100       90         NA      0     \n",
       "6 12   1022 1      74  1   1        50       80        513      0     \n",
       "  status.category sex.category\n",
       "1 dead            Male        \n",
       "2 dead            Male        \n",
       "3 censored        Male        \n",
       "4 dead            Male        \n",
       "5 dead            Male        \n",
       "6 censored        Male        "
      ]
     },
     "metadata": {},
     "output_type": "display_data"
    }
   ],
   "source": [
    "clung <- epi7913A::lung\n",
    "head(clung)"
   ]
  },
  {
   "cell_type": "markdown",
   "id": "4cc54842-1c70-4a39-819d-5e669e45905f",
   "metadata": {},
   "source": [
    "### Remove the two categorical columns we added last time!"
   ]
  },
  {
   "cell_type": "code",
   "execution_count": 10,
   "id": "a78a3d7c-6ca1-45d6-b37e-e099723ae6b1",
   "metadata": {
    "tags": []
   },
   "outputs": [
    {
     "data": {
      "text/html": [
       "<table class=\"dataframe\">\n",
       "<caption>A data.frame: 6 × 10</caption>\n",
       "<thead>\n",
       "\t<tr><th></th><th scope=col>inst</th><th scope=col>time</th><th scope=col>status</th><th scope=col>age</th><th scope=col>sex</th><th scope=col>ph.ecog</th><th scope=col>ph.karno</th><th scope=col>pat.karno</th><th scope=col>meal.cal</th><th scope=col>wt.loss</th></tr>\n",
       "\t<tr><th></th><th scope=col>&lt;int&gt;</th><th scope=col>&lt;int&gt;</th><th scope=col>&lt;int&gt;</th><th scope=col>&lt;int&gt;</th><th scope=col>&lt;int&gt;</th><th scope=col>&lt;int&gt;</th><th scope=col>&lt;int&gt;</th><th scope=col>&lt;int&gt;</th><th scope=col>&lt;int&gt;</th><th scope=col>&lt;int&gt;</th></tr>\n",
       "</thead>\n",
       "<tbody>\n",
       "\t<tr><th scope=row>2</th><td> 3</td><td> 455</td><td>2</td><td>68</td><td>1</td><td>0</td><td>90</td><td>90</td><td>1225</td><td>15</td></tr>\n",
       "\t<tr><th scope=row>4</th><td> 5</td><td> 210</td><td>2</td><td>57</td><td>1</td><td>1</td><td>90</td><td>60</td><td>1150</td><td>11</td></tr>\n",
       "\t<tr><th scope=row>6</th><td>12</td><td>1022</td><td>1</td><td>74</td><td>1</td><td>1</td><td>50</td><td>80</td><td> 513</td><td> 0</td></tr>\n",
       "\t<tr><th scope=row>7</th><td> 7</td><td> 310</td><td>2</td><td>68</td><td>2</td><td>2</td><td>70</td><td>60</td><td> 384</td><td>10</td></tr>\n",
       "\t<tr><th scope=row>8</th><td>11</td><td> 361</td><td>2</td><td>71</td><td>2</td><td>2</td><td>60</td><td>80</td><td> 538</td><td> 1</td></tr>\n",
       "\t<tr><th scope=row>9</th><td> 1</td><td> 218</td><td>2</td><td>53</td><td>1</td><td>1</td><td>70</td><td>80</td><td> 825</td><td>16</td></tr>\n",
       "</tbody>\n",
       "</table>\n"
      ],
      "text/latex": [
       "A data.frame: 6 × 10\n",
       "\\begin{tabular}{r|llllllllll}\n",
       "  & inst & time & status & age & sex & ph.ecog & ph.karno & pat.karno & meal.cal & wt.loss\\\\\n",
       "  & <int> & <int> & <int> & <int> & <int> & <int> & <int> & <int> & <int> & <int>\\\\\n",
       "\\hline\n",
       "\t2 &  3 &  455 & 2 & 68 & 1 & 0 & 90 & 90 & 1225 & 15\\\\\n",
       "\t4 &  5 &  210 & 2 & 57 & 1 & 1 & 90 & 60 & 1150 & 11\\\\\n",
       "\t6 & 12 & 1022 & 1 & 74 & 1 & 1 & 50 & 80 &  513 &  0\\\\\n",
       "\t7 &  7 &  310 & 2 & 68 & 2 & 2 & 70 & 60 &  384 & 10\\\\\n",
       "\t8 & 11 &  361 & 2 & 71 & 2 & 2 & 60 & 80 &  538 &  1\\\\\n",
       "\t9 &  1 &  218 & 2 & 53 & 1 & 1 & 70 & 80 &  825 & 16\\\\\n",
       "\\end{tabular}\n"
      ],
      "text/markdown": [
       "\n",
       "A data.frame: 6 × 10\n",
       "\n",
       "| <!--/--> | inst &lt;int&gt; | time &lt;int&gt; | status &lt;int&gt; | age &lt;int&gt; | sex &lt;int&gt; | ph.ecog &lt;int&gt; | ph.karno &lt;int&gt; | pat.karno &lt;int&gt; | meal.cal &lt;int&gt; | wt.loss &lt;int&gt; |\n",
       "|---|---|---|---|---|---|---|---|---|---|---|\n",
       "| 2 |  3 |  455 | 2 | 68 | 1 | 0 | 90 | 90 | 1225 | 15 |\n",
       "| 4 |  5 |  210 | 2 | 57 | 1 | 1 | 90 | 60 | 1150 | 11 |\n",
       "| 6 | 12 | 1022 | 1 | 74 | 1 | 1 | 50 | 80 |  513 |  0 |\n",
       "| 7 |  7 |  310 | 2 | 68 | 2 | 2 | 70 | 60 |  384 | 10 |\n",
       "| 8 | 11 |  361 | 2 | 71 | 2 | 2 | 60 | 80 |  538 |  1 |\n",
       "| 9 |  1 |  218 | 2 | 53 | 1 | 1 | 70 | 80 |  825 | 16 |\n",
       "\n"
      ],
      "text/plain": [
       "  inst time status age sex ph.ecog ph.karno pat.karno meal.cal wt.loss\n",
       "2  3    455 2      68  1   0       90       90        1225     15     \n",
       "4  5    210 2      57  1   1       90       60        1150     11     \n",
       "6 12   1022 1      74  1   1       50       80         513      0     \n",
       "7  7    310 2      68  2   2       70       60         384     10     \n",
       "8 11    361 2      71  2   2       60       80         538      1     \n",
       "9  1    218 2      53  1   1       70       80         825     16     "
      ]
     },
     "metadata": {},
     "output_type": "display_data"
    }
   ],
   "source": [
    "# clean up – remove the extra columns we added in the previous class!\n",
    "# and make a copy of data to clung and remove and rows that contain NA\n",
    "clung <- clung[,-11:-12]\n",
    "clung <- clung[complete.cases(clung),]\n",
    "head(clung)"
   ]
  },
  {
   "cell_type": "markdown",
   "id": "4f776232-216d-4bfb-8452-761cb85d64c0",
   "metadata": {
    "tags": []
   },
   "source": [
    "## Initialize data splitting ratio, the number of iterations to randomly repeat the experiment "
   ]
  },
  {
   "cell_type": "code",
   "execution_count": 11,
   "id": "952f2806-3f58-42c4-b24f-e903619052a8",
   "metadata": {
    "tags": []
   },
   "outputs": [],
   "source": [
    "# initialize parameters for the experiment\n",
    "train_data_split = 0.6   # 0.6 for training and 1-0.6 for testing\n",
    "iterations = 1000        # 10 repeated runs -- this is set to 1000 in the notes!"
   ]
  },
  {
   "cell_type": "markdown",
   "id": "9846b7b3-51ae-431e-856f-cc989589f4ba",
   "metadata": {},
   "source": [
    "## Initialize the outcome (alive_at_cutoff) as binary indicating if survival >= survival_cutoff "
   ]
  },
  {
   "cell_type": "code",
   "execution_count": 12,
   "id": "fe43c72f-fba2-4e67-b3f5-6e8bc37d4a42",
   "metadata": {
    "tags": []
   },
   "outputs": [
    {
     "data": {
      "text/html": [
       "<table class=\"dataframe\">\n",
       "<caption>A data.frame: 6 × 11</caption>\n",
       "<thead>\n",
       "\t<tr><th></th><th scope=col>inst</th><th scope=col>time</th><th scope=col>status</th><th scope=col>age</th><th scope=col>sex</th><th scope=col>ph.ecog</th><th scope=col>ph.karno</th><th scope=col>pat.karno</th><th scope=col>meal.cal</th><th scope=col>wt.loss</th><th scope=col>alive_at_cutoff</th></tr>\n",
       "\t<tr><th></th><th scope=col>&lt;int&gt;</th><th scope=col>&lt;int&gt;</th><th scope=col>&lt;int&gt;</th><th scope=col>&lt;int&gt;</th><th scope=col>&lt;int&gt;</th><th scope=col>&lt;int&gt;</th><th scope=col>&lt;int&gt;</th><th scope=col>&lt;int&gt;</th><th scope=col>&lt;int&gt;</th><th scope=col>&lt;int&gt;</th><th scope=col>&lt;dbl&gt;</th></tr>\n",
       "</thead>\n",
       "<tbody>\n",
       "\t<tr><th scope=row>2</th><td> 3</td><td> 455</td><td>2</td><td>68</td><td>1</td><td>0</td><td>90</td><td>90</td><td>1225</td><td>15</td><td>1</td></tr>\n",
       "\t<tr><th scope=row>4</th><td> 5</td><td> 210</td><td>2</td><td>57</td><td>1</td><td>1</td><td>90</td><td>60</td><td>1150</td><td>11</td><td>1</td></tr>\n",
       "\t<tr><th scope=row>6</th><td>12</td><td>1022</td><td>1</td><td>74</td><td>1</td><td>1</td><td>50</td><td>80</td><td> 513</td><td> 0</td><td>1</td></tr>\n",
       "\t<tr><th scope=row>7</th><td> 7</td><td> 310</td><td>2</td><td>68</td><td>2</td><td>2</td><td>70</td><td>60</td><td> 384</td><td>10</td><td>1</td></tr>\n",
       "\t<tr><th scope=row>8</th><td>11</td><td> 361</td><td>2</td><td>71</td><td>2</td><td>2</td><td>60</td><td>80</td><td> 538</td><td> 1</td><td>1</td></tr>\n",
       "\t<tr><th scope=row>9</th><td> 1</td><td> 218</td><td>2</td><td>53</td><td>1</td><td>1</td><td>70</td><td>80</td><td> 825</td><td>16</td><td>1</td></tr>\n",
       "</tbody>\n",
       "</table>\n"
      ],
      "text/latex": [
       "A data.frame: 6 × 11\n",
       "\\begin{tabular}{r|lllllllllll}\n",
       "  & inst & time & status & age & sex & ph.ecog & ph.karno & pat.karno & meal.cal & wt.loss & alive\\_at\\_cutoff\\\\\n",
       "  & <int> & <int> & <int> & <int> & <int> & <int> & <int> & <int> & <int> & <int> & <dbl>\\\\\n",
       "\\hline\n",
       "\t2 &  3 &  455 & 2 & 68 & 1 & 0 & 90 & 90 & 1225 & 15 & 1\\\\\n",
       "\t4 &  5 &  210 & 2 & 57 & 1 & 1 & 90 & 60 & 1150 & 11 & 1\\\\\n",
       "\t6 & 12 & 1022 & 1 & 74 & 1 & 1 & 50 & 80 &  513 &  0 & 1\\\\\n",
       "\t7 &  7 &  310 & 2 & 68 & 2 & 2 & 70 & 60 &  384 & 10 & 1\\\\\n",
       "\t8 & 11 &  361 & 2 & 71 & 2 & 2 & 60 & 80 &  538 &  1 & 1\\\\\n",
       "\t9 &  1 &  218 & 2 & 53 & 1 & 1 & 70 & 80 &  825 & 16 & 1\\\\\n",
       "\\end{tabular}\n"
      ],
      "text/markdown": [
       "\n",
       "A data.frame: 6 × 11\n",
       "\n",
       "| <!--/--> | inst &lt;int&gt; | time &lt;int&gt; | status &lt;int&gt; | age &lt;int&gt; | sex &lt;int&gt; | ph.ecog &lt;int&gt; | ph.karno &lt;int&gt; | pat.karno &lt;int&gt; | meal.cal &lt;int&gt; | wt.loss &lt;int&gt; | alive_at_cutoff &lt;dbl&gt; |\n",
       "|---|---|---|---|---|---|---|---|---|---|---|---|\n",
       "| 2 |  3 |  455 | 2 | 68 | 1 | 0 | 90 | 90 | 1225 | 15 | 1 |\n",
       "| 4 |  5 |  210 | 2 | 57 | 1 | 1 | 90 | 60 | 1150 | 11 | 1 |\n",
       "| 6 | 12 | 1022 | 1 | 74 | 1 | 1 | 50 | 80 |  513 |  0 | 1 |\n",
       "| 7 |  7 |  310 | 2 | 68 | 2 | 2 | 70 | 60 |  384 | 10 | 1 |\n",
       "| 8 | 11 |  361 | 2 | 71 | 2 | 2 | 60 | 80 |  538 |  1 | 1 |\n",
       "| 9 |  1 |  218 | 2 | 53 | 1 | 1 | 70 | 80 |  825 | 16 | 1 |\n",
       "\n"
      ],
      "text/plain": [
       "  inst time status age sex ph.ecog ph.karno pat.karno meal.cal wt.loss\n",
       "2  3    455 2      68  1   0       90       90        1225     15     \n",
       "4  5    210 2      57  1   1       90       60        1150     11     \n",
       "6 12   1022 1      74  1   1       50       80         513      0     \n",
       "7  7    310 2      68  2   2       70       60         384     10     \n",
       "8 11    361 2      71  2   2       60       80         538      1     \n",
       "9  1    218 2      53  1   1       70       80         825     16     \n",
       "  alive_at_cutoff\n",
       "2 1              \n",
       "4 1              \n",
       "6 1              \n",
       "7 1              \n",
       "8 1              \n",
       "9 1              "
      ]
     },
     "metadata": {},
     "output_type": "display_data"
    }
   ],
   "source": [
    "survival_cutoff = 365/2 # survival cutoff is 1 year = 365 days\n",
    "# construct the outcome of 1 for those who survive on or above \n",
    "# the cutoff value, 0 otherwise\n",
    "clung <- within(clung, { \n",
    "  alive_at_cutoff <- NA; #initialize a new column\n",
    "  alive_at_cutoff[time >= survival_cutoff] <- 1\n",
    "  alive_at_cutoff[time < survival_cutoff ] <- 0 \n",
    "} )\n",
    "\n",
    "head(clung)"
   ]
  },
  {
   "cell_type": "markdown",
   "id": "44f82b6a-555f-43ce-9b51-4c228e7dcd8e",
   "metadata": {},
   "source": [
    "## set the random seed for reproducability"
   ]
  },
  {
   "cell_type": "code",
   "execution_count": 17,
   "id": "5405535a-716d-4c04-84bb-6c0830999092",
   "metadata": {
    "tags": []
   },
   "outputs": [],
   "source": [
    "# set the random seed for reproducibility \n",
    "set.seed(17) "
   ]
  },
  {
   "cell_type": "markdown",
   "id": "a424639c-0bcd-433d-b930-66219621324c",
   "metadata": {},
   "source": [
    "## Define the function that builds the tree and computes logloss\n",
    "\n",
    "The function takes as input various hyperparameters. \n",
    "This returns a list with the logloss value and the actual model (so we can plot it)."
   ]
  },
  {
   "cell_type": "code",
   "execution_count": 18,
   "id": "c9185dcd-d914-4635-86bf-eebad5eb8311",
   "metadata": {},
   "outputs": [],
   "source": [
    "## build tree function\n",
    "build.tree<-function(train.data, valid.data, minsplit, minbucket, maxdepth, cp) {\n",
    "  # construct a decision tree classification model   \n",
    "  tree_model <- rpart::rpart(alive_at_cutoff ~ age + sex + meal.cal + wt.loss, \n",
    "                             data = train.data, method = \"class\", control=c(minsplit=minsplit,\n",
    "                                                                       minbucket=minbucket,\n",
    "                                                                       maxdepth=maxdepth,\n",
    "                                                                       cp=cp))\n",
    "\n",
    "  # predict the probabilities on test data\n",
    "  tree_predictions <- predict(tree_model, valid.data, type = 'prob')\n",
    "  # calculate log loss for validation data\n",
    "  r2 <- MLmetrics::LogLoss(tree_predictions[,2], \n",
    "                           as.numeric(as.character(valid.data$alive_at_cutoff)))  \n",
    "  \n",
    "  return(list(logloss=r2, model=tree_model))\n",
    "}"
   ]
  },
  {
   "cell_type": "markdown",
   "id": "cccb6d90-b316-4c39-ac8c-59373f3f9c7f",
   "metadata": {},
   "source": [
    "## Split the Dataset"
   ]
  },
  {
   "cell_type": "code",
   "execution_count": 19,
   "id": "01da45b0-6a2e-4177-addc-d3136fec8662",
   "metadata": {},
   "outputs": [],
   "source": [
    "# split the dataset\n",
    "# partition clung into train, validate and test portions as per train_data_split \n",
    "# and stratified to the ratio of Yes:No in alive_at_cutoff\n",
    "inds <- splitTools::partition(clung$alive_at_cutoff, \n",
    "                              p = c(train = 0.6, valid = 0.2, test = 0.2))\n",
    "train <- clung[inds$train, ]  # retrieve train data\n",
    "valid<- clung[inds$valid,]   # retrieve the validation data\n",
    "test  <- clung[inds$test, ]   # retrieve test data"
   ]
  },
  {
   "cell_type": "markdown",
   "id": "b63d0674-8d4c-437a-9937-179923afe1e5",
   "metadata": {},
   "source": [
    "## Perform grid search hyperparameter tuning"
   ]
  },
  {
   "cell_type": "code",
   "execution_count": 20,
   "id": "226a3b06-c8cb-4607-9e58-0359fe0d7193",
   "metadata": {},
   "outputs": [
    {
     "name": "stdout",
     "output_type": "stream",
     "text": [
      "Best parameters:\n",
      "  minsplit minbucket maxdepth    cp\n",
      "1        5       200        1 0.001\n",
      "\n",
      "The lowest logloss is:[1] 0.6137554\n",
      "\n"
     ]
    }
   ],
   "source": [
    "# define the hyperparameter grid\n",
    "gr <- expand.grid(minsplit=c(5,20), minbucket=c(200,5,10), maxdepth = c(1, 3, 5, 7), cp=c(0.001, 0.01, 0.05, 0.1))\n",
    "\n",
    "# print(gr) ### this is an example of how to print a list\n",
    "\n",
    "eval.results<-sapply(1:nrow(gr), function(i)\n",
    "              {\n",
    "                  build.tree(train, valid, gr[i,1], gr[i,2], gr[i,3], gr[i,4])$logloss\n",
    "              })\n",
    "\n",
    "# print(eval.results)\n",
    "\n",
    "best.index <- which.min(eval.results)\n",
    "best.param <- gr[which.min(eval.results),]\n",
    "\n",
    "cat(\"Best parameters:\\n\"); print(best.param)\n",
    "\n",
    "test.result<-build.tree(rbind(train, valid), test, gr[best.index,1], \n",
    "                                                   gr[best.index,2], \n",
    "                                                   gr[best.index,3], \n",
    "                                                   gr[best.index,4])   \n",
    "\n",
    "cat(\"\\nThe lowest logloss is:\");\n",
    "print(test.result$logloss); cat(\"\\n\")"
   ]
  },
  {
   "cell_type": "code",
   "execution_count": null,
   "id": "3126349c-4278-405a-ad8f-85078c7ceb3c",
   "metadata": {},
   "outputs": [],
   "source": []
  }
 ],
 "metadata": {
  "kernelspec": {
   "display_name": "R",
   "language": "R",
   "name": "ir"
  },
  "language_info": {
   "codemirror_mode": "r",
   "file_extension": ".r",
   "mimetype": "text/x-r-source",
   "name": "R",
   "pygments_lexer": "r",
   "version": "4.3.1"
  },
  "widgets": {
   "application/vnd.jupyter.widget-state+json": {
    "state": {},
    "version_major": 2,
    "version_minor": 0
   }
  }
 },
 "nbformat": 4,
 "nbformat_minor": 5
}
