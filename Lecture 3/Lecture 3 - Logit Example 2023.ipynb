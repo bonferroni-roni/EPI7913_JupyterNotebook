{
 "cells": [
  {
   "cell_type": "markdown",
   "id": "d25656c7-d4b0-4408-a97a-079f2c081b0e",
   "metadata": {},
   "source": [
    "# Lecture 3 - Building a logistic regression model on the lung data"
   ]
  },
  {
   "cell_type": "markdown",
   "id": "bfd6e759-4b73-491c-aaaa-87e747264afc",
   "metadata": {
    "tags": []
   },
   "source": [
    "## Consider the *lung* data set available form the EPI7913A package\n",
    "### Load the lung data set form last class"
   ]
  },
  {
   "cell_type": "code",
   "execution_count": 1,
   "id": "1836543f-d27e-479f-993f-e087e903c019",
   "metadata": {
    "tags": []
   },
   "outputs": [
    {
     "data": {
      "text/html": [
       "<table class=\"dataframe\">\n",
       "<caption>A data.frame: 6 × 12</caption>\n",
       "<thead>\n",
       "\t<tr><th></th><th scope=col>inst</th><th scope=col>time</th><th scope=col>status</th><th scope=col>age</th><th scope=col>sex</th><th scope=col>ph.ecog</th><th scope=col>ph.karno</th><th scope=col>pat.karno</th><th scope=col>meal.cal</th><th scope=col>wt.loss</th><th scope=col>status.category</th><th scope=col>sex.category</th></tr>\n",
       "\t<tr><th></th><th scope=col>&lt;int&gt;</th><th scope=col>&lt;int&gt;</th><th scope=col>&lt;int&gt;</th><th scope=col>&lt;int&gt;</th><th scope=col>&lt;int&gt;</th><th scope=col>&lt;int&gt;</th><th scope=col>&lt;int&gt;</th><th scope=col>&lt;int&gt;</th><th scope=col>&lt;int&gt;</th><th scope=col>&lt;int&gt;</th><th scope=col>&lt;chr&gt;</th><th scope=col>&lt;chr&gt;</th></tr>\n",
       "</thead>\n",
       "<tbody>\n",
       "\t<tr><th scope=row>1</th><td> 3</td><td> 306</td><td>2</td><td>74</td><td>1</td><td>1</td><td> 90</td><td>100</td><td>1175</td><td>NA</td><td>dead    </td><td>Male</td></tr>\n",
       "\t<tr><th scope=row>2</th><td> 3</td><td> 455</td><td>2</td><td>68</td><td>1</td><td>0</td><td> 90</td><td> 90</td><td>1225</td><td>15</td><td>dead    </td><td>Male</td></tr>\n",
       "\t<tr><th scope=row>3</th><td> 3</td><td>1010</td><td>1</td><td>56</td><td>1</td><td>0</td><td> 90</td><td> 90</td><td>  NA</td><td>15</td><td>censored</td><td>Male</td></tr>\n",
       "\t<tr><th scope=row>4</th><td> 5</td><td> 210</td><td>2</td><td>57</td><td>1</td><td>1</td><td> 90</td><td> 60</td><td>1150</td><td>11</td><td>dead    </td><td>Male</td></tr>\n",
       "\t<tr><th scope=row>5</th><td> 1</td><td> 883</td><td>2</td><td>60</td><td>1</td><td>0</td><td>100</td><td> 90</td><td>  NA</td><td> 0</td><td>dead    </td><td>Male</td></tr>\n",
       "\t<tr><th scope=row>6</th><td>12</td><td>1022</td><td>1</td><td>74</td><td>1</td><td>1</td><td> 50</td><td> 80</td><td> 513</td><td> 0</td><td>censored</td><td>Male</td></tr>\n",
       "</tbody>\n",
       "</table>\n"
      ],
      "text/latex": [
       "A data.frame: 6 × 12\n",
       "\\begin{tabular}{r|llllllllllll}\n",
       "  & inst & time & status & age & sex & ph.ecog & ph.karno & pat.karno & meal.cal & wt.loss & status.category & sex.category\\\\\n",
       "  & <int> & <int> & <int> & <int> & <int> & <int> & <int> & <int> & <int> & <int> & <chr> & <chr>\\\\\n",
       "\\hline\n",
       "\t1 &  3 &  306 & 2 & 74 & 1 & 1 &  90 & 100 & 1175 & NA & dead     & Male\\\\\n",
       "\t2 &  3 &  455 & 2 & 68 & 1 & 0 &  90 &  90 & 1225 & 15 & dead     & Male\\\\\n",
       "\t3 &  3 & 1010 & 1 & 56 & 1 & 0 &  90 &  90 &   NA & 15 & censored & Male\\\\\n",
       "\t4 &  5 &  210 & 2 & 57 & 1 & 1 &  90 &  60 & 1150 & 11 & dead     & Male\\\\\n",
       "\t5 &  1 &  883 & 2 & 60 & 1 & 0 & 100 &  90 &   NA &  0 & dead     & Male\\\\\n",
       "\t6 & 12 & 1022 & 1 & 74 & 1 & 1 &  50 &  80 &  513 &  0 & censored & Male\\\\\n",
       "\\end{tabular}\n"
      ],
      "text/markdown": [
       "\n",
       "A data.frame: 6 × 12\n",
       "\n",
       "| <!--/--> | inst &lt;int&gt; | time &lt;int&gt; | status &lt;int&gt; | age &lt;int&gt; | sex &lt;int&gt; | ph.ecog &lt;int&gt; | ph.karno &lt;int&gt; | pat.karno &lt;int&gt; | meal.cal &lt;int&gt; | wt.loss &lt;int&gt; | status.category &lt;chr&gt; | sex.category &lt;chr&gt; |\n",
       "|---|---|---|---|---|---|---|---|---|---|---|---|---|\n",
       "| 1 |  3 |  306 | 2 | 74 | 1 | 1 |  90 | 100 | 1175 | NA | dead     | Male |\n",
       "| 2 |  3 |  455 | 2 | 68 | 1 | 0 |  90 |  90 | 1225 | 15 | dead     | Male |\n",
       "| 3 |  3 | 1010 | 1 | 56 | 1 | 0 |  90 |  90 |   NA | 15 | censored | Male |\n",
       "| 4 |  5 |  210 | 2 | 57 | 1 | 1 |  90 |  60 | 1150 | 11 | dead     | Male |\n",
       "| 5 |  1 |  883 | 2 | 60 | 1 | 0 | 100 |  90 |   NA |  0 | dead     | Male |\n",
       "| 6 | 12 | 1022 | 1 | 74 | 1 | 1 |  50 |  80 |  513 |  0 | censored | Male |\n",
       "\n"
      ],
      "text/plain": [
       "  inst time status age sex ph.ecog ph.karno pat.karno meal.cal wt.loss\n",
       "1  3    306 2      74  1   1        90      100       1175     NA     \n",
       "2  3    455 2      68  1   0        90       90       1225     15     \n",
       "3  3   1010 1      56  1   0        90       90         NA     15     \n",
       "4  5    210 2      57  1   1        90       60       1150     11     \n",
       "5  1    883 2      60  1   0       100       90         NA      0     \n",
       "6 12   1022 1      74  1   1        50       80        513      0     \n",
       "  status.category sex.category\n",
       "1 dead            Male        \n",
       "2 dead            Male        \n",
       "3 censored        Male        \n",
       "4 dead            Male        \n",
       "5 dead            Male        \n",
       "6 censored        Male        "
      ]
     },
     "metadata": {},
     "output_type": "display_data"
    }
   ],
   "source": [
    "clung <- epi7913A::lung\n",
    "head(clung)"
   ]
  },
  {
   "cell_type": "markdown",
   "id": "385a40d9-8b5c-4887-a961-d2f2d2216c2c",
   "metadata": {},
   "source": [
    "### Remove the two categorical columns we added last time!"
   ]
  },
  {
   "cell_type": "code",
   "execution_count": 2,
   "id": "ddd8e6cd-13cf-4e8d-ae9a-6b713cc5ab32",
   "metadata": {
    "tags": []
   },
   "outputs": [
    {
     "data": {
      "text/html": [
       "<table class=\"dataframe\">\n",
       "<caption>A data.frame: 6 × 10</caption>\n",
       "<thead>\n",
       "\t<tr><th></th><th scope=col>inst</th><th scope=col>time</th><th scope=col>status</th><th scope=col>age</th><th scope=col>sex</th><th scope=col>ph.ecog</th><th scope=col>ph.karno</th><th scope=col>pat.karno</th><th scope=col>meal.cal</th><th scope=col>wt.loss</th></tr>\n",
       "\t<tr><th></th><th scope=col>&lt;int&gt;</th><th scope=col>&lt;int&gt;</th><th scope=col>&lt;int&gt;</th><th scope=col>&lt;int&gt;</th><th scope=col>&lt;int&gt;</th><th scope=col>&lt;int&gt;</th><th scope=col>&lt;int&gt;</th><th scope=col>&lt;int&gt;</th><th scope=col>&lt;int&gt;</th><th scope=col>&lt;int&gt;</th></tr>\n",
       "</thead>\n",
       "<tbody>\n",
       "\t<tr><th scope=row>2</th><td> 3</td><td> 455</td><td>2</td><td>68</td><td>1</td><td>0</td><td>90</td><td>90</td><td>1225</td><td>15</td></tr>\n",
       "\t<tr><th scope=row>4</th><td> 5</td><td> 210</td><td>2</td><td>57</td><td>1</td><td>1</td><td>90</td><td>60</td><td>1150</td><td>11</td></tr>\n",
       "\t<tr><th scope=row>6</th><td>12</td><td>1022</td><td>1</td><td>74</td><td>1</td><td>1</td><td>50</td><td>80</td><td> 513</td><td> 0</td></tr>\n",
       "\t<tr><th scope=row>7</th><td> 7</td><td> 310</td><td>2</td><td>68</td><td>2</td><td>2</td><td>70</td><td>60</td><td> 384</td><td>10</td></tr>\n",
       "\t<tr><th scope=row>8</th><td>11</td><td> 361</td><td>2</td><td>71</td><td>2</td><td>2</td><td>60</td><td>80</td><td> 538</td><td> 1</td></tr>\n",
       "\t<tr><th scope=row>9</th><td> 1</td><td> 218</td><td>2</td><td>53</td><td>1</td><td>1</td><td>70</td><td>80</td><td> 825</td><td>16</td></tr>\n",
       "</tbody>\n",
       "</table>\n"
      ],
      "text/latex": [
       "A data.frame: 6 × 10\n",
       "\\begin{tabular}{r|llllllllll}\n",
       "  & inst & time & status & age & sex & ph.ecog & ph.karno & pat.karno & meal.cal & wt.loss\\\\\n",
       "  & <int> & <int> & <int> & <int> & <int> & <int> & <int> & <int> & <int> & <int>\\\\\n",
       "\\hline\n",
       "\t2 &  3 &  455 & 2 & 68 & 1 & 0 & 90 & 90 & 1225 & 15\\\\\n",
       "\t4 &  5 &  210 & 2 & 57 & 1 & 1 & 90 & 60 & 1150 & 11\\\\\n",
       "\t6 & 12 & 1022 & 1 & 74 & 1 & 1 & 50 & 80 &  513 &  0\\\\\n",
       "\t7 &  7 &  310 & 2 & 68 & 2 & 2 & 70 & 60 &  384 & 10\\\\\n",
       "\t8 & 11 &  361 & 2 & 71 & 2 & 2 & 60 & 80 &  538 &  1\\\\\n",
       "\t9 &  1 &  218 & 2 & 53 & 1 & 1 & 70 & 80 &  825 & 16\\\\\n",
       "\\end{tabular}\n"
      ],
      "text/markdown": [
       "\n",
       "A data.frame: 6 × 10\n",
       "\n",
       "| <!--/--> | inst &lt;int&gt; | time &lt;int&gt; | status &lt;int&gt; | age &lt;int&gt; | sex &lt;int&gt; | ph.ecog &lt;int&gt; | ph.karno &lt;int&gt; | pat.karno &lt;int&gt; | meal.cal &lt;int&gt; | wt.loss &lt;int&gt; |\n",
       "|---|---|---|---|---|---|---|---|---|---|---|\n",
       "| 2 |  3 |  455 | 2 | 68 | 1 | 0 | 90 | 90 | 1225 | 15 |\n",
       "| 4 |  5 |  210 | 2 | 57 | 1 | 1 | 90 | 60 | 1150 | 11 |\n",
       "| 6 | 12 | 1022 | 1 | 74 | 1 | 1 | 50 | 80 |  513 |  0 |\n",
       "| 7 |  7 |  310 | 2 | 68 | 2 | 2 | 70 | 60 |  384 | 10 |\n",
       "| 8 | 11 |  361 | 2 | 71 | 2 | 2 | 60 | 80 |  538 |  1 |\n",
       "| 9 |  1 |  218 | 2 | 53 | 1 | 1 | 70 | 80 |  825 | 16 |\n",
       "\n"
      ],
      "text/plain": [
       "  inst time status age sex ph.ecog ph.karno pat.karno meal.cal wt.loss\n",
       "2  3    455 2      68  1   0       90       90        1225     15     \n",
       "4  5    210 2      57  1   1       90       60        1150     11     \n",
       "6 12   1022 1      74  1   1       50       80         513      0     \n",
       "7  7    310 2      68  2   2       70       60         384     10     \n",
       "8 11    361 2      71  2   2       60       80         538      1     \n",
       "9  1    218 2      53  1   1       70       80         825     16     "
      ]
     },
     "metadata": {},
     "output_type": "display_data"
    }
   ],
   "source": [
    "# clean up – remove the extra columns we added in the previous class!\n",
    "# and make a copy of data to clung and remove and rows that contain NA\n",
    "clung <- clung[,-11:-12]\n",
    "clung <- clung[complete.cases(clung),]\n",
    "head(clung)"
   ]
  },
  {
   "cell_type": "markdown",
   "id": "03ab9812-abc6-4716-98fe-9eb2756b8858",
   "metadata": {
    "tags": []
   },
   "source": [
    "## Initialize data splitting ratio, the number of iterations to randomly repeat the experiment "
   ]
  },
  {
   "cell_type": "code",
   "execution_count": 3,
   "id": "28de84a5-2a72-4ad1-805f-abe7738df454",
   "metadata": {
    "tags": []
   },
   "outputs": [],
   "source": [
    "# initialize parameters for the experiment\n",
    "train_data_split = 0.6   # 0.6 for training and 1-0.6 for testing\n",
    "iterations = 1000        # 10 repeated runs -- this is set to 1000 in the notes!"
   ]
  },
  {
   "cell_type": "markdown",
   "id": "10f2a5f0-b673-499e-a0dd-cd81fc862133",
   "metadata": {},
   "source": [
    "## Initialize the outcome (alive_at_cutoff) as binary indicating if survival >= survival_cutoff "
   ]
  },
  {
   "cell_type": "code",
   "execution_count": 4,
   "id": "9f720af9-8b22-4fbf-a9fc-5497de4c2f9f",
   "metadata": {
    "tags": []
   },
   "outputs": [
    {
     "data": {
      "text/html": [
       "<table class=\"dataframe\">\n",
       "<caption>A data.frame: 6 × 11</caption>\n",
       "<thead>\n",
       "\t<tr><th></th><th scope=col>inst</th><th scope=col>time</th><th scope=col>status</th><th scope=col>age</th><th scope=col>sex</th><th scope=col>ph.ecog</th><th scope=col>ph.karno</th><th scope=col>pat.karno</th><th scope=col>meal.cal</th><th scope=col>wt.loss</th><th scope=col>alive_at_cutoff</th></tr>\n",
       "\t<tr><th></th><th scope=col>&lt;int&gt;</th><th scope=col>&lt;int&gt;</th><th scope=col>&lt;int&gt;</th><th scope=col>&lt;int&gt;</th><th scope=col>&lt;int&gt;</th><th scope=col>&lt;int&gt;</th><th scope=col>&lt;int&gt;</th><th scope=col>&lt;int&gt;</th><th scope=col>&lt;int&gt;</th><th scope=col>&lt;int&gt;</th><th scope=col>&lt;dbl&gt;</th></tr>\n",
       "</thead>\n",
       "<tbody>\n",
       "\t<tr><th scope=row>2</th><td> 3</td><td> 455</td><td>2</td><td>68</td><td>1</td><td>0</td><td>90</td><td>90</td><td>1225</td><td>15</td><td>1</td></tr>\n",
       "\t<tr><th scope=row>4</th><td> 5</td><td> 210</td><td>2</td><td>57</td><td>1</td><td>1</td><td>90</td><td>60</td><td>1150</td><td>11</td><td>1</td></tr>\n",
       "\t<tr><th scope=row>6</th><td>12</td><td>1022</td><td>1</td><td>74</td><td>1</td><td>1</td><td>50</td><td>80</td><td> 513</td><td> 0</td><td>1</td></tr>\n",
       "\t<tr><th scope=row>7</th><td> 7</td><td> 310</td><td>2</td><td>68</td><td>2</td><td>2</td><td>70</td><td>60</td><td> 384</td><td>10</td><td>1</td></tr>\n",
       "\t<tr><th scope=row>8</th><td>11</td><td> 361</td><td>2</td><td>71</td><td>2</td><td>2</td><td>60</td><td>80</td><td> 538</td><td> 1</td><td>1</td></tr>\n",
       "\t<tr><th scope=row>9</th><td> 1</td><td> 218</td><td>2</td><td>53</td><td>1</td><td>1</td><td>70</td><td>80</td><td> 825</td><td>16</td><td>1</td></tr>\n",
       "</tbody>\n",
       "</table>\n"
      ],
      "text/latex": [
       "A data.frame: 6 × 11\n",
       "\\begin{tabular}{r|lllllllllll}\n",
       "  & inst & time & status & age & sex & ph.ecog & ph.karno & pat.karno & meal.cal & wt.loss & alive\\_at\\_cutoff\\\\\n",
       "  & <int> & <int> & <int> & <int> & <int> & <int> & <int> & <int> & <int> & <int> & <dbl>\\\\\n",
       "\\hline\n",
       "\t2 &  3 &  455 & 2 & 68 & 1 & 0 & 90 & 90 & 1225 & 15 & 1\\\\\n",
       "\t4 &  5 &  210 & 2 & 57 & 1 & 1 & 90 & 60 & 1150 & 11 & 1\\\\\n",
       "\t6 & 12 & 1022 & 1 & 74 & 1 & 1 & 50 & 80 &  513 &  0 & 1\\\\\n",
       "\t7 &  7 &  310 & 2 & 68 & 2 & 2 & 70 & 60 &  384 & 10 & 1\\\\\n",
       "\t8 & 11 &  361 & 2 & 71 & 2 & 2 & 60 & 80 &  538 &  1 & 1\\\\\n",
       "\t9 &  1 &  218 & 2 & 53 & 1 & 1 & 70 & 80 &  825 & 16 & 1\\\\\n",
       "\\end{tabular}\n"
      ],
      "text/markdown": [
       "\n",
       "A data.frame: 6 × 11\n",
       "\n",
       "| <!--/--> | inst &lt;int&gt; | time &lt;int&gt; | status &lt;int&gt; | age &lt;int&gt; | sex &lt;int&gt; | ph.ecog &lt;int&gt; | ph.karno &lt;int&gt; | pat.karno &lt;int&gt; | meal.cal &lt;int&gt; | wt.loss &lt;int&gt; | alive_at_cutoff &lt;dbl&gt; |\n",
       "|---|---|---|---|---|---|---|---|---|---|---|---|\n",
       "| 2 |  3 |  455 | 2 | 68 | 1 | 0 | 90 | 90 | 1225 | 15 | 1 |\n",
       "| 4 |  5 |  210 | 2 | 57 | 1 | 1 | 90 | 60 | 1150 | 11 | 1 |\n",
       "| 6 | 12 | 1022 | 1 | 74 | 1 | 1 | 50 | 80 |  513 |  0 | 1 |\n",
       "| 7 |  7 |  310 | 2 | 68 | 2 | 2 | 70 | 60 |  384 | 10 | 1 |\n",
       "| 8 | 11 |  361 | 2 | 71 | 2 | 2 | 60 | 80 |  538 |  1 | 1 |\n",
       "| 9 |  1 |  218 | 2 | 53 | 1 | 1 | 70 | 80 |  825 | 16 | 1 |\n",
       "\n"
      ],
      "text/plain": [
       "  inst time status age sex ph.ecog ph.karno pat.karno meal.cal wt.loss\n",
       "2  3    455 2      68  1   0       90       90        1225     15     \n",
       "4  5    210 2      57  1   1       90       60        1150     11     \n",
       "6 12   1022 1      74  1   1       50       80         513      0     \n",
       "7  7    310 2      68  2   2       70       60         384     10     \n",
       "8 11    361 2      71  2   2       60       80         538      1     \n",
       "9  1    218 2      53  1   1       70       80         825     16     \n",
       "  alive_at_cutoff\n",
       "2 1              \n",
       "4 1              \n",
       "6 1              \n",
       "7 1              \n",
       "8 1              \n",
       "9 1              "
      ]
     },
     "metadata": {},
     "output_type": "display_data"
    }
   ],
   "source": [
    "survival_cutoff = 365/2  # survival cutoff is 6 months = 365/2\n",
    "# construct the outcome of 1 for those who survive on or above \n",
    "# the cutoff value, 0 otherwise\n",
    "clung <- within(clung, { \n",
    "  alive_at_cutoff <- NA; #initialize a new column\n",
    "  alive_at_cutoff[time >= survival_cutoff] <- 1\n",
    "  alive_at_cutoff[time < survival_cutoff ] <- 0 \n",
    "} )\n",
    "\n",
    "head(clung)"
   ]
  },
  {
   "cell_type": "markdown",
   "id": "c0a16d12-fd16-47cf-84f8-abda911efca8",
   "metadata": {},
   "source": [
    "## set the random seed for reproducability and allocate the results table"
   ]
  },
  {
   "cell_type": "code",
   "execution_count": 6,
   "id": "5de76322-0ef0-4ae1-95de-bce8f473f86d",
   "metadata": {
    "tags": []
   },
   "outputs": [
    {
     "data": {
      "text/html": [
       "<table class=\"dataframe\">\n",
       "<caption>A matrix: 6 × 2 of type lgl</caption>\n",
       "<thead>\n",
       "\t<tr><th scope=col>logLoss_train</th><th scope=col>logLoss_test</th></tr>\n",
       "</thead>\n",
       "<tbody>\n",
       "\t<tr><td>NA</td><td>NA</td></tr>\n",
       "\t<tr><td>NA</td><td>NA</td></tr>\n",
       "\t<tr><td>NA</td><td>NA</td></tr>\n",
       "\t<tr><td>NA</td><td>NA</td></tr>\n",
       "\t<tr><td>NA</td><td>NA</td></tr>\n",
       "\t<tr><td>NA</td><td>NA</td></tr>\n",
       "</tbody>\n",
       "</table>\n"
      ],
      "text/latex": [
       "A matrix: 6 × 2 of type lgl\n",
       "\\begin{tabular}{ll}\n",
       " logLoss\\_train & logLoss\\_test\\\\\n",
       "\\hline\n",
       "\t NA & NA\\\\\n",
       "\t NA & NA\\\\\n",
       "\t NA & NA\\\\\n",
       "\t NA & NA\\\\\n",
       "\t NA & NA\\\\\n",
       "\t NA & NA\\\\\n",
       "\\end{tabular}\n"
      ],
      "text/markdown": [
       "\n",
       "A matrix: 6 × 2 of type lgl\n",
       "\n",
       "| logLoss_train | logLoss_test |\n",
       "|---|---|\n",
       "| NA | NA |\n",
       "| NA | NA |\n",
       "| NA | NA |\n",
       "| NA | NA |\n",
       "| NA | NA |\n",
       "| NA | NA |\n",
       "\n"
      ],
      "text/plain": [
       "     logLoss_train logLoss_test\n",
       "[1,] NA            NA          \n",
       "[2,] NA            NA          \n",
       "[3,] NA            NA          \n",
       "[4,] NA            NA          \n",
       "[5,] NA            NA          \n",
       "[6,] NA            NA          "
      ]
     },
     "metadata": {},
     "output_type": "display_data"
    }
   ],
   "source": [
    "# set the random seed for reproducibility \n",
    "set.seed(17) \n",
    "\n",
    "# allocate a matrix to capture the logloss values for each iteration of the experiment\n",
    "evaluation_results = matrix(,nrow=iterations, ncol=2)\n",
    "colnames(evaluation_results) <- c(\"logLoss_train\", \"logLoss_test\")\n",
    "head(evaluation_results)"
   ]
  },
  {
   "cell_type": "markdown",
   "id": "d1ebcc91-eac3-4192-aa46-e81343b52e41",
   "metadata": {},
   "source": [
    "## The main body of the experiment\n",
    "\n",
    "## For a number of iterations:\n",
    "  - ### Partition *clung* into train and test portions as defined by train_data_split and stratified to the ratio of Yes:No in alive_at_cutoff\n",
    "  - ### Retrieve train and test data\n",
    "  - ### Construct a generalizable linear model from \"alive_at_cutoff ~ age + sex\" using a binomial logistic model  \n",
    "  - ### Calculate the logloss of predicted probabilities to actual values in training data (find goodness of fit)\n",
    "  - ### Using th resulting model, predict the probabilities on the test data\n",
    "  - ### Calculate how well the predicted probabilities fit actual values for test data\n",
    "  - ### Record the goodness of fit on training and logloss on test\n"
   ]
  },
  {
   "cell_type": "code",
   "execution_count": 13,
   "id": "7ba815ab-172b-4056-9125-23f88f001dae",
   "metadata": {},
   "outputs": [
    {
     "data": {
      "text/html": [
       "<table class=\"dataframe\">\n",
       "<caption>A matrix: 6 × 2 of type dbl</caption>\n",
       "<thead>\n",
       "\t<tr><th scope=col>logLoss_train</th><th scope=col>logLoss_test</th></tr>\n",
       "</thead>\n",
       "<tbody>\n",
       "\t<tr><td>0.5814083</td><td>0.6114190</td></tr>\n",
       "\t<tr><td>0.6052793</td><td>0.5804936</td></tr>\n",
       "\t<tr><td>0.6007511</td><td>0.5990527</td></tr>\n",
       "\t<tr><td>0.5954205</td><td>0.5858234</td></tr>\n",
       "\t<tr><td>0.5924581</td><td>0.5924891</td></tr>\n",
       "\t<tr><td>0.5860301</td><td>0.6241681</td></tr>\n",
       "</tbody>\n",
       "</table>\n"
      ],
      "text/latex": [
       "A matrix: 6 × 2 of type dbl\n",
       "\\begin{tabular}{ll}\n",
       " logLoss\\_train & logLoss\\_test\\\\\n",
       "\\hline\n",
       "\t 0.5814083 & 0.6114190\\\\\n",
       "\t 0.6052793 & 0.5804936\\\\\n",
       "\t 0.6007511 & 0.5990527\\\\\n",
       "\t 0.5954205 & 0.5858234\\\\\n",
       "\t 0.5924581 & 0.5924891\\\\\n",
       "\t 0.5860301 & 0.6241681\\\\\n",
       "\\end{tabular}\n"
      ],
      "text/markdown": [
       "\n",
       "A matrix: 6 × 2 of type dbl\n",
       "\n",
       "| logLoss_train | logLoss_test |\n",
       "|---|---|\n",
       "| 0.5814083 | 0.6114190 |\n",
       "| 0.6052793 | 0.5804936 |\n",
       "| 0.6007511 | 0.5990527 |\n",
       "| 0.5954205 | 0.5858234 |\n",
       "| 0.5924581 | 0.5924891 |\n",
       "| 0.5860301 | 0.6241681 |\n",
       "\n"
      ],
      "text/plain": [
       "     logLoss_train logLoss_test\n",
       "[1,] 0.5814083     0.6114190   \n",
       "[2,] 0.6052793     0.5804936   \n",
       "[3,] 0.6007511     0.5990527   \n",
       "[4,] 0.5954205     0.5858234   \n",
       "[5,] 0.5924581     0.5924891   \n",
       "[6,] 0.5860301     0.6241681   "
      ]
     },
     "metadata": {},
     "output_type": "display_data"
    }
   ],
   "source": [
    "# for the number of iterations:\n",
    "for (i in 1:iterations) {\n",
    "\n",
    "    # partition clung into train and test portions as defined by train_data_split and stratified to the ratio of Yes:No in alive_at_cutoff\n",
    "  inds <- splitTools::partition(clung$alive_at_cutoff, p = c(train = train_data_split, test = (1 - train_data_split)), type=\"stratified\")\n",
    "\n",
    "  #     retrieve train and test data\n",
    "  train <- clung[inds$train, ]\n",
    "  test  <- clung[inds$test, ]\n",
    "\n",
    "  # construct a generalizable linear model from \"alive_at_cutoff ~ age + sex\" using a binomial logistic model  \n",
    "  glm_model <- glm(alive_at_cutoff ~   age + sex  , data = train, family=binomial(link = \"logit\"))\n",
    "  \n",
    "  # calculate the log loss of predicted probabilities to actual values in training data (find goodness of fit)\n",
    "  r1 <- MLmetrics::LogLoss(glm_model$fitted.values, train$alive_at_cutoff)\n",
    "  \n",
    "  # using th resulting model, predict the probabilities on the test data\n",
    "  glm_probs <- predict(glm_model,newdata = test,type = \"response\")\n",
    "  \n",
    "  # calculate how well the predicted probabilities fit actual values for test data\n",
    "  r2 <- MLmetrics::LogLoss(glm_probs, test$alive_at_cutoff)\n",
    "  \n",
    "  # record the goodness of fit on training and logloss on test\n",
    "  evaluation_results[i,] <- c(r1,r2)\n",
    "}\n",
    "\n",
    "head(evaluation_results)"
   ]
  },
  {
   "cell_type": "code",
   "execution_count": 14,
   "id": "f90bec91-1f66-4dda-a909-1c3e52d125f5",
   "metadata": {
    "tags": []
   },
   "outputs": [
    {
     "data": {
      "text/plain": [
       "\n",
       "Call:  glm(formula = alive_at_cutoff ~ age + sex, family = binomial(link = \"logit\"), \n",
       "    data = train)\n",
       "\n",
       "Coefficients:\n",
       "(Intercept)          age          sex  \n",
       "   0.132080    -0.003439     0.677788  \n",
       "\n",
       "Degrees of Freedom: 99 Total (i.e. Null);  97 Residual\n",
       "Null Deviance:\t    122.2 \n",
       "Residual Deviance: 120 \tAIC: 126"
      ]
     },
     "metadata": {},
     "output_type": "display_data"
    }
   ],
   "source": [
    "glm_model\n"
   ]
  },
  {
   "cell_type": "markdown",
   "id": "482a620e-ef22-4b27-8197-fd4343035e07",
   "metadata": {},
   "source": [
    "## Plot the logLoss values collected formt eh various runs"
   ]
  },
  {
   "cell_type": "code",
   "execution_count": 15,
   "id": "26e17df8-e358-4407-bafc-3f5b6ac4ac5f",
   "metadata": {
    "tags": []
   },
   "outputs": [
    {
     "data": {
      "image/png": "[encoded data removed]",
      "text/plain": [
       "Plot with title “log loss on training and testing data”"
      ]
     },
     "metadata": {
      "image/png": {
       "height": 420,
       "width": 420
      }
     },
     "output_type": "display_data"
    }
   ],
   "source": [
    "# plot box plots of log los values on training and on testing\n",
    "boxplot(evaluation_results, col = c(\"cornsilk\",\"cornflowerblue\"), \n",
    "        ylab = \"log Loss\", main = \"log loss on training and testing data\")"
   ]
  },
  {
   "cell_type": "code",
   "execution_count": null,
   "id": "ed6068ff-7b7c-4f6c-9263-960bb3a1b8b9",
   "metadata": {},
   "outputs": [],
   "source": []
  }
 ],
 "metadata": {
  "kernelspec": {
   "display_name": "R",
   "language": "R",
   "name": "ir"
  },
  "language_info": {
   "codemirror_mode": "r",
   "file_extension": ".r",
   "mimetype": "text/x-r-source",
   "name": "R",
   "pygments_lexer": "r",
   "version": "4.3.1"
  },
  "widgets": {
   "application/vnd.jupyter.widget-state+json": {
    "state": {},
    "version_major": 2,
    "version_minor": 0
   }
  }
 },
 "nbformat": 4,
 "nbformat_minor": 5
}
