{
 "cells": [
  {
   "cell_type": "markdown",
   "id": "642d8193-1ebb-4587-b329-58484447fa39",
   "metadata": {},
   "source": [
    "# Lecture 6 - Adjusting class imbalance\n",
    "\n",
    "Load the COVID data set"
   ]
  },
  {
   "cell_type": "code",
   "execution_count": 29,
   "id": "98594b7e-4a43-43c2-88a9-8dbe0137ba03",
   "metadata": {
    "tags": []
   },
   "outputs": [
    {
     "data": {
      "text/html": [
       "<table class=\"dataframe\">\n",
       "<caption>A data.frame: 6 × 6</caption>\n",
       "<thead>\n",
       "\t<tr><th></th><th scope=col>case_status</th><th scope=col>age_group</th><th scope=col>gender</th><th scope=col>date_reported</th><th scope=col>exposure</th><th scope=col>health_region</th></tr>\n",
       "\t<tr><th></th><th scope=col>&lt;dbl&gt;</th><th scope=col>&lt;fct&gt;</th><th scope=col>&lt;fct&gt;</th><th scope=col>&lt;dbl&gt;</th><th scope=col>&lt;fct&gt;</th><th scope=col>&lt;fct&gt;</th></tr>\n",
       "</thead>\n",
       "<tbody>\n",
       "\t<tr><th scope=row>1</th><td>0</td><td>40-49</td><td>Female</td><td>285.4583</td><td>Close Contact</td><td>York Region Public Health Services      </td></tr>\n",
       "\t<tr><th scope=row>2</th><td>0</td><td><span style=white-space:pre-wrap>&lt;20  </span></td><td><span style=white-space:pre-wrap>Male  </span></td><td>297.4583</td><td>Close Contact</td><td><span style=white-space:pre-wrap>York Region Public Health Services      </span></td></tr>\n",
       "\t<tr><th scope=row>3</th><td>0</td><td>50-59</td><td>Male  </td><td>274.4583</td><td>Not Reported </td><td>Peel Public Health                      </td></tr>\n",
       "\t<tr><th scope=row>4</th><td>0</td><td>20-29</td><td>Female</td><td>260.4583</td><td>Close Contact</td><td>Halton Region Health Department         </td></tr>\n",
       "\t<tr><th scope=row>5</th><td>0</td><td>30-39</td><td>Female</td><td>307.5000</td><td>Not Reported </td><td>Wellington-Dufferin-Guelph Public Health</td></tr>\n",
       "\t<tr><th scope=row>6</th><td>0</td><td>40-49</td><td>Female</td><td>306.5000</td><td>Close Contact</td><td>Halton Region Health Department         </td></tr>\n",
       "</tbody>\n",
       "</table>\n"
      ],
      "text/latex": [
       "A data.frame: 6 × 6\n",
       "\\begin{tabular}{r|llllll}\n",
       "  & case\\_status & age\\_group & gender & date\\_reported & exposure & health\\_region\\\\\n",
       "  & <dbl> & <fct> & <fct> & <dbl> & <fct> & <fct>\\\\\n",
       "\\hline\n",
       "\t1 & 0 & 40-49 & Female & 285.4583 & Close Contact & York Region Public Health Services      \\\\\n",
       "\t2 & 0 & <20   & Male   & 297.4583 & Close Contact & York Region Public Health Services      \\\\\n",
       "\t3 & 0 & 50-59 & Male   & 274.4583 & Not Reported  & Peel Public Health                      \\\\\n",
       "\t4 & 0 & 20-29 & Female & 260.4583 & Close Contact & Halton Region Health Department         \\\\\n",
       "\t5 & 0 & 30-39 & Female & 307.5000 & Not Reported  & Wellington-Dufferin-Guelph Public Health\\\\\n",
       "\t6 & 0 & 40-49 & Female & 306.5000 & Close Contact & Halton Region Health Department         \\\\\n",
       "\\end{tabular}\n"
      ],
      "text/markdown": [
       "\n",
       "A data.frame: 6 × 6\n",
       "\n",
       "| <!--/--> | case_status &lt;dbl&gt; | age_group &lt;fct&gt; | gender &lt;fct&gt; | date_reported &lt;dbl&gt; | exposure &lt;fct&gt; | health_region &lt;fct&gt; |\n",
       "|---|---|---|---|---|---|---|\n",
       "| 1 | 0 | 40-49 | Female | 285.4583 | Close Contact | York Region Public Health Services       |\n",
       "| 2 | 0 | &lt;20   | Male   | 297.4583 | Close Contact | York Region Public Health Services       |\n",
       "| 3 | 0 | 50-59 | Male   | 274.4583 | Not Reported  | Peel Public Health                       |\n",
       "| 4 | 0 | 20-29 | Female | 260.4583 | Close Contact | Halton Region Health Department          |\n",
       "| 5 | 0 | 30-39 | Female | 307.5000 | Not Reported  | Wellington-Dufferin-Guelph Public Health |\n",
       "| 6 | 0 | 40-49 | Female | 306.5000 | Close Contact | Halton Region Health Department          |\n",
       "\n"
      ],
      "text/plain": [
       "  case_status age_group gender date_reported exposure     \n",
       "1 0           40-49     Female 285.4583      Close Contact\n",
       "2 0           <20       Male   297.4583      Close Contact\n",
       "3 0           50-59     Male   274.4583      Not Reported \n",
       "4 0           20-29     Female 260.4583      Close Contact\n",
       "5 0           30-39     Female 307.5000      Not Reported \n",
       "6 0           40-49     Female 306.5000      Close Contact\n",
       "  health_region                           \n",
       "1 York Region Public Health Services      \n",
       "2 York Region Public Health Services      \n",
       "3 Peel Public Health                      \n",
       "4 Halton Region Health Department         \n",
       "5 Wellington-Dufferin-Guelph Public Health\n",
       "6 Halton Region Health Department         "
      ]
     },
     "metadata": {},
     "output_type": "display_data"
    }
   ],
   "source": [
    "df = epi7913A::oncovid\n",
    "\n",
    "set.seed(171)\n",
    "\n",
    "head(df)"
   ]
  },
  {
   "cell_type": "markdown",
   "id": "a0c9c668-b9da-4fa6-867a-ae834eb3997f",
   "metadata": {},
   "source": [
    "## Check the class balance (outcome variable is *case_status*)"
   ]
  },
  {
   "cell_type": "code",
   "execution_count": 2,
   "id": "82fed1b4-d80c-44d7-b217-ee72a9d5ce60",
   "metadata": {
    "tags": []
   },
   "outputs": [
    {
     "data": {
      "text/plain": [
       "\n",
       "    0     1 \n",
       "87494  3486 "
      ]
     },
     "metadata": {},
     "output_type": "display_data"
    }
   ],
   "source": [
    "table(df$case_status)"
   ]
  },
  {
   "cell_type": "markdown",
   "id": "919e2ab1-f639-44be-95d6-61f6efb16ad5",
   "metadata": {},
   "source": [
    "## Sampling the data for the purpose of balancing\n",
    "### We draw data points in a manner that results in equal number of points in each of the outcome classes (in this case case_status: 0 or 1)\n",
    "\n",
    "\n",
    "## The balancing can be done by:\n",
    "- ## over-sampling,\n",
    "- ## under-sampling, or \n",
    "- ## both\n",
    "\n",
    "\n",
    "## 1. Balancing by over-sampling:\n",
    "### The idea is to sample many more data points from the minority class (with replacement) to even out the distribution to the same size as the majority class."
   ]
  },
  {
   "cell_type": "code",
   "execution_count": 3,
   "id": "773f1779-ae5a-4ef1-93f7-389c1b712eaa",
   "metadata": {
    "tags": []
   },
   "outputs": [
    {
     "name": "stdout",
     "output_type": "stream",
     "text": [
      "The class ratio of the new sample:"
     ]
    },
    {
     "data": {
      "text/plain": [
       "\n",
       "    0     1 \n",
       "87494 87647 "
      ]
     },
     "metadata": {},
     "output_type": "display_data"
    }
   ],
   "source": [
    "# obtain a balanced sample of the data by \"over\" sampling the minority class\n",
    "df_overBalanced <- ROSE::ovun.sample(case_status ~., data=df, p=0.5, seed = 11, method = \"over\")$data\n",
    "\n",
    "# look at the new class ratio\n",
    "cat(\"The class ratio of the new sample:\")\n",
    "table(df_overBalanced$case_status)"
   ]
  },
  {
   "cell_type": "markdown",
   "id": "c2965e42-b366-411d-81a1-dad2e1de8bb0",
   "metadata": {},
   "source": [
    "## 2. Balancing by under-sampling:\n",
    "\n",
    "### The idea is to sample fewer data points from the majority class to even out the distribution to the same size as the minority class"
   ]
  },
  {
   "cell_type": "code",
   "execution_count": 4,
   "id": "a19b8697-839b-4610-976b-fe6abf70a130",
   "metadata": {
    "tags": []
   },
   "outputs": [
    {
     "name": "stdout",
     "output_type": "stream",
     "text": [
      "The class ratio of the new sample:"
     ]
    },
    {
     "data": {
      "text/plain": [
       "\n",
       "   0    1 \n",
       "3513 3486 "
      ]
     },
     "metadata": {},
     "output_type": "display_data"
    }
   ],
   "source": [
    "# obtain a balanced sample of the data by \"under\" sampling the majority class\n",
    "df_underBalanced <- ROSE::ovun.sample(case_status ~., data=df, p=0.5, seed = 11, method = \"under\")$data\n",
    "\n",
    "# look at the new class ratio\n",
    "cat(\"The class ratio of the new sample:\")\n",
    "table(df_underBalanced$case_status)"
   ]
  },
  {
   "cell_type": "markdown",
   "id": "1521f3fd-e15c-41e2-8859-e1a88d6ac86c",
   "metadata": {},
   "source": [
    "## 3. Balancing by both (over- and under-sampling):\n",
    "### The idea is to sample fewer data points from the majority class, as well as, to sample more points from the minority class to achieve a balanced data set in size almost equal to that of the original data set (achieve an even class distribution)."
   ]
  },
  {
   "cell_type": "code",
   "execution_count": 5,
   "id": "4eca75a4-cfd9-43b5-9321-3f71117ef28a",
   "metadata": {
    "tags": []
   },
   "outputs": [
    {
     "name": "stdout",
     "output_type": "stream",
     "text": [
      "The class ratio of the new sample:"
     ]
    },
    {
     "data": {
      "text/plain": [
       "\n",
       "    0     1 \n",
       "45364 45616 "
      ]
     },
     "metadata": {},
     "output_type": "display_data"
    }
   ],
   "source": [
    "# obtain a balanced sample of the data by \"both\" over and under sampling the minority\n",
    "# and the majority classes respectively\n",
    "df_bothBalanced <- ROSE::ovun.sample(case_status ~., data=df, p=0.5, seed = 11, method = \"both\")$data\n",
    "\n",
    "# look at the new class ratio\n",
    "cat(\"The class ratio of the new sample:\")\n",
    "table(df_bothBalanced$case_status)"
   ]
  },
  {
   "cell_type": "markdown",
   "id": "5c164220-a403-4bea-9a49-77b240cc5889",
   "metadata": {
    "tags": []
   },
   "source": [
    "## 3. Balancing by SMOTE:\n",
    "This algorithm simulates additional minority class observations within the range of the existing variables. This implementation expects all of the variables to be numeric."
   ]
  },
  {
   "cell_type": "code",
   "execution_count": 26,
   "id": "cac35399-884d-4ec1-8024-f927303b24fd",
   "metadata": {
    "tags": []
   },
   "outputs": [
    {
     "name": "stdout",
     "output_type": "stream",
     "text": [
      "The class ratio of the new sample:"
     ]
    },
    {
     "data": {
      "text/plain": [
       "\n",
       "    0     1 \n",
       "87494 87494 "
      ]
     },
     "metadata": {},
     "output_type": "display_data"
    }
   ],
   "source": [
    "df$case_status <- as.factor(df$case_status)\n",
    "df$age_group <- as.numeric(df$age_group)\n",
    "df$gender <- as.numeric(df$gender)\n",
    "df$exposure <- as.numeric(df$exposure)\n",
    "df$health_region <- as.numeric(df$health_region)\n",
    "df_smote<-themis::smote(df, var=\"case_status\")\n",
    "         \n",
    "# look at the new class ratio\n",
    "cat(\"The class ratio of the new sample:\")\n",
    "table(df_smote$case_status)"
   ]
  },
  {
   "cell_type": "markdown",
   "id": "bab6d4c6-b5bb-4ce3-8eb8-308f676f4c92",
   "metadata": {},
   "source": [
    "## **Important Note:**\n",
    "\n",
    "### data balancing is considered to be a way of manipulating the data and should only be carried out on the training data to preserve the integrity of the hold out data for testing. In a sense, we preserve the testing strategy to be blinded to how the data is manipulated."
   ]
  }
 ],
 "metadata": {
  "kernelspec": {
   "display_name": "R",
   "language": "R",
   "name": "ir"
  },
  "language_info": {
   "codemirror_mode": "r",
   "file_extension": ".r",
   "mimetype": "text/x-r-source",
   "name": "R",
   "pygments_lexer": "r",
   "version": "4.3.1"
  },
  "widgets": {
   "application/vnd.jupyter.widget-state+json": {
    "state": {},
    "version_major": 2,
    "version_minor": 0
   }
  }
 },
 "nbformat": 4,
 "nbformat_minor": 5
}
