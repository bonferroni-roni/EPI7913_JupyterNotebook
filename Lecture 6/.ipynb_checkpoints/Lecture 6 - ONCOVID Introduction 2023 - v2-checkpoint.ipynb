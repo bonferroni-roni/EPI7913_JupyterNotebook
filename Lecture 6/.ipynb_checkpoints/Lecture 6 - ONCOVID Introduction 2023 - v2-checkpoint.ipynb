{
 "cells": [
  {
   "cell_type": "markdown",
   "id": "cd0498d9-c411-4c6e-ae57-f6ed04529437",
   "metadata": {},
   "source": [
    "# Lecture 6 - Ontario COVID19 Data set (oncovid)\n",
    "\n",
    "## Look up the help description of the dataset in the EPI7913A package"
   ]
  },
  {
   "cell_type": "code",
   "execution_count": 3,
   "id": "abbc91e4-f2e5-41af-8c23-83a2bdbbbc13",
   "metadata": {
    "tags": []
   },
   "outputs": [
    {
     "data": {
      "text/html": [
       "\n",
       "<table style=\"width: 100%;\"><tr><td>oncovid {epi7913A}</td><td style=\"text-align: right;\">R Documentation</td></tr></table>\n",
       "\n",
       "<h2 id='oncovid'>Ontario COVID-19 Data</h2>\n",
       "\n",
       "<h3>Description</h3>\n",
       "\n",
       "<p>This is a public health dataset that was collected until approximately the end of 2020 summarizing the status of individuals who have\n",
       "tested positive for COVID-19. It was used in a study published in [1]. It only covers Ontario.\n",
       "</p>\n",
       "\n",
       "\n",
       "<h3>Usage</h3>\n",
       "\n",
       "<pre><code class='language-R'>oncovid\n",
       "</code></pre>\n",
       "\n",
       "\n",
       "<h3>Format</h3>\n",
       "\n",
       "<p>An object of class <code>data.frame</code> with 90980 rows and 6 columns.\n",
       "</p>\n",
       "\n",
       "\n",
       "<h3>Details</h3>\n",
       "\n",
       "<p>The <code>date_reported</code> variable is the number of days since 1st January 2020. It is a real number because the original dataset had a time as well (it was a datetime filed).\n",
       "This has resulted in values that are real but it can be rounded up in practice.\n",
       "</p>\n",
       "<p>Note that the regression model includes the <code>health_region</code> variable and this has many categories. With the dataset size this is OK but consider additionla variable selection.\n",
       "</p>\n",
       "<p>[1]\tK. El Emam, L. Mosquera, E. Jonker, and H. Sood, “Evaluating the utility of synthetic COVID-19 case data,” JAMIA Open, vol. 4, no. 1, p. ooab012, Jan. 2021, doi: 10.1093/jamiaopen/ooab012.\n",
       "</p>\n",
       "\n",
       "\n",
       "<h3>Source</h3>\n",
       "\n",
       "<p><a href=\"https://academic.oup.com/jamiaopen/article/4/1/ooab012/6155924?login=false\">JAMIA Open</a>\n",
       "</p>\n",
       "\n",
       "\n",
       "<h3>Examples</h3>\n",
       "\n",
       "<pre><code class='language-R'>glm(case_status ~ ., data = sdgd::oncovid, family=\"binomial\")\n",
       "\n",
       "</code></pre>\n",
       "\n",
       "<hr /><div style=\"text-align: center;\">[Package <em>epi7913A</em> version 0.11 ]</div>\n",
       "</div>"
      ],
      "text/latex": [
       "\\inputencoding{utf8}\n",
       "\\HeaderA{oncovid}{Ontario COVID-19 Data}{oncovid}\n",
       "\\keyword{datasets}{oncovid}\n",
       "%\n",
       "\\begin{Description}\n",
       "This is a public health dataset that was collected until approximately the end of 2020 summarizing the status of individuals who have\n",
       "tested positive for COVID-19. It was used in a study published in [1]. It only covers Ontario.\n",
       "\\end{Description}\n",
       "%\n",
       "\\begin{Usage}\n",
       "\\begin{verbatim}\n",
       "oncovid\n",
       "\\end{verbatim}\n",
       "\\end{Usage}\n",
       "%\n",
       "\\begin{Format}\n",
       "An object of class \\code{data.frame} with 90980 rows and 6 columns.\n",
       "\\end{Format}\n",
       "%\n",
       "\\begin{Details}\n",
       "The \\code{date\\_reported} variable is the number of days since 1st January 2020. It is a real number because the original dataset had a time as well (it was a datetime filed).\n",
       "This has resulted in values that are real but it can be rounded up in practice.\n",
       "\n",
       "Note that the regression model includes the \\code{health\\_region} variable and this has many categories. With the dataset size this is OK but consider additionla variable selection.\n",
       "\n",
       "[1]\tK. El Emam, L. Mosquera, E. Jonker, and H. Sood, “Evaluating the utility of synthetic COVID-19 case data,” JAMIA Open, vol. 4, no. 1, p. ooab012, Jan. 2021, doi: 10.1093/jamiaopen/ooab012.\n",
       "\\end{Details}\n",
       "%\n",
       "\\begin{Source}\n",
       "\\Rhref{https://academic.oup.com/jamiaopen/article/4/1/ooab012/6155924?login=false}{JAMIA Open}\n",
       "\\end{Source}\n",
       "%\n",
       "\\begin{Examples}\n",
       "\\begin{ExampleCode}\n",
       "glm(case_status ~ ., data = sdgd::oncovid, family=\"binomial\")\n",
       "\n",
       "\\end{ExampleCode}\n",
       "\\end{Examples}"
      ],
      "text/plain": [
       "oncovid                package:epi7913A                R Documentation\n",
       "\n",
       "_\bO_\bn_\bt_\ba_\br_\bi_\bo _\bC_\bO_\bV_\bI_\bD-_\b1_\b9 _\bD_\ba_\bt_\ba\n",
       "\n",
       "_\bD_\be_\bs_\bc_\br_\bi_\bp_\bt_\bi_\bo_\bn:\n",
       "\n",
       "     This is a public health dataset that was collected until\n",
       "     approximately the end of 2020 summarizing the status of\n",
       "     individuals who have tested positive for COVID-19. It was used in\n",
       "     a study published in [1]. It only covers Ontario.\n",
       "\n",
       "_\bU_\bs_\ba_\bg_\be:\n",
       "\n",
       "     oncovid\n",
       "     \n",
       "_\bF_\bo_\br_\bm_\ba_\bt:\n",
       "\n",
       "     An object of class ‘data.frame’ with 90980 rows and 6 columns.\n",
       "\n",
       "_\bD_\be_\bt_\ba_\bi_\bl_\bs:\n",
       "\n",
       "     The ‘date_reported’ variable is the number of days since 1st\n",
       "     January 2020. It is a real number because the original dataset had\n",
       "     a time as well (it was a datetime filed). This has resulted in\n",
       "     values that are real but it can be rounded up in practice.\n",
       "\n",
       "     Note that the regression model includes the ‘health_region’\n",
       "     variable and this has many categories. With the dataset size this\n",
       "     is OK but consider additionla variable selection.\n",
       "\n",
       "     [1] K. El Emam, L. Mosquera, E. Jonker, and H. Sood, “Evaluating\n",
       "     the utility of synthetic COVID-19 case data,” JAMIA Open, vol. 4,\n",
       "     no. 1, p. ooab012, Jan. 2021, doi: 10.1093/jamiaopen/ooab012.\n",
       "\n",
       "_\bS_\bo_\bu_\br_\bc_\be:\n",
       "\n",
       "     JAMIA Open\n",
       "\n",
       "_\bE_\bx_\ba_\bm_\bp_\bl_\be_\bs:\n",
       "\n",
       "     glm(case_status ~ ., data = sdgd::oncovid, family=\"binomial\")\n",
       "     "
      ]
     },
     "metadata": {},
     "output_type": "display_data"
    }
   ],
   "source": [
    "?epi7913A::oncovid"
   ]
  },
  {
   "cell_type": "markdown",
   "id": "3f4a1ebf-2be1-4f15-8a85-32272188abdb",
   "metadata": {},
   "source": [
    "## Obtain a copy of the COVID data set"
   ]
  },
  {
   "cell_type": "code",
   "execution_count": 2,
   "id": "79595160-4fc7-4348-805a-f5dc9cfc3d8c",
   "metadata": {
    "tags": []
   },
   "outputs": [
    {
     "data": {
      "text/html": [
       "<table class=\"dataframe\">\n",
       "<caption>A data.frame: 6 × 6</caption>\n",
       "<thead>\n",
       "\t<tr><th></th><th scope=col>case_status</th><th scope=col>age_group</th><th scope=col>gender</th><th scope=col>date_reported</th><th scope=col>exposure</th><th scope=col>health_region</th></tr>\n",
       "\t<tr><th></th><th scope=col>&lt;dbl&gt;</th><th scope=col>&lt;fct&gt;</th><th scope=col>&lt;fct&gt;</th><th scope=col>&lt;dbl&gt;</th><th scope=col>&lt;fct&gt;</th><th scope=col>&lt;fct&gt;</th></tr>\n",
       "</thead>\n",
       "<tbody>\n",
       "\t<tr><th scope=row>1</th><td>0</td><td>40-49</td><td>Female</td><td>285.4583</td><td>Close Contact</td><td>York Region Public Health Services      </td></tr>\n",
       "\t<tr><th scope=row>2</th><td>0</td><td><span style=white-space:pre-wrap>&lt;20  </span></td><td><span style=white-space:pre-wrap>Male  </span></td><td>297.4583</td><td>Close Contact</td><td><span style=white-space:pre-wrap>York Region Public Health Services      </span></td></tr>\n",
       "\t<tr><th scope=row>3</th><td>0</td><td>50-59</td><td>Male  </td><td>274.4583</td><td>Not Reported </td><td>Peel Public Health                      </td></tr>\n",
       "\t<tr><th scope=row>4</th><td>0</td><td>20-29</td><td>Female</td><td>260.4583</td><td>Close Contact</td><td>Halton Region Health Department         </td></tr>\n",
       "\t<tr><th scope=row>5</th><td>0</td><td>30-39</td><td>Female</td><td>307.5000</td><td>Not Reported </td><td>Wellington-Dufferin-Guelph Public Health</td></tr>\n",
       "\t<tr><th scope=row>6</th><td>0</td><td>40-49</td><td>Female</td><td>306.5000</td><td>Close Contact</td><td>Halton Region Health Department         </td></tr>\n",
       "</tbody>\n",
       "</table>\n"
      ],
      "text/latex": [
       "A data.frame: 6 × 6\n",
       "\\begin{tabular}{r|llllll}\n",
       "  & case\\_status & age\\_group & gender & date\\_reported & exposure & health\\_region\\\\\n",
       "  & <dbl> & <fct> & <fct> & <dbl> & <fct> & <fct>\\\\\n",
       "\\hline\n",
       "\t1 & 0 & 40-49 & Female & 285.4583 & Close Contact & York Region Public Health Services      \\\\\n",
       "\t2 & 0 & <20   & Male   & 297.4583 & Close Contact & York Region Public Health Services      \\\\\n",
       "\t3 & 0 & 50-59 & Male   & 274.4583 & Not Reported  & Peel Public Health                      \\\\\n",
       "\t4 & 0 & 20-29 & Female & 260.4583 & Close Contact & Halton Region Health Department         \\\\\n",
       "\t5 & 0 & 30-39 & Female & 307.5000 & Not Reported  & Wellington-Dufferin-Guelph Public Health\\\\\n",
       "\t6 & 0 & 40-49 & Female & 306.5000 & Close Contact & Halton Region Health Department         \\\\\n",
       "\\end{tabular}\n"
      ],
      "text/markdown": [
       "\n",
       "A data.frame: 6 × 6\n",
       "\n",
       "| <!--/--> | case_status &lt;dbl&gt; | age_group &lt;fct&gt; | gender &lt;fct&gt; | date_reported &lt;dbl&gt; | exposure &lt;fct&gt; | health_region &lt;fct&gt; |\n",
       "|---|---|---|---|---|---|---|\n",
       "| 1 | 0 | 40-49 | Female | 285.4583 | Close Contact | York Region Public Health Services       |\n",
       "| 2 | 0 | &lt;20   | Male   | 297.4583 | Close Contact | York Region Public Health Services       |\n",
       "| 3 | 0 | 50-59 | Male   | 274.4583 | Not Reported  | Peel Public Health                       |\n",
       "| 4 | 0 | 20-29 | Female | 260.4583 | Close Contact | Halton Region Health Department          |\n",
       "| 5 | 0 | 30-39 | Female | 307.5000 | Not Reported  | Wellington-Dufferin-Guelph Public Health |\n",
       "| 6 | 0 | 40-49 | Female | 306.5000 | Close Contact | Halton Region Health Department          |\n",
       "\n"
      ],
      "text/plain": [
       "  case_status age_group gender date_reported exposure     \n",
       "1 0           40-49     Female 285.4583      Close Contact\n",
       "2 0           <20       Male   297.4583      Close Contact\n",
       "3 0           50-59     Male   274.4583      Not Reported \n",
       "4 0           20-29     Female 260.4583      Close Contact\n",
       "5 0           30-39     Female 307.5000      Not Reported \n",
       "6 0           40-49     Female 306.5000      Close Contact\n",
       "  health_region                           \n",
       "1 York Region Public Health Services      \n",
       "2 York Region Public Health Services      \n",
       "3 Peel Public Health                      \n",
       "4 Halton Region Health Department         \n",
       "5 Wellington-Dufferin-Guelph Public Health\n",
       "6 Halton Region Health Department         "
      ]
     },
     "metadata": {},
     "output_type": "display_data"
    }
   ],
   "source": [
    "df <- epi7913A::oncovid\n",
    "head(df)"
   ]
  },
  {
   "cell_type": "markdown",
   "id": "90ec9a15-1474-4ef1-90cb-ae05ab8c6d4f",
   "metadata": {},
   "source": [
    "- ## age group is categorical:"
   ]
  },
  {
   "cell_type": "code",
   "execution_count": 6,
   "id": "50e68d1f-800d-4a67-a93e-316ec992fd58",
   "metadata": {
    "tags": []
   },
   "outputs": [
    {
     "data": {
      "text/plain": [
       "\n",
       "         <20        20-29        30-39        40-49        50-59        60-69 \n",
       "       10192        18898        14084        12553        13353         8579 \n",
       "       70-79          80+ Not Reported \n",
       "        4832         8480            9 "
      ]
     },
     "metadata": {},
     "output_type": "display_data"
    }
   ],
   "source": [
    "table(df$age_group)"
   ]
  },
  {
   "cell_type": "markdown",
   "id": "e4e0763b-09ac-4679-8596-a4b85ab33de1",
   "metadata": {},
   "source": [
    "- ## gender is:"
   ]
  },
  {
   "cell_type": "code",
   "execution_count": 7,
   "id": "4d719da5-8447-447d-844e-3b06453e1eab",
   "metadata": {
    "tags": []
   },
   "outputs": [
    {
     "data": {
      "text/plain": [
       "\n",
       "      Female         Male Not Reported \n",
       "       46603        43919          458 "
      ]
     },
     "metadata": {},
     "output_type": "display_data"
    }
   ],
   "source": [
    "table(df$gender)"
   ]
  },
  {
   "cell_type": "markdown",
   "id": "8fbe4db2-f231-4dc6-862b-578e761cc89e",
   "metadata": {},
   "source": [
    "- ## date_reported is a numeric value.\n",
    "It is the number of days since the 1st January 2020.\n",
    "\n",
    "- ## exposure is a categorical:"
   ]
  },
  {
   "cell_type": "code",
   "execution_count": 10,
   "id": "45b73ca4-13b3-4898-926b-56e39d168e0c",
   "metadata": {
    "tags": []
   },
   "outputs": [
    {
     "data": {
      "text/plain": [
       "\n",
       " Close Contact   Not Reported       Outbreak Travel-Related \n",
       "         36355          29082          22441           3102 "
      ]
     },
     "metadata": {},
     "output_type": "display_data"
    }
   ],
   "source": [
    "table(df$exposure)"
   ]
  },
  {
   "cell_type": "markdown",
   "id": "5faa4aa2-d36a-4c4d-87b3-7f46d8982a36",
   "metadata": {},
   "source": [
    "- ## health_region is categorical of a high cardinality (many different labels):"
   ]
  },
  {
   "cell_type": "code",
   "execution_count": 11,
   "id": "35b8a630-cdcb-4826-85e0-1c22c2e1c1a0",
   "metadata": {
    "tags": []
   },
   "outputs": [
    {
     "data": {
      "text/plain": [
       "\n",
       "                               Algoma Public Health Unit \n",
       "                                                      58 \n",
       "                                Brant County Health Unit \n",
       "                                                     443 \n",
       "                                Chatham-Kent Health Unit \n",
       "                                                     448 \n",
       "                         Durham Region Health Department \n",
       "                                                    3607 \n",
       "                             Eastern Ontario Health Unit \n",
       "                                                     717 \n",
       "                                  Grey Bruce Health Unit \n",
       "                                                     208 \n",
       "                           Haldimand-Norfolk Health Unit \n",
       "                                                     567 \n",
       "   Haliburton, Kawartha, Pine Ridge District Health Unit \n",
       "                                                     272 \n",
       "                         Halton Region Health Department \n",
       "                                                    2611 \n",
       "                         Hamilton Public Health Services \n",
       "                                                    2365 \n",
       "         Hastings and Prince Edward Counties Health Unit \n",
       "                                                      90 \n",
       "                        Huron Perth District Health Unit \n",
       "                                                     235 \n",
       "Kingston, Frontenac and Lennox & Addington Public Health \n",
       "                                                     205 \n",
       "                                   Lambton Public Health \n",
       "                                                     383 \n",
       "        Leeds, Grenville and Lanark District Health Unit \n",
       "                                                     472 \n",
       "                            Middlesex-London Health Unit \n",
       "                                                    1340 \n",
       "                 Niagara Region Public Health Department \n",
       "                                                    1810 \n",
       "              North Bay Parry Sound District Health Unit \n",
       "                                                      54 \n",
       "                                Northwestern Health Unit \n",
       "                                                      85 \n",
       "                                    Ottawa Public Health \n",
       "                                                    7795 \n",
       "                                      Peel Public Health \n",
       "                                                   17691 \n",
       "                              Peterborough Public Health \n",
       "                                                     167 \n",
       "                                   Porcupine Health Unit \n",
       "                                                     102 \n",
       "                       Region of Waterloo, Public Health \n",
       "                                                    2664 \n",
       "                 Renfrew County and District Health Unit \n",
       "                                                     117 \n",
       "                     Simcoe Muskoka District Health Unit \n",
       "                                                    1684 \n",
       "                              Southwestern Public Health \n",
       "                                                     420 \n",
       "                          Sudbury & District Health Unit \n",
       "                                                     197 \n",
       "                        Thunder Bay District Health Unit \n",
       "                                                     145 \n",
       "                                 Timiskaming Health Unit \n",
       "                                                      17 \n",
       "                                   Toronto Public Health \n",
       "                                                   31613 \n",
       "                Wellington-Dufferin-Guelph Public Health \n",
       "                                                    1052 \n",
       "                        Windsor-Essex County Health Unit \n",
       "                                                    3017 \n",
       "                      York Region Public Health Services \n",
       "                                                    8329 "
      ]
     },
     "metadata": {},
     "output_type": "display_data"
    }
   ],
   "source": [
    "table(df$health_region)"
   ]
  },
  {
   "cell_type": "markdown",
   "id": "eaa6e72c-08a2-4de4-b01b-82879b05c912",
   "metadata": {},
   "source": [
    "- ## The outcome case_status is numeric (positive is 1 and negative is 0):"
   ]
  },
  {
   "cell_type": "code",
   "execution_count": 14,
   "id": "6209e0fa-2e03-4964-837a-89cc5e099f30",
   "metadata": {
    "tags": []
   },
   "outputs": [
    {
     "data": {
      "text/plain": [
       "\n",
       "    0     1 \n",
       "87494  3486 "
      ]
     },
     "metadata": {},
     "output_type": "display_data"
    }
   ],
   "source": [
    "table(df$case_status)"
   ]
  },
  {
   "cell_type": "markdown",
   "id": "f5004028-6b5e-485e-9c05-b5be3f310042",
   "metadata": {},
   "source": [
    "## Notes: \n",
    "\n",
    "- ### There are many more 0's than 1's in this data set!\n",
    "- ### This outcome (class) has a severe ratio of imbalance – almost 25 : 1 of negatives to positives\n",
    "- ### the positives (1's) are less than 4%"
   ]
  }
 ],
 "metadata": {
  "kernelspec": {
   "display_name": "R",
   "language": "R",
   "name": "ir"
  },
  "language_info": {
   "codemirror_mode": "r",
   "file_extension": ".r",
   "mimetype": "text/x-r-source",
   "name": "R",
   "pygments_lexer": "r",
   "version": "4.3.1"
  },
  "widgets": {
   "application/vnd.jupyter.widget-state+json": {
    "state": {},
    "version_major": 2,
    "version_minor": 0
   }
  }
 },
 "nbformat": 4,
 "nbformat_minor": 5
}
