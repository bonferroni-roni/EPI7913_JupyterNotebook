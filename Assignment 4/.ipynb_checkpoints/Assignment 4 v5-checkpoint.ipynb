{
 "cells": [
  {
   "cell_type": "markdown",
   "metadata": {},
   "source": [
    "# Assignment 4\n",
    "\n",
    "In this assignment, you will build a model to predict length of stay of 3 days or more  (as a binary classification outcome) using a sample from the Texas hospital discharge dataset. We will evaluate your model performance using a hold-out dataset that is kept from you.\n",
    "\n",
    "In this assignment, you will generate a full analysis report, including the descriptive stats and missingness patterns, train and evaluate the model, indicate the optimal hyperparameters, explain the model, and evaluate fairness on `sex`.\n",
    "\n",
    "Some instructions of this assignment:\n",
    "\n",
    "1. You should use this checklist for reporting (and complete the checklist and include it as part of the submission):\n",
    "[Journal of Medical Internet Research - Consolidated Reporting Guidelines for Prognostic and Diagnostic Machine Learning Modeling Studies: Development and Validation (jmir.org)](https://www.jmir.org/2023/1/e48763)\n",
    "\n",
    "2. You can choose which modeling technique you want to use or come up with an ensemble if you want. It is up to you. You can try and compare different models.\n",
    "\n",
    "3. In most publications you need to explain why you did not use a simpler modeling technique, so you should have an logistic regression model as a baseline to compare against.\n",
    "\n",
    "4. You should submit the workbook, the checklist, and the model (see details below). For submission, __only submit your best model__. \n",
    "\n",
    "5. We have 10 bonus points to distribute among the class based on a ranking of how well your model predicts on the holdout. Bonus points 4,3,2,1 for the top four."
   ]
  },
  {
   "cell_type": "markdown",
   "metadata": {},
   "source": [
    "## Load useful packages"
   ]
  },
  {
   "cell_type": "code",
   "execution_count": null,
   "metadata": {
    "tags": []
   },
   "outputs": [],
   "source": [
    "library(sdgm)\n",
    "library(dplyr)\n",
    "library(ggplot2)"
   ]
  },
  {
   "cell_type": "markdown",
   "metadata": {},
   "source": [
    "## Load the data"
   ]
  },
  {
   "cell_type": "code",
   "execution_count": null,
   "metadata": {},
   "outputs": [],
   "source": [
    "# check the help file of this dataset. It documents the binary prediction model \n",
    "# that can be trained from this dataset.\n",
    "?sdgm::texas"
   ]
  },
  {
   "cell_type": "markdown",
   "metadata": {},
   "source": [
    "\n"
   ]
  },
  {
   "cell_type": "code",
   "execution_count": null,
   "metadata": {
    "tags": []
   },
   "outputs": [],
   "source": [
    "# In this assignment, we will provide the data pre-processing steps. Please don't change code here.\n",
    "\n",
    "# get the dataset\n",
    "df<-sdgm::getdata(\"texas\")\n",
    "\n",
    "# create binary outcome\n",
    "df$status <- ifelse(as.numeric(df$LENGTH_OF_STAY) >= 3, 1, 0)\n",
    "\n",
    "\n",
    "# transform numeric predictors\n",
    "df$age  <- as.numeric(df$PAT_AGE)\n",
    "df$fees <- ifelse(df$CHRGS_NON_COV < 0, NA, df$CHRGS_NON_COV)\n",
    "\n",
    "\n",
    "# transform categorical predictors\n",
    "df$sex            <- as.factor(ifelse(df$SEX_CODE == \"F\", \"F\",\n",
    "                                      ifelse(df$SEX_CODE == \"M\", \"M\", NA)))\n",
    "df$ethnicity      <- as.factor(ifelse(df$ETHNICITY == \"1\" | df$ETHNICITY == \"1.0\", 1,\n",
    "                                        ifelse(df$ETHNICITY == \"2\" | df$ETHNICITY == \"2.0\", 2, NA)))\n",
    "df$race           <- as.factor(df$RACE)\n",
    "df$location       <- as.factor(df$PAT_STATE)\n",
    "df$weekday        <- as.factor(gsub(\"'\",'',df$ADMIT_WEEKDAY))\n",
    "df$risk_mortality <- as.factor(gsub(\"'\",'',df$RISK_MORTALITY))\n",
    "df$severity       <- as.factor(gsub(\"'\",'',df$ILLNESS_SEVERITY))\n",
    "df$drg            <- as.factor(gsub(\"'\",'',df$APR_DRG))\n",
    "\n",
    "# select predictors\n",
    "vars_select <- c(\"status\", \"age\", \"fees\", \"sex\", \"ethnicity\", \"race\", \"weekday\",\n",
    "                         \"location\", \"risk_mortality\", \"severity\", \"drg\")\n",
    "\n",
    "# transform from tibble to dataframe\n",
    "full_data <- as.data.frame(df %>% select(all_of(vars_select)))"
   ]
  },
  {
   "cell_type": "markdown",
   "metadata": {},
   "source": [
    "## Question 1: Descriptive analysis\n",
    "\n",
    "Explore and describe the dataset by print summary stats. Note this question is just to let you get familiar with the dataset, there is no need to do any data preprocessing."
   ]
  },
  {
   "cell_type": "code",
   "execution_count": null,
   "metadata": {},
   "outputs": [],
   "source": [
    "# Have a look at the data\n",
    "\"Your answer\""
   ]
  },
  {
   "cell_type": "code",
   "execution_count": null,
   "metadata": {},
   "outputs": [],
   "source": [
    "# define the outcome variable\n",
    "\"Your answer\""
   ]
  },
  {
   "cell_type": "markdown",
   "metadata": {},
   "source": [
    "## Question 2: Train and evaluate model, find your best model\n",
    "\n",
    "You are free to do as many experients as you want to find your __best model__. Remember to train a __logistic regression prediction model as your baseline__.\n",
    "\n",
    "### Question 2.1: Train and evaluate model(s)\n",
    "\n",
    "__Important note:__ Because you'll need to select and submit your best model, it's better to save all your models when you do the experiment. It is required to save __a model file__ for each model. \n",
    "\n",
    "We just updated the `sdgm` package, which has `save.model(object, filename)` and `load.model(filename)` functions that will properly save all of the models.\n",
    "\n",
    "#### Examples\n",
    "best_model<-sdgm::nested.cv.bin(sdgm::cart.bestmodel.bin, full_data, voutcome)\n",
    "\n",
    "sdgm::save.model(best_model$model, \"model_best.model\") # save the model\n",
    "\n",
    "best_model_model <- sdgm::load.model(\"model_best.model\") # load the model\n",
    "\n",
    "__Recommendation:__ You may also want to save __a result file__ for each model like what we did in assignment 3 to help you answer the follow-up questions."
   ]
  },
  {
   "cell_type": "code",
   "execution_count": null,
   "metadata": {},
   "outputs": [],
   "source": [
    "# Train and evaluate the model(s)\n",
    "\"Your answer\""
   ]
  },
  {
   "cell_type": "markdown",
   "metadata": {},
   "source": [
    "\n"
   ]
  },
  {
   "cell_type": "markdown",
   "metadata": {},
   "source": [
    "### Question 2.2: Choose your best model\n",
    "\n",
    "Do whatever you need to determine which is your best model. And sumbit your saved best model. Please rename it as `final.model.YourName.model`. \n",
    "\n",
    "__Note__ Please submit your model file, not result file (if applicable).\n",
    "\n",
    "Describe your best model here:\n",
    "\n",
    "Model: \"Your answer\"\n",
    "\n",
    "With tune? (yes/no): \"Your answer\"\n",
    "\n",
    "If yes, what were the hyperparameters: \"Your answer\""
   ]
  },
  {
   "cell_type": "code",
   "execution_count": null,
   "metadata": {
    "tags": []
   },
   "outputs": [],
   "source": [
    "# Do whatever you need to determine which is your best model.\n",
    "\"Your answer\""
   ]
  },
  {
   "cell_type": "markdown",
   "metadata": {},
   "source": [
    "## Question 3: Explainability\n",
    "\n",
    "### Question 3.1: Feature importance: permute and predict\n",
    "\n",
    "Identify the most important 3 variables using permute and predict. Using \"Lecture 9 - Variable importance on COVID.ipynb\" as your reference.\n",
    "\n",
    "__Question:__ based on your results below, what are the 3 most important variables?\n",
    "\n",
    "Your answer:"
   ]
  },
  {
   "cell_type": "code",
   "execution_count": null,
   "metadata": {
    "tags": []
   },
   "outputs": [],
   "source": [
    "# load your best model for the question below\n",
    "best_model <- \"Your answer\" # load the model file"
   ]
  },
  {
   "cell_type": "code",
   "execution_count": null,
   "metadata": {},
   "outputs": [],
   "source": [
    "# permute and predict based on your best model\n",
    "\"Your answer\""
   ]
  },
  {
   "cell_type": "markdown",
   "metadata": {},
   "source": [
    "### Question 3.2: Partial Dependence Plot (PDP)\n",
    "\n",
    "For the most important 3 variables you identified in question 6, plot their functional relationship with the output. Using \"Lecture 9 - PDP and fairness examples using sdgm.ipynb\" for your reference. "
   ]
  },
  {
   "cell_type": "code",
   "execution_count": null,
   "metadata": {},
   "outputs": [],
   "source": [
    "# PDP of variable #1\n",
    "\"Your answer\""
   ]
  },
  {
   "cell_type": "code",
   "execution_count": null,
   "metadata": {},
   "outputs": [],
   "source": [
    "# PDP of variable #2\n",
    "\"Your answer\""
   ]
  },
  {
   "cell_type": "code",
   "execution_count": null,
   "metadata": {
    "tags": []
   },
   "outputs": [],
   "source": [
    "# PDP of variable #3\n",
    "\"Your answer\""
   ]
  },
  {
   "cell_type": "markdown",
   "metadata": {},
   "source": [
    "### Question 3.3\n",
    "\n",
    "If `drg` is one of your top 3 variables, answer the below question:\n",
    "\n",
    "What are the top 3 drugs associated with the output, i.e. higher p(1)?\n",
    "\n",
    "Your answer"
   ]
  },
  {
   "cell_type": "markdown",
   "metadata": {
    "tags": []
   },
   "source": [
    "## Question 4: Fairness on sex\n",
    "\n",
    "Refer to \"Lecture 9 - PDP and fairness examples using sdgm.ipynb\", explore the fairness of your best model on sex.\n",
    "\n",
    "__Question:__ Do you think your best model is fair to females? Why?\n",
    "\n",
    "Your answer."
   ]
  },
  {
   "cell_type": "code",
   "execution_count": null,
   "metadata": {
    "tags": []
   },
   "outputs": [],
   "source": [
    "\"Your answer\""
   ]
  },
  {
   "cell_type": "markdown",
   "metadata": {},
   "source": [
    "## Question 5: Report your results\n",
    "\n",
    "Check the reporting guideline in the instruction at the top and complete the below table."
   ]
  },
  {
   "cell_type": "code",
   "execution_count": null,
   "metadata": {
    "tags": []
   },
   "outputs": [],
   "source": [
    "# get the hyperparameters of your best model\n",
    "best_model$params"
   ]
  },
  {
   "cell_type": "code",
   "execution_count": null,
   "metadata": {},
   "outputs": [],
   "source": [
    "### START CODE HERE  (REPLACE INSTANCES OF \"Your answer\" with your code) ###  \n",
    "### Each \"Your answer\" can be different.\n",
    "# answer\n",
    "table <- data.frame(\n",
    "  my_outcome     = \"Your answer\",\n",
    "  my_feature     = \"Your answer\", # Note you need to paste all predictor names into a string\n",
    "  n_feature      = \"Your answer\",\n",
    "  n_sample         = \"Your answer\",\n",
    "  my_model       = \"Your answer\",\n",
    "  # for best hyperparameter, I put a space holder for three, \n",
    "  # modify it based on your best model.\n",
    "  best_parameter = paste(paste(\"Name of hyperparameter 1:\", \"Your answer\", \"; \"),\n",
    "                         paste(\"Name of hyperparameter 2:\", \"Your answer\", \"; \"),\n",
    "                         paste(\"Name of hyperparameter 3:\", \"Your answer\"), sep = \"\"),\n",
    "  metric         = \"auc\",\n",
    "  eval_results = \"Your answer\", # AUC value of your best model\n",
    "  top_3_features = paste(\"Your answer\", \"Your answer\", \"Your answer\", sep = \"; \")\n",
    ")\n",
    "\n",
    "knitr::kable(t(table), \"simple\")\n"
   ]
  }
 ],
 "metadata": {
  "anaconda-cloud": "",
  "kernelspec": {
   "display_name": "R",
   "language": "R",
   "name": "ir"
  },
  "language_info": {
   "codemirror_mode": "r",
   "file_extension": ".r",
   "mimetype": "text/x-r-source",
   "name": "R",
   "pygments_lexer": "r",
   "version": "4.3.1"
  }
 },
 "nbformat": 4,
 "nbformat_minor": 4
}
