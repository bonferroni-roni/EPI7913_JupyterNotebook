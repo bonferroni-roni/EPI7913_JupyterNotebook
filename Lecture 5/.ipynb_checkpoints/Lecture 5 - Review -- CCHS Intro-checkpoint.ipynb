{
 "cells": [
  {
   "cell_type": "markdown",
   "id": "85843e3a",
   "metadata": {},
   "source": [
    "# Review -- Exercises\n",
    "\n",
    "## The objective is to practice the following:\n",
    " - repeated K-fold cross-validation\n",
    " - parallel repeated K-fold cross-validation "
   ]
  },
  {
   "cell_type": "markdown",
   "id": "31d2e359",
   "metadata": {},
   "source": [
    "## The data: Canadian Community Health Survey (CCHS)\n",
    "Statistics Canada conducts the Canadian Community Health Survey (CCHS) to collect health-related data at the sub-provincial levels of geography (health region or combined health regions). The survery represents cross-sectional estimates of factors related to health status, health care utilization and health determinants for the Canadian population. Questions in the survey cover a range of health-related topics including: physical activity, height,  weight, smoking, exposure to secondhand smoke, alcohol consumption, general health, chronic health conditions, injuries, use of health care services and related socio-demographic information. The survey targets the population of resident households in all provinces and territories of Canada but excludes households living on: Indian Reserves, Canadian forces bases, and some remote areas.\n",
    "\n",
    "The protion of the survey data we will use is a a synthetic version of the CCHS data designed specifically for the educational purposes of this course. This version of the data selects few variables as described below.\n",
    " \n",
    "## Data dictionary:\n",
    "1. **Age**: a factor features with **levels:age group** as follows:\n",
    "    - 1 : <20\n",
    "    - 2 : 20-29\n",
    "    - 3 : 30-39\n",
    "    - 4 : 40-49\n",
    "    - 5 : 50-59\n",
    "    - 6 : 60-69\n",
    "    - 7 : =>70\n",
    "    \n",
    "    \n",
    "2. **sex**: a factor with **levels:sex** as:\n",
    "    - 1 : male\n",
    "    - 2 : female\n",
    "    \n",
    "    \n",
    "3. **CANHEARTbin**: a binary factor and outcome with **levels:CANHEARTbin** to indicate whether the case is labels as CANHEART profile or not. The CANHEART index definition in Canadian population describes:\n",
    "    - Smoking: Non-Smoker or former daily or occasional smoker who quit more than 12 months\n",
    "    - Overweight/obesity: BMI<25\n",
    "    - Hypertension: No self-reported HTN diagnosed by health professional\n",
    "    - Diabetes: No self-reported diabetes diagnosed by health professional\n",
    "    - Physical activity: Covers on leisure physical activity\n",
    "    - Fruit and vegetable consumption: More or less than 5 times per day\n",
    "    \n",
    "    The associated binary values in the data are:\n",
    "    - 1 : yes = in CANHEART profile\n",
    "    - 0 : no  = not in CANHEART profile\n",
    "    \n",
    "    \n",
    "3. **householdsize**: indicates the numebr of persons in the house hold as follows:\n",
    "    - 1 : 1 person\n",
    "    - 2 : 2 persons\n",
    "    - 3 : 3 persons\n",
    "    - 4 : 4 persons\n",
    "    - 5 : 5 or more persons\n",
    "\n",
    "\n",
    "4. **education**: indicates the highest level of education for the respondent\n",
    "    - 1 : less than secondary education\n",
    "    - 2 : secondary diploma\n",
    "    - 3 : post-secondary education\n",
    "    - 4 : post-secondary graduate degree\n",
    "\n",
    "\n",
    "5. **maritalstatus**: shows the marital status of the correspondent as one of:\n",
    "    - 1 : single/never married\n",
    "    - 2 : widow/separated/divorced\n",
    "    - 3 : common in law/married\n",
    "\n",
    "\n",
    "- **immigration**: a binary flag indicating whether the correspondent is an immigrant or not as:\n",
    "    - 1 : yes\n",
    "    - 0 : no\n",
    "\n",
    "\n",
    "- **houseincome**:\n",
    "    - 3 : low  (less than 20K)\n",
    "    - 2 : med  (20K to 60K)\n",
    "    - 1 : high (more than 60K)\n"
   ]
  },
  {
   "cell_type": "code",
   "execution_count": 15,
   "id": "d89b0d17",
   "metadata": {},
   "outputs": [
    {
     "data": {
      "text/html": [
       "<table class=\"dataframe\">\n",
       "<caption>A data.frame: 6 × 8</caption>\n",
       "<thead>\n",
       "\t<tr><th></th><th scope=col>age</th><th scope=col>sex</th><th scope=col>CANHEARTbin</th><th scope=col>householdsize</th><th scope=col>education</th><th scope=col>maritalstatus</th><th scope=col>immigration</th><th scope=col>houseincome</th></tr>\n",
       "\t<tr><th></th><th scope=col>&lt;fct&gt;</th><th scope=col>&lt;fct&gt;</th><th scope=col>&lt;int&gt;</th><th scope=col>&lt;fct&gt;</th><th scope=col>&lt;fct&gt;</th><th scope=col>&lt;fct&gt;</th><th scope=col>&lt;int&gt;</th><th scope=col>&lt;fct&gt;</th></tr>\n",
       "</thead>\n",
       "<tbody>\n",
       "\t<tr><th scope=row>1</th><td>1</td><td>2</td><td>1</td><td>4</td><td>1</td><td>1</td><td>0</td><td>1</td></tr>\n",
       "\t<tr><th scope=row>2</th><td>1</td><td>1</td><td>1</td><td>3</td><td>1</td><td>1</td><td>0</td><td>1</td></tr>\n",
       "\t<tr><th scope=row>3</th><td>6</td><td>1</td><td>1</td><td>2</td><td>4</td><td>3</td><td>0</td><td>2</td></tr>\n",
       "\t<tr><th scope=row>4</th><td>3</td><td>1</td><td>0</td><td>5</td><td>2</td><td>3</td><td>0</td><td>1</td></tr>\n",
       "\t<tr><th scope=row>5</th><td>6</td><td>2</td><td>0</td><td>1</td><td>4</td><td>2</td><td>0</td><td>2</td></tr>\n",
       "\t<tr><th scope=row>6</th><td>5</td><td>1</td><td>0</td><td>5</td><td>1</td><td>3</td><td>0</td><td>1</td></tr>\n",
       "</tbody>\n",
       "</table>\n"
      ],
      "text/latex": [
       "A data.frame: 6 × 8\n",
       "\\begin{tabular}{r|llllllll}\n",
       "  & age & sex & CANHEARTbin & householdsize & education & maritalstatus & immigration & houseincome\\\\\n",
       "  & <fct> & <fct> & <int> & <fct> & <fct> & <fct> & <int> & <fct>\\\\\n",
       "\\hline\n",
       "\t1 & 1 & 2 & 1 & 4 & 1 & 1 & 0 & 1\\\\\n",
       "\t2 & 1 & 1 & 1 & 3 & 1 & 1 & 0 & 1\\\\\n",
       "\t3 & 6 & 1 & 1 & 2 & 4 & 3 & 0 & 2\\\\\n",
       "\t4 & 3 & 1 & 0 & 5 & 2 & 3 & 0 & 1\\\\\n",
       "\t5 & 6 & 2 & 0 & 1 & 4 & 2 & 0 & 2\\\\\n",
       "\t6 & 5 & 1 & 0 & 5 & 1 & 3 & 0 & 1\\\\\n",
       "\\end{tabular}\n"
      ],
      "text/markdown": [
       "\n",
       "A data.frame: 6 × 8\n",
       "\n",
       "| <!--/--> | age &lt;fct&gt; | sex &lt;fct&gt; | CANHEARTbin &lt;int&gt; | householdsize &lt;fct&gt; | education &lt;fct&gt; | maritalstatus &lt;fct&gt; | immigration &lt;int&gt; | houseincome &lt;fct&gt; |\n",
       "|---|---|---|---|---|---|---|---|---|\n",
       "| 1 | 1 | 2 | 1 | 4 | 1 | 1 | 0 | 1 |\n",
       "| 2 | 1 | 1 | 1 | 3 | 1 | 1 | 0 | 1 |\n",
       "| 3 | 6 | 1 | 1 | 2 | 4 | 3 | 0 | 2 |\n",
       "| 4 | 3 | 1 | 0 | 5 | 2 | 3 | 0 | 1 |\n",
       "| 5 | 6 | 2 | 0 | 1 | 4 | 2 | 0 | 2 |\n",
       "| 6 | 5 | 1 | 0 | 5 | 1 | 3 | 0 | 1 |\n",
       "\n"
      ],
      "text/plain": [
       "  age sex CANHEARTbin householdsize education maritalstatus immigration\n",
       "1 1   2   1           4             1         1             0          \n",
       "2 1   1   1           3             1         1             0          \n",
       "3 6   1   1           2             4         3             0          \n",
       "4 3   1   0           5             2         3             0          \n",
       "5 6   2   0           1             4         2             0          \n",
       "6 5   1   0           5             1         3             0          \n",
       "  houseincome\n",
       "1 1          \n",
       "2 1          \n",
       "3 2          \n",
       "4 1          \n",
       "5 2          \n",
       "6 1          "
      ]
     },
     "metadata": {},
     "output_type": "display_data"
    }
   ],
   "source": [
    "df <- epi7913A::cchs\n",
    "head(df)"
   ]
  },
  {
   "cell_type": "code",
   "execution_count": 16,
   "id": "4ac07abb",
   "metadata": {},
   "outputs": [
    {
     "data": {
      "text/plain": [
       "\n",
       "   1    2    3    4    5    6    7 \n",
       "1040 1053 1150 1014 1680 1983 2080 "
      ]
     },
     "metadata": {},
     "output_type": "display_data"
    }
   ],
   "source": [
    "table(df$age)"
   ]
  },
  {
   "cell_type": "code",
   "execution_count": 17,
   "id": "5f8bb927",
   "metadata": {},
   "outputs": [
    {
     "data": {
      "text/plain": [
       "\n",
       "   1    2 \n",
       "4429 5571 "
      ]
     },
     "metadata": {},
     "output_type": "display_data"
    }
   ],
   "source": [
    "table(df$sex)"
   ]
  },
  {
   "cell_type": "code",
   "execution_count": 18,
   "id": "1cc007b9",
   "metadata": {},
   "outputs": [
    {
     "data": {
      "text/plain": [
       "\n",
       "   0    1 \n",
       "3785 6215 "
      ]
     },
     "metadata": {},
     "output_type": "display_data"
    }
   ],
   "source": [
    "table(df$CANHEARTbin)"
   ]
  },
  {
   "cell_type": "code",
   "execution_count": 19,
   "id": "4ca209b3",
   "metadata": {},
   "outputs": [
    {
     "data": {
      "text/plain": [
       "\n",
       "   1    2    3    4    5 \n",
       "2779 3863 1313 1330  715 "
      ]
     },
     "metadata": {},
     "output_type": "display_data"
    }
   ],
   "source": [
    "table(df$householdsize)"
   ]
  },
  {
   "cell_type": "code",
   "execution_count": 20,
   "id": "cfd0d80a",
   "metadata": {},
   "outputs": [
    {
     "data": {
      "text/plain": [
       "\n",
       "   1    2    3    4 \n",
       "2258 2008  442 5292 "
      ]
     },
     "metadata": {},
     "output_type": "display_data"
    }
   ],
   "source": [
    "table(df$education)"
   ]
  },
  {
   "cell_type": "code",
   "execution_count": 21,
   "id": "25c5e9a0",
   "metadata": {},
   "outputs": [
    {
     "data": {
      "text/plain": [
       "\n",
       "   1    2    3 \n",
       "2827 2056 5117 "
      ]
     },
     "metadata": {},
     "output_type": "display_data"
    }
   ],
   "source": [
    "table(df$maritalstatus)"
   ]
  },
  {
   "cell_type": "code",
   "execution_count": 22,
   "id": "bcfe769d",
   "metadata": {},
   "outputs": [
    {
     "data": {
      "text/plain": [
       "\n",
       "   0    1 \n",
       "8458 1542 "
      ]
     },
     "metadata": {},
     "output_type": "display_data"
    }
   ],
   "source": [
    "table(df$immigration)"
   ]
  },
  {
   "cell_type": "code",
   "execution_count": 23,
   "id": "6e428753",
   "metadata": {},
   "outputs": [
    {
     "data": {
      "text/plain": [
       "\n",
       "   1    2    3 \n",
       "5209 3737 1054 "
      ]
     },
     "metadata": {},
     "output_type": "display_data"
    }
   ],
   "source": [
    "table(df$houseincome)"
   ]
  },
  {
   "cell_type": "markdown",
   "id": "86910cff-466e-4042-88f2-4bd451ad09e8",
   "metadata": {},
   "source": [
    "## We will also need the package **sdgm**\n",
    "### The following functions will be needed form the **sdgm** package:\n",
    "- ### sdgm::cart.bestmodel.bin() used to train a CART model with the best parameters\n",
    "- ### sdgm::auc() used to calculate the area under the receiver characteristics (ROC) curve known as the AUC to measure the ranking performance of calssification\n",
    "- ### sdgm::brier() used to calculate the Brier score (equivalent to MSE) which measures the prediction performance of probability estimates"
   ]
  },
  {
   "cell_type": "code",
   "execution_count": null,
   "id": "948e1fe9-0456-4613-b7b2-f2e91495f277",
   "metadata": {},
   "outputs": [],
   "source": []
  }
 ],
 "metadata": {
  "kernelspec": {
   "display_name": "R",
   "language": "R",
   "name": "ir"
  },
  "language_info": {
   "codemirror_mode": "r",
   "file_extension": ".r",
   "mimetype": "text/x-r-source",
   "name": "R",
   "pygments_lexer": "r",
   "version": "4.3.1"
  },
  "widgets": {
   "application/vnd.jupyter.widget-state+json": {
    "state": {},
    "version_major": 2,
    "version_minor": 0
   }
  }
 },
 "nbformat": 4,
 "nbformat_minor": 5
}
