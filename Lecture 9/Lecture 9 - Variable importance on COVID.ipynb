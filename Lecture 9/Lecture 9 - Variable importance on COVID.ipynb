{
 "cells": [
  {
   "cell_type": "markdown",
   "id": "5c03cf92-c33e-49f1-899c-8ce75af9458f",
   "metadata": {},
   "source": [
    "# Lecture 9 - Variable importance on COVID data\n",
    "\n",
    "## First example with Random forests"
   ]
  },
  {
   "cell_type": "markdown",
   "id": "772e43a5-c0d1-4aa8-a16c-9a49f11de9c7",
   "metadata": {},
   "source": [
    "### Construct the random forest classifier of 100 trees"
   ]
  },
  {
   "cell_type": "code",
   "execution_count": 1,
   "id": "09197e13-27c4-4aa1-9898-8e107343d552",
   "metadata": {
    "tags": []
   },
   "outputs": [
    {
     "name": "stderr",
     "output_type": "stream",
     "text": [
      "\n",
      "Attaching package: ‘dplyr’\n",
      "\n",
      "\n",
      "The following objects are masked from ‘package:stats’:\n",
      "\n",
      "    filter, lag\n",
      "\n",
      "\n",
      "The following objects are masked from ‘package:base’:\n",
      "\n",
      "    intersect, setdiff, setequal, union\n",
      "\n",
      "\n",
      "randomForest 4.7-1.1\n",
      "\n",
      "Type rfNews() to see new features/changes/bug fixes.\n",
      "\n",
      "\n",
      "Attaching package: ‘randomForest’\n",
      "\n",
      "\n",
      "The following object is masked from ‘package:dplyr’:\n",
      "\n",
      "    combine\n",
      "\n",
      "\n"
     ]
    }
   ],
   "source": [
    "library(dplyr)\n",
    "library(randomForest)\n"
   ]
  },
  {
   "cell_type": "code",
   "execution_count": 2,
   "id": "73996d3a-a92f-4467-8e80-7169650e1192",
   "metadata": {
    "tags": []
   },
   "outputs": [
    {
     "data": {
      "text/html": [
       "<table class=\"dataframe\">\n",
       "<caption>A data.frame: 6 × 6</caption>\n",
       "<thead>\n",
       "\t<tr><th></th><th scope=col>case_status</th><th scope=col>age_group</th><th scope=col>gender</th><th scope=col>date_reported</th><th scope=col>exposure</th><th scope=col>health_region</th></tr>\n",
       "\t<tr><th></th><th scope=col>&lt;fct&gt;</th><th scope=col>&lt;fct&gt;</th><th scope=col>&lt;fct&gt;</th><th scope=col>&lt;dbl&gt;</th><th scope=col>&lt;fct&gt;</th><th scope=col>&lt;fct&gt;</th></tr>\n",
       "</thead>\n",
       "<tbody>\n",
       "\t<tr><th scope=row>1</th><td>0</td><td>40-49</td><td>Female</td><td>285.4583</td><td>Close Contact</td><td>York Region Public Health Services      </td></tr>\n",
       "\t<tr><th scope=row>2</th><td>0</td><td><span style=white-space:pre-wrap>&lt;20  </span></td><td><span style=white-space:pre-wrap>Male  </span></td><td>297.4583</td><td>Close Contact</td><td><span style=white-space:pre-wrap>York Region Public Health Services      </span></td></tr>\n",
       "\t<tr><th scope=row>3</th><td>0</td><td>50-59</td><td>Male  </td><td>274.4583</td><td>Not Reported </td><td>Peel Public Health                      </td></tr>\n",
       "\t<tr><th scope=row>4</th><td>0</td><td>20-29</td><td>Female</td><td>260.4583</td><td>Close Contact</td><td>Halton Region Health Department         </td></tr>\n",
       "\t<tr><th scope=row>5</th><td>0</td><td>30-39</td><td>Female</td><td>307.5000</td><td>Not Reported </td><td>Wellington-Dufferin-Guelph Public Health</td></tr>\n",
       "\t<tr><th scope=row>6</th><td>0</td><td>40-49</td><td>Female</td><td>306.5000</td><td>Close Contact</td><td>Halton Region Health Department         </td></tr>\n",
       "</tbody>\n",
       "</table>\n"
      ],
      "text/latex": [
       "A data.frame: 6 × 6\n",
       "\\begin{tabular}{r|llllll}\n",
       "  & case\\_status & age\\_group & gender & date\\_reported & exposure & health\\_region\\\\\n",
       "  & <fct> & <fct> & <fct> & <dbl> & <fct> & <fct>\\\\\n",
       "\\hline\n",
       "\t1 & 0 & 40-49 & Female & 285.4583 & Close Contact & York Region Public Health Services      \\\\\n",
       "\t2 & 0 & <20   & Male   & 297.4583 & Close Contact & York Region Public Health Services      \\\\\n",
       "\t3 & 0 & 50-59 & Male   & 274.4583 & Not Reported  & Peel Public Health                      \\\\\n",
       "\t4 & 0 & 20-29 & Female & 260.4583 & Close Contact & Halton Region Health Department         \\\\\n",
       "\t5 & 0 & 30-39 & Female & 307.5000 & Not Reported  & Wellington-Dufferin-Guelph Public Health\\\\\n",
       "\t6 & 0 & 40-49 & Female & 306.5000 & Close Contact & Halton Region Health Department         \\\\\n",
       "\\end{tabular}\n"
      ],
      "text/markdown": [
       "\n",
       "A data.frame: 6 × 6\n",
       "\n",
       "| <!--/--> | case_status &lt;fct&gt; | age_group &lt;fct&gt; | gender &lt;fct&gt; | date_reported &lt;dbl&gt; | exposure &lt;fct&gt; | health_region &lt;fct&gt; |\n",
       "|---|---|---|---|---|---|---|\n",
       "| 1 | 0 | 40-49 | Female | 285.4583 | Close Contact | York Region Public Health Services       |\n",
       "| 2 | 0 | &lt;20   | Male   | 297.4583 | Close Contact | York Region Public Health Services       |\n",
       "| 3 | 0 | 50-59 | Male   | 274.4583 | Not Reported  | Peel Public Health                       |\n",
       "| 4 | 0 | 20-29 | Female | 260.4583 | Close Contact | Halton Region Health Department          |\n",
       "| 5 | 0 | 30-39 | Female | 307.5000 | Not Reported  | Wellington-Dufferin-Guelph Public Health |\n",
       "| 6 | 0 | 40-49 | Female | 306.5000 | Close Contact | Halton Region Health Department          |\n",
       "\n"
      ],
      "text/plain": [
       "  case_status age_group gender date_reported exposure     \n",
       "1 0           40-49     Female 285.4583      Close Contact\n",
       "2 0           <20       Male   297.4583      Close Contact\n",
       "3 0           50-59     Male   274.4583      Not Reported \n",
       "4 0           20-29     Female 260.4583      Close Contact\n",
       "5 0           30-39     Female 307.5000      Not Reported \n",
       "6 0           40-49     Female 306.5000      Close Contact\n",
       "  health_region                           \n",
       "1 York Region Public Health Services      \n",
       "2 York Region Public Health Services      \n",
       "3 Peel Public Health                      \n",
       "4 Halton Region Health Department         \n",
       "5 Wellington-Dufferin-Guelph Public Health\n",
       "6 Halton Region Health Department         "
      ]
     },
     "metadata": {},
     "output_type": "display_data"
    }
   ],
   "source": [
    "df<-sdgm::oncovid\n",
    "df$case_status <- as.factor(df$case_status)\n",
    "head(df)\n"
   ]
  },
  {
   "cell_type": "code",
   "execution_count": 3,
   "id": "df8f7468-0c14-48ea-8cc8-6445938453eb",
   "metadata": {
    "tags": []
   },
   "outputs": [],
   "source": [
    "# build the random forest rf\n",
    "rf <- randomForest::randomForest(case_status ~., data=df, ntree=100, importance=T)"
   ]
  },
  {
   "cell_type": "code",
   "execution_count": 4,
   "id": "37b393aa-2d4e-426f-9751-bdabe2aaa5bf",
   "metadata": {
    "tags": []
   },
   "outputs": [
    {
     "data": {
      "text/html": [
       "<table class=\"dataframe\">\n",
       "<caption>A matrix: 5 × 4 of type dbl</caption>\n",
       "<thead>\n",
       "\t<tr><th></th><th scope=col>0</th><th scope=col>1</th><th scope=col>MeanDecreaseAccuracy</th><th scope=col>MeanDecreaseGini</th></tr>\n",
       "</thead>\n",
       "<tbody>\n",
       "\t<tr><th scope=row>age_group</th><td>0.0018116093</td><td> 0.087399409</td><td>0.0050912617</td><td>1173.46989</td></tr>\n",
       "\t<tr><th scope=row>gender</th><td>0.0019544166</td><td>-0.011578568</td><td>0.0014356281</td><td>  78.46021</td></tr>\n",
       "\t<tr><th scope=row>date_reported</th><td>0.0002869443</td><td> 0.040798229</td><td>0.0018412784</td><td> 628.87734</td></tr>\n",
       "\t<tr><th scope=row>exposure</th><td>0.0041028882</td><td>-0.026852725</td><td>0.0029081341</td><td> 241.75973</td></tr>\n",
       "\t<tr><th scope=row>health_region</th><td>0.0013251806</td><td>-0.007451868</td><td>0.0009902666</td><td> 276.24297</td></tr>\n",
       "</tbody>\n",
       "</table>\n"
      ],
      "text/latex": [
       "A matrix: 5 × 4 of type dbl\n",
       "\\begin{tabular}{r|llll}\n",
       "  & 0 & 1 & MeanDecreaseAccuracy & MeanDecreaseGini\\\\\n",
       "\\hline\n",
       "\tage\\_group & 0.0018116093 &  0.087399409 & 0.0050912617 & 1173.46989\\\\\n",
       "\tgender & 0.0019544166 & -0.011578568 & 0.0014356281 &   78.46021\\\\\n",
       "\tdate\\_reported & 0.0002869443 &  0.040798229 & 0.0018412784 &  628.87734\\\\\n",
       "\texposure & 0.0041028882 & -0.026852725 & 0.0029081341 &  241.75973\\\\\n",
       "\thealth\\_region & 0.0013251806 & -0.007451868 & 0.0009902666 &  276.24297\\\\\n",
       "\\end{tabular}\n"
      ],
      "text/markdown": [
       "\n",
       "A matrix: 5 × 4 of type dbl\n",
       "\n",
       "| <!--/--> | 0 | 1 | MeanDecreaseAccuracy | MeanDecreaseGini |\n",
       "|---|---|---|---|---|\n",
       "| age_group | 0.0018116093 |  0.087399409 | 0.0050912617 | 1173.46989 |\n",
       "| gender | 0.0019544166 | -0.011578568 | 0.0014356281 |   78.46021 |\n",
       "| date_reported | 0.0002869443 |  0.040798229 | 0.0018412784 |  628.87734 |\n",
       "| exposure | 0.0041028882 | -0.026852725 | 0.0029081341 |  241.75973 |\n",
       "| health_region | 0.0013251806 | -0.007451868 | 0.0009902666 |  276.24297 |\n",
       "\n"
      ],
      "text/plain": [
       "              0            1            MeanDecreaseAccuracy MeanDecreaseGini\n",
       "age_group     0.0018116093  0.087399409 0.0050912617         1173.46989      \n",
       "gender        0.0019544166 -0.011578568 0.0014356281           78.46021      \n",
       "date_reported 0.0002869443  0.040798229 0.0018412784          628.87734      \n",
       "exposure      0.0041028882 -0.026852725 0.0029081341          241.75973      \n",
       "health_region 0.0013251806 -0.007451868 0.0009902666          276.24297      "
      ]
     },
     "metadata": {},
     "output_type": "display_data"
    }
   ],
   "source": [
    "rf$importance"
   ]
  },
  {
   "cell_type": "code",
   "execution_count": 5,
   "id": "dc2b7fbc-a023-4ee1-b25c-06688c4bda91",
   "metadata": {
    "tags": []
   },
   "outputs": [
    {
     "data": {
      "image/png": "[encoded data removed]",
      "text/plain": [
       "plot without title"
      ]
     },
     "metadata": {
      "image/png": {
       "height": 420,
       "width": 420
      }
     },
     "output_type": "display_data"
    }
   ],
   "source": [
    "varImpPlot(rf)"
   ]
  },
  {
   "cell_type": "markdown",
   "id": "c3c5172e-6718-4422-9f85-444ebcc3843f",
   "metadata": {
    "tags": []
   },
   "source": [
    "## Example with permute and predict on the same dataset"
   ]
  },
  {
   "cell_type": "code",
   "execution_count": 7,
   "id": "c39a9a1a-5958-4e93-94d4-0889f8966714",
   "metadata": {
    "tags": []
   },
   "outputs": [
    {
     "name": "stdout",
     "output_type": "stream",
     "text": [
      "[LightGBM] [Info] [binary:BoostFromScore]: pavg=0.038497 -> initscore=-3.217905\n",
      "[LightGBM] [Info] Start training from score -3.217905\n",
      "[LightGBM] [Info] [binary:BoostFromScore]: pavg=0.037769 -> initscore=-3.237758\n",
      "[LightGBM] [Info] Start training from score -3.237758\n",
      "[LightGBM] [Info] [binary:BoostFromScore]: pavg=0.038607 -> initscore=-3.214939\n",
      "[LightGBM] [Info] Start training from score -3.214939\n",
      "[LightGBM] [Info] [binary:BoostFromScore]: pavg=0.038278 -> initscore=-3.223860\n",
      "[LightGBM] [Info] Start training from score -3.223860\n",
      "[LightGBM] [Info] [binary:BoostFromScore]: pavg=0.038429 -> initscore=-3.219762\n",
      "[LightGBM] [Info] Start training from score -3.219762\n",
      "                  variables  importance\n",
      "age_group         age_group 0.325266705\n",
      "date_reported date_reported 0.024000743\n",
      "exposure           exposure 0.006764523\n",
      "health_region health_region 0.005189996\n",
      "gender               gender 0.003293130\n"
     ]
    }
   ],
   "source": [
    "full_data<-sdgm::oncovid \n",
    "\n",
    "voutcome<-\"case_status\"\n",
    "# train a model with optimal hyperparameters\n",
    "best_model<-sdgm::lgbm.bestmodel.bin(full_data, voutcome, tune=F)\n",
    "\n",
    "# get baseline AUC\n",
    "preds<-predict(best_model, full_data)\n",
    "y_true<-full_data[,voutcome]\n",
    "baseline<-sdgm::auc(preds, y_true)\n",
    "\n",
    "predictors<- full_data %>% select(-all_of(voutcome)) %>% names\n",
    "\n",
    "imp<-sapply(predictors, function(var)\n",
    "{\n",
    "    mean(sapply(seq(10), function(i) #10 iterations\n",
    "    {\n",
    "      full_data[,var] <- sample(full_data[,var]) #permuting, full data is chnaged here but since its in a loop it makes a copy of this and dosen't aftter future iterations.\n",
    "      preds<-predict(best_model, full_data)\n",
    "      y_true<-full_data[,voutcome]\n",
    "      baseline-sdgm::auc(preds, y_true)\n",
    "    }))\n",
    "})\n",
    "\n",
    "results<-data.frame(variables=predictors,importance=imp)\n",
    "print(results[order(results$importance, decreasing=T),])"
   ]
  },
  {
   "cell_type": "markdown",
   "id": "e7c1662e-beb3-4333-bc3e-09021d70cacc",
   "metadata": {},
   "source": [
    "## Variable importance on test dataset"
   ]
  },
  {
   "cell_type": "code",
   "execution_count": 13,
   "id": "8a4601ea-f3f0-46af-b7f4-a6ffb07fb07c",
   "metadata": {
    "tags": []
   },
   "outputs": [
    {
     "name": "stdout",
     "output_type": "stream",
     "text": [
      "[1] \"case_status\"   \"age_group\"     \"gender\"        \"date_reported\"\n",
      "[5] \"exposure\"      \"health_region\"\n",
      "[LightGBM] [Info] [binary:BoostFromScore]: pavg=0.038234 -> initscore=-3.225058\n",
      "[LightGBM] [Info] Start training from score -3.225058\n",
      "[LightGBM] [Info] [binary:BoostFromScore]: pavg=0.037645 -> initscore=-3.241190\n",
      "[LightGBM] [Info] Start training from score -3.241190\n",
      "[LightGBM] [Info] [binary:BoostFromScore]: pavg=0.038194 -> initscore=-3.226126\n",
      "[LightGBM] [Info] Start training from score -3.226126\n",
      "[LightGBM] [Info] [binary:BoostFromScore]: pavg=0.038745 -> initscore=-3.211248\n",
      "[LightGBM] [Info] Start training from score -3.211248\n",
      "[LightGBM] [Info] [binary:BoostFromScore]: pavg=0.038823 -> initscore=-3.209142\n",
      "[LightGBM] [Info] Start training from score -3.209142\n",
      "                  variables  importance\n",
      "age_group         age_group 0.312778514\n",
      "date_reported date_reported 0.021463207\n",
      "exposure           exposure 0.007226238\n",
      "gender               gender 0.002791197\n",
      "health_region health_region 0.002572798\n"
     ]
    }
   ],
   "source": [
    "full_data<-sdgm::oncovid #HEre in this code we are permuting the test dataset and running it through the model\n",
    "voutcome<-\"case_status\"\n",
    "\n",
    "idx<-splitTools::partition(full_data[,voutcome], p=c(train=0.7, test=0.3), type=\"stratified\")\n",
    "train_data <- full_data[idx$train,] \n",
    "test_data <- full_data[idx$test,]\n",
    "\n",
    "# train an LGBM\n",
    "best_model<-sdgm::lgbm.bestmodel.bin(train_data, voutcome, tune=F)\n",
    "\n",
    "# get baseline AUC on test data\n",
    "preds<-predict(best_model, test_data)\n",
    "y_true<-test_data[,voutcome]\n",
    "baseline<-sdgm::auc(preds, y_true)\n",
    "\n",
    "predictors<- test_data %>% select(-all_of(voutcome)) %>% names\n",
    "\n",
    "imp<-sapply(predictors, function(var) #permute and re-train the model.\n",
    "{\n",
    "    mean(sapply(seq(10), function(i)\n",
    "    {\n",
    "      test_data[,var] <- sample(test_data[,var])\n",
    "      preds<-predict(best_model, test_data)\n",
    "      y_true<-test_data[,voutcome]\n",
    "      baseline-sdgm::auc(preds, y_true)\n",
    "    }))\n",
    "})\n",
    "\n",
    "results<-data.frame(variables=predictors,importance=imp)\n",
    "print(results[order(results$importance, decreasing=T),])"
   ]
  }
 ],
 "metadata": {
  "kernelspec": {
   "display_name": "R",
   "language": "R",
   "name": "ir"
  },
  "language_info": {
   "codemirror_mode": "r",
   "file_extension": ".r",
   "mimetype": "text/x-r-source",
   "name": "R",
   "pygments_lexer": "r",
   "version": "4.3.1"
  },
  "widgets": {
   "application/vnd.jupyter.widget-state+json": {
    "state": {},
    "version_major": 2,
    "version_minor": 0
   }
  }
 },
 "nbformat": 4,
 "nbformat_minor": 5
}
