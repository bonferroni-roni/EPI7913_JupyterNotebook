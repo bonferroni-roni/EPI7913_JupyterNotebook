{
 "cells": [
  {
   "cell_type": "markdown",
   "id": "ca271a01-5448-4d83-83d2-5bc295da040e",
   "metadata": {},
   "source": [
    "# Lecture 9 - Partial dependence plots (PDP) and fairness metrics on COVID data, using `sdgm`"
   ]
  },
  {
   "cell_type": "code",
   "execution_count": 4,
   "id": "50e7965b-d0a6-41eb-a7ef-b0aa0a9adc3f",
   "metadata": {},
   "outputs": [
    {
     "name": "stderr",
     "output_type": "stream",
     "text": [
      "Loading required package: rBayesianOptimization\n",
      "\n",
      "Loading required package: tidyverse\n",
      "\n",
      "── \u001b[1mAttaching core tidyverse packages\u001b[22m ──────────────────────── tidyverse 2.0.0 ──\n",
      "\u001b[32m✔\u001b[39m \u001b[34mdplyr    \u001b[39m 1.1.3     \u001b[32m✔\u001b[39m \u001b[34mreadr    \u001b[39m 2.1.4\n",
      "\u001b[32m✔\u001b[39m \u001b[34mforcats  \u001b[39m 1.0.0     \u001b[32m✔\u001b[39m \u001b[34mstringr  \u001b[39m 1.5.0\n",
      "\u001b[32m✔\u001b[39m \u001b[34mggplot2  \u001b[39m 3.4.3     \u001b[32m✔\u001b[39m \u001b[34mtibble   \u001b[39m 3.2.1\n",
      "\u001b[32m✔\u001b[39m \u001b[34mlubridate\u001b[39m 1.9.2     \u001b[32m✔\u001b[39m \u001b[34mtidyr    \u001b[39m 1.3.0\n",
      "\u001b[32m✔\u001b[39m \u001b[34mpurrr    \u001b[39m 1.0.2     \n",
      "── \u001b[1mConflicts\u001b[22m ────────────────────────────────────────── tidyverse_conflicts() ──\n",
      "\u001b[31m✖\u001b[39m \u001b[34mtidyr\u001b[39m::\u001b[32mextract()\u001b[39m   masks \u001b[34mmagrittr\u001b[39m::extract()\n",
      "\u001b[31m✖\u001b[39m \u001b[34mdplyr\u001b[39m::\u001b[32mfilter()\u001b[39m    masks \u001b[34mstats\u001b[39m::filter()\n",
      "\u001b[31m✖\u001b[39m \u001b[34mdplyr\u001b[39m::\u001b[32mlag()\u001b[39m       masks \u001b[34mstats\u001b[39m::lag()\n",
      "\u001b[31m✖\u001b[39m \u001b[34mpurrr\u001b[39m::\u001b[32mset_names()\u001b[39m masks \u001b[34mmagrittr\u001b[39m::set_names()\n",
      "\u001b[36mℹ\u001b[39m Use the conflicted package (\u001b[3m\u001b[34m<http://conflicted.r-lib.org/>\u001b[39m\u001b[23m) to force all conflicts to become errors\n",
      "Loading required package: DescTools\n",
      "\n",
      "Loading required package: lightgbm\n",
      "\n",
      "Loading required package: R6\n",
      "\n",
      "\n",
      "Attaching package: ‘lightgbm’\n",
      "\n",
      "\n",
      "The following object is masked from ‘package:dplyr’:\n",
      "\n",
      "    slice\n",
      "\n",
      "\n",
      "Loading required package: zeallot\n",
      "\n",
      "Loading required package: gtools\n",
      "\n",
      "Loading required package: fs\n",
      "\n",
      "Loading required package: MLmetrics\n",
      "\n",
      "\n",
      "Attaching package: ‘MLmetrics’\n",
      "\n",
      "\n",
      "The following objects are masked from ‘package:DescTools’:\n",
      "\n",
      "    AUC, Gini, MAE, MAPE, MSE, RMSE\n",
      "\n",
      "\n",
      "The following object is masked from ‘package:base’:\n",
      "\n",
      "    Recall\n",
      "\n",
      "\n",
      "Loading required package: data.table\n",
      "\n",
      "\n",
      "Attaching package: ‘data.table’\n",
      "\n",
      "\n",
      "The following object is masked from ‘package:DescTools’:\n",
      "\n",
      "    %like%\n",
      "\n",
      "\n",
      "The following objects are masked from ‘package:lubridate’:\n",
      "\n",
      "    hour, isoweek, mday, minute, month, quarter, second, wday, week,\n",
      "    yday, year\n",
      "\n",
      "\n",
      "The following objects are masked from ‘package:dplyr’:\n",
      "\n",
      "    between, first, last\n",
      "\n",
      "\n",
      "The following object is masked from ‘package:purrr’:\n",
      "\n",
      "    transpose\n",
      "\n",
      "\n",
      "Loading required package: zip\n",
      "\n",
      "\n",
      "Attaching package: ‘zip’\n",
      "\n",
      "\n",
      "The following objects are masked from ‘package:utils’:\n",
      "\n",
      "    unzip, zip\n",
      "\n",
      "\n",
      "Loading required package: rpart\n",
      "\n",
      "Loading required package: rpart.plot\n",
      "\n",
      "Loading required package: caret\n",
      "\n",
      "Loading required package: lattice\n",
      "\n",
      "\n",
      "Attaching package: ‘caret’\n",
      "\n",
      "\n",
      "The following objects are masked from ‘package:MLmetrics’:\n",
      "\n",
      "    MAE, RMSE\n",
      "\n",
      "\n",
      "The following objects are masked from ‘package:DescTools’:\n",
      "\n",
      "    MAE, RMSE\n",
      "\n",
      "\n",
      "The following object is masked from ‘package:purrr’:\n",
      "\n",
      "    lift\n",
      "\n",
      "\n",
      "Loading required package: splitTools\n",
      "\n",
      "Loading required package: neuralnet\n",
      "\n",
      "\n",
      "Attaching package: ‘neuralnet’\n",
      "\n",
      "\n",
      "The following object is masked from ‘package:dplyr’:\n",
      "\n",
      "    compute\n",
      "\n",
      "\n",
      "Loading required package: pacman\n",
      "\n",
      "Loading required package: future\n",
      "\n",
      "\n",
      "Attaching package: ‘future’\n",
      "\n",
      "\n",
      "The following object is masked from ‘package:caret’:\n",
      "\n",
      "    cluster\n",
      "\n",
      "\n",
      "The following objects are masked from ‘package:zeallot’:\n",
      "\n",
      "    %->%, %<-%\n",
      "\n",
      "\n",
      "Loading required package: ranger\n",
      "\n",
      "Loading required package: e1071\n",
      "\n",
      "\n",
      "Attaching package: ‘e1071’\n",
      "\n",
      "\n",
      "The following object is masked from ‘package:gtools’:\n",
      "\n",
      "    permutations\n",
      "\n",
      "\n",
      "Loading required package: tools\n",
      "\n",
      "Loading required package: gtsummary\n",
      "\n",
      "Loading required package: tictoc\n",
      "\n",
      "\n",
      "Attaching package: ‘tictoc’\n",
      "\n",
      "\n",
      "The following object is masked from ‘package:data.table’:\n",
      "\n",
      "    shift\n",
      "\n",
      "\n",
      "Loading required package: pbapply\n",
      "\n",
      "Loading required package: plotly\n",
      "\n",
      "\n",
      "Attaching package: ‘plotly’\n",
      "\n",
      "\n",
      "The following object is masked from ‘package:lightgbm’:\n",
      "\n",
      "    slice\n",
      "\n",
      "\n",
      "The following object is masked from ‘package:ggplot2’:\n",
      "\n",
      "    last_plot\n",
      "\n",
      "\n",
      "The following object is masked from ‘package:stats’:\n",
      "\n",
      "    filter\n",
      "\n",
      "\n",
      "The following object is masked from ‘package:graphics’:\n",
      "\n",
      "    layout\n",
      "\n",
      "\n",
      "Loading required package: embed\n",
      "\n",
      "Loading required package: recipes\n",
      "\n",
      "\n",
      "Attaching package: ‘recipes’\n",
      "\n",
      "\n",
      "The following objects are masked from ‘package:gtsummary’:\n",
      "\n",
      "    all_double, all_factor, all_integer, all_logical, all_numeric\n",
      "\n",
      "\n",
      "The following object is masked from ‘package:stringr’:\n",
      "\n",
      "    fixed\n",
      "\n",
      "\n",
      "The following object is masked from ‘package:stats’:\n",
      "\n",
      "    step\n",
      "\n",
      "\n",
      "Loading required package: lme4\n",
      "\n",
      "Loading required package: Matrix\n",
      "\n",
      "\n",
      "Attaching package: ‘Matrix’\n",
      "\n",
      "\n",
      "The following objects are masked from ‘package:tidyr’:\n",
      "\n",
      "    expand, pack, unpack\n",
      "\n",
      "\n",
      "Loading required package: digest\n",
      "\n",
      "Loading required package: keras\n",
      "\n",
      "\n",
      "Attaching package: ‘keras’\n",
      "\n",
      "\n",
      "The following object is masked from ‘package:future’:\n",
      "\n",
      "    %<-%\n",
      "\n",
      "\n",
      "Loading required package: EnvStats\n",
      "\n",
      "Registered S3 method overwritten by 'EnvStats':\n",
      "  method         from\n",
      "  print.estimate lava\n",
      "\n",
      "\n",
      "Attaching package: ‘EnvStats’\n",
      "\n",
      "\n",
      "The following objects are masked from ‘package:e1071’:\n",
      "\n",
      "    kurtosis, skewness\n",
      "\n",
      "\n",
      "The following objects are masked from ‘package:stats’:\n",
      "\n",
      "    predict, predict.lm\n",
      "\n",
      "\n"
     ]
    }
   ],
   "source": [
    "library(sdgm)\n",
    "library(dplyr)\n",
    "library(ggplot2)"
   ]
  },
  {
   "cell_type": "markdown",
   "id": "75fc29fd-d75d-4e8a-b1e7-7154132f23a1",
   "metadata": {},
   "source": [
    "## Set up the data with numeric values"
   ]
  },
  {
   "cell_type": "code",
   "execution_count": 5,
   "id": "e319d1de-3dc1-4ff3-bcb2-a854bcf0c625",
   "metadata": {
    "tags": []
   },
   "outputs": [
    {
     "data": {
      "text/html": [
       "<table class=\"dataframe\">\n",
       "<caption>A data.frame: 6 × 6</caption>\n",
       "<thead>\n",
       "\t<tr><th></th><th scope=col>case_status</th><th scope=col>age_group</th><th scope=col>gender</th><th scope=col>date_reported</th><th scope=col>exposure</th><th scope=col>health_region</th></tr>\n",
       "\t<tr><th></th><th scope=col>&lt;dbl&gt;</th><th scope=col>&lt;dbl&gt;</th><th scope=col>&lt;dbl&gt;</th><th scope=col>&lt;dbl&gt;</th><th scope=col>&lt;fct&gt;</th><th scope=col>&lt;fct&gt;</th></tr>\n",
       "</thead>\n",
       "<tbody>\n",
       "\t<tr><th scope=row>1</th><td>0</td><td>4</td><td>1</td><td>285.4583</td><td>Close Contact</td><td>York Region Public Health Services      </td></tr>\n",
       "\t<tr><th scope=row>2</th><td>0</td><td>1</td><td>2</td><td>297.4583</td><td>Close Contact</td><td>York Region Public Health Services      </td></tr>\n",
       "\t<tr><th scope=row>3</th><td>0</td><td>5</td><td>2</td><td>274.4583</td><td>Not Reported </td><td>Peel Public Health                      </td></tr>\n",
       "\t<tr><th scope=row>4</th><td>0</td><td>2</td><td>1</td><td>260.4583</td><td>Close Contact</td><td>Halton Region Health Department         </td></tr>\n",
       "\t<tr><th scope=row>5</th><td>0</td><td>3</td><td>1</td><td>307.5000</td><td>Not Reported </td><td>Wellington-Dufferin-Guelph Public Health</td></tr>\n",
       "\t<tr><th scope=row>6</th><td>0</td><td>4</td><td>1</td><td>306.5000</td><td>Close Contact</td><td>Halton Region Health Department         </td></tr>\n",
       "</tbody>\n",
       "</table>\n"
      ],
      "text/latex": [
       "A data.frame: 6 × 6\n",
       "\\begin{tabular}{r|llllll}\n",
       "  & case\\_status & age\\_group & gender & date\\_reported & exposure & health\\_region\\\\\n",
       "  & <dbl> & <dbl> & <dbl> & <dbl> & <fct> & <fct>\\\\\n",
       "\\hline\n",
       "\t1 & 0 & 4 & 1 & 285.4583 & Close Contact & York Region Public Health Services      \\\\\n",
       "\t2 & 0 & 1 & 2 & 297.4583 & Close Contact & York Region Public Health Services      \\\\\n",
       "\t3 & 0 & 5 & 2 & 274.4583 & Not Reported  & Peel Public Health                      \\\\\n",
       "\t4 & 0 & 2 & 1 & 260.4583 & Close Contact & Halton Region Health Department         \\\\\n",
       "\t5 & 0 & 3 & 1 & 307.5000 & Not Reported  & Wellington-Dufferin-Guelph Public Health\\\\\n",
       "\t6 & 0 & 4 & 1 & 306.5000 & Close Contact & Halton Region Health Department         \\\\\n",
       "\\end{tabular}\n"
      ],
      "text/markdown": [
       "\n",
       "A data.frame: 6 × 6\n",
       "\n",
       "| <!--/--> | case_status &lt;dbl&gt; | age_group &lt;dbl&gt; | gender &lt;dbl&gt; | date_reported &lt;dbl&gt; | exposure &lt;fct&gt; | health_region &lt;fct&gt; |\n",
       "|---|---|---|---|---|---|---|\n",
       "| 1 | 0 | 4 | 1 | 285.4583 | Close Contact | York Region Public Health Services       |\n",
       "| 2 | 0 | 1 | 2 | 297.4583 | Close Contact | York Region Public Health Services       |\n",
       "| 3 | 0 | 5 | 2 | 274.4583 | Not Reported  | Peel Public Health                       |\n",
       "| 4 | 0 | 2 | 1 | 260.4583 | Close Contact | Halton Region Health Department          |\n",
       "| 5 | 0 | 3 | 1 | 307.5000 | Not Reported  | Wellington-Dufferin-Guelph Public Health |\n",
       "| 6 | 0 | 4 | 1 | 306.5000 | Close Contact | Halton Region Health Department          |\n",
       "\n"
      ],
      "text/plain": [
       "  case_status age_group gender date_reported exposure     \n",
       "1 0           4         1      285.4583      Close Contact\n",
       "2 0           1         2      297.4583      Close Contact\n",
       "3 0           5         2      274.4583      Not Reported \n",
       "4 0           2         1      260.4583      Close Contact\n",
       "5 0           3         1      307.5000      Not Reported \n",
       "6 0           4         1      306.5000      Close Contact\n",
       "  health_region                           \n",
       "1 York Region Public Health Services      \n",
       "2 York Region Public Health Services      \n",
       "3 Peel Public Health                      \n",
       "4 Halton Region Health Department         \n",
       "5 Wellington-Dufferin-Guelph Public Health\n",
       "6 Halton Region Health Department         "
      ]
     },
     "metadata": {},
     "output_type": "display_data"
    }
   ],
   "source": [
    "full_data<-sdgm::oncovid %>% dplyr::filter(age_group != \"Not Reported\")\n",
    "full_data$age_group<-as.numeric(full_data$age_group)\n",
    "full_data$gender<-as.numeric(full_data$gender)\n",
    "\n",
    "head(full_data)"
   ]
  },
  {
   "cell_type": "markdown",
   "id": "866ccd86-bc65-4918-8260-9bd083b0d11d",
   "metadata": {
    "tags": []
   },
   "source": [
    "## Build a `lgbm` model"
   ]
  },
  {
   "cell_type": "code",
   "execution_count": 6,
   "id": "f0506e91-9edc-4172-aacf-000eb1c3712f",
   "metadata": {},
   "outputs": [
    {
     "name": "stdout",
     "output_type": "stream",
     "text": [
      "[LightGBM] [Info] [binary:BoostFromScore]: pavg=0.038378 -> initscore=-3.221150\n",
      "[LightGBM] [Info] Start training from score -3.221150\n",
      "[LightGBM] [Info] [binary:BoostFromScore]: pavg=0.038487 -> initscore=-3.218176\n",
      "[LightGBM] [Info] Start training from score -3.218176\n",
      "[LightGBM] [Info] [binary:BoostFromScore]: pavg=0.037883 -> initscore=-3.234624\n",
      "[LightGBM] [Info] Start training from score -3.234624\n",
      "[LightGBM] [Info] [binary:BoostFromScore]: pavg=0.038831 -> initscore=-3.208933\n",
      "[LightGBM] [Info] Start training from score -3.208933\n",
      "[LightGBM] [Info] [binary:BoostFromScore]: pavg=0.037965 -> initscore=-3.232378\n",
      "[LightGBM] [Info] Start training from score -3.232378\n"
     ]
    }
   ],
   "source": [
    "vvoutcome<-\"case_status\"\n",
    "# train a model with optimal hyperparameters\n",
    "best_model<-sdgm::nested.cv.bin(sdgm::lgbm.bestmodel.bin, full_data, \n",
    "                                vvoutcome, tune = F)\n",
    "\n",
    "best_model_model <- best_model$model"
   ]
  },
  {
   "cell_type": "markdown",
   "id": "a430a7ef-a62e-4eb9-89ca-181f76e00411",
   "metadata": {},
   "source": [
    "## PDP on train data\n",
    "\n",
    "### Continuous variable "
   ]
  },
  {
   "cell_type": "code",
   "execution_count": 7,
   "id": "2c7f7ceb-8e72-4ac5-91c5-dc21749b8004",
   "metadata": {
    "tags": []
   },
   "outputs": [
    {
     "data": {
      "image/png": "[encoded data removed]",
      "text/plain": [
       "plot without title"
      ]
     },
     "metadata": {
      "image/png": {
       "height": 420,
       "width": 420
      }
     },
     "output_type": "display_data"
    }
   ],
   "source": [
    "v.pdp<-\"age_group\"\n",
    "x<-unique(full_data[,v.pdp])\n",
    "yhat<-sapply(x, function(val)\n",
    "{\n",
    "  newdata<-full_data\n",
    "  newdata[, v.pdp] <- val\n",
    "  preds<-predict(best_model_model, newdata)\n",
    "  mean(preds, na.rm=T)\n",
    "})\n",
    "\n",
    "plot.data<-data.frame(yhat=yhat, x=x)\n",
    "\n",
    "# ggplot2 solution\n",
    "ggplot(plot.data, aes(x, yhat)) +\n",
    "geom_point()+\n",
    "geom_smooth(method = 'loess', formula = 'y ~ x', color = \"red\", se = F)+\n",
    "labs(x = \"age\",\n",
    "     y = \"p(death)\")"
   ]
  },
  {
   "cell_type": "markdown",
   "id": "52e16633-c28c-400f-8fa1-178036e5f34a",
   "metadata": {},
   "source": [
    "### Categorical variable"
   ]
  },
  {
   "cell_type": "code",
   "execution_count": 8,
   "id": "664fda2f-040f-4efe-8016-5592d6d6ce55",
   "metadata": {
    "tags": []
   },
   "outputs": [
    {
     "data": {
      "image/png": "[encoded data removed]",
      "text/plain": [
       "plot without title"
      ]
     },
     "metadata": {
      "image/png": {
       "height": 420,
       "width": 420
      }
     },
     "output_type": "display_data"
    }
   ],
   "source": [
    "v.pdp<-\"exposure\"\n",
    "x<-unique(full_data[,v.pdp])\n",
    "yhat<-sapply(x, function(val)\n",
    "{\n",
    "  newdata<-full_data\n",
    "  newdata[, v.pdp] <- val\n",
    "  preds<-predict(best_model_model, newdata)\n",
    "  mean(preds, na.rm=T)\n",
    "})\n",
    "\n",
    "plot.data<-data.frame(yhat=yhat, x=x)\n",
    "\n",
    "# ggplot2 solution\n",
    "ggplot(plot.data, aes(x, yhat)) +\n",
    "geom_col()+\n",
    "labs(x = \"exposure\",\n",
    "     y = \"p(death)\")"
   ]
  },
  {
   "cell_type": "markdown",
   "id": "b67285e5-f84e-4219-8934-c8cb75d935c9",
   "metadata": {},
   "source": [
    "## Fairness metrics\n",
    "\n",
    "### Define `spd()` calcualtes Statistical Parity Difference"
   ]
  },
  {
   "cell_type": "code",
   "execution_count": 9,
   "id": "573b6dbf-25d9-4435-ac09-44f1d1d8a55a",
   "metadata": {
    "tags": []
   },
   "outputs": [],
   "source": [
    "spd <- function(data, preds, feature, grp){\n",
    "    \n",
    "  grp1 <- which(data[c(feature)]==grp)\n",
    "  grp2 <- which(data[c(feature)]!=grp)\n",
    "  mean(preds[grp1]) - mean(preds[grp2])\n",
    "}"
   ]
  },
  {
   "cell_type": "markdown",
   "id": "ccaa4b45-0135-41b5-a8d7-b5c6ea9f0fe2",
   "metadata": {},
   "source": [
    "### Define `eod()` calcualtes Equal Opportunuty Difference "
   ]
  },
  {
   "cell_type": "code",
   "execution_count": 10,
   "id": "270a5883-9985-4236-a79d-f83660ad9974",
   "metadata": {
    "tags": []
   },
   "outputs": [],
   "source": [
    "eod <- function(data, preds, voutcome, feature, grp, pos){\n",
    "\n",
    "  # Find rows where the original label is positve    \n",
    "  x <- which(data[, voutcome]== pos)\n",
    "\n",
    "  # Calcualte spd() difference in predictions for those rows with postive labels\n",
    "  spd(data[x,],preds[x],feature,grp)\n",
    "}"
   ]
  },
  {
   "cell_type": "markdown",
   "id": "48248d04-c199-43f6-93fe-3bbeeeaabe1c",
   "metadata": {},
   "source": [
    "### Define `aod()` calcualtes Average Odds Difference "
   ]
  },
  {
   "cell_type": "code",
   "execution_count": 11,
   "id": "c9bacff9-0b6f-4b53-81f0-8ff9a3a8584d",
   "metadata": {
    "tags": []
   },
   "outputs": [],
   "source": [
    "aod <- function(data, preds, voutcome, feature, grp, pos){\n",
    "\n",
    "  # find the rows of positives in the desired group\n",
    "  x <- which(data[, voutcome]==pos & data[,feature]==grp)\n",
    "\n",
    "  # find the rows of positives NOT in the desired group\n",
    "  y <- which(data[, voutcome]==pos & data[,feature]!=grp)\n",
    "\n",
    "  # find the rows of negatives in the desired group\n",
    "  z <- which(data[, voutcome]!=pos & data[,feature]==grp)\n",
    "\n",
    "  # find the rows of negatives NOT in the desired group\n",
    "  w <- which(data[, voutcome]!=pos & data[,feature]!=grp)\n",
    "\n",
    "  # return the average difference of their odds\n",
    "  abs((mean(preds[x]) - mean(preds[y])) + (mean(preds[z]) - mean(preds[w])))/2\n",
    "}"
   ]
  },
  {
   "cell_type": "code",
   "execution_count": 13,
   "id": "046e922a-9965-4ea6-b34a-e92b4ba24f40",
   "metadata": {
    "tags": []
   },
   "outputs": [
    {
     "data": {
      "text/plain": [
       "                                                          case_status\n",
       "health_region                                                  0     1\n",
       "  Algoma Public Health Unit                                   58     0\n",
       "  Brant County Health Unit                                   437     6\n",
       "  Chatham-Kent Health Unit                                   445     3\n",
       "  Durham Region Health Department                           3424   183\n",
       "  Eastern Ontario Health Unit                                680    37\n",
       "  Grey Bruce Health Unit                                     208     0\n",
       "  Haldimand-Norfolk Health Unit                              529    37\n",
       "  Haliburton, Kawartha, Pine Ridge District Health Unit      251    21\n",
       "  Halton Region Health Department                           2560    50\n",
       "  Hamilton Public Health Services                           2291    74\n",
       "  Hastings and Prince Edward Counties Health Unit             85     5\n",
       "  Huron Perth District Health Unit                           220    15\n",
       "  Kingston, Frontenac and Lennox & Addington Public Health   205     0\n",
       "  Lambton Public Health                                      358    25\n",
       "  Leeds, Grenville and Lanark District Health Unit           419    53\n",
       "  Middlesex-London Health Unit                              1277    63\n",
       "  Niagara Region Public Health Department                   1727    82\n",
       "  North Bay Parry Sound District Health Unit                  53     1\n",
       "  Northwestern Health Unit                                    85     0\n",
       "  Ottawa Public Health                                      7429   366\n",
       "  Peel Public Health                                       17353   337\n",
       "  Peterborough Public Health                                 163     4\n",
       "  Porcupine Health Unit                                       93     9\n",
       "  Region of Waterloo, Public Health                         2541   123\n",
       "  Renfrew County and District Health Unit                    115     1\n",
       "  Simcoe Muskoka District Health Unit                       1634    50\n",
       "  Southwestern Public Health                                 415     5\n",
       "  Sudbury & District Health Unit                             195     2\n",
       "  Thunder Bay District Health Unit                           144     1\n",
       "  Timiskaming Health Unit                                     17     0\n",
       "  Toronto Public Health                                    30093  1516\n",
       "  Wellington-Dufferin-Guelph Public Health                  1015    37\n",
       "  Windsor-Essex County Health Unit                          2939    78\n",
       "  York Region Public Health Services                        8028   301"
      ]
     },
     "metadata": {},
     "output_type": "display_data"
    },
    {
     "data": {
      "text/html": [
       "<table class=\"dataframe\">\n",
       "<caption>A data.frame: 3 × 1</caption>\n",
       "<thead>\n",
       "\t<tr><th></th><th scope=col>Fairness of Ottawa Public Health</th></tr>\n",
       "\t<tr><th></th><th scope=col>&lt;dbl&gt;</th></tr>\n",
       "</thead>\n",
       "<tbody>\n",
       "\t<tr><th scope=row>SPD</th><td>0.008589704</td></tr>\n",
       "\t<tr><th scope=row>EOD</th><td>0.036545986</td></tr>\n",
       "\t<tr><th scope=row>AOD</th><td>0.020536039</td></tr>\n",
       "</tbody>\n",
       "</table>\n"
      ],
      "text/latex": [
       "A data.frame: 3 × 1\n",
       "\\begin{tabular}{r|l}\n",
       "  & Fairness of Ottawa Public Health\\\\\n",
       "  & <dbl>\\\\\n",
       "\\hline\n",
       "\tSPD & 0.008589704\\\\\n",
       "\tEOD & 0.036545986\\\\\n",
       "\tAOD & 0.020536039\\\\\n",
       "\\end{tabular}\n"
      ],
      "text/markdown": [
       "\n",
       "A data.frame: 3 × 1\n",
       "\n",
       "| <!--/--> | Fairness of Ottawa Public Health &lt;dbl&gt; |\n",
       "|---|---|\n",
       "| SPD | 0.008589704 |\n",
       "| EOD | 0.036545986 |\n",
       "| AOD | 0.020536039 |\n",
       "\n"
      ],
      "text/plain": [
       "    Fairness of Ottawa Public Health\n",
       "SPD 0.008589704                     \n",
       "EOD 0.036545986                     \n",
       "AOD 0.020536039                     "
      ]
     },
     "metadata": {},
     "output_type": "display_data"
    }
   ],
   "source": [
    "# obtain predictions scrores\n",
    "p1 <- predict(best_model_model, full_data)\n",
    "\n",
    "# define the desired positive class \n",
    "pos = \"1\"\n",
    "\n",
    "# define target feature (column)\n",
    "feature=\"health_region\"\n",
    "\n",
    "# define target groyp\n",
    "grp =\"Ottawa Public Health\"\n",
    "\n",
    "# fairness metrics\n",
    "v11 <- spd(full_data,p1,feature,grp)\n",
    "v12 <- eod(full_data,p1,voutcome,feature,grp,pos)\n",
    "v13 <- aod(full_data,p1,voutcome,feature,grp,pos)\n",
    "\n",
    "dd <- data.frame(c(v11,v12,v13))\n",
    "colnames(dd) <- \"Fairness of Ottawa Public Health\"\n",
    "rownames(dd) <- c(\"SPD\",\"EOD\",\"AOD\")\n",
    "\n",
    "table(full_data[,c(feature,voutcome)])\n",
    "dd"
   ]
  }
 ],
 "metadata": {
  "kernelspec": {
   "display_name": "R",
   "language": "R",
   "name": "ir"
  },
  "language_info": {
   "codemirror_mode": "r",
   "file_extension": ".r",
   "mimetype": "text/x-r-source",
   "name": "R",
   "pygments_lexer": "r",
   "version": "4.3.1"
  },
  "widgets": {
   "application/vnd.jupyter.widget-state+json": {
    "state": {},
    "version_major": 2,
    "version_minor": 0
   }
  }
 },
 "nbformat": 4,
 "nbformat_minor": 5
}
