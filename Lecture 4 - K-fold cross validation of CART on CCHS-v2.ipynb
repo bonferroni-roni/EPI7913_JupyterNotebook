{
 "cells": [
  {
   "cell_type": "markdown",
   "id": "2dfc37c0-664a-4fba-ace7-9fbe5bf5f9a7",
   "metadata": {},
   "source": [
    "# Lecture 4 -  K-fold cross validation\n",
    "\n",
    "## Load the CCHS data from epi7913A package"
   ]
  },
  {
   "cell_type": "code",
   "execution_count": 1,
   "id": "7a8bbac8-aaf8-4106-a2cc-1b42be6ce7ae",
   "metadata": {
    "tags": []
   },
   "outputs": [
    {
     "data": {
      "text/html": [
       "<table class=\"dataframe\">\n",
       "<caption>A data.frame: 6 × 8</caption>\n",
       "<thead>\n",
       "\t<tr><th></th><th scope=col>age</th><th scope=col>sex</th><th scope=col>CANHEARTbin</th><th scope=col>householdsize</th><th scope=col>education</th><th scope=col>maritalstatus</th><th scope=col>immigration</th><th scope=col>houseincome</th></tr>\n",
       "\t<tr><th></th><th scope=col>&lt;fct&gt;</th><th scope=col>&lt;fct&gt;</th><th scope=col>&lt;int&gt;</th><th scope=col>&lt;fct&gt;</th><th scope=col>&lt;fct&gt;</th><th scope=col>&lt;fct&gt;</th><th scope=col>&lt;int&gt;</th><th scope=col>&lt;fct&gt;</th></tr>\n",
       "</thead>\n",
       "<tbody>\n",
       "\t<tr><th scope=row>1</th><td>6</td><td>1</td><td>0</td><td>2</td><td>4</td><td>3</td><td>0</td><td>3</td></tr>\n",
       "\t<tr><th scope=row>2</th><td>3</td><td>2</td><td>1</td><td>3</td><td>4</td><td>1</td><td>0</td><td>1</td></tr>\n",
       "\t<tr><th scope=row>3</th><td>4</td><td>2</td><td>1</td><td>4</td><td>4</td><td>3</td><td>1</td><td>1</td></tr>\n",
       "\t<tr><th scope=row>4</th><td>7</td><td>1</td><td>1</td><td>2</td><td>4</td><td>3</td><td>0</td><td>1</td></tr>\n",
       "\t<tr><th scope=row>5</th><td>7</td><td>1</td><td>1</td><td>2</td><td>4</td><td>3</td><td>0</td><td>2</td></tr>\n",
       "\t<tr><th scope=row>6</th><td>4</td><td>2</td><td>0</td><td>2</td><td>4</td><td>1</td><td>0</td><td>2</td></tr>\n",
       "</tbody>\n",
       "</table>\n"
      ],
      "text/latex": [
       "A data.frame: 6 × 8\n",
       "\\begin{tabular}{r|llllllll}\n",
       "  & age & sex & CANHEARTbin & householdsize & education & maritalstatus & immigration & houseincome\\\\\n",
       "  & <fct> & <fct> & <int> & <fct> & <fct> & <fct> & <int> & <fct>\\\\\n",
       "\\hline\n",
       "\t1 & 6 & 1 & 0 & 2 & 4 & 3 & 0 & 3\\\\\n",
       "\t2 & 3 & 2 & 1 & 3 & 4 & 1 & 0 & 1\\\\\n",
       "\t3 & 4 & 2 & 1 & 4 & 4 & 3 & 1 & 1\\\\\n",
       "\t4 & 7 & 1 & 1 & 2 & 4 & 3 & 0 & 1\\\\\n",
       "\t5 & 7 & 1 & 1 & 2 & 4 & 3 & 0 & 2\\\\\n",
       "\t6 & 4 & 2 & 0 & 2 & 4 & 1 & 0 & 2\\\\\n",
       "\\end{tabular}\n"
      ],
      "text/markdown": [
       "\n",
       "A data.frame: 6 × 8\n",
       "\n",
       "| <!--/--> | age &lt;fct&gt; | sex &lt;fct&gt; | CANHEARTbin &lt;int&gt; | householdsize &lt;fct&gt; | education &lt;fct&gt; | maritalstatus &lt;fct&gt; | immigration &lt;int&gt; | houseincome &lt;fct&gt; |\n",
       "|---|---|---|---|---|---|---|---|---|\n",
       "| 1 | 6 | 1 | 0 | 2 | 4 | 3 | 0 | 3 |\n",
       "| 2 | 3 | 2 | 1 | 3 | 4 | 1 | 0 | 1 |\n",
       "| 3 | 4 | 2 | 1 | 4 | 4 | 3 | 1 | 1 |\n",
       "| 4 | 7 | 1 | 1 | 2 | 4 | 3 | 0 | 1 |\n",
       "| 5 | 7 | 1 | 1 | 2 | 4 | 3 | 0 | 2 |\n",
       "| 6 | 4 | 2 | 0 | 2 | 4 | 1 | 0 | 2 |\n",
       "\n"
      ],
      "text/plain": [
       "  age sex CANHEARTbin householdsize education maritalstatus immigration\n",
       "1 6   1   0           2             4         3             0          \n",
       "2 3   2   1           3             4         1             0          \n",
       "3 4   2   1           4             4         3             1          \n",
       "4 7   1   1           2             4         3             0          \n",
       "5 7   1   1           2             4         3             0          \n",
       "6 4   2   0           2             4         1             0          \n",
       "  houseincome\n",
       "1 3          \n",
       "2 1          \n",
       "3 1          \n",
       "4 1          \n",
       "5 2          \n",
       "6 2          "
      ]
     },
     "metadata": {},
     "output_type": "display_data"
    }
   ],
   "source": [
    "library(magrittr)\n",
    "\n",
    "# obtain a 10% random subsample of the cchs data\n",
    "full_data <- epi7913A::cchs %>% dplyr::slice_sample(prop=0.1)\n",
    "head(full_data)"
   ]
  },
  {
   "cell_type": "markdown",
   "id": "1d34b590-68eb-4c06-968b-5facba9dffd5",
   "metadata": {},
   "source": [
    "## Define the outcome variable"
   ]
  },
  {
   "cell_type": "code",
   "execution_count": 2,
   "id": "9acb5e43-c89f-4fb5-b6f9-74b079537528",
   "metadata": {
    "tags": []
   },
   "outputs": [],
   "source": [
    "# define the outcome variable\n",
    "voutcome<-\"CANHEARTbin\""
   ]
  },
  {
   "cell_type": "markdown",
   "id": "d2afeb16-20dd-4e9a-aea9-b9f2ef42c564",
   "metadata": {},
   "source": [
    "## Calculate the mean performance of K-fold cross validation:\n",
    "#### - Create K folds\n",
    "#### - For each fold i, designate data in the remaining K-1 folds for training and those in fold i for testing\n",
    "#### - Perform model optimization on the training data\n",
    "#### - Obtain predictions on the test fold using the optimal model found\n",
    "#### - Calculate the logloss of predictions made"
   ]
  },
  {
   "cell_type": "code",
   "execution_count": 3,
   "id": "66920575-eb17-4ff1-b81e-048c14e31996",
   "metadata": {
    "tags": []
   },
   "outputs": [
    {
     "name": "stdout",
     "output_type": "stream",
     "text": [
      "\n",
      " Best Parameters Found: \n",
      "Round = 24\tminsplit = 7.0000\tminbucket = 10.0000\tcp = 0.01711718\tmaxdepth = 13.0000\tValue = -0.6301812 \n",
      "\n",
      " Best Parameters Found: \n",
      "Round = 17\tminsplit = 17.0000\tminbucket = 14.0000\tcp = 0.01415401\tmaxdepth = 7.0000\tValue = -0.6182809 \n",
      "\n",
      " Best Parameters Found: \n",
      "Round = 4\tminsplit = 9.0000\tminbucket = 10.0000\tcp = 0.01819298\tmaxdepth = 10.0000\tValue = -0.6096636 \n",
      "\n",
      " Best Parameters Found: \n",
      "Round = 1\tminsplit = 16.0000\tminbucket = 14.0000\tcp = 0.01723597\tmaxdepth = 10.0000\tValue = -0.6040377 \n",
      "\n",
      " Best Parameters Found: \n",
      "Round = 1\tminsplit = 13.0000\tminbucket = 7.0000\tcp = 0.02010101\tmaxdepth = 9.0000\tValue = -0.6086509 \n",
      "\n",
      "The mean logloss obtained from nested cross-validation is: 0.6202667 \n"
     ]
    }
   ],
   "source": [
    "# define a function to calculate the mean performance of K-fold cross validation\n",
    "#    - create K folds\n",
    "#    - For each fold i, designate data in the remaining K-1 folds for training and those in fold i for testing\n",
    "#.   - Perform model optimization on the training data\n",
    "#.   - Obtain predictions on the test fold using the optimal model found\n",
    "#    - Calculate the logloss of predictions made\n",
    "ll.mean<-mean(sapply(caret::createFolds(full_data[, voutcome], k=5), function(x){\n",
    "\n",
    "  # split the train and test data for each fold\n",
    "  testInds <- x\n",
    "  trnInds <- setdiff(1:nrow(full_data), testInds)\n",
    "  train_data <- full_data[trnInds,]\n",
    "  test_data <- full_data[testInds,]\n",
    "\n",
    "  # train the optimal model using 5 iterations of nested cross-validation\n",
    "  best_model<-sdgm::cart.bestmodel.bin(train_data, voutcome, n_iter=5)\n",
    "\n",
    "  # obtain predicitons of the test fold\n",
    "  preds<-predict(best_model, test_data)\n",
    "\n",
    "  # calculate the logloss for the fold\n",
    "  if (!is.null(preds))\n",
    "    test_ll<- MLmetrics::LogLoss(preds, test_data[,voutcome] )\n",
    "  else {\n",
    "    test_ll<-NA\n",
    "    print(\"Logloss calculation failed\")\n",
    "  }\n",
    "}), na.rm=T)\n",
    "\n",
    "# Print the mean logloss of the results\n",
    "cat(\"\\nThe mean logloss obtained from cross-validation is:\",ll.mean,\"\\n\")"
   ]
  },
  {
   "cell_type": "code",
   "execution_count": null,
   "id": "7e8ef8c5-f046-4fbd-8839-cee288419ec0",
   "metadata": {},
   "outputs": [],
   "source": []
  }
 ],
 "metadata": {
  "kernelspec": {
   "display_name": "R",
   "language": "R",
   "name": "ir"
  },
  "language_info": {
   "codemirror_mode": "r",
   "file_extension": ".r",
   "mimetype": "text/x-r-source",
   "name": "R",
   "pygments_lexer": "r",
   "version": "4.3.1"
  },
  "widgets": {
   "application/vnd.jupyter.widget-state+json": {
    "state": {},
    "version_major": 2,
    "version_minor": 0
   }
  }
 },
 "nbformat": 4,
 "nbformat_minor": 5
}
