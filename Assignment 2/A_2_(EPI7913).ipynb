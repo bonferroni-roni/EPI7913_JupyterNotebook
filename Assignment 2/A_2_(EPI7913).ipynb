{
 "cells": [
  {
   "cell_type": "markdown",
   "id": "09e0bbf0-a06c-453d-a490-f71b5e9365e7",
   "metadata": {},
   "source": [
    "# Assignment 2"
   ]
  },
  {
   "cell_type": "markdown",
   "id": "f859a12b-eb07-42ba-b04e-25be9062e14a",
   "metadata": {},
   "source": [
    "In assignment 2, you will build five classification models on six different datasets. You can then compare them to see which modeling technique works best on each dataset using AUC and the scaled brier score as the metrics.\n",
    " \n",
    "Learning objective: (a) how to train and evaluate models, (b) comparing modeling techniques\n",
    "\n",
    "## Some notes\n",
    "\n",
    "For reference, please see \"Lecture 3 - Tree Examples 2023.ipynb\", \"Lecture 4 - Nested K-cross validation of CART on CCHS.ipynb\", \"Lecture 4 - Parallel nested CV on CCHS.ipynb\", and \"sdgm-getting started.pdf\"\n",
    "\n",
    "Five classification models available in `sdgm` are:\n",
    "1. logistic regression: `lr.bestmodel.bin`\n",
    "2. CART: `cart.bestmodel.bin`\n",
    "3. random forest: `rf.bestmodel.bin`\n",
    "4. LightGBM (lgbm): `lgbm.bestmodel.bin`\n",
    "5. support vector machine (svm): `svm.bestmodel.bin`\n",
    "\n",
    "## Load useful packages"
   ]
  },
  {
   "cell_type": "code",
   "execution_count": 3,
   "id": "fa74bbc4-6298-4174-b447-f87a5f772fd8",
   "metadata": {
    "tags": []
   },
   "outputs": [
    {
     "name": "stderr",
     "output_type": "stream",
     "text": [
      "Loading required package: rBayesianOptimization\n",
      "\n",
      "Loading required package: tidyverse\n",
      "\n",
      "── \u001b[1mAttaching core tidyverse packages\u001b[22m ──────────────────────── tidyverse 2.0.0 ──\n",
      "\u001b[32m✔\u001b[39m \u001b[34mdplyr    \u001b[39m 1.1.3     \u001b[32m✔\u001b[39m \u001b[34mreadr    \u001b[39m 2.1.4\n",
      "\u001b[32m✔\u001b[39m \u001b[34mforcats  \u001b[39m 1.0.0     \u001b[32m✔\u001b[39m \u001b[34mstringr  \u001b[39m 1.5.0\n",
      "\u001b[32m✔\u001b[39m \u001b[34mggplot2  \u001b[39m 3.4.3     \u001b[32m✔\u001b[39m \u001b[34mtibble   \u001b[39m 3.2.1\n",
      "\u001b[32m✔\u001b[39m \u001b[34mlubridate\u001b[39m 1.9.2     \u001b[32m✔\u001b[39m \u001b[34mtidyr    \u001b[39m 1.3.0\n",
      "\u001b[32m✔\u001b[39m \u001b[34mpurrr    \u001b[39m 1.0.2     \n",
      "── \u001b[1mConflicts\u001b[22m ────────────────────────────────────────── tidyverse_conflicts() ──\n",
      "\u001b[31m✖\u001b[39m \u001b[34mdplyr\u001b[39m::\u001b[32mfilter()\u001b[39m masks \u001b[34mstats\u001b[39m::filter()\n",
      "\u001b[31m✖\u001b[39m \u001b[34mdplyr\u001b[39m::\u001b[32mlag()\u001b[39m    masks \u001b[34mstats\u001b[39m::lag()\n",
      "\u001b[36mℹ\u001b[39m Use the conflicted package (\u001b[3m\u001b[34m<http://conflicted.r-lib.org/>\u001b[39m\u001b[23m) to force all conflicts to become errors\n",
      "Loading required package: DescTools\n",
      "\n",
      "Loading required package: lightgbm\n",
      "\n",
      "Loading required package: R6\n",
      "\n",
      "\n",
      "Attaching package: ‘lightgbm’\n",
      "\n",
      "\n",
      "The following object is masked from ‘package:dplyr’:\n",
      "\n",
      "    slice\n",
      "\n",
      "\n",
      "Loading required package: magrittr\n",
      "\n",
      "\n",
      "Attaching package: ‘magrittr’\n",
      "\n",
      "\n",
      "The following object is masked from ‘package:purrr’:\n",
      "\n",
      "    set_names\n",
      "\n",
      "\n",
      "The following object is masked from ‘package:tidyr’:\n",
      "\n",
      "    extract\n",
      "\n",
      "\n",
      "Loading required package: zeallot\n",
      "\n",
      "Loading required package: gtools\n",
      "\n",
      "Loading required package: fs\n",
      "\n",
      "Loading required package: MLmetrics\n",
      "\n",
      "\n",
      "Attaching package: ‘MLmetrics’\n",
      "\n",
      "\n",
      "The following objects are masked from ‘package:DescTools’:\n",
      "\n",
      "    AUC, Gini, MAE, MAPE, MSE, RMSE\n",
      "\n",
      "\n",
      "The following object is masked from ‘package:base’:\n",
      "\n",
      "    Recall\n",
      "\n",
      "\n",
      "Loading required package: data.table\n",
      "\n",
      "\n",
      "Attaching package: ‘data.table’\n",
      "\n",
      "\n",
      "The following object is masked from ‘package:DescTools’:\n",
      "\n",
      "    %like%\n",
      "\n",
      "\n",
      "The following objects are masked from ‘package:lubridate’:\n",
      "\n",
      "    hour, isoweek, mday, minute, month, quarter, second, wday, week,\n",
      "    yday, year\n",
      "\n",
      "\n",
      "The following objects are masked from ‘package:dplyr’:\n",
      "\n",
      "    between, first, last\n",
      "\n",
      "\n",
      "The following object is masked from ‘package:purrr’:\n",
      "\n",
      "    transpose\n",
      "\n",
      "\n",
      "Loading required package: zip\n",
      "\n",
      "\n",
      "Attaching package: ‘zip’\n",
      "\n",
      "\n",
      "The following objects are masked from ‘package:utils’:\n",
      "\n",
      "    unzip, zip\n",
      "\n",
      "\n",
      "Loading required package: rpart\n",
      "\n",
      "Loading required package: rpart.plot\n",
      "\n",
      "Loading required package: caret\n",
      "\n",
      "Loading required package: lattice\n",
      "\n",
      "\n",
      "Attaching package: ‘caret’\n",
      "\n",
      "\n",
      "The following objects are masked from ‘package:MLmetrics’:\n",
      "\n",
      "    MAE, RMSE\n",
      "\n",
      "\n",
      "The following objects are masked from ‘package:DescTools’:\n",
      "\n",
      "    MAE, RMSE\n",
      "\n",
      "\n",
      "The following object is masked from ‘package:purrr’:\n",
      "\n",
      "    lift\n",
      "\n",
      "\n",
      "Loading required package: splitTools\n",
      "\n",
      "Loading required package: neuralnet\n",
      "\n",
      "\n",
      "Attaching package: ‘neuralnet’\n",
      "\n",
      "\n",
      "The following object is masked from ‘package:dplyr’:\n",
      "\n",
      "    compute\n",
      "\n",
      "\n",
      "Loading required package: pacman\n",
      "\n",
      "Loading required package: future\n",
      "\n",
      "\n",
      "Attaching package: ‘future’\n",
      "\n",
      "\n",
      "The following object is masked from ‘package:caret’:\n",
      "\n",
      "    cluster\n",
      "\n",
      "\n",
      "The following objects are masked from ‘package:zeallot’:\n",
      "\n",
      "    %->%, %<-%\n",
      "\n",
      "\n",
      "Loading required package: ranger\n",
      "\n",
      "Loading required package: e1071\n",
      "\n",
      "\n",
      "Attaching package: ‘e1071’\n",
      "\n",
      "\n",
      "The following object is masked from ‘package:gtools’:\n",
      "\n",
      "    permutations\n",
      "\n",
      "\n"
     ]
    }
   ],
   "source": [
    "library(sdgm)\n",
    "library(dplyr)\n",
    "library(ggplot2)"
   ]
  },
  {
   "cell_type": "markdown",
   "id": "c8a8eabd-d1b4-495c-90c8-80018bcfdba2",
   "metadata": {
    "tags": []
   },
   "source": [
    "## Some preparation work"
   ]
  },
  {
   "cell_type": "code",
   "execution_count": 4,
   "id": "3cd8d6f6-b0ec-4ff9-83b0-d1b6d4c3be67",
   "metadata": {
    "tags": []
   },
   "outputs": [],
   "source": [
    "# Change plot size to 18 * 6\n",
    "options(repr.plot.width=18, repr.plot.height=6) "
   ]
  },
  {
   "cell_type": "code",
   "execution_count": 5,
   "id": "ae8d1234-5258-472b-973f-47ba424c2ece",
   "metadata": {
    "tags": []
   },
   "outputs": [],
   "source": [
    "n_iter <- 20 \n",
    "train_data_split <- 0.8\n",
    "model_vec <- c(\"lr\", \"cart\", \"rf\", \"lgbm\", \"svm\") # names of models"
   ]
  },
  {
   "cell_type": "code",
   "execution_count": 6,
   "id": "203e149f-a567-4d19-a2ef-5e57cb97770c",
   "metadata": {
    "tags": []
   },
   "outputs": [],
   "source": [
    "# -------- define dataframes to save the intermediate results ---------\n",
    "# AUC values of the repeated train/test split, 15 times\n",
    "auc_split <- data.frame(type = rep(\"train/test split\", 15),\n",
    "                      metric = rep(\"auc\", 15),\n",
    "                      lr = rep(0, 15),\n",
    "                      cart = rep(0, 15),\n",
    "                      rf = rep(0, 15),\n",
    "                      lgbm = rep(0, 15),\n",
    "                      svm = rep(0, 15))\n",
    "\n",
    "# AUC values of the repeated nested cv, 15 times\n",
    "auc_cv <- data.frame(type = rep(\"nested cv\", 15),\n",
    "                      metric = rep(\"auc\", 15),\n",
    "                      lr = rep(0, 15),\n",
    "                      cart = rep(0, 15),\n",
    "                      rf = rep(0, 15),\n",
    "                      lgbm = rep(0, 15),\n",
    "                      svm = rep(0, 15))\n",
    "\n",
    "# brier scores of the repeated train/test split, 15 times\n",
    "brier_split <- data.frame(type = rep(\"train/test split\", 15),\n",
    "                        metric = rep(\"brier\", 15),\n",
    "                        lr = rep(0, 15),\n",
    "                        cart = rep(0, 15),\n",
    "                        rf = rep(0, 15),\n",
    "                        lgbm = rep(0, 15),\n",
    "                        svm = rep(0, 15))\n",
    "\n",
    "# brier scores of the repeated nested cv, 15 times\n",
    "brier_cv <- data.frame(type = rep(\"nested cv\", 15),\n",
    "                        metric = rep(\"brier\", 15),\n",
    "                        lr = rep(0, 15),\n",
    "                        cart = rep(0, 15),\n",
    "                        rf = rep(0, 15),\n",
    "                        lgbm = rep(0, 15),\n",
    "                        svm = rep(0, 15))"
   ]
  },
  {
   "cell_type": "markdown",
   "id": "9e3d50f6-9959-4560-8f4e-5611d1258567",
   "metadata": {},
   "source": [
    "## Dataset 1: `sdgm::C2` BankNote\n",
    "\n",
    "For more details about this dataset, see [here](https://archive.ics.uci.edu/dataset/267/banknote+authentication)"
   ]
  },
  {
   "cell_type": "code",
   "execution_count": null,
   "id": "b326de9b-06a5-4215-a745-f6233d9e8cbc",
   "metadata": {
    "tags": []
   },
   "outputs": [],
   "source": [
    "# show the description of this dataset\n",
    "?sdgm::C2"
   ]
  },
  {
   "cell_type": "code",
   "execution_count": null,
   "id": "0cb2e919-cef2-41b8-92f5-410963fb1d71",
   "metadata": {
    "tags": []
   },
   "outputs": [],
   "source": [
    "# first glance of the dataset\n",
    "full_data <- sdgm::C2\n",
    "head(full_data)\n",
    "dim(full_data)"
   ]
  },
  {
   "cell_type": "code",
   "execution_count": null,
   "id": "0b877344-a111-40fd-9404-9a49bb413d5e",
   "metadata": {
    "tags": []
   },
   "outputs": [],
   "source": [
    "# Convert characters to numbers. Note because of the special format in the data, `as.numeric` doesn't work here.\n",
    "# The code below is to extract numbers from strings\n",
    "full_data$class <- as.numeric(gsub(\"\\\\D\", \"\", full_data$class))"
   ]
  },
  {
   "cell_type": "code",
   "execution_count": null,
   "id": "b75b7a5a-7804-445f-8504-78fb12564502",
   "metadata": {
    "tags": []
   },
   "outputs": [],
   "source": [
    "# Check the data now\n",
    "summary(full_data)\n",
    "head(full_data)\n",
    "\n",
    "# Check the outcome variable\n",
    "table(full_data$class)"
   ]
  },
  {
   "cell_type": "markdown",
   "id": "0b8c995c-bd6b-48f3-a85d-d88a1a7ebcdf",
   "metadata": {
    "tags": []
   },
   "source": [
    "### Question 1.1: Based on what you have learnt about the dataset, is there anything should be done to prepare the data?\n",
    "\n",
    "**Hint 1:** Are all the variables in the correct variable type?\n",
    "\n",
    "**Hint 2 (Important!):** As per some models' requirement, the outcome variable has to be a numeric variable between 0 and 1.\n",
    "\n",
    "***Note:*** Some datasets need a bit of data preparation and some don't. If you think this one needs to be prepared, choose \"yes\" and add your code in the below cell. Otherwise, choose \"no\" and leave the below cell unchanged.\n",
    "\n",
    "Your answer: yes or no? (choose one by deleting the other)"
   ]
  },
  {
   "cell_type": "code",
   "execution_count": null,
   "id": "dda984a3-8d1d-4ee2-886f-28f80dfef0c9",
   "metadata": {
    "tags": []
   },
   "outputs": [],
   "source": [
    "# The data preparation step if needed\n",
    "\n",
    "# Check the data now\n",
    "summary(full_data)"
   ]
  },
  {
   "cell_type": "code",
   "execution_count": null,
   "id": "357ff20a-a2fc-48ad-8b16-baacc070b0d9",
   "metadata": {
    "tags": []
   },
   "outputs": [],
   "source": [
    "# remove one variable to add more variance to the the outputs across the repeated evaluations\n",
    "full_data <- full_data %>% select(-var)"
   ]
  },
  {
   "cell_type": "markdown",
   "id": "e7a099e4-846f-4667-aec4-55b4faa9b3f4",
   "metadata": {},
   "source": [
    "### Question 1.2: Build five different models and evaluate them"
   ]
  },
  {
   "cell_type": "code",
   "execution_count": null,
   "id": "8a9f67a9-7485-40ba-8364-41d882e3d6c3",
   "metadata": {
    "tags": []
   },
   "outputs": [],
   "source": [
    "# define the outcome variable\n",
    "voutcome <- Your answer"
   ]
  },
  {
   "cell_type": "markdown",
   "id": "36f1a342-ff41-492d-b32a-19f804f91600",
   "metadata": {},
   "source": [
    "Note: You will use parallel computing here, see \"Lecture 4 - Parallel nested CV on CCHS.ipynb\".\n",
    "\n",
    "Hint: remember to include \"model\" in the vector when you call `parallel::clusterExport`. For more details about `parallel::clusterExport`, see [here](https://cran.r-project.org/web/packages/SimDesign/vignettes/Fixed_obj_fun.html)."
   ]
  },
  {
   "cell_type": "code",
   "execution_count": null,
   "id": "90bc7e69-746b-421c-9be3-a1bf5ee0a65b",
   "metadata": {
    "tags": []
   },
   "outputs": [],
   "source": [
    "# ============= 15 repeated train/test split ============= \n",
    "for (model in model_vec) {\n",
    "    \n",
    "    # parallel computing\n",
    "    Your answer\n",
    "    \n",
    "    res <- parallel::parSapply(cl, 1:15, function(x)\n",
    "    {\n",
    "        # partition data into train and test portions\n",
    "        Your answer\n",
    "        \n",
    "        # retrieve train and test data\n",
    "        Your answer\n",
    "        \n",
    "        # build the model\n",
    "        if (model == \"lr\") {\n",
    "            Your answer\n",
    "        } else if (model == \"cart\") {\n",
    "            Your answer\n",
    "        } else if (model == \"rf\") {\n",
    "            Your answer\n",
    "        } else if (model == \"lgbm\") {\n",
    "            Your answer\n",
    "        } else if (model == \"svm\") {\n",
    "            Your answer\n",
    "        }\n",
    "        \n",
    "        # predict\n",
    "        Your answer\n",
    "  \n",
    "        # calculate and return AUC and brier score\n",
    "        Your answer\n",
    "        \n",
    "        c(test_auc, test_brier)\n",
    "    })\n",
    "    parallel::stopCluster(cl)\n",
    "    \n",
    "    # save results of the model\n",
    "    if (model == \"lr\") {\n",
    "        auc_split$lr <- res[1,]\n",
    "        brier_split$lr <- res[2,]\n",
    "    } else if (model == \"cart\") {\n",
    "        auc_split$cart <- res[1,]\n",
    "        brier_split$cart <- res[2,]\n",
    "    } else if (model == \"rf\") {\n",
    "        auc_split$rf <- res[1,]\n",
    "        brier_split$rf <- res[2,]\n",
    "    } else if (model == \"lgbm\") {\n",
    "        auc_split$lgbm <- res[1,]\n",
    "        brier_split$lgbm <- res[2,]\n",
    "    } else if (model == \"svm\") {\n",
    "        auc_split$svm <- res[1,]\n",
    "        brier_split$svm <- res[2,]\n",
    "    }\n",
    "}\n",
    "\n",
    "# save results\n",
    "res.split.df1 <- rbind(auc_split, brier_split)\n",
    "\n",
    "# print results\n",
    "print(res.split.df1)"
   ]
  },
  {
   "cell_type": "markdown",
   "id": "791aab18-5be7-4214-beba-7eb24b32db8b",
   "metadata": {},
   "source": [
    "Mimic the structure in the last cell, complete the below cell for nested CV. Remember to use parallel computing."
   ]
  },
  {
   "cell_type": "code",
   "execution_count": null,
   "id": "12bacd08-e253-4b1e-9e58-85abb6ce127c",
   "metadata": {
    "tags": []
   },
   "outputs": [],
   "source": [
    "# ============= repeated nested 5-fold CV ============= \n",
    "for (model in model_vec) {\n",
    "    # parallel computing\n",
    "    Your answer\n",
    "    \n",
    "    # this is the repeated loop\n",
    "    res <- parallel::parSapply(cl, seq(15), function(i) \n",
    "    {\n",
    "        # this is the nested CV outer loop\n",
    "        nested_res <- sapply(caret::createFolds(full_data[, voutcome], k=5), function(x) \n",
    "        {\n",
    "            Your answer\n",
    "        })\n",
    "        nested_cv_auc <- mean(nested_res[1,], na.rm=T)\n",
    "        nested_cv_brier <- mean(nested_res[2,], na.rm=T)\n",
    "                               \n",
    "        c(nested_cv_auc, nested_cv_brier)\n",
    "    })\n",
    "    parallel::stopCluster(cl)\n",
    "    \n",
    "    # save results of the model\n",
    "    if (model == \"lr\") {\n",
    "        auc_cv$lr <- res[1,]\n",
    "        brier_cv$lr <- res[2,]\n",
    "    } else if (model == \"cart\") {\n",
    "        auc_cv$cart <- res[1,]\n",
    "        brier_cv$cart <- res[2,]\n",
    "    } else if (model == \"rf\") {\n",
    "        auc_cv$rf <- res[1,]\n",
    "        brier_cv$rf <- res[2,]\n",
    "    } else if (model == \"lgbm\") {\n",
    "        auc_cv$lgbm <- res[1,]\n",
    "        brier_cv$lgbm <- res[2,]\n",
    "    } else if (model == \"svm\") {\n",
    "        auc_cv$svm <- res[1,]\n",
    "        brier_cv$svm <- res[2,]\n",
    "    }\n",
    "}\n",
    "\n",
    "# save results\n",
    "res.cv.df1 <- rbind(auc_cv, brier_cv)\n",
    "\n",
    "print(res.cv.df1)"
   ]
  },
  {
   "cell_type": "code",
   "execution_count": null,
   "id": "bbc24026-771f-475b-bc2c-c0ab88f3abcd",
   "metadata": {
    "tags": []
   },
   "outputs": [],
   "source": [
    "auc.df1 <- rbind(res.split.df1 %>% filter(metric == \"auc\"), \n",
    "                 res.cv.df1 %>% filter(metric == \"auc\"))\n",
    "\n",
    "# pivot the dataframe from wide to long for plotting\n",
    "auc.df1.long <- auc.df1 %>% \n",
    "    tidyr::pivot_longer(-c(type, metric), \n",
    "                        names_to = \"model\",\n",
    "                        values_to = \"auc\")\n",
    "auc.df1.long$model <- factor(auc.df1.long$model, \n",
    "                         levels = c(\"lr\", \"cart\", \"rf\", \"lgbm\", \"svm\"))\n",
    "auc.df1.long$type <- factor(auc.df1.long$type, \n",
    "                         levels = c(\"train/test split\", \"nested cv\"))\n",
    "\n",
    "# Plot the violin plot\n",
    "ggplot(auc.df1.long, aes(model, auc, fill = model)) + \n",
    "    geom_violin(alpha = 0.5, draw_quantiles = c(0.25, 0.5, 0.75))+ \n",
    "    facet_wrap(~type)"
   ]
  },
  {
   "cell_type": "code",
   "execution_count": null,
   "id": "1972497b-9422-439f-836b-8ae83017f6a2",
   "metadata": {
    "tags": []
   },
   "outputs": [],
   "source": [
    "brier.df1 <- rbind(res.split.df1 %>% filter(metric == \"brier\"), \n",
    "                   res.cv.df1 %>% filter(metric == \"brier\"))\n",
    "\n",
    "# pivot the dataframe from wide to long for plotting\n",
    "brier.df1.long <- brier.df1 %>% \n",
    "    tidyr::pivot_longer(-c(type,metric), \n",
    "                        names_to = \"model\",\n",
    "                        values_to = \"brier\")\n",
    "brier.df1.long$model <- factor(brier.df1.long$model, \n",
    "                         levels = c(\"lr\", \"cart\", \"rf\", \"lgbm\", \"svm\"))\n",
    "brier.df1.long$type <- factor(brier.df1.long$type, \n",
    "                         levels = c(\"train/test split\", \"nested cv\"))\n",
    "\n",
    "# Plot the violin plot\n",
    "ggplot(brier.df1.long, aes(model, brier, fill = model)) + \n",
    "    geom_violin(alpha = 0.5, draw_quantiles = c(0.25, 0.5, 0.75))+ \n",
    "    facet_wrap(~type)"
   ]
  },
  {
   "cell_type": "markdown",
   "id": "8256f3ff-39c2-4a4b-ba1f-82e7e83f8054",
   "metadata": {},
   "source": [
    "### Question 1.3: Based on the above violin plot, which model is the best one? Why?"
   ]
  },
  {
   "cell_type": "markdown",
   "id": "18745b47-e439-4734-8d52-54a3aceacb50",
   "metadata": {},
   "source": [
    "## Dataset 2: `sdgm::C3` Breast Cancer Wisconsin\n",
    "\n",
    "For more details about this dataset, see [here](https://archive.ics.uci.edu/dataset/15/breast+cancer+wisconsin+original)"
   ]
  },
  {
   "cell_type": "code",
   "execution_count": null,
   "id": "0c3b1f2c-3958-4f27-810d-c6cb9784ae7b",
   "metadata": {
    "tags": []
   },
   "outputs": [],
   "source": [
    "# show the description of this dataset\n",
    "?sdgm::C3"
   ]
  },
  {
   "cell_type": "code",
   "execution_count": null,
   "id": "5cd97182-a018-46a8-9117-6b67579e76fe",
   "metadata": {
    "tags": []
   },
   "outputs": [],
   "source": [
    "# first glance of the dataset\n",
    "full_data <- sdgm::C3\n",
    "head(full_data)\n",
    "dim(full_data)"
   ]
  },
  {
   "cell_type": "code",
   "execution_count": null,
   "id": "540af2f1-b08a-4afe-8019-76a297ddcdf2",
   "metadata": {
    "tags": []
   },
   "outputs": [],
   "source": [
    "# Convert characters to numbers. Note because of the special format in the data, `as.numeric` doesn't work here.\n",
    "# The code below is to extract numbers from strings\n",
    "full_data$Class <- as.numeric(gsub(\"\\\\D\", \"\", full_data$Class))"
   ]
  },
  {
   "cell_type": "code",
   "execution_count": null,
   "id": "1388a44d-012e-415e-91e9-1c47e13328c3",
   "metadata": {
    "tags": []
   },
   "outputs": [],
   "source": [
    "# Check the data now\n",
    "summary(full_data)\n",
    "\n",
    "# Check the outcome variable\n",
    "table(full_data$Class)"
   ]
  },
  {
   "cell_type": "markdown",
   "id": "1c126e04-71cd-4998-a30c-c8d00db2c770",
   "metadata": {
    "tags": []
   },
   "source": [
    "### Question 2.1: Based on what you have learnt about the dataset, is there anything should be done to prepare the data?\n",
    "\n",
    "**Hint 1:** Are all the variables in the correct variable type?\n",
    "\n",
    "**Hint 2 (Important!):** As per some models' requirement, the outcome variable has to be a numeric variable between 0 and 1.\n",
    "\n",
    "***Note:*** Some datasets need a bit of data preparation and some don't. If you think this one needs to be prepared, choose \"yes\" and add your code in the below cell. Otherwise, choose \"no\" and leave the below cell unchanged.\n",
    "\n",
    "Your answer: yes or no? (choose one by deleting the other)"
   ]
  },
  {
   "cell_type": "code",
   "execution_count": null,
   "id": "b4f74ef8-0e11-4045-b008-4c4a33c16260",
   "metadata": {
    "tags": []
   },
   "outputs": [],
   "source": [
    "# The data preparation step if needed\n",
    "\n",
    "# Check the data now\n",
    "summary(full_data)"
   ]
  },
  {
   "cell_type": "markdown",
   "id": "e3c63bdc-6fcd-4b4b-87ec-12bb52d43898",
   "metadata": {},
   "source": [
    "### Question 2.2: Build five different models and evaluate them"
   ]
  },
  {
   "cell_type": "code",
   "execution_count": null,
   "id": "8f3e93d0-5b6a-4035-8050-81c010fa34da",
   "metadata": {
    "tags": []
   },
   "outputs": [],
   "source": [
    "# define the outcome variable\n",
    "voutcome <- Your answer"
   ]
  },
  {
   "cell_type": "markdown",
   "id": "594d8d43-7761-4c3a-b5e6-de8a403f85fa",
   "metadata": {},
   "source": [
    "Based on what you have done for Dataset 1, complete the below cells of this dataset. Remember to use parallel computing."
   ]
  },
  {
   "cell_type": "code",
   "execution_count": null,
   "id": "3b70f229-9e95-4d3c-8939-605177b5bf1f",
   "metadata": {
    "tags": []
   },
   "outputs": [],
   "source": [
    "# ============= 15 repeated train/test split ============= \n",
    "for (model in model_vec) {\n",
    "    Your answer\n",
    "}\n",
    "\n",
    "# save results\n",
    "res.split.df2 <- rbind(auc_split, brier_split)\n",
    "\n",
    "# print results\n",
    "print(res.split.df2)  "
   ]
  },
  {
   "cell_type": "code",
   "execution_count": null,
   "id": "6eb501ad-0347-4a27-9adb-d428e5061886",
   "metadata": {
    "tags": []
   },
   "outputs": [],
   "source": [
    "# ============= repeated nested 5-fold CV ============= \n",
    "for (model in model_vec) {\n",
    "    Your answer\n",
    "}\n",
    "\n",
    "# save results\n",
    "res.cv.df2 <- rbind(auc_cv, brier_cv)\n",
    "\n",
    "print(res.cv.df2)"
   ]
  },
  {
   "cell_type": "code",
   "execution_count": null,
   "id": "3e1c7f9c-5590-4d9a-a39b-67d861e556a9",
   "metadata": {
    "tags": []
   },
   "outputs": [],
   "source": [
    "auc.df2 <- rbind(res.split.df2 %>% filter(metric == \"auc\"), \n",
    "                 res.cv.df2 %>% filter(metric == \"auc\"))\n",
    "\n",
    "# pivot the dataframe from wide to long for plotting\n",
    "auc.df2.long <- auc.df2 %>% \n",
    "    tidyr::pivot_longer(-c(type, metric), \n",
    "                        names_to = \"model\",\n",
    "                        values_to = \"auc\")\n",
    "auc.df2.long$model <- factor(auc.df2.long$model, \n",
    "                         levels = c(\"lr\", \"cart\", \"rf\", \"lgbm\", \"svm\"))\n",
    "auc.df2.long$type <- factor(auc.df2.long$type, \n",
    "                         levels = c(\"train/test split\", \"nested cv\"))\n",
    "\n",
    "# Plot the violin plot\n",
    "ggplot(auc.df2.long, aes(model, auc, fill = model)) + \n",
    "    geom_violin(alpha = 0.5, draw_quantiles = c(0.25, 0.5, 0.75))+ \n",
    "    facet_wrap(~type)"
   ]
  },
  {
   "cell_type": "code",
   "execution_count": null,
   "id": "494dbcf0-0ef5-4361-9926-1753605c0d71",
   "metadata": {
    "tags": []
   },
   "outputs": [],
   "source": [
    "brier.df2 <- rbind(res.split.df2 %>% filter(metric == \"brier\"), \n",
    "                   res.cv.df2 %>% filter(metric == \"brier\"))\n",
    "\n",
    "# pivot the dataframe from wide to long for plotting\n",
    "brier.df2.long <- brier.df2 %>% \n",
    "    tidyr::pivot_longer(-c(type,metric), \n",
    "                        names_to = \"model\",\n",
    "                        values_to = \"brier\")\n",
    "brier.df2.long$model <- factor(brier.df2.long$model, \n",
    "                         levels = c(\"lr\", \"cart\", \"rf\", \"lgbm\", \"svm\"))\n",
    "brier.df2.long$type <- factor(brier.df2.long$type, \n",
    "                         levels = c(\"train/test split\", \"nested cv\"))\n",
    "\n",
    "# Plot the violin plot\n",
    "ggplot(brier.df2.long, aes(model, brier, fill = model)) + \n",
    "    geom_violin(alpha = 0.5, draw_quantiles = c(0.25, 0.5, 0.75))+ \n",
    "    facet_wrap(~type)"
   ]
  },
  {
   "cell_type": "markdown",
   "id": "ad2382e2-010f-44ac-a44a-88d53b30a8e7",
   "metadata": {},
   "source": [
    "### Question 2.3: Based on the above violin plot, which model is the best one? Why?"
   ]
  },
  {
   "cell_type": "markdown",
   "id": "4ffdde5b-0dae-4fb6-8d93-202c00eb26a1",
   "metadata": {},
   "source": [
    "## Dataset 3: `sdgm::C16` Diabetic Retinopathy\n",
    "\n",
    "For more details about this dataset, see [here](https://archive.ics.uci.edu/dataset/329/diabetic+retinopathy+debrecen)"
   ]
  },
  {
   "cell_type": "code",
   "execution_count": null,
   "id": "0aaca353-7d19-45ba-9e99-6b8fdfaabee2",
   "metadata": {
    "tags": []
   },
   "outputs": [],
   "source": [
    "# show the description of this dataset\n",
    "?sdgm::C16"
   ]
  },
  {
   "cell_type": "code",
   "execution_count": null,
   "id": "ed8f08a1-0aa2-434e-813b-e3ffcdff8a09",
   "metadata": {
    "tags": []
   },
   "outputs": [],
   "source": [
    "# first glance of the dataset\n",
    "full_data <- sdgm::C16\n",
    "head(full_data)\n",
    "dim(full_data)"
   ]
  },
  {
   "cell_type": "code",
   "execution_count": null,
   "id": "312ef929-08e1-4b2f-a33b-4ea7a8d9c2d2",
   "metadata": {
    "tags": []
   },
   "outputs": [],
   "source": [
    "# Convert characters to numbers. Note because of the special format in the data, `as.numeric` doesn't work here.\n",
    "# The code below is to extract numbers from strings\n",
    "full_data$Quality <- as.numeric(gsub(\"\\\\D\", \"\", full_data$Quality))\n",
    "full_data$PreScreen <- as.numeric(gsub(\"\\\\D\", \"\", full_data$PreScreen))\n",
    "full_data$AM_FM <- as.numeric(gsub(\"\\\\D\", \"\", full_data$AM_FM))\n",
    "full_data$Class <- as.numeric(gsub(\"\\\\D\", \"\", full_data$Class))"
   ]
  },
  {
   "cell_type": "code",
   "execution_count": null,
   "id": "a488aa03-44a8-466e-be9c-b525321bb33a",
   "metadata": {
    "tags": []
   },
   "outputs": [],
   "source": [
    "# Check the data now\n",
    "summary(full_data)\n",
    "\n",
    "# Check the outcome variable\n",
    "table(full_data$Class)"
   ]
  },
  {
   "cell_type": "markdown",
   "id": "29141d34-ed97-440c-ada0-ccab42bfac35",
   "metadata": {
    "tags": []
   },
   "source": [
    "### Question 3.1: Based on what you have learnt about the dataset, is there anything should be done to prepare the data?\n",
    "\n",
    "**Hint 1:** Are all the variables in the correct variable type?\n",
    "\n",
    "**Hint 2 (Important!):** As per some models' requirement, the outcome variable has to be a numeric variable between 0 and 1.\n",
    "\n",
    "***Note:*** Some datasets need a bit of data preparation and some don't. If you think this one needs to be prepared, choose \"yes\" and add your code in the below cell. Otherwise, choose \"no\" and leave the below cell unchanged.\n",
    "\n",
    "Your answer: yes or no? (choose one by deleting the other)"
   ]
  },
  {
   "cell_type": "code",
   "execution_count": null,
   "id": "f9860099-826f-43e4-9456-69b3acc9cb6b",
   "metadata": {
    "tags": []
   },
   "outputs": [],
   "source": [
    "# The data preparation step if needed\n",
    "           \n",
    "# Check the data now\n",
    "summary(full_data)"
   ]
  },
  {
   "cell_type": "markdown",
   "id": "d8a543f8-2a7b-4d5c-b382-6f2537282ef3",
   "metadata": {},
   "source": [
    "### Question 3.2: Build five different models and evaluate them"
   ]
  },
  {
   "cell_type": "code",
   "execution_count": null,
   "id": "036be641-9b73-4633-945b-44ea4e6a79e6",
   "metadata": {},
   "outputs": [],
   "source": [
    "# define the outcome variable\n",
    "voutcome <- Your answer"
   ]
  },
  {
   "cell_type": "markdown",
   "id": "3455ce2c-d50c-4ac6-af5c-663be88f076a",
   "metadata": {},
   "source": [
    "Based on what you have done for Dataset 1, complete the below cells of this dataset. Remember to use parallel computing."
   ]
  },
  {
   "cell_type": "code",
   "execution_count": null,
   "id": "cc0301c2-a44e-4d6b-ad19-abdca0b4a1cd",
   "metadata": {},
   "outputs": [],
   "source": [
    "# ============= 15 repeated train/test split ============= \n",
    "for (model in model_vec) {\n",
    "    Your answer\n",
    "}\n",
    "\n",
    "# save results\n",
    "res.split.df3 <- rbind(auc_split, brier_split)\n",
    "\n",
    "# print results\n",
    "print(res.split.df3)  "
   ]
  },
  {
   "cell_type": "code",
   "execution_count": null,
   "id": "6ccdc149-5361-48d8-a22b-2e3fe5d24b82",
   "metadata": {
    "tags": []
   },
   "outputs": [],
   "source": [
    "# ============= repeated nested 5-fold CV ============= \n",
    "for (model in model_vec) {\n",
    "    Your answer\n",
    "}\n",
    "\n",
    "# save results\n",
    "res.cv.df3 <- rbind(auc_cv, brier_cv)\n",
    "\n",
    "print(res.cv.df3)"
   ]
  },
  {
   "cell_type": "code",
   "execution_count": null,
   "id": "37f212b3-679b-4002-89d5-31515df27c7f",
   "metadata": {
    "tags": []
   },
   "outputs": [],
   "source": [
    "auc.df3 <- rbind(res.split.df3 %>% filter(metric == \"auc\"), \n",
    "                 res.cv.df3 %>% filter(metric == \"auc\"))\n",
    "\n",
    "# pivot the dataframe from wide to long for plotting\n",
    "auc.df3.long <- auc.df3 %>% \n",
    "    tidyr::pivot_longer(-c(type, metric), \n",
    "                        names_to = \"model\",\n",
    "                        values_to = \"auc\")\n",
    "auc.df3.long$model <- factor(auc.df3.long$model, \n",
    "                         levels = c(\"lr\", \"cart\", \"rf\", \"lgbm\", \"svm\"))\n",
    "auc.df3.long$type <- factor(auc.df3.long$type, \n",
    "                         levels = c(\"train/test split\", \"nested cv\"))\n",
    "\n",
    "# Plot the violin plot\n",
    "ggplot(auc.df3.long, aes(model, auc, fill = model)) + \n",
    "    geom_violin(alpha = 0.5, draw_quantiles = c(0.25, 0.5, 0.75))+ \n",
    "    facet_wrap(~type)"
   ]
  },
  {
   "cell_type": "code",
   "execution_count": null,
   "id": "6ce5fc75-3965-42cc-a392-0fa8a94cb076",
   "metadata": {},
   "outputs": [],
   "source": [
    "brier.df3 <- rbind(res.split.df3 %>% filter(metric == \"brier\"), \n",
    "                   res.cv.df3 %>% filter(metric == \"brier\"))\n",
    "\n",
    "# pivot the dataframe from wide to long for plotting\n",
    "brier.df3.long <- brier.df3 %>% \n",
    "    tidyr::pivot_longer(-c(type,metric), \n",
    "                        names_to = \"model\",\n",
    "                        values_to = \"brier\")\n",
    "brier.df3.long$model <- factor(brier.df3.long$model, \n",
    "                         levels = c(\"lr\", \"cart\", \"rf\", \"lgbm\", \"svm\"))\n",
    "brier.df3.long$type <- factor(brier.df3.long$type, \n",
    "                         levels = c(\"train/test split\", \"nested cv\"))\n",
    "\n",
    "# Plot the violin plot\n",
    "ggplot(brier.df3.long, aes(model, brier, fill = model)) + \n",
    "    geom_violin(alpha = 0.5, draw_quantiles = c(0.25, 0.5, 0.75))+ \n",
    "    facet_wrap(~type)"
   ]
  },
  {
   "cell_type": "markdown",
   "id": "198f55ad-2ac2-49bc-ba82-bf63f38d3348",
   "metadata": {},
   "source": [
    "### Question 3.3: Based on the above violin plot, which model is the best one? Why?"
   ]
  },
  {
   "cell_type": "markdown",
   "id": "b9d1af04-db40-447d-b0a9-62aa10867a10",
   "metadata": {},
   "source": [
    "## Dataset 4: `sdgm::C18` EEGb Eye State\n",
    "\n",
    "For more details about this dataset, see [here](https://archive.ics.uci.edu/dataset/264/eeg+eye+state). "
   ]
  },
  {
   "cell_type": "code",
   "execution_count": 32,
   "id": "06482be8-1a67-4492-a376-f91bc17370d1",
   "metadata": {
    "tags": []
   },
   "outputs": [
    {
     "data": {
      "text/html": [
       "\n",
       "<table style=\"width: 100%;\"><tr><td>C18 {sdgm}</td><td style=\"text-align: right;\">R Documentation</td></tr></table>\n",
       "\n",
       "<h2 id='C18'>EEGb Eye State</h2>\n",
       "\n",
       "<h3>Description</h3>\n",
       "\n",
       "<p>All data is from one continuous EEG measurement with the Emotiv EEG Neuroheadset. The data set consists of 14 EEG values and a value indicating the eye state.\n",
       "Target variable: eyeDetection, 2 levels\n",
       "Classification type: binomial logistic regression\n",
       "</p>\n",
       "\n",
       "\n",
       "<h3>Usage</h3>\n",
       "\n",
       "<pre><code class='language-R'>C18\n",
       "</code></pre>\n",
       "\n",
       "\n",
       "<h3>Format</h3>\n",
       "\n",
       "<p>An object of class <code>data.frame</code> with 14980 rows and 15 columns.\n",
       "</p>\n",
       "\n",
       "\n",
       "<h3>Source</h3>\n",
       "\n",
       "<p><a href=\"https://jmir.org/api/download?alt_name=medinform_v10i4e35734_app1.pdf&amp;filename=04ce0b2aec244210e4503631ee243fd0.pdf\">JMIR Article</a>\n",
       "</p>\n",
       "\n",
       "\n",
       "<h3>Examples</h3>\n",
       "\n",
       "<pre><code class='language-R'>data = sdgd::C18\n",
       "data$eyeDetection = as.factor(data$eyeDetection)\n",
       "glm(eyeDetection~., data = data, family = 'binomial')\n",
       "\n",
       "</code></pre>\n",
       "\n",
       "<hr /><div style=\"text-align: center;\">[Package <em>sdgm</em> version 0.39 ]</div>\n",
       "</div>"
      ],
      "text/latex": [
       "\\inputencoding{utf8}\n",
       "\\HeaderA{C18}{EEGb Eye State}{C18}\n",
       "\\keyword{datasets}{C18}\n",
       "%\n",
       "\\begin{Description}\n",
       "All data is from one continuous EEG measurement with the Emotiv EEG Neuroheadset. The data set consists of 14 EEG values and a value indicating the eye state.\n",
       "Target variable: eyeDetection, 2 levels\n",
       "Classification type: binomial logistic regression\n",
       "\\end{Description}\n",
       "%\n",
       "\\begin{Usage}\n",
       "\\begin{verbatim}\n",
       "C18\n",
       "\\end{verbatim}\n",
       "\\end{Usage}\n",
       "%\n",
       "\\begin{Format}\n",
       "An object of class \\code{data.frame} with 14980 rows and 15 columns.\n",
       "\\end{Format}\n",
       "%\n",
       "\\begin{Source}\n",
       "\\Rhref{https://jmir.org/api/download?alt_name=medinform_v10i4e35734_app1.pdf\\&filename=04ce0b2aec244210e4503631ee243fd0.pdf}{JMIR Article}\n",
       "\\end{Source}\n",
       "%\n",
       "\\begin{Examples}\n",
       "\\begin{ExampleCode}\n",
       "data = sdgd::C18\n",
       "data$eyeDetection = as.factor(data$eyeDetection)\n",
       "glm(eyeDetection~., data = data, family = 'binomial')\n",
       "\n",
       "\\end{ExampleCode}\n",
       "\\end{Examples}"
      ],
      "text/plain": [
       "C18                    package:sdgm                    R Documentation\n",
       "\n",
       "_\bE_\bE_\bG_\bb _\bE_\by_\be _\bS_\bt_\ba_\bt_\be\n",
       "\n",
       "_\bD_\be_\bs_\bc_\br_\bi_\bp_\bt_\bi_\bo_\bn:\n",
       "\n",
       "     All data is from one continuous EEG measurement with the Emotiv\n",
       "     EEG Neuroheadset. The data set consists of 14 EEG values and a\n",
       "     value indicating the eye state. Target variable: eyeDetection, 2\n",
       "     levels Classification type: binomial logistic regression\n",
       "\n",
       "_\bU_\bs_\ba_\bg_\be:\n",
       "\n",
       "     C18\n",
       "     \n",
       "_\bF_\bo_\br_\bm_\ba_\bt:\n",
       "\n",
       "     An object of class ‘data.frame’ with 14980 rows and 15 columns.\n",
       "\n",
       "_\bS_\bo_\bu_\br_\bc_\be:\n",
       "\n",
       "     JMIR Article\n",
       "\n",
       "_\bE_\bx_\ba_\bm_\bp_\bl_\be_\bs:\n",
       "\n",
       "     data = sdgd::C18\n",
       "     data$eyeDetection = as.factor(data$eyeDetection)\n",
       "     glm(eyeDetection~., data = data, family = 'binomial')\n",
       "     "
      ]
     },
     "metadata": {},
     "output_type": "display_data"
    }
   ],
   "source": [
    "# show the description of this dataset\n",
    "?sdgm::C18"
   ]
  },
  {
   "cell_type": "code",
   "execution_count": 33,
   "id": "81456abb-f655-46ac-b4e7-b363199f816a",
   "metadata": {
    "tags": []
   },
   "outputs": [
    {
     "data": {
      "text/html": [
       "<table class=\"dataframe\">\n",
       "<caption>A data.frame: 6 × 15</caption>\n",
       "<thead>\n",
       "\t<tr><th></th><th scope=col>AF3</th><th scope=col>F7</th><th scope=col>F3</th><th scope=col>FC5</th><th scope=col>T7</th><th scope=col>P7</th><th scope=col>O1</th><th scope=col>O2</th><th scope=col>P8</th><th scope=col>T8</th><th scope=col>FC6</th><th scope=col>F4</th><th scope=col>F8</th><th scope=col>AF4</th><th scope=col>eyeDetection</th></tr>\n",
       "\t<tr><th></th><th scope=col>&lt;dbl&gt;</th><th scope=col>&lt;dbl&gt;</th><th scope=col>&lt;dbl&gt;</th><th scope=col>&lt;dbl&gt;</th><th scope=col>&lt;dbl&gt;</th><th scope=col>&lt;dbl&gt;</th><th scope=col>&lt;dbl&gt;</th><th scope=col>&lt;dbl&gt;</th><th scope=col>&lt;dbl&gt;</th><th scope=col>&lt;dbl&gt;</th><th scope=col>&lt;dbl&gt;</th><th scope=col>&lt;dbl&gt;</th><th scope=col>&lt;dbl&gt;</th><th scope=col>&lt;dbl&gt;</th><th scope=col>&lt;chr&gt;</th></tr>\n",
       "</thead>\n",
       "<tbody>\n",
       "\t<tr><th scope=row>1</th><td>4278.46</td><td>3974.36</td><td>4261.03</td><td>4106.67</td><td>4326.67</td><td>4616.41</td><td>4085.13</td><td>4624.10</td><td>4209.74</td><td>4225.13</td><td>4192.82</td><td>4281.03</td><td>4584.10</td><td>4339.49</td><td>'0'</td></tr>\n",
       "\t<tr><th scope=row>2</th><td>4285.64</td><td>3987.18</td><td>4256.92</td><td>4109.23</td><td>4350.77</td><td>4628.72</td><td>4076.92</td><td>4618.97</td><td>4204.62</td><td>4231.28</td><td>4209.23</td><td>4266.15</td><td>4611.79</td><td>4341.54</td><td>'0'</td></tr>\n",
       "\t<tr><th scope=row>3</th><td>4292.31</td><td>3987.69</td><td>4261.54</td><td>4104.10</td><td>4312.82</td><td>4611.79</td><td>4054.87</td><td>4610.77</td><td>4201.54</td><td>4234.87</td><td>4213.85</td><td>4285.13</td><td>4614.36</td><td>4362.05</td><td>'0'</td></tr>\n",
       "\t<tr><th scope=row>4</th><td>4435.38</td><td>4088.21</td><td>4298.97</td><td>4169.74</td><td>4317.95</td><td>4592.31</td><td>4058.97</td><td>4589.23</td><td>4173.85</td><td>4219.49</td><td>4174.36</td><td>4312.31</td><td>4655.90</td><td>4473.85</td><td>'0'</td></tr>\n",
       "\t<tr><th scope=row>5</th><td>4265.13</td><td>3977.44</td><td>4236.41</td><td>4110.77</td><td>4329.23</td><td>4600.00</td><td>4052.31</td><td>4632.31</td><td>4221.03</td><td>4235.90</td><td>4212.31</td><td>4270.77</td><td>4602.05</td><td>4350.26</td><td>'1'</td></tr>\n",
       "\t<tr><th scope=row>6</th><td>4311.79</td><td>4010.77</td><td>4279.49</td><td>4151.79</td><td>4360.00</td><td>4640.51</td><td>4070.77</td><td>4637.95</td><td>4227.18</td><td>4262.05</td><td>4226.67</td><td>4299.49</td><td>4623.08</td><td>4368.72</td><td>'0'</td></tr>\n",
       "</tbody>\n",
       "</table>\n"
      ],
      "text/latex": [
       "A data.frame: 6 × 15\n",
       "\\begin{tabular}{r|lllllllllllllll}\n",
       "  & AF3 & F7 & F3 & FC5 & T7 & P7 & O1 & O2 & P8 & T8 & FC6 & F4 & F8 & AF4 & eyeDetection\\\\\n",
       "  & <dbl> & <dbl> & <dbl> & <dbl> & <dbl> & <dbl> & <dbl> & <dbl> & <dbl> & <dbl> & <dbl> & <dbl> & <dbl> & <dbl> & <chr>\\\\\n",
       "\\hline\n",
       "\t1 & 4278.46 & 3974.36 & 4261.03 & 4106.67 & 4326.67 & 4616.41 & 4085.13 & 4624.10 & 4209.74 & 4225.13 & 4192.82 & 4281.03 & 4584.10 & 4339.49 & '0'\\\\\n",
       "\t2 & 4285.64 & 3987.18 & 4256.92 & 4109.23 & 4350.77 & 4628.72 & 4076.92 & 4618.97 & 4204.62 & 4231.28 & 4209.23 & 4266.15 & 4611.79 & 4341.54 & '0'\\\\\n",
       "\t3 & 4292.31 & 3987.69 & 4261.54 & 4104.10 & 4312.82 & 4611.79 & 4054.87 & 4610.77 & 4201.54 & 4234.87 & 4213.85 & 4285.13 & 4614.36 & 4362.05 & '0'\\\\\n",
       "\t4 & 4435.38 & 4088.21 & 4298.97 & 4169.74 & 4317.95 & 4592.31 & 4058.97 & 4589.23 & 4173.85 & 4219.49 & 4174.36 & 4312.31 & 4655.90 & 4473.85 & '0'\\\\\n",
       "\t5 & 4265.13 & 3977.44 & 4236.41 & 4110.77 & 4329.23 & 4600.00 & 4052.31 & 4632.31 & 4221.03 & 4235.90 & 4212.31 & 4270.77 & 4602.05 & 4350.26 & '1'\\\\\n",
       "\t6 & 4311.79 & 4010.77 & 4279.49 & 4151.79 & 4360.00 & 4640.51 & 4070.77 & 4637.95 & 4227.18 & 4262.05 & 4226.67 & 4299.49 & 4623.08 & 4368.72 & '0'\\\\\n",
       "\\end{tabular}\n"
      ],
      "text/markdown": [
       "\n",
       "A data.frame: 6 × 15\n",
       "\n",
       "| <!--/--> | AF3 &lt;dbl&gt; | F7 &lt;dbl&gt; | F3 &lt;dbl&gt; | FC5 &lt;dbl&gt; | T7 &lt;dbl&gt; | P7 &lt;dbl&gt; | O1 &lt;dbl&gt; | O2 &lt;dbl&gt; | P8 &lt;dbl&gt; | T8 &lt;dbl&gt; | FC6 &lt;dbl&gt; | F4 &lt;dbl&gt; | F8 &lt;dbl&gt; | AF4 &lt;dbl&gt; | eyeDetection &lt;chr&gt; |\n",
       "|---|---|---|---|---|---|---|---|---|---|---|---|---|---|---|---|\n",
       "| 1 | 4278.46 | 3974.36 | 4261.03 | 4106.67 | 4326.67 | 4616.41 | 4085.13 | 4624.10 | 4209.74 | 4225.13 | 4192.82 | 4281.03 | 4584.10 | 4339.49 | '0' |\n",
       "| 2 | 4285.64 | 3987.18 | 4256.92 | 4109.23 | 4350.77 | 4628.72 | 4076.92 | 4618.97 | 4204.62 | 4231.28 | 4209.23 | 4266.15 | 4611.79 | 4341.54 | '0' |\n",
       "| 3 | 4292.31 | 3987.69 | 4261.54 | 4104.10 | 4312.82 | 4611.79 | 4054.87 | 4610.77 | 4201.54 | 4234.87 | 4213.85 | 4285.13 | 4614.36 | 4362.05 | '0' |\n",
       "| 4 | 4435.38 | 4088.21 | 4298.97 | 4169.74 | 4317.95 | 4592.31 | 4058.97 | 4589.23 | 4173.85 | 4219.49 | 4174.36 | 4312.31 | 4655.90 | 4473.85 | '0' |\n",
       "| 5 | 4265.13 | 3977.44 | 4236.41 | 4110.77 | 4329.23 | 4600.00 | 4052.31 | 4632.31 | 4221.03 | 4235.90 | 4212.31 | 4270.77 | 4602.05 | 4350.26 | '1' |\n",
       "| 6 | 4311.79 | 4010.77 | 4279.49 | 4151.79 | 4360.00 | 4640.51 | 4070.77 | 4637.95 | 4227.18 | 4262.05 | 4226.67 | 4299.49 | 4623.08 | 4368.72 | '0' |\n",
       "\n"
      ],
      "text/plain": [
       "  AF3     F7      F3      FC5     T7      P7      O1      O2      P8     \n",
       "1 4278.46 3974.36 4261.03 4106.67 4326.67 4616.41 4085.13 4624.10 4209.74\n",
       "2 4285.64 3987.18 4256.92 4109.23 4350.77 4628.72 4076.92 4618.97 4204.62\n",
       "3 4292.31 3987.69 4261.54 4104.10 4312.82 4611.79 4054.87 4610.77 4201.54\n",
       "4 4435.38 4088.21 4298.97 4169.74 4317.95 4592.31 4058.97 4589.23 4173.85\n",
       "5 4265.13 3977.44 4236.41 4110.77 4329.23 4600.00 4052.31 4632.31 4221.03\n",
       "6 4311.79 4010.77 4279.49 4151.79 4360.00 4640.51 4070.77 4637.95 4227.18\n",
       "  T8      FC6     F4      F8      AF4     eyeDetection\n",
       "1 4225.13 4192.82 4281.03 4584.10 4339.49 '0'         \n",
       "2 4231.28 4209.23 4266.15 4611.79 4341.54 '0'         \n",
       "3 4234.87 4213.85 4285.13 4614.36 4362.05 '0'         \n",
       "4 4219.49 4174.36 4312.31 4655.90 4473.85 '0'         \n",
       "5 4235.90 4212.31 4270.77 4602.05 4350.26 '1'         \n",
       "6 4262.05 4226.67 4299.49 4623.08 4368.72 '0'         "
      ]
     },
     "metadata": {},
     "output_type": "display_data"
    },
    {
     "data": {
      "text/html": [
       "<style>\n",
       ".list-inline {list-style: none; margin:0; padding: 0}\n",
       ".list-inline>li {display: inline-block}\n",
       ".list-inline>li:not(:last-child)::after {content: \"\\00b7\"; padding: 0 .5ex}\n",
       "</style>\n",
       "<ol class=list-inline><li>1498</li><li>15</li></ol>\n"
      ],
      "text/latex": [
       "\\begin{enumerate*}\n",
       "\\item 1498\n",
       "\\item 15\n",
       "\\end{enumerate*}\n"
      ],
      "text/markdown": [
       "1. 1498\n",
       "2. 15\n",
       "\n",
       "\n"
      ],
      "text/plain": [
       "[1] 1498   15"
      ]
     },
     "metadata": {},
     "output_type": "display_data"
    }
   ],
   "source": [
    "# first glance of the dataset\n",
    "# Considering the sample size, we will sample 10% of it for this assignment.\n",
    "full_data <- sdgm::C18 %>% slice_sample(prop=0.1)\n",
    "head(full_data)\n",
    "dim(full_data)\n"
   ]
  },
  {
   "cell_type": "code",
   "execution_count": 34,
   "id": "55ec5aff-035b-4b05-a2bf-46f12da110fa",
   "metadata": {
    "tags": []
   },
   "outputs": [],
   "source": [
    "# Convert characters to numbers. Note because of the special format in the data, `as.numeric` doesn't work here.\n",
    "# The code below is to extract numbers from strings\n",
    "full_data$eyeDetection <- as.numeric(gsub(\"\\\\D\", \"\", full_data$eyeDetection))"
   ]
  },
  {
   "cell_type": "code",
   "execution_count": 35,
   "id": "1f12d175-5486-4fa6-a14a-a5f949303d98",
   "metadata": {
    "tags": []
   },
   "outputs": [
    {
     "name": "stdout",
     "output_type": "stream",
     "text": [
      "character(0)\n"
     ]
    },
    {
     "data": {
      "text/plain": [
       "      AF3             F7             F3            FC5             T7      \n",
       " Min.   :4199   Min.   :3915   Min.   :4208   Min.   :4061   Min.   :4305  \n",
       " 1st Qu.:4279   1st Qu.:3991   1st Qu.:4250   1st Qu.:4108   1st Qu.:4332  \n",
       " Median :4294   Median :4005   Median :4262   Median :4120   Median :4339  \n",
       " Mean   :4301   Mean   :4010   Mean   :4264   Mean   :4122   Mean   :4341  \n",
       " 3rd Qu.:4312   3rd Qu.:4023   3rd Qu.:4271   3rd Qu.:4133   3rd Qu.:4347  \n",
       " Max.   :4504   Max.   :4155   Max.   :4383   Max.   :4236   Max.   :4464  \n",
       "       P7             O1             O2             P8             T8      \n",
       " Min.   :4566   Min.   :4027   Min.   :4574   Min.   :4158   Min.   :4167  \n",
       " 1st Qu.:4611   1st Qu.:4058   1st Qu.:4604   1st Qu.:4190   1st Qu.:4219  \n",
       " Median :4617   Median :4070   Median :4613   Median :4199   Median :4228  \n",
       " Mean   :4620   Mean   :4073   Mean   :4615   Mean   :4201   Mean   :4230  \n",
       " 3rd Qu.:4626   3rd Qu.:4084   3rd Qu.:4624   3rd Qu.:4209   3rd Qu.:4239  \n",
       " Max.   :4751   Max.   :4176   Max.   :4729   Max.   :4313   Max.   :4352  \n",
       "      FC6             F4             F8            AF4        eyeDetection   \n",
       " Min.   :4105   Min.   :4207   Min.   :4447   Min.   :4215   Min.   :0.0000  \n",
       " 1st Qu.:4189   1st Qu.:4267   1st Qu.:4590   1st Qu.:4340   1st Qu.:0.0000  \n",
       " Median :4199   Median :4276   Median :4603   Median :4354   Median :0.0000  \n",
       " Mean   :4201   Mean   :4279   Mean   :4605   Mean   :4361   Mean   :0.4433  \n",
       " 3rd Qu.:4211   3rd Qu.:4287   3rd Qu.:4617   3rd Qu.:4372   3rd Qu.:1.0000  \n",
       " Max.   :4331   Max.   :4389   Max.   :4834   Max.   :4573   Max.   :1.0000  "
      ]
     },
     "metadata": {},
     "output_type": "display_data"
    },
    {
     "data": {
      "text/html": [
       "<table class=\"dataframe\">\n",
       "<caption>A data.frame: 6 × 15</caption>\n",
       "<thead>\n",
       "\t<tr><th></th><th scope=col>AF3</th><th scope=col>F7</th><th scope=col>F3</th><th scope=col>FC5</th><th scope=col>T7</th><th scope=col>P7</th><th scope=col>O1</th><th scope=col>O2</th><th scope=col>P8</th><th scope=col>T8</th><th scope=col>FC6</th><th scope=col>F4</th><th scope=col>F8</th><th scope=col>AF4</th><th scope=col>eyeDetection</th></tr>\n",
       "\t<tr><th></th><th scope=col>&lt;dbl&gt;</th><th scope=col>&lt;dbl&gt;</th><th scope=col>&lt;dbl&gt;</th><th scope=col>&lt;dbl&gt;</th><th scope=col>&lt;dbl&gt;</th><th scope=col>&lt;dbl&gt;</th><th scope=col>&lt;dbl&gt;</th><th scope=col>&lt;dbl&gt;</th><th scope=col>&lt;dbl&gt;</th><th scope=col>&lt;dbl&gt;</th><th scope=col>&lt;dbl&gt;</th><th scope=col>&lt;dbl&gt;</th><th scope=col>&lt;dbl&gt;</th><th scope=col>&lt;dbl&gt;</th><th scope=col>&lt;dbl&gt;</th></tr>\n",
       "</thead>\n",
       "<tbody>\n",
       "\t<tr><th scope=row>1</th><td>4278.46</td><td>3974.36</td><td>4261.03</td><td>4106.67</td><td>4326.67</td><td>4616.41</td><td>4085.13</td><td>4624.10</td><td>4209.74</td><td>4225.13</td><td>4192.82</td><td>4281.03</td><td>4584.10</td><td>4339.49</td><td>0</td></tr>\n",
       "\t<tr><th scope=row>2</th><td>4285.64</td><td>3987.18</td><td>4256.92</td><td>4109.23</td><td>4350.77</td><td>4628.72</td><td>4076.92</td><td>4618.97</td><td>4204.62</td><td>4231.28</td><td>4209.23</td><td>4266.15</td><td>4611.79</td><td>4341.54</td><td>0</td></tr>\n",
       "\t<tr><th scope=row>3</th><td>4292.31</td><td>3987.69</td><td>4261.54</td><td>4104.10</td><td>4312.82</td><td>4611.79</td><td>4054.87</td><td>4610.77</td><td>4201.54</td><td>4234.87</td><td>4213.85</td><td>4285.13</td><td>4614.36</td><td>4362.05</td><td>0</td></tr>\n",
       "\t<tr><th scope=row>4</th><td>4435.38</td><td>4088.21</td><td>4298.97</td><td>4169.74</td><td>4317.95</td><td>4592.31</td><td>4058.97</td><td>4589.23</td><td>4173.85</td><td>4219.49</td><td>4174.36</td><td>4312.31</td><td>4655.90</td><td>4473.85</td><td>0</td></tr>\n",
       "\t<tr><th scope=row>5</th><td>4265.13</td><td>3977.44</td><td>4236.41</td><td>4110.77</td><td>4329.23</td><td>4600.00</td><td>4052.31</td><td>4632.31</td><td>4221.03</td><td>4235.90</td><td>4212.31</td><td>4270.77</td><td>4602.05</td><td>4350.26</td><td>1</td></tr>\n",
       "\t<tr><th scope=row>6</th><td>4311.79</td><td>4010.77</td><td>4279.49</td><td>4151.79</td><td>4360.00</td><td>4640.51</td><td>4070.77</td><td>4637.95</td><td>4227.18</td><td>4262.05</td><td>4226.67</td><td>4299.49</td><td>4623.08</td><td>4368.72</td><td>0</td></tr>\n",
       "</tbody>\n",
       "</table>\n"
      ],
      "text/latex": [
       "A data.frame: 6 × 15\n",
       "\\begin{tabular}{r|lllllllllllllll}\n",
       "  & AF3 & F7 & F3 & FC5 & T7 & P7 & O1 & O2 & P8 & T8 & FC6 & F4 & F8 & AF4 & eyeDetection\\\\\n",
       "  & <dbl> & <dbl> & <dbl> & <dbl> & <dbl> & <dbl> & <dbl> & <dbl> & <dbl> & <dbl> & <dbl> & <dbl> & <dbl> & <dbl> & <dbl>\\\\\n",
       "\\hline\n",
       "\t1 & 4278.46 & 3974.36 & 4261.03 & 4106.67 & 4326.67 & 4616.41 & 4085.13 & 4624.10 & 4209.74 & 4225.13 & 4192.82 & 4281.03 & 4584.10 & 4339.49 & 0\\\\\n",
       "\t2 & 4285.64 & 3987.18 & 4256.92 & 4109.23 & 4350.77 & 4628.72 & 4076.92 & 4618.97 & 4204.62 & 4231.28 & 4209.23 & 4266.15 & 4611.79 & 4341.54 & 0\\\\\n",
       "\t3 & 4292.31 & 3987.69 & 4261.54 & 4104.10 & 4312.82 & 4611.79 & 4054.87 & 4610.77 & 4201.54 & 4234.87 & 4213.85 & 4285.13 & 4614.36 & 4362.05 & 0\\\\\n",
       "\t4 & 4435.38 & 4088.21 & 4298.97 & 4169.74 & 4317.95 & 4592.31 & 4058.97 & 4589.23 & 4173.85 & 4219.49 & 4174.36 & 4312.31 & 4655.90 & 4473.85 & 0\\\\\n",
       "\t5 & 4265.13 & 3977.44 & 4236.41 & 4110.77 & 4329.23 & 4600.00 & 4052.31 & 4632.31 & 4221.03 & 4235.90 & 4212.31 & 4270.77 & 4602.05 & 4350.26 & 1\\\\\n",
       "\t6 & 4311.79 & 4010.77 & 4279.49 & 4151.79 & 4360.00 & 4640.51 & 4070.77 & 4637.95 & 4227.18 & 4262.05 & 4226.67 & 4299.49 & 4623.08 & 4368.72 & 0\\\\\n",
       "\\end{tabular}\n"
      ],
      "text/markdown": [
       "\n",
       "A data.frame: 6 × 15\n",
       "\n",
       "| <!--/--> | AF3 &lt;dbl&gt; | F7 &lt;dbl&gt; | F3 &lt;dbl&gt; | FC5 &lt;dbl&gt; | T7 &lt;dbl&gt; | P7 &lt;dbl&gt; | O1 &lt;dbl&gt; | O2 &lt;dbl&gt; | P8 &lt;dbl&gt; | T8 &lt;dbl&gt; | FC6 &lt;dbl&gt; | F4 &lt;dbl&gt; | F8 &lt;dbl&gt; | AF4 &lt;dbl&gt; | eyeDetection &lt;dbl&gt; |\n",
       "|---|---|---|---|---|---|---|---|---|---|---|---|---|---|---|---|\n",
       "| 1 | 4278.46 | 3974.36 | 4261.03 | 4106.67 | 4326.67 | 4616.41 | 4085.13 | 4624.10 | 4209.74 | 4225.13 | 4192.82 | 4281.03 | 4584.10 | 4339.49 | 0 |\n",
       "| 2 | 4285.64 | 3987.18 | 4256.92 | 4109.23 | 4350.77 | 4628.72 | 4076.92 | 4618.97 | 4204.62 | 4231.28 | 4209.23 | 4266.15 | 4611.79 | 4341.54 | 0 |\n",
       "| 3 | 4292.31 | 3987.69 | 4261.54 | 4104.10 | 4312.82 | 4611.79 | 4054.87 | 4610.77 | 4201.54 | 4234.87 | 4213.85 | 4285.13 | 4614.36 | 4362.05 | 0 |\n",
       "| 4 | 4435.38 | 4088.21 | 4298.97 | 4169.74 | 4317.95 | 4592.31 | 4058.97 | 4589.23 | 4173.85 | 4219.49 | 4174.36 | 4312.31 | 4655.90 | 4473.85 | 0 |\n",
       "| 5 | 4265.13 | 3977.44 | 4236.41 | 4110.77 | 4329.23 | 4600.00 | 4052.31 | 4632.31 | 4221.03 | 4235.90 | 4212.31 | 4270.77 | 4602.05 | 4350.26 | 1 |\n",
       "| 6 | 4311.79 | 4010.77 | 4279.49 | 4151.79 | 4360.00 | 4640.51 | 4070.77 | 4637.95 | 4227.18 | 4262.05 | 4226.67 | 4299.49 | 4623.08 | 4368.72 | 0 |\n",
       "\n"
      ],
      "text/plain": [
       "  AF3     F7      F3      FC5     T7      P7      O1      O2      P8     \n",
       "1 4278.46 3974.36 4261.03 4106.67 4326.67 4616.41 4085.13 4624.10 4209.74\n",
       "2 4285.64 3987.18 4256.92 4109.23 4350.77 4628.72 4076.92 4618.97 4204.62\n",
       "3 4292.31 3987.69 4261.54 4104.10 4312.82 4611.79 4054.87 4610.77 4201.54\n",
       "4 4435.38 4088.21 4298.97 4169.74 4317.95 4592.31 4058.97 4589.23 4173.85\n",
       "5 4265.13 3977.44 4236.41 4110.77 4329.23 4600.00 4052.31 4632.31 4221.03\n",
       "6 4311.79 4010.77 4279.49 4151.79 4360.00 4640.51 4070.77 4637.95 4227.18\n",
       "  T8      FC6     F4      F8      AF4     eyeDetection\n",
       "1 4225.13 4192.82 4281.03 4584.10 4339.49 0           \n",
       "2 4231.28 4209.23 4266.15 4611.79 4341.54 0           \n",
       "3 4234.87 4213.85 4285.13 4614.36 4362.05 0           \n",
       "4 4219.49 4174.36 4312.31 4655.90 4473.85 0           \n",
       "5 4235.90 4212.31 4270.77 4602.05 4350.26 1           \n",
       "6 4262.05 4226.67 4299.49 4623.08 4368.72 0           "
      ]
     },
     "metadata": {},
     "output_type": "display_data"
    },
    {
     "data": {
      "text/plain": [
       "\n",
       "  0   1 \n",
       "834 664 "
      ]
     },
     "metadata": {},
     "output_type": "display_data"
    }
   ],
   "source": [
    "# Check the data now\n",
    "missing_data <- sapply(full_data, function(x) sum(is.na(x)))\n",
    "variables_with_missing_data <- names(full_data)[missing_data > 0]\n",
    "print(variables_with_missing_data)\n",
    "summary(full_data)\n",
    "head(full_data)\n",
    "\n",
    "# Check the outcome variable\n",
    "table(full_data$eyeDetection)"
   ]
  },
  {
   "cell_type": "markdown",
   "id": "c51fd599-61af-4462-a59b-3453dccbdfce",
   "metadata": {
    "tags": []
   },
   "source": [
    "### Question 4.1: Based on what you have learnt about the dataset, is there anything should be done to prepare the data?\n",
    "\n",
    "**Hint 1:** Are all the variables in the correct variable type?\n",
    "\n",
    "**Hint 2 (Important!):** As per some models' requirement, the outcome variable has to be a numeric variable between 0 and 1.\n",
    "\n",
    "***Note:*** Some datasets need a bit of data preparation and some don't. If you think this one needs to be prepared, choose \"yes\" and add your code in the below cell. Otherwise, choose \"no\" and leave the below cell unchanged.\n",
    "\n",
    "Your answer: yes or no? (choose one by deleting the other)"
   ]
  },
  {
   "cell_type": "code",
   "execution_count": null,
   "id": "e673af67-c430-468d-818a-88c4ce6e6456",
   "metadata": {
    "tags": []
   },
   "outputs": [],
   "source": [
    "# The data preparation step if needed\n",
    "\n",
    "# Check the data now\n",
    "summary(full_data)"
   ]
  },
  {
   "cell_type": "markdown",
   "id": "a05f66de-e725-4f59-b001-386faf66c4e1",
   "metadata": {},
   "source": [
    "### Question 4.2: Build five different models and evaluate them"
   ]
  },
  {
   "cell_type": "code",
   "execution_count": null,
   "id": "54e7164a-bd3e-46e9-b3d2-72ac5f716462",
   "metadata": {},
   "outputs": [],
   "source": [
    "# define the outcome variable\n",
    "voutcome <- Your answer"
   ]
  },
  {
   "cell_type": "markdown",
   "id": "d4ed7bc6-7454-4105-adc7-949820e8077a",
   "metadata": {},
   "source": [
    "Based on what you have done for Dataset 1, complete the below cells of this dataset. Remember to use parallel computing."
   ]
  },
  {
   "cell_type": "code",
   "execution_count": null,
   "id": "80dc6b0b-2ec1-4192-8cac-18732ab71a73",
   "metadata": {},
   "outputs": [],
   "source": [
    "# ============= 15 repeated train/test split ============= \n",
    "for (model in model_vec) {\n",
    "    Your answer\n",
    "}\n",
    "\n",
    "# save results\n",
    "res.split.df4 <- rbind(auc_split, brier_split)\n",
    "\n",
    "# print results\n",
    "print(res.split.df4)  "
   ]
  },
  {
   "cell_type": "code",
   "execution_count": null,
   "id": "1fa2d5cb-4e58-4f71-b5d3-f9edddf0e473",
   "metadata": {
    "tags": []
   },
   "outputs": [],
   "source": [
    "# ============= repeated nested 5-fold CV ============= \n",
    "for (model in model_vec) {\n",
    "    Your answer\n",
    "}\n",
    "\n",
    "# save results\n",
    "res.cv.df4 <- rbind(auc_cv, brier_cv)\n",
    "\n",
    "print(res.cv.df4)"
   ]
  },
  {
   "cell_type": "code",
   "execution_count": null,
   "id": "f57c3c6a-ab76-47e4-b852-c7019e766dda",
   "metadata": {
    "tags": []
   },
   "outputs": [],
   "source": [
    "auc.df4 <- rbind(res.split.df4 %>% filter(metric == \"auc\"), \n",
    "                 res.cv.df4 %>% filter(metric == \"auc\"))\n",
    "\n",
    "# pivot the dataframe from wide to long for plotting\n",
    "auc.df4.long <- auc.df4 %>% \n",
    "    tidyr::pivot_longer(-c(type, metric), \n",
    "                        names_to = \"model\",\n",
    "                        values_to = \"auc\")\n",
    "auc.df4.long$model <- factor(auc.df4.long$model, \n",
    "                         levels = c(\"lr\", \"cart\", \"rf\", \"lgbm\", \"svm\"))\n",
    "auc.df4.long$type <- factor(auc.df4.long$type, \n",
    "                         levels = c(\"train/test split\", \"nested cv\"))\n",
    "\n",
    "# Plot the violin plot\n",
    "ggplot(auc.df4.long, aes(model, auc, fill = model)) + \n",
    "    geom_violin(alpha = 0.5, draw_quantiles = c(0.25, 0.5, 0.75))+ \n",
    "    facet_wrap(~type)"
   ]
  },
  {
   "cell_type": "code",
   "execution_count": null,
   "id": "ccd92b48-c336-4f55-86f0-80f55c88931e",
   "metadata": {},
   "outputs": [],
   "source": [
    "brier.df4 <- rbind(res.split.df4 %>% filter(metric == \"brier\"), \n",
    "                   res.cv.df4 %>% filter(metric == \"brier\"))\n",
    "\n",
    "# pivot the dataframe from wide to long for plotting\n",
    "brier.df4.long <- brier.df4 %>% \n",
    "    tidyr::pivot_longer(-c(type,metric), \n",
    "                        names_to = \"model\",\n",
    "                        values_to = \"brier\")\n",
    "brier.df4.long$model <- factor(brier.df4.long$model, \n",
    "                         levels = c(\"lr\", \"cart\", \"rf\", \"lgbm\", \"svm\"))\n",
    "brier.df4.long$type <- factor(brier.df4.long$type, \n",
    "                         levels = c(\"train/test split\", \"nested cv\"))\n",
    "\n",
    "# Plot the violin plot\n",
    "ggplot(brier.df4.long, aes(model, brier, fill = model)) + \n",
    "    geom_violin(alpha = 0.5, draw_quantiles = c(0.25, 0.5, 0.75))+ \n",
    "    facet_wrap(~type)"
   ]
  },
  {
   "cell_type": "markdown",
   "id": "45014114-a1ce-4867-8baa-1d6fb5f4e083",
   "metadata": {},
   "source": [
    "### Question 4.3: Based on the above violin plot, which model is the best one? Why?"
   ]
  },
  {
   "cell_type": "markdown",
   "id": "44ce61f4-735c-4eed-8bf5-8a7133faa564",
   "metadata": {},
   "source": [
    "## Dataset 5: `sdgm::C23` Stroke\n",
    "\n",
    "For more details about this dataset, see [here](https://www.kaggle.com/datasets/fedesoriano/stroke-prediction-dataset/data)"
   ]
  },
  {
   "cell_type": "code",
   "execution_count": 36,
   "id": "a6f9c03f-8f4e-45ae-bb66-0786e361724f",
   "metadata": {
    "tags": []
   },
   "outputs": [
    {
     "data": {
      "text/html": [
       "\n",
       "<table style=\"width: 100%;\"><tr><td>C23 {sdgm}</td><td style=\"text-align: right;\">R Documentation</td></tr></table>\n",
       "\n",
       "<h2 id='C23'>Stroke</h2>\n",
       "\n",
       "<h3>Description</h3>\n",
       "\n",
       "<p>Health care database to predict stroke.\n",
       "Target variable: stroke, 2 levels\n",
       "Classification type: binomial logistic regression\n",
       "</p>\n",
       "\n",
       "\n",
       "<h3>Usage</h3>\n",
       "\n",
       "<pre><code class='language-R'>C23\n",
       "</code></pre>\n",
       "\n",
       "\n",
       "<h3>Format</h3>\n",
       "\n",
       "<p>An object of class <code>data.frame</code> with 29072 rows and 11 columns.\n",
       "</p>\n",
       "\n",
       "\n",
       "<h3>Source</h3>\n",
       "\n",
       "<p><a href=\"https://jmir.org/api/download?alt_name=medinform_v10i4e35734_app1.pdf&amp;filename=04ce0b2aec244210e4503631ee243fd0.pdf\">JMIR Article</a>\n",
       "</p>\n",
       "\n",
       "\n",
       "<h3>Examples</h3>\n",
       "\n",
       "<pre><code class='language-R'>data = sdgd::C23\n",
       "data$stroke = as.factor(data$stroke)\n",
       "glm(stroke~., data = data, family = 'binomial')\n",
       "\n",
       "</code></pre>\n",
       "\n",
       "<hr /><div style=\"text-align: center;\">[Package <em>sdgm</em> version 0.39 ]</div>\n",
       "</div>"
      ],
      "text/latex": [
       "\\inputencoding{utf8}\n",
       "\\HeaderA{C23}{Stroke}{C23}\n",
       "\\keyword{datasets}{C23}\n",
       "%\n",
       "\\begin{Description}\n",
       "Health care database to predict stroke.\n",
       "Target variable: stroke, 2 levels\n",
       "Classification type: binomial logistic regression\n",
       "\\end{Description}\n",
       "%\n",
       "\\begin{Usage}\n",
       "\\begin{verbatim}\n",
       "C23\n",
       "\\end{verbatim}\n",
       "\\end{Usage}\n",
       "%\n",
       "\\begin{Format}\n",
       "An object of class \\code{data.frame} with 29072 rows and 11 columns.\n",
       "\\end{Format}\n",
       "%\n",
       "\\begin{Source}\n",
       "\\Rhref{https://jmir.org/api/download?alt_name=medinform_v10i4e35734_app1.pdf\\&filename=04ce0b2aec244210e4503631ee243fd0.pdf}{JMIR Article}\n",
       "\\end{Source}\n",
       "%\n",
       "\\begin{Examples}\n",
       "\\begin{ExampleCode}\n",
       "data = sdgd::C23\n",
       "data$stroke = as.factor(data$stroke)\n",
       "glm(stroke~., data = data, family = 'binomial')\n",
       "\n",
       "\\end{ExampleCode}\n",
       "\\end{Examples}"
      ],
      "text/plain": [
       "C23                    package:sdgm                    R Documentation\n",
       "\n",
       "_\bS_\bt_\br_\bo_\bk_\be\n",
       "\n",
       "_\bD_\be_\bs_\bc_\br_\bi_\bp_\bt_\bi_\bo_\bn:\n",
       "\n",
       "     Health care database to predict stroke. Target variable: stroke, 2\n",
       "     levels Classification type: binomial logistic regression\n",
       "\n",
       "_\bU_\bs_\ba_\bg_\be:\n",
       "\n",
       "     C23\n",
       "     \n",
       "_\bF_\bo_\br_\bm_\ba_\bt:\n",
       "\n",
       "     An object of class ‘data.frame’ with 29072 rows and 11 columns.\n",
       "\n",
       "_\bS_\bo_\bu_\br_\bc_\be:\n",
       "\n",
       "     JMIR Article\n",
       "\n",
       "_\bE_\bx_\ba_\bm_\bp_\bl_\be_\bs:\n",
       "\n",
       "     data = sdgd::C23\n",
       "     data$stroke = as.factor(data$stroke)\n",
       "     glm(stroke~., data = data, family = 'binomial')\n",
       "     "
      ]
     },
     "metadata": {},
     "output_type": "display_data"
    }
   ],
   "source": [
    "# show the description of this dataset\n",
    "?sdgm::C23"
   ]
  },
  {
   "cell_type": "code",
   "execution_count": 49,
   "id": "53903f79-47da-41a4-9131-4337af8e7084",
   "metadata": {
    "tags": []
   },
   "outputs": [
    {
     "data": {
      "text/html": [
       "<table class=\"dataframe\">\n",
       "<caption>A data.frame: 6 × 11</caption>\n",
       "<thead>\n",
       "\t<tr><th></th><th scope=col>gender</th><th scope=col>age</th><th scope=col>hypertension</th><th scope=col>heart_disease</th><th scope=col>ever_married</th><th scope=col>work_type</th><th scope=col>Residence_type</th><th scope=col>avg_glucose_level</th><th scope=col>bmi</th><th scope=col>smoking_status</th><th scope=col>stroke</th></tr>\n",
       "\t<tr><th></th><th scope=col>&lt;fct&gt;</th><th scope=col>&lt;int&gt;</th><th scope=col>&lt;chr&gt;</th><th scope=col>&lt;chr&gt;</th><th scope=col>&lt;fct&gt;</th><th scope=col>&lt;fct&gt;</th><th scope=col>&lt;fct&gt;</th><th scope=col>&lt;dbl&gt;</th><th scope=col>&lt;dbl&gt;</th><th scope=col>&lt;fct&gt;</th><th scope=col>&lt;chr&gt;</th></tr>\n",
       "</thead>\n",
       "<tbody>\n",
       "\t<tr><th scope=row>1</th><td>Male  </td><td>70</td><td>'0'</td><td>'0'</td><td>Yes</td><td>Private      </td><td>Rural</td><td> 90.30</td><td>33.5</td><td>formerly smoked</td><td>'0'</td></tr>\n",
       "\t<tr><th scope=row>2</th><td>Female</td><td>28</td><td>'0'</td><td>'0'</td><td>No </td><td>Private      </td><td>Rural</td><td> 95.02</td><td>31.6</td><td>smokes         </td><td>'0'</td></tr>\n",
       "\t<tr><th scope=row>3</th><td>Male  </td><td>43</td><td>'0'</td><td>'0'</td><td>No </td><td>Private      </td><td>Urban</td><td> 77.96</td><td>22.1</td><td>formerly smoked</td><td>'0'</td></tr>\n",
       "\t<tr><th scope=row>4</th><td>Female</td><td>48</td><td>'1'</td><td>'0'</td><td>Yes</td><td>Govt_job     </td><td>Rural</td><td>252.75</td><td>49.9</td><td>formerly smoked</td><td>'0'</td></tr>\n",
       "\t<tr><th scope=row>5</th><td>Male  </td><td>64</td><td>'1'</td><td>'0'</td><td>Yes</td><td>Self-employed</td><td>Urban</td><td> 96.03</td><td>42.9</td><td>formerly smoked</td><td>'0'</td></tr>\n",
       "\t<tr><th scope=row>6</th><td>Female</td><td>32</td><td>'0'</td><td>'0'</td><td>Yes</td><td>Private      </td><td>Rural</td><td>102.87</td><td>26.6</td><td>smokes         </td><td>'0'</td></tr>\n",
       "</tbody>\n",
       "</table>\n"
      ],
      "text/latex": [
       "A data.frame: 6 × 11\n",
       "\\begin{tabular}{r|lllllllllll}\n",
       "  & gender & age & hypertension & heart\\_disease & ever\\_married & work\\_type & Residence\\_type & avg\\_glucose\\_level & bmi & smoking\\_status & stroke\\\\\n",
       "  & <fct> & <int> & <chr> & <chr> & <fct> & <fct> & <fct> & <dbl> & <dbl> & <fct> & <chr>\\\\\n",
       "\\hline\n",
       "\t1 & Male   & 70 & '0' & '0' & Yes & Private       & Rural &  90.30 & 33.5 & formerly smoked & '0'\\\\\n",
       "\t2 & Female & 28 & '0' & '0' & No  & Private       & Rural &  95.02 & 31.6 & smokes          & '0'\\\\\n",
       "\t3 & Male   & 43 & '0' & '0' & No  & Private       & Urban &  77.96 & 22.1 & formerly smoked & '0'\\\\\n",
       "\t4 & Female & 48 & '1' & '0' & Yes & Govt\\_job      & Rural & 252.75 & 49.9 & formerly smoked & '0'\\\\\n",
       "\t5 & Male   & 64 & '1' & '0' & Yes & Self-employed & Urban &  96.03 & 42.9 & formerly smoked & '0'\\\\\n",
       "\t6 & Female & 32 & '0' & '0' & Yes & Private       & Rural & 102.87 & 26.6 & smokes          & '0'\\\\\n",
       "\\end{tabular}\n"
      ],
      "text/markdown": [
       "\n",
       "A data.frame: 6 × 11\n",
       "\n",
       "| <!--/--> | gender &lt;fct&gt; | age &lt;int&gt; | hypertension &lt;chr&gt; | heart_disease &lt;chr&gt; | ever_married &lt;fct&gt; | work_type &lt;fct&gt; | Residence_type &lt;fct&gt; | avg_glucose_level &lt;dbl&gt; | bmi &lt;dbl&gt; | smoking_status &lt;fct&gt; | stroke &lt;chr&gt; |\n",
       "|---|---|---|---|---|---|---|---|---|---|---|---|\n",
       "| 1 | Male   | 70 | '0' | '0' | Yes | Private       | Rural |  90.30 | 33.5 | formerly smoked | '0' |\n",
       "| 2 | Female | 28 | '0' | '0' | No  | Private       | Rural |  95.02 | 31.6 | smokes          | '0' |\n",
       "| 3 | Male   | 43 | '0' | '0' | No  | Private       | Urban |  77.96 | 22.1 | formerly smoked | '0' |\n",
       "| 4 | Female | 48 | '1' | '0' | Yes | Govt_job      | Rural | 252.75 | 49.9 | formerly smoked | '0' |\n",
       "| 5 | Male   | 64 | '1' | '0' | Yes | Self-employed | Urban |  96.03 | 42.9 | formerly smoked | '0' |\n",
       "| 6 | Female | 32 | '0' | '0' | Yes | Private       | Rural | 102.87 | 26.6 | smokes          | '0' |\n",
       "\n"
      ],
      "text/plain": [
       "  gender age hypertension heart_disease ever_married work_type    \n",
       "1 Male   70  '0'          '0'           Yes          Private      \n",
       "2 Female 28  '0'          '0'           No           Private      \n",
       "3 Male   43  '0'          '0'           No           Private      \n",
       "4 Female 48  '1'          '0'           Yes          Govt_job     \n",
       "5 Male   64  '1'          '0'           Yes          Self-employed\n",
       "6 Female 32  '0'          '0'           Yes          Private      \n",
       "  Residence_type avg_glucose_level bmi  smoking_status  stroke\n",
       "1 Rural           90.30            33.5 formerly smoked '0'   \n",
       "2 Rural           95.02            31.6 smokes          '0'   \n",
       "3 Urban           77.96            22.1 formerly smoked '0'   \n",
       "4 Rural          252.75            49.9 formerly smoked '0'   \n",
       "5 Urban           96.03            42.9 formerly smoked '0'   \n",
       "6 Rural          102.87            26.6 smokes          '0'   "
      ]
     },
     "metadata": {},
     "output_type": "display_data"
    },
    {
     "data": {
      "text/html": [
       "<style>\n",
       ".list-inline {list-style: none; margin:0; padding: 0}\n",
       ".list-inline>li {display: inline-block}\n",
       ".list-inline>li:not(:last-child)::after {content: \"\\00b7\"; padding: 0 .5ex}\n",
       "</style>\n",
       "<ol class=list-inline><li>2907</li><li>11</li></ol>\n"
      ],
      "text/latex": [
       "\\begin{enumerate*}\n",
       "\\item 2907\n",
       "\\item 11\n",
       "\\end{enumerate*}\n"
      ],
      "text/markdown": [
       "1. 2907\n",
       "2. 11\n",
       "\n",
       "\n"
      ],
      "text/plain": [
       "[1] 2907   11"
      ]
     },
     "metadata": {},
     "output_type": "display_data"
    }
   ],
   "source": [
    "# first glance of the dataset\n",
    "# Considering the sample size, we will sample 10% of it for this assignment.\n",
    "full_data <- sdgm::C23 %>% slice_sample(prop=0.1)\n",
    "head(full_data)\n",
    "dim(full_data)"
   ]
  },
  {
   "cell_type": "code",
   "execution_count": 50,
   "id": "33037e68-5a3a-4bc0-bee3-11bc3badd766",
   "metadata": {
    "tags": []
   },
   "outputs": [],
   "source": [
    "# Convert characters to numbers. Note because of the special format in the data, `as.numeric` doesn't work here.\n",
    "# The code below is to extract numbers from strings\n",
    "full_data$hypertension <- as.numeric(gsub(\"\\\\D\", \"\", full_data$hypertension))\n",
    "full_data$heart_disease <- as.numeric(gsub(\"\\\\D\", \"\", full_data$heart_disease))\n",
    "full_data$stroke <- as.numeric(gsub(\"\\\\D\", \"\", full_data$stroke))"
   ]
  },
  {
   "cell_type": "code",
   "execution_count": 51,
   "id": "2b48d68f-77cd-403a-9c89-ef988b103bc4",
   "metadata": {
    "tags": []
   },
   "outputs": [
    {
     "data": {
      "text/plain": [
       "    gender          age         hypertension    heart_disease     ever_married\n",
       " Female:1798   Min.   :10.00   Min.   :0.0000   Min.   :0.00000   No : 691    \n",
       " Male  :1109   1st Qu.:34.00   1st Qu.:0.0000   1st Qu.:0.00000   Yes:2216    \n",
       " Other :   0   Median :49.00   Median :0.0000   Median :0.00000               \n",
       "               Mean   :48.24   Mean   :0.1166   Mean   :0.05401               \n",
       "               3rd Qu.:62.00   3rd Qu.:0.0000   3rd Qu.:0.00000               \n",
       "               Max.   :82.00   Max.   :1.0000   Max.   :1.00000               \n",
       "         work_type    Residence_type avg_glucose_level      bmi       \n",
       " children     :  61   Rural:1449     Min.   : 55.04    Min.   :13.50  \n",
       " Govt_job     : 448   Urban:1458     1st Qu.: 78.02    1st Qu.:25.10  \n",
       " Never_worked :   9                  Median : 91.68    Median :29.00  \n",
       " Private      :1865                  Mean   :106.45    Mean   :30.16  \n",
       " Self-employed: 524                  3rd Qu.:112.97    3rd Qu.:34.10  \n",
       "                                     Max.   :275.12    Max.   :80.10  \n",
       "         smoking_status     stroke      \n",
       " formerly smoked: 701   Min.   :0.0000  \n",
       " never smoked   :1570   1st Qu.:0.0000  \n",
       " smokes         : 636   Median :0.0000  \n",
       "                        Mean   :0.0203  \n",
       "                        3rd Qu.:0.0000  \n",
       "                        Max.   :1.0000  "
      ]
     },
     "metadata": {},
     "output_type": "display_data"
    },
    {
     "data": {
      "text/plain": [
       "\n",
       "   0    1 \n",
       "2848   59 "
      ]
     },
     "metadata": {},
     "output_type": "display_data"
    }
   ],
   "source": [
    "# Check the data now\n",
    "summary(full_data)\n",
    "\n",
    "\n",
    "# Check the outcome variable\n",
    "table(full_data$stroke)"
   ]
  },
  {
   "cell_type": "markdown",
   "id": "b349d020-4646-4495-97c5-dc1a3db2bd78",
   "metadata": {
    "tags": []
   },
   "source": [
    "### Question 5.1: Based on what you have learnt about the dataset, is there anything should be done to prepare the data?\n",
    "\n",
    "**Hint 1:** Are all the variables in the correct variable type?\n",
    "\n",
    "**Hint 2 (Important!):** As per some models' requirement, the outcome variable has to be a numeric variable between 0 and 1.\n",
    "\n",
    "***Note:*** Some datasets need a bit of data preparation and some don't. If you think this one needs to be prepared, choose \"yes\" and add your code in the below cell. Otherwise, choose \"no\" and leave the below cell unchanged.\n",
    "\n",
    "Your answer: yes or no? (choose one by deleting the other)"
   ]
  },
  {
   "cell_type": "code",
   "execution_count": 53,
   "id": "03b65544-4082-47fe-9c2f-8aea71cd3eb3",
   "metadata": {
    "tags": []
   },
   "outputs": [
    {
     "name": "stdout",
     "output_type": "stream",
     "text": [
      "'data.frame':\t2907 obs. of  11 variables:\n",
      " $ gender           : Factor w/ 3 levels \"Female\",\"Male\",..: 2 1 2 1 2 1 1 1 2 1 ...\n",
      " $ age              : int  70 28 43 48 64 32 82 78 32 17 ...\n",
      " $ hypertension     : num  0 0 0 1 1 0 0 0 0 0 ...\n",
      " $ heart_disease    : num  0 0 0 0 0 0 0 0 0 0 ...\n",
      " $ ever_married     : Factor w/ 2 levels \"No\",\"Yes\": 2 1 1 2 2 2 1 2 2 1 ...\n",
      " $ work_type        : Factor w/ 5 levels \"children\",\"Govt_job\",..: 4 4 4 2 5 4 4 5 2 4 ...\n",
      " $ Residence_type   : Factor w/ 2 levels \"Rural\",\"Urban\": 1 1 2 1 2 1 2 2 2 1 ...\n",
      " $ avg_glucose_level: num  90.3 95 78 252.8 96 ...\n",
      " $ bmi              : num  33.5 31.6 22.1 49.9 42.9 26.6 36.7 33.1 21.8 22.5 ...\n",
      " $ smoking_status   : Factor w/ 3 levels \"formerly smoked\",..: 1 3 1 1 1 3 1 2 2 2 ...\n",
      " $ stroke           : num  0 0 0 0 0 0 0 0 0 0 ...\n"
     ]
    },
    {
     "data": {
      "text/html": [
       "<table class=\"dataframe\">\n",
       "<caption>A data.frame: 6 × 21</caption>\n",
       "<thead>\n",
       "\t<tr><th></th><th scope=col>age</th><th scope=col>hypertension</th><th scope=col>heart_disease</th><th scope=col>avg_glucose_level</th><th scope=col>bmi</th><th scope=col>stroke</th><th scope=col>as.factor.full_data..col...Female</th><th scope=col>as.factor.full_data..col...Male</th><th scope=col>as.factor.full_data..col...Other</th><th scope=col>as.factor.full_data..col...No</th><th scope=col>⋯</th><th scope=col>as.factor.full_data..col...children</th><th scope=col>as.factor.full_data..col...Govt_job</th><th scope=col>as.factor.full_data..col...Never_worked</th><th scope=col>as.factor.full_data..col...Private</th><th scope=col>as.factor.full_data..col...Self.employed</th><th scope=col>as.factor.full_data..col...Rural</th><th scope=col>as.factor.full_data..col...Urban</th><th scope=col>as.factor.full_data..col...formerly.smoked</th><th scope=col>as.factor.full_data..col...never.smoked</th><th scope=col>as.factor.full_data..col...smokes</th></tr>\n",
       "\t<tr><th></th><th scope=col>&lt;int&gt;</th><th scope=col>&lt;dbl&gt;</th><th scope=col>&lt;dbl&gt;</th><th scope=col>&lt;dbl&gt;</th><th scope=col>&lt;dbl&gt;</th><th scope=col>&lt;dbl&gt;</th><th scope=col>&lt;dbl&gt;</th><th scope=col>&lt;dbl&gt;</th><th scope=col>&lt;dbl&gt;</th><th scope=col>&lt;dbl&gt;</th><th scope=col>⋯</th><th scope=col>&lt;dbl&gt;</th><th scope=col>&lt;dbl&gt;</th><th scope=col>&lt;dbl&gt;</th><th scope=col>&lt;dbl&gt;</th><th scope=col>&lt;dbl&gt;</th><th scope=col>&lt;dbl&gt;</th><th scope=col>&lt;dbl&gt;</th><th scope=col>&lt;dbl&gt;</th><th scope=col>&lt;dbl&gt;</th><th scope=col>&lt;dbl&gt;</th></tr>\n",
       "</thead>\n",
       "<tbody>\n",
       "\t<tr><th scope=row>1</th><td>70</td><td>0</td><td>0</td><td> 90.30</td><td>33.5</td><td>0</td><td>0</td><td>1</td><td>0</td><td>0</td><td>⋯</td><td>0</td><td>0</td><td>0</td><td>1</td><td>0</td><td>1</td><td>0</td><td>1</td><td>0</td><td>0</td></tr>\n",
       "\t<tr><th scope=row>2</th><td>28</td><td>0</td><td>0</td><td> 95.02</td><td>31.6</td><td>0</td><td>1</td><td>0</td><td>0</td><td>1</td><td>⋯</td><td>0</td><td>0</td><td>0</td><td>1</td><td>0</td><td>1</td><td>0</td><td>0</td><td>0</td><td>1</td></tr>\n",
       "\t<tr><th scope=row>3</th><td>43</td><td>0</td><td>0</td><td> 77.96</td><td>22.1</td><td>0</td><td>0</td><td>1</td><td>0</td><td>1</td><td>⋯</td><td>0</td><td>0</td><td>0</td><td>1</td><td>0</td><td>0</td><td>1</td><td>1</td><td>0</td><td>0</td></tr>\n",
       "\t<tr><th scope=row>4</th><td>48</td><td>1</td><td>0</td><td>252.75</td><td>49.9</td><td>0</td><td>1</td><td>0</td><td>0</td><td>0</td><td>⋯</td><td>0</td><td>1</td><td>0</td><td>0</td><td>0</td><td>1</td><td>0</td><td>1</td><td>0</td><td>0</td></tr>\n",
       "\t<tr><th scope=row>5</th><td>64</td><td>1</td><td>0</td><td> 96.03</td><td>42.9</td><td>0</td><td>0</td><td>1</td><td>0</td><td>0</td><td>⋯</td><td>0</td><td>0</td><td>0</td><td>0</td><td>1</td><td>0</td><td>1</td><td>1</td><td>0</td><td>0</td></tr>\n",
       "\t<tr><th scope=row>6</th><td>32</td><td>0</td><td>0</td><td>102.87</td><td>26.6</td><td>0</td><td>1</td><td>0</td><td>0</td><td>0</td><td>⋯</td><td>0</td><td>0</td><td>0</td><td>1</td><td>0</td><td>1</td><td>0</td><td>0</td><td>0</td><td>1</td></tr>\n",
       "</tbody>\n",
       "</table>\n"
      ],
      "text/latex": [
       "A data.frame: 6 × 21\n",
       "\\begin{tabular}{r|lllllllllllllllllllll}\n",
       "  & age & hypertension & heart\\_disease & avg\\_glucose\\_level & bmi & stroke & as.factor.full\\_data..col...Female & as.factor.full\\_data..col...Male & as.factor.full\\_data..col...Other & as.factor.full\\_data..col...No & ⋯ & as.factor.full\\_data..col...children & as.factor.full\\_data..col...Govt\\_job & as.factor.full\\_data..col...Never\\_worked & as.factor.full\\_data..col...Private & as.factor.full\\_data..col...Self.employed & as.factor.full\\_data..col...Rural & as.factor.full\\_data..col...Urban & as.factor.full\\_data..col...formerly.smoked & as.factor.full\\_data..col...never.smoked & as.factor.full\\_data..col...smokes\\\\\n",
       "  & <int> & <dbl> & <dbl> & <dbl> & <dbl> & <dbl> & <dbl> & <dbl> & <dbl> & <dbl> & ⋯ & <dbl> & <dbl> & <dbl> & <dbl> & <dbl> & <dbl> & <dbl> & <dbl> & <dbl> & <dbl>\\\\\n",
       "\\hline\n",
       "\t1 & 70 & 0 & 0 &  90.30 & 33.5 & 0 & 0 & 1 & 0 & 0 & ⋯ & 0 & 0 & 0 & 1 & 0 & 1 & 0 & 1 & 0 & 0\\\\\n",
       "\t2 & 28 & 0 & 0 &  95.02 & 31.6 & 0 & 1 & 0 & 0 & 1 & ⋯ & 0 & 0 & 0 & 1 & 0 & 1 & 0 & 0 & 0 & 1\\\\\n",
       "\t3 & 43 & 0 & 0 &  77.96 & 22.1 & 0 & 0 & 1 & 0 & 1 & ⋯ & 0 & 0 & 0 & 1 & 0 & 0 & 1 & 1 & 0 & 0\\\\\n",
       "\t4 & 48 & 1 & 0 & 252.75 & 49.9 & 0 & 1 & 0 & 0 & 0 & ⋯ & 0 & 1 & 0 & 0 & 0 & 1 & 0 & 1 & 0 & 0\\\\\n",
       "\t5 & 64 & 1 & 0 &  96.03 & 42.9 & 0 & 0 & 1 & 0 & 0 & ⋯ & 0 & 0 & 0 & 0 & 1 & 0 & 1 & 1 & 0 & 0\\\\\n",
       "\t6 & 32 & 0 & 0 & 102.87 & 26.6 & 0 & 1 & 0 & 0 & 0 & ⋯ & 0 & 0 & 0 & 1 & 0 & 1 & 0 & 0 & 0 & 1\\\\\n",
       "\\end{tabular}\n"
      ],
      "text/markdown": [
       "\n",
       "A data.frame: 6 × 21\n",
       "\n",
       "| <!--/--> | age &lt;int&gt; | hypertension &lt;dbl&gt; | heart_disease &lt;dbl&gt; | avg_glucose_level &lt;dbl&gt; | bmi &lt;dbl&gt; | stroke &lt;dbl&gt; | as.factor.full_data..col...Female &lt;dbl&gt; | as.factor.full_data..col...Male &lt;dbl&gt; | as.factor.full_data..col...Other &lt;dbl&gt; | as.factor.full_data..col...No &lt;dbl&gt; | ⋯ ⋯ | as.factor.full_data..col...children &lt;dbl&gt; | as.factor.full_data..col...Govt_job &lt;dbl&gt; | as.factor.full_data..col...Never_worked &lt;dbl&gt; | as.factor.full_data..col...Private &lt;dbl&gt; | as.factor.full_data..col...Self.employed &lt;dbl&gt; | as.factor.full_data..col...Rural &lt;dbl&gt; | as.factor.full_data..col...Urban &lt;dbl&gt; | as.factor.full_data..col...formerly.smoked &lt;dbl&gt; | as.factor.full_data..col...never.smoked &lt;dbl&gt; | as.factor.full_data..col...smokes &lt;dbl&gt; |\n",
       "|---|---|---|---|---|---|---|---|---|---|---|---|---|---|---|---|---|---|---|---|---|---|\n",
       "| 1 | 70 | 0 | 0 |  90.30 | 33.5 | 0 | 0 | 1 | 0 | 0 | ⋯ | 0 | 0 | 0 | 1 | 0 | 1 | 0 | 1 | 0 | 0 |\n",
       "| 2 | 28 | 0 | 0 |  95.02 | 31.6 | 0 | 1 | 0 | 0 | 1 | ⋯ | 0 | 0 | 0 | 1 | 0 | 1 | 0 | 0 | 0 | 1 |\n",
       "| 3 | 43 | 0 | 0 |  77.96 | 22.1 | 0 | 0 | 1 | 0 | 1 | ⋯ | 0 | 0 | 0 | 1 | 0 | 0 | 1 | 1 | 0 | 0 |\n",
       "| 4 | 48 | 1 | 0 | 252.75 | 49.9 | 0 | 1 | 0 | 0 | 0 | ⋯ | 0 | 1 | 0 | 0 | 0 | 1 | 0 | 1 | 0 | 0 |\n",
       "| 5 | 64 | 1 | 0 |  96.03 | 42.9 | 0 | 0 | 1 | 0 | 0 | ⋯ | 0 | 0 | 0 | 0 | 1 | 0 | 1 | 1 | 0 | 0 |\n",
       "| 6 | 32 | 0 | 0 | 102.87 | 26.6 | 0 | 1 | 0 | 0 | 0 | ⋯ | 0 | 0 | 0 | 1 | 0 | 1 | 0 | 0 | 0 | 1 |\n",
       "\n"
      ],
      "text/plain": [
       "  age hypertension heart_disease avg_glucose_level bmi  stroke\n",
       "1 70  0            0              90.30            33.5 0     \n",
       "2 28  0            0              95.02            31.6 0     \n",
       "3 43  0            0              77.96            22.1 0     \n",
       "4 48  1            0             252.75            49.9 0     \n",
       "5 64  1            0              96.03            42.9 0     \n",
       "6 32  0            0             102.87            26.6 0     \n",
       "  as.factor.full_data..col...Female as.factor.full_data..col...Male\n",
       "1 0                                 1                              \n",
       "2 1                                 0                              \n",
       "3 0                                 1                              \n",
       "4 1                                 0                              \n",
       "5 0                                 1                              \n",
       "6 1                                 0                              \n",
       "  as.factor.full_data..col...Other as.factor.full_data..col...No ⋯\n",
       "1 0                                0                             ⋯\n",
       "2 0                                1                             ⋯\n",
       "3 0                                1                             ⋯\n",
       "4 0                                0                             ⋯\n",
       "5 0                                0                             ⋯\n",
       "6 0                                0                             ⋯\n",
       "  as.factor.full_data..col...children as.factor.full_data..col...Govt_job\n",
       "1 0                                   0                                  \n",
       "2 0                                   0                                  \n",
       "3 0                                   0                                  \n",
       "4 0                                   1                                  \n",
       "5 0                                   0                                  \n",
       "6 0                                   0                                  \n",
       "  as.factor.full_data..col...Never_worked as.factor.full_data..col...Private\n",
       "1 0                                       1                                 \n",
       "2 0                                       1                                 \n",
       "3 0                                       1                                 \n",
       "4 0                                       0                                 \n",
       "5 0                                       0                                 \n",
       "6 0                                       1                                 \n",
       "  as.factor.full_data..col...Self.employed as.factor.full_data..col...Rural\n",
       "1 0                                        1                               \n",
       "2 0                                        1                               \n",
       "3 0                                        0                               \n",
       "4 0                                        1                               \n",
       "5 1                                        0                               \n",
       "6 0                                        1                               \n",
       "  as.factor.full_data..col...Urban as.factor.full_data..col...formerly.smoked\n",
       "1 0                                1                                         \n",
       "2 0                                0                                         \n",
       "3 1                                1                                         \n",
       "4 0                                1                                         \n",
       "5 1                                1                                         \n",
       "6 0                                0                                         \n",
       "  as.factor.full_data..col...never.smoked as.factor.full_data..col...smokes\n",
       "1 0                                       0                                \n",
       "2 0                                       1                                \n",
       "3 0                                       0                                \n",
       "4 0                                       0                                \n",
       "5 0                                       0                                \n",
       "6 0                                       1                                "
      ]
     },
     "metadata": {},
     "output_type": "display_data"
    },
    {
     "data": {
      "text/plain": [
       "      age         hypertension    heart_disease     avg_glucose_level\n",
       " Min.   :10.00   Min.   :0.0000   Min.   :0.00000   Min.   : 55.04   \n",
       " 1st Qu.:34.00   1st Qu.:0.0000   1st Qu.:0.00000   1st Qu.: 78.02   \n",
       " Median :49.00   Median :0.0000   Median :0.00000   Median : 91.68   \n",
       " Mean   :48.24   Mean   :0.1166   Mean   :0.05401   Mean   :106.45   \n",
       " 3rd Qu.:62.00   3rd Qu.:0.0000   3rd Qu.:0.00000   3rd Qu.:112.97   \n",
       " Max.   :82.00   Max.   :1.0000   Max.   :1.00000   Max.   :275.12   \n",
       "      bmi            stroke       as.factor.full_data..col...Female\n",
       " Min.   :13.50   Min.   :0.0000   Min.   :0.0000                   \n",
       " 1st Qu.:25.10   1st Qu.:0.0000   1st Qu.:0.0000                   \n",
       " Median :29.00   Median :0.0000   Median :1.0000                   \n",
       " Mean   :30.16   Mean   :0.0203   Mean   :0.6185                   \n",
       " 3rd Qu.:34.10   3rd Qu.:0.0000   3rd Qu.:1.0000                   \n",
       " Max.   :80.10   Max.   :1.0000   Max.   :1.0000                   \n",
       " as.factor.full_data..col...Male as.factor.full_data..col...Other\n",
       " Min.   :0.0000                  Min.   :0                       \n",
       " 1st Qu.:0.0000                  1st Qu.:0                       \n",
       " Median :0.0000                  Median :0                       \n",
       " Mean   :0.3815                  Mean   :0                       \n",
       " 3rd Qu.:1.0000                  3rd Qu.:0                       \n",
       " Max.   :1.0000                  Max.   :0                       \n",
       " as.factor.full_data..col...No as.factor.full_data..col...Yes\n",
       " Min.   :0.0000                Min.   :0.0000                \n",
       " 1st Qu.:0.0000                1st Qu.:1.0000                \n",
       " Median :0.0000                Median :1.0000                \n",
       " Mean   :0.2377                Mean   :0.7623                \n",
       " 3rd Qu.:0.0000                3rd Qu.:1.0000                \n",
       " Max.   :1.0000                Max.   :1.0000                \n",
       " as.factor.full_data..col...children as.factor.full_data..col...Govt_job\n",
       " Min.   :0.00000                     Min.   :0.0000                     \n",
       " 1st Qu.:0.00000                     1st Qu.:0.0000                     \n",
       " Median :0.00000                     Median :0.0000                     \n",
       " Mean   :0.02098                     Mean   :0.1541                     \n",
       " 3rd Qu.:0.00000                     3rd Qu.:0.0000                     \n",
       " Max.   :1.00000                     Max.   :1.0000                     \n",
       " as.factor.full_data..col...Never_worked as.factor.full_data..col...Private\n",
       " Min.   :0.000000                        Min.   :0.0000                    \n",
       " 1st Qu.:0.000000                        1st Qu.:0.0000                    \n",
       " Median :0.000000                        Median :1.0000                    \n",
       " Mean   :0.003096                        Mean   :0.6416                    \n",
       " 3rd Qu.:0.000000                        3rd Qu.:1.0000                    \n",
       " Max.   :1.000000                        Max.   :1.0000                    \n",
       " as.factor.full_data..col...Self.employed as.factor.full_data..col...Rural\n",
       " Min.   :0.0000                           Min.   :0.0000                  \n",
       " 1st Qu.:0.0000                           1st Qu.:0.0000                  \n",
       " Median :0.0000                           Median :0.0000                  \n",
       " Mean   :0.1803                           Mean   :0.4985                  \n",
       " 3rd Qu.:0.0000                           3rd Qu.:1.0000                  \n",
       " Max.   :1.0000                           Max.   :1.0000                  \n",
       " as.factor.full_data..col...Urban as.factor.full_data..col...formerly.smoked\n",
       " Min.   :0.0000                   Min.   :0.0000                            \n",
       " 1st Qu.:0.0000                   1st Qu.:0.0000                            \n",
       " Median :1.0000                   Median :0.0000                            \n",
       " Mean   :0.5015                   Mean   :0.2411                            \n",
       " 3rd Qu.:1.0000                   3rd Qu.:0.0000                            \n",
       " Max.   :1.0000                   Max.   :1.0000                            \n",
       " as.factor.full_data..col...never.smoked as.factor.full_data..col...smokes\n",
       " Min.   :0.0000                          Min.   :0.0000                   \n",
       " 1st Qu.:0.0000                          1st Qu.:0.0000                   \n",
       " Median :1.0000                          Median :0.0000                   \n",
       " Mean   :0.5401                          Mean   :0.2188                   \n",
       " 3rd Qu.:1.0000                          3rd Qu.:0.0000                   \n",
       " Max.   :1.0000                          Max.   :1.0000                   "
      ]
     },
     "metadata": {},
     "output_type": "display_data"
    },
    {
     "name": "stdout",
     "output_type": "stream",
     "text": [
      "'data.frame':\t2907 obs. of  21 variables:\n",
      " $ age                                       : int  70 28 43 48 64 32 82 78 32 17 ...\n",
      " $ hypertension                              : num  0 0 0 1 1 0 0 0 0 0 ...\n",
      " $ heart_disease                             : num  0 0 0 0 0 0 0 0 0 0 ...\n",
      " $ avg_glucose_level                         : num  90.3 95 78 252.8 96 ...\n",
      " $ bmi                                       : num  33.5 31.6 22.1 49.9 42.9 26.6 36.7 33.1 21.8 22.5 ...\n",
      " $ stroke                                    : num  0 0 0 0 0 0 0 0 0 0 ...\n",
      " $ as.factor.full_data..col...Female         : num  0 1 0 1 0 1 1 1 0 1 ...\n",
      " $ as.factor.full_data..col...Male           : num  1 0 1 0 1 0 0 0 1 0 ...\n",
      " $ as.factor.full_data..col...Other          : num  0 0 0 0 0 0 0 0 0 0 ...\n",
      " $ as.factor.full_data..col...No             : num  0 1 1 0 0 0 1 0 0 1 ...\n",
      " $ as.factor.full_data..col...Yes            : num  1 0 0 1 1 1 0 1 1 0 ...\n",
      " $ as.factor.full_data..col...children       : num  0 0 0 0 0 0 0 0 0 0 ...\n",
      " $ as.factor.full_data..col...Govt_job       : num  0 0 0 1 0 0 0 0 1 0 ...\n",
      " $ as.factor.full_data..col...Never_worked   : num  0 0 0 0 0 0 0 0 0 0 ...\n",
      " $ as.factor.full_data..col...Private        : num  1 1 1 0 0 1 1 0 0 1 ...\n",
      " $ as.factor.full_data..col...Self.employed  : num  0 0 0 0 1 0 0 1 0 0 ...\n",
      " $ as.factor.full_data..col...Rural          : num  1 1 0 1 0 1 0 0 0 1 ...\n",
      " $ as.factor.full_data..col...Urban          : num  0 0 1 0 1 0 1 1 1 0 ...\n",
      " $ as.factor.full_data..col...formerly.smoked: num  1 0 1 1 1 0 1 0 0 0 ...\n",
      " $ as.factor.full_data..col...never.smoked   : num  0 0 0 0 0 0 0 1 1 1 ...\n",
      " $ as.factor.full_data..col...smokes         : num  0 1 0 0 0 1 0 0 0 0 ...\n"
     ]
    }
   ],
   "source": [
    "# The data preparation step if needed\n",
    "str(full_data)\n",
    "\n",
    "encoded_data <- full_data\n",
    "categorical_columns <- c(\"gender\", \"ever_married\", \"work_type\", \"Residence_type\", \"smoking_status\")\n",
    "\n",
    "for (col in categorical_columns) {\n",
    "  encoded_data <- cbind(encoded_data, model.matrix(~0 + as.factor(full_data[[col]])))\n",
    "  colnames(encoded_data) <- make.names(colnames(encoded_data), unique = TRUE)\n",
    "}\n",
    "\n",
    "# Remove the original categorical columns from encoded_data\n",
    "encoded_data <- encoded_data[, !colnames(encoded_data) %in% categorical_columns]\n",
    "\n",
    "# View the result\n",
    "head(encoded_data)\n",
    "\n",
    "# Check the data now\n",
    "summary(encoded_data)\n",
    "str(encoded_data)"
   ]
  },
  {
   "cell_type": "markdown",
   "id": "253e8f72-d995-4302-861f-7b193d11f792",
   "metadata": {},
   "source": [
    "### Question 5.2: Build five different models and evaluate them"
   ]
  },
  {
   "cell_type": "code",
   "execution_count": null,
   "id": "30d5a773-9ca2-4464-aba2-d7ca123b08fa",
   "metadata": {},
   "outputs": [],
   "source": [
    "# define the outcome variable\n",
    "voutcome <- Your answer"
   ]
  },
  {
   "cell_type": "markdown",
   "id": "b42ce359-be4b-464b-a617-81d7464efa42",
   "metadata": {},
   "source": [
    "Based on what you have done for Dataset 1, complete the below cells of this dataset. Remember to use parallel computing."
   ]
  },
  {
   "cell_type": "code",
   "execution_count": null,
   "id": "fe08fef2-6d6d-44ee-9bd6-0e33063b3a55",
   "metadata": {},
   "outputs": [],
   "source": [
    "# ============= 15 repeated train/test split ============= \n",
    "for (model in model_vec) {\n",
    "    Your answer\n",
    "}\n",
    "\n",
    "# save results\n",
    "res.split.df5 <- rbind(auc_split, brier_split)\n",
    "\n",
    "# print results\n",
    "print(res.split.df5)  "
   ]
  },
  {
   "cell_type": "code",
   "execution_count": null,
   "id": "152af977-1cb7-4e36-ad6f-bae2365d3a74",
   "metadata": {
    "tags": []
   },
   "outputs": [],
   "source": [
    "# ============= repeated nested 5-fold CV ============= \n",
    "for (model in model_vec) {\n",
    "    Your answer\n",
    "}\n",
    "\n",
    "# save results\n",
    "res.cv.df5 <- rbind(auc_cv, brier_cv)\n",
    "\n",
    "print(res.cv.df5)"
   ]
  },
  {
   "cell_type": "code",
   "execution_count": null,
   "id": "4ffdccec-d36b-488e-8662-576b1ab8f7c8",
   "metadata": {
    "tags": []
   },
   "outputs": [],
   "source": [
    "auc.df5 <- rbind(res.split.df5 %>% filter(metric == \"auc\"), \n",
    "                 res.cv.df5 %>% filter(metric == \"auc\"))\n",
    "\n",
    "# pivot the dataframe from wide to long for plotting\n",
    "auc.df5.long <- auc.df5 %>% \n",
    "    tidyr::pivot_longer(-c(type, metric), \n",
    "                        names_to = \"model\",\n",
    "                        values_to = \"auc\")\n",
    "auc.df5.long$model <- factor(auc.df5.long$model, \n",
    "                         levels = c(\"lr\", \"cart\", \"rf\", \"lgbm\", \"svm\"))\n",
    "auc.df5.long$type <- factor(auc.df5.long$type, \n",
    "                         levels = c(\"train/test split\", \"nested cv\"))\n",
    "\n",
    "# Plot the violin plot\n",
    "ggplot(auc.df5.long, aes(model, auc, fill = model)) + \n",
    "    geom_violin(alpha = 0.5, draw_quantiles = c(0.25, 0.5, 0.75))+ \n",
    "    facet_wrap(~type)"
   ]
  },
  {
   "cell_type": "code",
   "execution_count": null,
   "id": "d294fe73-55f3-43f3-841e-09b8299a0bd3",
   "metadata": {},
   "outputs": [],
   "source": [
    "brier.df5 <- rbind(res.split.df5 %>% filter(metric == \"brier\"), \n",
    "                   res.cv.df5 %>% filter(metric == \"brier\"))\n",
    "\n",
    "# pivot the dataframe from wide to long for plotting\n",
    "brier.df5.long <- brier.df5 %>% \n",
    "    tidyr::pivot_longer(-c(type,metric), \n",
    "                        names_to = \"model\",\n",
    "                        values_to = \"brier\")\n",
    "brier.df5.long$model <- factor(brier.df5.long$model, \n",
    "                         levels = c(\"lr\", \"cart\", \"rf\", \"lgbm\", \"svm\"))\n",
    "brier.df5.long$type <- factor(brier.df5.long$type, \n",
    "                         levels = c(\"train/test split\", \"nested cv\"))\n",
    "\n",
    "# Plot the violin plot\n",
    "ggplot(brier.df5.long, aes(model, brier, fill = model)) + \n",
    "    geom_violin(alpha = 0.5, draw_quantiles = c(0.25, 0.5, 0.75))+ \n",
    "    facet_wrap(~type)"
   ]
  },
  {
   "cell_type": "markdown",
   "id": "ffa39849-26e9-45b8-af3a-44329e11bf8e",
   "metadata": {},
   "source": [
    "### Question 5.3: Based on the above violin plot, which model is the best one? Why?"
   ]
  },
  {
   "cell_type": "markdown",
   "id": "4f75f4c6-42be-49ae-bf40-0380ad0edcee",
   "metadata": {},
   "source": [
    "## Dataset 6: `sdgm::C27` Titanic\n",
    "\n",
    "For more details about this dataset, see [here](https://www.kaggle.com/competitions/titanic/data)"
   ]
  },
  {
   "cell_type": "code",
   "execution_count": 28,
   "id": "7cb1a55c-64cb-43c6-beef-79893d4845b0",
   "metadata": {
    "tags": []
   },
   "outputs": [
    {
     "data": {
      "text/html": [
       "\n",
       "<table style=\"width: 100%;\"><tr><td>C27 {sdgm}</td><td style=\"text-align: right;\">R Documentation</td></tr></table>\n",
       "\n",
       "<h2 id='C27'>Titanic</h2>\n",
       "\n",
       "<h3>Description</h3>\n",
       "\n",
       "<p>The train dataset on Kaggle is a subset of the passenger information on Titanic. This dataset is used to predict whether the passenger survived or not.\n",
       "Target variable: survived, 2 levels\n",
       "Classification type: binomial logistic regression\n",
       "</p>\n",
       "\n",
       "\n",
       "<h3>Usage</h3>\n",
       "\n",
       "<pre><code class='language-R'>C27\n",
       "</code></pre>\n",
       "\n",
       "\n",
       "<h3>Format</h3>\n",
       "\n",
       "<p>An object of class <code>data.frame</code> with 891 rows and 7 columns.\n",
       "</p>\n",
       "\n",
       "\n",
       "<h3>Source</h3>\n",
       "\n",
       "<p><a href=\"https://jmir.org/api/download?alt_name=medinform_v10i4e35734_app1.pdf&amp;filename=04ce0b2aec244210e4503631ee243fd0.pdf\">JMIR Article</a>\n",
       "</p>\n",
       "\n",
       "\n",
       "<h3>Examples</h3>\n",
       "\n",
       "<pre><code class='language-R'>data = sdgd::C27\n",
       "data$Survived = as.factor(data$Survived)\n",
       "glm(Survived~., data = data, family = 'binomial')\n",
       "\n",
       "</code></pre>\n",
       "\n",
       "<hr /><div style=\"text-align: center;\">[Package <em>sdgm</em> version 0.39 ]</div>\n",
       "</div>"
      ],
      "text/latex": [
       "\\inputencoding{utf8}\n",
       "\\HeaderA{C27}{Titanic}{C27}\n",
       "\\keyword{datasets}{C27}\n",
       "%\n",
       "\\begin{Description}\n",
       "The train dataset on Kaggle is a subset of the passenger information on Titanic. This dataset is used to predict whether the passenger survived or not.\n",
       "Target variable: survived, 2 levels\n",
       "Classification type: binomial logistic regression\n",
       "\\end{Description}\n",
       "%\n",
       "\\begin{Usage}\n",
       "\\begin{verbatim}\n",
       "C27\n",
       "\\end{verbatim}\n",
       "\\end{Usage}\n",
       "%\n",
       "\\begin{Format}\n",
       "An object of class \\code{data.frame} with 891 rows and 7 columns.\n",
       "\\end{Format}\n",
       "%\n",
       "\\begin{Source}\n",
       "\\Rhref{https://jmir.org/api/download?alt_name=medinform_v10i4e35734_app1.pdf\\&filename=04ce0b2aec244210e4503631ee243fd0.pdf}{JMIR Article}\n",
       "\\end{Source}\n",
       "%\n",
       "\\begin{Examples}\n",
       "\\begin{ExampleCode}\n",
       "data = sdgd::C27\n",
       "data$Survived = as.factor(data$Survived)\n",
       "glm(Survived~., data = data, family = 'binomial')\n",
       "\n",
       "\\end{ExampleCode}\n",
       "\\end{Examples}"
      ],
      "text/plain": [
       "C27                    package:sdgm                    R Documentation\n",
       "\n",
       "_\bT_\bi_\bt_\ba_\bn_\bi_\bc\n",
       "\n",
       "_\bD_\be_\bs_\bc_\br_\bi_\bp_\bt_\bi_\bo_\bn:\n",
       "\n",
       "     The train dataset on Kaggle is a subset of the passenger\n",
       "     information on Titanic. This dataset is used to predict whether\n",
       "     the passenger survived or not. Target variable: survived, 2 levels\n",
       "     Classification type: binomial logistic regression\n",
       "\n",
       "_\bU_\bs_\ba_\bg_\be:\n",
       "\n",
       "     C27\n",
       "     \n",
       "_\bF_\bo_\br_\bm_\ba_\bt:\n",
       "\n",
       "     An object of class ‘data.frame’ with 891 rows and 7 columns.\n",
       "\n",
       "_\bS_\bo_\bu_\br_\bc_\be:\n",
       "\n",
       "     JMIR Article\n",
       "\n",
       "_\bE_\bx_\ba_\bm_\bp_\bl_\be_\bs:\n",
       "\n",
       "     data = sdgd::C27\n",
       "     data$Survived = as.factor(data$Survived)\n",
       "     glm(Survived~., data = data, family = 'binomial')\n",
       "     "
      ]
     },
     "metadata": {},
     "output_type": "display_data"
    }
   ],
   "source": [
    "# show the description of this dataset\n",
    "?sdgm::C27"
   ]
  },
  {
   "cell_type": "code",
   "execution_count": 54,
   "id": "b2855fb3-b4bd-4ee0-8896-84eb2dd03264",
   "metadata": {
    "tags": []
   },
   "outputs": [
    {
     "data": {
      "text/html": [
       "<table class=\"dataframe\">\n",
       "<caption>A data.frame: 6 × 7</caption>\n",
       "<thead>\n",
       "\t<tr><th></th><th scope=col>Survived</th><th scope=col>Pclass</th><th scope=col>Sex</th><th scope=col>SibSp</th><th scope=col>Parch</th><th scope=col>Fare</th><th scope=col>Embarked</th></tr>\n",
       "\t<tr><th></th><th scope=col>&lt;chr&gt;</th><th scope=col>&lt;chr&gt;</th><th scope=col>&lt;fct&gt;</th><th scope=col>&lt;chr&gt;</th><th scope=col>&lt;chr&gt;</th><th scope=col>&lt;dbl&gt;</th><th scope=col>&lt;fct&gt;</th></tr>\n",
       "</thead>\n",
       "<tbody>\n",
       "\t<tr><th scope=row>1</th><td>'0'</td><td>'3'</td><td>male  </td><td>'1'</td><td>'0'</td><td> 7.2500</td><td>S</td></tr>\n",
       "\t<tr><th scope=row>2</th><td>'1'</td><td>'1'</td><td>female</td><td>'1'</td><td>'0'</td><td>71.2833</td><td>C</td></tr>\n",
       "\t<tr><th scope=row>3</th><td>'1'</td><td>'3'</td><td>female</td><td>'0'</td><td>'0'</td><td> 7.9250</td><td>S</td></tr>\n",
       "\t<tr><th scope=row>4</th><td>'1'</td><td>'1'</td><td>female</td><td>'1'</td><td>'0'</td><td>53.1000</td><td>S</td></tr>\n",
       "\t<tr><th scope=row>5</th><td>'0'</td><td>'3'</td><td>male  </td><td>'0'</td><td>'0'</td><td> 8.0500</td><td>S</td></tr>\n",
       "\t<tr><th scope=row>6</th><td>'0'</td><td>'3'</td><td>male  </td><td>'0'</td><td>'0'</td><td> 8.4583</td><td>Q</td></tr>\n",
       "</tbody>\n",
       "</table>\n"
      ],
      "text/latex": [
       "A data.frame: 6 × 7\n",
       "\\begin{tabular}{r|lllllll}\n",
       "  & Survived & Pclass & Sex & SibSp & Parch & Fare & Embarked\\\\\n",
       "  & <chr> & <chr> & <fct> & <chr> & <chr> & <dbl> & <fct>\\\\\n",
       "\\hline\n",
       "\t1 & '0' & '3' & male   & '1' & '0' &  7.2500 & S\\\\\n",
       "\t2 & '1' & '1' & female & '1' & '0' & 71.2833 & C\\\\\n",
       "\t3 & '1' & '3' & female & '0' & '0' &  7.9250 & S\\\\\n",
       "\t4 & '1' & '1' & female & '1' & '0' & 53.1000 & S\\\\\n",
       "\t5 & '0' & '3' & male   & '0' & '0' &  8.0500 & S\\\\\n",
       "\t6 & '0' & '3' & male   & '0' & '0' &  8.4583 & Q\\\\\n",
       "\\end{tabular}\n"
      ],
      "text/markdown": [
       "\n",
       "A data.frame: 6 × 7\n",
       "\n",
       "| <!--/--> | Survived &lt;chr&gt; | Pclass &lt;chr&gt; | Sex &lt;fct&gt; | SibSp &lt;chr&gt; | Parch &lt;chr&gt; | Fare &lt;dbl&gt; | Embarked &lt;fct&gt; |\n",
       "|---|---|---|---|---|---|---|---|\n",
       "| 1 | '0' | '3' | male   | '1' | '0' |  7.2500 | S |\n",
       "| 2 | '1' | '1' | female | '1' | '0' | 71.2833 | C |\n",
       "| 3 | '1' | '3' | female | '0' | '0' |  7.9250 | S |\n",
       "| 4 | '1' | '1' | female | '1' | '0' | 53.1000 | S |\n",
       "| 5 | '0' | '3' | male   | '0' | '0' |  8.0500 | S |\n",
       "| 6 | '0' | '3' | male   | '0' | '0' |  8.4583 | Q |\n",
       "\n"
      ],
      "text/plain": [
       "  Survived Pclass Sex    SibSp Parch Fare    Embarked\n",
       "1 '0'      '3'    male   '1'   '0'    7.2500 S       \n",
       "2 '1'      '1'    female '1'   '0'   71.2833 C       \n",
       "3 '1'      '3'    female '0'   '0'    7.9250 S       \n",
       "4 '1'      '1'    female '1'   '0'   53.1000 S       \n",
       "5 '0'      '3'    male   '0'   '0'    8.0500 S       \n",
       "6 '0'      '3'    male   '0'   '0'    8.4583 Q       "
      ]
     },
     "metadata": {},
     "output_type": "display_data"
    },
    {
     "data": {
      "text/html": [
       "<style>\n",
       ".list-inline {list-style: none; margin:0; padding: 0}\n",
       ".list-inline>li {display: inline-block}\n",
       ".list-inline>li:not(:last-child)::after {content: \"\\00b7\"; padding: 0 .5ex}\n",
       "</style>\n",
       "<ol class=list-inline><li>891</li><li>7</li></ol>\n"
      ],
      "text/latex": [
       "\\begin{enumerate*}\n",
       "\\item 891\n",
       "\\item 7\n",
       "\\end{enumerate*}\n"
      ],
      "text/markdown": [
       "1. 891\n",
       "2. 7\n",
       "\n",
       "\n"
      ],
      "text/plain": [
       "[1] 891   7"
      ]
     },
     "metadata": {},
     "output_type": "display_data"
    }
   ],
   "source": [
    "# first glance of the dataset\n",
    "full_data <- sdgm::C27\n",
    "head(full_data)\n",
    "dim(full_data)"
   ]
  },
  {
   "cell_type": "code",
   "execution_count": 55,
   "id": "86b4cdae-c6ab-4943-8b5c-afffb72f1419",
   "metadata": {
    "tags": []
   },
   "outputs": [],
   "source": [
    "# Convert characters to numbers. Note because of the special format in the data, `as.numeric` doesn't work here.\n",
    "# The code below is to extract numbers from strings\n",
    "full_data$Survived <- as.numeric(gsub(\"\\\\D\", \"\", full_data$Survived))\n",
    "full_data$Pclass <- as.numeric(gsub(\"\\\\D\", \"\", full_data$Pclass))\n",
    "full_data$SibSp <- as.numeric(gsub(\"\\\\D\", \"\", full_data$SibSp))\n",
    "full_data$Parch <- as.numeric(gsub(\"\\\\D\", \"\", full_data$Parch))"
   ]
  },
  {
   "cell_type": "code",
   "execution_count": 57,
   "id": "7963af0e-e396-47eb-919b-2e4bc9150064",
   "metadata": {
    "tags": []
   },
   "outputs": [
    {
     "name": "stdout",
     "output_type": "stream",
     "text": [
      "character(0)\n"
     ]
    },
    {
     "data": {
      "text/plain": [
       "    Survived          Pclass          Sex          SibSp           Parch       \n",
       " Min.   :0.0000   Min.   :1.000   female:314   Min.   :0.000   Min.   :0.0000  \n",
       " 1st Qu.:0.0000   1st Qu.:2.000   male  :577   1st Qu.:0.000   1st Qu.:0.0000  \n",
       " Median :0.0000   Median :3.000                Median :0.000   Median :0.0000  \n",
       " Mean   :0.3838   Mean   :2.309                Mean   :0.523   Mean   :0.3816  \n",
       " 3rd Qu.:1.0000   3rd Qu.:3.000                3rd Qu.:1.000   3rd Qu.:0.0000  \n",
       " Max.   :1.0000   Max.   :3.000                Max.   :8.000   Max.   :6.0000  \n",
       "      Fare        Embarked\n",
       " Min.   :  0.00    :  2   \n",
       " 1st Qu.:  7.91   C:168   \n",
       " Median : 14.45   Q: 77   \n",
       " Mean   : 32.20   S:644   \n",
       " 3rd Qu.: 31.00           \n",
       " Max.   :512.33           "
      ]
     },
     "metadata": {},
     "output_type": "display_data"
    },
    {
     "data": {
      "text/html": [
       "<table class=\"dataframe\">\n",
       "<caption>A data.frame: 6 × 7</caption>\n",
       "<thead>\n",
       "\t<tr><th></th><th scope=col>Survived</th><th scope=col>Pclass</th><th scope=col>Sex</th><th scope=col>SibSp</th><th scope=col>Parch</th><th scope=col>Fare</th><th scope=col>Embarked</th></tr>\n",
       "\t<tr><th></th><th scope=col>&lt;dbl&gt;</th><th scope=col>&lt;dbl&gt;</th><th scope=col>&lt;fct&gt;</th><th scope=col>&lt;dbl&gt;</th><th scope=col>&lt;dbl&gt;</th><th scope=col>&lt;dbl&gt;</th><th scope=col>&lt;fct&gt;</th></tr>\n",
       "</thead>\n",
       "<tbody>\n",
       "\t<tr><th scope=row>1</th><td>0</td><td>3</td><td>male  </td><td>1</td><td>0</td><td> 7.2500</td><td>S</td></tr>\n",
       "\t<tr><th scope=row>2</th><td>1</td><td>1</td><td>female</td><td>1</td><td>0</td><td>71.2833</td><td>C</td></tr>\n",
       "\t<tr><th scope=row>3</th><td>1</td><td>3</td><td>female</td><td>0</td><td>0</td><td> 7.9250</td><td>S</td></tr>\n",
       "\t<tr><th scope=row>4</th><td>1</td><td>1</td><td>female</td><td>1</td><td>0</td><td>53.1000</td><td>S</td></tr>\n",
       "\t<tr><th scope=row>5</th><td>0</td><td>3</td><td>male  </td><td>0</td><td>0</td><td> 8.0500</td><td>S</td></tr>\n",
       "\t<tr><th scope=row>6</th><td>0</td><td>3</td><td>male  </td><td>0</td><td>0</td><td> 8.4583</td><td>Q</td></tr>\n",
       "</tbody>\n",
       "</table>\n"
      ],
      "text/latex": [
       "A data.frame: 6 × 7\n",
       "\\begin{tabular}{r|lllllll}\n",
       "  & Survived & Pclass & Sex & SibSp & Parch & Fare & Embarked\\\\\n",
       "  & <dbl> & <dbl> & <fct> & <dbl> & <dbl> & <dbl> & <fct>\\\\\n",
       "\\hline\n",
       "\t1 & 0 & 3 & male   & 1 & 0 &  7.2500 & S\\\\\n",
       "\t2 & 1 & 1 & female & 1 & 0 & 71.2833 & C\\\\\n",
       "\t3 & 1 & 3 & female & 0 & 0 &  7.9250 & S\\\\\n",
       "\t4 & 1 & 1 & female & 1 & 0 & 53.1000 & S\\\\\n",
       "\t5 & 0 & 3 & male   & 0 & 0 &  8.0500 & S\\\\\n",
       "\t6 & 0 & 3 & male   & 0 & 0 &  8.4583 & Q\\\\\n",
       "\\end{tabular}\n"
      ],
      "text/markdown": [
       "\n",
       "A data.frame: 6 × 7\n",
       "\n",
       "| <!--/--> | Survived &lt;dbl&gt; | Pclass &lt;dbl&gt; | Sex &lt;fct&gt; | SibSp &lt;dbl&gt; | Parch &lt;dbl&gt; | Fare &lt;dbl&gt; | Embarked &lt;fct&gt; |\n",
       "|---|---|---|---|---|---|---|---|\n",
       "| 1 | 0 | 3 | male   | 1 | 0 |  7.2500 | S |\n",
       "| 2 | 1 | 1 | female | 1 | 0 | 71.2833 | C |\n",
       "| 3 | 1 | 3 | female | 0 | 0 |  7.9250 | S |\n",
       "| 4 | 1 | 1 | female | 1 | 0 | 53.1000 | S |\n",
       "| 5 | 0 | 3 | male   | 0 | 0 |  8.0500 | S |\n",
       "| 6 | 0 | 3 | male   | 0 | 0 |  8.4583 | Q |\n",
       "\n"
      ],
      "text/plain": [
       "  Survived Pclass Sex    SibSp Parch Fare    Embarked\n",
       "1 0        3      male   1     0      7.2500 S       \n",
       "2 1        1      female 1     0     71.2833 C       \n",
       "3 1        3      female 0     0      7.9250 S       \n",
       "4 1        1      female 1     0     53.1000 S       \n",
       "5 0        3      male   0     0      8.0500 S       \n",
       "6 0        3      male   0     0      8.4583 Q       "
      ]
     },
     "metadata": {},
     "output_type": "display_data"
    },
    {
     "name": "stdout",
     "output_type": "stream",
     "text": [
      "'data.frame':\t891 obs. of  7 variables:\n",
      " $ Survived: num  0 1 1 1 0 0 0 0 1 1 ...\n",
      " $ Pclass  : num  3 1 3 1 3 3 1 3 3 2 ...\n",
      " $ Sex     : Factor w/ 2 levels \"female\",\"male\": 2 1 1 1 2 2 2 2 1 1 ...\n",
      " $ SibSp   : num  1 1 0 1 0 0 0 3 0 1 ...\n",
      " $ Parch   : num  0 0 0 0 0 0 0 1 2 0 ...\n",
      " $ Fare    : num  7.25 71.28 7.92 53.1 8.05 ...\n",
      " $ Embarked: Factor w/ 4 levels \"\",\"C\",\"Q\",\"S\": 4 2 4 4 4 3 4 4 4 2 ...\n"
     ]
    }
   ],
   "source": [
    "# Check the data now\n",
    "missing_data <- sapply(full_data, function(x) sum(is.na(x)))\n",
    "variables_with_missing_data <- names(full_data)[missing_data > 0]\n",
    "print(variables_with_missing_data)\n",
    "                       \n",
    "summary(full_data)\n",
    "head(full_data)\n",
    "str(full_data)"
   ]
  },
  {
   "cell_type": "markdown",
   "id": "7248190a-0029-47cb-8f8c-ee0ab9cf85cc",
   "metadata": {
    "tags": []
   },
   "source": [
    "### Question 6.1: Based on what you have learnt about the dataset, is there anything should be done to prepare the data?\n",
    "\n",
    "**Hint 1:** Are all the variables in the correct variable type?\n",
    "\n",
    "**Hint 2 (Important!):** As per some models' requirement, the outcome variable has to be a numeric variable between 0 and 1.\n",
    "\n",
    "***Note:*** Some datasets need a bit of data preparation and some don't. If you think this one needs to be prepared, choose \"yes\" and add your code in the below cell. Otherwise, choose \"no\" and leave the below cell unchanged.\n",
    "\n",
    "Your answer: yes or no? (choose one by deleting the other)"
   ]
  },
  {
   "cell_type": "code",
   "execution_count": 59,
   "id": "0f7bde02-1d09-4b5e-9f8d-c7fb97cb7b9b",
   "metadata": {
    "tags": []
   },
   "outputs": [
    {
     "name": "stdout",
     "output_type": "stream",
     "text": [
      "'data.frame':\t891 obs. of  7 variables:\n",
      " $ Survived: num  0 1 1 1 0 0 0 0 1 1 ...\n",
      " $ Pclass  : num  3 1 3 1 3 3 1 3 3 2 ...\n",
      " $ Sex     : Factor w/ 2 levels \"female\",\"male\": 2 1 1 1 2 2 2 2 1 1 ...\n",
      " $ SibSp   : num  1 1 0 1 0 0 0 3 0 1 ...\n",
      " $ Parch   : num  0 0 0 0 0 0 0 1 2 0 ...\n",
      " $ Fare    : num  7.25 71.28 7.92 53.1 8.05 ...\n",
      " $ Embarked: Factor w/ 4 levels \"\",\"C\",\"Q\",\"S\": 4 2 4 4 4 3 4 4 4 2 ...\n"
     ]
    },
    {
     "data": {
      "text/html": [
       "<table class=\"dataframe\">\n",
       "<caption>A data.frame: 6 × 11</caption>\n",
       "<thead>\n",
       "\t<tr><th></th><th scope=col>Survived</th><th scope=col>Pclass</th><th scope=col>SibSp</th><th scope=col>Parch</th><th scope=col>Fare</th><th scope=col>as.factor.full_data..col...female</th><th scope=col>as.factor.full_data..col...male</th><th scope=col>as.factor.full_data..col...</th><th scope=col>as.factor.full_data..col...C</th><th scope=col>as.factor.full_data..col...Q</th><th scope=col>as.factor.full_data..col...S</th></tr>\n",
       "\t<tr><th></th><th scope=col>&lt;dbl&gt;</th><th scope=col>&lt;dbl&gt;</th><th scope=col>&lt;dbl&gt;</th><th scope=col>&lt;dbl&gt;</th><th scope=col>&lt;dbl&gt;</th><th scope=col>&lt;dbl&gt;</th><th scope=col>&lt;dbl&gt;</th><th scope=col>&lt;dbl&gt;</th><th scope=col>&lt;dbl&gt;</th><th scope=col>&lt;dbl&gt;</th><th scope=col>&lt;dbl&gt;</th></tr>\n",
       "</thead>\n",
       "<tbody>\n",
       "\t<tr><th scope=row>1</th><td>0</td><td>3</td><td>1</td><td>0</td><td> 7.2500</td><td>0</td><td>1</td><td>0</td><td>0</td><td>0</td><td>1</td></tr>\n",
       "\t<tr><th scope=row>2</th><td>1</td><td>1</td><td>1</td><td>0</td><td>71.2833</td><td>1</td><td>0</td><td>0</td><td>1</td><td>0</td><td>0</td></tr>\n",
       "\t<tr><th scope=row>3</th><td>1</td><td>3</td><td>0</td><td>0</td><td> 7.9250</td><td>1</td><td>0</td><td>0</td><td>0</td><td>0</td><td>1</td></tr>\n",
       "\t<tr><th scope=row>4</th><td>1</td><td>1</td><td>1</td><td>0</td><td>53.1000</td><td>1</td><td>0</td><td>0</td><td>0</td><td>0</td><td>1</td></tr>\n",
       "\t<tr><th scope=row>5</th><td>0</td><td>3</td><td>0</td><td>0</td><td> 8.0500</td><td>0</td><td>1</td><td>0</td><td>0</td><td>0</td><td>1</td></tr>\n",
       "\t<tr><th scope=row>6</th><td>0</td><td>3</td><td>0</td><td>0</td><td> 8.4583</td><td>0</td><td>1</td><td>0</td><td>0</td><td>1</td><td>0</td></tr>\n",
       "</tbody>\n",
       "</table>\n"
      ],
      "text/latex": [
       "A data.frame: 6 × 11\n",
       "\\begin{tabular}{r|lllllllllll}\n",
       "  & Survived & Pclass & SibSp & Parch & Fare & as.factor.full\\_data..col...female & as.factor.full\\_data..col...male & as.factor.full\\_data..col... & as.factor.full\\_data..col...C & as.factor.full\\_data..col...Q & as.factor.full\\_data..col...S\\\\\n",
       "  & <dbl> & <dbl> & <dbl> & <dbl> & <dbl> & <dbl> & <dbl> & <dbl> & <dbl> & <dbl> & <dbl>\\\\\n",
       "\\hline\n",
       "\t1 & 0 & 3 & 1 & 0 &  7.2500 & 0 & 1 & 0 & 0 & 0 & 1\\\\\n",
       "\t2 & 1 & 1 & 1 & 0 & 71.2833 & 1 & 0 & 0 & 1 & 0 & 0\\\\\n",
       "\t3 & 1 & 3 & 0 & 0 &  7.9250 & 1 & 0 & 0 & 0 & 0 & 1\\\\\n",
       "\t4 & 1 & 1 & 1 & 0 & 53.1000 & 1 & 0 & 0 & 0 & 0 & 1\\\\\n",
       "\t5 & 0 & 3 & 0 & 0 &  8.0500 & 0 & 1 & 0 & 0 & 0 & 1\\\\\n",
       "\t6 & 0 & 3 & 0 & 0 &  8.4583 & 0 & 1 & 0 & 0 & 1 & 0\\\\\n",
       "\\end{tabular}\n"
      ],
      "text/markdown": [
       "\n",
       "A data.frame: 6 × 11\n",
       "\n",
       "| <!--/--> | Survived &lt;dbl&gt; | Pclass &lt;dbl&gt; | SibSp &lt;dbl&gt; | Parch &lt;dbl&gt; | Fare &lt;dbl&gt; | as.factor.full_data..col...female &lt;dbl&gt; | as.factor.full_data..col...male &lt;dbl&gt; | as.factor.full_data..col... &lt;dbl&gt; | as.factor.full_data..col...C &lt;dbl&gt; | as.factor.full_data..col...Q &lt;dbl&gt; | as.factor.full_data..col...S &lt;dbl&gt; |\n",
       "|---|---|---|---|---|---|---|---|---|---|---|---|\n",
       "| 1 | 0 | 3 | 1 | 0 |  7.2500 | 0 | 1 | 0 | 0 | 0 | 1 |\n",
       "| 2 | 1 | 1 | 1 | 0 | 71.2833 | 1 | 0 | 0 | 1 | 0 | 0 |\n",
       "| 3 | 1 | 3 | 0 | 0 |  7.9250 | 1 | 0 | 0 | 0 | 0 | 1 |\n",
       "| 4 | 1 | 1 | 1 | 0 | 53.1000 | 1 | 0 | 0 | 0 | 0 | 1 |\n",
       "| 5 | 0 | 3 | 0 | 0 |  8.0500 | 0 | 1 | 0 | 0 | 0 | 1 |\n",
       "| 6 | 0 | 3 | 0 | 0 |  8.4583 | 0 | 1 | 0 | 0 | 1 | 0 |\n",
       "\n"
      ],
      "text/plain": [
       "  Survived Pclass SibSp Parch Fare    as.factor.full_data..col...female\n",
       "1 0        3      1     0      7.2500 0                                \n",
       "2 1        1      1     0     71.2833 1                                \n",
       "3 1        3      0     0      7.9250 1                                \n",
       "4 1        1      1     0     53.1000 1                                \n",
       "5 0        3      0     0      8.0500 0                                \n",
       "6 0        3      0     0      8.4583 0                                \n",
       "  as.factor.full_data..col...male as.factor.full_data..col...\n",
       "1 1                               0                          \n",
       "2 0                               0                          \n",
       "3 0                               0                          \n",
       "4 0                               0                          \n",
       "5 1                               0                          \n",
       "6 1                               0                          \n",
       "  as.factor.full_data..col...C as.factor.full_data..col...Q\n",
       "1 0                            0                           \n",
       "2 1                            0                           \n",
       "3 0                            0                           \n",
       "4 0                            0                           \n",
       "5 0                            0                           \n",
       "6 0                            1                           \n",
       "  as.factor.full_data..col...S\n",
       "1 1                           \n",
       "2 0                           \n",
       "3 1                           \n",
       "4 1                           \n",
       "5 1                           \n",
       "6 0                           "
      ]
     },
     "metadata": {},
     "output_type": "display_data"
    },
    {
     "data": {
      "text/plain": [
       "    Survived          Pclass          SibSp           Parch       \n",
       " Min.   :0.0000   Min.   :1.000   Min.   :0.000   Min.   :0.0000  \n",
       " 1st Qu.:0.0000   1st Qu.:2.000   1st Qu.:0.000   1st Qu.:0.0000  \n",
       " Median :0.0000   Median :3.000   Median :0.000   Median :0.0000  \n",
       " Mean   :0.3838   Mean   :2.309   Mean   :0.523   Mean   :0.3816  \n",
       " 3rd Qu.:1.0000   3rd Qu.:3.000   3rd Qu.:1.000   3rd Qu.:0.0000  \n",
       " Max.   :1.0000   Max.   :3.000   Max.   :8.000   Max.   :6.0000  \n",
       "      Fare        as.factor.full_data..col...female\n",
       " Min.   :  0.00   Min.   :0.0000                   \n",
       " 1st Qu.:  7.91   1st Qu.:0.0000                   \n",
       " Median : 14.45   Median :0.0000                   \n",
       " Mean   : 32.20   Mean   :0.3524                   \n",
       " 3rd Qu.: 31.00   3rd Qu.:1.0000                   \n",
       " Max.   :512.33   Max.   :1.0000                   \n",
       " as.factor.full_data..col...male as.factor.full_data..col...\n",
       " Min.   :0.0000                  Min.   :0.000000           \n",
       " 1st Qu.:0.0000                  1st Qu.:0.000000           \n",
       " Median :1.0000                  Median :0.000000           \n",
       " Mean   :0.6476                  Mean   :0.002245           \n",
       " 3rd Qu.:1.0000                  3rd Qu.:0.000000           \n",
       " Max.   :1.0000                  Max.   :1.000000           \n",
       " as.factor.full_data..col...C as.factor.full_data..col...Q\n",
       " Min.   :0.0000               Min.   :0.00000             \n",
       " 1st Qu.:0.0000               1st Qu.:0.00000             \n",
       " Median :0.0000               Median :0.00000             \n",
       " Mean   :0.1886               Mean   :0.08642             \n",
       " 3rd Qu.:0.0000               3rd Qu.:0.00000             \n",
       " Max.   :1.0000               Max.   :1.00000             \n",
       " as.factor.full_data..col...S\n",
       " Min.   :0.0000              \n",
       " 1st Qu.:0.0000              \n",
       " Median :1.0000              \n",
       " Mean   :0.7228              \n",
       " 3rd Qu.:1.0000              \n",
       " Max.   :1.0000              "
      ]
     },
     "metadata": {},
     "output_type": "display_data"
    }
   ],
   "source": [
    "# The data preparation step if needed\n",
    "str(full_data)\n",
    "\n",
    "encoded_data <- full_data\n",
    "categorical_columns <- c(\"Sex\", \"Embarked\")\n",
    "\n",
    "for (col in categorical_columns) {\n",
    "  encoded_data <- cbind(encoded_data, model.matrix(~0 + as.factor(full_data[[col]])))\n",
    "  colnames(encoded_data) <- make.names(colnames(encoded_data), unique = TRUE)\n",
    "}\n",
    "\n",
    "# Remove the original categorical columns from encoded_data\n",
    "encoded_data <- encoded_data[, !colnames(encoded_data) %in% categorical_columns]\n",
    "\n",
    "# View the result\n",
    "head(encoded_data)\n",
    "# Check the data now\n",
    "summary(encoded_data)"
   ]
  },
  {
   "cell_type": "markdown",
   "id": "79f16c86-1f86-4c56-9315-884455d5c450",
   "metadata": {},
   "source": [
    "### Question 6.2: Build five different models and evaluate them"
   ]
  },
  {
   "cell_type": "code",
   "execution_count": null,
   "id": "f9186c18-c5ce-49e1-a929-846e16a00f4b",
   "metadata": {},
   "outputs": [],
   "source": [
    "# define the outcome variable\n",
    "voutcome <- Your answer"
   ]
  },
  {
   "cell_type": "markdown",
   "id": "c81cb77f-d2a3-47de-bc20-faa00b05daab",
   "metadata": {},
   "source": [
    "Based on what you have done for Dataset 1, complete the below cells of this dataset. Remember to use parallel computing."
   ]
  },
  {
   "cell_type": "code",
   "execution_count": null,
   "id": "67150010-4926-427b-9ab8-6b5c1c02c4ab",
   "metadata": {},
   "outputs": [],
   "source": [
    "# ============= 15 repeated train/test split ============= \n",
    "for (model in model_vec) {\n",
    "    Your answer\n",
    "}\n",
    "\n",
    "# save results\n",
    "res.split.df6 <- rbind(auc_split, brier_split)\n",
    "\n",
    "# print results\n",
    "print(res.split.df6)  "
   ]
  },
  {
   "cell_type": "code",
   "execution_count": null,
   "id": "832c3fd8-1172-4f16-a776-08535f7c520a",
   "metadata": {
    "tags": []
   },
   "outputs": [],
   "source": [
    "# ============= repeated nested 5-fold CV ============= \n",
    "for (model in model_vec) {\n",
    "    Your answer\n",
    "}\n",
    "\n",
    "# save results\n",
    "res.cv.df6 <- rbind(auc_cv, brier_cv)\n",
    "\n",
    "print(res.cv.df6)"
   ]
  },
  {
   "cell_type": "code",
   "execution_count": null,
   "id": "64004813-8875-4c5d-89ea-e8d20cb07a4d",
   "metadata": {
    "tags": []
   },
   "outputs": [],
   "source": [
    "auc.df6 <- rbind(res.split.df6 %>% filter(metric == \"auc\"), \n",
    "                 res.cv.df6 %>% filter(metric == \"auc\"))\n",
    "\n",
    "# pivot the dataframe from wide to long for plotting\n",
    "auc.df6.long <- auc.df6 %>% \n",
    "    tidyr::pivot_longer(-c(type, metric), \n",
    "                        names_to = \"model\",\n",
    "                        values_to = \"auc\")\n",
    "auc.df6.long$model <- factor(auc.df6.long$model, \n",
    "                         levels = c(\"lr\", \"cart\", \"rf\", \"lgbm\", \"svm\"))\n",
    "auc.df6.long$type <- factor(auc.df6.long$type, \n",
    "                         levels = c(\"train/test split\", \"nested cv\"))\n",
    "\n",
    "# Plot the violin plot\n",
    "ggplot(auc.df6.long, aes(model, auc, fill = model)) + \n",
    "    geom_violin(alpha = 0.5, draw_quantiles = c(0.25, 0.5, 0.75))+ \n",
    "    facet_wrap(~type)"
   ]
  },
  {
   "cell_type": "code",
   "execution_count": null,
   "id": "4b375db9-0bd1-42f5-800c-4bf1d49d011d",
   "metadata": {},
   "outputs": [],
   "source": [
    "brier.df6 <- rbind(res.split.df6 %>% filter(metric == \"brier\"), \n",
    "                   res.cv.df6 %>% filter(metric == \"brier\"))\n",
    "\n",
    "# pivot the dataframe from wide to long for plotting\n",
    "brier.df6.long <- brier.df6 %>% \n",
    "    tidyr::pivot_longer(-c(type,metric), \n",
    "                        names_to = \"model\",\n",
    "                        values_to = \"brier\")\n",
    "brier.df6.long$model <- factor(brier.df6.long$model, \n",
    "                         levels = c(\"lr\", \"cart\", \"rf\", \"lgbm\", \"svm\"))\n",
    "brier.df6.long$type <- factor(brier.df6.long$type, \n",
    "                         levels = c(\"train/test split\", \"nested cv\"))\n",
    "\n",
    "# Plot the violin plot\n",
    "ggplot(brier.df6.long, aes(model, brier, fill = model)) + \n",
    "    geom_violin(alpha = 0.5, draw_quantiles = c(0.25, 0.5, 0.75))+ \n",
    "    facet_wrap(~type)"
   ]
  },
  {
   "cell_type": "markdown",
   "id": "e60cce83-83b7-4c63-a12f-f968e7990124",
   "metadata": {},
   "source": [
    "### Question 6.3: Based on the above violin plot, which model is the best one? Why?"
   ]
  },
  {
   "cell_type": "markdown",
   "id": "4b67dd95-6a5c-4346-bf8d-a62bf96901d1",
   "metadata": {},
   "source": [
    "## Question 7: After working with all the datasets, which models are the best ones across the board? Why?"
   ]
  },
  {
   "cell_type": "markdown",
   "id": "74b9093e-6c79-422d-86ae-93ab8a36c9a2",
   "metadata": {},
   "source": [
    "## Question 8 (bonus): Are you able to make the code more compact to reduce the repetition?\n",
    "\n",
    "Hint: Can you convert the repetitive parts into functions with the appropriate parameters passed to them?"
   ]
  },
  {
   "cell_type": "markdown",
   "id": "99c5eb24-3bb3-4136-956f-9974c73ebd04",
   "metadata": {
    "tags": []
   },
   "source": [
    "# Congratulation! You have completed the Assignment 2!"
   ]
  }
 ],
 "metadata": {
  "kernelspec": {
   "display_name": "R",
   "language": "R",
   "name": "ir"
  },
  "language_info": {
   "codemirror_mode": "r",
   "file_extension": ".r",
   "mimetype": "text/x-r-source",
   "name": "R",
   "pygments_lexer": "r",
   "version": "4.3.1"
  }
 },
 "nbformat": 4,
 "nbformat_minor": 5
}
