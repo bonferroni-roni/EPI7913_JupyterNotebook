{
 "cells": [
  {
   "cell_type": "code",
   "execution_count": 1,
   "id": "d061b2bf-03d8-47dc-b761-5edc85c17cc5",
   "metadata": {
    "tags": []
   },
   "outputs": [
    {
     "ename": "ERROR",
     "evalue": "Error in parse(text = x, srcfile = src): <text>:1:3: unexpected symbol\n1: R version\n      ^\n",
     "output_type": "error",
     "traceback": [
      "Error in parse(text = x, srcfile = src): <text>:1:3: unexpected symbol\n1: R version\n      ^\nTraceback:\n"
     ]
    }
   ],
   "source": [
    "R version 4.3.1 (2023-06-16) -- \"Beagle Scouts\"\n",
    "Copyright (C) 2023 The R Foundation for Statistical Computing\n",
    "Platform: x86_64-pc-linux-gnu (64-bit)\n",
    "\n",
    "R is free software and comes with ABSOLUTELY NO WARRANTY.\n",
    "You are welcome to redistribute it under certain conditions.\n",
    "Type 'license()' or 'licence()' for distribution details.\n",
    "\n",
    "R is a collaborative project with many contributors.\n",
    "Type 'contributors()' for more information and\n",
    "'citation()' on how to cite R or R packages in publications.\n",
    "\n",
    "Type 'demo()' for some demos, 'help()' for on-line help, or\n",
    "'help.start()' for an HTML browser interface to help.\n",
    "Type 'q()' to quit R.\n",
    "\n",
    "packageVersion(\"sdgm\")"
   ]
  },
  {
   "cell_type": "code",
   "execution_count": null,
   "id": "d5a839f2-b691-4612-80ed-4ca643581d1f",
   "metadata": {},
   "outputs": [],
   "source": [
    "R version 4.3.1 (2023-06-16) -- \"Beagle Scouts\"\n",
    "Copyright (C) 2023 The R Foundation for Statistical Computing\n",
    "Platform: x86_64-pc-linux-gnu (64-bit)\n",
    "\n",
    "R is free software and comes with ABSOLUTELY NO WARRANTY.\n",
    "You are welcome to redistribute it under certain conditions.\n",
    "Type 'license()' or 'licence()' for distribution details.\n",
    "\n",
    "R is a collaborative project with many contributors.\n",
    "Type 'contributors()' for more information and\n",
    "'citation()' on how to cite R or R packages in publications.\n",
    "\n",
    "Type 'demo()' for some demos, 'help()' for on-line help, or\n",
    "'help.start()' for an HTML browser interface to help.\n",
    "Type 'q()' to quit R."
   ]
  },
  {
   "cell_type": "code",
   "execution_count": 2,
   "id": "8782394f-70b2-4cb0-a7a1-a4d96bc7e45b",
   "metadata": {
    "tags": []
   },
   "outputs": [
    {
     "data": {
      "text/plain": [
       "[1] ‘0.49’"
      ]
     },
     "metadata": {},
     "output_type": "display_data"
    }
   ],
   "source": [
    "packageVersion(\"sdgm\")"
   ]
  },
  {
   "cell_type": "code",
   "execution_count": 3,
   "id": "3f2e382a-e3b1-4570-a11f-3efa98c4452d",
   "metadata": {
    "tags": []
   },
   "outputs": [
    {
     "name": "stderr",
     "output_type": "stream",
     "text": [
      "Installing package into ‘/home/jupyter-sabdu070/R/x86_64-pc-linux-gnu-library/4.3’\n",
      "(as ‘lib’ is unspecified)\n",
      "\n",
      "Warning message:\n",
      "“package ‘sdgm’ is not available for this version of R\n",
      "\n",
      "A version of this package for your version of R might be available elsewhere,\n",
      "see the ideas at\n",
      "https://cran.r-project.org/doc/manuals/r-patched/R-admin.html#Installing-packages”\n"
     ]
    }
   ],
   "source": [
    "install.packages(\"sdgm\")"
   ]
  },
  {
   "cell_type": "code",
   "execution_count": null,
   "id": "ea816431-6525-42e3-a9a7-3299f2734cb1",
   "metadata": {},
   "outputs": [],
   "source": []
  }
 ],
 "metadata": {
  "kernelspec": {
   "display_name": "R",
   "language": "R",
   "name": "ir"
  },
  "language_info": {
   "codemirror_mode": "r",
   "file_extension": ".r",
   "mimetype": "text/x-r-source",
   "name": "R",
   "pygments_lexer": "r",
   "version": "4.3.1"
  }
 },
 "nbformat": 4,
 "nbformat_minor": 5
}
