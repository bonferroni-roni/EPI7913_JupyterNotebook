{
 "cells": [
  {
   "cell_type": "markdown",
   "id": "09e0bbf0-a06c-453d-a490-f71b5e9365e7",
   "metadata": {},
   "source": [
    "# Assignment 2"
   ]
  },
  {
   "cell_type": "markdown",
   "id": "f859a12b-eb07-42ba-b04e-25be9062e14a",
   "metadata": {},
   "source": [
    "In assignment 2, you will build five classification models on six different datasets. You can then compare them to see which modeling technique works best on each dataset using AUC and the scaled brier score as the metrics.\n",
    " \n",
    "Learning objective: (a) how to train and evaluate models, (b) comparing modeling techniques\n",
    "\n",
    "## Some notes\n",
    "\n",
    "For reference, please see \"Lecture 3 - Tree Examples 2023.ipynb\", \"Lecture 4 - Nested K-cross validation of CART on CCHS.ipynb\", \"Lecture 4 - Parallel nested CV on CCHS.ipynb\", and \"sdgm-getting started.pdf\"\n",
    "\n",
    "Five classification models available in `sdgm` are:\n",
    "1. logistic regression: `lr.bestmodel.bin`\n",
    "2. CART: `cart.bestmodel.bin`\n",
    "3. random forest: `rf.bestmodel.bin`\n",
    "4. LightGBM (lgbm): `lgbm.bestmodel.bin`\n",
    "5. support vector machine (svm): `svm.bestmodel.bin`\n",
    "\n",
    "## Load useful packages"
   ]
  },
  {
   "cell_type": "code",
   "execution_count": 4,
   "id": "fa74bbc4-6298-4174-b447-f87a5f772fd8",
   "metadata": {
    "tags": []
   },
   "outputs": [
    {
     "name": "stderr",
     "output_type": "stream",
     "text": [
      "Loading required package: rBayesianOptimization\n",
      "\n",
      "Loading required package: tidyverse\n",
      "\n",
      "── \u001b[1mAttaching core tidyverse packages\u001b[22m ──────────────────────── tidyverse 2.0.0 ──\n",
      "\u001b[32m✔\u001b[39m \u001b[34mdplyr    \u001b[39m 1.1.3     \u001b[32m✔\u001b[39m \u001b[34mreadr    \u001b[39m 2.1.4\n",
      "\u001b[32m✔\u001b[39m \u001b[34mforcats  \u001b[39m 1.0.0     \u001b[32m✔\u001b[39m \u001b[34mstringr  \u001b[39m 1.5.0\n",
      "\u001b[32m✔\u001b[39m \u001b[34mggplot2  \u001b[39m 3.4.3     \u001b[32m✔\u001b[39m \u001b[34mtibble   \u001b[39m 3.2.1\n",
      "\u001b[32m✔\u001b[39m \u001b[34mlubridate\u001b[39m 1.9.2     \u001b[32m✔\u001b[39m \u001b[34mtidyr    \u001b[39m 1.3.0\n",
      "\u001b[32m✔\u001b[39m \u001b[34mpurrr    \u001b[39m 1.0.2     \n",
      "── \u001b[1mConflicts\u001b[22m ────────────────────────────────────────── tidyverse_conflicts() ──\n",
      "\u001b[31m✖\u001b[39m \u001b[34mdplyr\u001b[39m::\u001b[32mfilter()\u001b[39m masks \u001b[34mstats\u001b[39m::filter()\n",
      "\u001b[31m✖\u001b[39m \u001b[34mdplyr\u001b[39m::\u001b[32mlag()\u001b[39m    masks \u001b[34mstats\u001b[39m::lag()\n",
      "\u001b[36mℹ\u001b[39m Use the conflicted package (\u001b[3m\u001b[34m<http://conflicted.r-lib.org/>\u001b[39m\u001b[23m) to force all conflicts to become errors\n",
      "Loading required package: DescTools\n",
      "\n",
      "Loading required package: lightgbm\n",
      "\n",
      "Loading required package: R6\n",
      "\n",
      "\n",
      "Attaching package: ‘lightgbm’\n",
      "\n",
      "\n",
      "The following object is masked from ‘package:dplyr’:\n",
      "\n",
      "    slice\n",
      "\n",
      "\n",
      "Loading required package: magrittr\n",
      "\n",
      "\n",
      "Attaching package: ‘magrittr’\n",
      "\n",
      "\n",
      "The following object is masked from ‘package:purrr’:\n",
      "\n",
      "    set_names\n",
      "\n",
      "\n",
      "The following object is masked from ‘package:tidyr’:\n",
      "\n",
      "    extract\n",
      "\n",
      "\n",
      "Loading required package: zeallot\n",
      "\n",
      "Loading required package: gtools\n",
      "\n",
      "Loading required package: fs\n",
      "\n",
      "Loading required package: MLmetrics\n",
      "\n",
      "\n",
      "Attaching package: ‘MLmetrics’\n",
      "\n",
      "\n",
      "The following objects are masked from ‘package:DescTools’:\n",
      "\n",
      "    AUC, Gini, MAE, MAPE, MSE, RMSE\n",
      "\n",
      "\n",
      "The following object is masked from ‘package:base’:\n",
      "\n",
      "    Recall\n",
      "\n",
      "\n",
      "Loading required package: data.table\n",
      "\n",
      "\n",
      "Attaching package: ‘data.table’\n",
      "\n",
      "\n",
      "The following object is masked from ‘package:DescTools’:\n",
      "\n",
      "    %like%\n",
      "\n",
      "\n",
      "The following objects are masked from ‘package:lubridate’:\n",
      "\n",
      "    hour, isoweek, mday, minute, month, quarter, second, wday, week,\n",
      "    yday, year\n",
      "\n",
      "\n",
      "The following objects are masked from ‘package:dplyr’:\n",
      "\n",
      "    between, first, last\n",
      "\n",
      "\n",
      "The following object is masked from ‘package:purrr’:\n",
      "\n",
      "    transpose\n",
      "\n",
      "\n",
      "Loading required package: zip\n",
      "\n",
      "\n",
      "Attaching package: ‘zip’\n",
      "\n",
      "\n",
      "The following objects are masked from ‘package:utils’:\n",
      "\n",
      "    unzip, zip\n",
      "\n",
      "\n",
      "Loading required package: rpart\n",
      "\n",
      "Loading required package: rpart.plot\n",
      "\n",
      "Loading required package: caret\n",
      "\n",
      "Loading required package: lattice\n",
      "\n",
      "\n",
      "Attaching package: ‘caret’\n",
      "\n",
      "\n",
      "The following objects are masked from ‘package:MLmetrics’:\n",
      "\n",
      "    MAE, RMSE\n",
      "\n",
      "\n",
      "The following objects are masked from ‘package:DescTools’:\n",
      "\n",
      "    MAE, RMSE\n",
      "\n",
      "\n",
      "The following object is masked from ‘package:purrr’:\n",
      "\n",
      "    lift\n",
      "\n",
      "\n",
      "Loading required package: splitTools\n",
      "\n",
      "Loading required package: neuralnet\n",
      "\n",
      "\n",
      "Attaching package: ‘neuralnet’\n",
      "\n",
      "\n",
      "The following object is masked from ‘package:dplyr’:\n",
      "\n",
      "    compute\n",
      "\n",
      "\n",
      "Loading required package: pacman\n",
      "\n",
      "Loading required package: future\n",
      "\n",
      "\n",
      "Attaching package: ‘future’\n",
      "\n",
      "\n",
      "The following object is masked from ‘package:caret’:\n",
      "\n",
      "    cluster\n",
      "\n",
      "\n",
      "The following objects are masked from ‘package:zeallot’:\n",
      "\n",
      "    %->%, %<-%\n",
      "\n",
      "\n",
      "Loading required package: ranger\n",
      "\n",
      "Loading required package: e1071\n",
      "\n",
      "\n",
      "Attaching package: ‘e1071’\n",
      "\n",
      "\n",
      "The following object is masked from ‘package:gtools’:\n",
      "\n",
      "    permutations\n",
      "\n",
      "\n"
     ]
    }
   ],
   "source": [
    "library(sdgm)\n",
    "library(dplyr)\n",
    "library(ggplot2)"
   ]
  },
  {
   "cell_type": "markdown",
   "id": "c8a8eabd-d1b4-495c-90c8-80018bcfdba2",
   "metadata": {
    "tags": []
   },
   "source": [
    "## Some preparation work"
   ]
  },
  {
   "cell_type": "code",
   "execution_count": 5,
   "id": "3cd8d6f6-b0ec-4ff9-83b0-d1b6d4c3be67",
   "metadata": {
    "tags": []
   },
   "outputs": [],
   "source": [
    "# Change plot size to 18 * 6\n",
    "options(repr.plot.width=18, repr.plot.height=6) "
   ]
  },
  {
   "cell_type": "code",
   "execution_count": 6,
   "id": "ae8d1234-5258-472b-973f-47ba424c2ece",
   "metadata": {
    "tags": []
   },
   "outputs": [],
   "source": [
    "n_iter <- 20\n",
    "train_data_split <- 0.8\n",
    "model_vec <- c(\"lr\", \"cart\", \"rf\", \"lgbm\", \"svm\") # names of models"
   ]
  },
  {
   "cell_type": "code",
   "execution_count": 7,
   "id": "203e149f-a567-4d19-a2ef-5e57cb97770c",
   "metadata": {
    "tags": []
   },
   "outputs": [],
   "source": [
    "# -------- define dataframes to save the intermediate results ---------\n",
    "# AUC values of the repeated train/test split, 15 times\n",
    "auc_split <- data.frame(type = rep(\"train/test split\", 15),\n",
    "                      metric = rep(\"auc\", 15),\n",
    "                      lr = rep(0, 15),\n",
    "                      cart = rep(0, 15),\n",
    "                      rf = rep(0, 15),\n",
    "                      lgbm = rep(0, 15),\n",
    "                      svm = rep(0, 15))\n",
    "\n",
    "# AUC values of the repeated nested cv, 15 times\n",
    "auc_cv <- data.frame(type = rep(\"nested cv\", 15),\n",
    "                      metric = rep(\"auc\", 15),\n",
    "                      lr = rep(0, 15),\n",
    "                      cart = rep(0, 15),\n",
    "                      rf = rep(0, 15),\n",
    "                      lgbm = rep(0, 15),\n",
    "                      svm = rep(0, 15))\n",
    "\n",
    "# brier scores of the repeated train/test split, 15 times\n",
    "brier_split <- data.frame(type = rep(\"train/test split\", 15),\n",
    "                        metric = rep(\"brier\", 15),\n",
    "                        lr = rep(0, 15),\n",
    "                        cart = rep(0, 15),\n",
    "                        rf = rep(0, 15),\n",
    "                        lgbm = rep(0, 15),\n",
    "                        svm = rep(0, 15))\n",
    "\n",
    "# brier scores of the repeated nested cv, 15 times\n",
    "brier_cv <- data.frame(type = rep(\"nested cv\", 15),\n",
    "                        metric = rep(\"brier\", 15),\n",
    "                        lr = rep(0, 15),\n",
    "                        cart = rep(0, 15),\n",
    "                        rf = rep(0, 15),\n",
    "                        lgbm = rep(0, 15),\n",
    "                        svm = rep(0, 15))"
   ]
  },
  {
   "cell_type": "markdown",
   "id": "9e3d50f6-9959-4560-8f4e-5611d1258567",
   "metadata": {},
   "source": [
    "## Dataset 1: `sdgm::C2` BankNote\n",
    "\n",
    "For more details about this dataset, see [here](https://archive.ics.uci.edu/dataset/267/banknote+authentication)"
   ]
  },
  {
   "cell_type": "code",
   "execution_count": 28,
   "id": "b326de9b-06a5-4215-a745-f6233d9e8cbc",
   "metadata": {
    "tags": []
   },
   "outputs": [
    {
     "data": {
      "text/html": [
       "\n",
       "<table style=\"width: 100%;\"><tr><td>C2 {sdgm}</td><td style=\"text-align: right;\">R Documentation</td></tr></table>\n",
       "\n",
       "<h2 id='C2'>BankNote</h2>\n",
       "\n",
       "<h3>Description</h3>\n",
       "\n",
       "<p>Data of images that were taken for the evaluation of tan authentication procedure for banknotes.\n",
       "Target variable: class, 2 levels\n",
       "Classification type: binomial logistic regression\n",
       "</p>\n",
       "\n",
       "\n",
       "<h3>Usage</h3>\n",
       "\n",
       "<pre><code class='language-R'>C2\n",
       "</code></pre>\n",
       "\n",
       "\n",
       "<h3>Format</h3>\n",
       "\n",
       "<p>An object of class <code>data.frame</code> with 1371 rows and 5 columns.\n",
       "</p>\n",
       "\n",
       "\n",
       "<h3>Source</h3>\n",
       "\n",
       "<p><a href=\"https://jmir.org/api/download?alt_name=medinform_v10i4e35734_app1.pdf&amp;filename=04ce0b2aec244210e4503631ee243fd0.pdf\">JMIR Article</a>\n",
       "</p>\n",
       "\n",
       "\n",
       "<h3>Examples</h3>\n",
       "\n",
       "<pre><code class='language-R'>data = sdgd::C2\n",
       "data$class = as.factor(data$class)\n",
       "glm(class~., data = data, family = 'binomial')\n",
       "\n",
       "</code></pre>\n",
       "\n",
       "<hr /><div style=\"text-align: center;\">[Package <em>sdgm</em> version 0.39 ]</div>\n",
       "</div>"
      ],
      "text/latex": [
       "\\inputencoding{utf8}\n",
       "\\HeaderA{C2}{BankNote}{C2}\n",
       "\\keyword{datasets}{C2}\n",
       "%\n",
       "\\begin{Description}\n",
       "Data of images that were taken for the evaluation of tan authentication procedure for banknotes.\n",
       "Target variable: class, 2 levels\n",
       "Classification type: binomial logistic regression\n",
       "\\end{Description}\n",
       "%\n",
       "\\begin{Usage}\n",
       "\\begin{verbatim}\n",
       "C2\n",
       "\\end{verbatim}\n",
       "\\end{Usage}\n",
       "%\n",
       "\\begin{Format}\n",
       "An object of class \\code{data.frame} with 1371 rows and 5 columns.\n",
       "\\end{Format}\n",
       "%\n",
       "\\begin{Source}\n",
       "\\Rhref{https://jmir.org/api/download?alt_name=medinform_v10i4e35734_app1.pdf\\&filename=04ce0b2aec244210e4503631ee243fd0.pdf}{JMIR Article}\n",
       "\\end{Source}\n",
       "%\n",
       "\\begin{Examples}\n",
       "\\begin{ExampleCode}\n",
       "data = sdgd::C2\n",
       "data$class = as.factor(data$class)\n",
       "glm(class~., data = data, family = 'binomial')\n",
       "\n",
       "\\end{ExampleCode}\n",
       "\\end{Examples}"
      ],
      "text/plain": [
       "C2                    package:sdgm                     R Documentation\n",
       "\n",
       "_\bB_\ba_\bn_\bk_\bN_\bo_\bt_\be\n",
       "\n",
       "_\bD_\be_\bs_\bc_\br_\bi_\bp_\bt_\bi_\bo_\bn:\n",
       "\n",
       "     Data of images that were taken for the evaluation of tan\n",
       "     authentication procedure for banknotes. Target variable: class, 2\n",
       "     levels Classification type: binomial logistic regression\n",
       "\n",
       "_\bU_\bs_\ba_\bg_\be:\n",
       "\n",
       "     C2\n",
       "     \n",
       "_\bF_\bo_\br_\bm_\ba_\bt:\n",
       "\n",
       "     An object of class ‘data.frame’ with 1371 rows and 5 columns.\n",
       "\n",
       "_\bS_\bo_\bu_\br_\bc_\be:\n",
       "\n",
       "     JMIR Article\n",
       "\n",
       "_\bE_\bx_\ba_\bm_\bp_\bl_\be_\bs:\n",
       "\n",
       "     data = sdgd::C2\n",
       "     data$class = as.factor(data$class)\n",
       "     glm(class~., data = data, family = 'binomial')\n",
       "     "
      ]
     },
     "metadata": {},
     "output_type": "display_data"
    }
   ],
   "source": [
    "# show the description of this dataset\n",
    "?sdgm::C2"
   ]
  },
  {
   "cell_type": "code",
   "execution_count": 29,
   "id": "0cb2e919-cef2-41b8-92f5-410963fb1d71",
   "metadata": {
    "tags": []
   },
   "outputs": [
    {
     "data": {
      "text/html": [
       "<table class=\"dataframe\">\n",
       "<caption>A data.frame: 6 × 5</caption>\n",
       "<thead>\n",
       "\t<tr><th></th><th scope=col>var</th><th scope=col>skew</th><th scope=col>curtosis</th><th scope=col>entropy</th><th scope=col>class</th></tr>\n",
       "\t<tr><th></th><th scope=col>&lt;dbl&gt;</th><th scope=col>&lt;dbl&gt;</th><th scope=col>&lt;dbl&gt;</th><th scope=col>&lt;dbl&gt;</th><th scope=col>&lt;chr&gt;</th></tr>\n",
       "</thead>\n",
       "<tbody>\n",
       "\t<tr><th scope=row>1</th><td>4.54590</td><td> 8.1674</td><td>-2.45860</td><td>-1.46210</td><td>'0'</td></tr>\n",
       "\t<tr><th scope=row>2</th><td>3.86600</td><td>-2.6383</td><td> 1.92420</td><td> 0.10645</td><td>'0'</td></tr>\n",
       "\t<tr><th scope=row>3</th><td>3.45660</td><td> 9.5228</td><td>-4.01120</td><td>-3.59440</td><td>'0'</td></tr>\n",
       "\t<tr><th scope=row>4</th><td>0.32924</td><td>-4.4552</td><td> 4.57180</td><td>-0.98880</td><td>'0'</td></tr>\n",
       "\t<tr><th scope=row>5</th><td>4.36840</td><td> 9.6718</td><td>-3.96060</td><td>-3.16250</td><td>'0'</td></tr>\n",
       "\t<tr><th scope=row>6</th><td>3.59120</td><td> 3.0129</td><td> 0.72888</td><td> 0.56421</td><td>'0'</td></tr>\n",
       "</tbody>\n",
       "</table>\n"
      ],
      "text/latex": [
       "A data.frame: 6 × 5\n",
       "\\begin{tabular}{r|lllll}\n",
       "  & var & skew & curtosis & entropy & class\\\\\n",
       "  & <dbl> & <dbl> & <dbl> & <dbl> & <chr>\\\\\n",
       "\\hline\n",
       "\t1 & 4.54590 &  8.1674 & -2.45860 & -1.46210 & '0'\\\\\n",
       "\t2 & 3.86600 & -2.6383 &  1.92420 &  0.10645 & '0'\\\\\n",
       "\t3 & 3.45660 &  9.5228 & -4.01120 & -3.59440 & '0'\\\\\n",
       "\t4 & 0.32924 & -4.4552 &  4.57180 & -0.98880 & '0'\\\\\n",
       "\t5 & 4.36840 &  9.6718 & -3.96060 & -3.16250 & '0'\\\\\n",
       "\t6 & 3.59120 &  3.0129 &  0.72888 &  0.56421 & '0'\\\\\n",
       "\\end{tabular}\n"
      ],
      "text/markdown": [
       "\n",
       "A data.frame: 6 × 5\n",
       "\n",
       "| <!--/--> | var &lt;dbl&gt; | skew &lt;dbl&gt; | curtosis &lt;dbl&gt; | entropy &lt;dbl&gt; | class &lt;chr&gt; |\n",
       "|---|---|---|---|---|---|\n",
       "| 1 | 4.54590 |  8.1674 | -2.45860 | -1.46210 | '0' |\n",
       "| 2 | 3.86600 | -2.6383 |  1.92420 |  0.10645 | '0' |\n",
       "| 3 | 3.45660 |  9.5228 | -4.01120 | -3.59440 | '0' |\n",
       "| 4 | 0.32924 | -4.4552 |  4.57180 | -0.98880 | '0' |\n",
       "| 5 | 4.36840 |  9.6718 | -3.96060 | -3.16250 | '0' |\n",
       "| 6 | 3.59120 |  3.0129 |  0.72888 |  0.56421 | '0' |\n",
       "\n"
      ],
      "text/plain": [
       "  var     skew    curtosis entropy  class\n",
       "1 4.54590  8.1674 -2.45860 -1.46210 '0'  \n",
       "2 3.86600 -2.6383  1.92420  0.10645 '0'  \n",
       "3 3.45660  9.5228 -4.01120 -3.59440 '0'  \n",
       "4 0.32924 -4.4552  4.57180 -0.98880 '0'  \n",
       "5 4.36840  9.6718 -3.96060 -3.16250 '0'  \n",
       "6 3.59120  3.0129  0.72888  0.56421 '0'  "
      ]
     },
     "metadata": {},
     "output_type": "display_data"
    },
    {
     "data": {
      "text/html": [
       "<style>\n",
       ".list-inline {list-style: none; margin:0; padding: 0}\n",
       ".list-inline>li {display: inline-block}\n",
       ".list-inline>li:not(:last-child)::after {content: \"\\00b7\"; padding: 0 .5ex}\n",
       "</style>\n",
       "<ol class=list-inline><li>1371</li><li>5</li></ol>\n"
      ],
      "text/latex": [
       "\\begin{enumerate*}\n",
       "\\item 1371\n",
       "\\item 5\n",
       "\\end{enumerate*}\n"
      ],
      "text/markdown": [
       "1. 1371\n",
       "2. 5\n",
       "\n",
       "\n"
      ],
      "text/plain": [
       "[1] 1371    5"
      ]
     },
     "metadata": {},
     "output_type": "display_data"
    }
   ],
   "source": [
    "# first glance of the dataset\n",
    "full_data <- sdgm::C2\n",
    "head(full_data)\n",
    "dim(full_data)"
   ]
  },
  {
   "cell_type": "code",
   "execution_count": 30,
   "id": "0b877344-a111-40fd-9404-9a49bb413d5e",
   "metadata": {
    "tags": []
   },
   "outputs": [],
   "source": [
    "# Convert characters to numbers. Note because of the special format in the data, `as.numeric` doesn't work here.\n",
    "# The code below is to extract numbers from strings\n",
    "full_data$class <- as.numeric(gsub(\"\\\\D\", \"\", full_data$class))"
   ]
  },
  {
   "cell_type": "code",
   "execution_count": 31,
   "id": "b75b7a5a-7804-445f-8504-78fb12564502",
   "metadata": {
    "tags": []
   },
   "outputs": [
    {
     "data": {
      "text/plain": [
       "      var               skew            curtosis          entropy       \n",
       " Min.   :-7.0421   Min.   :-13.773   Min.   :-5.2861   Min.   :-8.5482  \n",
       " 1st Qu.:-1.7747   1st Qu.: -1.711   1st Qu.:-1.5534   1st Qu.:-2.4170  \n",
       " Median : 0.4957   Median :  2.313   Median : 0.6166   Median :-0.5867  \n",
       " Mean   : 0.4314   Mean   :  1.917   Mean   : 1.4007   Mean   :-1.1922  \n",
       " 3rd Qu.: 2.8146   3rd Qu.:  6.813   3rd Qu.: 3.1816   3rd Qu.: 0.3948  \n",
       " Max.   : 6.8248   Max.   : 12.952   Max.   :17.9274   Max.   : 2.4495  \n",
       "     class       \n",
       " Min.   :0.0000  \n",
       " 1st Qu.:0.0000  \n",
       " Median :0.0000  \n",
       " Mean   :0.4449  \n",
       " 3rd Qu.:1.0000  \n",
       " Max.   :1.0000  "
      ]
     },
     "metadata": {},
     "output_type": "display_data"
    },
    {
     "data": {
      "text/html": [
       "<table class=\"dataframe\">\n",
       "<caption>A data.frame: 6 × 5</caption>\n",
       "<thead>\n",
       "\t<tr><th></th><th scope=col>var</th><th scope=col>skew</th><th scope=col>curtosis</th><th scope=col>entropy</th><th scope=col>class</th></tr>\n",
       "\t<tr><th></th><th scope=col>&lt;dbl&gt;</th><th scope=col>&lt;dbl&gt;</th><th scope=col>&lt;dbl&gt;</th><th scope=col>&lt;dbl&gt;</th><th scope=col>&lt;dbl&gt;</th></tr>\n",
       "</thead>\n",
       "<tbody>\n",
       "\t<tr><th scope=row>1</th><td>4.54590</td><td> 8.1674</td><td>-2.45860</td><td>-1.46210</td><td>0</td></tr>\n",
       "\t<tr><th scope=row>2</th><td>3.86600</td><td>-2.6383</td><td> 1.92420</td><td> 0.10645</td><td>0</td></tr>\n",
       "\t<tr><th scope=row>3</th><td>3.45660</td><td> 9.5228</td><td>-4.01120</td><td>-3.59440</td><td>0</td></tr>\n",
       "\t<tr><th scope=row>4</th><td>0.32924</td><td>-4.4552</td><td> 4.57180</td><td>-0.98880</td><td>0</td></tr>\n",
       "\t<tr><th scope=row>5</th><td>4.36840</td><td> 9.6718</td><td>-3.96060</td><td>-3.16250</td><td>0</td></tr>\n",
       "\t<tr><th scope=row>6</th><td>3.59120</td><td> 3.0129</td><td> 0.72888</td><td> 0.56421</td><td>0</td></tr>\n",
       "</tbody>\n",
       "</table>\n"
      ],
      "text/latex": [
       "A data.frame: 6 × 5\n",
       "\\begin{tabular}{r|lllll}\n",
       "  & var & skew & curtosis & entropy & class\\\\\n",
       "  & <dbl> & <dbl> & <dbl> & <dbl> & <dbl>\\\\\n",
       "\\hline\n",
       "\t1 & 4.54590 &  8.1674 & -2.45860 & -1.46210 & 0\\\\\n",
       "\t2 & 3.86600 & -2.6383 &  1.92420 &  0.10645 & 0\\\\\n",
       "\t3 & 3.45660 &  9.5228 & -4.01120 & -3.59440 & 0\\\\\n",
       "\t4 & 0.32924 & -4.4552 &  4.57180 & -0.98880 & 0\\\\\n",
       "\t5 & 4.36840 &  9.6718 & -3.96060 & -3.16250 & 0\\\\\n",
       "\t6 & 3.59120 &  3.0129 &  0.72888 &  0.56421 & 0\\\\\n",
       "\\end{tabular}\n"
      ],
      "text/markdown": [
       "\n",
       "A data.frame: 6 × 5\n",
       "\n",
       "| <!--/--> | var &lt;dbl&gt; | skew &lt;dbl&gt; | curtosis &lt;dbl&gt; | entropy &lt;dbl&gt; | class &lt;dbl&gt; |\n",
       "|---|---|---|---|---|---|\n",
       "| 1 | 4.54590 |  8.1674 | -2.45860 | -1.46210 | 0 |\n",
       "| 2 | 3.86600 | -2.6383 |  1.92420 |  0.10645 | 0 |\n",
       "| 3 | 3.45660 |  9.5228 | -4.01120 | -3.59440 | 0 |\n",
       "| 4 | 0.32924 | -4.4552 |  4.57180 | -0.98880 | 0 |\n",
       "| 5 | 4.36840 |  9.6718 | -3.96060 | -3.16250 | 0 |\n",
       "| 6 | 3.59120 |  3.0129 |  0.72888 |  0.56421 | 0 |\n",
       "\n"
      ],
      "text/plain": [
       "  var     skew    curtosis entropy  class\n",
       "1 4.54590  8.1674 -2.45860 -1.46210 0    \n",
       "2 3.86600 -2.6383  1.92420  0.10645 0    \n",
       "3 3.45660  9.5228 -4.01120 -3.59440 0    \n",
       "4 0.32924 -4.4552  4.57180 -0.98880 0    \n",
       "5 4.36840  9.6718 -3.96060 -3.16250 0    \n",
       "6 3.59120  3.0129  0.72888  0.56421 0    "
      ]
     },
     "metadata": {},
     "output_type": "display_data"
    },
    {
     "data": {
      "text/plain": [
       "\n",
       "  0   1 \n",
       "761 610 "
      ]
     },
     "metadata": {},
     "output_type": "display_data"
    }
   ],
   "source": [
    "# Check the data now\n",
    "summary(full_data)\n",
    "head(full_data)\n",
    "\n",
    "# Check the outcome variable\n",
    "table(full_data$class)"
   ]
  },
  {
   "cell_type": "markdown",
   "id": "0b8c995c-bd6b-48f3-a85d-d88a1a7ebcdf",
   "metadata": {
    "tags": []
   },
   "source": [
    "### Question 1.1: Based on what you have learnt about the dataset, is there anything should be done to prepare the data?\n",
    "\n",
    "**Hint 1:** Are all the variables in the correct variable type?\n",
    "\n",
    "**Hint 2 (Important!):** As per some models' requirement, the outcome variable has to be a numeric variable between 0 and 1.\n",
    "\n",
    "***Note:*** Some datasets need a bit of data preparation and some don't. If you think this one needs to be prepared, choose \"yes\" and add your code in the below cell. Otherwise, choose \"no\" and leave the below cell unchanged.\n",
    "\n",
    "Your answer: no"
   ]
  },
  {
   "cell_type": "code",
   "execution_count": 32,
   "id": "dda984a3-8d1d-4ee2-886f-28f80dfef0c9",
   "metadata": {
    "tags": []
   },
   "outputs": [
    {
     "data": {
      "text/plain": [
       "      var               skew            curtosis          entropy       \n",
       " Min.   :-7.0421   Min.   :-13.773   Min.   :-5.2861   Min.   :-8.5482  \n",
       " 1st Qu.:-1.7747   1st Qu.: -1.711   1st Qu.:-1.5534   1st Qu.:-2.4170  \n",
       " Median : 0.4957   Median :  2.313   Median : 0.6166   Median :-0.5867  \n",
       " Mean   : 0.4314   Mean   :  1.917   Mean   : 1.4007   Mean   :-1.1922  \n",
       " 3rd Qu.: 2.8146   3rd Qu.:  6.813   3rd Qu.: 3.1816   3rd Qu.: 0.3948  \n",
       " Max.   : 6.8248   Max.   : 12.952   Max.   :17.9274   Max.   : 2.4495  \n",
       "     class       \n",
       " Min.   :0.0000  \n",
       " 1st Qu.:0.0000  \n",
       " Median :0.0000  \n",
       " Mean   :0.4449  \n",
       " 3rd Qu.:1.0000  \n",
       " Max.   :1.0000  "
      ]
     },
     "metadata": {},
     "output_type": "display_data"
    }
   ],
   "source": [
    "# The data preparation step if needed\n",
    "\n",
    "# Check the data now\n",
    "summary(full_data)"
   ]
  },
  {
   "cell_type": "code",
   "execution_count": 33,
   "id": "357ff20a-a2fc-48ad-8b16-baacc070b0d9",
   "metadata": {
    "tags": []
   },
   "outputs": [],
   "source": [
    "# remove one variable to add more variance to the the outputs across the repeated evaluations\n",
    "full_data <- full_data %>% select(-var)"
   ]
  },
  {
   "cell_type": "markdown",
   "id": "e7a099e4-846f-4667-aec4-55b4faa9b3f4",
   "metadata": {},
   "source": [
    "### Question 1.2: Build five different models and evaluate them"
   ]
  },
  {
   "cell_type": "code",
   "execution_count": 34,
   "id": "8a9f67a9-7485-40ba-8364-41d882e3d6c3",
   "metadata": {
    "tags": []
   },
   "outputs": [],
   "source": [
    "# define the outcome variable\n",
    "voutcome <- \"class\""
   ]
  },
  {
   "cell_type": "markdown",
   "id": "36f1a342-ff41-492d-b32a-19f804f91600",
   "metadata": {},
   "source": [
    "Note: You will use parallel computing here, see \"Lecture 4 - Parallel nested CV on CCHS.ipynb\".\n",
    "\n",
    "Hint: remember to include \"model\" in the vector when you call `parallel::clusterExport`. For more details about `parallel::clusterExport`, see [here](https://cran.r-project.org/web/packages/SimDesign/vignettes/Fixed_obj_fun.html)."
   ]
  },
  {
   "cell_type": "code",
   "execution_count": 35,
   "id": "90bc7e69-746b-421c-9be3-a1bf5ee0a65b",
   "metadata": {
    "tags": []
   },
   "outputs": [
    {
     "name": "stdout",
     "output_type": "stream",
     "text": [
      "               type metric        lr      cart        rf      lgbm       svm\n",
      "1  train/test split    auc 0.8640235 0.9557998 0.8845465 0.9547336 0.9136235\n",
      "2  train/test split    auc 0.8594828 0.9002539 0.9295455 0.9367647 0.9480508\n",
      "3  train/test split    auc 0.8669400 0.9222913 0.9319880 0.8923747 0.9419975\n",
      "4  train/test split    auc 0.8748672 0.9209556 0.8935514 0.9438943 0.9339225\n",
      "5  train/test split    auc 0.8734110 0.9095011 0.9384218 0.9576383 0.9395503\n",
      "6  train/test split    auc 0.8912246 0.9234461 0.9250363 0.9305067 0.9419289\n",
      "7  train/test split    auc 0.8692391 0.9409587 0.9226730 0.9203185 0.9432312\n",
      "8  train/test split    auc 0.8790014 0.9050884 0.9231383 0.9309104 0.9130104\n",
      "9  train/test split    auc 0.8943819 0.9427282 0.9369721 0.9237417 0.9450096\n",
      "10 train/test split    auc 0.8883691 0.9247765 0.8875000 0.9367738 0.9520299\n",
      "11 train/test split    auc 0.8452007 0.9352771 0.9355757 0.9572744 0.9205848\n",
      "12 train/test split    auc 0.8866646 0.9423054 0.9225470 0.9523946 0.9268234\n",
      "13 train/test split    auc 0.8839815 0.9287448 0.9270490 0.9203990 0.9428440\n",
      "14 train/test split    auc 0.8971094 0.9431199 0.9114368 0.9007209 0.9286208\n",
      "15 train/test split    auc 0.8716718 0.8854365 0.9307447 0.9319753 0.9411481\n",
      "16 train/test split  brier 0.4174416 0.6789811 0.4878686 0.6677868 0.5507982\n",
      "17 train/test split  brier 0.3972604 0.5627931 0.6646230 0.6382418 0.6887418\n",
      "18 train/test split  brier 0.4160338 0.6363802 0.6337674 0.5260369 0.6585858\n",
      "19 train/test split  brier 0.4392729 0.6107824 0.5189694 0.6933848 0.6625892\n",
      "20 train/test split  brier 0.4345762 0.5745098 0.6766962 0.6956838 0.6683714\n",
      "21 train/test split  brier 0.4646603 0.6087432 0.6467358 0.5799030 0.6614947\n",
      "22 train/test split  brier 0.4370524 0.6723767 0.6064652 0.5668242 0.7126501\n",
      "23 train/test split  brier 0.4556062 0.5505765 0.6142021 0.6406487 0.5685339\n",
      "24 train/test split  brier 0.4792314 0.6881059 0.6644882 0.6043826 0.6470219\n",
      "25 train/test split  brier 0.4904169 0.6697026 0.4895213 0.6430529 0.7039383\n",
      "26 train/test split  brier 0.3809101 0.6346697 0.6605533 0.6936172 0.6059450\n",
      "27 train/test split  brier 0.4561855 0.6609432 0.5966793 0.6796624 0.5905060\n",
      "28 train/test split  brier 0.4517664 0.6487814 0.6309929 0.6468254 0.6765517\n",
      "29 train/test split  brier 0.4938789 0.6518370 0.5888132 0.5124139 0.5971660\n",
      "30 train/test split  brier 0.4301754 0.5191646 0.6334688 0.5972076 0.6566822\n"
     ]
    }
   ],
   "source": [
    "# ============= 15 repeated train/test split ============= \n",
    "for (model in model_vec) {\n",
    "    \n",
    "    # parallel computing\n",
    "    cl<-parallel::makeCluster(5)\n",
    "    parallel::clusterExport(cl, c(\"full_data\", \"voutcome\", \"model\"), envir = environment() )\n",
    "    \n",
    "    res <- parallel::parSapply(cl, 1:15, function(x)\n",
    "    {\n",
    "        # partition data into train and test portions\n",
    "        idx <- splitTools::partition(rep(0,nrow(full_data)), p=c(train=0.7, test=0.3), type=\"stratified\")\n",
    "        \n",
    "        # retrieve train and test data\n",
    "        train_data <- full_data[idx$train,]\n",
    "        test_data <- full_data[idx$test,]\n",
    "        \n",
    "        # build the model\n",
    "        if (model == \"lr\") {\n",
    "            best_model<-sdgm::lr.bestmodel.bin(train_data, voutcome)\n",
    "        } else if (model == \"cart\") {\n",
    "            best_model<-sdgm::cart.bestmodel.bin(train_data, voutcome)\n",
    "        } else if (model == \"rf\") {\n",
    "            best_model<-sdgm::cart.bestmodel.bin(train_data, voutcome)\n",
    "        } else if (model == \"lgbm\") {\n",
    "            best_model<-sdgm::cart.bestmodel.bin(train_data, voutcome)\n",
    "        } else if (model == \"svm\") {\n",
    "            best_model<-sdgm::cart.bestmodel.bin(train_data, voutcome)\n",
    "        }\n",
    "        \n",
    "        # predict\n",
    "        preds<-predict(best_model, test_data)\n",
    "  \n",
    "        # calculate and return AUC and brier score\n",
    "         if (!is.null(preds))\n",
    "        {\n",
    "          test_auc <- sdgm::auc(preds, test_data[,voutcome] ) \n",
    "        } else {\n",
    "          test_auc <- NA\n",
    "          print(\"AUC calculation failed because there are no predicted values\")\n",
    "        }\n",
    "        print(paste0(\"AUC on C2 Data: \", test_auc))\n",
    "        \n",
    "         if (!is.null(preds))\n",
    "        {\n",
    "          test_brier <- sdgm::brier(preds, test_data[,voutcome] ) \n",
    "        } else {\n",
    "          test_brier <- NA\n",
    "          print(\"Brier calculation failed because there are no predicted values\")\n",
    "        }\n",
    "          print(paste0(\"Brier Score on C2 Data: \", test_brier))\n",
    "\n",
    "        c(test_auc, test_brier)\n",
    "    })\n",
    "    parallel::stopCluster(cl)\n",
    "    \n",
    "    # save results of the model\n",
    "    if (model == \"lr\") {\n",
    "        auc_split$lr <- res[1,]\n",
    "        brier_split$lr <- res[2,]\n",
    "    } else if (model == \"cart\") {\n",
    "        auc_split$cart <- res[1,]\n",
    "        brier_split$cart <- res[2,]\n",
    "    } else if (model == \"rf\") {\n",
    "        auc_split$rf <- res[1,]\n",
    "        brier_split$rf <- res[2,]\n",
    "    } else if (model == \"lgbm\") {\n",
    "        auc_split$lgbm <- res[1,]\n",
    "        brier_split$lgbm <- res[2,]\n",
    "    } else if (model == \"svm\") {\n",
    "        auc_split$svm <- res[1,]\n",
    "        brier_split$svm <- res[2,]\n",
    "    }\n",
    "}\n",
    "\n",
    "# save results\n",
    "res.split.df1 <- rbind(auc_split, brier_split)\n",
    "\n",
    "# print results\n",
    "print(res.split.df1)"
   ]
  },
  {
   "cell_type": "markdown",
   "id": "791aab18-5be7-4214-beba-7eb24b32db8b",
   "metadata": {},
   "source": [
    "Mimic the structure in the last cell, complete the below cell for nested CV. Remember to use parallel computing."
   ]
  },
  {
   "cell_type": "code",
   "execution_count": null,
   "id": "12bacd08-e253-4b1e-9e58-85abb6ce127c",
   "metadata": {
    "tags": []
   },
   "outputs": [],
   "source": [
    "# ============= repeated nested 5-fold CV ============= \n",
    "for (model in model_vec) {\n",
    "    # parallel computing\n",
    "    cl <- parallel::makeCluster(5)\n",
    "    parallel::clusterExport(cl, c(\"full_data\", \"voutcome\", \"model\"), envir = environment())\n",
    "    \n",
    "    # this is the repeated loop\n",
    "    res <- parallel::parSapply(cl, seq(15), function(i) \n",
    "    {\n",
    "        # this is the nested CV outer loop\n",
    "        nested_res <- sapply(caret::createFolds(full_data[, voutcome], k=5), function(x) \n",
    "        {\n",
    "            testInds <- x\n",
    "            trnInds <- setdiff(1:nrow(full_data), testInds)\n",
    "            train_data <- full_data[trnInds,]\n",
    "            test_data <- full_data[testInds,]\n",
    "\n",
    "            if (model == \"lr\") {\n",
    "                best_model <- sdgm::lr.bestmodel.bin(train_data, voutcome)\n",
    "            } else if (model == \"cart\") {\n",
    "                best_model <- sdgm::cart.bestmodel.bin(train_data, voutcome)\n",
    "            } else if (model == \"rf\") {\n",
    "                best_model <- sdgm::rf.bestmodel.bin(train_data, voutcome)\n",
    "            } else if (model == \"lgbm\") {\n",
    "                best_model <- sdgm::lgbm.bestmodel.bin(train_data, voutcome)\n",
    "            } else if (model == \"svm\") {\n",
    "                best_model <- sdgm::svm.bestmodel.bin(train_data, voutcome)\n",
    "            }\n",
    "            \n",
    "            #predict\n",
    "            preds <- predict(best_model, test_data)\n",
    "            \n",
    "            # calculate and return AUC and brier score\n",
    "             if (!is.null(preds)) {\n",
    "                nested_auc <- sdgm::auc(preds, test_data[, voutcome])\n",
    "                nested_brier <- sdgm::brier(preds, test_data[, voutcome])\n",
    "            } else {\n",
    "                nested_auc <- NA\n",
    "                nested_brier <- NA\n",
    "            }\n",
    "\n",
    "            c(nested_auc, nested_brier)\n",
    "        })\n",
    "        nested_cv_auc <- mean(nested_res[1,], na.rm=T)\n",
    "        nested_cv_brier <- mean(nested_res[2,], na.rm=T)\n",
    "                               \n",
    "        c(nested_cv_auc, nested_cv_brier)\n",
    "    })\n",
    "    parallel::stopCluster(cl)\n",
    "    \n",
    "    # save results of the model\n",
    "    if (model == \"lr\") {\n",
    "        auc_cv$lr <- res[1,]\n",
    "        brier_cv$lr <- res[2,]\n",
    "    } else if (model == \"cart\") {\n",
    "        auc_cv$cart <- res[1,]\n",
    "        brier_cv$cart <- res[2,]\n",
    "    } else if (model == \"rf\") {\n",
    "        auc_cv$rf <- res[1,]\n",
    "        brier_cv$rf <- res[2,]\n",
    "    } else if (model == \"lgbm\") {\n",
    "        auc_cv$lgbm <- res[1,]\n",
    "        brier_cv$lgbm <- res[2,]\n",
    "    } else if (model == \"svm\") {\n",
    "        auc_cv$svm <- res[1,]\n",
    "        brier_cv$svm <- res[2,]\n",
    "    }\n",
    "}\n",
    "\n",
    "# save results\n",
    "res.cv.df1 <- rbind(auc_cv, brier_cv)\n",
    "\n",
    "print(res.cv.df1)"
   ]
  },
  {
   "cell_type": "code",
   "execution_count": null,
   "id": "bbc24026-771f-475b-bc2c-c0ab88f3abcd",
   "metadata": {
    "tags": []
   },
   "outputs": [],
   "source": [
    "auc.df1 <- rbind(res.split.df1 %>% filter(metric == \"auc\"), \n",
    "                 res.cv.df1 %>% filter(metric == \"auc\"))\n",
    "\n",
    "# pivot the dataframe from wide to long for plotting\n",
    "auc.df1.long <- auc.df1 %>% \n",
    "    tidyr::pivot_longer(-c(type, metric), \n",
    "                        names_to = \"model\",\n",
    "                        values_to = \"auc\")\n",
    "auc.df1.long$model <- factor(auc.df1.long$model, \n",
    "                         levels = c(\"lr\", \"cart\", \"rf\", \"lgbm\", \"svm\"))\n",
    "auc.df1.long$type <- factor(auc.df1.long$type, \n",
    "                         levels = c(\"train/test split\", \"nested cv\"))\n",
    "\n",
    "# Plot the violin plot\n",
    "ggplot(auc.df1.long, aes(model, auc, fill = model)) + \n",
    "    geom_violin(alpha = 0.5, draw_quantiles = c(0.25, 0.5, 0.75))+ \n",
    "    facet_wrap(~type)"
   ]
  },
  {
   "cell_type": "code",
   "execution_count": null,
   "id": "1972497b-9422-439f-836b-8ae83017f6a2",
   "metadata": {
    "tags": []
   },
   "outputs": [],
   "source": [
    "brier.df1 <- rbind(res.split.df1 %>% filter(metric == \"brier\"), \n",
    "                   res.cv.df1 %>% filter(metric == \"brier\"))\n",
    "\n",
    "# pivot the dataframe from wide to long for plotting\n",
    "brier.df1.long <- brier.df1 %>% \n",
    "    tidyr::pivot_longer(-c(type,metric), \n",
    "                        names_to = \"model\",\n",
    "                        values_to = \"brier\")\n",
    "brier.df1.long$model <- factor(brier.df1.long$model, \n",
    "                         levels = c(\"lr\", \"cart\", \"rf\", \"lgbm\", \"svm\"))\n",
    "brier.df1.long$type <- factor(brier.df1.long$type, \n",
    "                         levels = c(\"train/test split\", \"nested cv\"))\n",
    "\n",
    "# Plot the violin plot\n",
    "ggplot(brier.df1.long, aes(model, brier, fill = model)) + \n",
    "    geom_violin(alpha = 0.5, draw_quantiles = c(0.25, 0.5, 0.75))+ \n",
    "    facet_wrap(~type)"
   ]
  },
  {
   "cell_type": "markdown",
   "id": "8256f3ff-39c2-4a4b-ba1f-82e7e83f8054",
   "metadata": {},
   "source": [
    "### Question 1.3: Based on the above violin plot, which model is the best one? Why?"
   ]
  },
  {
   "cell_type": "markdown",
   "id": "18745b47-e439-4734-8d52-54a3aceacb50",
   "metadata": {},
   "source": [
    "## Dataset 2: `sdgm::C3` Breast Cancer Wisconsin\n",
    "\n",
    "For more details about this dataset, see [here](https://archive.ics.uci.edu/dataset/15/breast+cancer+wisconsin+original)"
   ]
  },
  {
   "cell_type": "code",
   "execution_count": null,
   "id": "0c3b1f2c-3958-4f27-810d-c6cb9784ae7b",
   "metadata": {
    "tags": []
   },
   "outputs": [],
   "source": [
    "# show the description of this dataset\n",
    "?sdgm::C3"
   ]
  },
  {
   "cell_type": "code",
   "execution_count": null,
   "id": "5cd97182-a018-46a8-9117-6b67579e76fe",
   "metadata": {
    "tags": []
   },
   "outputs": [],
   "source": [
    "# first glance of the dataset\n",
    "full_data <- sdgm::C3\n",
    "head(full_data)\n",
    "dim(full_data)"
   ]
  },
  {
   "cell_type": "code",
   "execution_count": null,
   "id": "540af2f1-b08a-4afe-8019-76a297ddcdf2",
   "metadata": {
    "tags": []
   },
   "outputs": [],
   "source": [
    "# Convert characters to numbers. Note because of the special format in the data, `as.numeric` doesn't work here.\n",
    "# The code below is to extract numbers from strings\n",
    "full_data$Class <- as.numeric(gsub(\"\\\\D\", \"\", full_data$Class))"
   ]
  },
  {
   "cell_type": "code",
   "execution_count": null,
   "id": "1388a44d-012e-415e-91e9-1c47e13328c3",
   "metadata": {
    "tags": []
   },
   "outputs": [],
   "source": [
    "# Check the data now\n",
    "summary(full_data)\n",
    "\n",
    "# Check the outcome variable\n",
    "table(full_data$Class)"
   ]
  },
  {
   "cell_type": "markdown",
   "id": "1c126e04-71cd-4998-a30c-c8d00db2c770",
   "metadata": {
    "tags": []
   },
   "source": [
    "### Question 2.1: Based on what you have learnt about the dataset, is there anything should be done to prepare the data?\n",
    "\n",
    "**Hint 1:** Are all the variables in the correct variable type?\n",
    "\n",
    "**Hint 2 (Important!):** As per some models' requirement, the outcome variable has to be a numeric variable between 0 and 1.\n",
    "\n",
    "***Note:*** Some datasets need a bit of data preparation and some don't. If you think this one needs to be prepared, choose \"yes\" and add your code in the below cell. Otherwise, choose \"no\" and leave the below cell unchanged.\n",
    "\n",
    "Your answer: yes"
   ]
  },
  {
   "cell_type": "code",
   "execution_count": null,
   "id": "b4f74ef8-0e11-4045-b008-4c4a33c16260",
   "metadata": {
    "tags": []
   },
   "outputs": [],
   "source": [
    "# The data preparation step if needed\n",
    "full_data$Class <- ifelse(full_data$Class == 2, 0, ifelse(full_data$Class == 4, 1, full_data$Class))\n",
    "table(full_data$Class)\n",
    "\n",
    "# Check the data now\n",
    "summary(full_data)"
   ]
  },
  {
   "cell_type": "markdown",
   "id": "e3c63bdc-6fcd-4b4b-87ec-12bb52d43898",
   "metadata": {},
   "source": [
    "### Question 2.2: Build five different models and evaluate them"
   ]
  },
  {
   "cell_type": "code",
   "execution_count": null,
   "id": "8f3e93d0-5b6a-4035-8050-81c010fa34da",
   "metadata": {
    "tags": []
   },
   "outputs": [],
   "source": [
    "# define the outcome variable\n",
    "voutcome <- \"Class\""
   ]
  },
  {
   "cell_type": "markdown",
   "id": "594d8d43-7761-4c3a-b5e6-de8a403f85fa",
   "metadata": {},
   "source": [
    "Based on what you have done for Dataset 1, complete the below cells of this dataset. Remember to use parallel computing."
   ]
  },
  {
   "cell_type": "code",
   "execution_count": null,
   "id": "3b70f229-9e95-4d3c-8939-605177b5bf1f",
   "metadata": {
    "tags": []
   },
   "outputs": [],
   "source": [
    "# ============= 15 repeated train/test split ============= \n",
    "for (model in model_vec) {\n",
    "    \n",
    "    # parallel computing\n",
    "    cl<-parallel::makeCluster(5)\n",
    "    parallel::clusterExport(cl, c(\"full_data\", \"voutcome\", \"model\"), envir = environment() )\n",
    "    \n",
    "    res <- parallel::parSapply(cl, 1:15, function(x)\n",
    "    {\n",
    "        # partition data into train and test portions\n",
    "        idx <- splitTools::partition(rep(0,nrow(full_data)), p=c(train=0.7, test=0.3), type=\"stratified\")\n",
    "        \n",
    "        # retrieve train and test data\n",
    "        train_data <- full_data[idx$train,]\n",
    "        test_data <- full_data[idx$test,]\n",
    "        \n",
    "        # build the model\n",
    "        if (model == \"lr\") {\n",
    "            best_model<-sdgm::lr.bestmodel.bin(train_data, voutcome)\n",
    "        } else if (model == \"cart\") {\n",
    "            best_model<-sdgm::cart.bestmodel.bin(train_data, voutcome)\n",
    "        } else if (model == \"rf\") {\n",
    "            best_model<-sdgm::cart.bestmodel.bin(train_data, voutcome)\n",
    "        } else if (model == \"lgbm\") {\n",
    "            best_model<-sdgm::cart.bestmodel.bin(train_data, voutcome)\n",
    "        } else if (model == \"svm\") {\n",
    "            best_model<-sdgm::cart.bestmodel.bin(train_data, voutcome)\n",
    "        }\n",
    "        \n",
    "        # predict\n",
    "        preds<-predict(best_model, test_data)\n",
    "  \n",
    "        # calculate and return AUC and brier score\n",
    "         if (!is.null(preds))\n",
    "        {\n",
    "          test_auc <- sdgm::auc(preds, test_data[,voutcome] ) \n",
    "        } else {\n",
    "          test_auc <- NA\n",
    "          print(\"AUC calculation failed because there are no predicted values\")\n",
    "        }\n",
    "        print(paste0(\"AUC on C3 Data: \", test_auc))\n",
    "        \n",
    "         if (!is.null(preds))\n",
    "        {\n",
    "          test_brier <- sdgm::brier(preds, test_data[,voutcome] ) \n",
    "        } else {\n",
    "          test_brier <- NA\n",
    "          print(\"Brier calculation failed because there are no predicted values\")\n",
    "        }\n",
    "          print(paste0(\"Brier Score on C3 Data: \", test_brier))\n",
    "\n",
    "        c(test_auc, test_brier)\n",
    "    })\n",
    "    parallel::stopCluster(cl)\n",
    "    \n",
    "    # save results of the model\n",
    "    if (model == \"lr\") {\n",
    "        auc_split$lr <- res[1,]\n",
    "        brier_split$lr <- res[2,]\n",
    "    } else if (model == \"cart\") {\n",
    "        auc_split$cart <- res[1,]\n",
    "        brier_split$cart <- res[2,]\n",
    "    } else if (model == \"rf\") {\n",
    "        auc_split$rf <- res[1,]\n",
    "        brier_split$rf <- res[2,]\n",
    "    } else if (model == \"lgbm\") {\n",
    "        auc_split$lgbm <- res[1,]\n",
    "        brier_split$lgbm <- res[2,]\n",
    "    } else if (model == \"svm\") {\n",
    "        auc_split$svm <- res[1,]\n",
    "        brier_split$svm <- res[2,]\n",
    "    }\n",
    "}\n",
    "\n",
    "# save results\n",
    "res.split.df2 <- rbind(auc_split, brier_split)\n",
    "\n",
    "# print results\n",
    "print(res.split.df2)  "
   ]
  },
  {
   "cell_type": "code",
   "execution_count": null,
   "id": "6eb501ad-0347-4a27-9adb-d428e5061886",
   "metadata": {
    "tags": []
   },
   "outputs": [],
   "source": [
    "# ============= repeated nested 5-fold CV ============= \n",
    "for (model in model_vec) {\n",
    "    # parallel computing\n",
    "    cl <- parallel::makeCluster(5)\n",
    "    parallel::clusterExport(cl, c(\"full_data\", \"voutcome\", \"model\"), envir = environment())\n",
    "    \n",
    "    # this is the repeated loop\n",
    "    res <- parallel::parSapply(cl, seq(15), function(i) \n",
    "    {\n",
    "        # this is the nested CV outer loop\n",
    "        nested_res <- sapply(caret::createFolds(full_data[, voutcome], k=5), function(x) \n",
    "        {\n",
    "            testInds <- x\n",
    "            trnInds <- setdiff(1:nrow(full_data), testInds)\n",
    "            train_data <- full_data[trnInds,]\n",
    "            test_data <- full_data[testInds,]\n",
    "\n",
    "            if (model == \"lr\") {\n",
    "                best_model <- sdgm::lr.bestmodel.bin(train_data, voutcome)\n",
    "            } else if (model == \"cart\") {\n",
    "                best_model <- sdgm::cart.bestmodel.bin(train_data, voutcome)\n",
    "            } else if (model == \"rf\") {\n",
    "                best_model <- sdgm::rf.bestmodel.bin(train_data, voutcome)\n",
    "            } else if (model == \"lgbm\") {\n",
    "                best_model <- sdgm::lgbm.bestmodel.bin(train_data, voutcome)\n",
    "            } else if (model == \"svm\") {\n",
    "                best_model <- sdgm::svm.bestmodel.bin(train_data, voutcome)\n",
    "            }\n",
    "            \n",
    "            #predict\n",
    "            preds <- predict(best_model, test_data)\n",
    "            \n",
    "            # calculate and return AUC and brier score\n",
    "             if (!is.null(preds)) {\n",
    "                nested_auc <- sdgm::auc(preds, test_data[, voutcome])\n",
    "                nested_brier <- sdgm::brier(preds, test_data[, voutcome])\n",
    "            } else {\n",
    "                nested_auc <- NA\n",
    "                nested_brier <- NA\n",
    "            }\n",
    "\n",
    "            c(nested_auc, nested_brier)\n",
    "        })\n",
    "        nested_cv_auc <- mean(nested_res[1,], na.rm=T)\n",
    "        nested_cv_brier <- mean(nested_res[2,], na.rm=T)\n",
    "                               \n",
    "        c(nested_cv_auc, nested_cv_brier)\n",
    "    })\n",
    "    parallel::stopCluster(cl)\n",
    "    \n",
    "    # save results of the model\n",
    "    if (model == \"lr\") {\n",
    "        auc_cv$lr <- res[1,]\n",
    "        brier_cv$lr <- res[2,]\n",
    "    } else if (model == \"cart\") {\n",
    "        auc_cv$cart <- res[1,]\n",
    "        brier_cv$cart <- res[2,]\n",
    "    } else if (model == \"rf\") {\n",
    "        auc_cv$rf <- res[1,]\n",
    "        brier_cv$rf <- res[2,]\n",
    "    } else if (model == \"lgbm\") {\n",
    "        auc_cv$lgbm <- res[1,]\n",
    "        brier_cv$lgbm <- res[2,]\n",
    "    } else if (model == \"svm\") {\n",
    "        auc_cv$svm <- res[1,]\n",
    "        brier_cv$svm <- res[2,]\n",
    "    }\n",
    "}\n",
    "\n",
    "# save results\n",
    "res.cv.df2 <- rbind(auc_cv, brier_cv)\n",
    "\n",
    "print(res.cv.df2)"
   ]
  },
  {
   "cell_type": "code",
   "execution_count": null,
   "id": "3e1c7f9c-5590-4d9a-a39b-67d861e556a9",
   "metadata": {
    "tags": []
   },
   "outputs": [],
   "source": [
    "auc.df2 <- rbind(res.split.df2 %>% filter(metric == \"auc\"), \n",
    "                 res.cv.df2 %>% filter(metric == \"auc\"))\n",
    "\n",
    "# pivot the dataframe from wide to long for plotting\n",
    "auc.df2.long <- auc.df2 %>% \n",
    "    tidyr::pivot_longer(-c(type, metric), \n",
    "                        names_to = \"model\",\n",
    "                        values_to = \"auc\")\n",
    "auc.df2.long$model <- factor(auc.df2.long$model, \n",
    "                         levels = c(\"lr\", \"cart\", \"rf\", \"lgbm\", \"svm\"))\n",
    "auc.df2.long$type <- factor(auc.df2.long$type, \n",
    "                         levels = c(\"train/test split\", \"nested cv\"))\n",
    "\n",
    "# Plot the violin plot\n",
    "ggplot(auc.df2.long, aes(model, auc, fill = model)) + \n",
    "    geom_violin(alpha = 0.5, draw_quantiles = c(0.25, 0.5, 0.75))+ \n",
    "    facet_wrap(~type)"
   ]
  },
  {
   "cell_type": "code",
   "execution_count": null,
   "id": "494dbcf0-0ef5-4361-9926-1753605c0d71",
   "metadata": {
    "tags": []
   },
   "outputs": [],
   "source": [
    "brier.df2 <- rbind(res.split.df2 %>% filter(metric == \"brier\"), \n",
    "                   res.cv.df2 %>% filter(metric == \"brier\"))\n",
    "\n",
    "# pivot the dataframe from wide to long for plotting\n",
    "brier.df2.long <- brier.df2 %>% \n",
    "    tidyr::pivot_longer(-c(type,metric), \n",
    "                        names_to = \"model\",\n",
    "                        values_to = \"brier\")\n",
    "brier.df2.long$model <- factor(brier.df2.long$model, \n",
    "                         levels = c(\"lr\", \"cart\", \"rf\", \"lgbm\", \"svm\"))\n",
    "brier.df2.long$type <- factor(brier.df2.long$type, \n",
    "                         levels = c(\"train/test split\", \"nested cv\"))\n",
    "\n",
    "# Plot the violin plot\n",
    "ggplot(brier.df2.long, aes(model, brier, fill = model)) + \n",
    "    geom_violin(alpha = 0.5, draw_quantiles = c(0.25, 0.5, 0.75))+ \n",
    "    facet_wrap(~type)"
   ]
  },
  {
   "cell_type": "markdown",
   "id": "ad2382e2-010f-44ac-a44a-88d53b30a8e7",
   "metadata": {},
   "source": [
    "### Question 2.3: Based on the above violin plot, which model is the best one? Why?"
   ]
  },
  {
   "cell_type": "markdown",
   "id": "4ffdde5b-0dae-4fb6-8d93-202c00eb26a1",
   "metadata": {},
   "source": [
    "## Dataset 3: `sdgm::C16` Diabetic Retinopathy\n",
    "\n",
    "For more details about this dataset, see [here](https://archive.ics.uci.edu/dataset/329/diabetic+retinopathy+debrecen)"
   ]
  },
  {
   "cell_type": "code",
   "execution_count": null,
   "id": "0aaca353-7d19-45ba-9e99-6b8fdfaabee2",
   "metadata": {
    "tags": []
   },
   "outputs": [],
   "source": [
    "# show the description of this dataset\n",
    "?sdgm::C16"
   ]
  },
  {
   "cell_type": "code",
   "execution_count": null,
   "id": "ed8f08a1-0aa2-434e-813b-e3ffcdff8a09",
   "metadata": {
    "tags": []
   },
   "outputs": [],
   "source": [
    "# first glance of the dataset\n",
    "full_data <- sdgm::C16\n",
    "head(full_data)\n",
    "dim(full_data)"
   ]
  },
  {
   "cell_type": "code",
   "execution_count": null,
   "id": "312ef929-08e1-4b2f-a33b-4ea7a8d9c2d2",
   "metadata": {
    "tags": []
   },
   "outputs": [],
   "source": [
    "# Convert characters to numbers. Note because of the special format in the data, `as.numeric` doesn't work here.\n",
    "# The code below is to extract numbers from strings\n",
    "full_data$Quality <- as.numeric(gsub(\"\\\\D\", \"\", full_data$Quality))\n",
    "full_data$PreScreen <- as.numeric(gsub(\"\\\\D\", \"\", full_data$PreScreen))\n",
    "full_data$AM_FM <- as.numeric(gsub(\"\\\\D\", \"\", full_data$AM_FM))\n",
    "full_data$Class <- as.numeric(gsub(\"\\\\D\", \"\", full_data$Class))"
   ]
  },
  {
   "cell_type": "code",
   "execution_count": null,
   "id": "a488aa03-44a8-466e-be9c-b525321bb33a",
   "metadata": {
    "tags": []
   },
   "outputs": [],
   "source": [
    "# Check the data now\n",
    "summary(full_data)\n",
    "\n",
    "# Check the outcome variable\n",
    "table(full_data$Class)"
   ]
  },
  {
   "cell_type": "markdown",
   "id": "29141d34-ed97-440c-ada0-ccab42bfac35",
   "metadata": {
    "tags": []
   },
   "source": [
    "### Question 3.1: Based on what you have learnt about the dataset, is there anything should be done to prepare the data?\n",
    "\n",
    "**Hint 1:** Are all the variables in the correct variable type?\n",
    "\n",
    "**Hint 2 (Important!):** As per some models' requirement, the outcome variable has to be a numeric variable between 0 and 1.\n",
    "\n",
    "***Note:*** Some datasets need a bit of data preparation and some don't. If you think this one needs to be prepared, choose \"yes\" and add your code in the below cell. Otherwise, choose \"no\" and leave the below cell unchanged.\n",
    "\n",
    "Your answer: no"
   ]
  },
  {
   "cell_type": "code",
   "execution_count": null,
   "id": "f9860099-826f-43e4-9456-69b3acc9cb6b",
   "metadata": {
    "tags": []
   },
   "outputs": [],
   "source": [
    "# The data preparation step if needed\n",
    "           \n",
    "# Check the data now\n",
    "summary(full_data)\n",
    "head(full_data)"
   ]
  },
  {
   "cell_type": "markdown",
   "id": "d8a543f8-2a7b-4d5c-b382-6f2537282ef3",
   "metadata": {},
   "source": [
    "### Question 3.2: Build five different models and evaluate them"
   ]
  },
  {
   "cell_type": "code",
   "execution_count": null,
   "id": "036be641-9b73-4633-945b-44ea4e6a79e6",
   "metadata": {},
   "outputs": [],
   "source": [
    "# define the outcome variable\n",
    "voutcome <- \"Class\""
   ]
  },
  {
   "cell_type": "markdown",
   "id": "3455ce2c-d50c-4ac6-af5c-663be88f076a",
   "metadata": {},
   "source": [
    "Based on what you have done for Dataset 1, complete the below cells of this dataset. Remember to use parallel computing."
   ]
  },
  {
   "cell_type": "code",
   "execution_count": null,
   "id": "cc0301c2-a44e-4d6b-ad19-abdca0b4a1cd",
   "metadata": {},
   "outputs": [],
   "source": [
    "# ============= 15 repeated train/test split ============= \n",
    "for (model in model_vec) {\n",
    "    \n",
    "    # parallel computing\n",
    "    cl<-parallel::makeCluster(5)\n",
    "    parallel::clusterExport(cl, c(\"full_data\", \"voutcome\", \"model\"), envir = environment() )\n",
    "    \n",
    "    res <- parallel::parSapply(cl, 1:15, function(x)\n",
    "    {\n",
    "        # partition data into train and test portions\n",
    "        idx <- splitTools::partition(rep(0,nrow(full_data)), p=c(train=0.7, test=0.3), type=\"stratified\")\n",
    "        \n",
    "        # retrieve train and test data\n",
    "        train_data <- full_data[idx$train,]\n",
    "        test_data <- full_data[idx$test,]\n",
    "        \n",
    "        # build the model\n",
    "        if (model == \"lr\") {\n",
    "            best_model<-sdgm::lr.bestmodel.bin(train_data, voutcome)\n",
    "        } else if (model == \"cart\") {\n",
    "            best_model<-sdgm::cart.bestmodel.bin(train_data, voutcome)\n",
    "        } else if (model == \"rf\") {\n",
    "            best_model<-sdgm::cart.bestmodel.bin(train_data, voutcome)\n",
    "        } else if (model == \"lgbm\") {\n",
    "            best_model<-sdgm::cart.bestmodel.bin(train_data, voutcome)\n",
    "        } else if (model == \"svm\") {\n",
    "            best_model<-sdgm::cart.bestmodel.bin(train_data, voutcome)\n",
    "        }\n",
    "        \n",
    "        # predict\n",
    "        preds<-predict(best_model, test_data)\n",
    "  \n",
    "        # calculate and return AUC and brier score\n",
    "         if (!is.null(preds))\n",
    "        {\n",
    "          test_auc <- sdgm::auc(preds, test_data[,voutcome] ) \n",
    "        } else {\n",
    "          test_auc <- NA\n",
    "          print(\"AUC calculation failed because there are no predicted values\")\n",
    "        }\n",
    "        print(paste0(\"AUC on C16 Data: \", test_auc))\n",
    "        \n",
    "         if (!is.null(preds))\n",
    "        {\n",
    "          test_brier <- sdgm::brier(preds, test_data[,voutcome] ) \n",
    "        } else {\n",
    "          test_brier <- NA\n",
    "          print(\"Brier calculation failed because there are no predicted values\")\n",
    "        }\n",
    "          print(paste0(\"Brier Score on C16 Data: \", test_brier))\n",
    "\n",
    "        c(test_auc, test_brier)\n",
    "    })\n",
    "    parallel::stopCluster(cl)\n",
    "    \n",
    "    # save results of the model\n",
    "    if (model == \"lr\") {\n",
    "        auc_split$lr <- res[1,]\n",
    "        brier_split$lr <- res[2,]\n",
    "    } else if (model == \"cart\") {\n",
    "        auc_split$cart <- res[1,]\n",
    "        brier_split$cart <- res[2,]\n",
    "    } else if (model == \"rf\") {\n",
    "        auc_split$rf <- res[1,]\n",
    "        brier_split$rf <- res[2,]\n",
    "    } else if (model == \"lgbm\") {\n",
    "        auc_split$lgbm <- res[1,]\n",
    "        brier_split$lgbm <- res[2,]\n",
    "    } else if (model == \"svm\") {\n",
    "        auc_split$svm <- res[1,]\n",
    "        brier_split$svm <- res[2,]\n",
    "    }\n",
    "}\n",
    "\n",
    "# save results\n",
    "res.split.df3 <- rbind(auc_split, brier_split)\n",
    "\n",
    "# print results\n",
    "print(res.split.df3)  "
   ]
  },
  {
   "cell_type": "code",
   "execution_count": null,
   "id": "6ccdc149-5361-48d8-a22b-2e3fe5d24b82",
   "metadata": {
    "tags": []
   },
   "outputs": [],
   "source": [
    "# ============= repeated nested 5-fold CV ============= \n",
    "for (model in model_vec) {\n",
    "     \n",
    "    # parallel computing\n",
    "    cl <- parallel::makeCluster(5)\n",
    "    parallel::clusterExport(cl, c(\"full_data\", \"voutcome\", \"model\"), envir = environment())\n",
    "    \n",
    "    # this is the repeated loop\n",
    "    res <- parallel::parSapply(cl, seq(15), function(i) \n",
    "    {\n",
    "        # this is the nested CV outer loop\n",
    "        nested_res <- sapply(caret::createFolds(full_data[, voutcome], k=5), function(x) \n",
    "        {\n",
    "            testInds <- x\n",
    "            trnInds <- setdiff(1:nrow(full_data), testInds)\n",
    "            train_data <- full_data[trnInds,]\n",
    "            test_data <- full_data[testInds,]\n",
    "\n",
    "            if (model == \"lr\") {\n",
    "                best_model <- sdgm::lr.bestmodel.bin(train_data, voutcome)\n",
    "            } else if (model == \"cart\") {\n",
    "                best_model <- sdgm::cart.bestmodel.bin(train_data, voutcome)\n",
    "            } else if (model == \"rf\") {\n",
    "                best_model <- sdgm::rf.bestmodel.bin(train_data, voutcome)\n",
    "            } else if (model == \"lgbm\") {\n",
    "                best_model <- sdgm::lgbm.bestmodel.bin(train_data, voutcome)\n",
    "            } else if (model == \"svm\") {\n",
    "                best_model <- sdgm::svm.bestmodel.bin(train_data, voutcome)\n",
    "            }\n",
    "            \n",
    "            #predict\n",
    "            preds <- predict(best_model, test_data)\n",
    "            \n",
    "            # calculate and return AUC and brier score\n",
    "             if (!is.null(preds)) {\n",
    "                nested_auc <- sdgm::auc(preds, test_data[, voutcome])\n",
    "                nested_brier <- sdgm::brier(preds, test_data[, voutcome])\n",
    "            } else {\n",
    "                nested_auc <- NA\n",
    "                nested_brier <- NA\n",
    "            }\n",
    "\n",
    "            c(nested_auc, nested_brier)\n",
    "        })\n",
    "        nested_cv_auc <- mean(nested_res[1,], na.rm=T)\n",
    "        nested_cv_brier <- mean(nested_res[2,], na.rm=T)\n",
    "                               \n",
    "        c(nested_cv_auc, nested_cv_brier)\n",
    "    })\n",
    "    parallel::stopCluster(cl)\n",
    "    \n",
    "    # save results of the model\n",
    "    if (model == \"lr\") {\n",
    "        auc_cv$lr <- res[1,]\n",
    "        brier_cv$lr <- res[2,]\n",
    "    } else if (model == \"cart\") {\n",
    "        auc_cv$cart <- res[1,]\n",
    "        brier_cv$cart <- res[2,]\n",
    "    } else if (model == \"rf\") {\n",
    "        auc_cv$rf <- res[1,]\n",
    "        brier_cv$rf <- res[2,]\n",
    "    } else if (model == \"lgbm\") {\n",
    "        auc_cv$lgbm <- res[1,]\n",
    "        brier_cv$lgbm <- res[2,]\n",
    "    } else if (model == \"svm\") {\n",
    "        auc_cv$svm <- res[1,]\n",
    "        brier_cv$svm <- res[2,]\n",
    "    }\n",
    "}\n",
    "\n",
    "# save results\n",
    "res.cv.df3 <- rbind(auc_cv, brier_cv)\n",
    "\n",
    "print(res.cv.df3)"
   ]
  },
  {
   "cell_type": "code",
   "execution_count": null,
   "id": "37f212b3-679b-4002-89d5-31515df27c7f",
   "metadata": {
    "tags": []
   },
   "outputs": [],
   "source": [
    "auc.df3 <- rbind(res.split.df3 %>% filter(metric == \"auc\"), \n",
    "                 res.cv.df3 %>% filter(metric == \"auc\"))\n",
    "\n",
    "# pivot the dataframe from wide to long for plotting\n",
    "auc.df3.long <- auc.df3 %>% \n",
    "    tidyr::pivot_longer(-c(type, metric), \n",
    "                        names_to = \"model\",\n",
    "                        values_to = \"auc\")\n",
    "auc.df3.long$model <- factor(auc.df3.long$model, \n",
    "                         levels = c(\"lr\", \"cart\", \"rf\", \"lgbm\", \"svm\"))\n",
    "auc.df3.long$type <- factor(auc.df3.long$type, \n",
    "                         levels = c(\"train/test split\", \"nested cv\"))\n",
    "\n",
    "# Plot the violin plot\n",
    "ggplot(auc.df3.long, aes(model, auc, fill = model)) + \n",
    "    geom_violin(alpha = 0.5, draw_quantiles = c(0.25, 0.5, 0.75))+ \n",
    "    facet_wrap(~type)"
   ]
  },
  {
   "cell_type": "code",
   "execution_count": null,
   "id": "6ce5fc75-3965-42cc-a392-0fa8a94cb076",
   "metadata": {},
   "outputs": [],
   "source": [
    "brier.df3 <- rbind(res.split.df3 %>% filter(metric == \"brier\"), \n",
    "                   res.cv.df3 %>% filter(metric == \"brier\"))\n",
    "\n",
    "# pivot the dataframe from wide to long for plotting\n",
    "brier.df3.long <- brier.df3 %>% \n",
    "    tidyr::pivot_longer(-c(type,metric), \n",
    "                        names_to = \"model\",\n",
    "                        values_to = \"brier\")\n",
    "brier.df3.long$model <- factor(brier.df3.long$model, \n",
    "                         levels = c(\"lr\", \"cart\", \"rf\", \"lgbm\", \"svm\"))\n",
    "brier.df3.long$type <- factor(brier.df3.long$type, \n",
    "                         levels = c(\"train/test split\", \"nested cv\"))\n",
    "\n",
    "# Plot the violin plot\n",
    "ggplot(brier.df3.long, aes(model, brier, fill = model)) + \n",
    "    geom_violin(alpha = 0.5, draw_quantiles = c(0.25, 0.5, 0.75))+ \n",
    "    facet_wrap(~type)"
   ]
  },
  {
   "cell_type": "markdown",
   "id": "198f55ad-2ac2-49bc-ba82-bf63f38d3348",
   "metadata": {},
   "source": [
    "### Question 3.3: Based on the above violin plot, which model is the best one? Why?"
   ]
  },
  {
   "cell_type": "markdown",
   "id": "b9d1af04-db40-447d-b0a9-62aa10867a10",
   "metadata": {},
   "source": [
    "## Dataset 4: `sdgm::C18` EEGb Eye State\n",
    "\n",
    "For more details about this dataset, see [here](https://archive.ics.uci.edu/dataset/264/eeg+eye+state). "
   ]
  },
  {
   "cell_type": "code",
   "execution_count": null,
   "id": "06482be8-1a67-4492-a376-f91bc17370d1",
   "metadata": {
    "tags": []
   },
   "outputs": [],
   "source": [
    "# show the description of this dataset\n",
    "?sdgm::C18"
   ]
  },
  {
   "cell_type": "code",
   "execution_count": null,
   "id": "81456abb-f655-46ac-b4e7-b363199f816a",
   "metadata": {
    "tags": []
   },
   "outputs": [],
   "source": [
    "# first glance of the dataset\n",
    "# Considering the sample size, we will sample 10% of it for this assignment.\n",
    "full_data <- sdgm::C18 %>% slice_sample(prop=0.1)\n",
    "head(full_data)\n",
    "dim(full_data)"
   ]
  },
  {
   "cell_type": "code",
   "execution_count": null,
   "id": "55ec5aff-035b-4b05-a2bf-46f12da110fa",
   "metadata": {
    "tags": []
   },
   "outputs": [],
   "source": [
    "# Convert characters to numbers. Note because of the special format in the data, `as.numeric` doesn't work here.\n",
    "# The code below is to extract numbers from strings\n",
    "full_data$eyeDetection <- as.numeric(gsub(\"\\\\D\", \"\", full_data$eyeDetection))"
   ]
  },
  {
   "cell_type": "code",
   "execution_count": null,
   "id": "1f12d175-5486-4fa6-a14a-a5f949303d98",
   "metadata": {
    "tags": []
   },
   "outputs": [],
   "source": [
    "# Check the data now\n",
    "summary(full_data)\n",
    "\n",
    "# Check the outcome variable\n",
    "table(full_data$eyeDetection)"
   ]
  },
  {
   "cell_type": "markdown",
   "id": "c51fd599-61af-4462-a59b-3453dccbdfce",
   "metadata": {
    "tags": []
   },
   "source": [
    "### Question 4.1: Based on what you have learnt about the dataset, is there anything should be done to prepare the data?\n",
    "\n",
    "**Hint 1:** Are all the variables in the correct variable type?\n",
    "\n",
    "**Hint 2 (Important!):** As per some models' requirement, the outcome variable has to be a numeric variable between 0 and 1.\n",
    "\n",
    "***Note:*** Some datasets need a bit of data preparation and some don't. If you think this one needs to be prepared, choose \"yes\" and add your code in the below cell. Otherwise, choose \"no\" and leave the below cell unchanged.\n",
    "\n",
    "Your answer: no"
   ]
  },
  {
   "cell_type": "code",
   "execution_count": null,
   "id": "e673af67-c430-468d-818a-88c4ce6e6456",
   "metadata": {
    "tags": []
   },
   "outputs": [],
   "source": [
    "# The data preparation step if needed\n",
    "\n",
    "# Check the data now\n",
    "summary(full_data)"
   ]
  },
  {
   "cell_type": "markdown",
   "id": "a05f66de-e725-4f59-b001-386faf66c4e1",
   "metadata": {},
   "source": [
    "### Question 4.2: Build five different models and evaluate them"
   ]
  },
  {
   "cell_type": "code",
   "execution_count": null,
   "id": "54e7164a-bd3e-46e9-b3d2-72ac5f716462",
   "metadata": {},
   "outputs": [],
   "source": [
    "# define the outcome variable\n",
    "voutcome <- \"eyeDetection\""
   ]
  },
  {
   "cell_type": "markdown",
   "id": "d4ed7bc6-7454-4105-adc7-949820e8077a",
   "metadata": {},
   "source": [
    "Based on what you have done for Dataset 1, complete the below cells of this dataset. Remember to use parallel computing."
   ]
  },
  {
   "cell_type": "code",
   "execution_count": null,
   "id": "80dc6b0b-2ec1-4192-8cac-18732ab71a73",
   "metadata": {},
   "outputs": [],
   "source": [
    "# ============= 15 repeated train/test split ============= \n",
    "for (model in model_vec) {\n",
    "    \n",
    "    # parallel computing\n",
    "    cl<-parallel::makeCluster(5)\n",
    "    parallel::clusterExport(cl, c(\"full_data\", \"voutcome\", \"model\"), envir = environment() )\n",
    "    \n",
    "    res <- parallel::parSapply(cl, 1:15, function(x)\n",
    "    {\n",
    "        # partition data into train and test portions\n",
    "        idx <- splitTools::partition(rep(0,nrow(full_data)), p=c(train=0.7, test=0.3), type=\"stratified\")\n",
    "        \n",
    "        # retrieve train and test data\n",
    "        train_data <- full_data[idx$train,]\n",
    "        test_data <- full_data[idx$test,]\n",
    "        \n",
    "        # build the model\n",
    "        if (model == \"lr\") {\n",
    "            best_model<-sdgm::lr.bestmodel.bin(train_data, voutcome)\n",
    "        } else if (model == \"cart\") {\n",
    "            best_model<-sdgm::cart.bestmodel.bin(train_data, voutcome)\n",
    "        } else if (model == \"rf\") {\n",
    "            best_model<-sdgm::cart.bestmodel.bin(train_data, voutcome)\n",
    "        } else if (model == \"lgbm\") {\n",
    "            best_model<-sdgm::cart.bestmodel.bin(train_data, voutcome)\n",
    "        } else if (model == \"svm\") {\n",
    "            best_model<-sdgm::cart.bestmodel.bin(train_data, voutcome)\n",
    "        }\n",
    "        \n",
    "        # predict\n",
    "        preds<-predict(best_model, test_data)\n",
    "  \n",
    "        # calculate and return AUC and brier score\n",
    "         if (!is.null(preds))\n",
    "        {\n",
    "          test_auc <- sdgm::auc(preds, test_data[,voutcome] ) \n",
    "        } else {\n",
    "          test_auc <- NA\n",
    "          print(\"AUC calculation failed because there are no predicted values\")\n",
    "        }\n",
    "        print(paste0(\"AUC on C18 Data: \", test_auc))\n",
    "        \n",
    "         if (!is.null(preds))\n",
    "        {\n",
    "          test_brier <- sdgm::brier(preds, test_data[,voutcome] ) \n",
    "        } else {\n",
    "          test_brier <- NA\n",
    "          print(\"Brier calculation failed because there are no predicted values\")\n",
    "        }\n",
    "          print(paste0(\"Brier Score on C18 Data: \", test_brier))\n",
    "\n",
    "        c(test_auc, test_brier)\n",
    "    })\n",
    "    parallel::stopCluster(cl)\n",
    "    \n",
    "    # save results of the model\n",
    "    if (model == \"lr\") {\n",
    "        auc_split$lr <- res[1,]\n",
    "        brier_split$lr <- res[2,]\n",
    "    } else if (model == \"cart\") {\n",
    "        auc_split$cart <- res[1,]\n",
    "        brier_split$cart <- res[2,]\n",
    "    } else if (model == \"rf\") {\n",
    "        auc_split$rf <- res[1,]\n",
    "        brier_split$rf <- res[2,]\n",
    "    } else if (model == \"lgbm\") {\n",
    "        auc_split$lgbm <- res[1,]\n",
    "        brier_split$lgbm <- res[2,]\n",
    "    } else if (model == \"svm\") {\n",
    "        auc_split$svm <- res[1,]\n",
    "        brier_split$svm <- res[2,]\n",
    "    }\n",
    "}\n",
    "\n",
    "# save results\n",
    "res.split.df4 <- rbind(auc_split, brier_split)\n",
    "\n",
    "# print results\n",
    "print(res.split.df4)  "
   ]
  },
  {
   "cell_type": "code",
   "execution_count": null,
   "id": "1fa2d5cb-4e58-4f71-b5d3-f9edddf0e473",
   "metadata": {
    "tags": []
   },
   "outputs": [],
   "source": [
    "# ============= repeated nested 5-fold CV ============= \n",
    "for (model in model_vec) {\n",
    "    # parallel computing\n",
    "    cl <- parallel::makeCluster(5)\n",
    "    parallel::clusterExport(cl, c(\"full_data\", \"voutcome\", \"model\"), envir = environment())\n",
    "    \n",
    "    # this is the repeated loop\n",
    "    res <- parallel::parSapply(cl, seq(15), function(i) \n",
    "    {\n",
    "        # this is the nested CV outer loop\n",
    "        nested_res <- sapply(caret::createFolds(full_data[, voutcome], k=5), function(x) \n",
    "        {\n",
    "            testInds <- x\n",
    "            trnInds <- setdiff(1:nrow(full_data), testInds)\n",
    "            train_data <- full_data[trnInds,]\n",
    "            test_data <- full_data[testInds,]\n",
    "\n",
    "            if (model == \"lr\") {\n",
    "                best_model <- sdgm::lr.bestmodel.bin(train_data, voutcome)\n",
    "            } else if (model == \"cart\") {\n",
    "                best_model <- sdgm::cart.bestmodel.bin(train_data, voutcome)\n",
    "            } else if (model == \"rf\") {\n",
    "                best_model <- sdgm::rf.bestmodel.bin(train_data, voutcome)\n",
    "            } else if (model == \"lgbm\") {\n",
    "                best_model <- sdgm::lgbm.bestmodel.bin(train_data, voutcome)\n",
    "            } else if (model == \"svm\") {\n",
    "                best_model <- sdgm::svm.bestmodel.bin(train_data, voutcome)\n",
    "            }\n",
    "            \n",
    "            #predict\n",
    "            preds <- predict(best_model, test_data)\n",
    "            \n",
    "            # calculate and return AUC and brier score\n",
    "             if (!is.null(preds)) {\n",
    "                nested_auc <- sdgm::auc(preds, test_data[, voutcome])\n",
    "                nested_brier <- sdgm::brier(preds, test_data[, voutcome])\n",
    "            } else {\n",
    "                nested_auc <- NA\n",
    "                nested_brier <- NA\n",
    "            }\n",
    "\n",
    "            c(nested_auc, nested_brier)\n",
    "        })\n",
    "        nested_cv_auc <- mean(nested_res[1,], na.rm=T)\n",
    "        nested_cv_brier <- mean(nested_res[2,], na.rm=T)\n",
    "                               \n",
    "        c(nested_cv_auc, nested_cv_brier)\n",
    "    })\n",
    "    parallel::stopCluster(cl)\n",
    "    \n",
    "    # save results of the model\n",
    "    if (model == \"lr\") {\n",
    "        auc_cv$lr <- res[1,]\n",
    "        brier_cv$lr <- res[2,]\n",
    "    } else if (model == \"cart\") {\n",
    "        auc_cv$cart <- res[1,]\n",
    "        brier_cv$cart <- res[2,]\n",
    "    } else if (model == \"rf\") {\n",
    "        auc_cv$rf <- res[1,]\n",
    "        brier_cv$rf <- res[2,]\n",
    "    } else if (model == \"lgbm\") {\n",
    "        auc_cv$lgbm <- res[1,]\n",
    "        brier_cv$lgbm <- res[2,]\n",
    "    } else if (model == \"svm\") {\n",
    "        auc_cv$svm <- res[1,]\n",
    "        brier_cv$svm <- res[2,]\n",
    "    }\n",
    "}\n",
    "\n",
    "# save results\n",
    "res.cv.df4 <- rbind(auc_cv, brier_cv)\n",
    "\n",
    "print(res.cv.df4)"
   ]
  },
  {
   "cell_type": "code",
   "execution_count": null,
   "id": "f57c3c6a-ab76-47e4-b852-c7019e766dda",
   "metadata": {
    "tags": []
   },
   "outputs": [],
   "source": [
    "auc.df4 <- rbind(res.split.df4 %>% filter(metric == \"auc\"), \n",
    "                 res.cv.df4 %>% filter(metric == \"auc\"))\n",
    "\n",
    "# pivot the dataframe from wide to long for plotting\n",
    "auc.df4.long <- auc.df4 %>% \n",
    "    tidyr::pivot_longer(-c(type, metric), \n",
    "                        names_to = \"model\",\n",
    "                        values_to = \"auc\")\n",
    "auc.df4.long$model <- factor(auc.df4.long$model, \n",
    "                         levels = c(\"lr\", \"cart\", \"rf\", \"lgbm\", \"svm\"))\n",
    "auc.df4.long$type <- factor(auc.df4.long$type, \n",
    "                         levels = c(\"train/test split\", \"nested cv\"))\n",
    "\n",
    "# Plot the violin plot\n",
    "ggplot(auc.df4.long, aes(model, auc, fill = model)) + \n",
    "    geom_violin(alpha = 0.5, draw_quantiles = c(0.25, 0.5, 0.75))+ \n",
    "    facet_wrap(~type)"
   ]
  },
  {
   "cell_type": "code",
   "execution_count": null,
   "id": "ccd92b48-c336-4f55-86f0-80f55c88931e",
   "metadata": {},
   "outputs": [],
   "source": [
    "brier.df4 <- rbind(res.split.df4 %>% filter(metric == \"brier\"), \n",
    "                   res.cv.df4 %>% filter(metric == \"brier\"))\n",
    "\n",
    "# pivot the dataframe from wide to long for plotting\n",
    "brier.df4.long <- brier.df4 %>% \n",
    "    tidyr::pivot_longer(-c(type,metric), \n",
    "                        names_to = \"model\",\n",
    "                        values_to = \"brier\")\n",
    "brier.df4.long$model <- factor(brier.df4.long$model, \n",
    "                         levels = c(\"lr\", \"cart\", \"rf\", \"lgbm\", \"svm\"))\n",
    "brier.df4.long$type <- factor(brier.df4.long$type, \n",
    "                         levels = c(\"train/test split\", \"nested cv\"))\n",
    "\n",
    "# Plot the violin plot\n",
    "ggplot(brier.df4.long, aes(model, brier, fill = model)) + \n",
    "    geom_violin(alpha = 0.5, draw_quantiles = c(0.25, 0.5, 0.75))+ \n",
    "    facet_wrap(~type)"
   ]
  },
  {
   "cell_type": "markdown",
   "id": "45014114-a1ce-4867-8baa-1d6fb5f4e083",
   "metadata": {},
   "source": [
    "### Question 4.3: Based on the above violin plot, which model is the best one? Why?"
   ]
  },
  {
   "cell_type": "markdown",
   "id": "44ce61f4-735c-4eed-8bf5-8a7133faa564",
   "metadata": {},
   "source": [
    "## Dataset 5: `sdgm::C23` Stroke\n",
    "\n",
    "For more details about this dataset, see [here](https://www.kaggle.com/datasets/fedesoriano/stroke-prediction-dataset/data)"
   ]
  },
  {
   "cell_type": "code",
   "execution_count": 8,
   "id": "a6f9c03f-8f4e-45ae-bb66-0786e361724f",
   "metadata": {
    "tags": []
   },
   "outputs": [
    {
     "data": {
      "text/html": [
       "\n",
       "<table style=\"width: 100%;\"><tr><td>C23 {sdgm}</td><td style=\"text-align: right;\">R Documentation</td></tr></table>\n",
       "\n",
       "<h2 id='C23'>Stroke</h2>\n",
       "\n",
       "<h3>Description</h3>\n",
       "\n",
       "<p>Health care database to predict stroke.\n",
       "Target variable: stroke, 2 levels\n",
       "Classification type: binomial logistic regression\n",
       "</p>\n",
       "\n",
       "\n",
       "<h3>Usage</h3>\n",
       "\n",
       "<pre><code class='language-R'>C23\n",
       "</code></pre>\n",
       "\n",
       "\n",
       "<h3>Format</h3>\n",
       "\n",
       "<p>An object of class <code>data.frame</code> with 29072 rows and 11 columns.\n",
       "</p>\n",
       "\n",
       "\n",
       "<h3>Source</h3>\n",
       "\n",
       "<p><a href=\"https://jmir.org/api/download?alt_name=medinform_v10i4e35734_app1.pdf&amp;filename=04ce0b2aec244210e4503631ee243fd0.pdf\">JMIR Article</a>\n",
       "</p>\n",
       "\n",
       "\n",
       "<h3>Examples</h3>\n",
       "\n",
       "<pre><code class='language-R'>data = sdgd::C23\n",
       "data$stroke = as.factor(data$stroke)\n",
       "glm(stroke~., data = data, family = 'binomial')\n",
       "\n",
       "</code></pre>\n",
       "\n",
       "<hr /><div style=\"text-align: center;\">[Package <em>sdgm</em> version 0.39 ]</div>\n",
       "</div>"
      ],
      "text/latex": [
       "\\inputencoding{utf8}\n",
       "\\HeaderA{C23}{Stroke}{C23}\n",
       "\\keyword{datasets}{C23}\n",
       "%\n",
       "\\begin{Description}\n",
       "Health care database to predict stroke.\n",
       "Target variable: stroke, 2 levels\n",
       "Classification type: binomial logistic regression\n",
       "\\end{Description}\n",
       "%\n",
       "\\begin{Usage}\n",
       "\\begin{verbatim}\n",
       "C23\n",
       "\\end{verbatim}\n",
       "\\end{Usage}\n",
       "%\n",
       "\\begin{Format}\n",
       "An object of class \\code{data.frame} with 29072 rows and 11 columns.\n",
       "\\end{Format}\n",
       "%\n",
       "\\begin{Source}\n",
       "\\Rhref{https://jmir.org/api/download?alt_name=medinform_v10i4e35734_app1.pdf\\&filename=04ce0b2aec244210e4503631ee243fd0.pdf}{JMIR Article}\n",
       "\\end{Source}\n",
       "%\n",
       "\\begin{Examples}\n",
       "\\begin{ExampleCode}\n",
       "data = sdgd::C23\n",
       "data$stroke = as.factor(data$stroke)\n",
       "glm(stroke~., data = data, family = 'binomial')\n",
       "\n",
       "\\end{ExampleCode}\n",
       "\\end{Examples}"
      ],
      "text/plain": [
       "C23                    package:sdgm                    R Documentation\n",
       "\n",
       "_\bS_\bt_\br_\bo_\bk_\be\n",
       "\n",
       "_\bD_\be_\bs_\bc_\br_\bi_\bp_\bt_\bi_\bo_\bn:\n",
       "\n",
       "     Health care database to predict stroke. Target variable: stroke, 2\n",
       "     levels Classification type: binomial logistic regression\n",
       "\n",
       "_\bU_\bs_\ba_\bg_\be:\n",
       "\n",
       "     C23\n",
       "     \n",
       "_\bF_\bo_\br_\bm_\ba_\bt:\n",
       "\n",
       "     An object of class ‘data.frame’ with 29072 rows and 11 columns.\n",
       "\n",
       "_\bS_\bo_\bu_\br_\bc_\be:\n",
       "\n",
       "     JMIR Article\n",
       "\n",
       "_\bE_\bx_\ba_\bm_\bp_\bl_\be_\bs:\n",
       "\n",
       "     data = sdgd::C23\n",
       "     data$stroke = as.factor(data$stroke)\n",
       "     glm(stroke~., data = data, family = 'binomial')\n",
       "     "
      ]
     },
     "metadata": {},
     "output_type": "display_data"
    }
   ],
   "source": [
    "# show the description of this dataset\n",
    "?sdgm::C23"
   ]
  },
  {
   "cell_type": "code",
   "execution_count": 9,
   "id": "53903f79-47da-41a4-9131-4337af8e7084",
   "metadata": {
    "tags": []
   },
   "outputs": [
    {
     "data": {
      "text/html": [
       "<table class=\"dataframe\">\n",
       "<caption>A data.frame: 6 × 11</caption>\n",
       "<thead>\n",
       "\t<tr><th></th><th scope=col>gender</th><th scope=col>age</th><th scope=col>hypertension</th><th scope=col>heart_disease</th><th scope=col>ever_married</th><th scope=col>work_type</th><th scope=col>Residence_type</th><th scope=col>avg_glucose_level</th><th scope=col>bmi</th><th scope=col>smoking_status</th><th scope=col>stroke</th></tr>\n",
       "\t<tr><th></th><th scope=col>&lt;fct&gt;</th><th scope=col>&lt;int&gt;</th><th scope=col>&lt;chr&gt;</th><th scope=col>&lt;chr&gt;</th><th scope=col>&lt;fct&gt;</th><th scope=col>&lt;fct&gt;</th><th scope=col>&lt;fct&gt;</th><th scope=col>&lt;dbl&gt;</th><th scope=col>&lt;dbl&gt;</th><th scope=col>&lt;fct&gt;</th><th scope=col>&lt;chr&gt;</th></tr>\n",
       "</thead>\n",
       "<tbody>\n",
       "\t<tr><th scope=row>1</th><td>Female</td><td>40</td><td>'0'</td><td>'0'</td><td>Yes</td><td>Self-employed</td><td>Rural</td><td>126.99</td><td>43.9</td><td>formerly smoked</td><td>'0'</td></tr>\n",
       "\t<tr><th scope=row>2</th><td>Female</td><td>55</td><td>'0'</td><td>'0'</td><td>Yes</td><td>Private      </td><td>Urban</td><td> 72.58</td><td>33.7</td><td>formerly smoked</td><td>'0'</td></tr>\n",
       "\t<tr><th scope=row>3</th><td>Male  </td><td>45</td><td>'0'</td><td>'0'</td><td>No </td><td>Self-employed</td><td>Urban</td><td> 94.48</td><td>38.0</td><td>never smoked   </td><td>'0'</td></tr>\n",
       "\t<tr><th scope=row>4</th><td>Male  </td><td>13</td><td>'0'</td><td>'0'</td><td>No </td><td>children     </td><td>Urban</td><td> 97.59</td><td>27.7</td><td>never smoked   </td><td>'0'</td></tr>\n",
       "\t<tr><th scope=row>5</th><td>Male  </td><td>48</td><td>'0'</td><td>'0'</td><td>Yes</td><td>Private      </td><td>Rural</td><td> 98.24</td><td>34.6</td><td>never smoked   </td><td>'0'</td></tr>\n",
       "\t<tr><th scope=row>6</th><td>Female</td><td>53</td><td>'0'</td><td>'0'</td><td>Yes</td><td>Govt_job     </td><td>Urban</td><td> 91.57</td><td>35.8</td><td>never smoked   </td><td>'0'</td></tr>\n",
       "</tbody>\n",
       "</table>\n"
      ],
      "text/latex": [
       "A data.frame: 6 × 11\n",
       "\\begin{tabular}{r|lllllllllll}\n",
       "  & gender & age & hypertension & heart\\_disease & ever\\_married & work\\_type & Residence\\_type & avg\\_glucose\\_level & bmi & smoking\\_status & stroke\\\\\n",
       "  & <fct> & <int> & <chr> & <chr> & <fct> & <fct> & <fct> & <dbl> & <dbl> & <fct> & <chr>\\\\\n",
       "\\hline\n",
       "\t1 & Female & 40 & '0' & '0' & Yes & Self-employed & Rural & 126.99 & 43.9 & formerly smoked & '0'\\\\\n",
       "\t2 & Female & 55 & '0' & '0' & Yes & Private       & Urban &  72.58 & 33.7 & formerly smoked & '0'\\\\\n",
       "\t3 & Male   & 45 & '0' & '0' & No  & Self-employed & Urban &  94.48 & 38.0 & never smoked    & '0'\\\\\n",
       "\t4 & Male   & 13 & '0' & '0' & No  & children      & Urban &  97.59 & 27.7 & never smoked    & '0'\\\\\n",
       "\t5 & Male   & 48 & '0' & '0' & Yes & Private       & Rural &  98.24 & 34.6 & never smoked    & '0'\\\\\n",
       "\t6 & Female & 53 & '0' & '0' & Yes & Govt\\_job      & Urban &  91.57 & 35.8 & never smoked    & '0'\\\\\n",
       "\\end{tabular}\n"
      ],
      "text/markdown": [
       "\n",
       "A data.frame: 6 × 11\n",
       "\n",
       "| <!--/--> | gender &lt;fct&gt; | age &lt;int&gt; | hypertension &lt;chr&gt; | heart_disease &lt;chr&gt; | ever_married &lt;fct&gt; | work_type &lt;fct&gt; | Residence_type &lt;fct&gt; | avg_glucose_level &lt;dbl&gt; | bmi &lt;dbl&gt; | smoking_status &lt;fct&gt; | stroke &lt;chr&gt; |\n",
       "|---|---|---|---|---|---|---|---|---|---|---|---|\n",
       "| 1 | Female | 40 | '0' | '0' | Yes | Self-employed | Rural | 126.99 | 43.9 | formerly smoked | '0' |\n",
       "| 2 | Female | 55 | '0' | '0' | Yes | Private       | Urban |  72.58 | 33.7 | formerly smoked | '0' |\n",
       "| 3 | Male   | 45 | '0' | '0' | No  | Self-employed | Urban |  94.48 | 38.0 | never smoked    | '0' |\n",
       "| 4 | Male   | 13 | '0' | '0' | No  | children      | Urban |  97.59 | 27.7 | never smoked    | '0' |\n",
       "| 5 | Male   | 48 | '0' | '0' | Yes | Private       | Rural |  98.24 | 34.6 | never smoked    | '0' |\n",
       "| 6 | Female | 53 | '0' | '0' | Yes | Govt_job      | Urban |  91.57 | 35.8 | never smoked    | '0' |\n",
       "\n"
      ],
      "text/plain": [
       "  gender age hypertension heart_disease ever_married work_type    \n",
       "1 Female 40  '0'          '0'           Yes          Self-employed\n",
       "2 Female 55  '0'          '0'           Yes          Private      \n",
       "3 Male   45  '0'          '0'           No           Self-employed\n",
       "4 Male   13  '0'          '0'           No           children     \n",
       "5 Male   48  '0'          '0'           Yes          Private      \n",
       "6 Female 53  '0'          '0'           Yes          Govt_job     \n",
       "  Residence_type avg_glucose_level bmi  smoking_status  stroke\n",
       "1 Rural          126.99            43.9 formerly smoked '0'   \n",
       "2 Urban           72.58            33.7 formerly smoked '0'   \n",
       "3 Urban           94.48            38.0 never smoked    '0'   \n",
       "4 Urban           97.59            27.7 never smoked    '0'   \n",
       "5 Rural           98.24            34.6 never smoked    '0'   \n",
       "6 Urban           91.57            35.8 never smoked    '0'   "
      ]
     },
     "metadata": {},
     "output_type": "display_data"
    },
    {
     "data": {
      "text/html": [
       "<style>\n",
       ".list-inline {list-style: none; margin:0; padding: 0}\n",
       ".list-inline>li {display: inline-block}\n",
       ".list-inline>li:not(:last-child)::after {content: \"\\00b7\"; padding: 0 .5ex}\n",
       "</style>\n",
       "<ol class=list-inline><li>2907</li><li>11</li></ol>\n"
      ],
      "text/latex": [
       "\\begin{enumerate*}\n",
       "\\item 2907\n",
       "\\item 11\n",
       "\\end{enumerate*}\n"
      ],
      "text/markdown": [
       "1. 2907\n",
       "2. 11\n",
       "\n",
       "\n"
      ],
      "text/plain": [
       "[1] 2907   11"
      ]
     },
     "metadata": {},
     "output_type": "display_data"
    }
   ],
   "source": [
    "# first glance of the dataset\n",
    "# Considering the sample size, we will sample 10% of it for this assignment.\n",
    "full_data <- sdgm::C23 %>% slice_sample(prop=0.1)\n",
    "head(full_data)\n",
    "dim(full_data)"
   ]
  },
  {
   "cell_type": "code",
   "execution_count": 10,
   "id": "33037e68-5a3a-4bc0-bee3-11bc3badd766",
   "metadata": {
    "tags": []
   },
   "outputs": [],
   "source": [
    "# Convert characters to numbers. Note because of the special format in the data, `as.numeric` doesn't work here.\n",
    "# The code below is to extract numbers from strings\n",
    "full_data$hypertension <- as.numeric(gsub(\"\\\\D\", \"\", full_data$hypertension))\n",
    "full_data$heart_disease <- as.numeric(gsub(\"\\\\D\", \"\", full_data$heart_disease))\n",
    "full_data$stroke <- as.numeric(gsub(\"\\\\D\", \"\", full_data$stroke))"
   ]
  },
  {
   "cell_type": "code",
   "execution_count": 11,
   "id": "2b48d68f-77cd-403a-9c89-ef988b103bc4",
   "metadata": {
    "tags": []
   },
   "outputs": [
    {
     "data": {
      "text/plain": [
       "    gender          age         hypertension    heart_disease     ever_married\n",
       " Female:1783   Min.   :10.00   Min.   :0.0000   Min.   :0.00000   No : 700    \n",
       " Male  :1123   1st Qu.:33.00   1st Qu.:0.0000   1st Qu.:0.00000   Yes:2207    \n",
       " Other :   1   Median :48.00   Median :0.0000   Median :0.00000               \n",
       "               Mean   :47.76   Mean   :0.1121   Mean   :0.05435               \n",
       "               3rd Qu.:62.00   3rd Qu.:0.0000   3rd Qu.:0.00000               \n",
       "               Max.   :82.00   Max.   :1.0000   Max.   :1.00000               \n",
       "         work_type    Residence_type avg_glucose_level      bmi       \n",
       " children     :  55   Rural:1490     Min.   : 55.08    Min.   :14.10  \n",
       " Govt_job     : 417   Urban:1417     1st Qu.: 78.72    1st Qu.:25.00  \n",
       " Never_worked :   9                  Median : 93.74    Median :29.00  \n",
       " Private      :1916                  Mean   :108.25    Mean   :29.96  \n",
       " Self-employed: 510                  3rd Qu.:116.61    3rd Qu.:33.80  \n",
       "                                     Max.   :291.05    Max.   :64.20  \n",
       "         smoking_status     stroke       \n",
       " formerly smoked: 680   Min.   :0.00000  \n",
       " never smoked   :1568   1st Qu.:0.00000  \n",
       " smokes         : 659   Median :0.00000  \n",
       "                        Mean   :0.02133  \n",
       "                        3rd Qu.:0.00000  \n",
       "                        Max.   :1.00000  "
      ]
     },
     "metadata": {},
     "output_type": "display_data"
    },
    {
     "data": {
      "text/plain": [
       "\n",
       "   0    1 \n",
       "2845   62 "
      ]
     },
     "metadata": {},
     "output_type": "display_data"
    },
    {
     "name": "stdout",
     "output_type": "stream",
     "text": [
      "'data.frame':\t2907 obs. of  11 variables:\n",
      " $ gender           : Factor w/ 3 levels \"Female\",\"Male\",..: 1 1 2 2 2 1 1 1 1 1 ...\n",
      " $ age              : int  40 55 45 13 48 53 34 48 16 78 ...\n",
      " $ hypertension     : num  0 0 0 0 0 0 0 0 0 0 ...\n",
      " $ heart_disease    : num  0 0 0 0 0 0 0 0 0 1 ...\n",
      " $ ever_married     : Factor w/ 2 levels \"No\",\"Yes\": 2 2 1 1 2 2 2 2 1 2 ...\n",
      " $ work_type        : Factor w/ 5 levels \"children\",\"Govt_job\",..: 5 4 5 1 4 2 4 2 4 5 ...\n",
      " $ Residence_type   : Factor w/ 2 levels \"Rural\",\"Urban\": 1 2 2 2 1 2 2 1 1 2 ...\n",
      " $ avg_glucose_level: num  127 72.6 94.5 97.6 98.2 ...\n",
      " $ bmi              : num  43.9 33.7 38 27.7 34.6 35.8 30.7 18.9 42.2 38.3 ...\n",
      " $ smoking_status   : Factor w/ 3 levels \"formerly smoked\",..: 1 1 2 2 2 2 3 2 2 2 ...\n",
      " $ stroke           : num  0 0 0 0 0 0 0 0 0 0 ...\n"
     ]
    }
   ],
   "source": [
    "# Check the data now\n",
    "summary(full_data)\n",
    "\n",
    "# Check the outcome variable\n",
    "table(full_data$stroke)\n",
    "str(full_data)"
   ]
  },
  {
   "cell_type": "markdown",
   "id": "b349d020-4646-4495-97c5-dc1a3db2bd78",
   "metadata": {
    "tags": []
   },
   "source": [
    "### Question 5.1: Based on what you have learnt about the dataset, is there anything should be done to prepare the data?\n",
    "\n",
    "**Hint 1:** Are all the variables in the correct variable type?\n",
    "\n",
    "**Hint 2 (Important!):** As per some models' requirement, the outcome variable has to be a numeric variable between 0 and 1.\n",
    "\n",
    "***Note:*** Some datasets need a bit of data preparation and some don't. If you think this one needs to be prepared, choose \"yes\" and add your code in the below cell. Otherwise, choose \"no\" and leave the below cell unchanged.\n",
    "\n",
    "Your answer: no (ignore my one-hot encode code)"
   ]
  },
  {
   "cell_type": "code",
   "execution_count": 12,
   "id": "03b65544-4082-47fe-9c2f-8aea71cd3eb3",
   "metadata": {
    "tags": []
   },
   "outputs": [
    {
     "data": {
      "text/plain": [
       "    gender          age         hypertension    heart_disease     ever_married\n",
       " Female:1783   Min.   :10.00   Min.   :0.0000   Min.   :0.00000   No : 700    \n",
       " Male  :1123   1st Qu.:33.00   1st Qu.:0.0000   1st Qu.:0.00000   Yes:2207    \n",
       " Other :   1   Median :48.00   Median :0.0000   Median :0.00000               \n",
       "               Mean   :47.76   Mean   :0.1121   Mean   :0.05435               \n",
       "               3rd Qu.:62.00   3rd Qu.:0.0000   3rd Qu.:0.00000               \n",
       "               Max.   :82.00   Max.   :1.0000   Max.   :1.00000               \n",
       "         work_type    Residence_type avg_glucose_level      bmi       \n",
       " children     :  55   Rural:1490     Min.   : 55.08    Min.   :14.10  \n",
       " Govt_job     : 417   Urban:1417     1st Qu.: 78.72    1st Qu.:25.00  \n",
       " Never_worked :   9                  Median : 93.74    Median :29.00  \n",
       " Private      :1916                  Mean   :108.25    Mean   :29.96  \n",
       " Self-employed: 510                  3rd Qu.:116.61    3rd Qu.:33.80  \n",
       "                                     Max.   :291.05    Max.   :64.20  \n",
       "         smoking_status     stroke       \n",
       " formerly smoked: 680   Min.   :0.00000  \n",
       " never smoked   :1568   1st Qu.:0.00000  \n",
       " smokes         : 659   Median :0.00000  \n",
       "                        Mean   :0.02133  \n",
       "                        3rd Qu.:0.00000  \n",
       "                        Max.   :1.00000  "
      ]
     },
     "metadata": {},
     "output_type": "display_data"
    },
    {
     "name": "stdout",
     "output_type": "stream",
     "text": [
      "'data.frame':\t2907 obs. of  11 variables:\n",
      " $ gender           : Factor w/ 3 levels \"Female\",\"Male\",..: 1 1 2 2 2 1 1 1 1 1 ...\n",
      " $ age              : int  40 55 45 13 48 53 34 48 16 78 ...\n",
      " $ hypertension     : num  0 0 0 0 0 0 0 0 0 0 ...\n",
      " $ heart_disease    : num  0 0 0 0 0 0 0 0 0 1 ...\n",
      " $ ever_married     : Factor w/ 2 levels \"No\",\"Yes\": 2 2 1 1 2 2 2 2 1 2 ...\n",
      " $ work_type        : Factor w/ 5 levels \"children\",\"Govt_job\",..: 5 4 5 1 4 2 4 2 4 5 ...\n",
      " $ Residence_type   : Factor w/ 2 levels \"Rural\",\"Urban\": 1 2 2 2 1 2 2 1 1 2 ...\n",
      " $ avg_glucose_level: num  127 72.6 94.5 97.6 98.2 ...\n",
      " $ bmi              : num  43.9 33.7 38 27.7 34.6 35.8 30.7 18.9 42.2 38.3 ...\n",
      " $ smoking_status   : Factor w/ 3 levels \"formerly smoked\",..: 1 1 2 2 2 2 3 2 2 2 ...\n",
      " $ stroke           : num  0 0 0 0 0 0 0 0 0 0 ...\n"
     ]
    }
   ],
   "source": [
    "# The data preparation step if needed\n",
    "#encoded_data <- full_data\n",
    "#categorical_columns <- c(\"gender\", \"ever_married\", \"work_type\", \"Residence_type\", \"smoking_status\")\n",
    "\n",
    "#for (col in categorical_columns) {\n",
    "  #encoded_data <- cbind(encoded_data, model.matrix(~0 + as.factor(full_data[[col]])))\n",
    "  #colnames(encoded_data) <- make.names(colnames(encoded_data), unique = TRUE)\n",
    "#}\n",
    "\n",
    "# Remove the original categorical columns from encoded_data\n",
    "#encoded_data <- encoded_data[, !colnames(encoded_data) %in% categorical_columns]\n",
    "\n",
    "# Check the data now\n",
    "summary(full_data)\n",
    "str(full_data)"
   ]
  },
  {
   "cell_type": "markdown",
   "id": "253e8f72-d995-4302-861f-7b193d11f792",
   "metadata": {},
   "source": [
    "### Question 5.2: Build five different models and evaluate them"
   ]
  },
  {
   "cell_type": "code",
   "execution_count": 13,
   "id": "30d5a773-9ca2-4464-aba2-d7ca123b08fa",
   "metadata": {},
   "outputs": [],
   "source": [
    "# define the outcome variable\n",
    "voutcome <- \"stroke\""
   ]
  },
  {
   "cell_type": "markdown",
   "id": "b42ce359-be4b-464b-a617-81d7464efa42",
   "metadata": {},
   "source": [
    "Based on what you have done for Dataset 1, complete the below cells of this dataset. Remember to use parallel computing."
   ]
  },
  {
   "cell_type": "code",
   "execution_count": 14,
   "id": "fe08fef2-6d6d-44ee-9bd6-0e33063b3a55",
   "metadata": {},
   "outputs": [
    {
     "name": "stdout",
     "output_type": "stream",
     "text": [
      "               type metric          lr       cart          rf       lgbm\n",
      "1  train/test split    auc 0.857257992 0.72445458 0.768183157 0.50000000\n",
      "2  train/test split    auc 0.735422965 0.73072430 0.706570887 0.74065421\n",
      "3  train/test split    auc 0.725796426 0.74866467 0.662573099 0.74061033\n",
      "4  train/test split    auc 0.830003917 0.72582410 0.755041032 0.77080440\n",
      "5  train/test split    auc 0.793903151 0.54268293 0.672416163 0.66622318\n",
      "6  train/test split    auc 0.847079940 0.60325041 0.721894229 0.73608696\n",
      "7  train/test split    auc 0.843416602 0.65175439 0.679279015 0.66840785\n",
      "8  train/test split    auc 0.769813879 0.72702298 0.617568514 0.67752052\n",
      "9  train/test split    auc 0.816744731 0.79754715 0.671361502 0.70213488\n",
      "10 train/test split    auc 0.804401239 0.66363102 0.683222506 0.67742463\n",
      "11 train/test split    auc 0.793688363 0.73493552 0.669091967 0.71448366\n",
      "12 train/test split    auc 0.778429074 0.70049441 0.712719901 0.73761018\n",
      "13 train/test split    auc 0.806037515 0.65310668 0.704808184 0.81784038\n",
      "14 train/test split    auc 0.734424135 0.66268917 0.755301886 0.72194836\n",
      "15 train/test split    auc 0.784403199 0.67767780 0.681876376 0.73054696\n",
      "16 train/test split  brier 0.046035428 0.02753078 0.036347648 0.00000000\n",
      "17 train/test split  brier 0.042671071 0.02422364 0.020801343 0.03193759\n",
      "18 train/test split  brier 0.000000000 0.03455539 0.014048139 0.03278987\n",
      "19 train/test split  brier 0.003430737 0.03326347 0.035114735 0.03847780\n",
      "20 train/test split  brier 0.000000000 0.00000000 0.004160253 0.00000000\n",
      "21 train/test split  brier 0.052528523 0.00000000 0.005069719 0.03195539\n",
      "22 train/test split  brier 0.082978606 0.02207811 0.030787229 0.01638021\n",
      "23 train/test split  brier 0.000000000 0.01073025 0.000000000 0.02976508\n",
      "24 train/test split  brier 0.035743645 0.04265698 0.017503210 0.02231421\n",
      "25 train/test split  brier 0.015004144 0.01482932 0.023015793 0.00000000\n",
      "26 train/test split  brier 0.024897829 0.03618222 0.000000000 0.01433567\n",
      "27 train/test split  brier 0.000000000 0.02301162 0.034127866 0.01517450\n",
      "28 train/test split  brier 0.005299963 0.02261244 0.000000000 0.04784835\n",
      "29 train/test split  brier 0.028978308 0.00000000 0.009172438 0.03097994\n",
      "30 train/test split  brier 0.040668048 0.01555752 0.000000000 0.02475765\n",
      "            svm\n",
      "1  0.7479674797\n",
      "2  0.6650116822\n",
      "3  0.6885228593\n",
      "4  0.6770923210\n",
      "5  0.7486508168\n",
      "6  0.6550758460\n",
      "7  0.7211229947\n",
      "8  0.6771929825\n",
      "9  0.5621194317\n",
      "10 0.8307692308\n",
      "11 0.6300519818\n",
      "12 0.7000390320\n",
      "13 0.7988109097\n",
      "14 0.7553944475\n",
      "15 0.7795492029\n",
      "16 0.0010268076\n",
      "17 0.0134418692\n",
      "18 0.0000000000\n",
      "19 0.0159506531\n",
      "20 0.0257829483\n",
      "21 0.0147562190\n",
      "22 0.0283819844\n",
      "23 0.0083023598\n",
      "24 0.0008119349\n",
      "25 0.0398580309\n",
      "26 0.0000000000\n",
      "27 0.0000000000\n",
      "28 0.0000000000\n",
      "29 0.0297213976\n",
      "30 0.0341092064\n"
     ]
    }
   ],
   "source": [
    "# ============= 15 repeated train/test split ============= \n",
    "for (model in model_vec) {\n",
    "    \n",
    "    # parallel computing\n",
    "    cl<-parallel::makeCluster(5)\n",
    "    parallel::clusterExport(cl, c(\"full_data\", \"voutcome\", \"model\"), envir = environment() )\n",
    "    \n",
    "    res <- parallel::parSapply(cl, 1:15, function(x)\n",
    "    {\n",
    "        # partition data into train and test portions\n",
    "        idx <- splitTools::partition(rep(0,nrow(full_data)), p=c(train=0.7, test=0.3), type=\"stratified\")\n",
    "        \n",
    "        # retrieve train and test data\n",
    "        train_data <- full_data[idx$train,]\n",
    "        test_data <- full_data[idx$test,]\n",
    "        \n",
    "        # build the model\n",
    "        if (model == \"lr\") {\n",
    "            best_model<-sdgm::lr.bestmodel.bin(train_data, voutcome)\n",
    "        } else if (model == \"cart\") {\n",
    "            best_model<-sdgm::cart.bestmodel.bin(train_data, voutcome)\n",
    "        } else if (model == \"rf\") {\n",
    "            best_model<-sdgm::cart.bestmodel.bin(train_data, voutcome)\n",
    "        } else if (model == \"lgbm\") {\n",
    "            best_model<-sdgm::cart.bestmodel.bin(train_data, voutcome)\n",
    "        } else if (model == \"svm\") {\n",
    "            best_model<-sdgm::cart.bestmodel.bin(train_data, voutcome)\n",
    "        }\n",
    "        \n",
    "        # predict\n",
    "        preds<-predict(best_model, test_data)\n",
    "  \n",
    "        # calculate and return AUC and brier score\n",
    "         if (!is.null(preds))\n",
    "        {\n",
    "          test_auc <- sdgm::auc(preds, test_data[,voutcome] ) \n",
    "        } else {\n",
    "          test_auc <- NA\n",
    "          print(\"AUC calculation failed because there are no predicted values\")\n",
    "        }\n",
    "        print(paste0(\"AUC on C23 Data: \", test_auc))\n",
    "        \n",
    "         if (!is.null(preds))\n",
    "        {\n",
    "          test_brier <- sdgm::brier(preds, test_data[,voutcome] ) \n",
    "        } else {\n",
    "          test_brier <- NA\n",
    "          print(\"Brier calculation failed because there are no predicted values\")\n",
    "        }\n",
    "          print(paste0(\"Brier Score on C23 Data: \", test_brier))\n",
    "\n",
    "        c(test_auc, test_brier)\n",
    "    })\n",
    "    parallel::stopCluster(cl)\n",
    "    \n",
    "    # save results of the model\n",
    "    if (model == \"lr\") {\n",
    "        auc_split$lr <- res[1,]\n",
    "        brier_split$lr <- res[2,]\n",
    "    } else if (model == \"cart\") {\n",
    "        auc_split$cart <- res[1,]\n",
    "        brier_split$cart <- res[2,]\n",
    "    } else if (model == \"rf\") {\n",
    "        auc_split$rf <- res[1,]\n",
    "        brier_split$rf <- res[2,]\n",
    "    } else if (model == \"lgbm\") {\n",
    "        auc_split$lgbm <- res[1,]\n",
    "        brier_split$lgbm <- res[2,]\n",
    "    } else if (model == \"svm\") {\n",
    "        auc_split$svm <- res[1,]\n",
    "        brier_split$svm <- res[2,]\n",
    "    }\n",
    "}\n",
    "\n",
    "# save results\n",
    "res.split.df5 <- rbind(auc_split, brier_split)\n",
    "\n",
    "# print results\n",
    "print(res.split.df5)  "
   ]
  },
  {
   "cell_type": "code",
   "execution_count": 15,
   "id": "152af977-1cb7-4e36-ad6f-bae2365d3a74",
   "metadata": {
    "tags": []
   },
   "outputs": [
    {
     "name": "stdout",
     "output_type": "stream",
     "text": [
      "        type metric         lr        cart         rf         lgbm          svm\n",
      "1  nested cv    auc 0.82363407 0.681581975 0.77894466 0.7985350265 5.779099e-01\n",
      "2  nested cv    auc 0.81473541 0.709665396 0.77197932 0.7775305531 5.531413e-01\n",
      "3  nested cv    auc 0.80374608 0.662632207 0.75695540 0.7947059130 5.793846e-01\n",
      "4  nested cv    auc 0.81855668 0.700467787 0.73656697 0.7718483631 6.007782e-01\n",
      "5  nested cv    auc 0.81633717 0.697222901 0.73765382 0.7550604139 5.975563e-01\n",
      "6  nested cv    auc 0.81703039 0.706194519 0.74307567 0.7222726616 5.987015e-01\n",
      "7  nested cv    auc 0.81674323 0.715430032 0.77411461 0.8159817165 6.373883e-01\n",
      "8  nested cv    auc 0.81301383 0.687172647 0.77306438 0.7985690038 5.824622e-01\n",
      "9  nested cv    auc 0.81836829 0.702878072 0.77784169 0.8124257150 5.605874e-01\n",
      "10 nested cv    auc 0.81433373 0.589418075 0.77644516 0.7623507104 5.399374e-01\n",
      "11 nested cv    auc 0.80008756 0.678828958 0.74154386 0.7773783445 6.274540e-01\n",
      "12 nested cv    auc 0.82494346 0.675360944 0.75526757 0.7878638139 6.083995e-01\n",
      "13 nested cv    auc 0.81654759 0.669084038 0.77569790 0.7670061812 6.511207e-01\n",
      "14 nested cv    auc 0.80915075 0.698808212 0.77353198 0.7959335276 6.003069e-01\n",
      "15 nested cv    auc 0.82055296 0.677053355 0.76711912 0.7449314284 5.603974e-01\n",
      "16 nested cv  brier 0.03227746 0.019719054 0.01742026 0.0113162898 7.294138e-04\n",
      "17 nested cv  brier 0.03321897 0.020680635 0.01825161 0.0078681095 0.000000e+00\n",
      "18 nested cv  brier 0.03247524 0.014957859 0.01780772 0.0133504853 0.000000e+00\n",
      "19 nested cv  brier 0.03778858 0.013958251 0.01849337 0.0072053898 7.458378e-04\n",
      "20 nested cv  brier 0.02953044 0.014378896 0.01281372 0.0158571807 3.931810e-04\n",
      "21 nested cv  brier 0.02570108 0.019626014 0.01503037 0.0058857771 0.000000e+00\n",
      "22 nested cv  brier 0.02703814 0.020079428 0.02397660 0.0107595676 2.020521e-03\n",
      "23 nested cv  brier 0.04250473 0.023409134 0.01828702 0.0101124876 9.721577e-06\n",
      "24 nested cv  brier 0.03063388 0.019839353 0.01761294 0.0107062372 3.329226e-04\n",
      "25 nested cv  brier 0.03618924 0.003636399 0.01533185 0.0107826535 0.000000e+00\n",
      "26 nested cv  brier 0.02537457 0.014769029 0.01528647 0.0111456912 2.434854e-03\n",
      "27 nested cv  brier 0.03567193 0.016123538 0.01530836 0.0086852866 2.251610e-03\n",
      "28 nested cv  brier 0.02010426 0.015334838 0.02583025 0.0153010590 4.615302e-04\n",
      "29 nested cv  brier 0.02046163 0.020731722 0.01730325 0.0157376934 9.569131e-03\n",
      "30 nested cv  brier 0.02329597 0.021422732 0.01321038 0.0008723133 2.346696e-03\n"
     ]
    }
   ],
   "source": [
    "# ============= repeated nested 5-fold CV ============= \n",
    "for (model in model_vec) {\n",
    "   \n",
    "    # parallel computing\n",
    "    cl <- parallel::makeCluster(5)\n",
    "    parallel::clusterExport(cl, c(\"full_data\", \"voutcome\", \"model\"), envir = environment())\n",
    "    \n",
    "    # this is the repeated loop\n",
    "    res <- parallel::parSapply(cl, seq(15), function(i) \n",
    "    {\n",
    "        # this is the nested CV outer loop\n",
    "        nested_res <- sapply(caret::createFolds(full_data[, voutcome], k=5), function(x) \n",
    "        {\n",
    "            testInds <- x\n",
    "            trnInds <- setdiff(1:nrow(full_data), testInds)\n",
    "            train_data <- full_data[trnInds,]\n",
    "            test_data <- full_data[testInds,]\n",
    "\n",
    "            if (model == \"lr\") {\n",
    "                best_model <- sdgm::lr.bestmodel.bin(train_data, voutcome)\n",
    "            } else if (model == \"cart\") {\n",
    "                best_model <- sdgm::cart.bestmodel.bin(train_data, voutcome)\n",
    "            } else if (model == \"rf\") {\n",
    "                best_model <- sdgm::rf.bestmodel.bin(train_data, voutcome)\n",
    "            } else if (model == \"lgbm\") {\n",
    "                best_model <- sdgm::lgbm.bestmodel.bin(train_data, voutcome)\n",
    "            } else if (model == \"svm\") {\n",
    "                best_model <- sdgm::svm.bestmodel.bin(train_data, voutcome)\n",
    "            }\n",
    "            \n",
    "            #predict\n",
    "            preds <- predict(best_model, test_data)\n",
    "            \n",
    "            # calculate and return AUC and brier score\n",
    "             if (!is.null(preds)) {\n",
    "                nested_auc <- sdgm::auc(preds, test_data[, voutcome])\n",
    "                nested_brier <- sdgm::brier(preds, test_data[, voutcome])\n",
    "            } else {\n",
    "                nested_auc <- NA\n",
    "                nested_brier <- NA\n",
    "            }\n",
    "\n",
    "            c(nested_auc, nested_brier)\n",
    "        })\n",
    "        nested_cv_auc <- mean(nested_res[1,], na.rm=T)\n",
    "        nested_cv_brier <- mean(nested_res[2,], na.rm=T)\n",
    "                               \n",
    "        c(nested_cv_auc, nested_cv_brier)\n",
    "    })\n",
    "    parallel::stopCluster(cl)\n",
    "    \n",
    "    # save results of the model\n",
    "    if (model == \"lr\") {\n",
    "        auc_cv$lr <- res[1,]\n",
    "        brier_cv$lr <- res[2,]\n",
    "    } else if (model == \"cart\") {\n",
    "        auc_cv$cart <- res[1,]\n",
    "        brier_cv$cart <- res[2,]\n",
    "    } else if (model == \"rf\") {\n",
    "        auc_cv$rf <- res[1,]\n",
    "        brier_cv$rf <- res[2,]\n",
    "    } else if (model == \"lgbm\") {\n",
    "        auc_cv$lgbm <- res[1,]\n",
    "        brier_cv$lgbm <- res[2,]\n",
    "    } else if (model == \"svm\") {\n",
    "        auc_cv$svm <- res[1,]\n",
    "        brier_cv$svm <- res[2,]\n",
    "    }\n",
    "}\n",
    "\n",
    "# save results\n",
    "res.cv.df5 <- rbind(auc_cv, brier_cv)\n",
    "\n",
    "print(res.cv.df5)"
   ]
  },
  {
   "cell_type": "code",
   "execution_count": 16,
   "id": "4ffdccec-d36b-488e-8662-576b1ab8f7c8",
   "metadata": {
    "tags": []
   },
   "outputs": [
    {
     "data": {
      "image/png": "[encoded data removed]",
      "text/plain": [
       "plot without title"
      ]
     },
     "metadata": {
      "image/png": {
       "height": 360,
       "width": 1080
      }
     },
     "output_type": "display_data"
    }
   ],
   "source": [
    "auc.df5 <- rbind(res.split.df5 %>% filter(metric == \"auc\"), \n",
    "                 res.cv.df5 %>% filter(metric == \"auc\"))\n",
    "\n",
    "# pivot the dataframe from wide to long for plotting\n",
    "auc.df5.long <- auc.df5 %>% \n",
    "    tidyr::pivot_longer(-c(type, metric), \n",
    "                        names_to = \"model\",\n",
    "                        values_to = \"auc\")\n",
    "auc.df5.long$model <- factor(auc.df5.long$model, \n",
    "                         levels = c(\"lr\", \"cart\", \"rf\", \"lgbm\", \"svm\"))\n",
    "auc.df5.long$type <- factor(auc.df5.long$type, \n",
    "                         levels = c(\"train/test split\", \"nested cv\"))\n",
    "\n",
    "# Plot the violin plot\n",
    "ggplot(auc.df5.long, aes(model, auc, fill = model)) + \n",
    "    geom_violin(alpha = 0.5, draw_quantiles = c(0.25, 0.5, 0.75))+ \n",
    "    facet_wrap(~type)"
   ]
  },
  {
   "cell_type": "code",
   "execution_count": 17,
   "id": "d294fe73-55f3-43f3-841e-09b8299a0bd3",
   "metadata": {},
   "outputs": [
    {
     "data": {
      "image/png": "[encoded data removed]",
      "text/plain": [
       "plot without title"
      ]
     },
     "metadata": {
      "image/png": {
       "height": 360,
       "width": 1080
      }
     },
     "output_type": "display_data"
    }
   ],
   "source": [
    "brier.df5 <- rbind(res.split.df5 %>% filter(metric == \"brier\"), \n",
    "                   res.cv.df5 %>% filter(metric == \"brier\"))\n",
    "\n",
    "# pivot the dataframe from wide to long for plotting\n",
    "brier.df5.long <- brier.df5 %>% \n",
    "    tidyr::pivot_longer(-c(type,metric), \n",
    "                        names_to = \"model\",\n",
    "                        values_to = \"brier\")\n",
    "brier.df5.long$model <- factor(brier.df5.long$model, \n",
    "                         levels = c(\"lr\", \"cart\", \"rf\", \"lgbm\", \"svm\"))\n",
    "brier.df5.long$type <- factor(brier.df5.long$type, \n",
    "                         levels = c(\"train/test split\", \"nested cv\"))\n",
    "\n",
    "# Plot the violin plot\n",
    "ggplot(brier.df5.long, aes(model, brier, fill = model)) + \n",
    "    geom_violin(alpha = 0.5, draw_quantiles = c(0.25, 0.5, 0.75))+ \n",
    "    facet_wrap(~type)"
   ]
  },
  {
   "cell_type": "markdown",
   "id": "ffa39849-26e9-45b8-af3a-44329e11bf8e",
   "metadata": {},
   "source": [
    "### Question 5.3: Based on the above violin plot, which model is the best one? Why?"
   ]
  },
  {
   "cell_type": "markdown",
   "id": "4f75f4c6-42be-49ae-bf40-0380ad0edcee",
   "metadata": {},
   "source": [
    "## Dataset 6: `sdgm::C27` Titanic\n",
    "\n",
    "For more details about this dataset, see [here](https://www.kaggle.com/competitions/titanic/data)"
   ]
  },
  {
   "cell_type": "code",
   "execution_count": 18,
   "id": "7cb1a55c-64cb-43c6-beef-79893d4845b0",
   "metadata": {
    "tags": []
   },
   "outputs": [
    {
     "data": {
      "text/html": [
       "\n",
       "<table style=\"width: 100%;\"><tr><td>C27 {sdgm}</td><td style=\"text-align: right;\">R Documentation</td></tr></table>\n",
       "\n",
       "<h2 id='C27'>Titanic</h2>\n",
       "\n",
       "<h3>Description</h3>\n",
       "\n",
       "<p>The train dataset on Kaggle is a subset of the passenger information on Titanic. This dataset is used to predict whether the passenger survived or not.\n",
       "Target variable: survived, 2 levels\n",
       "Classification type: binomial logistic regression\n",
       "</p>\n",
       "\n",
       "\n",
       "<h3>Usage</h3>\n",
       "\n",
       "<pre><code class='language-R'>C27\n",
       "</code></pre>\n",
       "\n",
       "\n",
       "<h3>Format</h3>\n",
       "\n",
       "<p>An object of class <code>data.frame</code> with 891 rows and 7 columns.\n",
       "</p>\n",
       "\n",
       "\n",
       "<h3>Source</h3>\n",
       "\n",
       "<p><a href=\"https://jmir.org/api/download?alt_name=medinform_v10i4e35734_app1.pdf&amp;filename=04ce0b2aec244210e4503631ee243fd0.pdf\">JMIR Article</a>\n",
       "</p>\n",
       "\n",
       "\n",
       "<h3>Examples</h3>\n",
       "\n",
       "<pre><code class='language-R'>data = sdgd::C27\n",
       "data$Survived = as.factor(data$Survived)\n",
       "glm(Survived~., data = data, family = 'binomial')\n",
       "\n",
       "</code></pre>\n",
       "\n",
       "<hr /><div style=\"text-align: center;\">[Package <em>sdgm</em> version 0.39 ]</div>\n",
       "</div>"
      ],
      "text/latex": [
       "\\inputencoding{utf8}\n",
       "\\HeaderA{C27}{Titanic}{C27}\n",
       "\\keyword{datasets}{C27}\n",
       "%\n",
       "\\begin{Description}\n",
       "The train dataset on Kaggle is a subset of the passenger information on Titanic. This dataset is used to predict whether the passenger survived or not.\n",
       "Target variable: survived, 2 levels\n",
       "Classification type: binomial logistic regression\n",
       "\\end{Description}\n",
       "%\n",
       "\\begin{Usage}\n",
       "\\begin{verbatim}\n",
       "C27\n",
       "\\end{verbatim}\n",
       "\\end{Usage}\n",
       "%\n",
       "\\begin{Format}\n",
       "An object of class \\code{data.frame} with 891 rows and 7 columns.\n",
       "\\end{Format}\n",
       "%\n",
       "\\begin{Source}\n",
       "\\Rhref{https://jmir.org/api/download?alt_name=medinform_v10i4e35734_app1.pdf\\&filename=04ce0b2aec244210e4503631ee243fd0.pdf}{JMIR Article}\n",
       "\\end{Source}\n",
       "%\n",
       "\\begin{Examples}\n",
       "\\begin{ExampleCode}\n",
       "data = sdgd::C27\n",
       "data$Survived = as.factor(data$Survived)\n",
       "glm(Survived~., data = data, family = 'binomial')\n",
       "\n",
       "\\end{ExampleCode}\n",
       "\\end{Examples}"
      ],
      "text/plain": [
       "C27                    package:sdgm                    R Documentation\n",
       "\n",
       "_\bT_\bi_\bt_\ba_\bn_\bi_\bc\n",
       "\n",
       "_\bD_\be_\bs_\bc_\br_\bi_\bp_\bt_\bi_\bo_\bn:\n",
       "\n",
       "     The train dataset on Kaggle is a subset of the passenger\n",
       "     information on Titanic. This dataset is used to predict whether\n",
       "     the passenger survived or not. Target variable: survived, 2 levels\n",
       "     Classification type: binomial logistic regression\n",
       "\n",
       "_\bU_\bs_\ba_\bg_\be:\n",
       "\n",
       "     C27\n",
       "     \n",
       "_\bF_\bo_\br_\bm_\ba_\bt:\n",
       "\n",
       "     An object of class ‘data.frame’ with 891 rows and 7 columns.\n",
       "\n",
       "_\bS_\bo_\bu_\br_\bc_\be:\n",
       "\n",
       "     JMIR Article\n",
       "\n",
       "_\bE_\bx_\ba_\bm_\bp_\bl_\be_\bs:\n",
       "\n",
       "     data = sdgd::C27\n",
       "     data$Survived = as.factor(data$Survived)\n",
       "     glm(Survived~., data = data, family = 'binomial')\n",
       "     "
      ]
     },
     "metadata": {},
     "output_type": "display_data"
    }
   ],
   "source": [
    "# show the description of this dataset\n",
    "?sdgm::C27"
   ]
  },
  {
   "cell_type": "code",
   "execution_count": 19,
   "id": "b2855fb3-b4bd-4ee0-8896-84eb2dd03264",
   "metadata": {
    "tags": []
   },
   "outputs": [
    {
     "data": {
      "text/html": [
       "<table class=\"dataframe\">\n",
       "<caption>A data.frame: 6 × 7</caption>\n",
       "<thead>\n",
       "\t<tr><th></th><th scope=col>Survived</th><th scope=col>Pclass</th><th scope=col>Sex</th><th scope=col>SibSp</th><th scope=col>Parch</th><th scope=col>Fare</th><th scope=col>Embarked</th></tr>\n",
       "\t<tr><th></th><th scope=col>&lt;chr&gt;</th><th scope=col>&lt;chr&gt;</th><th scope=col>&lt;fct&gt;</th><th scope=col>&lt;chr&gt;</th><th scope=col>&lt;chr&gt;</th><th scope=col>&lt;dbl&gt;</th><th scope=col>&lt;fct&gt;</th></tr>\n",
       "</thead>\n",
       "<tbody>\n",
       "\t<tr><th scope=row>1</th><td>'0'</td><td>'3'</td><td>male  </td><td>'1'</td><td>'0'</td><td> 7.2500</td><td>S</td></tr>\n",
       "\t<tr><th scope=row>2</th><td>'1'</td><td>'1'</td><td>female</td><td>'1'</td><td>'0'</td><td>71.2833</td><td>C</td></tr>\n",
       "\t<tr><th scope=row>3</th><td>'1'</td><td>'3'</td><td>female</td><td>'0'</td><td>'0'</td><td> 7.9250</td><td>S</td></tr>\n",
       "\t<tr><th scope=row>4</th><td>'1'</td><td>'1'</td><td>female</td><td>'1'</td><td>'0'</td><td>53.1000</td><td>S</td></tr>\n",
       "\t<tr><th scope=row>5</th><td>'0'</td><td>'3'</td><td>male  </td><td>'0'</td><td>'0'</td><td> 8.0500</td><td>S</td></tr>\n",
       "\t<tr><th scope=row>6</th><td>'0'</td><td>'3'</td><td>male  </td><td>'0'</td><td>'0'</td><td> 8.4583</td><td>Q</td></tr>\n",
       "</tbody>\n",
       "</table>\n"
      ],
      "text/latex": [
       "A data.frame: 6 × 7\n",
       "\\begin{tabular}{r|lllllll}\n",
       "  & Survived & Pclass & Sex & SibSp & Parch & Fare & Embarked\\\\\n",
       "  & <chr> & <chr> & <fct> & <chr> & <chr> & <dbl> & <fct>\\\\\n",
       "\\hline\n",
       "\t1 & '0' & '3' & male   & '1' & '0' &  7.2500 & S\\\\\n",
       "\t2 & '1' & '1' & female & '1' & '0' & 71.2833 & C\\\\\n",
       "\t3 & '1' & '3' & female & '0' & '0' &  7.9250 & S\\\\\n",
       "\t4 & '1' & '1' & female & '1' & '0' & 53.1000 & S\\\\\n",
       "\t5 & '0' & '3' & male   & '0' & '0' &  8.0500 & S\\\\\n",
       "\t6 & '0' & '3' & male   & '0' & '0' &  8.4583 & Q\\\\\n",
       "\\end{tabular}\n"
      ],
      "text/markdown": [
       "\n",
       "A data.frame: 6 × 7\n",
       "\n",
       "| <!--/--> | Survived &lt;chr&gt; | Pclass &lt;chr&gt; | Sex &lt;fct&gt; | SibSp &lt;chr&gt; | Parch &lt;chr&gt; | Fare &lt;dbl&gt; | Embarked &lt;fct&gt; |\n",
       "|---|---|---|---|---|---|---|---|\n",
       "| 1 | '0' | '3' | male   | '1' | '0' |  7.2500 | S |\n",
       "| 2 | '1' | '1' | female | '1' | '0' | 71.2833 | C |\n",
       "| 3 | '1' | '3' | female | '0' | '0' |  7.9250 | S |\n",
       "| 4 | '1' | '1' | female | '1' | '0' | 53.1000 | S |\n",
       "| 5 | '0' | '3' | male   | '0' | '0' |  8.0500 | S |\n",
       "| 6 | '0' | '3' | male   | '0' | '0' |  8.4583 | Q |\n",
       "\n"
      ],
      "text/plain": [
       "  Survived Pclass Sex    SibSp Parch Fare    Embarked\n",
       "1 '0'      '3'    male   '1'   '0'    7.2500 S       \n",
       "2 '1'      '1'    female '1'   '0'   71.2833 C       \n",
       "3 '1'      '3'    female '0'   '0'    7.9250 S       \n",
       "4 '1'      '1'    female '1'   '0'   53.1000 S       \n",
       "5 '0'      '3'    male   '0'   '0'    8.0500 S       \n",
       "6 '0'      '3'    male   '0'   '0'    8.4583 Q       "
      ]
     },
     "metadata": {},
     "output_type": "display_data"
    },
    {
     "data": {
      "text/html": [
       "<style>\n",
       ".list-inline {list-style: none; margin:0; padding: 0}\n",
       ".list-inline>li {display: inline-block}\n",
       ".list-inline>li:not(:last-child)::after {content: \"\\00b7\"; padding: 0 .5ex}\n",
       "</style>\n",
       "<ol class=list-inline><li>891</li><li>7</li></ol>\n"
      ],
      "text/latex": [
       "\\begin{enumerate*}\n",
       "\\item 891\n",
       "\\item 7\n",
       "\\end{enumerate*}\n"
      ],
      "text/markdown": [
       "1. 891\n",
       "2. 7\n",
       "\n",
       "\n"
      ],
      "text/plain": [
       "[1] 891   7"
      ]
     },
     "metadata": {},
     "output_type": "display_data"
    }
   ],
   "source": [
    "# first glance of the dataset\n",
    "full_data <- sdgm::C27\n",
    "head(full_data)\n",
    "dim(full_data)"
   ]
  },
  {
   "cell_type": "code",
   "execution_count": 20,
   "id": "86b4cdae-c6ab-4943-8b5c-afffb72f1419",
   "metadata": {
    "tags": []
   },
   "outputs": [],
   "source": [
    "# Convert characters to numbers. Note because of the special format in the data, `as.numeric` doesn't work here.\n",
    "# The code below is to extract numbers from strings\n",
    "full_data$Survived <- as.numeric(gsub(\"\\\\D\", \"\", full_data$Survived))\n",
    "full_data$Pclass <- as.numeric(gsub(\"\\\\D\", \"\", full_data$Pclass))\n",
    "full_data$SibSp <- as.numeric(gsub(\"\\\\D\", \"\", full_data$SibSp))\n",
    "full_data$Parch <- as.numeric(gsub(\"\\\\D\", \"\", full_data$Parch))"
   ]
  },
  {
   "cell_type": "code",
   "execution_count": 21,
   "id": "7963af0e-e396-47eb-919b-2e4bc9150064",
   "metadata": {
    "tags": []
   },
   "outputs": [
    {
     "data": {
      "text/plain": [
       "    Survived          Pclass          Sex          SibSp           Parch       \n",
       " Min.   :0.0000   Min.   :1.000   female:314   Min.   :0.000   Min.   :0.0000  \n",
       " 1st Qu.:0.0000   1st Qu.:2.000   male  :577   1st Qu.:0.000   1st Qu.:0.0000  \n",
       " Median :0.0000   Median :3.000                Median :0.000   Median :0.0000  \n",
       " Mean   :0.3838   Mean   :2.309                Mean   :0.523   Mean   :0.3816  \n",
       " 3rd Qu.:1.0000   3rd Qu.:3.000                3rd Qu.:1.000   3rd Qu.:0.0000  \n",
       " Max.   :1.0000   Max.   :3.000                Max.   :8.000   Max.   :6.0000  \n",
       "      Fare        Embarked\n",
       " Min.   :  0.00    :  2   \n",
       " 1st Qu.:  7.91   C:168   \n",
       " Median : 14.45   Q: 77   \n",
       " Mean   : 32.20   S:644   \n",
       " 3rd Qu.: 31.00           \n",
       " Max.   :512.33           "
      ]
     },
     "metadata": {},
     "output_type": "display_data"
    },
    {
     "data": {
      "text/html": [
       "<table class=\"dataframe\">\n",
       "<caption>A data.frame: 6 × 7</caption>\n",
       "<thead>\n",
       "\t<tr><th></th><th scope=col>Survived</th><th scope=col>Pclass</th><th scope=col>Sex</th><th scope=col>SibSp</th><th scope=col>Parch</th><th scope=col>Fare</th><th scope=col>Embarked</th></tr>\n",
       "\t<tr><th></th><th scope=col>&lt;dbl&gt;</th><th scope=col>&lt;dbl&gt;</th><th scope=col>&lt;fct&gt;</th><th scope=col>&lt;dbl&gt;</th><th scope=col>&lt;dbl&gt;</th><th scope=col>&lt;dbl&gt;</th><th scope=col>&lt;fct&gt;</th></tr>\n",
       "</thead>\n",
       "<tbody>\n",
       "\t<tr><th scope=row>1</th><td>0</td><td>3</td><td>male  </td><td>1</td><td>0</td><td> 7.2500</td><td>S</td></tr>\n",
       "\t<tr><th scope=row>2</th><td>1</td><td>1</td><td>female</td><td>1</td><td>0</td><td>71.2833</td><td>C</td></tr>\n",
       "\t<tr><th scope=row>3</th><td>1</td><td>3</td><td>female</td><td>0</td><td>0</td><td> 7.9250</td><td>S</td></tr>\n",
       "\t<tr><th scope=row>4</th><td>1</td><td>1</td><td>female</td><td>1</td><td>0</td><td>53.1000</td><td>S</td></tr>\n",
       "\t<tr><th scope=row>5</th><td>0</td><td>3</td><td>male  </td><td>0</td><td>0</td><td> 8.0500</td><td>S</td></tr>\n",
       "\t<tr><th scope=row>6</th><td>0</td><td>3</td><td>male  </td><td>0</td><td>0</td><td> 8.4583</td><td>Q</td></tr>\n",
       "</tbody>\n",
       "</table>\n"
      ],
      "text/latex": [
       "A data.frame: 6 × 7\n",
       "\\begin{tabular}{r|lllllll}\n",
       "  & Survived & Pclass & Sex & SibSp & Parch & Fare & Embarked\\\\\n",
       "  & <dbl> & <dbl> & <fct> & <dbl> & <dbl> & <dbl> & <fct>\\\\\n",
       "\\hline\n",
       "\t1 & 0 & 3 & male   & 1 & 0 &  7.2500 & S\\\\\n",
       "\t2 & 1 & 1 & female & 1 & 0 & 71.2833 & C\\\\\n",
       "\t3 & 1 & 3 & female & 0 & 0 &  7.9250 & S\\\\\n",
       "\t4 & 1 & 1 & female & 1 & 0 & 53.1000 & S\\\\\n",
       "\t5 & 0 & 3 & male   & 0 & 0 &  8.0500 & S\\\\\n",
       "\t6 & 0 & 3 & male   & 0 & 0 &  8.4583 & Q\\\\\n",
       "\\end{tabular}\n"
      ],
      "text/markdown": [
       "\n",
       "A data.frame: 6 × 7\n",
       "\n",
       "| <!--/--> | Survived &lt;dbl&gt; | Pclass &lt;dbl&gt; | Sex &lt;fct&gt; | SibSp &lt;dbl&gt; | Parch &lt;dbl&gt; | Fare &lt;dbl&gt; | Embarked &lt;fct&gt; |\n",
       "|---|---|---|---|---|---|---|---|\n",
       "| 1 | 0 | 3 | male   | 1 | 0 |  7.2500 | S |\n",
       "| 2 | 1 | 1 | female | 1 | 0 | 71.2833 | C |\n",
       "| 3 | 1 | 3 | female | 0 | 0 |  7.9250 | S |\n",
       "| 4 | 1 | 1 | female | 1 | 0 | 53.1000 | S |\n",
       "| 5 | 0 | 3 | male   | 0 | 0 |  8.0500 | S |\n",
       "| 6 | 0 | 3 | male   | 0 | 0 |  8.4583 | Q |\n",
       "\n"
      ],
      "text/plain": [
       "  Survived Pclass Sex    SibSp Parch Fare    Embarked\n",
       "1 0        3      male   1     0      7.2500 S       \n",
       "2 1        1      female 1     0     71.2833 C       \n",
       "3 1        3      female 0     0      7.9250 S       \n",
       "4 1        1      female 1     0     53.1000 S       \n",
       "5 0        3      male   0     0      8.0500 S       \n",
       "6 0        3      male   0     0      8.4583 Q       "
      ]
     },
     "metadata": {},
     "output_type": "display_data"
    }
   ],
   "source": [
    "# Check the data now\n",
    "summary(full_data)\n",
    "head(full_data)"
   ]
  },
  {
   "cell_type": "markdown",
   "id": "7248190a-0029-47cb-8f8c-ee0ab9cf85cc",
   "metadata": {
    "tags": []
   },
   "source": [
    "### Question 6.1: Based on what you have learnt about the dataset, is there anything should be done to prepare the data?\n",
    "\n",
    "**Hint 1:** Are all the variables in the correct variable type?\n",
    "\n",
    "**Hint 2 (Important!):** As per some models' requirement, the outcome variable has to be a numeric variable between 0 and 1.\n",
    "\n",
    "***Note:*** Some datasets need a bit of data preparation and some don't. If you think this one needs to be prepared, choose \"yes\" and add your code in the below cell. Otherwise, choose \"no\" and leave the below cell unchanged.\n",
    "\n",
    "Your answer: no (ignore my one-hot encode data for categorical variables below)"
   ]
  },
  {
   "cell_type": "code",
   "execution_count": 22,
   "id": "0f7bde02-1d09-4b5e-9f8d-c7fb97cb7b9b",
   "metadata": {
    "tags": []
   },
   "outputs": [
    {
     "name": "stdout",
     "output_type": "stream",
     "text": [
      "'data.frame':\t891 obs. of  7 variables:\n",
      " $ Survived: num  0 1 1 1 0 0 0 0 1 1 ...\n",
      " $ Pclass  : num  3 1 3 1 3 3 1 3 3 2 ...\n",
      " $ Sex     : Factor w/ 2 levels \"female\",\"male\": 2 1 1 1 2 2 2 2 1 1 ...\n",
      " $ SibSp   : num  1 1 0 1 0 0 0 3 0 1 ...\n",
      " $ Parch   : num  0 0 0 0 0 0 0 1 2 0 ...\n",
      " $ Fare    : num  7.25 71.28 7.92 53.1 8.05 ...\n",
      " $ Embarked: Factor w/ 4 levels \"\",\"C\",\"Q\",\"S\": 4 2 4 4 4 3 4 4 4 2 ...\n"
     ]
    },
    {
     "data": {
      "text/plain": [
       "    Survived          Pclass          Sex          SibSp           Parch       \n",
       " Min.   :0.0000   Min.   :1.000   female:314   Min.   :0.000   Min.   :0.0000  \n",
       " 1st Qu.:0.0000   1st Qu.:2.000   male  :577   1st Qu.:0.000   1st Qu.:0.0000  \n",
       " Median :0.0000   Median :3.000                Median :0.000   Median :0.0000  \n",
       " Mean   :0.3838   Mean   :2.309                Mean   :0.523   Mean   :0.3816  \n",
       " 3rd Qu.:1.0000   3rd Qu.:3.000                3rd Qu.:1.000   3rd Qu.:0.0000  \n",
       " Max.   :1.0000   Max.   :3.000                Max.   :8.000   Max.   :6.0000  \n",
       "      Fare        Embarked\n",
       " Min.   :  0.00    :  2   \n",
       " 1st Qu.:  7.91   C:168   \n",
       " Median : 14.45   Q: 77   \n",
       " Mean   : 32.20   S:644   \n",
       " 3rd Qu.: 31.00           \n",
       " Max.   :512.33           "
      ]
     },
     "metadata": {},
     "output_type": "display_data"
    }
   ],
   "source": [
    "# The data preparation step if needed\n",
    "str(full_data)\n",
    "\n",
    "#encoded_data <- full_data\n",
    "#categorical_columns <- c(\"Sex\", \"Embarked\")\n",
    "\n",
    "#for (col in categorical_columns) {\n",
    "  #encoded_data <- cbind(encoded_data, model.matrix(~0 + as.factor(full_data[[col]])))\n",
    "  #colnames(encoded_data) <- make.names(colnames(encoded_data), unique = TRUE)\n",
    "#}\n",
    "\n",
    "# Remove the original categorical columns from encoded_data\n",
    "#encoded_data <- encoded_data[, !colnames(encoded_data) %in% categorical_columns]\n",
    "\n",
    "# Check the data now\n",
    "summary(full_data)"
   ]
  },
  {
   "cell_type": "markdown",
   "id": "79f16c86-1f86-4c56-9315-884455d5c450",
   "metadata": {},
   "source": [
    "### Question 6.2: Build five different models and evaluate them"
   ]
  },
  {
   "cell_type": "code",
   "execution_count": 23,
   "id": "f9186c18-c5ce-49e1-a929-846e16a00f4b",
   "metadata": {},
   "outputs": [],
   "source": [
    "# define the outcome variable\n",
    "voutcome <- \"Survived\""
   ]
  },
  {
   "cell_type": "markdown",
   "id": "c81cb77f-d2a3-47de-bc20-faa00b05daab",
   "metadata": {},
   "source": [
    "Based on what you have done for Dataset 1, complete the below cells of this dataset. Remember to use parallel computing."
   ]
  },
  {
   "cell_type": "code",
   "execution_count": 24,
   "id": "67150010-4926-427b-9ab8-6b5c1c02c4ab",
   "metadata": {},
   "outputs": [
    {
     "name": "stdout",
     "output_type": "stream",
     "text": [
      "               type metric        lr      cart        rf      lgbm       svm\n",
      "1  train/test split    auc 0.8674985 0.8218989 0.8390785 0.8573306 0.8738099\n",
      "2  train/test split    auc 0.8570357 0.8185382 0.8580337 0.8595252 0.8300476\n",
      "3  train/test split    auc 0.8463857 0.7700326 0.9004548 0.8193399 0.8270731\n",
      "4  train/test split    auc 0.8574894 0.8228886 0.8153767 0.8146248 0.8050812\n",
      "5  train/test split    auc 0.8606154 0.8574272 0.8729230 0.8335963 0.8314139\n",
      "6  train/test split    auc 0.8171565 0.8587881 0.8145833 0.8362538 0.7882552\n",
      "7  train/test split    auc 0.8104898 0.8293665 0.8370582 0.8944878 0.8641474\n",
      "8  train/test split    auc 0.8910012 0.8552278 0.8133744 0.8416312 0.8262917\n",
      "9  train/test split    auc 0.8536615 0.8293957 0.8407080 0.8104354 0.8286215\n",
      "10 train/test split    auc 0.8392157 0.8088131 0.8220941 0.8167245 0.8327195\n",
      "11 train/test split    auc 0.8575389 0.8984443 0.8042892 0.8715888 0.7991048\n",
      "12 train/test split    auc 0.8398245 0.8244213 0.8540637 0.8581877 0.7958090\n",
      "13 train/test split    auc 0.8445516 0.8131855 0.8277137 0.8540476 0.8115238\n",
      "14 train/test split    auc 0.8741082 0.8260301 0.8250380 0.8539456 0.7818070\n",
      "15 train/test split    auc 0.8391354 0.8529514 0.8133393 0.8239848 0.7829972\n",
      "16 train/test split  brier 0.4127025 0.3914500 0.4000285 0.4019133 0.4579258\n",
      "17 train/test split  brier 0.3840818 0.3523272 0.4200256 0.4663960 0.3981306\n",
      "18 train/test split  brier 0.3809091 0.3047856 0.5285099 0.3502233 0.3366344\n",
      "19 train/test split  brier 0.4172582 0.4121934 0.3710157 0.3529440 0.3521999\n",
      "20 train/test split  brier 0.4244053 0.4536609 0.4407043 0.3998957 0.3754068\n",
      "21 train/test split  brier 0.3267962 0.3757286 0.3462940 0.3977452 0.3151540\n",
      "22 train/test split  brier 0.3221285 0.4278862 0.3737329 0.4657848 0.4527530\n",
      "23 train/test split  brier 0.4729489 0.4697171 0.3322665 0.4094063 0.3583762\n",
      "24 train/test split  brier 0.3888049 0.4048350 0.3574096 0.3600929 0.3868743\n",
      "25 train/test split  brier 0.3167245 0.3279830 0.3878051 0.3441573 0.3941394\n",
      "26 train/test split  brier 0.4291141 0.4826801 0.3837242 0.5039032 0.3405361\n",
      "27 train/test split  brier 0.3373636 0.3712839 0.3838066 0.4139107 0.3103041\n",
      "28 train/test split  brier 0.3939678 0.3694519 0.3537457 0.4429684 0.3702359\n",
      "29 train/test split  brier 0.4382091 0.3921011 0.3760047 0.3723873 0.2494613\n",
      "30 train/test split  brier 0.3644946 0.4468241 0.3114485 0.3870382 0.2968311\n"
     ]
    }
   ],
   "source": [
    "# ============= 15 repeated train/test split ============= \n",
    "for (model in model_vec) {\n",
    "     \n",
    "    # parallel computing\n",
    "    cl<-parallel::makeCluster(5)\n",
    "    parallel::clusterExport(cl, c(\"full_data\", \"voutcome\", \"model\"), envir = environment() )\n",
    "    \n",
    "    res <- parallel::parSapply(cl, 1:15, function(x)\n",
    "    {\n",
    "        # partition data into train and test portions\n",
    "        idx <- splitTools::partition(rep(0,nrow(full_data)), p=c(train=0.7, test=0.3), type=\"stratified\")\n",
    "        \n",
    "        # retrieve train and test data\n",
    "        train_data <- full_data[idx$train,]\n",
    "        test_data <- full_data[idx$test,]\n",
    "        \n",
    "        # build the model\n",
    "        if (model == \"lr\") {\n",
    "            best_model<-sdgm::lr.bestmodel.bin(train_data, voutcome)\n",
    "        } else if (model == \"cart\") {\n",
    "            best_model<-sdgm::cart.bestmodel.bin(train_data, voutcome)\n",
    "        } else if (model == \"rf\") {\n",
    "            best_model<-sdgm::cart.bestmodel.bin(train_data, voutcome)\n",
    "        } else if (model == \"lgbm\") {\n",
    "            best_model<-sdgm::cart.bestmodel.bin(train_data, voutcome)\n",
    "        } else if (model == \"svm\") {\n",
    "            best_model<-sdgm::cart.bestmodel.bin(train_data, voutcome)\n",
    "        }\n",
    "        \n",
    "        # predict\n",
    "        preds<-predict(best_model, test_data)\n",
    "  \n",
    "        # calculate and return AUC and brier score\n",
    "         if (!is.null(preds))\n",
    "        {\n",
    "          test_auc <- sdgm::auc(preds, test_data[,voutcome] ) \n",
    "        } else {\n",
    "          test_auc <- NA\n",
    "          print(\"AUC calculation failed because there are no predicted values\")\n",
    "        }\n",
    "        print(paste0(\"AUC on C27 Data: \", test_auc))\n",
    "        \n",
    "         if (!is.null(preds))\n",
    "        {\n",
    "          test_brier <- sdgm::brier(preds, test_data[,voutcome] ) \n",
    "        } else {\n",
    "          test_brier <- NA\n",
    "          print(\"Brier calculation failed because there are no predicted values\")\n",
    "        }\n",
    "          print(paste0(\"Brier Score on C27 Data: \", test_brier))\n",
    "\n",
    "        c(test_auc, test_brier)\n",
    "    })\n",
    "    parallel::stopCluster(cl)\n",
    "    \n",
    "    # save results of the model\n",
    "    if (model == \"lr\") {\n",
    "        auc_split$lr <- res[1,]\n",
    "        brier_split$lr <- res[2,]\n",
    "    } else if (model == \"cart\") {\n",
    "        auc_split$cart <- res[1,]\n",
    "        brier_split$cart <- res[2,]\n",
    "    } else if (model == \"rf\") {\n",
    "        auc_split$rf <- res[1,]\n",
    "        brier_split$rf <- res[2,]\n",
    "    } else if (model == \"lgbm\") {\n",
    "        auc_split$lgbm <- res[1,]\n",
    "        brier_split$lgbm <- res[2,]\n",
    "    } else if (model == \"svm\") {\n",
    "        auc_split$svm <- res[1,]\n",
    "        brier_split$svm <- res[2,]\n",
    "    }\n",
    "}\n",
    "\n",
    "# save results\n",
    "res.split.df6 <- rbind(auc_split, brier_split)\n",
    "\n",
    "# print results\n",
    "print(res.split.df6)  "
   ]
  },
  {
   "cell_type": "code",
   "execution_count": 25,
   "id": "832c3fd8-1172-4f16-a776-08535f7c520a",
   "metadata": {
    "tags": []
   },
   "outputs": [
    {
     "name": "stdout",
     "output_type": "stream",
     "text": [
      "        type metric        lr      cart        rf      lgbm       svm\n",
      "1  nested cv    auc 0.8450885 0.8332983 0.8540489 0.8531632 0.8087814\n",
      "2  nested cv    auc 0.8497798 0.8485075 0.8572442 0.8560418 0.8350570\n",
      "3  nested cv    auc 0.8431374 0.8301487 0.8537306 0.8454471 0.8154147\n",
      "4  nested cv    auc 0.8469101 0.8320047 0.8492080 0.8509903 0.8150327\n",
      "5  nested cv    auc 0.8361823 0.8301661 0.8529981 0.8572486 0.8119176\n",
      "6  nested cv    auc 0.8416919 0.8263305 0.8578057 0.8480958 0.8047285\n",
      "7  nested cv    auc 0.8473739 0.8313979 0.8529982 0.8540662 0.8280619\n",
      "8  nested cv    auc 0.8467227 0.8358214 0.8542630 0.8535011 0.8178690\n",
      "9  nested cv    auc 0.8474060 0.8257199 0.8506002 0.8508660 0.8288083\n",
      "10 nested cv    auc 0.8406045 0.8371537 0.8546948 0.8541451 0.8213035\n",
      "11 nested cv    auc 0.8462267 0.8317095 0.8538106 0.8613821 0.7999025\n",
      "12 nested cv    auc 0.8485998 0.8353835 0.8524466 0.8578186 0.8183209\n",
      "13 nested cv    auc 0.8458455 0.8418744 0.8477336 0.8623155 0.8295732\n",
      "14 nested cv    auc 0.8480046 0.8222126 0.8600806 0.8558755 0.8128668\n",
      "15 nested cv    auc 0.8467732 0.8331316 0.8567799 0.8611527 0.8259890\n",
      "16 nested cv  brier 0.3691975 0.3919027 0.4084065 0.3915671 0.3566459\n",
      "17 nested cv  brier 0.3670303 0.4026410 0.4088769 0.4180164 0.3813484\n",
      "18 nested cv  brier 0.3701847 0.3833139 0.4048177 0.4061080 0.3227922\n",
      "19 nested cv  brier 0.3635227 0.3868451 0.4044284 0.4070646 0.3717541\n",
      "20 nested cv  brier 0.3487357 0.3690808 0.4105685 0.3972621 0.3501611\n",
      "21 nested cv  brier 0.3714786 0.3795908 0.3925189 0.3926162 0.3550835\n",
      "22 nested cv  brier 0.3750690 0.3820833 0.4078749 0.4080172 0.3520979\n",
      "23 nested cv  brier 0.3693433 0.3923495 0.4036290 0.3983138 0.3623950\n",
      "24 nested cv  brier 0.3757726 0.3788123 0.4007983 0.4127114 0.3661387\n",
      "25 nested cv  brier 0.3682995 0.3800990 0.4094092 0.3871160 0.3505075\n",
      "26 nested cv  brier 0.3748677 0.3757043 0.4063407 0.4197003 0.3179362\n",
      "27 nested cv  brier 0.3690494 0.3871166 0.4086331 0.4110652 0.3627951\n",
      "28 nested cv  brier 0.3695714 0.3958345 0.3986828 0.4290024 0.3221344\n",
      "29 nested cv  brier 0.3624638 0.3744545 0.4051502 0.3998577 0.3655630\n",
      "30 nested cv  brier 0.3710905 0.3857556 0.4081167 0.4095800 0.3779190\n"
     ]
    }
   ],
   "source": [
    "# ============= repeated nested 5-fold CV ============= \n",
    "for (model in model_vec) {\n",
    "    \n",
    "    # parallel computing\n",
    "    cl <- parallel::makeCluster(5)\n",
    "    parallel::clusterExport(cl, c(\"full_data\", \"voutcome\", \"model\"), envir = environment())\n",
    "    \n",
    "    # this is the repeated loop\n",
    "    res <- parallel::parSapply(cl, seq(15), function(i) \n",
    "    {\n",
    "        # this is the nested CV outer loop\n",
    "        nested_res <- sapply(caret::createFolds(full_data[, voutcome], k=5), function(x) \n",
    "        {\n",
    "            testInds <- x\n",
    "            trnInds <- setdiff(1:nrow(full_data), testInds)\n",
    "            train_data <- full_data[trnInds,]\n",
    "            test_data <- full_data[testInds,]\n",
    "\n",
    "            if (model == \"lr\") {\n",
    "                best_model <- sdgm::lr.bestmodel.bin(train_data, voutcome)\n",
    "            } else if (model == \"cart\") {\n",
    "                best_model <- sdgm::cart.bestmodel.bin(train_data, voutcome)\n",
    "            } else if (model == \"rf\") {\n",
    "                best_model <- sdgm::rf.bestmodel.bin(train_data, voutcome)\n",
    "            } else if (model == \"lgbm\") {\n",
    "                best_model <- sdgm::lgbm.bestmodel.bin(train_data, voutcome)\n",
    "            } else if (model == \"svm\") {\n",
    "                best_model <- sdgm::svm.bestmodel.bin(train_data, voutcome)\n",
    "            }\n",
    "            \n",
    "            #predict\n",
    "            preds <- predict(best_model, test_data)\n",
    "            \n",
    "            # calculate and return AUC and brier score\n",
    "             if (!is.null(preds)) {\n",
    "                nested_auc <- sdgm::auc(preds, test_data[, voutcome])\n",
    "                nested_brier <- sdgm::brier(preds, test_data[, voutcome])\n",
    "            } else {\n",
    "                nested_auc <- NA\n",
    "                nested_brier <- NA\n",
    "            }\n",
    "\n",
    "            c(nested_auc, nested_brier)\n",
    "        })\n",
    "        nested_cv_auc <- mean(nested_res[1,], na.rm=T)\n",
    "        nested_cv_brier <- mean(nested_res[2,], na.rm=T)\n",
    "                               \n",
    "        c(nested_cv_auc, nested_cv_brier)\n",
    "    })\n",
    "    parallel::stopCluster(cl)\n",
    "    \n",
    "    # save results of the model\n",
    "    if (model == \"lr\") {\n",
    "        auc_cv$lr <- res[1,]\n",
    "        brier_cv$lr <- res[2,]\n",
    "    } else if (model == \"cart\") {\n",
    "        auc_cv$cart <- res[1,]\n",
    "        brier_cv$cart <- res[2,]\n",
    "    } else if (model == \"rf\") {\n",
    "        auc_cv$rf <- res[1,]\n",
    "        brier_cv$rf <- res[2,]\n",
    "    } else if (model == \"lgbm\") {\n",
    "        auc_cv$lgbm <- res[1,]\n",
    "        brier_cv$lgbm <- res[2,]\n",
    "    } else if (model == \"svm\") {\n",
    "        auc_cv$svm <- res[1,]\n",
    "        brier_cv$svm <- res[2,]\n",
    "    }\n",
    "}\n",
    "\n",
    "# save results\n",
    "res.cv.df6 <- rbind(auc_cv, brier_cv)\n",
    "\n",
    "print(res.cv.df6)"
   ]
  },
  {
   "cell_type": "code",
   "execution_count": 26,
   "id": "64004813-8875-4c5d-89ea-e8d20cb07a4d",
   "metadata": {
    "tags": []
   },
   "outputs": [
    {
     "data": {
      "image/png": "[encoded data removed]",
      "text/plain": [
       "plot without title"
      ]
     },
     "metadata": {
      "image/png": {
       "height": 360,
       "width": 1080
      }
     },
     "output_type": "display_data"
    }
   ],
   "source": [
    "auc.df6 <- rbind(res.split.df6 %>% filter(metric == \"auc\"), \n",
    "                 res.cv.df6 %>% filter(metric == \"auc\"))\n",
    "\n",
    "# pivot the dataframe from wide to long for plotting\n",
    "auc.df6.long <- auc.df6 %>% \n",
    "    tidyr::pivot_longer(-c(type, metric), \n",
    "                        names_to = \"model\",\n",
    "                        values_to = \"auc\")\n",
    "auc.df6.long$model <- factor(auc.df6.long$model, \n",
    "                         levels = c(\"lr\", \"cart\", \"rf\", \"lgbm\", \"svm\"))\n",
    "auc.df6.long$type <- factor(auc.df6.long$type, \n",
    "                         levels = c(\"train/test split\", \"nested cv\"))\n",
    "\n",
    "# Plot the violin plot\n",
    "ggplot(auc.df6.long, aes(model, auc, fill = model)) + \n",
    "    geom_violin(alpha = 0.5, draw_quantiles = c(0.25, 0.5, 0.75))+ \n",
    "    facet_wrap(~type)"
   ]
  },
  {
   "cell_type": "code",
   "execution_count": 27,
   "id": "4b375db9-0bd1-42f5-800c-4bf1d49d011d",
   "metadata": {},
   "outputs": [
    {
     "data": {
      "image/png": "[encoded data removed]",
      "text/plain": [
       "plot without title"
      ]
     },
     "metadata": {
      "image/png": {
       "height": 360,
       "width": 1080
      }
     },
     "output_type": "display_data"
    }
   ],
   "source": [
    "brier.df6 <- rbind(res.split.df6 %>% filter(metric == \"brier\"), \n",
    "                   res.cv.df6 %>% filter(metric == \"brier\"))\n",
    "\n",
    "# pivot the dataframe from wide to long for plotting\n",
    "brier.df6.long <- brier.df6 %>% \n",
    "    tidyr::pivot_longer(-c(type,metric), \n",
    "                        names_to = \"model\",\n",
    "                        values_to = \"brier\")\n",
    "brier.df6.long$model <- factor(brier.df6.long$model, \n",
    "                         levels = c(\"lr\", \"cart\", \"rf\", \"lgbm\", \"svm\"))\n",
    "brier.df6.long$type <- factor(brier.df6.long$type, \n",
    "                         levels = c(\"train/test split\", \"nested cv\"))\n",
    "\n",
    "# Plot the violin plot\n",
    "ggplot(brier.df6.long, aes(model, brier, fill = model)) + \n",
    "    geom_violin(alpha = 0.5, draw_quantiles = c(0.25, 0.5, 0.75))+ \n",
    "    facet_wrap(~type)"
   ]
  },
  {
   "cell_type": "markdown",
   "id": "e60cce83-83b7-4c63-a12f-f968e7990124",
   "metadata": {},
   "source": [
    "### Question 6.3: Based on the above violin plot, which model is the best one? Why?"
   ]
  },
  {
   "cell_type": "markdown",
   "id": "4b67dd95-6a5c-4346-bf8d-a62bf96901d1",
   "metadata": {},
   "source": [
    "## Question 7: After working with all the datasets, which models are the best ones across the board? Why?"
   ]
  },
  {
   "cell_type": "markdown",
   "id": "74b9093e-6c79-422d-86ae-93ab8a36c9a2",
   "metadata": {},
   "source": [
    "## Question 8 (bonus): Are you able to make the code more compact to reduce the repetition?\n",
    "\n",
    "Hint: Can you convert the repetitive parts into functions with the appropriate parameters passed to them?"
   ]
  },
  {
   "cell_type": "markdown",
   "id": "99c5eb24-3bb3-4136-956f-9974c73ebd04",
   "metadata": {
    "tags": []
   },
   "source": [
    "# Congratulation! You have completed the Assignment 2!"
   ]
  }
 ],
 "metadata": {
  "kernelspec": {
   "display_name": "R",
   "language": "R",
   "name": "ir"
  },
  "language_info": {
   "codemirror_mode": "r",
   "file_extension": ".r",
   "mimetype": "text/x-r-source",
   "name": "R",
   "pygments_lexer": "r",
   "version": "4.3.1"
  }
 },
 "nbformat": 4,
 "nbformat_minor": 5
}
