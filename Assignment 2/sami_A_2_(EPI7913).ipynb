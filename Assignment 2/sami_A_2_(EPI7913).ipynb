{
 "cells": [
  {
   "cell_type": "markdown",
   "id": "09e0bbf0-a06c-453d-a490-f71b5e9365e7",
   "metadata": {},
   "source": [
    "# Assignment 2"
   ]
  },
  {
   "cell_type": "markdown",
   "id": "f859a12b-eb07-42ba-b04e-25be9062e14a",
   "metadata": {},
   "source": [
    "In assignment 2, you will build five classification models on six different datasets. You can then compare them to see which modeling technique works best on each dataset using AUC and the scaled brier score as the metrics.\n",
    " \n",
    "Learning objective: (a) how to train and evaluate models, (b) comparing modeling techniques\n",
    "\n",
    "## Some notes\n",
    "\n",
    "For reference, please see \"Lecture 3 - Tree Examples 2023.ipynb\", \"Lecture 4 - Nested K-cross validation of CART on CCHS.ipynb\", \"Lecture 4 - Parallel nested CV on CCHS.ipynb\", and \"sdgm-getting started.pdf\"\n",
    "\n",
    "Five classification models available in `sdgm` are:\n",
    "1. logistic regression: `lr.bestmodel.bin`\n",
    "2. CART: `cart.bestmodel.bin`\n",
    "3. random forest: `rf.bestmodel.bin`\n",
    "4. LightGBM (lgbm): `lgbm.bestmodel.bin`\n",
    "5. support vector machine (svm): `svm.bestmodel.bin`\n",
    "\n",
    "## Load useful packages"
   ]
  },
  {
   "cell_type": "code",
   "execution_count": 73,
   "id": "fa74bbc4-6298-4174-b447-f87a5f772fd8",
   "metadata": {
    "tags": []
   },
   "outputs": [],
   "source": [
    "library(sdgm)\n",
    "library(dplyr)\n",
    "library(ggplot2)"
   ]
  },
  {
   "cell_type": "markdown",
   "id": "c8a8eabd-d1b4-495c-90c8-80018bcfdba2",
   "metadata": {
    "tags": []
   },
   "source": [
    "## Some preparation work"
   ]
  },
  {
   "cell_type": "code",
   "execution_count": 74,
   "id": "3cd8d6f6-b0ec-4ff9-83b0-d1b6d4c3be67",
   "metadata": {
    "tags": []
   },
   "outputs": [],
   "source": [
    "# Change plot size to 18 * 6\n",
    "options(repr.plot.width=18, repr.plot.height=6) "
   ]
  },
  {
   "cell_type": "code",
   "execution_count": 75,
   "id": "ae8d1234-5258-472b-973f-47ba424c2ece",
   "metadata": {
    "tags": []
   },
   "outputs": [],
   "source": [
    "n_iter <- 1 #make 1 for now chnage to 20 later\n",
    "train_data_split <- 0.8\n",
    "model_vec <- c(\"lr\", \"cart\", \"rf\", \"lgbm\", \"svm\") # names of models"
   ]
  },
  {
   "cell_type": "code",
   "execution_count": 76,
   "id": "203e149f-a567-4d19-a2ef-5e57cb97770c",
   "metadata": {
    "tags": []
   },
   "outputs": [],
   "source": [
    "# -------- define dataframes to save the intermediate results ---------\n",
    "# AUC values of the repeated train/test split, 15 times\n",
    "auc_split <- data.frame(type = rep(\"train/test split\", 15),\n",
    "                      metric = rep(\"auc\", 15),\n",
    "                      lr = rep(0, 15),\n",
    "                      cart = rep(0, 15),\n",
    "                      rf = rep(0, 15),\n",
    "                      lgbm = rep(0, 15),\n",
    "                      svm = rep(0, 15))\n",
    "\n",
    "# AUC values of the repeated nested cv, 15 times\n",
    "auc_cv <- data.frame(type = rep(\"nested cv\", 15),\n",
    "                      metric = rep(\"auc\", 15),\n",
    "                      lr = rep(0, 15),\n",
    "                      cart = rep(0, 15),\n",
    "                      rf = rep(0, 15),\n",
    "                      lgbm = rep(0, 15),\n",
    "                      svm = rep(0, 15))\n",
    "\n",
    "# brier scores of the repeated train/test split, 15 times\n",
    "brier_split <- data.frame(type = rep(\"train/test split\", 15),\n",
    "                        metric = rep(\"brier\", 15),\n",
    "                        lr = rep(0, 15),\n",
    "                        cart = rep(0, 15),\n",
    "                        rf = rep(0, 15),\n",
    "                        lgbm = rep(0, 15),\n",
    "                        svm = rep(0, 15))\n",
    "\n",
    "# brier scores of the repeated nested cv, 15 times\n",
    "brier_cv <- data.frame(type = rep(\"nested cv\", 15),\n",
    "                        metric = rep(\"brier\", 15),\n",
    "                        lr = rep(0, 15),\n",
    "                        cart = rep(0, 15),\n",
    "                        rf = rep(0, 15),\n",
    "                        lgbm = rep(0, 15),\n",
    "                        svm = rep(0, 15))"
   ]
  },
  {
   "cell_type": "markdown",
   "id": "9e3d50f6-9959-4560-8f4e-5611d1258567",
   "metadata": {},
   "source": [
    "## Dataset 1: `sdgm::C2` BankNote\n",
    "\n",
    "For more details about this dataset, see [here](https://archive.ics.uci.edu/dataset/267/banknote+authentication)"
   ]
  },
  {
   "cell_type": "code",
   "execution_count": 17,
   "id": "b326de9b-06a5-4215-a745-f6233d9e8cbc",
   "metadata": {
    "tags": []
   },
   "outputs": [
    {
     "data": {
      "text/html": [
       "\n",
       "<table style=\"width: 100%;\"><tr><td>C2 {sdgm}</td><td style=\"text-align: right;\">R Documentation</td></tr></table>\n",
       "\n",
       "<h2 id='C2'>BankNote</h2>\n",
       "\n",
       "<h3>Description</h3>\n",
       "\n",
       "<p>Data of images that were taken for the evaluation of tan authentication procedure for banknotes.\n",
       "Target variable: class, 2 levels\n",
       "Classification type: binomial logistic regression\n",
       "</p>\n",
       "\n",
       "\n",
       "<h3>Usage</h3>\n",
       "\n",
       "<pre><code class='language-R'>C2\n",
       "</code></pre>\n",
       "\n",
       "\n",
       "<h3>Format</h3>\n",
       "\n",
       "<p>An object of class <code>data.frame</code> with 1371 rows and 5 columns.\n",
       "</p>\n",
       "\n",
       "\n",
       "<h3>Source</h3>\n",
       "\n",
       "<p><a href=\"https://jmir.org/api/download?alt_name=medinform_v10i4e35734_app1.pdf&amp;filename=04ce0b2aec244210e4503631ee243fd0.pdf\">JMIR Article</a>\n",
       "</p>\n",
       "\n",
       "\n",
       "<h3>Examples</h3>\n",
       "\n",
       "<pre><code class='language-R'>data = sdgd::C2\n",
       "data$class = as.factor(data$class)\n",
       "glm(class~., data = data, family = 'binomial')\n",
       "\n",
       "</code></pre>\n",
       "\n",
       "<hr /><div style=\"text-align: center;\">[Package <em>sdgm</em> version 0.39 ]</div>\n",
       "</div>"
      ],
      "text/latex": [
       "\\inputencoding{utf8}\n",
       "\\HeaderA{C2}{BankNote}{C2}\n",
       "\\keyword{datasets}{C2}\n",
       "%\n",
       "\\begin{Description}\n",
       "Data of images that were taken for the evaluation of tan authentication procedure for banknotes.\n",
       "Target variable: class, 2 levels\n",
       "Classification type: binomial logistic regression\n",
       "\\end{Description}\n",
       "%\n",
       "\\begin{Usage}\n",
       "\\begin{verbatim}\n",
       "C2\n",
       "\\end{verbatim}\n",
       "\\end{Usage}\n",
       "%\n",
       "\\begin{Format}\n",
       "An object of class \\code{data.frame} with 1371 rows and 5 columns.\n",
       "\\end{Format}\n",
       "%\n",
       "\\begin{Source}\n",
       "\\Rhref{https://jmir.org/api/download?alt_name=medinform_v10i4e35734_app1.pdf\\&filename=04ce0b2aec244210e4503631ee243fd0.pdf}{JMIR Article}\n",
       "\\end{Source}\n",
       "%\n",
       "\\begin{Examples}\n",
       "\\begin{ExampleCode}\n",
       "data = sdgd::C2\n",
       "data$class = as.factor(data$class)\n",
       "glm(class~., data = data, family = 'binomial')\n",
       "\n",
       "\\end{ExampleCode}\n",
       "\\end{Examples}"
      ],
      "text/plain": [
       "C2                    package:sdgm                     R Documentation\n",
       "\n",
       "_\bB_\ba_\bn_\bk_\bN_\bo_\bt_\be\n",
       "\n",
       "_\bD_\be_\bs_\bc_\br_\bi_\bp_\bt_\bi_\bo_\bn:\n",
       "\n",
       "     Data of images that were taken for the evaluation of tan\n",
       "     authentication procedure for banknotes. Target variable: class, 2\n",
       "     levels Classification type: binomial logistic regression\n",
       "\n",
       "_\bU_\bs_\ba_\bg_\be:\n",
       "\n",
       "     C2\n",
       "     \n",
       "_\bF_\bo_\br_\bm_\ba_\bt:\n",
       "\n",
       "     An object of class ‘data.frame’ with 1371 rows and 5 columns.\n",
       "\n",
       "_\bS_\bo_\bu_\br_\bc_\be:\n",
       "\n",
       "     JMIR Article\n",
       "\n",
       "_\bE_\bx_\ba_\bm_\bp_\bl_\be_\bs:\n",
       "\n",
       "     data = sdgd::C2\n",
       "     data$class = as.factor(data$class)\n",
       "     glm(class~., data = data, family = 'binomial')\n",
       "     "
      ]
     },
     "metadata": {},
     "output_type": "display_data"
    }
   ],
   "source": [
    "# show the description of this dataset\n",
    "?sdgm::C2"
   ]
  },
  {
   "cell_type": "code",
   "execution_count": 18,
   "id": "0cb2e919-cef2-41b8-92f5-410963fb1d71",
   "metadata": {
    "tags": []
   },
   "outputs": [
    {
     "data": {
      "text/html": [
       "<table class=\"dataframe\">\n",
       "<caption>A data.frame: 6 × 5</caption>\n",
       "<thead>\n",
       "\t<tr><th></th><th scope=col>var</th><th scope=col>skew</th><th scope=col>curtosis</th><th scope=col>entropy</th><th scope=col>class</th></tr>\n",
       "\t<tr><th></th><th scope=col>&lt;dbl&gt;</th><th scope=col>&lt;dbl&gt;</th><th scope=col>&lt;dbl&gt;</th><th scope=col>&lt;dbl&gt;</th><th scope=col>&lt;chr&gt;</th></tr>\n",
       "</thead>\n",
       "<tbody>\n",
       "\t<tr><th scope=row>1</th><td>4.54590</td><td> 8.1674</td><td>-2.45860</td><td>-1.46210</td><td>'0'</td></tr>\n",
       "\t<tr><th scope=row>2</th><td>3.86600</td><td>-2.6383</td><td> 1.92420</td><td> 0.10645</td><td>'0'</td></tr>\n",
       "\t<tr><th scope=row>3</th><td>3.45660</td><td> 9.5228</td><td>-4.01120</td><td>-3.59440</td><td>'0'</td></tr>\n",
       "\t<tr><th scope=row>4</th><td>0.32924</td><td>-4.4552</td><td> 4.57180</td><td>-0.98880</td><td>'0'</td></tr>\n",
       "\t<tr><th scope=row>5</th><td>4.36840</td><td> 9.6718</td><td>-3.96060</td><td>-3.16250</td><td>'0'</td></tr>\n",
       "\t<tr><th scope=row>6</th><td>3.59120</td><td> 3.0129</td><td> 0.72888</td><td> 0.56421</td><td>'0'</td></tr>\n",
       "</tbody>\n",
       "</table>\n"
      ],
      "text/latex": [
       "A data.frame: 6 × 5\n",
       "\\begin{tabular}{r|lllll}\n",
       "  & var & skew & curtosis & entropy & class\\\\\n",
       "  & <dbl> & <dbl> & <dbl> & <dbl> & <chr>\\\\\n",
       "\\hline\n",
       "\t1 & 4.54590 &  8.1674 & -2.45860 & -1.46210 & '0'\\\\\n",
       "\t2 & 3.86600 & -2.6383 &  1.92420 &  0.10645 & '0'\\\\\n",
       "\t3 & 3.45660 &  9.5228 & -4.01120 & -3.59440 & '0'\\\\\n",
       "\t4 & 0.32924 & -4.4552 &  4.57180 & -0.98880 & '0'\\\\\n",
       "\t5 & 4.36840 &  9.6718 & -3.96060 & -3.16250 & '0'\\\\\n",
       "\t6 & 3.59120 &  3.0129 &  0.72888 &  0.56421 & '0'\\\\\n",
       "\\end{tabular}\n"
      ],
      "text/markdown": [
       "\n",
       "A data.frame: 6 × 5\n",
       "\n",
       "| <!--/--> | var &lt;dbl&gt; | skew &lt;dbl&gt; | curtosis &lt;dbl&gt; | entropy &lt;dbl&gt; | class &lt;chr&gt; |\n",
       "|---|---|---|---|---|---|\n",
       "| 1 | 4.54590 |  8.1674 | -2.45860 | -1.46210 | '0' |\n",
       "| 2 | 3.86600 | -2.6383 |  1.92420 |  0.10645 | '0' |\n",
       "| 3 | 3.45660 |  9.5228 | -4.01120 | -3.59440 | '0' |\n",
       "| 4 | 0.32924 | -4.4552 |  4.57180 | -0.98880 | '0' |\n",
       "| 5 | 4.36840 |  9.6718 | -3.96060 | -3.16250 | '0' |\n",
       "| 6 | 3.59120 |  3.0129 |  0.72888 |  0.56421 | '0' |\n",
       "\n"
      ],
      "text/plain": [
       "  var     skew    curtosis entropy  class\n",
       "1 4.54590  8.1674 -2.45860 -1.46210 '0'  \n",
       "2 3.86600 -2.6383  1.92420  0.10645 '0'  \n",
       "3 3.45660  9.5228 -4.01120 -3.59440 '0'  \n",
       "4 0.32924 -4.4552  4.57180 -0.98880 '0'  \n",
       "5 4.36840  9.6718 -3.96060 -3.16250 '0'  \n",
       "6 3.59120  3.0129  0.72888  0.56421 '0'  "
      ]
     },
     "metadata": {},
     "output_type": "display_data"
    },
    {
     "data": {
      "text/html": [
       "<style>\n",
       ".list-inline {list-style: none; margin:0; padding: 0}\n",
       ".list-inline>li {display: inline-block}\n",
       ".list-inline>li:not(:last-child)::after {content: \"\\00b7\"; padding: 0 .5ex}\n",
       "</style>\n",
       "<ol class=list-inline><li>1371</li><li>5</li></ol>\n"
      ],
      "text/latex": [
       "\\begin{enumerate*}\n",
       "\\item 1371\n",
       "\\item 5\n",
       "\\end{enumerate*}\n"
      ],
      "text/markdown": [
       "1. 1371\n",
       "2. 5\n",
       "\n",
       "\n"
      ],
      "text/plain": [
       "[1] 1371    5"
      ]
     },
     "metadata": {},
     "output_type": "display_data"
    }
   ],
   "source": [
    "# first glance of the dataset\n",
    "full_data <- sdgm::C2\n",
    "head(full_data)\n",
    "dim(full_data)"
   ]
  },
  {
   "cell_type": "code",
   "execution_count": 19,
   "id": "0b877344-a111-40fd-9404-9a49bb413d5e",
   "metadata": {
    "tags": []
   },
   "outputs": [],
   "source": [
    "# Convert characters to numbers. Note because of the special format in the data, `as.numeric` doesn't work here.\n",
    "# The code below is to extract numbers from strings\n",
    "full_data$class <- as.numeric(gsub(\"\\\\D\", \"\", full_data$class))"
   ]
  },
  {
   "cell_type": "code",
   "execution_count": 20,
   "id": "b75b7a5a-7804-445f-8504-78fb12564502",
   "metadata": {
    "tags": []
   },
   "outputs": [
    {
     "data": {
      "text/plain": [
       "      var               skew            curtosis          entropy       \n",
       " Min.   :-7.0421   Min.   :-13.773   Min.   :-5.2861   Min.   :-8.5482  \n",
       " 1st Qu.:-1.7747   1st Qu.: -1.711   1st Qu.:-1.5534   1st Qu.:-2.4170  \n",
       " Median : 0.4957   Median :  2.313   Median : 0.6166   Median :-0.5867  \n",
       " Mean   : 0.4314   Mean   :  1.917   Mean   : 1.4007   Mean   :-1.1922  \n",
       " 3rd Qu.: 2.8146   3rd Qu.:  6.813   3rd Qu.: 3.1816   3rd Qu.: 0.3948  \n",
       " Max.   : 6.8248   Max.   : 12.952   Max.   :17.9274   Max.   : 2.4495  \n",
       "     class       \n",
       " Min.   :0.0000  \n",
       " 1st Qu.:0.0000  \n",
       " Median :0.0000  \n",
       " Mean   :0.4449  \n",
       " 3rd Qu.:1.0000  \n",
       " Max.   :1.0000  "
      ]
     },
     "metadata": {},
     "output_type": "display_data"
    },
    {
     "data": {
      "text/html": [
       "<table class=\"dataframe\">\n",
       "<caption>A data.frame: 6 × 5</caption>\n",
       "<thead>\n",
       "\t<tr><th></th><th scope=col>var</th><th scope=col>skew</th><th scope=col>curtosis</th><th scope=col>entropy</th><th scope=col>class</th></tr>\n",
       "\t<tr><th></th><th scope=col>&lt;dbl&gt;</th><th scope=col>&lt;dbl&gt;</th><th scope=col>&lt;dbl&gt;</th><th scope=col>&lt;dbl&gt;</th><th scope=col>&lt;dbl&gt;</th></tr>\n",
       "</thead>\n",
       "<tbody>\n",
       "\t<tr><th scope=row>1</th><td>4.54590</td><td> 8.1674</td><td>-2.45860</td><td>-1.46210</td><td>0</td></tr>\n",
       "\t<tr><th scope=row>2</th><td>3.86600</td><td>-2.6383</td><td> 1.92420</td><td> 0.10645</td><td>0</td></tr>\n",
       "\t<tr><th scope=row>3</th><td>3.45660</td><td> 9.5228</td><td>-4.01120</td><td>-3.59440</td><td>0</td></tr>\n",
       "\t<tr><th scope=row>4</th><td>0.32924</td><td>-4.4552</td><td> 4.57180</td><td>-0.98880</td><td>0</td></tr>\n",
       "\t<tr><th scope=row>5</th><td>4.36840</td><td> 9.6718</td><td>-3.96060</td><td>-3.16250</td><td>0</td></tr>\n",
       "\t<tr><th scope=row>6</th><td>3.59120</td><td> 3.0129</td><td> 0.72888</td><td> 0.56421</td><td>0</td></tr>\n",
       "</tbody>\n",
       "</table>\n"
      ],
      "text/latex": [
       "A data.frame: 6 × 5\n",
       "\\begin{tabular}{r|lllll}\n",
       "  & var & skew & curtosis & entropy & class\\\\\n",
       "  & <dbl> & <dbl> & <dbl> & <dbl> & <dbl>\\\\\n",
       "\\hline\n",
       "\t1 & 4.54590 &  8.1674 & -2.45860 & -1.46210 & 0\\\\\n",
       "\t2 & 3.86600 & -2.6383 &  1.92420 &  0.10645 & 0\\\\\n",
       "\t3 & 3.45660 &  9.5228 & -4.01120 & -3.59440 & 0\\\\\n",
       "\t4 & 0.32924 & -4.4552 &  4.57180 & -0.98880 & 0\\\\\n",
       "\t5 & 4.36840 &  9.6718 & -3.96060 & -3.16250 & 0\\\\\n",
       "\t6 & 3.59120 &  3.0129 &  0.72888 &  0.56421 & 0\\\\\n",
       "\\end{tabular}\n"
      ],
      "text/markdown": [
       "\n",
       "A data.frame: 6 × 5\n",
       "\n",
       "| <!--/--> | var &lt;dbl&gt; | skew &lt;dbl&gt; | curtosis &lt;dbl&gt; | entropy &lt;dbl&gt; | class &lt;dbl&gt; |\n",
       "|---|---|---|---|---|---|\n",
       "| 1 | 4.54590 |  8.1674 | -2.45860 | -1.46210 | 0 |\n",
       "| 2 | 3.86600 | -2.6383 |  1.92420 |  0.10645 | 0 |\n",
       "| 3 | 3.45660 |  9.5228 | -4.01120 | -3.59440 | 0 |\n",
       "| 4 | 0.32924 | -4.4552 |  4.57180 | -0.98880 | 0 |\n",
       "| 5 | 4.36840 |  9.6718 | -3.96060 | -3.16250 | 0 |\n",
       "| 6 | 3.59120 |  3.0129 |  0.72888 |  0.56421 | 0 |\n",
       "\n"
      ],
      "text/plain": [
       "  var     skew    curtosis entropy  class\n",
       "1 4.54590  8.1674 -2.45860 -1.46210 0    \n",
       "2 3.86600 -2.6383  1.92420  0.10645 0    \n",
       "3 3.45660  9.5228 -4.01120 -3.59440 0    \n",
       "4 0.32924 -4.4552  4.57180 -0.98880 0    \n",
       "5 4.36840  9.6718 -3.96060 -3.16250 0    \n",
       "6 3.59120  3.0129  0.72888  0.56421 0    "
      ]
     },
     "metadata": {},
     "output_type": "display_data"
    },
    {
     "data": {
      "text/plain": [
       "\n",
       "  0   1 \n",
       "761 610 "
      ]
     },
     "metadata": {},
     "output_type": "display_data"
    }
   ],
   "source": [
    "# Check the data now\n",
    "summary(full_data)\n",
    "head(full_data)\n",
    "\n",
    "# Check the outcome variable\n",
    "table(full_data$class)"
   ]
  },
  {
   "cell_type": "markdown",
   "id": "0b8c995c-bd6b-48f3-a85d-d88a1a7ebcdf",
   "metadata": {
    "tags": []
   },
   "source": [
    "### Question 1.1: Based on what you have learnt about the dataset, is there anything should be done to prepare the data?\n",
    "\n",
    "**Hint 1:** Are all the variables in the correct variable type?\n",
    "\n",
    "**Hint 2 (Important!):** As per some models' requirement, the outcome variable has to be a numeric variable between 0 and 1.\n",
    "\n",
    "***Note:*** Some datasets need a bit of data preparation and some don't. If you think this one needs to be prepared, choose \"yes\" and add your code in the below cell. Otherwise, choose \"no\" and leave the below cell unchanged.\n",
    "\n",
    "Your answer: no"
   ]
  },
  {
   "cell_type": "code",
   "execution_count": 21,
   "id": "dda984a3-8d1d-4ee2-886f-28f80dfef0c9",
   "metadata": {
    "tags": []
   },
   "outputs": [
    {
     "data": {
      "text/plain": [
       "      var               skew            curtosis          entropy       \n",
       " Min.   :-7.0421   Min.   :-13.773   Min.   :-5.2861   Min.   :-8.5482  \n",
       " 1st Qu.:-1.7747   1st Qu.: -1.711   1st Qu.:-1.5534   1st Qu.:-2.4170  \n",
       " Median : 0.4957   Median :  2.313   Median : 0.6166   Median :-0.5867  \n",
       " Mean   : 0.4314   Mean   :  1.917   Mean   : 1.4007   Mean   :-1.1922  \n",
       " 3rd Qu.: 2.8146   3rd Qu.:  6.813   3rd Qu.: 3.1816   3rd Qu.: 0.3948  \n",
       " Max.   : 6.8248   Max.   : 12.952   Max.   :17.9274   Max.   : 2.4495  \n",
       "     class       \n",
       " Min.   :0.0000  \n",
       " 1st Qu.:0.0000  \n",
       " Median :0.0000  \n",
       " Mean   :0.4449  \n",
       " 3rd Qu.:1.0000  \n",
       " Max.   :1.0000  "
      ]
     },
     "metadata": {},
     "output_type": "display_data"
    }
   ],
   "source": [
    "# The data preparation step if needed\n",
    "\n",
    "# Check the data now\n",
    "summary(full_data)"
   ]
  },
  {
   "cell_type": "code",
   "execution_count": 22,
   "id": "357ff20a-a2fc-48ad-8b16-baacc070b0d9",
   "metadata": {
    "tags": []
   },
   "outputs": [],
   "source": [
    "# remove one variable to add more variance to the the outputs across the repeated evaluations\n",
    "full_data <- full_data %>% select(-var)"
   ]
  },
  {
   "cell_type": "markdown",
   "id": "e7a099e4-846f-4667-aec4-55b4faa9b3f4",
   "metadata": {},
   "source": [
    "### Question 1.2: Build five different models and evaluate them"
   ]
  },
  {
   "cell_type": "code",
   "execution_count": 35,
   "id": "8a9f67a9-7485-40ba-8364-41d882e3d6c3",
   "metadata": {
    "tags": []
   },
   "outputs": [],
   "source": [
    "# define the outcome variable\n",
    "voutcome <- \"class\""
   ]
  },
  {
   "cell_type": "markdown",
   "id": "36f1a342-ff41-492d-b32a-19f804f91600",
   "metadata": {},
   "source": [
    "Note: You will use parallel computing here, see \"Lecture 4 - Parallel nested CV on CCHS.ipynb\".\n",
    "\n",
    "Hint: remember to include \"model\" in the vector when you call `parallel::clusterExport`. For more details about `parallel::clusterExport`, see [here](https://cran.r-project.org/web/packages/SimDesign/vignettes/Fixed_obj_fun.html)."
   ]
  },
  {
   "cell_type": "code",
   "execution_count": 36,
   "id": "90bc7e69-746b-421c-9be3-a1bf5ee0a65b",
   "metadata": {
    "tags": []
   },
   "outputs": [
    {
     "name": "stdout",
     "output_type": "stream",
     "text": [
      "               type metric        lr      cart        rf      lgbm       svm\n",
      "1  train/test split    auc 0.8810511 0.9428629 0.9421228 0.9376019 0.9328308\n",
      "2  train/test split    auc 0.8798070 0.8989413 0.9345813 0.9293939 0.9439680\n",
      "3  train/test split    auc 0.8964706 0.9238433 0.9366793 0.9518103 0.9361905\n",
      "4  train/test split    auc 0.8983369 0.9372078 0.9457635 0.9457623 0.9576960\n",
      "5  train/test split    auc 0.8694490 0.9189619 0.9378411 0.9468870 0.9385047\n",
      "6  train/test split    auc 0.8789462 0.9245359 0.9380287 0.9362527 0.9470427\n",
      "7  train/test split    auc 0.9007870 0.9313208 0.9084395 0.9408384 0.9187877\n",
      "8  train/test split    auc 0.8797203 0.9013394 0.9184202 0.9094213 0.9280604\n",
      "9  train/test split    auc 0.8474086 0.9251433 0.8899548 0.9269965 0.9352887\n",
      "10 train/test split    auc 0.8729312 0.9495342 0.9322372 0.9252374 0.9361338\n",
      "11 train/test split    auc 0.8888014 0.9377319 0.8904481 0.9466676 0.9106812\n",
      "12 train/test split    auc 0.8903842 0.9295259 0.9285952 0.9335701 0.9310020\n",
      "13 train/test split    auc 0.8896989 0.9134398 0.9251425 0.9178780 0.9297492\n",
      "14 train/test split    auc 0.8633117 0.9234181 0.9443556 0.9298145 0.9186293\n",
      "15 train/test split    auc 0.8730913 0.9215411 0.9445874 0.9175045 0.9478024\n",
      "16 train/test split  brier 0.4318217 0.6650456 0.6924784 0.6556481 0.6428467\n",
      "17 train/test split  brier 0.4500261 0.5168922 0.6516432 0.6604886 0.6615467\n",
      "18 train/test split  brier 0.4918394 0.6196691 0.6456007 0.6975745 0.6221967\n",
      "19 train/test split  brier 0.4846258 0.6537815 0.6626366 0.6351335 0.7124512\n",
      "20 train/test split  brier 0.4286989 0.5991968 0.6344283 0.6751176 0.6390961\n",
      "21 train/test split  brier 0.4350099 0.6022011 0.6761049 0.6450754 0.6868887\n",
      "22 train/test split  brier 0.4914188 0.6714599 0.5502109 0.6414636 0.5742649\n",
      "23 train/test split  brier 0.4485397 0.5464920 0.5941356 0.5652107 0.6529326\n",
      "24 train/test split  brier 0.3628390 0.5782645 0.5200722 0.6268599 0.6479334\n",
      "25 train/test split  brier 0.4241176 0.6647430 0.6646662 0.6020861 0.6413958\n",
      "26 train/test split  brier 0.4793718 0.6439450 0.5302440 0.6892591 0.5508770\n",
      "27 train/test split  brier 0.4671927 0.6583555 0.6362077 0.6531193 0.6528555\n",
      "28 train/test split  brier 0.4597022 0.6090202 0.6045459 0.6006019 0.5882674\n",
      "29 train/test split  brier 0.3987434 0.5701242 0.6649802 0.6045076 0.6358425\n",
      "30 train/test split  brier 0.4525387 0.6497980 0.6627989 0.6027131 0.7017197\n"
     ]
    }
   ],
   "source": [
    "# ============= 15 repeated train/test split ============= \n",
    "for (model in model_vec) {\n",
    "    \n",
    "    # parallel computing\n",
    "    cl<-parallel::makeCluster(5)\n",
    "    parallel::clusterExport(cl, c(\"full_data\", \"voutcome\", \"model\"), envir = environment() )\n",
    "    \n",
    "    res <- parallel::parSapply(cl, 1:15, function(x)\n",
    "    {\n",
    "        # partition data into train and test portions\n",
    "        idx <- splitTools::partition(rep(0,nrow(full_data)), p=c(train=0.7, test=0.3), type=\"stratified\")\n",
    "        \n",
    "        # retrieve train and test data\n",
    "        train_data <- full_data[idx$train,]\n",
    "        test_data <- full_data[idx$test,]\n",
    "        \n",
    "        # build the model\n",
    "        if (model == \"lr\") {\n",
    "            best_model<-sdgm::lr.bestmodel.bin(train_data, voutcome)\n",
    "        } else if (model == \"cart\") {\n",
    "            best_model<-sdgm::cart.bestmodel.bin(train_data, voutcome)\n",
    "        } else if (model == \"rf\") {\n",
    "            best_model<-sdgm::cart.bestmodel.bin(train_data, voutcome)\n",
    "        } else if (model == \"lgbm\") {\n",
    "            best_model<-sdgm::cart.bestmodel.bin(train_data, voutcome)\n",
    "        } else if (model == \"svm\") {\n",
    "            best_model<-sdgm::cart.bestmodel.bin(train_data, voutcome)\n",
    "        }\n",
    "        \n",
    "        # predict\n",
    "        preds<-predict(best_model, test_data)\n",
    "  \n",
    "        # calculate and return AUC and brier score\n",
    "         if (!is.null(preds))\n",
    "        {\n",
    "          test_auc <- sdgm::auc(preds, test_data[,voutcome] ) \n",
    "        } else {\n",
    "          test_auc <- NA\n",
    "          print(\"AUC calculation failed because there are no predicted values\")\n",
    "        }\n",
    "        print(paste0(\"AUC on C2 Data: \", test_auc))\n",
    "        \n",
    "         if (!is.null(preds))\n",
    "        {\n",
    "          test_brier <- sdgm::brier(preds, test_data[,voutcome] ) \n",
    "        } else {\n",
    "          test_brier <- NA\n",
    "          print(\"Brier calculation failed because there are no predicted values\")\n",
    "        }\n",
    "          print(paste0(\"Brier Score on C2 Data: \", test_brier))\n",
    "\n",
    "        c(test_auc, test_brier)\n",
    "    })\n",
    "    parallel::stopCluster(cl)\n",
    "    \n",
    "    # save results of the model\n",
    "    if (model == \"lr\") {\n",
    "        auc_split$lr <- res[1,]\n",
    "        brier_split$lr <- res[2,]\n",
    "    } else if (model == \"cart\") {\n",
    "        auc_split$cart <- res[1,]\n",
    "        brier_split$cart <- res[2,]\n",
    "    } else if (model == \"rf\") {\n",
    "        auc_split$rf <- res[1,]\n",
    "        brier_split$rf <- res[2,]\n",
    "    } else if (model == \"lgbm\") {\n",
    "        auc_split$lgbm <- res[1,]\n",
    "        brier_split$lgbm <- res[2,]\n",
    "    } else if (model == \"svm\") {\n",
    "        auc_split$svm <- res[1,]\n",
    "        brier_split$svm <- res[2,]\n",
    "    }\n",
    "}\n",
    "\n",
    "# save results\n",
    "res.split.df1 <- rbind(auc_split, brier_split)\n",
    "\n",
    "# print results\n",
    "print(res.split.df1)"
   ]
  },
  {
   "cell_type": "markdown",
   "id": "791aab18-5be7-4214-beba-7eb24b32db8b",
   "metadata": {},
   "source": [
    "Mimic the structure in the last cell, complete the below cell for nested CV. Remember to use parallel computing."
   ]
  },
  {
   "cell_type": "code",
   "execution_count": 38,
   "id": "12bacd08-e253-4b1e-9e58-85abb6ce127c",
   "metadata": {
    "tags": []
   },
   "outputs": [
    {
     "name": "stdout",
     "output_type": "stream",
     "text": [
      "        type metric        lr      cart        rf      lgbm       svm\n",
      "1  nested cv    auc 0.8800712 0.9360542 0.9766600 0.9930619 0.9889192\n",
      "2  nested cv    auc 0.8818544 0.9328486 0.9775309 0.9915695 0.9890308\n",
      "3  nested cv    auc 0.8806780 0.9364220 0.9773769 0.9914718 0.9889616\n",
      "4  nested cv    auc 0.8799912 0.9399572 0.9759649 0.9914885 0.9867965\n",
      "5  nested cv    auc 0.8808917 0.9342340 0.9773220 0.9899350 0.9882087\n",
      "6  nested cv    auc 0.8808848 0.9232185 0.9768224 0.9916523 0.9872321\n",
      "7  nested cv    auc 0.8805400 0.9246875 0.9775947 0.9920397 0.9894846\n",
      "8  nested cv    auc 0.8808567 0.9221357 0.9778776 0.9893818 0.9892102\n",
      "9  nested cv    auc 0.8800007 0.9257776 0.9751887 0.9911431 0.9855101\n",
      "10 nested cv    auc 0.8812678 0.9397477 0.9759442 0.9908715 0.9877028\n",
      "11 nested cv    auc 0.8810900 0.9374839 0.9770093 0.9914696 0.9866977\n",
      "12 nested cv    auc 0.8801596 0.9341720 0.9761474 0.9928005 0.9889067\n",
      "13 nested cv    auc 0.8806364 0.9403692 0.9788164 0.9908050 0.9867071\n",
      "14 nested cv    auc 0.8804718 0.9267860 0.9784038 0.9907988 0.9889796\n",
      "15 nested cv    auc 0.8809880 0.9261212 0.9775166 0.9906129 0.9893450\n",
      "16 nested cv  brier 0.4471823 0.6537791 0.7295515 0.8793620 0.8370511\n",
      "17 nested cv  brier 0.4502486 0.6138684 0.7346183 0.8565189 0.8385553\n",
      "18 nested cv  brier 0.4475986 0.6528903 0.7310289 0.8592956 0.8325342\n",
      "19 nested cv  brier 0.4461221 0.6635972 0.7226839 0.8621707 0.8311534\n",
      "20 nested cv  brier 0.4455578 0.6500245 0.7297586 0.8568767 0.8336976\n",
      "21 nested cv  brier 0.4461961 0.5973738 0.7317921 0.8625817 0.8304151\n",
      "22 nested cv  brier 0.4458580 0.6250047 0.7325777 0.8695171 0.8332258\n",
      "23 nested cv  brier 0.4427652 0.6048661 0.7309257 0.8533222 0.8423877\n",
      "24 nested cv  brier 0.4454607 0.6382184 0.7234062 0.8650172 0.8236172\n",
      "25 nested cv  brier 0.4481756 0.6541073 0.7265511 0.8558846 0.8336043\n",
      "26 nested cv  brier 0.4490978 0.6605958 0.7304840 0.8578389 0.8183166\n",
      "27 nested cv  brier 0.4491995 0.6397734 0.7268202 0.8738473 0.8276183\n",
      "28 nested cv  brier 0.4407775 0.6503603 0.7316297 0.8650597 0.8386995\n",
      "29 nested cv  brier 0.4437071 0.6367158 0.7307065 0.8669118 0.8419176\n",
      "30 nested cv  brier 0.4456487 0.6149177 0.7288186 0.8535589 0.8397479\n"
     ]
    }
   ],
   "source": [
    "# ============= repeated nested 5-fold CV ============= \n",
    "for (model in model_vec) {\n",
    "    # parallel computing\n",
    "    cl <- parallel::makeCluster(5)\n",
    "    parallel::clusterExport(cl, c(\"full_data\", \"voutcome\", \"model\"), envir = environment())\n",
    "    \n",
    "    # this is the repeated loop\n",
    "    res <- parallel::parSapply(cl, seq(15), function(i) \n",
    "    {\n",
    "        # this is the nested CV outer loop\n",
    "        nested_res <- sapply(caret::createFolds(full_data[, voutcome], k=5), function(x) \n",
    "        {\n",
    "            testInds <- x\n",
    "            trnInds <- setdiff(1:nrow(full_data), testInds)\n",
    "            train_data <- full_data[trnInds,]\n",
    "            test_data <- full_data[testInds,]\n",
    "\n",
    "            if (model == \"lr\") {\n",
    "                best_model <- sdgm::lr.bestmodel.bin(train_data, voutcome)\n",
    "            } else if (model == \"cart\") {\n",
    "                best_model <- sdgm::cart.bestmodel.bin(train_data, voutcome)\n",
    "            } else if (model == \"rf\") {\n",
    "                best_model <- sdgm::rf.bestmodel.bin(train_data, voutcome)\n",
    "            } else if (model == \"lgbm\") {\n",
    "                best_model <- sdgm::lgbm.bestmodel.bin(train_data, voutcome)\n",
    "            } else if (model == \"svm\") {\n",
    "                best_model <- sdgm::svm.bestmodel.bin(train_data, voutcome)\n",
    "            }\n",
    "            \n",
    "            #predict\n",
    "            preds <- predict(best_model, test_data)\n",
    "            \n",
    "            # calculate and return AUC and brier score\n",
    "             if (!is.null(preds)) {\n",
    "                nested_auc <- sdgm::auc(preds, test_data[, voutcome])\n",
    "                nested_brier <- sdgm::brier(preds, test_data[, voutcome])\n",
    "            } else {\n",
    "                nested_auc <- NA\n",
    "                nested_brier <- NA\n",
    "            }\n",
    "\n",
    "            c(nested_auc, nested_brier)\n",
    "        })\n",
    "        nested_cv_auc <- mean(nested_res[1,], na.rm=T)\n",
    "        nested_cv_brier <- mean(nested_res[2,], na.rm=T)\n",
    "                               \n",
    "        c(nested_cv_auc, nested_cv_brier)\n",
    "    })\n",
    "    parallel::stopCluster(cl)\n",
    "    \n",
    "    # save results of the model\n",
    "    if (model == \"lr\") {\n",
    "        auc_cv$lr <- res[1,]\n",
    "        brier_cv$lr <- res[2,]\n",
    "    } else if (model == \"cart\") {\n",
    "        auc_cv$cart <- res[1,]\n",
    "        brier_cv$cart <- res[2,]\n",
    "    } else if (model == \"rf\") {\n",
    "        auc_cv$rf <- res[1,]\n",
    "        brier_cv$rf <- res[2,]\n",
    "    } else if (model == \"lgbm\") {\n",
    "        auc_cv$lgbm <- res[1,]\n",
    "        brier_cv$lgbm <- res[2,]\n",
    "    } else if (model == \"svm\") {\n",
    "        auc_cv$svm <- res[1,]\n",
    "        brier_cv$svm <- res[2,]\n",
    "    }\n",
    "}\n",
    "\n",
    "# save results\n",
    "res.cv.df1 <- rbind(auc_cv, brier_cv)\n",
    "\n",
    "print(res.cv.df1)"
   ]
  },
  {
   "cell_type": "code",
   "execution_count": 39,
   "id": "bbc24026-771f-475b-bc2c-c0ab88f3abcd",
   "metadata": {
    "tags": []
   },
   "outputs": [
    {
     "data": {
      "image/png": "[encoded data removed]",
      "text/plain": [
       "plot without title"
      ]
     },
     "metadata": {
      "image/png": {
       "height": 360,
       "width": 1080
      }
     },
     "output_type": "display_data"
    }
   ],
   "source": [
    "auc.df1 <- rbind(res.split.df1 %>% filter(metric == \"auc\"), \n",
    "                 res.cv.df1 %>% filter(metric == \"auc\"))\n",
    "\n",
    "# pivot the dataframe from wide to long for plotting\n",
    "auc.df1.long <- auc.df1 %>% \n",
    "    tidyr::pivot_longer(-c(type, metric), \n",
    "                        names_to = \"model\",\n",
    "                        values_to = \"auc\")\n",
    "auc.df1.long$model <- factor(auc.df1.long$model, \n",
    "                         levels = c(\"lr\", \"cart\", \"rf\", \"lgbm\", \"svm\"))\n",
    "auc.df1.long$type <- factor(auc.df1.long$type, \n",
    "                         levels = c(\"train/test split\", \"nested cv\"))\n",
    "\n",
    "# Plot the violin plot\n",
    "ggplot(auc.df1.long, aes(model, auc, fill = model)) + \n",
    "    geom_violin(alpha = 0.5, draw_quantiles = c(0.25, 0.5, 0.75))+ \n",
    "    facet_wrap(~type)"
   ]
  },
  {
   "cell_type": "code",
   "execution_count": 40,
   "id": "1972497b-9422-439f-836b-8ae83017f6a2",
   "metadata": {
    "tags": []
   },
   "outputs": [
    {
     "data": {
      "image/png": "[encoded data removed]",
      "text/plain": [
       "plot without title"
      ]
     },
     "metadata": {
      "image/png": {
       "height": 360,
       "width": 1080
      }
     },
     "output_type": "display_data"
    }
   ],
   "source": [
    "brier.df1 <- rbind(res.split.df1 %>% filter(metric == \"brier\"), \n",
    "                   res.cv.df1 %>% filter(metric == \"brier\"))\n",
    "\n",
    "# pivot the dataframe from wide to long for plotting\n",
    "brier.df1.long <- brier.df1 %>% \n",
    "    tidyr::pivot_longer(-c(type,metric), \n",
    "                        names_to = \"model\",\n",
    "                        values_to = \"brier\")\n",
    "brier.df1.long$model <- factor(brier.df1.long$model, \n",
    "                         levels = c(\"lr\", \"cart\", \"rf\", \"lgbm\", \"svm\"))\n",
    "brier.df1.long$type <- factor(brier.df1.long$type, \n",
    "                         levels = c(\"train/test split\", \"nested cv\"))\n",
    "\n",
    "# Plot the violin plot\n",
    "ggplot(brier.df1.long, aes(model, brier, fill = model)) + \n",
    "    geom_violin(alpha = 0.5, draw_quantiles = c(0.25, 0.5, 0.75))+ \n",
    "    facet_wrap(~type)"
   ]
  },
  {
   "cell_type": "markdown",
   "id": "8256f3ff-39c2-4a4b-ba1f-82e7e83f8054",
   "metadata": {},
   "source": [
    "### Question 1.3: Based on the above violin plot, which model is the best one? Why?"
   ]
  },
  {
   "cell_type": "markdown",
   "id": "18745b47-e439-4734-8d52-54a3aceacb50",
   "metadata": {},
   "source": [
    "## Dataset 2: `sdgm::C3` Breast Cancer Wisconsin\n",
    "\n",
    "For more details about this dataset, see [here](https://archive.ics.uci.edu/dataset/15/breast+cancer+wisconsin+original)"
   ]
  },
  {
   "cell_type": "code",
   "execution_count": 77,
   "id": "0c3b1f2c-3958-4f27-810d-c6cb9784ae7b",
   "metadata": {
    "tags": []
   },
   "outputs": [
    {
     "data": {
      "text/html": [
       "\n",
       "<table style=\"width: 100%;\"><tr><td>C3 {sdgm}</td><td style=\"text-align: right;\">R Documentation</td></tr></table>\n",
       "\n",
       "<h2 id='C3'>Breast Cancer Wisconsin</h2>\n",
       "\n",
       "<h3>Description</h3>\n",
       "\n",
       "<p>Diagnostic Wisconsin Breast Cancer Database.\n",
       "Target variable: class, 2 levels\n",
       "Classification type: binomial logistic regression\n",
       "</p>\n",
       "\n",
       "\n",
       "<h3>Usage</h3>\n",
       "\n",
       "<pre><code class='language-R'>C3\n",
       "</code></pre>\n",
       "\n",
       "\n",
       "<h3>Format</h3>\n",
       "\n",
       "<p>An object of class <code>data.frame</code> with 683 rows and 10 columns.\n",
       "</p>\n",
       "\n",
       "\n",
       "<h3>Source</h3>\n",
       "\n",
       "<p><a href=\"https://jmir.org/api/download?alt_name=medinform_v10i4e35734_app1.pdf&amp;filename=04ce0b2aec244210e4503631ee243fd0.pdf\">JMIR Article</a>\n",
       "</p>\n",
       "\n",
       "\n",
       "<h3>Examples</h3>\n",
       "\n",
       "<pre><code class='language-R'>data = sdgd::C3\n",
       "data$Class = as.factor(data$Class)\n",
       "glm(Class~., data = data, family = 'binomial')\n",
       "\n",
       "</code></pre>\n",
       "\n",
       "<hr /><div style=\"text-align: center;\">[Package <em>sdgm</em> version 0.39 ]</div>\n",
       "</div>"
      ],
      "text/latex": [
       "\\inputencoding{utf8}\n",
       "\\HeaderA{C3}{Breast Cancer Wisconsin}{C3}\n",
       "\\keyword{datasets}{C3}\n",
       "%\n",
       "\\begin{Description}\n",
       "Diagnostic Wisconsin Breast Cancer Database.\n",
       "Target variable: class, 2 levels\n",
       "Classification type: binomial logistic regression\n",
       "\\end{Description}\n",
       "%\n",
       "\\begin{Usage}\n",
       "\\begin{verbatim}\n",
       "C3\n",
       "\\end{verbatim}\n",
       "\\end{Usage}\n",
       "%\n",
       "\\begin{Format}\n",
       "An object of class \\code{data.frame} with 683 rows and 10 columns.\n",
       "\\end{Format}\n",
       "%\n",
       "\\begin{Source}\n",
       "\\Rhref{https://jmir.org/api/download?alt_name=medinform_v10i4e35734_app1.pdf\\&filename=04ce0b2aec244210e4503631ee243fd0.pdf}{JMIR Article}\n",
       "\\end{Source}\n",
       "%\n",
       "\\begin{Examples}\n",
       "\\begin{ExampleCode}\n",
       "data = sdgd::C3\n",
       "data$Class = as.factor(data$Class)\n",
       "glm(Class~., data = data, family = 'binomial')\n",
       "\n",
       "\\end{ExampleCode}\n",
       "\\end{Examples}"
      ],
      "text/plain": [
       "C3                    package:sdgm                     R Documentation\n",
       "\n",
       "_\bB_\br_\be_\ba_\bs_\bt _\bC_\ba_\bn_\bc_\be_\br _\bW_\bi_\bs_\bc_\bo_\bn_\bs_\bi_\bn\n",
       "\n",
       "_\bD_\be_\bs_\bc_\br_\bi_\bp_\bt_\bi_\bo_\bn:\n",
       "\n",
       "     Diagnostic Wisconsin Breast Cancer Database. Target variable:\n",
       "     class, 2 levels Classification type: binomial logistic regression\n",
       "\n",
       "_\bU_\bs_\ba_\bg_\be:\n",
       "\n",
       "     C3\n",
       "     \n",
       "_\bF_\bo_\br_\bm_\ba_\bt:\n",
       "\n",
       "     An object of class ‘data.frame’ with 683 rows and 10 columns.\n",
       "\n",
       "_\bS_\bo_\bu_\br_\bc_\be:\n",
       "\n",
       "     JMIR Article\n",
       "\n",
       "_\bE_\bx_\ba_\bm_\bp_\bl_\be_\bs:\n",
       "\n",
       "     data = sdgd::C3\n",
       "     data$Class = as.factor(data$Class)\n",
       "     glm(Class~., data = data, family = 'binomial')\n",
       "     "
      ]
     },
     "metadata": {},
     "output_type": "display_data"
    }
   ],
   "source": [
    "# show the description of this dataset\n",
    "?sdgm::C3"
   ]
  },
  {
   "cell_type": "code",
   "execution_count": 78,
   "id": "5cd97182-a018-46a8-9117-6b67579e76fe",
   "metadata": {
    "tags": []
   },
   "outputs": [
    {
     "data": {
      "text/html": [
       "<table class=\"dataframe\">\n",
       "<caption>A data.frame: 6 × 10</caption>\n",
       "<thead>\n",
       "\t<tr><th></th><th scope=col>ClumpThickness</th><th scope=col>UniformityCellSize</th><th scope=col>UniformityCellShape</th><th scope=col>MarginalAdhesion</th><th scope=col>SingleEpithelialCellSize</th><th scope=col>BareNuclei</th><th scope=col>BlandChromatin</th><th scope=col>NormalNucleoli</th><th scope=col>Mitosis</th><th scope=col>Class</th></tr>\n",
       "\t<tr><th></th><th scope=col>&lt;int&gt;</th><th scope=col>&lt;int&gt;</th><th scope=col>&lt;int&gt;</th><th scope=col>&lt;int&gt;</th><th scope=col>&lt;int&gt;</th><th scope=col>&lt;int&gt;</th><th scope=col>&lt;int&gt;</th><th scope=col>&lt;int&gt;</th><th scope=col>&lt;int&gt;</th><th scope=col>&lt;chr&gt;</th></tr>\n",
       "</thead>\n",
       "<tbody>\n",
       "\t<tr><th scope=row>1</th><td>5</td><td> 1</td><td> 1</td><td>1</td><td>2</td><td> 1</td><td>3</td><td>1</td><td>1</td><td>'2'</td></tr>\n",
       "\t<tr><th scope=row>2</th><td>5</td><td> 4</td><td> 4</td><td>5</td><td>7</td><td>10</td><td>3</td><td>2</td><td>1</td><td>'2'</td></tr>\n",
       "\t<tr><th scope=row>3</th><td>3</td><td> 1</td><td> 1</td><td>1</td><td>2</td><td> 2</td><td>3</td><td>1</td><td>1</td><td>'2'</td></tr>\n",
       "\t<tr><th scope=row>4</th><td>6</td><td> 8</td><td> 8</td><td>1</td><td>3</td><td> 4</td><td>3</td><td>7</td><td>1</td><td>'2'</td></tr>\n",
       "\t<tr><th scope=row>5</th><td>4</td><td> 1</td><td> 1</td><td>3</td><td>2</td><td> 1</td><td>3</td><td>1</td><td>1</td><td>'2'</td></tr>\n",
       "\t<tr><th scope=row>6</th><td>8</td><td>10</td><td>10</td><td>8</td><td>7</td><td>10</td><td>9</td><td>7</td><td>1</td><td>'4'</td></tr>\n",
       "</tbody>\n",
       "</table>\n"
      ],
      "text/latex": [
       "A data.frame: 6 × 10\n",
       "\\begin{tabular}{r|llllllllll}\n",
       "  & ClumpThickness & UniformityCellSize & UniformityCellShape & MarginalAdhesion & SingleEpithelialCellSize & BareNuclei & BlandChromatin & NormalNucleoli & Mitosis & Class\\\\\n",
       "  & <int> & <int> & <int> & <int> & <int> & <int> & <int> & <int> & <int> & <chr>\\\\\n",
       "\\hline\n",
       "\t1 & 5 &  1 &  1 & 1 & 2 &  1 & 3 & 1 & 1 & '2'\\\\\n",
       "\t2 & 5 &  4 &  4 & 5 & 7 & 10 & 3 & 2 & 1 & '2'\\\\\n",
       "\t3 & 3 &  1 &  1 & 1 & 2 &  2 & 3 & 1 & 1 & '2'\\\\\n",
       "\t4 & 6 &  8 &  8 & 1 & 3 &  4 & 3 & 7 & 1 & '2'\\\\\n",
       "\t5 & 4 &  1 &  1 & 3 & 2 &  1 & 3 & 1 & 1 & '2'\\\\\n",
       "\t6 & 8 & 10 & 10 & 8 & 7 & 10 & 9 & 7 & 1 & '4'\\\\\n",
       "\\end{tabular}\n"
      ],
      "text/markdown": [
       "\n",
       "A data.frame: 6 × 10\n",
       "\n",
       "| <!--/--> | ClumpThickness &lt;int&gt; | UniformityCellSize &lt;int&gt; | UniformityCellShape &lt;int&gt; | MarginalAdhesion &lt;int&gt; | SingleEpithelialCellSize &lt;int&gt; | BareNuclei &lt;int&gt; | BlandChromatin &lt;int&gt; | NormalNucleoli &lt;int&gt; | Mitosis &lt;int&gt; | Class &lt;chr&gt; |\n",
       "|---|---|---|---|---|---|---|---|---|---|---|\n",
       "| 1 | 5 |  1 |  1 | 1 | 2 |  1 | 3 | 1 | 1 | '2' |\n",
       "| 2 | 5 |  4 |  4 | 5 | 7 | 10 | 3 | 2 | 1 | '2' |\n",
       "| 3 | 3 |  1 |  1 | 1 | 2 |  2 | 3 | 1 | 1 | '2' |\n",
       "| 4 | 6 |  8 |  8 | 1 | 3 |  4 | 3 | 7 | 1 | '2' |\n",
       "| 5 | 4 |  1 |  1 | 3 | 2 |  1 | 3 | 1 | 1 | '2' |\n",
       "| 6 | 8 | 10 | 10 | 8 | 7 | 10 | 9 | 7 | 1 | '4' |\n",
       "\n"
      ],
      "text/plain": [
       "  ClumpThickness UniformityCellSize UniformityCellShape MarginalAdhesion\n",
       "1 5               1                  1                  1               \n",
       "2 5               4                  4                  5               \n",
       "3 3               1                  1                  1               \n",
       "4 6               8                  8                  1               \n",
       "5 4               1                  1                  3               \n",
       "6 8              10                 10                  8               \n",
       "  SingleEpithelialCellSize BareNuclei BlandChromatin NormalNucleoli Mitosis\n",
       "1 2                         1         3              1              1      \n",
       "2 7                        10         3              2              1      \n",
       "3 2                         2         3              1              1      \n",
       "4 3                         4         3              7              1      \n",
       "5 2                         1         3              1              1      \n",
       "6 7                        10         9              7              1      \n",
       "  Class\n",
       "1 '2'  \n",
       "2 '2'  \n",
       "3 '2'  \n",
       "4 '2'  \n",
       "5 '2'  \n",
       "6 '4'  "
      ]
     },
     "metadata": {},
     "output_type": "display_data"
    },
    {
     "data": {
      "text/html": [
       "<style>\n",
       ".list-inline {list-style: none; margin:0; padding: 0}\n",
       ".list-inline>li {display: inline-block}\n",
       ".list-inline>li:not(:last-child)::after {content: \"\\00b7\"; padding: 0 .5ex}\n",
       "</style>\n",
       "<ol class=list-inline><li>683</li><li>10</li></ol>\n"
      ],
      "text/latex": [
       "\\begin{enumerate*}\n",
       "\\item 683\n",
       "\\item 10\n",
       "\\end{enumerate*}\n"
      ],
      "text/markdown": [
       "1. 683\n",
       "2. 10\n",
       "\n",
       "\n"
      ],
      "text/plain": [
       "[1] 683  10"
      ]
     },
     "metadata": {},
     "output_type": "display_data"
    }
   ],
   "source": [
    "# first glance of the dataset\n",
    "full_data <- sdgm::C3\n",
    "head(full_data)\n",
    "dim(full_data)"
   ]
  },
  {
   "cell_type": "code",
   "execution_count": 79,
   "id": "540af2f1-b08a-4afe-8019-76a297ddcdf2",
   "metadata": {
    "tags": []
   },
   "outputs": [],
   "source": [
    "# Convert characters to numbers. Note because of the special format in the data, `as.numeric` doesn't work here.\n",
    "# The code below is to extract numbers from strings\n",
    "full_data$Class <- as.numeric(gsub(\"\\\\D\", \"\", full_data$Class))"
   ]
  },
  {
   "cell_type": "code",
   "execution_count": 80,
   "id": "1388a44d-012e-415e-91e9-1c47e13328c3",
   "metadata": {
    "tags": []
   },
   "outputs": [
    {
     "data": {
      "text/plain": [
       " ClumpThickness   UniformityCellSize UniformityCellShape MarginalAdhesion\n",
       " Min.   : 1.000   Min.   : 1.000     Min.   : 1.000      Min.   : 1.00   \n",
       " 1st Qu.: 2.000   1st Qu.: 1.000     1st Qu.: 1.000      1st Qu.: 1.00   \n",
       " Median : 4.000   Median : 1.000     Median : 1.000      Median : 1.00   \n",
       " Mean   : 4.442   Mean   : 3.151     Mean   : 3.215      Mean   : 2.83   \n",
       " 3rd Qu.: 6.000   3rd Qu.: 5.000     3rd Qu.: 5.000      3rd Qu.: 4.00   \n",
       " Max.   :10.000   Max.   :10.000     Max.   :10.000      Max.   :10.00   \n",
       " SingleEpithelialCellSize   BareNuclei     BlandChromatin   NormalNucleoli \n",
       " Min.   : 1.000           Min.   : 1.000   Min.   : 1.000   Min.   : 1.00  \n",
       " 1st Qu.: 2.000           1st Qu.: 1.000   1st Qu.: 2.000   1st Qu.: 1.00  \n",
       " Median : 2.000           Median : 1.000   Median : 3.000   Median : 1.00  \n",
       " Mean   : 3.234           Mean   : 3.545   Mean   : 3.445   Mean   : 2.87  \n",
       " 3rd Qu.: 4.000           3rd Qu.: 6.000   3rd Qu.: 5.000   3rd Qu.: 4.00  \n",
       " Max.   :10.000           Max.   :10.000   Max.   :10.000   Max.   :10.00  \n",
       "    Mitosis           Class    \n",
       " Min.   : 1.000   Min.   :2.0  \n",
       " 1st Qu.: 1.000   1st Qu.:2.0  \n",
       " Median : 1.000   Median :2.0  \n",
       " Mean   : 1.603   Mean   :2.7  \n",
       " 3rd Qu.: 1.000   3rd Qu.:4.0  \n",
       " Max.   :10.000   Max.   :4.0  "
      ]
     },
     "metadata": {},
     "output_type": "display_data"
    },
    {
     "data": {
      "text/plain": [
       "\n",
       "  2   4 \n",
       "444 239 "
      ]
     },
     "metadata": {},
     "output_type": "display_data"
    }
   ],
   "source": [
    "# Check the data now\n",
    "summary(full_data)\n",
    "\n",
    "# Check the outcome variable\n",
    "table(full_data$Class)"
   ]
  },
  {
   "cell_type": "markdown",
   "id": "1c126e04-71cd-4998-a30c-c8d00db2c770",
   "metadata": {
    "tags": []
   },
   "source": [
    "### Question 2.1: Based on what you have learnt about the dataset, is there anything should be done to prepare the data?\n",
    "\n",
    "**Hint 1:** Are all the variables in the correct variable type?\n",
    "\n",
    "**Hint 2 (Important!):** As per some models' requirement, the outcome variable has to be a numeric variable between 0 and 1.\n",
    "\n",
    "***Note:*** Some datasets need a bit of data preparation and some don't. If you think this one needs to be prepared, choose \"yes\" and add your code in the below cell. Otherwise, choose \"no\" and leave the below cell unchanged.\n",
    "\n",
    "Your answer: yes"
   ]
  },
  {
   "cell_type": "code",
   "execution_count": 81,
   "id": "b4f74ef8-0e11-4045-b008-4c4a33c16260",
   "metadata": {
    "tags": []
   },
   "outputs": [
    {
     "data": {
      "text/plain": [
       "\n",
       "  0   1 \n",
       "444 239 "
      ]
     },
     "metadata": {},
     "output_type": "display_data"
    },
    {
     "data": {
      "text/plain": [
       " ClumpThickness   UniformityCellSize UniformityCellShape MarginalAdhesion\n",
       " Min.   : 1.000   Min.   : 1.000     Min.   : 1.000      Min.   : 1.00   \n",
       " 1st Qu.: 2.000   1st Qu.: 1.000     1st Qu.: 1.000      1st Qu.: 1.00   \n",
       " Median : 4.000   Median : 1.000     Median : 1.000      Median : 1.00   \n",
       " Mean   : 4.442   Mean   : 3.151     Mean   : 3.215      Mean   : 2.83   \n",
       " 3rd Qu.: 6.000   3rd Qu.: 5.000     3rd Qu.: 5.000      3rd Qu.: 4.00   \n",
       " Max.   :10.000   Max.   :10.000     Max.   :10.000      Max.   :10.00   \n",
       " SingleEpithelialCellSize   BareNuclei     BlandChromatin   NormalNucleoli \n",
       " Min.   : 1.000           Min.   : 1.000   Min.   : 1.000   Min.   : 1.00  \n",
       " 1st Qu.: 2.000           1st Qu.: 1.000   1st Qu.: 2.000   1st Qu.: 1.00  \n",
       " Median : 2.000           Median : 1.000   Median : 3.000   Median : 1.00  \n",
       " Mean   : 3.234           Mean   : 3.545   Mean   : 3.445   Mean   : 2.87  \n",
       " 3rd Qu.: 4.000           3rd Qu.: 6.000   3rd Qu.: 5.000   3rd Qu.: 4.00  \n",
       " Max.   :10.000           Max.   :10.000   Max.   :10.000   Max.   :10.00  \n",
       "    Mitosis           Class       \n",
       " Min.   : 1.000   Min.   :0.0000  \n",
       " 1st Qu.: 1.000   1st Qu.:0.0000  \n",
       " Median : 1.000   Median :0.0000  \n",
       " Mean   : 1.603   Mean   :0.3499  \n",
       " 3rd Qu.: 1.000   3rd Qu.:1.0000  \n",
       " Max.   :10.000   Max.   :1.0000  "
      ]
     },
     "metadata": {},
     "output_type": "display_data"
    }
   ],
   "source": [
    "# The data preparation step if needed\n",
    "full_data$Class <- ifelse(full_data$Class == 2, 0, ifelse(full_data$Class == 4, 1, full_data$Class))\n",
    "table(full_data$Class)\n",
    "\n",
    "# Check the data now\n",
    "summary(full_data)"
   ]
  },
  {
   "cell_type": "markdown",
   "id": "e3c63bdc-6fcd-4b4b-87ec-12bb52d43898",
   "metadata": {},
   "source": [
    "### Question 2.2: Build five different models and evaluate them"
   ]
  },
  {
   "cell_type": "code",
   "execution_count": 83,
   "id": "8f3e93d0-5b6a-4035-8050-81c010fa34da",
   "metadata": {
    "tags": []
   },
   "outputs": [],
   "source": [
    "# define the outcome variable\n",
    "voutcome <- \"Class\""
   ]
  },
  {
   "cell_type": "markdown",
   "id": "594d8d43-7761-4c3a-b5e6-de8a403f85fa",
   "metadata": {},
   "source": [
    "Based on what you have done for Dataset 1, complete the below cells of this dataset. Remember to use parallel computing."
   ]
  },
  {
   "cell_type": "code",
   "execution_count": 84,
   "id": "3b70f229-9e95-4d3c-8939-605177b5bf1f",
   "metadata": {
    "tags": []
   },
   "outputs": [
    {
     "name": "stdout",
     "output_type": "stream",
     "text": [
      "               type metric        lr      cart        rf      lgbm       svm\n",
      "1  train/test split    auc 0.9651852 0.9223379 0.9308724 0.9295879 0.9561538\n",
      "2  train/test split    auc 0.9485095 0.9229210 0.9497703 0.9288856 0.9474820\n",
      "3  train/test split    auc 0.9293421 0.9479104 0.9558748 0.9420970 0.9370791\n",
      "4  train/test split    auc 0.9326641 0.9458496 0.9372808 0.9584589 0.9648437\n",
      "5  train/test split    auc 0.9573483 0.9708574 0.9409983 0.9176941 0.9582429\n",
      "6  train/test split    auc 0.9484656 0.9289066 0.9444735 0.9317484 0.9444084\n",
      "7  train/test split    auc 0.9384656 0.9226374 0.9397089 0.9351371 0.9447090\n",
      "8  train/test split    auc 0.9565264 0.9422564 0.9346413 0.9362828 0.9249735\n",
      "9  train/test split    auc 0.9676663 0.9364344 0.9574388 0.9508379 0.9476546\n",
      "10 train/test split    auc 0.9542119 0.9465128 0.9470375 0.9284213 0.9401408\n",
      "11 train/test split    auc 0.9379058 0.9506763 0.9270359 0.9458281 0.9548144\n",
      "12 train/test split    auc 0.9221839 0.9252381 0.9416713 0.9409983 0.9394714\n",
      "13 train/test split    auc 0.9463864 0.9268973 0.9446573 0.9322609 0.9351391\n",
      "14 train/test split    auc 0.9568607 0.9566138 0.9588170 0.9791145 0.9477500\n",
      "15 train/test split    auc 0.9418837 0.9788981 0.9545932 0.9386813 0.9573643\n",
      "16 train/test split  brier 0.7612346 0.6308797 0.6877115 0.6166184 0.8101897\n",
      "17 train/test split  brier 0.7543534 0.6950519 0.7690060 0.6975083 0.7130918\n",
      "18 train/test split  brier 0.6051889 0.7882331 0.7285762 0.6909371 0.6867949\n",
      "19 train/test split  brier 0.6327990 0.7424796 0.7433984 0.7980136 0.7919185\n",
      "20 train/test split  brier 0.7327526 0.7723229 0.7297881 0.6342543 0.8034596\n",
      "21 train/test split  brier 0.6703433 0.6619538 0.7644655 0.7279246 0.8069216\n",
      "22 train/test split  brier 0.5696922 0.7061614 0.7625886 0.7415982 0.7219071\n",
      "23 train/test split  brier 0.7141114 0.7682445 0.6856236 0.7192822 0.6851920\n",
      "24 train/test split  brier 0.6709139 0.7404057 0.8108510 0.7762256 0.7787614\n",
      "25 train/test split  brier 0.7469827 0.7831422 0.7749623 0.6882939 0.7158718\n",
      "26 train/test split  brier 0.6287986 0.7565986 0.6042312 0.7274586 0.8212412\n",
      "27 train/test split  brier 0.5723624 0.6985752 0.7019727 0.7377315 0.7250823\n",
      "28 train/test split  brier 0.6651788 0.6629370 0.7567939 0.7500149 0.6892892\n",
      "29 train/test split  brier 0.7307914 0.7359066 0.7484379 0.8350194 0.7403961\n",
      "30 train/test split  brier 0.6554550 0.8333397 0.8007524 0.7351639 0.7797629\n"
     ]
    }
   ],
   "source": [
    "# ============= 15 repeated train/test split ============= \n",
    "for (model in model_vec) {\n",
    "    \n",
    "    # parallel computing\n",
    "    cl<-parallel::makeCluster(5)\n",
    "    parallel::clusterExport(cl, c(\"full_data\", \"voutcome\", \"model\"), envir = environment() )\n",
    "    \n",
    "    res <- parallel::parSapply(cl, 1:15, function(x)\n",
    "    {\n",
    "        # partition data into train and test portions\n",
    "        idx <- splitTools::partition(rep(0,nrow(full_data)), p=c(train=0.7, test=0.3), type=\"stratified\")\n",
    "        \n",
    "        # retrieve train and test data\n",
    "        train_data <- full_data[idx$train,]\n",
    "        test_data <- full_data[idx$test,]\n",
    "        \n",
    "        # build the model\n",
    "        if (model == \"lr\") {\n",
    "            best_model<-sdgm::lr.bestmodel.bin(train_data, voutcome)\n",
    "        } else if (model == \"cart\") {\n",
    "            best_model<-sdgm::cart.bestmodel.bin(train_data, voutcome)\n",
    "        } else if (model == \"rf\") {\n",
    "            best_model<-sdgm::cart.bestmodel.bin(train_data, voutcome)\n",
    "        } else if (model == \"lgbm\") {\n",
    "            best_model<-sdgm::cart.bestmodel.bin(train_data, voutcome)\n",
    "        } else if (model == \"svm\") {\n",
    "            best_model<-sdgm::cart.bestmodel.bin(train_data, voutcome)\n",
    "        }\n",
    "        \n",
    "        # predict\n",
    "        preds<-predict(best_model, test_data)\n",
    "  \n",
    "        # calculate and return AUC and brier score\n",
    "         if (!is.null(preds))\n",
    "        {\n",
    "          test_auc <- sdgm::auc(preds, test_data[,voutcome] ) \n",
    "        } else {\n",
    "          test_auc <- NA\n",
    "          print(\"AUC calculation failed because there are no predicted values\")\n",
    "        }\n",
    "        print(paste0(\"AUC on C3 Data: \", test_auc))\n",
    "        \n",
    "         if (!is.null(preds))\n",
    "        {\n",
    "          test_brier <- sdgm::brier(preds, test_data[,voutcome] ) \n",
    "        } else {\n",
    "          test_brier <- NA\n",
    "          print(\"Brier calculation failed because there are no predicted values\")\n",
    "        }\n",
    "          print(paste0(\"Brier Score on C3 Data: \", test_brier))\n",
    "\n",
    "        c(test_auc, test_brier)\n",
    "    })\n",
    "    parallel::stopCluster(cl)\n",
    "    \n",
    "    # save results of the model\n",
    "    if (model == \"lr\") {\n",
    "        auc_split$lr <- res[1,]\n",
    "        brier_split$lr <- res[2,]\n",
    "    } else if (model == \"cart\") {\n",
    "        auc_split$cart <- res[1,]\n",
    "        brier_split$cart <- res[2,]\n",
    "    } else if (model == \"rf\") {\n",
    "        auc_split$rf <- res[1,]\n",
    "        brier_split$rf <- res[2,]\n",
    "    } else if (model == \"lgbm\") {\n",
    "        auc_split$lgbm <- res[1,]\n",
    "        brier_split$lgbm <- res[2,]\n",
    "    } else if (model == \"svm\") {\n",
    "        auc_split$svm <- res[1,]\n",
    "        brier_split$svm <- res[2,]\n",
    "    }\n",
    "}\n",
    "\n",
    "# save results\n",
    "res.split.df2 <- rbind(auc_split, brier_split)\n",
    "\n",
    "# print results\n",
    "print(res.split.df2)  "
   ]
  },
  {
   "cell_type": "code",
   "execution_count": 85,
   "id": "6eb501ad-0347-4a27-9adb-d428e5061886",
   "metadata": {
    "tags": []
   },
   "outputs": [
    {
     "name": "stdout",
     "output_type": "stream",
     "text": [
      "        type metric        lr      cart        rf      lgbm       svm\n",
      "1  nested cv    auc 0.9512892 0.9494182 0.9921359 0.9924689 0.9937693\n",
      "2  nested cv    auc 0.9364560 0.9509556 0.9920406 0.9915584 0.9948747\n",
      "3  nested cv    auc 0.9515091 0.9498723 0.9918145 0.9899491 0.9941742\n",
      "4  nested cv    auc 0.9459142 0.9524355 0.9921213 0.9916444 0.9946987\n",
      "5  nested cv    auc 0.9478185 0.9557283 0.9923839 0.9916571 0.9942805\n",
      "6  nested cv    auc 0.9388701 0.9423536 0.9924785 0.9906304 0.9943931\n",
      "7  nested cv    auc 0.9421833 0.9406718 0.9912108 0.9926505 0.9955541\n",
      "8  nested cv    auc 0.9505085 0.9438981 0.9923559 0.9922441 0.9946319\n",
      "9  nested cv    auc 0.9625195 0.9439238 0.9913406 0.9921508 0.9925515\n",
      "10 nested cv    auc 0.9364892 0.9584787 0.9921067 0.9930894 0.9952923\n",
      "11 nested cv    auc 0.9395923 0.9465222 0.9923806 0.9898561 0.9935616\n",
      "12 nested cv    auc 0.9431632 0.9426370 0.9918170 0.9905256 0.9915238\n",
      "13 nested cv    auc 0.9480531 0.9546212 0.9931520 0.9924527 0.9942179\n",
      "14 nested cv    auc 0.9303696 0.9418937 0.9921402 0.9886631 0.9938685\n",
      "15 nested cv    auc 0.9500129 0.9468367 0.9904935 0.9908645 0.9945129\n",
      "16 nested cv  brier 0.7155293 0.7352181 0.8651495 0.8652058 0.8934009\n",
      "17 nested cv  brier 0.6968760 0.7491401 0.8673118 0.8839783 0.8914377\n",
      "18 nested cv  brier 0.6993134 0.7825722 0.8707032 0.8771625 0.8906802\n",
      "19 nested cv  brier 0.6677145 0.7865483 0.8658404 0.8852940 0.8897450\n",
      "20 nested cv  brier 0.6559178 0.7779164 0.8691984 0.8798720 0.9032271\n",
      "21 nested cv  brier 0.6570867 0.7334534 0.8682891 0.8727212 0.8952704\n",
      "22 nested cv  brier 0.6758718 0.7427309 0.8649233 0.8857388 0.8989854\n",
      "23 nested cv  brier 0.6811813 0.7356233 0.8636077 0.8747176 0.8993476\n",
      "24 nested cv  brier 0.6972614 0.7616587 0.8728053 0.8898691 0.8876217\n",
      "25 nested cv  brier 0.6132379 0.7813711 0.8679189 0.8862316 0.8894393\n",
      "26 nested cv  brier 0.6592704 0.7682698 0.8678861 0.8800432 0.8826832\n",
      "27 nested cv  brier 0.6399786 0.7686095 0.8703012 0.8726472 0.8787342\n",
      "28 nested cv  brier 0.6613664 0.7729189 0.8726350 0.8873058 0.8951601\n",
      "29 nested cv  brier 0.6228250 0.7328703 0.8647570 0.8757173 0.8976330\n",
      "30 nested cv  brier 0.6787104 0.7571977 0.8651599 0.8760218 0.8969296\n"
     ]
    }
   ],
   "source": [
    "# ============= repeated nested 5-fold CV ============= \n",
    "for (model in model_vec) {\n",
    "    # parallel computing\n",
    "    cl <- parallel::makeCluster(5)\n",
    "    parallel::clusterExport(cl, c(\"full_data\", \"voutcome\", \"model\"), envir = environment())\n",
    "    \n",
    "    # this is the repeated loop\n",
    "    res <- parallel::parSapply(cl, seq(15), function(i) \n",
    "    {\n",
    "        # this is the nested CV outer loop\n",
    "        nested_res <- sapply(caret::createFolds(full_data[, voutcome], k=5), function(x) \n",
    "        {\n",
    "            testInds <- x\n",
    "            trnInds <- setdiff(1:nrow(full_data), testInds)\n",
    "            train_data <- full_data[trnInds,]\n",
    "            test_data <- full_data[testInds,]\n",
    "\n",
    "            if (model == \"lr\") {\n",
    "                best_model <- sdgm::lr.bestmodel.bin(train_data, voutcome)\n",
    "            } else if (model == \"cart\") {\n",
    "                best_model <- sdgm::cart.bestmodel.bin(train_data, voutcome)\n",
    "            } else if (model == \"rf\") {\n",
    "                best_model <- sdgm::rf.bestmodel.bin(train_data, voutcome)\n",
    "            } else if (model == \"lgbm\") {\n",
    "                best_model <- sdgm::lgbm.bestmodel.bin(train_data, voutcome)\n",
    "            } else if (model == \"svm\") {\n",
    "                best_model <- sdgm::svm.bestmodel.bin(train_data, voutcome)\n",
    "            }\n",
    "            \n",
    "            #predict\n",
    "            preds <- predict(best_model, test_data)\n",
    "            \n",
    "            # calculate and return AUC and brier score\n",
    "             if (!is.null(preds)) {\n",
    "                nested_auc <- sdgm::auc(preds, test_data[, voutcome])\n",
    "                nested_brier <- sdgm::brier(preds, test_data[, voutcome])\n",
    "            } else {\n",
    "                nested_auc <- NA\n",
    "                nested_brier <- NA\n",
    "            }\n",
    "\n",
    "            c(nested_auc, nested_brier)\n",
    "        })\n",
    "        nested_cv_auc <- mean(nested_res[1,], na.rm=T)\n",
    "        nested_cv_brier <- mean(nested_res[2,], na.rm=T)\n",
    "                               \n",
    "        c(nested_cv_auc, nested_cv_brier)\n",
    "    })\n",
    "    parallel::stopCluster(cl)\n",
    "    \n",
    "    # save results of the model\n",
    "    if (model == \"lr\") {\n",
    "        auc_cv$lr <- res[1,]\n",
    "        brier_cv$lr <- res[2,]\n",
    "    } else if (model == \"cart\") {\n",
    "        auc_cv$cart <- res[1,]\n",
    "        brier_cv$cart <- res[2,]\n",
    "    } else if (model == \"rf\") {\n",
    "        auc_cv$rf <- res[1,]\n",
    "        brier_cv$rf <- res[2,]\n",
    "    } else if (model == \"lgbm\") {\n",
    "        auc_cv$lgbm <- res[1,]\n",
    "        brier_cv$lgbm <- res[2,]\n",
    "    } else if (model == \"svm\") {\n",
    "        auc_cv$svm <- res[1,]\n",
    "        brier_cv$svm <- res[2,]\n",
    "    }\n",
    "}\n",
    "\n",
    "# save results\n",
    "res.cv.df2 <- rbind(auc_cv, brier_cv)\n",
    "\n",
    "print(res.cv.df2)"
   ]
  },
  {
   "cell_type": "code",
   "execution_count": 86,
   "id": "3e1c7f9c-5590-4d9a-a39b-67d861e556a9",
   "metadata": {
    "tags": []
   },
   "outputs": [
    {
     "data": {
      "image/png": "[encoded data removed]",
      "text/plain": [
       "plot without title"
      ]
     },
     "metadata": {
      "image/png": {
       "height": 360,
       "width": 1080
      }
     },
     "output_type": "display_data"
    }
   ],
   "source": [
    "auc.df2 <- rbind(res.split.df2 %>% filter(metric == \"auc\"), \n",
    "                 res.cv.df2 %>% filter(metric == \"auc\"))\n",
    "\n",
    "# pivot the dataframe from wide to long for plotting\n",
    "auc.df2.long <- auc.df2 %>% \n",
    "    tidyr::pivot_longer(-c(type, metric), \n",
    "                        names_to = \"model\",\n",
    "                        values_to = \"auc\")\n",
    "auc.df2.long$model <- factor(auc.df2.long$model, \n",
    "                         levels = c(\"lr\", \"cart\", \"rf\", \"lgbm\", \"svm\"))\n",
    "auc.df2.long$type <- factor(auc.df2.long$type, \n",
    "                         levels = c(\"train/test split\", \"nested cv\"))\n",
    "\n",
    "# Plot the violin plot\n",
    "ggplot(auc.df2.long, aes(model, auc, fill = model)) + \n",
    "    geom_violin(alpha = 0.5, draw_quantiles = c(0.25, 0.5, 0.75))+ \n",
    "    facet_wrap(~type)"
   ]
  },
  {
   "cell_type": "code",
   "execution_count": 87,
   "id": "494dbcf0-0ef5-4361-9926-1753605c0d71",
   "metadata": {
    "tags": []
   },
   "outputs": [
    {
     "data": {
      "image/png": "[encoded data removed]",
      "text/plain": [
       "plot without title"
      ]
     },
     "metadata": {
      "image/png": {
       "height": 360,
       "width": 1080
      }
     },
     "output_type": "display_data"
    }
   ],
   "source": [
    "brier.df2 <- rbind(res.split.df2 %>% filter(metric == \"brier\"), \n",
    "                   res.cv.df2 %>% filter(metric == \"brier\"))\n",
    "\n",
    "# pivot the dataframe from wide to long for plotting\n",
    "brier.df2.long <- brier.df2 %>% \n",
    "    tidyr::pivot_longer(-c(type,metric), \n",
    "                        names_to = \"model\",\n",
    "                        values_to = \"brier\")\n",
    "brier.df2.long$model <- factor(brier.df2.long$model, \n",
    "                         levels = c(\"lr\", \"cart\", \"rf\", \"lgbm\", \"svm\"))\n",
    "brier.df2.long$type <- factor(brier.df2.long$type, \n",
    "                         levels = c(\"train/test split\", \"nested cv\"))\n",
    "\n",
    "# Plot the violin plot\n",
    "ggplot(brier.df2.long, aes(model, brier, fill = model)) + \n",
    "    geom_violin(alpha = 0.5, draw_quantiles = c(0.25, 0.5, 0.75))+ \n",
    "    facet_wrap(~type)"
   ]
  },
  {
   "cell_type": "markdown",
   "id": "ad2382e2-010f-44ac-a44a-88d53b30a8e7",
   "metadata": {},
   "source": [
    "### Question 2.3: Based on the above violin plot, which model is the best one? Why?"
   ]
  },
  {
   "cell_type": "markdown",
   "id": "4ffdde5b-0dae-4fb6-8d93-202c00eb26a1",
   "metadata": {},
   "source": [
    "## Dataset 3: `sdgm::C16` Diabetic Retinopathy\n",
    "\n",
    "For more details about this dataset, see [here](https://archive.ics.uci.edu/dataset/329/diabetic+retinopathy+debrecen)"
   ]
  },
  {
   "cell_type": "code",
   "execution_count": 88,
   "id": "0aaca353-7d19-45ba-9e99-6b8fdfaabee2",
   "metadata": {
    "tags": []
   },
   "outputs": [
    {
     "data": {
      "text/html": [
       "\n",
       "<table style=\"width: 100%;\"><tr><td>C16 {sdgm}</td><td style=\"text-align: right;\">R Documentation</td></tr></table>\n",
       "\n",
       "<h2 id='C16'>Diabetic Retinopathy</h2>\n",
       "\n",
       "<h3>Description</h3>\n",
       "\n",
       "<p>This dataset contains features extracted from the Messidor image set to predict whether an image contains signs of diabetic retinopathy or not.\n",
       "Classification type: binomial logistic regression\n",
       "</p>\n",
       "\n",
       "\n",
       "<h3>Usage</h3>\n",
       "\n",
       "<pre><code class='language-R'>C16\n",
       "</code></pre>\n",
       "\n",
       "\n",
       "<h3>Format</h3>\n",
       "\n",
       "<p>An object of class <code>data.frame</code> with 1151 rows and 20 columns.\n",
       "</p>\n",
       "\n",
       "\n",
       "<h3>Source</h3>\n",
       "\n",
       "<p><a href=\"https://jmir.org/api/download?alt_name=medinform_v10i4e35734_app1.pdf&amp;filename=04ce0b2aec244210e4503631ee243fd0.pdf\">JMIR Article</a>\n",
       "</p>\n",
       "\n",
       "\n",
       "<h3>Examples</h3>\n",
       "\n",
       "<pre><code class='language-R'>data = sdgd::C16\n",
       "data$Class = as.factor(data$Class)\n",
       "glm(Class~., data = data, family = 'binomial')\n",
       "\n",
       "</code></pre>\n",
       "\n",
       "<hr /><div style=\"text-align: center;\">[Package <em>sdgm</em> version 0.39 ]</div>\n",
       "</div>"
      ],
      "text/latex": [
       "\\inputencoding{utf8}\n",
       "\\HeaderA{C16}{Diabetic Retinopathy}{C16}\n",
       "\\keyword{datasets}{C16}\n",
       "%\n",
       "\\begin{Description}\n",
       "This dataset contains features extracted from the Messidor image set to predict whether an image contains signs of diabetic retinopathy or not.\n",
       "Classification type: binomial logistic regression\n",
       "\\end{Description}\n",
       "%\n",
       "\\begin{Usage}\n",
       "\\begin{verbatim}\n",
       "C16\n",
       "\\end{verbatim}\n",
       "\\end{Usage}\n",
       "%\n",
       "\\begin{Format}\n",
       "An object of class \\code{data.frame} with 1151 rows and 20 columns.\n",
       "\\end{Format}\n",
       "%\n",
       "\\begin{Source}\n",
       "\\Rhref{https://jmir.org/api/download?alt_name=medinform_v10i4e35734_app1.pdf\\&filename=04ce0b2aec244210e4503631ee243fd0.pdf}{JMIR Article}\n",
       "\\end{Source}\n",
       "%\n",
       "\\begin{Examples}\n",
       "\\begin{ExampleCode}\n",
       "data = sdgd::C16\n",
       "data$Class = as.factor(data$Class)\n",
       "glm(Class~., data = data, family = 'binomial')\n",
       "\n",
       "\\end{ExampleCode}\n",
       "\\end{Examples}"
      ],
      "text/plain": [
       "C16                    package:sdgm                    R Documentation\n",
       "\n",
       "_\bD_\bi_\ba_\bb_\be_\bt_\bi_\bc _\bR_\be_\bt_\bi_\bn_\bo_\bp_\ba_\bt_\bh_\by\n",
       "\n",
       "_\bD_\be_\bs_\bc_\br_\bi_\bp_\bt_\bi_\bo_\bn:\n",
       "\n",
       "     This dataset contains features extracted from the Messidor image\n",
       "     set to predict whether an image contains signs of diabetic\n",
       "     retinopathy or not. Classification type: binomial logistic\n",
       "     regression\n",
       "\n",
       "_\bU_\bs_\ba_\bg_\be:\n",
       "\n",
       "     C16\n",
       "     \n",
       "_\bF_\bo_\br_\bm_\ba_\bt:\n",
       "\n",
       "     An object of class ‘data.frame’ with 1151 rows and 20 columns.\n",
       "\n",
       "_\bS_\bo_\bu_\br_\bc_\be:\n",
       "\n",
       "     JMIR Article\n",
       "\n",
       "_\bE_\bx_\ba_\bm_\bp_\bl_\be_\bs:\n",
       "\n",
       "     data = sdgd::C16\n",
       "     data$Class = as.factor(data$Class)\n",
       "     glm(Class~., data = data, family = 'binomial')\n",
       "     "
      ]
     },
     "metadata": {},
     "output_type": "display_data"
    }
   ],
   "source": [
    "# show the description of this dataset\n",
    "?sdgm::C16"
   ]
  },
  {
   "cell_type": "code",
   "execution_count": 90,
   "id": "ed8f08a1-0aa2-434e-813b-e3ffcdff8a09",
   "metadata": {
    "tags": []
   },
   "outputs": [
    {
     "data": {
      "text/html": [
       "<table class=\"dataframe\">\n",
       "<caption>A data.frame: 6 × 20</caption>\n",
       "<thead>\n",
       "\t<tr><th></th><th scope=col>Quality</th><th scope=col>PreScreen</th><th scope=col>MA1</th><th scope=col>MA2</th><th scope=col>MA3</th><th scope=col>MA4</th><th scope=col>MA5</th><th scope=col>MA6</th><th scope=col>MA7</th><th scope=col>Exu1</th><th scope=col>Exu2</th><th scope=col>Exu3</th><th scope=col>Exu4</th><th scope=col>Exu5</th><th scope=col>Exu6</th><th scope=col>Exu7</th><th scope=col>Euc_Dist</th><th scope=col>Diameter_Optic_Disc</th><th scope=col>AM_FM</th><th scope=col>Class</th></tr>\n",
       "\t<tr><th></th><th scope=col>&lt;chr&gt;</th><th scope=col>&lt;chr&gt;</th><th scope=col>&lt;int&gt;</th><th scope=col>&lt;int&gt;</th><th scope=col>&lt;int&gt;</th><th scope=col>&lt;int&gt;</th><th scope=col>&lt;int&gt;</th><th scope=col>&lt;int&gt;</th><th scope=col>&lt;dbl&gt;</th><th scope=col>&lt;dbl&gt;</th><th scope=col>&lt;dbl&gt;</th><th scope=col>&lt;dbl&gt;</th><th scope=col>&lt;dbl&gt;</th><th scope=col>&lt;dbl&gt;</th><th scope=col>&lt;dbl&gt;</th><th scope=col>&lt;dbl&gt;</th><th scope=col>&lt;dbl&gt;</th><th scope=col>&lt;dbl&gt;</th><th scope=col>&lt;chr&gt;</th><th scope=col>&lt;chr&gt;</th></tr>\n",
       "</thead>\n",
       "<tbody>\n",
       "\t<tr><th scope=row>1</th><td>'1'</td><td>'1'</td><td>22</td><td>22</td><td>22</td><td>19</td><td>18</td><td>14</td><td>49.89576</td><td>17.775994</td><td> 5.270920</td><td>0.771761</td><td>0.018632</td><td>0.006864</td><td>0.003923</td><td>0.003923</td><td>0.486903</td><td>0.100025</td><td>'1'</td><td>'0'</td></tr>\n",
       "\t<tr><th scope=row>2</th><td>'1'</td><td>'1'</td><td>24</td><td>24</td><td>22</td><td>18</td><td>16</td><td>13</td><td>57.70994</td><td>23.799994</td><td> 3.325423</td><td>0.234185</td><td>0.003903</td><td>0.003903</td><td>0.003903</td><td>0.003903</td><td>0.520908</td><td>0.144414</td><td>'0'</td><td>'0'</td></tr>\n",
       "\t<tr><th scope=row>3</th><td>'1'</td><td>'1'</td><td>62</td><td>60</td><td>59</td><td>54</td><td>47</td><td>33</td><td>55.83144</td><td>27.993933</td><td>12.687485</td><td>4.852282</td><td>1.393889</td><td>0.373252</td><td>0.041817</td><td>0.007744</td><td>0.530904</td><td>0.128548</td><td>'0'</td><td>'1'</td></tr>\n",
       "\t<tr><th scope=row>4</th><td>'1'</td><td>'1'</td><td>55</td><td>53</td><td>53</td><td>50</td><td>43</td><td>31</td><td>40.46723</td><td>18.445954</td><td> 9.118901</td><td>3.079428</td><td>0.840261</td><td>0.272434</td><td>0.007653</td><td>0.001531</td><td>0.483284</td><td>0.114790</td><td>'0'</td><td>'0'</td></tr>\n",
       "\t<tr><th scope=row>5</th><td>'1'</td><td>'1'</td><td>44</td><td>44</td><td>44</td><td>41</td><td>39</td><td>27</td><td>18.02625</td><td> 8.570709</td><td> 0.410381</td><td>0.000000</td><td>0.000000</td><td>0.000000</td><td>0.000000</td><td>0.000000</td><td>0.475935</td><td>0.123572</td><td>'0'</td><td>'1'</td></tr>\n",
       "\t<tr><th scope=row>6</th><td>'1'</td><td>'1'</td><td>44</td><td>43</td><td>41</td><td>41</td><td>37</td><td>29</td><td>28.35640</td><td> 6.935636</td><td> 2.305771</td><td>0.323724</td><td>0.000000</td><td>0.000000</td><td>0.000000</td><td>0.000000</td><td>0.502831</td><td>0.126741</td><td>'0'</td><td>'1'</td></tr>\n",
       "</tbody>\n",
       "</table>\n"
      ],
      "text/latex": [
       "A data.frame: 6 × 20\n",
       "\\begin{tabular}{r|llllllllllllllllllll}\n",
       "  & Quality & PreScreen & MA1 & MA2 & MA3 & MA4 & MA5 & MA6 & MA7 & Exu1 & Exu2 & Exu3 & Exu4 & Exu5 & Exu6 & Exu7 & Euc\\_Dist & Diameter\\_Optic\\_Disc & AM\\_FM & Class\\\\\n",
       "  & <chr> & <chr> & <int> & <int> & <int> & <int> & <int> & <int> & <dbl> & <dbl> & <dbl> & <dbl> & <dbl> & <dbl> & <dbl> & <dbl> & <dbl> & <dbl> & <chr> & <chr>\\\\\n",
       "\\hline\n",
       "\t1 & '1' & '1' & 22 & 22 & 22 & 19 & 18 & 14 & 49.89576 & 17.775994 &  5.270920 & 0.771761 & 0.018632 & 0.006864 & 0.003923 & 0.003923 & 0.486903 & 0.100025 & '1' & '0'\\\\\n",
       "\t2 & '1' & '1' & 24 & 24 & 22 & 18 & 16 & 13 & 57.70994 & 23.799994 &  3.325423 & 0.234185 & 0.003903 & 0.003903 & 0.003903 & 0.003903 & 0.520908 & 0.144414 & '0' & '0'\\\\\n",
       "\t3 & '1' & '1' & 62 & 60 & 59 & 54 & 47 & 33 & 55.83144 & 27.993933 & 12.687485 & 4.852282 & 1.393889 & 0.373252 & 0.041817 & 0.007744 & 0.530904 & 0.128548 & '0' & '1'\\\\\n",
       "\t4 & '1' & '1' & 55 & 53 & 53 & 50 & 43 & 31 & 40.46723 & 18.445954 &  9.118901 & 3.079428 & 0.840261 & 0.272434 & 0.007653 & 0.001531 & 0.483284 & 0.114790 & '0' & '0'\\\\\n",
       "\t5 & '1' & '1' & 44 & 44 & 44 & 41 & 39 & 27 & 18.02625 &  8.570709 &  0.410381 & 0.000000 & 0.000000 & 0.000000 & 0.000000 & 0.000000 & 0.475935 & 0.123572 & '0' & '1'\\\\\n",
       "\t6 & '1' & '1' & 44 & 43 & 41 & 41 & 37 & 29 & 28.35640 &  6.935636 &  2.305771 & 0.323724 & 0.000000 & 0.000000 & 0.000000 & 0.000000 & 0.502831 & 0.126741 & '0' & '1'\\\\\n",
       "\\end{tabular}\n"
      ],
      "text/markdown": [
       "\n",
       "A data.frame: 6 × 20\n",
       "\n",
       "| <!--/--> | Quality &lt;chr&gt; | PreScreen &lt;chr&gt; | MA1 &lt;int&gt; | MA2 &lt;int&gt; | MA3 &lt;int&gt; | MA4 &lt;int&gt; | MA5 &lt;int&gt; | MA6 &lt;int&gt; | MA7 &lt;dbl&gt; | Exu1 &lt;dbl&gt; | Exu2 &lt;dbl&gt; | Exu3 &lt;dbl&gt; | Exu4 &lt;dbl&gt; | Exu5 &lt;dbl&gt; | Exu6 &lt;dbl&gt; | Exu7 &lt;dbl&gt; | Euc_Dist &lt;dbl&gt; | Diameter_Optic_Disc &lt;dbl&gt; | AM_FM &lt;chr&gt; | Class &lt;chr&gt; |\n",
       "|---|---|---|---|---|---|---|---|---|---|---|---|---|---|---|---|---|---|---|---|---|\n",
       "| 1 | '1' | '1' | 22 | 22 | 22 | 19 | 18 | 14 | 49.89576 | 17.775994 |  5.270920 | 0.771761 | 0.018632 | 0.006864 | 0.003923 | 0.003923 | 0.486903 | 0.100025 | '1' | '0' |\n",
       "| 2 | '1' | '1' | 24 | 24 | 22 | 18 | 16 | 13 | 57.70994 | 23.799994 |  3.325423 | 0.234185 | 0.003903 | 0.003903 | 0.003903 | 0.003903 | 0.520908 | 0.144414 | '0' | '0' |\n",
       "| 3 | '1' | '1' | 62 | 60 | 59 | 54 | 47 | 33 | 55.83144 | 27.993933 | 12.687485 | 4.852282 | 1.393889 | 0.373252 | 0.041817 | 0.007744 | 0.530904 | 0.128548 | '0' | '1' |\n",
       "| 4 | '1' | '1' | 55 | 53 | 53 | 50 | 43 | 31 | 40.46723 | 18.445954 |  9.118901 | 3.079428 | 0.840261 | 0.272434 | 0.007653 | 0.001531 | 0.483284 | 0.114790 | '0' | '0' |\n",
       "| 5 | '1' | '1' | 44 | 44 | 44 | 41 | 39 | 27 | 18.02625 |  8.570709 |  0.410381 | 0.000000 | 0.000000 | 0.000000 | 0.000000 | 0.000000 | 0.475935 | 0.123572 | '0' | '1' |\n",
       "| 6 | '1' | '1' | 44 | 43 | 41 | 41 | 37 | 29 | 28.35640 |  6.935636 |  2.305771 | 0.323724 | 0.000000 | 0.000000 | 0.000000 | 0.000000 | 0.502831 | 0.126741 | '0' | '1' |\n",
       "\n"
      ],
      "text/plain": [
       "  Quality PreScreen MA1 MA2 MA3 MA4 MA5 MA6 MA7      Exu1      Exu2     \n",
       "1 '1'     '1'       22  22  22  19  18  14  49.89576 17.775994  5.270920\n",
       "2 '1'     '1'       24  24  22  18  16  13  57.70994 23.799994  3.325423\n",
       "3 '1'     '1'       62  60  59  54  47  33  55.83144 27.993933 12.687485\n",
       "4 '1'     '1'       55  53  53  50  43  31  40.46723 18.445954  9.118901\n",
       "5 '1'     '1'       44  44  44  41  39  27  18.02625  8.570709  0.410381\n",
       "6 '1'     '1'       44  43  41  41  37  29  28.35640  6.935636  2.305771\n",
       "  Exu3     Exu4     Exu5     Exu6     Exu7     Euc_Dist Diameter_Optic_Disc\n",
       "1 0.771761 0.018632 0.006864 0.003923 0.003923 0.486903 0.100025           \n",
       "2 0.234185 0.003903 0.003903 0.003903 0.003903 0.520908 0.144414           \n",
       "3 4.852282 1.393889 0.373252 0.041817 0.007744 0.530904 0.128548           \n",
       "4 3.079428 0.840261 0.272434 0.007653 0.001531 0.483284 0.114790           \n",
       "5 0.000000 0.000000 0.000000 0.000000 0.000000 0.475935 0.123572           \n",
       "6 0.323724 0.000000 0.000000 0.000000 0.000000 0.502831 0.126741           \n",
       "  AM_FM Class\n",
       "1 '1'   '0'  \n",
       "2 '0'   '0'  \n",
       "3 '0'   '1'  \n",
       "4 '0'   '0'  \n",
       "5 '0'   '1'  \n",
       "6 '0'   '1'  "
      ]
     },
     "metadata": {},
     "output_type": "display_data"
    },
    {
     "data": {
      "text/html": [
       "<style>\n",
       ".list-inline {list-style: none; margin:0; padding: 0}\n",
       ".list-inline>li {display: inline-block}\n",
       ".list-inline>li:not(:last-child)::after {content: \"\\00b7\"; padding: 0 .5ex}\n",
       "</style>\n",
       "<ol class=list-inline><li>1151</li><li>20</li></ol>\n"
      ],
      "text/latex": [
       "\\begin{enumerate*}\n",
       "\\item 1151\n",
       "\\item 20\n",
       "\\end{enumerate*}\n"
      ],
      "text/markdown": [
       "1. 1151\n",
       "2. 20\n",
       "\n",
       "\n"
      ],
      "text/plain": [
       "[1] 1151   20"
      ]
     },
     "metadata": {},
     "output_type": "display_data"
    }
   ],
   "source": [
    "# first glance of the dataset\n",
    "full_data <- sdgm::C16\n",
    "head(full_data)\n",
    "dim(full_data)"
   ]
  },
  {
   "cell_type": "code",
   "execution_count": 92,
   "id": "312ef929-08e1-4b2f-a33b-4ea7a8d9c2d2",
   "metadata": {
    "tags": []
   },
   "outputs": [],
   "source": [
    "# Convert characters to numbers. Note because of the special format in the data, `as.numeric` doesn't work here.\n",
    "# The code below is to extract numbers from strings\n",
    "full_data$Quality <- as.numeric(gsub(\"\\\\D\", \"\", full_data$Quality))\n",
    "full_data$PreScreen <- as.numeric(gsub(\"\\\\D\", \"\", full_data$PreScreen))\n",
    "full_data$AM_FM <- as.numeric(gsub(\"\\\\D\", \"\", full_data$AM_FM))\n",
    "full_data$Class <- as.numeric(gsub(\"\\\\D\", \"\", full_data$Class))"
   ]
  },
  {
   "cell_type": "code",
   "execution_count": 93,
   "id": "a488aa03-44a8-466e-be9c-b525321bb33a",
   "metadata": {
    "tags": []
   },
   "outputs": [
    {
     "data": {
      "text/plain": [
       "    Quality         PreScreen           MA1              MA2        \n",
       " Min.   :0.0000   Min.   :0.0000   Min.   :  1.00   Min.   :  1.00  \n",
       " 1st Qu.:1.0000   1st Qu.:1.0000   1st Qu.: 16.00   1st Qu.: 16.00  \n",
       " Median :1.0000   Median :1.0000   Median : 35.00   Median : 35.00  \n",
       " Mean   :0.9965   Mean   :0.9183   Mean   : 38.43   Mean   : 36.91  \n",
       " 3rd Qu.:1.0000   3rd Qu.:1.0000   3rd Qu.: 55.00   3rd Qu.: 53.00  \n",
       " Max.   :1.0000   Max.   :1.0000   Max.   :151.00   Max.   :132.00  \n",
       "      MA3              MA4             MA5             MA6       \n",
       " Min.   :  1.00   Min.   :  1.0   Min.   : 1.00   Min.   : 1.00  \n",
       " 1st Qu.: 15.00   1st Qu.: 14.0   1st Qu.:11.00   1st Qu.: 8.00  \n",
       " Median : 32.00   Median : 29.0   Median :25.00   Median :18.00  \n",
       " Mean   : 35.14   Mean   : 32.3   Mean   :28.75   Mean   :21.15  \n",
       " 3rd Qu.: 51.00   3rd Qu.: 48.0   3rd Qu.:43.00   3rd Qu.:32.00  \n",
       " Max.   :120.00   Max.   :105.0   Max.   :97.00   Max.   :89.00  \n",
       "      MA7                Exu1              Exu2              Exu3         \n",
       " Min.   :  0.3493   Min.   :  0.000   Min.   :  0.000   Min.   : 0.00000  \n",
       " 1st Qu.: 22.2716   1st Qu.:  7.939   1st Qu.:  1.249   1st Qu.: 0.08155  \n",
       " Median : 44.2491   Median : 17.038   Median :  4.423   Median : 0.48483  \n",
       " Mean   : 64.0967   Mean   : 23.088   Mean   :  8.705   Mean   : 1.83649  \n",
       " 3rd Qu.: 87.8041   3rd Qu.: 31.306   3rd Qu.: 11.767   3rd Qu.: 1.92165  \n",
       " Max.   :403.9391   Max.   :167.131   Max.   :106.070   Max.   :59.76612  \n",
       "      Exu4               Exu5                Exu6               Exu7         \n",
       " Min.   : 0.00000   Min.   : 0.000000   Min.   :0.000000   Min.   :0.000000  \n",
       " 1st Qu.: 0.00000   1st Qu.: 0.000000   1st Qu.:0.000000   1st Qu.:0.000000  \n",
       " Median : 0.02225   Median : 0.001554   Median :0.000000   Median :0.000000  \n",
       " Mean   : 0.56074   Mean   : 0.212290   Mean   :0.085674   Mean   :0.037225  \n",
       " 3rd Qu.: 0.19195   3rd Qu.: 0.038450   3rd Qu.:0.004832   3rd Qu.:0.003851  \n",
       " Max.   :51.42321   Max.   :20.098605   Max.   :5.937799   Max.   :3.086753  \n",
       "    Euc_Dist      Diameter_Optic_Disc     AM_FM            Class       \n",
       " Min.   :0.3678   Min.   :0.05791     Min.   :0.0000   Min.   :0.0000  \n",
       " 1st Qu.:0.5029   1st Qu.:0.09580     1st Qu.:0.0000   1st Qu.:0.0000  \n",
       " Median :0.5233   Median :0.10662     Median :0.0000   Median :1.0000  \n",
       " Mean   :0.5232   Mean   :0.10843     Mean   :0.3362   Mean   :0.5308  \n",
       " 3rd Qu.:0.5437   3rd Qu.:0.11959     3rd Qu.:1.0000   3rd Qu.:1.0000  \n",
       " Max.   :0.5922   Max.   :0.21920     Max.   :1.0000   Max.   :1.0000  "
      ]
     },
     "metadata": {},
     "output_type": "display_data"
    },
    {
     "data": {
      "text/plain": [
       "\n",
       "  0   1 \n",
       "540 611 "
      ]
     },
     "metadata": {},
     "output_type": "display_data"
    }
   ],
   "source": [
    "# Check the data now\n",
    "summary(full_data)\n",
    "\n",
    "# Check the outcome variable\n",
    "table(full_data$Class)"
   ]
  },
  {
   "cell_type": "markdown",
   "id": "29141d34-ed97-440c-ada0-ccab42bfac35",
   "metadata": {
    "tags": []
   },
   "source": [
    "### Question 3.1: Based on what you have learnt about the dataset, is there anything should be done to prepare the data?\n",
    "\n",
    "**Hint 1:** Are all the variables in the correct variable type?\n",
    "\n",
    "**Hint 2 (Important!):** As per some models' requirement, the outcome variable has to be a numeric variable between 0 and 1.\n",
    "\n",
    "***Note:*** Some datasets need a bit of data preparation and some don't. If you think this one needs to be prepared, choose \"yes\" and add your code in the below cell. Otherwise, choose \"no\" and leave the below cell unchanged.\n",
    "\n",
    "Your answer: no"
   ]
  },
  {
   "cell_type": "code",
   "execution_count": 98,
   "id": "f9860099-826f-43e4-9456-69b3acc9cb6b",
   "metadata": {
    "tags": []
   },
   "outputs": [
    {
     "data": {
      "text/plain": [
       "    Quality         PreScreen           MA1              MA2        \n",
       " Min.   :0.0000   Min.   :0.0000   Min.   :  1.00   Min.   :  1.00  \n",
       " 1st Qu.:1.0000   1st Qu.:1.0000   1st Qu.: 16.00   1st Qu.: 16.00  \n",
       " Median :1.0000   Median :1.0000   Median : 35.00   Median : 35.00  \n",
       " Mean   :0.9965   Mean   :0.9183   Mean   : 38.43   Mean   : 36.91  \n",
       " 3rd Qu.:1.0000   3rd Qu.:1.0000   3rd Qu.: 55.00   3rd Qu.: 53.00  \n",
       " Max.   :1.0000   Max.   :1.0000   Max.   :151.00   Max.   :132.00  \n",
       "      MA3              MA4             MA5             MA6       \n",
       " Min.   :  1.00   Min.   :  1.0   Min.   : 1.00   Min.   : 1.00  \n",
       " 1st Qu.: 15.00   1st Qu.: 14.0   1st Qu.:11.00   1st Qu.: 8.00  \n",
       " Median : 32.00   Median : 29.0   Median :25.00   Median :18.00  \n",
       " Mean   : 35.14   Mean   : 32.3   Mean   :28.75   Mean   :21.15  \n",
       " 3rd Qu.: 51.00   3rd Qu.: 48.0   3rd Qu.:43.00   3rd Qu.:32.00  \n",
       " Max.   :120.00   Max.   :105.0   Max.   :97.00   Max.   :89.00  \n",
       "      MA7                Exu1              Exu2              Exu3         \n",
       " Min.   :  0.3493   Min.   :  0.000   Min.   :  0.000   Min.   : 0.00000  \n",
       " 1st Qu.: 22.2716   1st Qu.:  7.939   1st Qu.:  1.249   1st Qu.: 0.08155  \n",
       " Median : 44.2491   Median : 17.038   Median :  4.423   Median : 0.48483  \n",
       " Mean   : 64.0967   Mean   : 23.088   Mean   :  8.705   Mean   : 1.83649  \n",
       " 3rd Qu.: 87.8041   3rd Qu.: 31.306   3rd Qu.: 11.767   3rd Qu.: 1.92165  \n",
       " Max.   :403.9391   Max.   :167.131   Max.   :106.070   Max.   :59.76612  \n",
       "      Exu4               Exu5                Exu6               Exu7         \n",
       " Min.   : 0.00000   Min.   : 0.000000   Min.   :0.000000   Min.   :0.000000  \n",
       " 1st Qu.: 0.00000   1st Qu.: 0.000000   1st Qu.:0.000000   1st Qu.:0.000000  \n",
       " Median : 0.02225   Median : 0.001554   Median :0.000000   Median :0.000000  \n",
       " Mean   : 0.56074   Mean   : 0.212290   Mean   :0.085674   Mean   :0.037225  \n",
       " 3rd Qu.: 0.19195   3rd Qu.: 0.038450   3rd Qu.:0.004832   3rd Qu.:0.003851  \n",
       " Max.   :51.42321   Max.   :20.098605   Max.   :5.937799   Max.   :3.086753  \n",
       "    Euc_Dist      Diameter_Optic_Disc     AM_FM            Class       \n",
       " Min.   :0.3678   Min.   :0.05791     Min.   :0.0000   Min.   :0.0000  \n",
       " 1st Qu.:0.5029   1st Qu.:0.09580     1st Qu.:0.0000   1st Qu.:0.0000  \n",
       " Median :0.5233   Median :0.10662     Median :0.0000   Median :1.0000  \n",
       " Mean   :0.5232   Mean   :0.10843     Mean   :0.3362   Mean   :0.5308  \n",
       " 3rd Qu.:0.5437   3rd Qu.:0.11959     3rd Qu.:1.0000   3rd Qu.:1.0000  \n",
       " Max.   :0.5922   Max.   :0.21920     Max.   :1.0000   Max.   :1.0000  "
      ]
     },
     "metadata": {},
     "output_type": "display_data"
    },
    {
     "data": {
      "text/html": [
       "<table class=\"dataframe\">\n",
       "<caption>A data.frame: 6 × 20</caption>\n",
       "<thead>\n",
       "\t<tr><th></th><th scope=col>Quality</th><th scope=col>PreScreen</th><th scope=col>MA1</th><th scope=col>MA2</th><th scope=col>MA3</th><th scope=col>MA4</th><th scope=col>MA5</th><th scope=col>MA6</th><th scope=col>MA7</th><th scope=col>Exu1</th><th scope=col>Exu2</th><th scope=col>Exu3</th><th scope=col>Exu4</th><th scope=col>Exu5</th><th scope=col>Exu6</th><th scope=col>Exu7</th><th scope=col>Euc_Dist</th><th scope=col>Diameter_Optic_Disc</th><th scope=col>AM_FM</th><th scope=col>Class</th></tr>\n",
       "\t<tr><th></th><th scope=col>&lt;dbl&gt;</th><th scope=col>&lt;dbl&gt;</th><th scope=col>&lt;int&gt;</th><th scope=col>&lt;int&gt;</th><th scope=col>&lt;int&gt;</th><th scope=col>&lt;int&gt;</th><th scope=col>&lt;int&gt;</th><th scope=col>&lt;int&gt;</th><th scope=col>&lt;dbl&gt;</th><th scope=col>&lt;dbl&gt;</th><th scope=col>&lt;dbl&gt;</th><th scope=col>&lt;dbl&gt;</th><th scope=col>&lt;dbl&gt;</th><th scope=col>&lt;dbl&gt;</th><th scope=col>&lt;dbl&gt;</th><th scope=col>&lt;dbl&gt;</th><th scope=col>&lt;dbl&gt;</th><th scope=col>&lt;dbl&gt;</th><th scope=col>&lt;dbl&gt;</th><th scope=col>&lt;dbl&gt;</th></tr>\n",
       "</thead>\n",
       "<tbody>\n",
       "\t<tr><th scope=row>1</th><td>1</td><td>1</td><td>22</td><td>22</td><td>22</td><td>19</td><td>18</td><td>14</td><td>49.89576</td><td>17.775994</td><td> 5.270920</td><td>0.771761</td><td>0.018632</td><td>0.006864</td><td>0.003923</td><td>0.003923</td><td>0.486903</td><td>0.100025</td><td>1</td><td>0</td></tr>\n",
       "\t<tr><th scope=row>2</th><td>1</td><td>1</td><td>24</td><td>24</td><td>22</td><td>18</td><td>16</td><td>13</td><td>57.70994</td><td>23.799994</td><td> 3.325423</td><td>0.234185</td><td>0.003903</td><td>0.003903</td><td>0.003903</td><td>0.003903</td><td>0.520908</td><td>0.144414</td><td>0</td><td>0</td></tr>\n",
       "\t<tr><th scope=row>3</th><td>1</td><td>1</td><td>62</td><td>60</td><td>59</td><td>54</td><td>47</td><td>33</td><td>55.83144</td><td>27.993933</td><td>12.687485</td><td>4.852282</td><td>1.393889</td><td>0.373252</td><td>0.041817</td><td>0.007744</td><td>0.530904</td><td>0.128548</td><td>0</td><td>1</td></tr>\n",
       "\t<tr><th scope=row>4</th><td>1</td><td>1</td><td>55</td><td>53</td><td>53</td><td>50</td><td>43</td><td>31</td><td>40.46723</td><td>18.445954</td><td> 9.118901</td><td>3.079428</td><td>0.840261</td><td>0.272434</td><td>0.007653</td><td>0.001531</td><td>0.483284</td><td>0.114790</td><td>0</td><td>0</td></tr>\n",
       "\t<tr><th scope=row>5</th><td>1</td><td>1</td><td>44</td><td>44</td><td>44</td><td>41</td><td>39</td><td>27</td><td>18.02625</td><td> 8.570709</td><td> 0.410381</td><td>0.000000</td><td>0.000000</td><td>0.000000</td><td>0.000000</td><td>0.000000</td><td>0.475935</td><td>0.123572</td><td>0</td><td>1</td></tr>\n",
       "\t<tr><th scope=row>6</th><td>1</td><td>1</td><td>44</td><td>43</td><td>41</td><td>41</td><td>37</td><td>29</td><td>28.35640</td><td> 6.935636</td><td> 2.305771</td><td>0.323724</td><td>0.000000</td><td>0.000000</td><td>0.000000</td><td>0.000000</td><td>0.502831</td><td>0.126741</td><td>0</td><td>1</td></tr>\n",
       "</tbody>\n",
       "</table>\n"
      ],
      "text/latex": [
       "A data.frame: 6 × 20\n",
       "\\begin{tabular}{r|llllllllllllllllllll}\n",
       "  & Quality & PreScreen & MA1 & MA2 & MA3 & MA4 & MA5 & MA6 & MA7 & Exu1 & Exu2 & Exu3 & Exu4 & Exu5 & Exu6 & Exu7 & Euc\\_Dist & Diameter\\_Optic\\_Disc & AM\\_FM & Class\\\\\n",
       "  & <dbl> & <dbl> & <int> & <int> & <int> & <int> & <int> & <int> & <dbl> & <dbl> & <dbl> & <dbl> & <dbl> & <dbl> & <dbl> & <dbl> & <dbl> & <dbl> & <dbl> & <dbl>\\\\\n",
       "\\hline\n",
       "\t1 & 1 & 1 & 22 & 22 & 22 & 19 & 18 & 14 & 49.89576 & 17.775994 &  5.270920 & 0.771761 & 0.018632 & 0.006864 & 0.003923 & 0.003923 & 0.486903 & 0.100025 & 1 & 0\\\\\n",
       "\t2 & 1 & 1 & 24 & 24 & 22 & 18 & 16 & 13 & 57.70994 & 23.799994 &  3.325423 & 0.234185 & 0.003903 & 0.003903 & 0.003903 & 0.003903 & 0.520908 & 0.144414 & 0 & 0\\\\\n",
       "\t3 & 1 & 1 & 62 & 60 & 59 & 54 & 47 & 33 & 55.83144 & 27.993933 & 12.687485 & 4.852282 & 1.393889 & 0.373252 & 0.041817 & 0.007744 & 0.530904 & 0.128548 & 0 & 1\\\\\n",
       "\t4 & 1 & 1 & 55 & 53 & 53 & 50 & 43 & 31 & 40.46723 & 18.445954 &  9.118901 & 3.079428 & 0.840261 & 0.272434 & 0.007653 & 0.001531 & 0.483284 & 0.114790 & 0 & 0\\\\\n",
       "\t5 & 1 & 1 & 44 & 44 & 44 & 41 & 39 & 27 & 18.02625 &  8.570709 &  0.410381 & 0.000000 & 0.000000 & 0.000000 & 0.000000 & 0.000000 & 0.475935 & 0.123572 & 0 & 1\\\\\n",
       "\t6 & 1 & 1 & 44 & 43 & 41 & 41 & 37 & 29 & 28.35640 &  6.935636 &  2.305771 & 0.323724 & 0.000000 & 0.000000 & 0.000000 & 0.000000 & 0.502831 & 0.126741 & 0 & 1\\\\\n",
       "\\end{tabular}\n"
      ],
      "text/markdown": [
       "\n",
       "A data.frame: 6 × 20\n",
       "\n",
       "| <!--/--> | Quality &lt;dbl&gt; | PreScreen &lt;dbl&gt; | MA1 &lt;int&gt; | MA2 &lt;int&gt; | MA3 &lt;int&gt; | MA4 &lt;int&gt; | MA5 &lt;int&gt; | MA6 &lt;int&gt; | MA7 &lt;dbl&gt; | Exu1 &lt;dbl&gt; | Exu2 &lt;dbl&gt; | Exu3 &lt;dbl&gt; | Exu4 &lt;dbl&gt; | Exu5 &lt;dbl&gt; | Exu6 &lt;dbl&gt; | Exu7 &lt;dbl&gt; | Euc_Dist &lt;dbl&gt; | Diameter_Optic_Disc &lt;dbl&gt; | AM_FM &lt;dbl&gt; | Class &lt;dbl&gt; |\n",
       "|---|---|---|---|---|---|---|---|---|---|---|---|---|---|---|---|---|---|---|---|---|\n",
       "| 1 | 1 | 1 | 22 | 22 | 22 | 19 | 18 | 14 | 49.89576 | 17.775994 |  5.270920 | 0.771761 | 0.018632 | 0.006864 | 0.003923 | 0.003923 | 0.486903 | 0.100025 | 1 | 0 |\n",
       "| 2 | 1 | 1 | 24 | 24 | 22 | 18 | 16 | 13 | 57.70994 | 23.799994 |  3.325423 | 0.234185 | 0.003903 | 0.003903 | 0.003903 | 0.003903 | 0.520908 | 0.144414 | 0 | 0 |\n",
       "| 3 | 1 | 1 | 62 | 60 | 59 | 54 | 47 | 33 | 55.83144 | 27.993933 | 12.687485 | 4.852282 | 1.393889 | 0.373252 | 0.041817 | 0.007744 | 0.530904 | 0.128548 | 0 | 1 |\n",
       "| 4 | 1 | 1 | 55 | 53 | 53 | 50 | 43 | 31 | 40.46723 | 18.445954 |  9.118901 | 3.079428 | 0.840261 | 0.272434 | 0.007653 | 0.001531 | 0.483284 | 0.114790 | 0 | 0 |\n",
       "| 5 | 1 | 1 | 44 | 44 | 44 | 41 | 39 | 27 | 18.02625 |  8.570709 |  0.410381 | 0.000000 | 0.000000 | 0.000000 | 0.000000 | 0.000000 | 0.475935 | 0.123572 | 0 | 1 |\n",
       "| 6 | 1 | 1 | 44 | 43 | 41 | 41 | 37 | 29 | 28.35640 |  6.935636 |  2.305771 | 0.323724 | 0.000000 | 0.000000 | 0.000000 | 0.000000 | 0.502831 | 0.126741 | 0 | 1 |\n",
       "\n"
      ],
      "text/plain": [
       "  Quality PreScreen MA1 MA2 MA3 MA4 MA5 MA6 MA7      Exu1      Exu2     \n",
       "1 1       1         22  22  22  19  18  14  49.89576 17.775994  5.270920\n",
       "2 1       1         24  24  22  18  16  13  57.70994 23.799994  3.325423\n",
       "3 1       1         62  60  59  54  47  33  55.83144 27.993933 12.687485\n",
       "4 1       1         55  53  53  50  43  31  40.46723 18.445954  9.118901\n",
       "5 1       1         44  44  44  41  39  27  18.02625  8.570709  0.410381\n",
       "6 1       1         44  43  41  41  37  29  28.35640  6.935636  2.305771\n",
       "  Exu3     Exu4     Exu5     Exu6     Exu7     Euc_Dist Diameter_Optic_Disc\n",
       "1 0.771761 0.018632 0.006864 0.003923 0.003923 0.486903 0.100025           \n",
       "2 0.234185 0.003903 0.003903 0.003903 0.003903 0.520908 0.144414           \n",
       "3 4.852282 1.393889 0.373252 0.041817 0.007744 0.530904 0.128548           \n",
       "4 3.079428 0.840261 0.272434 0.007653 0.001531 0.483284 0.114790           \n",
       "5 0.000000 0.000000 0.000000 0.000000 0.000000 0.475935 0.123572           \n",
       "6 0.323724 0.000000 0.000000 0.000000 0.000000 0.502831 0.126741           \n",
       "  AM_FM Class\n",
       "1 1     0    \n",
       "2 0     0    \n",
       "3 0     1    \n",
       "4 0     0    \n",
       "5 0     1    \n",
       "6 0     1    "
      ]
     },
     "metadata": {},
     "output_type": "display_data"
    }
   ],
   "source": [
    "# The data preparation step if needed\n",
    "           \n",
    "# Check the data now\n",
    "summary(full_data)\n",
    "head(full_data)"
   ]
  },
  {
   "cell_type": "markdown",
   "id": "d8a543f8-2a7b-4d5c-b382-6f2537282ef3",
   "metadata": {},
   "source": [
    "### Question 3.2: Build five different models and evaluate them"
   ]
  },
  {
   "cell_type": "code",
   "execution_count": 99,
   "id": "036be641-9b73-4633-945b-44ea4e6a79e6",
   "metadata": {},
   "outputs": [],
   "source": [
    "# define the outcome variable\n",
    "voutcome <- \"Class\""
   ]
  },
  {
   "cell_type": "markdown",
   "id": "3455ce2c-d50c-4ac6-af5c-663be88f076a",
   "metadata": {},
   "source": [
    "Based on what you have done for Dataset 1, complete the below cells of this dataset. Remember to use parallel computing."
   ]
  },
  {
   "cell_type": "code",
   "execution_count": 100,
   "id": "cc0301c2-a44e-4d6b-ad19-abdca0b4a1cd",
   "metadata": {},
   "outputs": [
    {
     "name": "stdout",
     "output_type": "stream",
     "text": [
      "               type metric        lr       cart         rf       lgbm\n",
      "1  train/test split    auc 0.8067470 0.65591180 0.67327864 0.69073647\n",
      "2  train/test split    auc 0.8148684 0.65266116 0.65757576 0.65364238\n",
      "3  train/test split    auc 0.8099221 0.60907827 0.67758550 0.61257647\n",
      "4  train/test split    auc 0.8602564 0.67557290 0.64094619 0.64351012\n",
      "5  train/test split    auc 0.8352074 0.66046301 0.67713058 0.66103239\n",
      "6  train/test split    auc 0.8172065 0.62501677 0.61789735 0.62819612\n",
      "7  train/test split    auc 0.8317179 0.64082661 0.65639346 0.65544355\n",
      "8  train/test split    auc 0.8234839 0.64700375 0.64307229 0.64190619\n",
      "9  train/test split    auc 0.8323189 0.66911765 0.63705878 0.65482683\n",
      "10 train/test split    auc 0.8102564 0.63694246 0.66287089 0.68835227\n",
      "11 train/test split    auc 0.8005372 0.66699522 0.66710438 0.67643979\n",
      "12 train/test split    auc 0.8158992 0.65357863 0.63931074 0.61820638\n",
      "13 train/test split    auc 0.8356531 0.69886154 0.64872054 0.67177935\n",
      "14 train/test split    auc 0.8060846 0.68285217 0.69174185 0.59334961\n",
      "15 train/test split    auc 0.8133878 0.66801708 0.64943032 0.63967024\n",
      "16 train/test split  brier 0.2844481 0.05556359 0.12143752 0.12388219\n",
      "17 train/test split  brier 0.2934649 0.09215438 0.10860588 0.05878877\n",
      "18 train/test split  brier 0.2865713 0.02452126 0.10486857 0.03469800\n",
      "19 train/test split  brier 0.3900224 0.08472379 0.04961256 0.11391189\n",
      "20 train/test split  brier 0.3398572 0.10819886 0.10316673 0.07593891\n",
      "21 train/test split  brier 0.3167182 0.06823366 0.05941120 0.10711682\n",
      "22 train/test split  brier 0.3242452 0.08248647 0.02729993 0.06431872\n",
      "23 train/test split  brier 0.3116015 0.09697531 0.07592192 0.07388905\n",
      "24 train/test split  brier 0.3302353 0.13101465 0.08188982 0.11287114\n",
      "25 train/test split  brier 0.2721498 0.07861557 0.12310397 0.14111081\n",
      "26 train/test split  brier 0.2665068 0.12590434 0.10270330 0.12086137\n",
      "27 train/test split  brier 0.3170407 0.06771033 0.11509340 0.03366643\n",
      "28 train/test split  brier 0.3167721 0.16291018 0.08513793 0.10960106\n",
      "29 train/test split  brier 0.2755487 0.13811892 0.10607981 0.03426005\n",
      "30 train/test split  brier 0.2907728 0.05365302 0.10861504 0.06203196\n",
      "          svm\n",
      "1  0.64300880\n",
      "2  0.65926276\n",
      "3  0.62758876\n",
      "4  0.62748110\n",
      "5  0.65070904\n",
      "6  0.65214527\n",
      "7  0.67562399\n",
      "8  0.68598288\n",
      "9  0.62591662\n",
      "10 0.60913783\n",
      "11 0.66882591\n",
      "12 0.61624697\n",
      "13 0.64890756\n",
      "14 0.66890776\n",
      "15 0.66651634\n",
      "16 0.09954265\n",
      "17 0.08805172\n",
      "18 0.05502287\n",
      "19 0.05537767\n",
      "20 0.06110278\n",
      "21 0.07513884\n",
      "22 0.12390235\n",
      "23 0.08147094\n",
      "24 0.06799943\n",
      "25 0.02970677\n",
      "26 0.08134378\n",
      "27 0.05393401\n",
      "28 0.09887061\n",
      "29 0.11430579\n",
      "30 0.03621309\n"
     ]
    }
   ],
   "source": [
    "# ============= 15 repeated train/test split ============= \n",
    "for (model in model_vec) {\n",
    "    \n",
    "    # parallel computing\n",
    "    cl<-parallel::makeCluster(5)\n",
    "    parallel::clusterExport(cl, c(\"full_data\", \"voutcome\", \"model\"), envir = environment() )\n",
    "    \n",
    "    res <- parallel::parSapply(cl, 1:15, function(x)\n",
    "    {\n",
    "        # partition data into train and test portions\n",
    "        idx <- splitTools::partition(rep(0,nrow(full_data)), p=c(train=0.7, test=0.3), type=\"stratified\")\n",
    "        \n",
    "        # retrieve train and test data\n",
    "        train_data <- full_data[idx$train,]\n",
    "        test_data <- full_data[idx$test,]\n",
    "        \n",
    "        # build the model\n",
    "        if (model == \"lr\") {\n",
    "            best_model<-sdgm::lr.bestmodel.bin(train_data, voutcome)\n",
    "        } else if (model == \"cart\") {\n",
    "            best_model<-sdgm::cart.bestmodel.bin(train_data, voutcome)\n",
    "        } else if (model == \"rf\") {\n",
    "            best_model<-sdgm::cart.bestmodel.bin(train_data, voutcome)\n",
    "        } else if (model == \"lgbm\") {\n",
    "            best_model<-sdgm::cart.bestmodel.bin(train_data, voutcome)\n",
    "        } else if (model == \"svm\") {\n",
    "            best_model<-sdgm::cart.bestmodel.bin(train_data, voutcome)\n",
    "        }\n",
    "        \n",
    "        # predict\n",
    "        preds<-predict(best_model, test_data)\n",
    "  \n",
    "        # calculate and return AUC and brier score\n",
    "         if (!is.null(preds))\n",
    "        {\n",
    "          test_auc <- sdgm::auc(preds, test_data[,voutcome] ) \n",
    "        } else {\n",
    "          test_auc <- NA\n",
    "          print(\"AUC calculation failed because there are no predicted values\")\n",
    "        }\n",
    "        print(paste0(\"AUC on C16 Data: \", test_auc))\n",
    "        \n",
    "         if (!is.null(preds))\n",
    "        {\n",
    "          test_brier <- sdgm::brier(preds, test_data[,voutcome] ) \n",
    "        } else {\n",
    "          test_brier <- NA\n",
    "          print(\"Brier calculation failed because there are no predicted values\")\n",
    "        }\n",
    "          print(paste0(\"Brier Score on C16 Data: \", test_brier))\n",
    "\n",
    "        c(test_auc, test_brier)\n",
    "    })\n",
    "    parallel::stopCluster(cl)\n",
    "    \n",
    "    # save results of the model\n",
    "    if (model == \"lr\") {\n",
    "        auc_split$lr <- res[1,]\n",
    "        brier_split$lr <- res[2,]\n",
    "    } else if (model == \"cart\") {\n",
    "        auc_split$cart <- res[1,]\n",
    "        brier_split$cart <- res[2,]\n",
    "    } else if (model == \"rf\") {\n",
    "        auc_split$rf <- res[1,]\n",
    "        brier_split$rf <- res[2,]\n",
    "    } else if (model == \"lgbm\") {\n",
    "        auc_split$lgbm <- res[1,]\n",
    "        brier_split$lgbm <- res[2,]\n",
    "    } else if (model == \"svm\") {\n",
    "        auc_split$svm <- res[1,]\n",
    "        brier_split$svm <- res[2,]\n",
    "    }\n",
    "}\n",
    "\n",
    "# save results\n",
    "res.split.df3 <- rbind(auc_split, brier_split)\n",
    "\n",
    "# print results\n",
    "print(res.split.df3)  "
   ]
  },
  {
   "cell_type": "code",
   "execution_count": null,
   "id": "6ccdc149-5361-48d8-a22b-2e3fe5d24b82",
   "metadata": {
    "tags": []
   },
   "outputs": [],
   "source": [
    "# ============= repeated nested 5-fold CV ============= \n",
    "for (model in model_vec) {\n",
    "     \n",
    "    # parallel computing\n",
    "    cl <- parallel::makeCluster(5)\n",
    "    parallel::clusterExport(cl, c(\"full_data\", \"voutcome\", \"model\"), envir = environment())\n",
    "    \n",
    "    # this is the repeated loop\n",
    "    res <- parallel::parSapply(cl, seq(15), function(i) \n",
    "    {\n",
    "        # this is the nested CV outer loop\n",
    "        nested_res <- sapply(caret::createFolds(full_data[, voutcome], k=5), function(x) \n",
    "        {\n",
    "            testInds <- x\n",
    "            trnInds <- setdiff(1:nrow(full_data), testInds)\n",
    "            train_data <- full_data[trnInds,]\n",
    "            test_data <- full_data[testInds,]\n",
    "\n",
    "            if (model == \"lr\") {\n",
    "                best_model <- sdgm::lr.bestmodel.bin(train_data, voutcome)\n",
    "            } else if (model == \"cart\") {\n",
    "                best_model <- sdgm::cart.bestmodel.bin(train_data, voutcome)\n",
    "            } else if (model == \"rf\") {\n",
    "                best_model <- sdgm::rf.bestmodel.bin(train_data, voutcome)\n",
    "            } else if (model == \"lgbm\") {\n",
    "                best_model <- sdgm::lgbm.bestmodel.bin(train_data, voutcome)\n",
    "            } else if (model == \"svm\") {\n",
    "                best_model <- sdgm::svm.bestmodel.bin(train_data, voutcome)\n",
    "            }\n",
    "            \n",
    "            #predict\n",
    "            preds <- predict(best_model, test_data)\n",
    "            \n",
    "            # calculate and return AUC and brier score\n",
    "             if (!is.null(preds)) {\n",
    "                nested_auc <- sdgm::auc(preds, test_data[, voutcome])\n",
    "                nested_brier <- sdgm::brier(preds, test_data[, voutcome])\n",
    "            } else {\n",
    "                nested_auc <- NA\n",
    "                nested_brier <- NA\n",
    "            }\n",
    "\n",
    "            c(nested_auc, nested_brier)\n",
    "        })\n",
    "        nested_cv_auc <- mean(nested_res[1,], na.rm=T)\n",
    "        nested_cv_brier <- mean(nested_res[2,], na.rm=T)\n",
    "                               \n",
    "        c(nested_cv_auc, nested_cv_brier)\n",
    "    })\n",
    "    parallel::stopCluster(cl)\n",
    "    \n",
    "    # save results of the model\n",
    "    if (model == \"lr\") {\n",
    "        auc_cv$lr <- res[1,]\n",
    "        brier_cv$lr <- res[2,]\n",
    "    } else if (model == \"cart\") {\n",
    "        auc_cv$cart <- res[1,]\n",
    "        brier_cv$cart <- res[2,]\n",
    "    } else if (model == \"rf\") {\n",
    "        auc_cv$rf <- res[1,]\n",
    "        brier_cv$rf <- res[2,]\n",
    "    } else if (model == \"lgbm\") {\n",
    "        auc_cv$lgbm <- res[1,]\n",
    "        brier_cv$lgbm <- res[2,]\n",
    "    } else if (model == \"svm\") {\n",
    "        auc_cv$svm <- res[1,]\n",
    "        brier_cv$svm <- res[2,]\n",
    "    }\n",
    "}\n",
    "\n",
    "# save results\n",
    "res.cv.df3 <- rbind(auc_cv, brier_cv)\n",
    "\n",
    "print(res.cv.df3)"
   ]
  },
  {
   "cell_type": "code",
   "execution_count": null,
   "id": "37f212b3-679b-4002-89d5-31515df27c7f",
   "metadata": {
    "tags": []
   },
   "outputs": [],
   "source": [
    "auc.df3 <- rbind(res.split.df3 %>% filter(metric == \"auc\"), \n",
    "                 res.cv.df3 %>% filter(metric == \"auc\"))\n",
    "\n",
    "# pivot the dataframe from wide to long for plotting\n",
    "auc.df3.long <- auc.df3 %>% \n",
    "    tidyr::pivot_longer(-c(type, metric), \n",
    "                        names_to = \"model\",\n",
    "                        values_to = \"auc\")\n",
    "auc.df3.long$model <- factor(auc.df3.long$model, \n",
    "                         levels = c(\"lr\", \"cart\", \"rf\", \"lgbm\", \"svm\"))\n",
    "auc.df3.long$type <- factor(auc.df3.long$type, \n",
    "                         levels = c(\"train/test split\", \"nested cv\"))\n",
    "\n",
    "# Plot the violin plot\n",
    "ggplot(auc.df3.long, aes(model, auc, fill = model)) + \n",
    "    geom_violin(alpha = 0.5, draw_quantiles = c(0.25, 0.5, 0.75))+ \n",
    "    facet_wrap(~type)"
   ]
  },
  {
   "cell_type": "code",
   "execution_count": null,
   "id": "6ce5fc75-3965-42cc-a392-0fa8a94cb076",
   "metadata": {},
   "outputs": [],
   "source": [
    "brier.df3 <- rbind(res.split.df3 %>% filter(metric == \"brier\"), \n",
    "                   res.cv.df3 %>% filter(metric == \"brier\"))\n",
    "\n",
    "# pivot the dataframe from wide to long for plotting\n",
    "brier.df3.long <- brier.df3 %>% \n",
    "    tidyr::pivot_longer(-c(type,metric), \n",
    "                        names_to = \"model\",\n",
    "                        values_to = \"brier\")\n",
    "brier.df3.long$model <- factor(brier.df3.long$model, \n",
    "                         levels = c(\"lr\", \"cart\", \"rf\", \"lgbm\", \"svm\"))\n",
    "brier.df3.long$type <- factor(brier.df3.long$type, \n",
    "                         levels = c(\"train/test split\", \"nested cv\"))\n",
    "\n",
    "# Plot the violin plot\n",
    "ggplot(brier.df3.long, aes(model, brier, fill = model)) + \n",
    "    geom_violin(alpha = 0.5, draw_quantiles = c(0.25, 0.5, 0.75))+ \n",
    "    facet_wrap(~type)"
   ]
  },
  {
   "cell_type": "markdown",
   "id": "198f55ad-2ac2-49bc-ba82-bf63f38d3348",
   "metadata": {},
   "source": [
    "### Question 3.3: Based on the above violin plot, which model is the best one? Why?"
   ]
  },
  {
   "cell_type": "markdown",
   "id": "b9d1af04-db40-447d-b0a9-62aa10867a10",
   "metadata": {},
   "source": [
    "## Dataset 4: `sdgm::C18` EEGb Eye State\n",
    "\n",
    "For more details about this dataset, see [here](https://archive.ics.uci.edu/dataset/264/eeg+eye+state). "
   ]
  },
  {
   "cell_type": "code",
   "execution_count": 46,
   "id": "06482be8-1a67-4492-a376-f91bc17370d1",
   "metadata": {
    "tags": []
   },
   "outputs": [
    {
     "data": {
      "text/html": [
       "\n",
       "<table style=\"width: 100%;\"><tr><td>C18 {sdgm}</td><td style=\"text-align: right;\">R Documentation</td></tr></table>\n",
       "\n",
       "<h2 id='C18'>EEGb Eye State</h2>\n",
       "\n",
       "<h3>Description</h3>\n",
       "\n",
       "<p>All data is from one continuous EEG measurement with the Emotiv EEG Neuroheadset. The data set consists of 14 EEG values and a value indicating the eye state.\n",
       "Target variable: eyeDetection, 2 levels\n",
       "Classification type: binomial logistic regression\n",
       "</p>\n",
       "\n",
       "\n",
       "<h3>Usage</h3>\n",
       "\n",
       "<pre><code class='language-R'>C18\n",
       "</code></pre>\n",
       "\n",
       "\n",
       "<h3>Format</h3>\n",
       "\n",
       "<p>An object of class <code>data.frame</code> with 14980 rows and 15 columns.\n",
       "</p>\n",
       "\n",
       "\n",
       "<h3>Source</h3>\n",
       "\n",
       "<p><a href=\"https://jmir.org/api/download?alt_name=medinform_v10i4e35734_app1.pdf&amp;filename=04ce0b2aec244210e4503631ee243fd0.pdf\">JMIR Article</a>\n",
       "</p>\n",
       "\n",
       "\n",
       "<h3>Examples</h3>\n",
       "\n",
       "<pre><code class='language-R'>data = sdgd::C18\n",
       "data$eyeDetection = as.factor(data$eyeDetection)\n",
       "glm(eyeDetection~., data = data, family = 'binomial')\n",
       "\n",
       "</code></pre>\n",
       "\n",
       "<hr /><div style=\"text-align: center;\">[Package <em>sdgm</em> version 0.39 ]</div>\n",
       "</div>"
      ],
      "text/latex": [
       "\\inputencoding{utf8}\n",
       "\\HeaderA{C18}{EEGb Eye State}{C18}\n",
       "\\keyword{datasets}{C18}\n",
       "%\n",
       "\\begin{Description}\n",
       "All data is from one continuous EEG measurement with the Emotiv EEG Neuroheadset. The data set consists of 14 EEG values and a value indicating the eye state.\n",
       "Target variable: eyeDetection, 2 levels\n",
       "Classification type: binomial logistic regression\n",
       "\\end{Description}\n",
       "%\n",
       "\\begin{Usage}\n",
       "\\begin{verbatim}\n",
       "C18\n",
       "\\end{verbatim}\n",
       "\\end{Usage}\n",
       "%\n",
       "\\begin{Format}\n",
       "An object of class \\code{data.frame} with 14980 rows and 15 columns.\n",
       "\\end{Format}\n",
       "%\n",
       "\\begin{Source}\n",
       "\\Rhref{https://jmir.org/api/download?alt_name=medinform_v10i4e35734_app1.pdf\\&filename=04ce0b2aec244210e4503631ee243fd0.pdf}{JMIR Article}\n",
       "\\end{Source}\n",
       "%\n",
       "\\begin{Examples}\n",
       "\\begin{ExampleCode}\n",
       "data = sdgd::C18\n",
       "data$eyeDetection = as.factor(data$eyeDetection)\n",
       "glm(eyeDetection~., data = data, family = 'binomial')\n",
       "\n",
       "\\end{ExampleCode}\n",
       "\\end{Examples}"
      ],
      "text/plain": [
       "C18                    package:sdgm                    R Documentation\n",
       "\n",
       "_\bE_\bE_\bG_\bb _\bE_\by_\be _\bS_\bt_\ba_\bt_\be\n",
       "\n",
       "_\bD_\be_\bs_\bc_\br_\bi_\bp_\bt_\bi_\bo_\bn:\n",
       "\n",
       "     All data is from one continuous EEG measurement with the Emotiv\n",
       "     EEG Neuroheadset. The data set consists of 14 EEG values and a\n",
       "     value indicating the eye state. Target variable: eyeDetection, 2\n",
       "     levels Classification type: binomial logistic regression\n",
       "\n",
       "_\bU_\bs_\ba_\bg_\be:\n",
       "\n",
       "     C18\n",
       "     \n",
       "_\bF_\bo_\br_\bm_\ba_\bt:\n",
       "\n",
       "     An object of class ‘data.frame’ with 14980 rows and 15 columns.\n",
       "\n",
       "_\bS_\bo_\bu_\br_\bc_\be:\n",
       "\n",
       "     JMIR Article\n",
       "\n",
       "_\bE_\bx_\ba_\bm_\bp_\bl_\be_\bs:\n",
       "\n",
       "     data = sdgd::C18\n",
       "     data$eyeDetection = as.factor(data$eyeDetection)\n",
       "     glm(eyeDetection~., data = data, family = 'binomial')\n",
       "     "
      ]
     },
     "metadata": {},
     "output_type": "display_data"
    }
   ],
   "source": [
    "# show the description of this dataset\n",
    "?sdgm::C18"
   ]
  },
  {
   "cell_type": "code",
   "execution_count": null,
   "id": "81456abb-f655-46ac-b4e7-b363199f816a",
   "metadata": {
    "tags": []
   },
   "outputs": [],
   "source": [
    "# first glance of the dataset\n",
    "# Considering the sample size, we will sample 10% of it for this assignment.\n",
    "full_data <- sdgm::C18 %>% slice_sample(prop=0.1)\n",
    "head(full_data)\n",
    "dim(full_data)"
   ]
  },
  {
   "cell_type": "code",
   "execution_count": null,
   "id": "55ec5aff-035b-4b05-a2bf-46f12da110fa",
   "metadata": {
    "tags": []
   },
   "outputs": [],
   "source": [
    "# Convert characters to numbers. Note because of the special format in the data, `as.numeric` doesn't work here.\n",
    "# The code below is to extract numbers from strings\n",
    "full_data$eyeDetection <- as.numeric(gsub(\"\\\\D\", \"\", full_data$eyeDetection))"
   ]
  },
  {
   "cell_type": "code",
   "execution_count": null,
   "id": "1f12d175-5486-4fa6-a14a-a5f949303d98",
   "metadata": {
    "tags": []
   },
   "outputs": [],
   "source": [
    "# Check the data now\n",
    "summary(full_data)\n",
    "\n",
    "# Check the outcome variable\n",
    "table(full_data$eyeDetection)"
   ]
  },
  {
   "cell_type": "markdown",
   "id": "c51fd599-61af-4462-a59b-3453dccbdfce",
   "metadata": {
    "tags": []
   },
   "source": [
    "### Question 4.1: Based on what you have learnt about the dataset, is there anything should be done to prepare the data?\n",
    "\n",
    "**Hint 1:** Are all the variables in the correct variable type?\n",
    "\n",
    "**Hint 2 (Important!):** As per some models' requirement, the outcome variable has to be a numeric variable between 0 and 1.\n",
    "\n",
    "***Note:*** Some datasets need a bit of data preparation and some don't. If you think this one needs to be prepared, choose \"yes\" and add your code in the below cell. Otherwise, choose \"no\" and leave the below cell unchanged.\n",
    "\n",
    "Your answer: no"
   ]
  },
  {
   "cell_type": "code",
   "execution_count": null,
   "id": "e673af67-c430-468d-818a-88c4ce6e6456",
   "metadata": {
    "tags": []
   },
   "outputs": [],
   "source": [
    "# The data preparation step if needed\n",
    "\n",
    "# Check the data now\n",
    "summary(full_data)"
   ]
  },
  {
   "cell_type": "markdown",
   "id": "a05f66de-e725-4f59-b001-386faf66c4e1",
   "metadata": {},
   "source": [
    "### Question 4.2: Build five different models and evaluate them"
   ]
  },
  {
   "cell_type": "code",
   "execution_count": null,
   "id": "54e7164a-bd3e-46e9-b3d2-72ac5f716462",
   "metadata": {},
   "outputs": [],
   "source": [
    "# define the outcome variable\n",
    "voutcome <- Your answer"
   ]
  },
  {
   "cell_type": "markdown",
   "id": "d4ed7bc6-7454-4105-adc7-949820e8077a",
   "metadata": {},
   "source": [
    "Based on what you have done for Dataset 1, complete the below cells of this dataset. Remember to use parallel computing."
   ]
  },
  {
   "cell_type": "code",
   "execution_count": null,
   "id": "80dc6b0b-2ec1-4192-8cac-18732ab71a73",
   "metadata": {},
   "outputs": [],
   "source": [
    "# ============= 15 repeated train/test split ============= \n",
    "for (model in model_vec) {\n",
    "    Your answer\n",
    "}\n",
    "\n",
    "# save results\n",
    "res.split.df4 <- rbind(auc_split, brier_split)\n",
    "\n",
    "# print results\n",
    "print(res.split.df4)  "
   ]
  },
  {
   "cell_type": "code",
   "execution_count": null,
   "id": "1fa2d5cb-4e58-4f71-b5d3-f9edddf0e473",
   "metadata": {
    "tags": []
   },
   "outputs": [],
   "source": [
    "# ============= repeated nested 5-fold CV ============= \n",
    "for (model in model_vec) {\n",
    "    Your answer\n",
    "}\n",
    "\n",
    "# save results\n",
    "res.cv.df4 <- rbind(auc_cv, brier_cv)\n",
    "\n",
    "print(res.cv.df4)"
   ]
  },
  {
   "cell_type": "code",
   "execution_count": null,
   "id": "f57c3c6a-ab76-47e4-b852-c7019e766dda",
   "metadata": {
    "tags": []
   },
   "outputs": [],
   "source": [
    "auc.df4 <- rbind(res.split.df4 %>% filter(metric == \"auc\"), \n",
    "                 res.cv.df4 %>% filter(metric == \"auc\"))\n",
    "\n",
    "# pivot the dataframe from wide to long for plotting\n",
    "auc.df4.long <- auc.df4 %>% \n",
    "    tidyr::pivot_longer(-c(type, metric), \n",
    "                        names_to = \"model\",\n",
    "                        values_to = \"auc\")\n",
    "auc.df4.long$model <- factor(auc.df4.long$model, \n",
    "                         levels = c(\"lr\", \"cart\", \"rf\", \"lgbm\", \"svm\"))\n",
    "auc.df4.long$type <- factor(auc.df4.long$type, \n",
    "                         levels = c(\"train/test split\", \"nested cv\"))\n",
    "\n",
    "# Plot the violin plot\n",
    "ggplot(auc.df4.long, aes(model, auc, fill = model)) + \n",
    "    geom_violin(alpha = 0.5, draw_quantiles = c(0.25, 0.5, 0.75))+ \n",
    "    facet_wrap(~type)"
   ]
  },
  {
   "cell_type": "code",
   "execution_count": null,
   "id": "ccd92b48-c336-4f55-86f0-80f55c88931e",
   "metadata": {},
   "outputs": [],
   "source": [
    "brier.df4 <- rbind(res.split.df4 %>% filter(metric == \"brier\"), \n",
    "                   res.cv.df4 %>% filter(metric == \"brier\"))\n",
    "\n",
    "# pivot the dataframe from wide to long for plotting\n",
    "brier.df4.long <- brier.df4 %>% \n",
    "    tidyr::pivot_longer(-c(type,metric), \n",
    "                        names_to = \"model\",\n",
    "                        values_to = \"brier\")\n",
    "brier.df4.long$model <- factor(brier.df4.long$model, \n",
    "                         levels = c(\"lr\", \"cart\", \"rf\", \"lgbm\", \"svm\"))\n",
    "brier.df4.long$type <- factor(brier.df4.long$type, \n",
    "                         levels = c(\"train/test split\", \"nested cv\"))\n",
    "\n",
    "# Plot the violin plot\n",
    "ggplot(brier.df4.long, aes(model, brier, fill = model)) + \n",
    "    geom_violin(alpha = 0.5, draw_quantiles = c(0.25, 0.5, 0.75))+ \n",
    "    facet_wrap(~type)"
   ]
  },
  {
   "cell_type": "markdown",
   "id": "45014114-a1ce-4867-8baa-1d6fb5f4e083",
   "metadata": {},
   "source": [
    "### Question 4.3: Based on the above violin plot, which model is the best one? Why?"
   ]
  },
  {
   "cell_type": "markdown",
   "id": "44ce61f4-735c-4eed-8bf5-8a7133faa564",
   "metadata": {},
   "source": [
    "## Dataset 5: `sdgm::C23` Stroke\n",
    "\n",
    "For more details about this dataset, see [here](https://www.kaggle.com/datasets/fedesoriano/stroke-prediction-dataset/data)"
   ]
  },
  {
   "cell_type": "code",
   "execution_count": null,
   "id": "a6f9c03f-8f4e-45ae-bb66-0786e361724f",
   "metadata": {
    "tags": []
   },
   "outputs": [],
   "source": [
    "# show the description of this dataset\n",
    "?sdgm::C23"
   ]
  },
  {
   "cell_type": "code",
   "execution_count": null,
   "id": "53903f79-47da-41a4-9131-4337af8e7084",
   "metadata": {
    "tags": []
   },
   "outputs": [],
   "source": [
    "# first glance of the dataset\n",
    "# Considering the sample size, we will sample 10% of it for this assignment.\n",
    "full_data <- sdgm::C23 %>% slice_sample(prop=0.1)\n",
    "head(full_data)\n",
    "dim(full_data)"
   ]
  },
  {
   "cell_type": "code",
   "execution_count": null,
   "id": "33037e68-5a3a-4bc0-bee3-11bc3badd766",
   "metadata": {
    "tags": []
   },
   "outputs": [],
   "source": [
    "# Convert characters to numbers. Note because of the special format in the data, `as.numeric` doesn't work here.\n",
    "# The code below is to extract numbers from strings\n",
    "full_data$hypertension <- as.numeric(gsub(\"\\\\D\", \"\", full_data$hypertension))\n",
    "full_data$heart_disease <- as.numeric(gsub(\"\\\\D\", \"\", full_data$heart_disease))\n",
    "full_data$stroke <- as.numeric(gsub(\"\\\\D\", \"\", full_data$stroke))"
   ]
  },
  {
   "cell_type": "code",
   "execution_count": null,
   "id": "2b48d68f-77cd-403a-9c89-ef988b103bc4",
   "metadata": {
    "tags": []
   },
   "outputs": [],
   "source": [
    "# Check the data now\n",
    "summary(full_data)\n",
    "\n",
    "# Check the outcome variable\n",
    "table(full_data$stroke)"
   ]
  },
  {
   "cell_type": "markdown",
   "id": "b349d020-4646-4495-97c5-dc1a3db2bd78",
   "metadata": {
    "tags": []
   },
   "source": [
    "### Question 5.1: Based on what you have learnt about the dataset, is there anything should be done to prepare the data?\n",
    "\n",
    "**Hint 1:** Are all the variables in the correct variable type?\n",
    "\n",
    "**Hint 2 (Important!):** As per some models' requirement, the outcome variable has to be a numeric variable between 0 and 1.\n",
    "\n",
    "***Note:*** Some datasets need a bit of data preparation and some don't. If you think this one needs to be prepared, choose \"yes\" and add your code in the below cell. Otherwise, choose \"no\" and leave the below cell unchanged.\n",
    "\n",
    "Your answer: yes or no? (choose one by deleting the other)"
   ]
  },
  {
   "cell_type": "code",
   "execution_count": null,
   "id": "03b65544-4082-47fe-9c2f-8aea71cd3eb3",
   "metadata": {
    "tags": []
   },
   "outputs": [],
   "source": [
    "# The data preparation step if needed\n",
    "\n",
    "# Check the data now\n",
    "summary(full_data)"
   ]
  },
  {
   "cell_type": "markdown",
   "id": "253e8f72-d995-4302-861f-7b193d11f792",
   "metadata": {},
   "source": [
    "### Question 5.2: Build five different models and evaluate them"
   ]
  },
  {
   "cell_type": "code",
   "execution_count": null,
   "id": "30d5a773-9ca2-4464-aba2-d7ca123b08fa",
   "metadata": {},
   "outputs": [],
   "source": [
    "# define the outcome variable\n",
    "voutcome <- Your answer"
   ]
  },
  {
   "cell_type": "markdown",
   "id": "b42ce359-be4b-464b-a617-81d7464efa42",
   "metadata": {},
   "source": [
    "Based on what you have done for Dataset 1, complete the below cells of this dataset. Remember to use parallel computing."
   ]
  },
  {
   "cell_type": "code",
   "execution_count": null,
   "id": "fe08fef2-6d6d-44ee-9bd6-0e33063b3a55",
   "metadata": {},
   "outputs": [],
   "source": [
    "# ============= 15 repeated train/test split ============= \n",
    "for (model in model_vec) {\n",
    "    Your answer\n",
    "}\n",
    "\n",
    "# save results\n",
    "res.split.df5 <- rbind(auc_split, brier_split)\n",
    "\n",
    "# print results\n",
    "print(res.split.df5)  "
   ]
  },
  {
   "cell_type": "code",
   "execution_count": null,
   "id": "152af977-1cb7-4e36-ad6f-bae2365d3a74",
   "metadata": {
    "tags": []
   },
   "outputs": [],
   "source": [
    "# ============= repeated nested 5-fold CV ============= \n",
    "for (model in model_vec) {\n",
    "    Your answer\n",
    "}\n",
    "\n",
    "# save results\n",
    "res.cv.df5 <- rbind(auc_cv, brier_cv)\n",
    "\n",
    "print(res.cv.df5)"
   ]
  },
  {
   "cell_type": "code",
   "execution_count": null,
   "id": "4ffdccec-d36b-488e-8662-576b1ab8f7c8",
   "metadata": {
    "tags": []
   },
   "outputs": [],
   "source": [
    "auc.df5 <- rbind(res.split.df5 %>% filter(metric == \"auc\"), \n",
    "                 res.cv.df5 %>% filter(metric == \"auc\"))\n",
    "\n",
    "# pivot the dataframe from wide to long for plotting\n",
    "auc.df5.long <- auc.df5 %>% \n",
    "    tidyr::pivot_longer(-c(type, metric), \n",
    "                        names_to = \"model\",\n",
    "                        values_to = \"auc\")\n",
    "auc.df5.long$model <- factor(auc.df5.long$model, \n",
    "                         levels = c(\"lr\", \"cart\", \"rf\", \"lgbm\", \"svm\"))\n",
    "auc.df5.long$type <- factor(auc.df5.long$type, \n",
    "                         levels = c(\"train/test split\", \"nested cv\"))\n",
    "\n",
    "# Plot the violin plot\n",
    "ggplot(auc.df5.long, aes(model, auc, fill = model)) + \n",
    "    geom_violin(alpha = 0.5, draw_quantiles = c(0.25, 0.5, 0.75))+ \n",
    "    facet_wrap(~type)"
   ]
  },
  {
   "cell_type": "code",
   "execution_count": null,
   "id": "d294fe73-55f3-43f3-841e-09b8299a0bd3",
   "metadata": {},
   "outputs": [],
   "source": [
    "brier.df5 <- rbind(res.split.df5 %>% filter(metric == \"brier\"), \n",
    "                   res.cv.df5 %>% filter(metric == \"brier\"))\n",
    "\n",
    "# pivot the dataframe from wide to long for plotting\n",
    "brier.df5.long <- brier.df5 %>% \n",
    "    tidyr::pivot_longer(-c(type,metric), \n",
    "                        names_to = \"model\",\n",
    "                        values_to = \"brier\")\n",
    "brier.df5.long$model <- factor(brier.df5.long$model, \n",
    "                         levels = c(\"lr\", \"cart\", \"rf\", \"lgbm\", \"svm\"))\n",
    "brier.df5.long$type <- factor(brier.df5.long$type, \n",
    "                         levels = c(\"train/test split\", \"nested cv\"))\n",
    "\n",
    "# Plot the violin plot\n",
    "ggplot(brier.df5.long, aes(model, brier, fill = model)) + \n",
    "    geom_violin(alpha = 0.5, draw_quantiles = c(0.25, 0.5, 0.75))+ \n",
    "    facet_wrap(~type)"
   ]
  },
  {
   "cell_type": "markdown",
   "id": "ffa39849-26e9-45b8-af3a-44329e11bf8e",
   "metadata": {},
   "source": [
    "### Question 5.3: Based on the above violin plot, which model is the best one? Why?"
   ]
  },
  {
   "cell_type": "markdown",
   "id": "4f75f4c6-42be-49ae-bf40-0380ad0edcee",
   "metadata": {},
   "source": [
    "## Dataset 6: `sdgm::C27` Titanic\n",
    "\n",
    "For more details about this dataset, see [here](https://www.kaggle.com/competitions/titanic/data)"
   ]
  },
  {
   "cell_type": "code",
   "execution_count": null,
   "id": "7cb1a55c-64cb-43c6-beef-79893d4845b0",
   "metadata": {
    "tags": []
   },
   "outputs": [],
   "source": [
    "# show the description of this dataset\n",
    "?sdgm::C27"
   ]
  },
  {
   "cell_type": "code",
   "execution_count": null,
   "id": "b2855fb3-b4bd-4ee0-8896-84eb2dd03264",
   "metadata": {
    "tags": []
   },
   "outputs": [],
   "source": [
    "# first glance of the dataset\n",
    "full_data <- sdgm::C27\n",
    "head(full_data)\n",
    "dim(full_data)"
   ]
  },
  {
   "cell_type": "code",
   "execution_count": null,
   "id": "86b4cdae-c6ab-4943-8b5c-afffb72f1419",
   "metadata": {
    "tags": []
   },
   "outputs": [],
   "source": [
    "# Convert characters to numbers. Note because of the special format in the data, `as.numeric` doesn't work here.\n",
    "# The code below is to extract numbers from strings\n",
    "full_data$Survived <- as.numeric(gsub(\"\\\\D\", \"\", full_data$Survived))\n",
    "full_data$Pclass <- as.numeric(gsub(\"\\\\D\", \"\", full_data$Pclass))\n",
    "full_data$SibSp <- as.numeric(gsub(\"\\\\D\", \"\", full_data$SibSp))\n",
    "full_data$Parch <- as.numeric(gsub(\"\\\\D\", \"\", full_data$Parch))"
   ]
  },
  {
   "cell_type": "code",
   "execution_count": null,
   "id": "7963af0e-e396-47eb-919b-2e4bc9150064",
   "metadata": {
    "tags": []
   },
   "outputs": [],
   "source": [
    "# Check the data now\n",
    "summary(full_data)\n",
    "head(full_data)"
   ]
  },
  {
   "cell_type": "markdown",
   "id": "7248190a-0029-47cb-8f8c-ee0ab9cf85cc",
   "metadata": {
    "tags": []
   },
   "source": [
    "### Question 6.1: Based on what you have learnt about the dataset, is there anything should be done to prepare the data?\n",
    "\n",
    "**Hint 1:** Are all the variables in the correct variable type?\n",
    "\n",
    "**Hint 2 (Important!):** As per some models' requirement, the outcome variable has to be a numeric variable between 0 and 1.\n",
    "\n",
    "***Note:*** Some datasets need a bit of data preparation and some don't. If you think this one needs to be prepared, choose \"yes\" and add your code in the below cell. Otherwise, choose \"no\" and leave the below cell unchanged.\n",
    "\n",
    "Your answer: yes or no? (choose one by deleting the other)"
   ]
  },
  {
   "cell_type": "code",
   "execution_count": null,
   "id": "0f7bde02-1d09-4b5e-9f8d-c7fb97cb7b9b",
   "metadata": {
    "tags": []
   },
   "outputs": [],
   "source": [
    "# The data preparation step if needed\n",
    "\n",
    "# Check the data now\n",
    "summary(full_data)"
   ]
  },
  {
   "cell_type": "markdown",
   "id": "79f16c86-1f86-4c56-9315-884455d5c450",
   "metadata": {},
   "source": [
    "### Question 6.2: Build five different models and evaluate them"
   ]
  },
  {
   "cell_type": "code",
   "execution_count": null,
   "id": "f9186c18-c5ce-49e1-a929-846e16a00f4b",
   "metadata": {},
   "outputs": [],
   "source": [
    "# define the outcome variable\n",
    "voutcome <- Your answer"
   ]
  },
  {
   "cell_type": "markdown",
   "id": "c81cb77f-d2a3-47de-bc20-faa00b05daab",
   "metadata": {},
   "source": [
    "Based on what you have done for Dataset 1, complete the below cells of this dataset. Remember to use parallel computing."
   ]
  },
  {
   "cell_type": "code",
   "execution_count": null,
   "id": "67150010-4926-427b-9ab8-6b5c1c02c4ab",
   "metadata": {},
   "outputs": [],
   "source": [
    "# ============= 15 repeated train/test split ============= \n",
    "for (model in model_vec) {\n",
    "    Your answer\n",
    "}\n",
    "\n",
    "# save results\n",
    "res.split.df6 <- rbind(auc_split, brier_split)\n",
    "\n",
    "# print results\n",
    "print(res.split.df6)  "
   ]
  },
  {
   "cell_type": "code",
   "execution_count": null,
   "id": "832c3fd8-1172-4f16-a776-08535f7c520a",
   "metadata": {
    "tags": []
   },
   "outputs": [],
   "source": [
    "# ============= repeated nested 5-fold CV ============= \n",
    "for (model in model_vec) {\n",
    "    Your answer\n",
    "}\n",
    "\n",
    "# save results\n",
    "res.cv.df6 <- rbind(auc_cv, brier_cv)\n",
    "\n",
    "print(res.cv.df6)"
   ]
  },
  {
   "cell_type": "code",
   "execution_count": null,
   "id": "64004813-8875-4c5d-89ea-e8d20cb07a4d",
   "metadata": {
    "tags": []
   },
   "outputs": [],
   "source": [
    "auc.df6 <- rbind(res.split.df6 %>% filter(metric == \"auc\"), \n",
    "                 res.cv.df6 %>% filter(metric == \"auc\"))\n",
    "\n",
    "# pivot the dataframe from wide to long for plotting\n",
    "auc.df6.long <- auc.df6 %>% \n",
    "    tidyr::pivot_longer(-c(type, metric), \n",
    "                        names_to = \"model\",\n",
    "                        values_to = \"auc\")\n",
    "auc.df6.long$model <- factor(auc.df6.long$model, \n",
    "                         levels = c(\"lr\", \"cart\", \"rf\", \"lgbm\", \"svm\"))\n",
    "auc.df6.long$type <- factor(auc.df6.long$type, \n",
    "                         levels = c(\"train/test split\", \"nested cv\"))\n",
    "\n",
    "# Plot the violin plot\n",
    "ggplot(auc.df6.long, aes(model, auc, fill = model)) + \n",
    "    geom_violin(alpha = 0.5, draw_quantiles = c(0.25, 0.5, 0.75))+ \n",
    "    facet_wrap(~type)"
   ]
  },
  {
   "cell_type": "code",
   "execution_count": null,
   "id": "4b375db9-0bd1-42f5-800c-4bf1d49d011d",
   "metadata": {},
   "outputs": [],
   "source": [
    "brier.df6 <- rbind(res.split.df6 %>% filter(metric == \"brier\"), \n",
    "                   res.cv.df6 %>% filter(metric == \"brier\"))\n",
    "\n",
    "# pivot the dataframe from wide to long for plotting\n",
    "brier.df6.long <- brier.df6 %>% \n",
    "    tidyr::pivot_longer(-c(type,metric), \n",
    "                        names_to = \"model\",\n",
    "                        values_to = \"brier\")\n",
    "brier.df6.long$model <- factor(brier.df6.long$model, \n",
    "                         levels = c(\"lr\", \"cart\", \"rf\", \"lgbm\", \"svm\"))\n",
    "brier.df6.long$type <- factor(brier.df6.long$type, \n",
    "                         levels = c(\"train/test split\", \"nested cv\"))\n",
    "\n",
    "# Plot the violin plot\n",
    "ggplot(brier.df6.long, aes(model, brier, fill = model)) + \n",
    "    geom_violin(alpha = 0.5, draw_quantiles = c(0.25, 0.5, 0.75))+ \n",
    "    facet_wrap(~type)"
   ]
  },
  {
   "cell_type": "markdown",
   "id": "e60cce83-83b7-4c63-a12f-f968e7990124",
   "metadata": {},
   "source": [
    "### Question 6.3: Based on the above violin plot, which model is the best one? Why?"
   ]
  },
  {
   "cell_type": "markdown",
   "id": "4b67dd95-6a5c-4346-bf8d-a62bf96901d1",
   "metadata": {},
   "source": [
    "## Question 7: After working with all the datasets, which models are the best ones across the board? Why?"
   ]
  },
  {
   "cell_type": "markdown",
   "id": "74b9093e-6c79-422d-86ae-93ab8a36c9a2",
   "metadata": {},
   "source": [
    "## Question 8 (bonus): Are you able to make the code more compact to reduce the repetition?\n",
    "\n",
    "Hint: Can you convert the repetitive parts into functions with the appropriate parameters passed to them?"
   ]
  },
  {
   "cell_type": "markdown",
   "id": "99c5eb24-3bb3-4136-956f-9974c73ebd04",
   "metadata": {
    "tags": []
   },
   "source": [
    "# Congratulation! You have completed the Assignment 2!"
   ]
  }
 ],
 "metadata": {
  "kernelspec": {
   "display_name": "R",
   "language": "R",
   "name": "ir"
  },
  "language_info": {
   "codemirror_mode": "r",
   "file_extension": ".r",
   "mimetype": "text/x-r-source",
   "name": "R",
   "pygments_lexer": "r",
   "version": "4.3.1"
  }
 },
 "nbformat": 4,
 "nbformat_minor": 5
}
